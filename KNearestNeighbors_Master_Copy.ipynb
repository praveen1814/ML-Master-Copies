{
 "cells": [
  {
   "cell_type": "markdown",
   "metadata": {},
   "source": [
    "# K-Nearest Neighbours Classification"
   ]
  },
  {
   "cell_type": "markdown",
   "metadata": {},
   "source": [
    "## K nearest neighbors\n",
    "\t\t\n",
    "K nearest neighbors is a simple algorithm that stores all available cases and classifies new cases based on a similarity measure (e.g., distance functions).\n",
    "\n",
    "Algorithm: \n",
    "A case is classified by a majority vote of its neighbors, with the case being assigned to the class most common amongst its K nearest neighbors measured by a distance function."
   ]
  },
  {
   "cell_type": "markdown",
   "metadata": {
    "nbgrader": {
     "grade": false,
     "grade_id": "PS",
     "locked": true,
     "schema_version": 3,
     "solution": false,
     "task": false
    }
   },
   "source": [
    "## Classification - Personal Loan Dataset\n",
    "\n",
    "This case is about a bank which has a growing customer base. Majority of these customers are liability customers (depositors) with varying size of deposits. The number of customers who are also borrowers (asset customers) is quite small, and the bank is interested in expanding this base rapidly to bring in more loan business and in the process, earn more through the interest on loans. \n",
    "\n",
    "In particular, the management wants to explore ways of converting its liability customers to personal loan customers (while retaining them as depositors). A campaign that the bank ran last year for liability customers showed a healthy conversion rate of over 9% success. This has encouraged the retail marketing department to devise campaigns to better target marketing to increase the success ratio with a minimal budget.\n",
    "\n",
    "The department wants to build a model that will help them identify the potential customers who have a higher probability of purchasing the loan. This will increase the success ratio while at the same time reduce the cost of the campaign.\n",
    "\n",
    "**Dataset Description**:\n",
    "\n",
    "| Feature | Description |\n",
    "| --- | --- |\n",
    "| ID | Customer ID |\n",
    "| Age | Customer's age in completed years |\n",
    "| Experience | # years of professional experience |\n",
    "| Income | Annual income of the customer (In 1,000 dollars) |\n",
    "| ZIPcode | Home address ZIP code |\n",
    "| Family | Family size of the customer |\n",
    "| CCAvg | Average monthly spending on credit cards (In 1,000 dollars) |\n",
    "| Education | Education level: 1: undergrad; 2: Graduate; 3: Advance/Professional |\n",
    "| Mortgage | Mortgage Value of house mortgage if any. (In 1,000 dollars) |\n",
    "| Securities Acct | Does the customer have a securities account with the bank? |\n",
    "| CD Account | Does the customer have a certifcate of deposit (CD) account with the bank? |\n",
    "| Online | Does the customer use internet bank facilities? |\n",
    "| CreditCard | Does the customer use a credit card issued by the UniversalBank? |\n",
    "| **Personal loan** | **Did this customer accept the personal loan offered in he last campaign? 1: yes; 0: no (target variable)** | \n",
    "\n",
    "**The classification goal is to predict if the client will subscribe (yes/no) a term loan (variable y).**\n",
    "___\n",
    "\n",
    "The dataset is available at the path `datasets` from the current directory."
   ]
  },
  {
   "cell_type": "markdown",
   "metadata": {},
   "source": [
    "#### Import all the required packages and classes"
   ]
  },
  {
   "cell_type": "code",
   "execution_count": 2,
   "metadata": {},
   "outputs": [],
   "source": [
    "import math\n",
    "import numpy as np\n",
    "import pandas as pd\n",
    "\n",
    "from sklearn.neighbors import KNeighborsClassifier\n",
    "from sklearn.linear_model import LogisticRegression\n",
    "\n",
    "import matplotlib.pyplot as plt\n",
    "\n",
    "from sklearn.preprocessing import StandardScaler\n",
    "\n",
    "from sklearn.impute import SimpleImputer\n",
    "\n",
    "from sklearn.metrics import confusion_matrix\n",
    "from sklearn.metrics import classification_report\n",
    "from sklearn.metrics import accuracy_score,recall_score,precision_score,f1_score \n",
    "\n",
    "\n",
    "from imblearn.under_sampling import CondensedNearestNeighbour\n",
    "\n",
    "\n",
    "from sklearn.model_selection import train_test_split\n",
    "from sklearn.model_selection import GridSearchCV, cross_val_score\n",
    "\n",
    "import warnings\n",
    "warnings.filterwarnings('ignore')"
   ]
  },
  {
   "cell_type": "markdown",
   "metadata": {},
   "source": [
    "!pip install imblearn"
   ]
  },
  {
   "cell_type": "markdown",
   "metadata": {},
   "source": [
    "#### Read the data"
   ]
  },
  {
   "cell_type": "code",
   "execution_count": 3,
   "metadata": {},
   "outputs": [],
   "source": [
    "univbank = pd.read_csv(\"UnivBank.csv\",na_values=[\"?\",\"#\"])"
   ]
  },
  {
   "cell_type": "code",
   "execution_count": 4,
   "metadata": {
    "scrolled": true
   },
   "outputs": [
    {
     "name": "stdout",
     "output_type": "stream",
     "text": [
      "Dataset has 5000 rows, and 14 columns\n"
     ]
    }
   ],
   "source": [
    "print('Dataset has ' + str(univbank.shape[0]) + ' rows, and ' + str(univbank.shape[1]) + ' columns')"
   ]
  },
  {
   "cell_type": "markdown",
   "metadata": {},
   "source": [
    "#### Display the first 5 records"
   ]
  },
  {
   "cell_type": "code",
   "execution_count": 5,
   "metadata": {
    "scrolled": true
   },
   "outputs": [
    {
     "data": {
      "text/html": [
       "<div>\n",
       "<style scoped>\n",
       "    .dataframe tbody tr th:only-of-type {\n",
       "        vertical-align: middle;\n",
       "    }\n",
       "\n",
       "    .dataframe tbody tr th {\n",
       "        vertical-align: top;\n",
       "    }\n",
       "\n",
       "    .dataframe thead th {\n",
       "        text-align: right;\n",
       "    }\n",
       "</style>\n",
       "<table border=\"1\" class=\"dataframe\">\n",
       "  <thead>\n",
       "    <tr style=\"text-align: right;\">\n",
       "      <th></th>\n",
       "      <th>ID</th>\n",
       "      <th>Age</th>\n",
       "      <th>Experience</th>\n",
       "      <th>Income</th>\n",
       "      <th>ZIP Code</th>\n",
       "      <th>Family</th>\n",
       "      <th>CCAvg</th>\n",
       "      <th>Education</th>\n",
       "      <th>Mortgage</th>\n",
       "      <th>Personal Loan</th>\n",
       "      <th>Securities Account</th>\n",
       "      <th>CD Account</th>\n",
       "      <th>Online</th>\n",
       "      <th>CreditCard</th>\n",
       "    </tr>\n",
       "  </thead>\n",
       "  <tbody>\n",
       "    <tr>\n",
       "      <th>0</th>\n",
       "      <td>1</td>\n",
       "      <td>25</td>\n",
       "      <td>1</td>\n",
       "      <td>49</td>\n",
       "      <td>91107</td>\n",
       "      <td>4</td>\n",
       "      <td>1.6</td>\n",
       "      <td>1</td>\n",
       "      <td>0.0</td>\n",
       "      <td>0</td>\n",
       "      <td>1.0</td>\n",
       "      <td>0.0</td>\n",
       "      <td>0</td>\n",
       "      <td>0</td>\n",
       "    </tr>\n",
       "    <tr>\n",
       "      <th>1</th>\n",
       "      <td>2</td>\n",
       "      <td>45</td>\n",
       "      <td>19</td>\n",
       "      <td>34</td>\n",
       "      <td>90089</td>\n",
       "      <td>3</td>\n",
       "      <td>1.5</td>\n",
       "      <td>1</td>\n",
       "      <td>0.0</td>\n",
       "      <td>0</td>\n",
       "      <td>1.0</td>\n",
       "      <td>0.0</td>\n",
       "      <td>0</td>\n",
       "      <td>0</td>\n",
       "    </tr>\n",
       "    <tr>\n",
       "      <th>2</th>\n",
       "      <td>3</td>\n",
       "      <td>39</td>\n",
       "      <td>15</td>\n",
       "      <td>11</td>\n",
       "      <td>94720</td>\n",
       "      <td>1</td>\n",
       "      <td>1.0</td>\n",
       "      <td>1</td>\n",
       "      <td>0.0</td>\n",
       "      <td>0</td>\n",
       "      <td>0.0</td>\n",
       "      <td>0.0</td>\n",
       "      <td>0</td>\n",
       "      <td>0</td>\n",
       "    </tr>\n",
       "    <tr>\n",
       "      <th>3</th>\n",
       "      <td>4</td>\n",
       "      <td>35</td>\n",
       "      <td>9</td>\n",
       "      <td>100</td>\n",
       "      <td>94112</td>\n",
       "      <td>1</td>\n",
       "      <td>2.7</td>\n",
       "      <td>2</td>\n",
       "      <td>0.0</td>\n",
       "      <td>0</td>\n",
       "      <td>0.0</td>\n",
       "      <td>NaN</td>\n",
       "      <td>0</td>\n",
       "      <td>0</td>\n",
       "    </tr>\n",
       "    <tr>\n",
       "      <th>4</th>\n",
       "      <td>5</td>\n",
       "      <td>35</td>\n",
       "      <td>8</td>\n",
       "      <td>45</td>\n",
       "      <td>91330</td>\n",
       "      <td>4</td>\n",
       "      <td>1.0</td>\n",
       "      <td>2</td>\n",
       "      <td>0.0</td>\n",
       "      <td>0</td>\n",
       "      <td>0.0</td>\n",
       "      <td>0.0</td>\n",
       "      <td>0</td>\n",
       "      <td>1</td>\n",
       "    </tr>\n",
       "  </tbody>\n",
       "</table>\n",
       "</div>"
      ],
      "text/plain": [
       "   ID  Age  Experience  Income  ZIP Code  Family  CCAvg  Education  Mortgage  \\\n",
       "0   1   25           1      49     91107       4    1.6          1       0.0   \n",
       "1   2   45          19      34     90089       3    1.5          1       0.0   \n",
       "2   3   39          15      11     94720       1    1.0          1       0.0   \n",
       "3   4   35           9     100     94112       1    2.7          2       0.0   \n",
       "4   5   35           8      45     91330       4    1.0          2       0.0   \n",
       "\n",
       "   Personal Loan  Securities Account  CD Account  Online  CreditCard  \n",
       "0              0                 1.0         0.0       0           0  \n",
       "1              0                 1.0         0.0       0           0  \n",
       "2              0                 0.0         0.0       0           0  \n",
       "3              0                 0.0         NaN       0           0  \n",
       "4              0                 0.0         0.0       0           1  "
      ]
     },
     "execution_count": 5,
     "metadata": {},
     "output_type": "execute_result"
    }
   ],
   "source": [
    "univbank.head()"
   ]
  },
  {
   "cell_type": "markdown",
   "metadata": {},
   "source": [
    "#### Display the dimensions, column names and column datatypes"
   ]
  },
  {
   "cell_type": "code",
   "execution_count": 6,
   "metadata": {},
   "outputs": [
    {
     "name": "stdout",
     "output_type": "stream",
     "text": [
      "Index(['ID', 'Age', 'Experience', 'Income', 'ZIP Code', 'Family', 'CCAvg',\n",
      "       'Education', 'Mortgage', 'Personal Loan', 'Securities Account',\n",
      "       'CD Account', 'Online', 'CreditCard'],\n",
      "      dtype='object')\n"
     ]
    }
   ],
   "source": [
    "print(univbank.columns)"
   ]
  },
  {
   "cell_type": "code",
   "execution_count": 7,
   "metadata": {
    "scrolled": true
   },
   "outputs": [
    {
     "name": "stdout",
     "output_type": "stream",
     "text": [
      "ID                      int64\n",
      "Age                     int64\n",
      "Experience              int64\n",
      "Income                  int64\n",
      "ZIP Code                int64\n",
      "Family                  int64\n",
      "CCAvg                 float64\n",
      "Education               int64\n",
      "Mortgage              float64\n",
      "Personal Loan           int64\n",
      "Securities Account    float64\n",
      "CD Account            float64\n",
      "Online                  int64\n",
      "CreditCard              int64\n",
      "dtype: object\n"
     ]
    }
   ],
   "source": [
    "print(univbank.dtypes)"
   ]
  },
  {
   "cell_type": "markdown",
   "metadata": {},
   "source": [
    "#### Check the summary (descriptive statistics)  for all attributes"
   ]
  },
  {
   "cell_type": "code",
   "execution_count": 8,
   "metadata": {
    "scrolled": false
   },
   "outputs": [
    {
     "data": {
      "text/html": [
       "<div>\n",
       "<style scoped>\n",
       "    .dataframe tbody tr th:only-of-type {\n",
       "        vertical-align: middle;\n",
       "    }\n",
       "\n",
       "    .dataframe tbody tr th {\n",
       "        vertical-align: top;\n",
       "    }\n",
       "\n",
       "    .dataframe thead th {\n",
       "        text-align: right;\n",
       "    }\n",
       "</style>\n",
       "<table border=\"1\" class=\"dataframe\">\n",
       "  <thead>\n",
       "    <tr style=\"text-align: right;\">\n",
       "      <th></th>\n",
       "      <th>ID</th>\n",
       "      <th>Age</th>\n",
       "      <th>Experience</th>\n",
       "      <th>Income</th>\n",
       "      <th>ZIP Code</th>\n",
       "      <th>Family</th>\n",
       "      <th>CCAvg</th>\n",
       "      <th>Education</th>\n",
       "      <th>Mortgage</th>\n",
       "      <th>Personal Loan</th>\n",
       "      <th>Securities Account</th>\n",
       "      <th>CD Account</th>\n",
       "      <th>Online</th>\n",
       "      <th>CreditCard</th>\n",
       "    </tr>\n",
       "  </thead>\n",
       "  <tbody>\n",
       "    <tr>\n",
       "      <th>count</th>\n",
       "      <td>5000.000000</td>\n",
       "      <td>5000.000000</td>\n",
       "      <td>5000.000000</td>\n",
       "      <td>5000.000000</td>\n",
       "      <td>5000.000000</td>\n",
       "      <td>5000.000000</td>\n",
       "      <td>5000.000000</td>\n",
       "      <td>5000.000000</td>\n",
       "      <td>4998.000000</td>\n",
       "      <td>5000.000000</td>\n",
       "      <td>4998.000000</td>\n",
       "      <td>4999.000000</td>\n",
       "      <td>5000.000000</td>\n",
       "      <td>5000.000000</td>\n",
       "    </tr>\n",
       "    <tr>\n",
       "      <th>mean</th>\n",
       "      <td>2500.500000</td>\n",
       "      <td>45.338400</td>\n",
       "      <td>20.104600</td>\n",
       "      <td>73.774200</td>\n",
       "      <td>93152.503000</td>\n",
       "      <td>2.396400</td>\n",
       "      <td>1.937938</td>\n",
       "      <td>1.881000</td>\n",
       "      <td>56.521409</td>\n",
       "      <td>0.096000</td>\n",
       "      <td>0.104442</td>\n",
       "      <td>0.060412</td>\n",
       "      <td>0.596800</td>\n",
       "      <td>0.294000</td>\n",
       "    </tr>\n",
       "    <tr>\n",
       "      <th>std</th>\n",
       "      <td>1443.520003</td>\n",
       "      <td>11.463166</td>\n",
       "      <td>11.467954</td>\n",
       "      <td>46.033729</td>\n",
       "      <td>2121.852197</td>\n",
       "      <td>1.147663</td>\n",
       "      <td>1.747659</td>\n",
       "      <td>0.839869</td>\n",
       "      <td>101.727873</td>\n",
       "      <td>0.294621</td>\n",
       "      <td>0.305863</td>\n",
       "      <td>0.238273</td>\n",
       "      <td>0.490589</td>\n",
       "      <td>0.455637</td>\n",
       "    </tr>\n",
       "    <tr>\n",
       "      <th>min</th>\n",
       "      <td>1.000000</td>\n",
       "      <td>23.000000</td>\n",
       "      <td>-3.000000</td>\n",
       "      <td>8.000000</td>\n",
       "      <td>9307.000000</td>\n",
       "      <td>1.000000</td>\n",
       "      <td>0.000000</td>\n",
       "      <td>1.000000</td>\n",
       "      <td>0.000000</td>\n",
       "      <td>0.000000</td>\n",
       "      <td>0.000000</td>\n",
       "      <td>0.000000</td>\n",
       "      <td>0.000000</td>\n",
       "      <td>0.000000</td>\n",
       "    </tr>\n",
       "    <tr>\n",
       "      <th>25%</th>\n",
       "      <td>1250.750000</td>\n",
       "      <td>35.000000</td>\n",
       "      <td>10.000000</td>\n",
       "      <td>39.000000</td>\n",
       "      <td>91911.000000</td>\n",
       "      <td>1.000000</td>\n",
       "      <td>0.700000</td>\n",
       "      <td>1.000000</td>\n",
       "      <td>0.000000</td>\n",
       "      <td>0.000000</td>\n",
       "      <td>0.000000</td>\n",
       "      <td>0.000000</td>\n",
       "      <td>0.000000</td>\n",
       "      <td>0.000000</td>\n",
       "    </tr>\n",
       "    <tr>\n",
       "      <th>50%</th>\n",
       "      <td>2500.500000</td>\n",
       "      <td>45.000000</td>\n",
       "      <td>20.000000</td>\n",
       "      <td>64.000000</td>\n",
       "      <td>93437.000000</td>\n",
       "      <td>2.000000</td>\n",
       "      <td>1.500000</td>\n",
       "      <td>2.000000</td>\n",
       "      <td>0.000000</td>\n",
       "      <td>0.000000</td>\n",
       "      <td>0.000000</td>\n",
       "      <td>0.000000</td>\n",
       "      <td>1.000000</td>\n",
       "      <td>0.000000</td>\n",
       "    </tr>\n",
       "    <tr>\n",
       "      <th>75%</th>\n",
       "      <td>3750.250000</td>\n",
       "      <td>55.000000</td>\n",
       "      <td>30.000000</td>\n",
       "      <td>98.000000</td>\n",
       "      <td>94608.000000</td>\n",
       "      <td>3.000000</td>\n",
       "      <td>2.500000</td>\n",
       "      <td>3.000000</td>\n",
       "      <td>101.000000</td>\n",
       "      <td>0.000000</td>\n",
       "      <td>0.000000</td>\n",
       "      <td>0.000000</td>\n",
       "      <td>1.000000</td>\n",
       "      <td>1.000000</td>\n",
       "    </tr>\n",
       "    <tr>\n",
       "      <th>max</th>\n",
       "      <td>5000.000000</td>\n",
       "      <td>67.000000</td>\n",
       "      <td>43.000000</td>\n",
       "      <td>224.000000</td>\n",
       "      <td>96651.000000</td>\n",
       "      <td>4.000000</td>\n",
       "      <td>10.000000</td>\n",
       "      <td>3.000000</td>\n",
       "      <td>635.000000</td>\n",
       "      <td>1.000000</td>\n",
       "      <td>1.000000</td>\n",
       "      <td>1.000000</td>\n",
       "      <td>1.000000</td>\n",
       "      <td>1.000000</td>\n",
       "    </tr>\n",
       "  </tbody>\n",
       "</table>\n",
       "</div>"
      ],
      "text/plain": [
       "                ID          Age   Experience       Income      ZIP Code  \\\n",
       "count  5000.000000  5000.000000  5000.000000  5000.000000   5000.000000   \n",
       "mean   2500.500000    45.338400    20.104600    73.774200  93152.503000   \n",
       "std    1443.520003    11.463166    11.467954    46.033729   2121.852197   \n",
       "min       1.000000    23.000000    -3.000000     8.000000   9307.000000   \n",
       "25%    1250.750000    35.000000    10.000000    39.000000  91911.000000   \n",
       "50%    2500.500000    45.000000    20.000000    64.000000  93437.000000   \n",
       "75%    3750.250000    55.000000    30.000000    98.000000  94608.000000   \n",
       "max    5000.000000    67.000000    43.000000   224.000000  96651.000000   \n",
       "\n",
       "            Family        CCAvg    Education     Mortgage  Personal Loan  \\\n",
       "count  5000.000000  5000.000000  5000.000000  4998.000000    5000.000000   \n",
       "mean      2.396400     1.937938     1.881000    56.521409       0.096000   \n",
       "std       1.147663     1.747659     0.839869   101.727873       0.294621   \n",
       "min       1.000000     0.000000     1.000000     0.000000       0.000000   \n",
       "25%       1.000000     0.700000     1.000000     0.000000       0.000000   \n",
       "50%       2.000000     1.500000     2.000000     0.000000       0.000000   \n",
       "75%       3.000000     2.500000     3.000000   101.000000       0.000000   \n",
       "max       4.000000    10.000000     3.000000   635.000000       1.000000   \n",
       "\n",
       "       Securities Account   CD Account       Online   CreditCard  \n",
       "count         4998.000000  4999.000000  5000.000000  5000.000000  \n",
       "mean             0.104442     0.060412     0.596800     0.294000  \n",
       "std              0.305863     0.238273     0.490589     0.455637  \n",
       "min              0.000000     0.000000     0.000000     0.000000  \n",
       "25%              0.000000     0.000000     0.000000     0.000000  \n",
       "50%              0.000000     0.000000     1.000000     0.000000  \n",
       "75%              0.000000     0.000000     1.000000     1.000000  \n",
       "max              1.000000     1.000000     1.000000     1.000000  "
      ]
     },
     "execution_count": 8,
     "metadata": {},
     "output_type": "execute_result"
    }
   ],
   "source": [
    "univbank.describe(include='all')"
   ]
  },
  {
   "cell_type": "markdown",
   "metadata": {},
   "source": [
    "#### Check the unique levels in the target attribute PersonalLoan "
   ]
  },
  {
   "cell_type": "code",
   "execution_count": 9,
   "metadata": {},
   "outputs": [
    {
     "name": "stdout",
     "output_type": "stream",
     "text": [
      "0.0    4697\n",
      "1.0     302\n",
      "Name: CD Account, dtype: int64\n"
     ]
    }
   ],
   "source": [
    "print(univbank[\"CD Account\"].value_counts())"
   ]
  },
  {
   "cell_type": "code",
   "execution_count": 10,
   "metadata": {},
   "outputs": [
    {
     "data": {
      "text/plain": [
       "('Online', '', '')"
      ]
     },
     "execution_count": 10,
     "metadata": {},
     "output_type": "execute_result"
    }
   ],
   "source": [
    "'Online','',''"
   ]
  },
  {
   "cell_type": "code",
   "execution_count": 11,
   "metadata": {},
   "outputs": [
    {
     "name": "stdout",
     "output_type": "stream",
     "text": [
      "1    2984\n",
      "0    2016\n",
      "Name: Online, dtype: int64\n"
     ]
    }
   ],
   "source": [
    "print(univbank[\"Online\"].value_counts())"
   ]
  },
  {
   "cell_type": "code",
   "execution_count": 12,
   "metadata": {},
   "outputs": [
    {
     "name": "stdout",
     "output_type": "stream",
     "text": [
      "0    3530\n",
      "1    1470\n",
      "Name: CreditCard, dtype: int64\n"
     ]
    }
   ],
   "source": [
    "print(univbank[\"CreditCard\"].value_counts())"
   ]
  },
  {
   "cell_type": "code",
   "execution_count": 13,
   "metadata": {
    "scrolled": false
   },
   "outputs": [
    {
     "name": "stdout",
     "output_type": "stream",
     "text": [
      "0    4520\n",
      "1     480\n",
      "Name: Personal Loan, dtype: int64\n"
     ]
    }
   ],
   "source": [
    "print(univbank[\"Personal Loan\"].value_counts())"
   ]
  },
  {
   "cell_type": "code",
   "execution_count": 14,
   "metadata": {},
   "outputs": [
    {
     "name": "stdout",
     "output_type": "stream",
     "text": [
      "0    90.4\n",
      "1     9.6\n",
      "Name: Personal Loan, dtype: float64\n"
     ]
    }
   ],
   "source": [
    "print(univbank['Personal Loan'].value_counts(normalize=True)*100)"
   ]
  },
  {
   "cell_type": "markdown",
   "metadata": {},
   "source": [
    "#### Check the number of unique ZIP Codes present in the dataset "
   ]
  },
  {
   "cell_type": "code",
   "execution_count": 15,
   "metadata": {},
   "outputs": [
    {
     "name": "stdout",
     "output_type": "stream",
     "text": [
      "The number of Unique ZIP Codes in the bank data set is 467\n",
      "\n",
      "\n",
      "94720    169\n",
      "94305    127\n",
      "95616    116\n",
      "90095     71\n",
      "93106     57\n",
      "        ... \n",
      "96145      1\n",
      "94087      1\n",
      "91024      1\n",
      "9307       1\n",
      "94598      1\n",
      "Name: ZIP Code, Length: 467, dtype: int64\n"
     ]
    }
   ],
   "source": [
    "print(\"The number of Unique ZIP Codes in the bank data set is\",univbank['ZIP Code'].nunique())"
   ]
  },
  {
   "cell_type": "markdown",
   "metadata": {},
   "source": [
    "#### Check the 'ID' present in the dataset "
   ]
  },
  {
   "cell_type": "code",
   "execution_count": 16,
   "metadata": {},
   "outputs": [
    {
     "name": "stdout",
     "output_type": "stream",
     "text": [
      "The number of Unique ID in the bank data set is 5000\n",
      "\n",
      "\n",
      "1       1\n",
      "3331    1\n",
      "3338    1\n",
      "3337    1\n",
      "3336    1\n",
      "       ..\n",
      "1667    1\n",
      "1666    1\n",
      "1665    1\n",
      "1664    1\n",
      "5000    1\n",
      "Name: ID, Length: 5000, dtype: int64\n"
     ]
    }
   ],
   "source": [
    "print(\"The number of Unique ID in the bank data set is\",univbank['ID'].nunique())"
   ]
  },
  {
   "cell_type": "markdown",
   "metadata": {},
   "source": [
    "#### Remove the unncessary columns (ID and ZipCode)"
   ]
  },
  {
   "cell_type": "code",
   "execution_count": 17,
   "metadata": {},
   "outputs": [],
   "source": [
    "univbank = univbank.drop([\"ID\",\"ZIP Code\"],axis=1)"
   ]
  },
  {
   "cell_type": "code",
   "execution_count": 18,
   "metadata": {},
   "outputs": [
    {
     "data": {
      "text/html": [
       "<div>\n",
       "<style scoped>\n",
       "    .dataframe tbody tr th:only-of-type {\n",
       "        vertical-align: middle;\n",
       "    }\n",
       "\n",
       "    .dataframe tbody tr th {\n",
       "        vertical-align: top;\n",
       "    }\n",
       "\n",
       "    .dataframe thead th {\n",
       "        text-align: right;\n",
       "    }\n",
       "</style>\n",
       "<table border=\"1\" class=\"dataframe\">\n",
       "  <thead>\n",
       "    <tr style=\"text-align: right;\">\n",
       "      <th></th>\n",
       "      <th>Age</th>\n",
       "      <th>Experience</th>\n",
       "      <th>Income</th>\n",
       "      <th>Family</th>\n",
       "      <th>CCAvg</th>\n",
       "      <th>Education</th>\n",
       "      <th>Mortgage</th>\n",
       "      <th>Personal Loan</th>\n",
       "      <th>Securities Account</th>\n",
       "      <th>CD Account</th>\n",
       "      <th>Online</th>\n",
       "      <th>CreditCard</th>\n",
       "    </tr>\n",
       "  </thead>\n",
       "  <tbody>\n",
       "    <tr>\n",
       "      <th>0</th>\n",
       "      <td>25</td>\n",
       "      <td>1</td>\n",
       "      <td>49</td>\n",
       "      <td>4</td>\n",
       "      <td>1.6</td>\n",
       "      <td>1</td>\n",
       "      <td>0.0</td>\n",
       "      <td>0</td>\n",
       "      <td>1.0</td>\n",
       "      <td>0.0</td>\n",
       "      <td>0</td>\n",
       "      <td>0</td>\n",
       "    </tr>\n",
       "    <tr>\n",
       "      <th>1</th>\n",
       "      <td>45</td>\n",
       "      <td>19</td>\n",
       "      <td>34</td>\n",
       "      <td>3</td>\n",
       "      <td>1.5</td>\n",
       "      <td>1</td>\n",
       "      <td>0.0</td>\n",
       "      <td>0</td>\n",
       "      <td>1.0</td>\n",
       "      <td>0.0</td>\n",
       "      <td>0</td>\n",
       "      <td>0</td>\n",
       "    </tr>\n",
       "    <tr>\n",
       "      <th>2</th>\n",
       "      <td>39</td>\n",
       "      <td>15</td>\n",
       "      <td>11</td>\n",
       "      <td>1</td>\n",
       "      <td>1.0</td>\n",
       "      <td>1</td>\n",
       "      <td>0.0</td>\n",
       "      <td>0</td>\n",
       "      <td>0.0</td>\n",
       "      <td>0.0</td>\n",
       "      <td>0</td>\n",
       "      <td>0</td>\n",
       "    </tr>\n",
       "    <tr>\n",
       "      <th>3</th>\n",
       "      <td>35</td>\n",
       "      <td>9</td>\n",
       "      <td>100</td>\n",
       "      <td>1</td>\n",
       "      <td>2.7</td>\n",
       "      <td>2</td>\n",
       "      <td>0.0</td>\n",
       "      <td>0</td>\n",
       "      <td>0.0</td>\n",
       "      <td>NaN</td>\n",
       "      <td>0</td>\n",
       "      <td>0</td>\n",
       "    </tr>\n",
       "    <tr>\n",
       "      <th>4</th>\n",
       "      <td>35</td>\n",
       "      <td>8</td>\n",
       "      <td>45</td>\n",
       "      <td>4</td>\n",
       "      <td>1.0</td>\n",
       "      <td>2</td>\n",
       "      <td>0.0</td>\n",
       "      <td>0</td>\n",
       "      <td>0.0</td>\n",
       "      <td>0.0</td>\n",
       "      <td>0</td>\n",
       "      <td>1</td>\n",
       "    </tr>\n",
       "  </tbody>\n",
       "</table>\n",
       "</div>"
      ],
      "text/plain": [
       "   Age  Experience  Income  Family  CCAvg  Education  Mortgage  Personal Loan  \\\n",
       "0   25           1      49       4    1.6          1       0.0              0   \n",
       "1   45          19      34       3    1.5          1       0.0              0   \n",
       "2   39          15      11       1    1.0          1       0.0              0   \n",
       "3   35           9     100       1    2.7          2       0.0              0   \n",
       "4   35           8      45       4    1.0          2       0.0              0   \n",
       "\n",
       "   Securities Account  CD Account  Online  CreditCard  \n",
       "0                 1.0         0.0       0           0  \n",
       "1                 1.0         0.0       0           0  \n",
       "2                 0.0         0.0       0           0  \n",
       "3                 0.0         NaN       0           0  \n",
       "4                 0.0         0.0       0           1  "
      ]
     },
     "execution_count": 18,
     "metadata": {},
     "output_type": "execute_result"
    }
   ],
   "source": [
    "univbank.head()"
   ]
  },
  {
   "cell_type": "markdown",
   "metadata": {},
   "source": [
    "#### Check the count of Education values in each level"
   ]
  },
  {
   "cell_type": "code",
   "execution_count": 19,
   "metadata": {},
   "outputs": [
    {
     "name": "stdout",
     "output_type": "stream",
     "text": [
      "The number of values in different Education levels:\n",
      "\n",
      "1    2096\n",
      "3    1501\n",
      "2    1403\n",
      "Name: Education, dtype: int64\n"
     ]
    }
   ],
   "source": [
    "print(\"The number of values in different Education levels:\\n\")\n",
    "print(univbank['Education'].value_counts())"
   ]
  },
  {
   "cell_type": "markdown",
   "metadata": {},
   "source": [
    "#### Check the count of Family values in each level"
   ]
  },
  {
   "cell_type": "code",
   "execution_count": 20,
   "metadata": {},
   "outputs": [
    {
     "name": "stdout",
     "output_type": "stream",
     "text": [
      "The number of values in different Family levels:\n",
      "\n",
      "1    1472\n",
      "2    1296\n",
      "4    1222\n",
      "3    1010\n",
      "Name: Family, dtype: int64\n"
     ]
    }
   ],
   "source": [
    "print(\"The number of values in different Family levels:\\n\")\n",
    "print(univbank['Family'].value_counts())"
   ]
  },
  {
   "cell_type": "markdown",
   "metadata": {},
   "source": [
    "#### Convert the attributes to the right data type based on the dataset description"
   ]
  },
  {
   "cell_type": "code",
   "execution_count": 21,
   "metadata": {},
   "outputs": [],
   "source": [
    "cat_attr = ['Education', 'Family', 'CD Account', 'Online','CreditCard','Securities Account']\n",
    "for cols in cat_attr :\n",
    "    univbank[cols] = univbank[cols].astype('category')"
   ]
  },
  {
   "cell_type": "code",
   "execution_count": 22,
   "metadata": {},
   "outputs": [
    {
     "data": {
      "text/plain": [
       "Age                      int64\n",
       "Experience               int64\n",
       "Income                   int64\n",
       "Family                category\n",
       "CCAvg                  float64\n",
       "Education             category\n",
       "Mortgage               float64\n",
       "Personal Loan            int64\n",
       "Securities Account    category\n",
       "CD Account            category\n",
       "Online                category\n",
       "CreditCard            category\n",
       "dtype: object"
      ]
     },
     "execution_count": 22,
     "metadata": {},
     "output_type": "execute_result"
    }
   ],
   "source": [
    "univbank.dtypes"
   ]
  },
  {
   "cell_type": "markdown",
   "metadata": {},
   "source": [
    "#### Creating dummy variables\n",
    "\n",
    "If we have k levels in a category, then we create k-1 dummy variables as the last one would be redundant. \n",
    "So we use the parameter drop_first in pd.get_dummies function that drops the first level in each of the category.\n"
   ]
  },
  {
   "cell_type": "code",
   "execution_count": 23,
   "metadata": {},
   "outputs": [],
   "source": [
    "univbank = pd.get_dummies(columns=cat_attr,data=univbank)"
   ]
  },
  {
   "cell_type": "code",
   "execution_count": 24,
   "metadata": {},
   "outputs": [
    {
     "data": {
      "text/html": [
       "<div>\n",
       "<style scoped>\n",
       "    .dataframe tbody tr th:only-of-type {\n",
       "        vertical-align: middle;\n",
       "    }\n",
       "\n",
       "    .dataframe tbody tr th {\n",
       "        vertical-align: top;\n",
       "    }\n",
       "\n",
       "    .dataframe thead th {\n",
       "        text-align: right;\n",
       "    }\n",
       "</style>\n",
       "<table border=\"1\" class=\"dataframe\">\n",
       "  <thead>\n",
       "    <tr style=\"text-align: right;\">\n",
       "      <th></th>\n",
       "      <th>Age</th>\n",
       "      <th>Experience</th>\n",
       "      <th>Income</th>\n",
       "      <th>CCAvg</th>\n",
       "      <th>Mortgage</th>\n",
       "      <th>Personal Loan</th>\n",
       "      <th>Education_1</th>\n",
       "      <th>Education_2</th>\n",
       "      <th>Education_3</th>\n",
       "      <th>Family_1</th>\n",
       "      <th>...</th>\n",
       "      <th>Family_3</th>\n",
       "      <th>Family_4</th>\n",
       "      <th>CD Account_0.0</th>\n",
       "      <th>CD Account_1.0</th>\n",
       "      <th>Online_0</th>\n",
       "      <th>Online_1</th>\n",
       "      <th>CreditCard_0</th>\n",
       "      <th>CreditCard_1</th>\n",
       "      <th>Securities Account_0.0</th>\n",
       "      <th>Securities Account_1.0</th>\n",
       "    </tr>\n",
       "  </thead>\n",
       "  <tbody>\n",
       "    <tr>\n",
       "      <th>0</th>\n",
       "      <td>25</td>\n",
       "      <td>1</td>\n",
       "      <td>49</td>\n",
       "      <td>1.6</td>\n",
       "      <td>0.0</td>\n",
       "      <td>0</td>\n",
       "      <td>1</td>\n",
       "      <td>0</td>\n",
       "      <td>0</td>\n",
       "      <td>0</td>\n",
       "      <td>...</td>\n",
       "      <td>0</td>\n",
       "      <td>1</td>\n",
       "      <td>1</td>\n",
       "      <td>0</td>\n",
       "      <td>1</td>\n",
       "      <td>0</td>\n",
       "      <td>1</td>\n",
       "      <td>0</td>\n",
       "      <td>0</td>\n",
       "      <td>1</td>\n",
       "    </tr>\n",
       "    <tr>\n",
       "      <th>1</th>\n",
       "      <td>45</td>\n",
       "      <td>19</td>\n",
       "      <td>34</td>\n",
       "      <td>1.5</td>\n",
       "      <td>0.0</td>\n",
       "      <td>0</td>\n",
       "      <td>1</td>\n",
       "      <td>0</td>\n",
       "      <td>0</td>\n",
       "      <td>0</td>\n",
       "      <td>...</td>\n",
       "      <td>1</td>\n",
       "      <td>0</td>\n",
       "      <td>1</td>\n",
       "      <td>0</td>\n",
       "      <td>1</td>\n",
       "      <td>0</td>\n",
       "      <td>1</td>\n",
       "      <td>0</td>\n",
       "      <td>0</td>\n",
       "      <td>1</td>\n",
       "    </tr>\n",
       "    <tr>\n",
       "      <th>2</th>\n",
       "      <td>39</td>\n",
       "      <td>15</td>\n",
       "      <td>11</td>\n",
       "      <td>1.0</td>\n",
       "      <td>0.0</td>\n",
       "      <td>0</td>\n",
       "      <td>1</td>\n",
       "      <td>0</td>\n",
       "      <td>0</td>\n",
       "      <td>1</td>\n",
       "      <td>...</td>\n",
       "      <td>0</td>\n",
       "      <td>0</td>\n",
       "      <td>1</td>\n",
       "      <td>0</td>\n",
       "      <td>1</td>\n",
       "      <td>0</td>\n",
       "      <td>1</td>\n",
       "      <td>0</td>\n",
       "      <td>1</td>\n",
       "      <td>0</td>\n",
       "    </tr>\n",
       "    <tr>\n",
       "      <th>3</th>\n",
       "      <td>35</td>\n",
       "      <td>9</td>\n",
       "      <td>100</td>\n",
       "      <td>2.7</td>\n",
       "      <td>0.0</td>\n",
       "      <td>0</td>\n",
       "      <td>0</td>\n",
       "      <td>1</td>\n",
       "      <td>0</td>\n",
       "      <td>1</td>\n",
       "      <td>...</td>\n",
       "      <td>0</td>\n",
       "      <td>0</td>\n",
       "      <td>0</td>\n",
       "      <td>0</td>\n",
       "      <td>1</td>\n",
       "      <td>0</td>\n",
       "      <td>1</td>\n",
       "      <td>0</td>\n",
       "      <td>1</td>\n",
       "      <td>0</td>\n",
       "    </tr>\n",
       "    <tr>\n",
       "      <th>4</th>\n",
       "      <td>35</td>\n",
       "      <td>8</td>\n",
       "      <td>45</td>\n",
       "      <td>1.0</td>\n",
       "      <td>0.0</td>\n",
       "      <td>0</td>\n",
       "      <td>0</td>\n",
       "      <td>1</td>\n",
       "      <td>0</td>\n",
       "      <td>0</td>\n",
       "      <td>...</td>\n",
       "      <td>0</td>\n",
       "      <td>1</td>\n",
       "      <td>1</td>\n",
       "      <td>0</td>\n",
       "      <td>1</td>\n",
       "      <td>0</td>\n",
       "      <td>0</td>\n",
       "      <td>1</td>\n",
       "      <td>1</td>\n",
       "      <td>0</td>\n",
       "    </tr>\n",
       "  </tbody>\n",
       "</table>\n",
       "<p>5 rows × 21 columns</p>\n",
       "</div>"
      ],
      "text/plain": [
       "   Age  Experience  Income  CCAvg  Mortgage  Personal Loan  Education_1  \\\n",
       "0   25           1      49    1.6       0.0              0            1   \n",
       "1   45          19      34    1.5       0.0              0            1   \n",
       "2   39          15      11    1.0       0.0              0            1   \n",
       "3   35           9     100    2.7       0.0              0            0   \n",
       "4   35           8      45    1.0       0.0              0            0   \n",
       "\n",
       "   Education_2  Education_3  Family_1  ...  Family_3  Family_4  \\\n",
       "0            0            0         0  ...         0         1   \n",
       "1            0            0         0  ...         1         0   \n",
       "2            0            0         1  ...         0         0   \n",
       "3            1            0         1  ...         0         0   \n",
       "4            1            0         0  ...         0         1   \n",
       "\n",
       "   CD Account_0.0  CD Account_1.0  Online_0  Online_1  CreditCard_0  \\\n",
       "0               1               0         1         0             1   \n",
       "1               1               0         1         0             1   \n",
       "2               1               0         1         0             1   \n",
       "3               0               0         1         0             1   \n",
       "4               1               0         1         0             0   \n",
       "\n",
       "   CreditCard_1  Securities Account_0.0  Securities Account_1.0  \n",
       "0             0                       0                       1  \n",
       "1             0                       0                       1  \n",
       "2             0                       1                       0  \n",
       "3             0                       1                       0  \n",
       "4             1                       1                       0  \n",
       "\n",
       "[5 rows x 21 columns]"
      ]
     },
     "execution_count": 24,
     "metadata": {},
     "output_type": "execute_result"
    }
   ],
   "source": [
    "univbank.head()"
   ]
  },
  {
   "cell_type": "code",
   "execution_count": 25,
   "metadata": {},
   "outputs": [
    {
     "data": {
      "text/plain": [
       "(5000, 21)"
      ]
     },
     "execution_count": 25,
     "metadata": {},
     "output_type": "execute_result"
    }
   ],
   "source": [
    "univbank.shape"
   ]
  },
  {
   "cell_type": "markdown",
   "metadata": {},
   "source": [
    "####  Check for missing values "
   ]
  },
  {
   "cell_type": "code",
   "execution_count": 26,
   "metadata": {},
   "outputs": [
    {
     "data": {
      "text/plain": [
       "Age                       0\n",
       "Experience                0\n",
       "Income                    0\n",
       "CCAvg                     0\n",
       "Mortgage                  2\n",
       "Personal Loan             0\n",
       "Education_1               0\n",
       "Education_2               0\n",
       "Education_3               0\n",
       "Family_1                  0\n",
       "Family_2                  0\n",
       "Family_3                  0\n",
       "Family_4                  0\n",
       "CD Account_0.0            0\n",
       "CD Account_1.0            0\n",
       "Online_0                  0\n",
       "Online_1                  0\n",
       "CreditCard_0              0\n",
       "CreditCard_1              0\n",
       "Securities Account_0.0    0\n",
       "Securities Account_1.0    0\n",
       "dtype: int64"
      ]
     },
     "execution_count": 26,
     "metadata": {},
     "output_type": "execute_result"
    }
   ],
   "source": [
    "univbank.isnull().sum()"
   ]
  },
  {
   "cell_type": "markdown",
   "metadata": {},
   "source": [
    "#### Split the data into train and test"
   ]
  },
  {
   "cell_type": "code",
   "execution_count": 27,
   "metadata": {},
   "outputs": [],
   "source": [
    "y = univbank[\"Personal Loan\"]\n",
    "X = univbank.drop('Personal Loan', axis=1)\n",
    "X_train, X_test, y_train, y_test = train_test_split(X, y, test_size=0.20,stratify=y,random_state=123)"
   ]
  },
  {
   "cell_type": "code",
   "execution_count": 28,
   "metadata": {},
   "outputs": [
    {
     "name": "stdout",
     "output_type": "stream",
     "text": [
      "(4000, 20)\n",
      "(1000, 20)\n",
      "(4000,)\n",
      "(1000,)\n"
     ]
    }
   ],
   "source": [
    "print(X_train.shape)\n",
    "print(X_test.shape)\n",
    "print(y_train.shape)\n",
    "print(y_test.shape)"
   ]
  },
  {
   "cell_type": "code",
   "execution_count": 29,
   "metadata": {},
   "outputs": [
    {
     "name": "stdout",
     "output_type": "stream",
     "text": [
      "0    3616\n",
      "1     384\n",
      "Name: Personal Loan, dtype: int64\n",
      "0    904\n",
      "1     96\n",
      "Name: Personal Loan, dtype: int64\n"
     ]
    }
   ],
   "source": [
    "print(y_train.value_counts())\n",
    "print(y_test.value_counts())"
   ]
  },
  {
   "cell_type": "markdown",
   "metadata": {},
   "source": [
    "#### Split the attributes into numerical and categorical types"
   ]
  },
  {
   "cell_type": "code",
   "execution_count": 30,
   "metadata": {},
   "outputs": [
    {
     "data": {
      "text/plain": [
       "Age                         int64\n",
       "Experience                  int64\n",
       "Income                      int64\n",
       "CCAvg                     float64\n",
       "Mortgage                  float64\n",
       "Education_1                 uint8\n",
       "Education_2                 uint8\n",
       "Education_3                 uint8\n",
       "Family_1                    uint8\n",
       "Family_2                    uint8\n",
       "Family_3                    uint8\n",
       "Family_4                    uint8\n",
       "CD Account_0.0              uint8\n",
       "CD Account_1.0              uint8\n",
       "Online_0                    uint8\n",
       "Online_1                    uint8\n",
       "CreditCard_0                uint8\n",
       "CreditCard_1                uint8\n",
       "Securities Account_0.0      uint8\n",
       "Securities Account_1.0      uint8\n",
       "dtype: object"
      ]
     },
     "execution_count": 30,
     "metadata": {},
     "output_type": "execute_result"
    }
   ],
   "source": [
    "X_train.dtypes"
   ]
  },
  {
   "cell_type": "code",
   "execution_count": 31,
   "metadata": {},
   "outputs": [],
   "source": [
    "for cols in X_train.columns :\n",
    "    if X_train[cols].dtype == 'uint8':\n",
    "        X_train[cols]=X_train[cols].astype('category')"
   ]
  },
  {
   "cell_type": "code",
   "execution_count": 32,
   "metadata": {},
   "outputs": [],
   "source": [
    "for cols in X_test.columns :\n",
    "    if X_test[cols].dtype == 'uint8':\n",
    "        X_test[cols]=X_test[cols].astype('category')"
   ]
  },
  {
   "cell_type": "code",
   "execution_count": 33,
   "metadata": {},
   "outputs": [
    {
     "data": {
      "text/plain": [
       "Index(['Age', 'Experience', 'Income', 'CCAvg', 'Mortgage'], dtype='object')"
      ]
     },
     "execution_count": 33,
     "metadata": {},
     "output_type": "execute_result"
    }
   ],
   "source": [
    "num_attr=X_train.select_dtypes(['int64','float64']).columns\n",
    "num_attr"
   ]
  },
  {
   "cell_type": "code",
   "execution_count": 34,
   "metadata": {},
   "outputs": [
    {
     "data": {
      "text/plain": [
       "Index(['Education_1', 'Education_2', 'Education_3', 'Family_1', 'Family_2',\n",
       "       'Family_3', 'Family_4', 'CD Account_0.0', 'CD Account_1.0', 'Online_0',\n",
       "       'Online_1', 'CreditCard_0', 'CreditCard_1', 'Securities Account_0.0',\n",
       "       'Securities Account_1.0'],\n",
       "      dtype='object')"
      ]
     },
     "execution_count": 34,
     "metadata": {},
     "output_type": "execute_result"
    }
   ],
   "source": [
    "cat_attr = X_train.select_dtypes('category').columns\n",
    "cat_attr"
   ]
  },
  {
   "cell_type": "markdown",
   "metadata": {},
   "source": [
    "#### Checking for missing values in train and test dataset"
   ]
  },
  {
   "cell_type": "code",
   "execution_count": 35,
   "metadata": {},
   "outputs": [
    {
     "data": {
      "text/plain": [
       "Age                       0\n",
       "Experience                0\n",
       "Income                    0\n",
       "CCAvg                     0\n",
       "Mortgage                  1\n",
       "Education_1               0\n",
       "Education_2               0\n",
       "Education_3               0\n",
       "Family_1                  0\n",
       "Family_2                  0\n",
       "Family_3                  0\n",
       "Family_4                  0\n",
       "CD Account_0.0            0\n",
       "CD Account_1.0            0\n",
       "Online_0                  0\n",
       "Online_1                  0\n",
       "CreditCard_0              0\n",
       "CreditCard_1              0\n",
       "Securities Account_0.0    0\n",
       "Securities Account_1.0    0\n",
       "dtype: int64"
      ]
     },
     "execution_count": 35,
     "metadata": {},
     "output_type": "execute_result"
    }
   ],
   "source": [
    "X_train.isnull().sum()"
   ]
  },
  {
   "cell_type": "code",
   "execution_count": 36,
   "metadata": {},
   "outputs": [
    {
     "data": {
      "text/plain": [
       "Age                       0\n",
       "Experience                0\n",
       "Income                    0\n",
       "CCAvg                     0\n",
       "Mortgage                  1\n",
       "Education_1               0\n",
       "Education_2               0\n",
       "Education_3               0\n",
       "Family_1                  0\n",
       "Family_2                  0\n",
       "Family_3                  0\n",
       "Family_4                  0\n",
       "CD Account_0.0            0\n",
       "CD Account_1.0            0\n",
       "Online_0                  0\n",
       "Online_1                  0\n",
       "CreditCard_0              0\n",
       "CreditCard_1              0\n",
       "Securities Account_0.0    0\n",
       "Securities Account_1.0    0\n",
       "dtype: int64"
      ]
     },
     "execution_count": 36,
     "metadata": {},
     "output_type": "execute_result"
    }
   ],
   "source": [
    "X_test.isnull().sum()"
   ]
  },
  {
   "cell_type": "markdown",
   "metadata": {},
   "source": [
    "#### Imputing missing values with median"
   ]
  },
  {
   "cell_type": "code",
   "execution_count": 37,
   "metadata": {},
   "outputs": [],
   "source": [
    "imputer = SimpleImputer(strategy='median')\n",
    "imputer = imputer.fit(X_train[num_attr])\n",
    "\n",
    "X_train[num_attr] = imputer.transform(X_train[num_attr])\n",
    "X_test[num_attr] = imputer.transform(X_test[num_attr])"
   ]
  },
  {
   "cell_type": "code",
   "execution_count": 38,
   "metadata": {},
   "outputs": [
    {
     "data": {
      "text/plain": [
       "array([45. , 20. , 63.5,  1.5,  0. ])"
      ]
     },
     "execution_count": 38,
     "metadata": {},
     "output_type": "execute_result"
    }
   ],
   "source": [
    "imputer.statistics_"
   ]
  },
  {
   "cell_type": "code",
   "execution_count": 39,
   "metadata": {},
   "outputs": [
    {
     "data": {
      "text/plain": [
       "0.0"
      ]
     },
     "execution_count": 39,
     "metadata": {},
     "output_type": "execute_result"
    }
   ],
   "source": [
    "X_train['Mortgage'].median()"
   ]
  },
  {
   "cell_type": "code",
   "execution_count": 40,
   "metadata": {},
   "outputs": [
    {
     "data": {
      "text/plain": [
       "Age                       0\n",
       "Experience                0\n",
       "Income                    0\n",
       "CCAvg                     0\n",
       "Mortgage                  0\n",
       "Education_1               0\n",
       "Education_2               0\n",
       "Education_3               0\n",
       "Family_1                  0\n",
       "Family_2                  0\n",
       "Family_3                  0\n",
       "Family_4                  0\n",
       "CD Account_0.0            0\n",
       "CD Account_1.0            0\n",
       "Online_0                  0\n",
       "Online_1                  0\n",
       "CreditCard_0              0\n",
       "CreditCard_1              0\n",
       "Securities Account_0.0    0\n",
       "Securities Account_1.0    0\n",
       "dtype: int64"
      ]
     },
     "execution_count": 40,
     "metadata": {},
     "output_type": "execute_result"
    }
   ],
   "source": [
    "X_train.isnull().sum()"
   ]
  },
  {
   "cell_type": "code",
   "execution_count": 41,
   "metadata": {},
   "outputs": [
    {
     "data": {
      "text/plain": [
       "Age                       0\n",
       "Experience                0\n",
       "Income                    0\n",
       "CCAvg                     0\n",
       "Mortgage                  0\n",
       "Education_1               0\n",
       "Education_2               0\n",
       "Education_3               0\n",
       "Family_1                  0\n",
       "Family_2                  0\n",
       "Family_3                  0\n",
       "Family_4                  0\n",
       "CD Account_0.0            0\n",
       "CD Account_1.0            0\n",
       "Online_0                  0\n",
       "Online_1                  0\n",
       "CreditCard_0              0\n",
       "CreditCard_1              0\n",
       "Securities Account_0.0    0\n",
       "Securities Account_1.0    0\n",
       "dtype: int64"
      ]
     },
     "execution_count": 41,
     "metadata": {},
     "output_type": "execute_result"
    }
   ],
   "source": [
    "X_test.isnull().sum()"
   ]
  },
  {
   "cell_type": "markdown",
   "metadata": {},
   "source": [
    "#### Imputation for missing values for categoric attributes"
   ]
  },
  {
   "cell_type": "code",
   "execution_count": 42,
   "metadata": {},
   "outputs": [],
   "source": [
    "imputer_cat = SimpleImputer(strategy='most_frequent')\n",
    "\n",
    "imputer_cat = imputer.fit(X_train[cat_attr])\n",
    "\n",
    "X_train[cat_attr] = imputer_cat.transform(X_train[cat_attr])\n",
    "X_test[cat_attr] = imputer_cat.transform(X_test[cat_attr])"
   ]
  },
  {
   "cell_type": "markdown",
   "metadata": {},
   "source": [
    "###  Activity on sampling and scaling"
   ]
  },
  {
   "cell_type": "markdown",
   "metadata": {
    "collapsed": true
   },
   "source": [
    "#### Standardize the data (numerical attributes only) - Import StandardScaler\n"
   ]
  },
  {
   "cell_type": "code",
   "execution_count": 43,
   "metadata": {},
   "outputs": [
    {
     "data": {
      "text/plain": [
       "StandardScaler()"
      ]
     },
     "execution_count": 43,
     "metadata": {},
     "output_type": "execute_result"
    }
   ],
   "source": [
    "scaler = StandardScaler()\n",
    "scaler.fit(X_train[num_attr])"
   ]
  },
  {
   "cell_type": "code",
   "execution_count": 44,
   "metadata": {},
   "outputs": [],
   "source": [
    "X_train[num_attr]=scaler.transform(X_train[num_attr])\n",
    "X_test[num_attr]=scaler.transform(X_test[num_attr])"
   ]
  },
  {
   "cell_type": "markdown",
   "metadata": {},
   "source": [
    "#### Build KNN Classifier Model"
   ]
  },
  {
   "cell_type": "code",
   "execution_count": 45,
   "metadata": {
    "scrolled": true
   },
   "outputs": [
    {
     "data": {
      "text/plain": [
       "KNeighborsClassifier(n_neighbors=3)"
      ]
     },
     "execution_count": 45,
     "metadata": {},
     "output_type": "execute_result"
    }
   ],
   "source": [
    "model_knn= KNeighborsClassifier(n_neighbors=3)  #n_neighbors=5 (By default)\n",
    "model_knn.fit(X_train,y_train)"
   ]
  },
  {
   "cell_type": "markdown",
   "metadata": {},
   "source": [
    "#### Predict on the Test data"
   ]
  },
  {
   "cell_type": "code",
   "execution_count": 46,
   "metadata": {},
   "outputs": [],
   "source": [
    "y_train_pred_knn = model_knn.predict(X_train)\n",
    "y_test_pred_knn  = model_knn.predict(X_test)"
   ]
  },
  {
   "cell_type": "markdown",
   "metadata": {},
   "source": [
    "#### FIne the recall classification score"
   ]
  },
  {
   "cell_type": "markdown",
   "metadata": {},
   "source": [
    "Accuracy on training set: 0.972\n",
    "Accuracy on testing set: 0.950"
   ]
  },
  {
   "cell_type": "code",
   "execution_count": 47,
   "metadata": {},
   "outputs": [
    {
     "name": "stdout",
     "output_type": "stream",
     "text": [
      "Accuracy on training set: 0.978\n",
      "Accuracy on testing set: 0.953\n"
     ]
    }
   ],
   "source": [
    "print(\"Accuracy on training set: {:.3f}\".format(model_knn.score(X_train, y_train)))\n",
    "print(\"Accuracy on testing set: {:.3f}\".format(model_knn.score(X_test, y_test)))"
   ]
  },
  {
   "cell_type": "code",
   "execution_count": 48,
   "metadata": {
    "scrolled": true
   },
   "outputs": [
    {
     "name": "stdout",
     "output_type": "stream",
     "text": [
      "              precision    recall  f1-score   support\n",
      "\n",
      "           0       0.98      1.00      0.99      3616\n",
      "           1       0.99      0.77      0.87       384\n",
      "\n",
      "    accuracy                           0.98      4000\n",
      "   macro avg       0.98      0.89      0.93      4000\n",
      "weighted avg       0.98      0.98      0.98      4000\n",
      "\n"
     ]
    }
   ],
   "source": [
    "print(classification_report(y_train, y_train_pred_knn))"
   ]
  },
  {
   "cell_type": "markdown",
   "metadata": {},
   "source": [
    "    precision    recall  f1-score   support\n",
    "\n",
    "           0       0.96      0.99      0.97       904\n",
    "           1       0.87      0.56"
   ]
  },
  {
   "cell_type": "code",
   "execution_count": 49,
   "metadata": {
    "scrolled": false
   },
   "outputs": [
    {
     "name": "stdout",
     "output_type": "stream",
     "text": [
      "              precision    recall  f1-score   support\n",
      "\n",
      "           0       0.96      0.99      0.97       904\n",
      "           1       0.90      0.57      0.70        96\n",
      "\n",
      "    accuracy                           0.95      1000\n",
      "   macro avg       0.93      0.78      0.84      1000\n",
      "weighted avg       0.95      0.95      0.95      1000\n",
      "\n"
     ]
    }
   ],
   "source": [
    "print(classification_report(y_test, y_test_pred_knn))"
   ]
  },
  {
   "cell_type": "markdown",
   "metadata": {},
   "source": [
    "#### Building a logistic regression model"
   ]
  },
  {
   "cell_type": "code",
   "execution_count": 50,
   "metadata": {},
   "outputs": [],
   "source": [
    "log_mod = LogisticRegression()"
   ]
  },
  {
   "cell_type": "code",
   "execution_count": 51,
   "metadata": {},
   "outputs": [
    {
     "data": {
      "text/plain": [
       "LogisticRegression()"
      ]
     },
     "execution_count": 51,
     "metadata": {},
     "output_type": "execute_result"
    }
   ],
   "source": [
    "log_mod.fit(X_train, y_train)"
   ]
  },
  {
   "cell_type": "code",
   "execution_count": 52,
   "metadata": {},
   "outputs": [],
   "source": [
    "y_train_pred_logistic = log_mod.predict(X_train)\n",
    "y_test_pred_logistic = log_mod.predict(X_test)"
   ]
  },
  {
   "cell_type": "code",
   "execution_count": 53,
   "metadata": {},
   "outputs": [
    {
     "name": "stdout",
     "output_type": "stream",
     "text": [
      "Accuracy on training set: 0.961\n",
      "Accuracy on testing set: 0.960\n"
     ]
    }
   ],
   "source": [
    "print(\"Accuracy on training set: {:.3f}\".format(log_mod.score(X_train, y_train)))\n",
    "print(\"Accuracy on testing set: {:.3f}\".format(log_mod.score(X_test, y_test)))"
   ]
  },
  {
   "cell_type": "code",
   "execution_count": 54,
   "metadata": {},
   "outputs": [
    {
     "name": "stdout",
     "output_type": "stream",
     "text": [
      "              precision    recall  f1-score   support\n",
      "\n",
      "           0       0.97      0.99      0.98      3616\n",
      "           1       0.89      0.68      0.77       384\n",
      "\n",
      "    accuracy                           0.96      4000\n",
      "   macro avg       0.93      0.84      0.88      4000\n",
      "weighted avg       0.96      0.96      0.96      4000\n",
      "\n"
     ]
    }
   ],
   "source": [
    "print(classification_report(y_train, y_train_pred_logistic))"
   ]
  },
  {
   "cell_type": "code",
   "execution_count": 55,
   "metadata": {
    "scrolled": true
   },
   "outputs": [
    {
     "name": "stdout",
     "output_type": "stream",
     "text": [
      "              precision    recall  f1-score   support\n",
      "\n",
      "           0       0.96      0.99      0.98       904\n",
      "           1       0.92      0.64      0.75        96\n",
      "\n",
      "    accuracy                           0.96      1000\n",
      "   macro avg       0.94      0.81      0.87      1000\n",
      "weighted avg       0.96      0.96      0.96      1000\n",
      "\n"
     ]
    }
   ],
   "source": [
    "print(classification_report(y_test, y_test_pred_logistic))"
   ]
  },
  {
   "cell_type": "code",
   "execution_count": 56,
   "metadata": {},
   "outputs": [],
   "source": [
    "# predict probabilities\n",
    "pred_prob1 = log_mod.predict_proba(X_test)\n",
    "pred_prob2 = model_knn.predict_proba(X_test)"
   ]
  },
  {
   "cell_type": "code",
   "execution_count": 57,
   "metadata": {},
   "outputs": [],
   "source": [
    "from sklearn.metrics import roc_curve\n",
    "\n",
    "# roc curve for models\n",
    "fpr1, tpr1, thresh1 = roc_curve(y_test, pred_prob1[:,1], pos_label=1)\n",
    "fpr2, tpr2, thresh2 = roc_curve(y_test, pred_prob2[:,1], pos_label=1)\n",
    "\n",
    "# roc curve for tpr = fpr \n",
    "random_probs = [0 for i in range(len(y_test))]\n",
    "p_fpr, p_tpr, _ = roc_curve(y_test, random_probs, pos_label=1)"
   ]
  },
  {
   "cell_type": "code",
   "execution_count": 58,
   "metadata": {},
   "outputs": [
    {
     "name": "stdout",
     "output_type": "stream",
     "text": [
      "0.9456466629793511 0.9013297382005899\n"
     ]
    }
   ],
   "source": [
    "from sklearn.metrics import roc_auc_score\n",
    "\n",
    "# auc scores\n",
    "auc_score1 = roc_auc_score(y_test, pred_prob1[:,1])\n",
    "auc_score2 = roc_auc_score(y_test, pred_prob2[:,1])\n",
    "\n",
    "print(auc_score1, auc_score2)"
   ]
  },
  {
   "cell_type": "code",
   "execution_count": 59,
   "metadata": {},
   "outputs": [
    {
     "data": {
      "image/png": "[encoded data removed]",
      "text/plain": [
       "<Figure size 576x396 with 1 Axes>"
      ]
     },
     "metadata": {},
     "output_type": "display_data"
    }
   ],
   "source": [
    "# matplotlib\n",
    "import matplotlib.pyplot as plt\n",
    "plt.style.use('seaborn')\n",
    "\n",
    "# plot roc curves\n",
    "plt.plot(fpr1, tpr1, linestyle='--',color='orange', label='Logistic Regression')\n",
    "plt.plot(fpr2, tpr2, linestyle='--',color='green', label='KNN')\n",
    "plt.plot(p_fpr, p_tpr, linestyle='--', color='blue')\n",
    "# title\n",
    "plt.title('ROC curve')\n",
    "# x label\n",
    "plt.xlabel('False Positive Rate')\n",
    "# y label\n",
    "plt.ylabel('True Positive rate')\n",
    "\n",
    "plt.legend(loc='best')\n",
    "plt.savefig('ROC',dpi=300)\n",
    "plt.show();"
   ]
  },
  {
   "cell_type": "markdown",
   "metadata": {},
   "source": [
    "### Finding out the IDEAL K-value for the given dataset"
   ]
  },
  {
   "cell_type": "markdown",
   "metadata": {},
   "source": [
    "### Method-1"
   ]
  },
  {
   "cell_type": "code",
   "execution_count": 60,
   "metadata": {},
   "outputs": [],
   "source": [
    "# Creating list of different K values for KNN\n",
    "kvalues = list(range(2,12))"
   ]
  },
  {
   "cell_type": "code",
   "execution_count": 61,
   "metadata": {},
   "outputs": [
    {
     "data": {
      "text/plain": [
       "[2, 3, 4, 5, 6, 7, 8, 9, 10, 11]"
      ]
     },
     "execution_count": 61,
     "metadata": {},
     "output_type": "execute_result"
    }
   ],
   "source": [
    "kvalues"
   ]
  },
  {
   "cell_type": "code",
   "execution_count": 62,
   "metadata": {},
   "outputs": [
    {
     "name": "stdout",
     "output_type": "stream",
     "text": [
      "scores= [0.43421053 0.46753247 0.4025974  0.51948052 0.45454545]\n",
      "cv_scores= [0.4556732740943267]\n",
      "scores= [0.57894737 0.62337662 0.54545455 0.67532468 0.57142857]\n",
      "cv_scores= [0.4556732740943267, 0.5989063568010936]\n",
      "scores= [0.43421053 0.53246753 0.44155844 0.50649351 0.41558442]\n",
      "cv_scores= [0.4556732740943267, 0.5989063568010936, 0.46606288448393707]\n",
      "scores= [0.51315789 0.61038961 0.48051948 0.57142857 0.50649351]\n",
      "cv_scores= [0.4556732740943267, 0.5989063568010936, 0.46606288448393707, 0.5363978127136022]\n",
      "scores= [0.42105263 0.51948052 0.37662338 0.50649351 0.4025974 ]\n",
      "cv_scores= [0.4556732740943267, 0.5989063568010936, 0.46606288448393707, 0.5363978127136022, 0.4452494873547505]\n",
      "scores= [0.47368421 0.62337662 0.45454545 0.55844156 0.51948052]\n",
      "cv_scores= [0.4556732740943267, 0.5989063568010936, 0.46606288448393707, 0.5363978127136022, 0.4452494873547505, 0.5259056732740943]\n",
      "scores= [0.39473684 0.54545455 0.38961039 0.50649351 0.4025974 ]\n",
      "cv_scores= [0.4556732740943267, 0.5989063568010936, 0.46606288448393707, 0.5363978127136022, 0.4452494873547505, 0.5259056732740943, 0.4477785372522215]\n",
      "scores= [0.48684211 0.57142857 0.45454545 0.53246753 0.48051948]\n",
      "cv_scores= [0.4556732740943267, 0.5989063568010936, 0.46606288448393707, 0.5363978127136022, 0.4452494873547505, 0.5259056732740943, 0.4477785372522215, 0.5051606288448394]\n",
      "scores= [0.40789474 0.48051948 0.4025974  0.48051948 0.41558442]\n",
      "cv_scores= [0.4556732740943267, 0.5989063568010936, 0.46606288448393707, 0.5363978127136022, 0.4452494873547505, 0.5259056732740943, 0.4477785372522215, 0.5051606288448394, 0.4374231032125769]\n",
      "scores= [0.44736842 0.51948052 0.45454545 0.54545455 0.44155844]\n",
      "cv_scores= [0.4556732740943267, 0.5989063568010936, 0.46606288448393707, 0.5363978127136022, 0.4452494873547505, 0.5259056732740943, 0.4477785372522215, 0.5051606288448394, 0.4374231032125769, 0.4816814764183185]\n"
     ]
    }
   ],
   "source": [
    "# Empty list that will hold cv scores\n",
    "cv_scores = []\n",
    "\n",
    "# Perform 5-fold cross validation\n",
    "for k in kvalues:\n",
    "    knn = KNeighborsClassifier(n_neighbors=k)\n",
    "    scores = cross_val_score(knn, X_train, y_train, cv=5, scoring='recall')\n",
    "    print(\"scores=\",scores)\n",
    "    cv_scores.append(scores.mean())\n",
    "    print(\"cv_scores=\",cv_scores)"
   ]
  },
  {
   "cell_type": "code",
   "execution_count": 63,
   "metadata": {},
   "outputs": [
    {
     "data": {
      "text/plain": [
       "0.37252221199999996"
      ]
     },
     "execution_count": 63,
     "metadata": {},
     "output_type": "execute_result"
    }
   ],
   "source": [
    "np.array([0.42105263,0.32467532,0.33766234,0.45454545,0.32467532]).mean()"
   ]
  },
  {
   "cell_type": "code",
   "execution_count": 64,
   "metadata": {},
   "outputs": [
    {
     "data": {
      "text/plain": [
       "[0.4556732740943267,\n",
       " 0.5989063568010936,\n",
       " 0.46606288448393707,\n",
       " 0.5363978127136022,\n",
       " 0.4452494873547505,\n",
       " 0.5259056732740943,\n",
       " 0.4477785372522215,\n",
       " 0.5051606288448394,\n",
       " 0.4374231032125769,\n",
       " 0.4816814764183185]"
      ]
     },
     "execution_count": 64,
     "metadata": {},
     "output_type": "execute_result"
    }
   ],
   "source": [
    "cv_scores"
   ]
  },
  {
   "cell_type": "code",
   "execution_count": 65,
   "metadata": {},
   "outputs": [
    {
     "data": {
      "image/png": "[encoded data removed]",
      "text/plain": [
       "<Figure size 1080x360 with 1 Axes>"
      ]
     },
     "metadata": {},
     "output_type": "display_data"
    }
   ],
   "source": [
    "# plot misclassification error vs k\n",
    "plt.figure(figsize=(15,5))\n",
    "plt.plot(kvalues, cv_scores)\n",
    "\n",
    "plt.xticks(np.arange(2, 12, 1))\n",
    "plt.xlabel('Number of Neighbors K')\n",
    "plt.ylabel('Recall')\n",
    "plt.show()"
   ]
  },
  {
   "cell_type": "markdown",
   "metadata": {},
   "source": [
    "### Method-2: GridSearch Cross validation"
   ]
  },
  {
   "attachments": {
    "image.png": {
     "image/png": "[encoded data removed]"
    }
   },
   "cell_type": "markdown",
   "metadata": {},
   "source": [
    "![image.png](attachment:image.png)"
   ]
  },
  {
   "cell_type": "markdown",
   "metadata": {},
   "source": [
    "### K-fold Cross Validation:"
   ]
  },
  {
   "cell_type": "markdown",
   "metadata": {},
   "source": [
    "#### 1. Use the GridSearchCV "
   ]
  },
  {
   "cell_type": "code",
   "execution_count": 66,
   "metadata": {
    "scrolled": true
   },
   "outputs": [
    {
     "name": "stdout",
     "output_type": "stream",
     "text": [
      "Fitting 5 folds for each of 10 candidates, totalling 50 fits\n"
     ]
    },
    {
     "name": "stderr",
     "output_type": "stream",
     "text": [
      "[Parallel(n_jobs=1)]: Using backend SequentialBackend with 1 concurrent workers.\n",
      "[Parallel(n_jobs=1)]: Done  50 out of  50 | elapsed:    6.0s finished\n"
     ]
    },
    {
     "data": {
      "text/plain": [
       "GridSearchCV(cv=5,\n",
       "             estimator=KNeighborsClassifier(metric='euclidean', n_jobs=-1),\n",
       "             param_grid={'n_neighbors': [2, 3, 4, 5, 6, 7, 8, 9, 10, 11]},\n",
       "             scoring='recall', verbose=1)"
      ]
     },
     "execution_count": 66,
     "metadata": {},
     "output_type": "execute_result"
    }
   ],
   "source": [
    "parameters = {'n_neighbors':list(range(2,12))}\n",
    "\n",
    "clf = GridSearchCV(KNeighborsClassifier(metric=\"euclidean\", n_jobs=-1),\n",
    "                   parameters,verbose=1, cv=5,scoring='recall')\n",
    "\n",
    "clf.fit(X=X_train, y=y_train)"
   ]
  },
  {
   "cell_type": "code",
   "execution_count": 67,
   "metadata": {},
   "outputs": [
    {
     "data": {
      "text/plain": [
       "KNeighborsClassifier(metric='euclidean', n_jobs=-1, n_neighbors=3)"
      ]
     },
     "execution_count": 67,
     "metadata": {},
     "output_type": "execute_result"
    }
   ],
   "source": [
    "knn_model = clf.best_estimator_\n",
    "knn_model"
   ]
  },
  {
   "cell_type": "code",
   "execution_count": 68,
   "metadata": {},
   "outputs": [
    {
     "name": "stdout",
     "output_type": "stream",
     "text": [
      "0.5989063568010936 {'n_neighbors': 3}\n"
     ]
    }
   ],
   "source": [
    "print (clf.best_score_, clf.best_params_) "
   ]
  },
  {
   "cell_type": "markdown",
   "metadata": {},
   "source": [
    "#### 2. Predict on the test data using the best model"
   ]
  },
  {
   "cell_type": "code",
   "execution_count": 69,
   "metadata": {},
   "outputs": [],
   "source": [
    "y_pred_test=knn_model.predict(X_test)"
   ]
  },
  {
   "cell_type": "code",
   "execution_count": 70,
   "metadata": {},
   "outputs": [],
   "source": [
    "y_train_pred = knn_model.predict(X_train)\n",
    "y_test_pred  = knn_model.predict(X_test)"
   ]
  },
  {
   "cell_type": "code",
   "execution_count": 71,
   "metadata": {},
   "outputs": [
    {
     "data": {
      "text/plain": [
       "array([0, 0, 0, 0, 0])"
      ]
     },
     "execution_count": 71,
     "metadata": {},
     "output_type": "execute_result"
    }
   ],
   "source": [
    "y_pred_test[:5]"
   ]
  },
  {
   "cell_type": "code",
   "execution_count": 72,
   "metadata": {},
   "outputs": [
    {
     "name": "stdout",
     "output_type": "stream",
     "text": [
      "Accuracy on training set: 0.978\n",
      "Accuracy on testing set: 0.953\n"
     ]
    }
   ],
   "source": [
    "print(\"Accuracy on training set: {:.3f}\".format(knn_model.score(X_train, y_train)))\n",
    "print(\"Accuracy on testing set: {:.3f}\".format(knn_model.score(X_test, y_test)))"
   ]
  },
  {
   "cell_type": "code",
   "execution_count": 73,
   "metadata": {},
   "outputs": [
    {
     "name": "stdout",
     "output_type": "stream",
     "text": [
      "              precision    recall  f1-score   support\n",
      "\n",
      "           0       0.98      1.00      0.99      3616\n",
      "           1       0.99      0.77      0.87       384\n",
      "\n",
      "    accuracy                           0.98      4000\n",
      "   macro avg       0.98      0.89      0.93      4000\n",
      "weighted avg       0.98      0.98      0.98      4000\n",
      "\n"
     ]
    }
   ],
   "source": [
    "print(classification_report(y_train, y_train_pred))"
   ]
  },
  {
   "cell_type": "code",
   "execution_count": 74,
   "metadata": {},
   "outputs": [
    {
     "name": "stdout",
     "output_type": "stream",
     "text": [
      "              precision    recall  f1-score   support\n",
      "\n",
      "           0       0.96      0.99      0.97       904\n",
      "           1       0.90      0.57      0.70        96\n",
      "\n",
      "    accuracy                           0.95      1000\n",
      "   macro avg       0.93      0.78      0.84      1000\n",
      "weighted avg       0.95      0.95      0.95      1000\n",
      "\n"
     ]
    }
   ],
   "source": [
    "print(classification_report(y_test, y_test_pred))"
   ]
  },
  {
   "cell_type": "markdown",
   "metadata": {},
   "source": [
    "#### 3. Compute confusion matrix to evaluate the accuracy of the classification "
   ]
  },
  {
   "cell_type": "code",
   "execution_count": 75,
   "metadata": {
    "scrolled": true
   },
   "outputs": [
    {
     "name": "stdout",
     "output_type": "stream",
     "text": [
      "[[898   6]\n",
      " [ 41  55]]\n"
     ]
    }
   ],
   "source": [
    "print(confusion_matrix(y_test, y_pred_test))"
   ]
  },
  {
   "cell_type": "markdown",
   "metadata": {},
   "source": [
    "#### 4.  classification score"
   ]
  },
  {
   "cell_type": "code",
   "execution_count": 76,
   "metadata": {},
   "outputs": [
    {
     "name": "stdout",
     "output_type": "stream",
     "text": [
      "0.5729166666666666\n"
     ]
    }
   ],
   "source": [
    "from sklearn.metrics import recall_score\n",
    "print(recall_score(y_test,y_pred_test))"
   ]
  },
  {
   "cell_type": "markdown",
   "metadata": {},
   "source": [
    "## CNN With KNN"
   ]
  },
  {
   "cell_type": "code",
   "execution_count": 77,
   "metadata": {},
   "outputs": [],
   "source": [
    "cnn = CondensedNearestNeighbour(n_neighbors=3)\n",
    "X_cnn_train, y_cnn_train = cnn.fit_sample(X_train, y_train)\n",
    "X_cnn_test, y_cnn_test = cnn.fit_sample(X_test,y_test)"
   ]
  },
  {
   "cell_type": "code",
   "execution_count": 78,
   "metadata": {},
   "outputs": [
    {
     "data": {
      "text/plain": [
       "(4000, 20)"
      ]
     },
     "execution_count": 78,
     "metadata": {},
     "output_type": "execute_result"
    }
   ],
   "source": [
    "X_train.shape"
   ]
  },
  {
   "cell_type": "code",
   "execution_count": 79,
   "metadata": {},
   "outputs": [
    {
     "data": {
      "text/plain": [
       "(692, 20)"
      ]
     },
     "execution_count": 79,
     "metadata": {},
     "output_type": "execute_result"
    }
   ],
   "source": [
    "X_cnn_train.shape"
   ]
  },
  {
   "cell_type": "code",
   "execution_count": 80,
   "metadata": {
    "scrolled": true
   },
   "outputs": [
    {
     "data": {
      "text/html": [
       "<div>\n",
       "<style scoped>\n",
       "    .dataframe tbody tr th:only-of-type {\n",
       "        vertical-align: middle;\n",
       "    }\n",
       "\n",
       "    .dataframe tbody tr th {\n",
       "        vertical-align: top;\n",
       "    }\n",
       "\n",
       "    .dataframe thead th {\n",
       "        text-align: right;\n",
       "    }\n",
       "</style>\n",
       "<table border=\"1\" class=\"dataframe\">\n",
       "  <thead>\n",
       "    <tr style=\"text-align: right;\">\n",
       "      <th></th>\n",
       "      <th>Age</th>\n",
       "      <th>Experience</th>\n",
       "      <th>Income</th>\n",
       "      <th>CCAvg</th>\n",
       "      <th>Mortgage</th>\n",
       "      <th>Education_1</th>\n",
       "      <th>Education_2</th>\n",
       "      <th>Education_3</th>\n",
       "      <th>Family_1</th>\n",
       "      <th>Family_2</th>\n",
       "      <th>Family_3</th>\n",
       "      <th>Family_4</th>\n",
       "      <th>CD Account_0.0</th>\n",
       "      <th>CD Account_1.0</th>\n",
       "      <th>Online_0</th>\n",
       "      <th>Online_1</th>\n",
       "      <th>CreditCard_0</th>\n",
       "      <th>CreditCard_1</th>\n",
       "      <th>Securities Account_0.0</th>\n",
       "      <th>Securities Account_1.0</th>\n",
       "    </tr>\n",
       "  </thead>\n",
       "  <tbody>\n",
       "    <tr>\n",
       "      <th>0</th>\n",
       "      <td>0.587547</td>\n",
       "      <td>0.695376</td>\n",
       "      <td>-0.043503</td>\n",
       "      <td>-1.103894</td>\n",
       "      <td>1.193196</td>\n",
       "      <td>1.0</td>\n",
       "      <td>0.0</td>\n",
       "      <td>0.0</td>\n",
       "      <td>1.0</td>\n",
       "      <td>0.0</td>\n",
       "      <td>0.0</td>\n",
       "      <td>0.0</td>\n",
       "      <td>1.0</td>\n",
       "      <td>0.0</td>\n",
       "      <td>1.0</td>\n",
       "      <td>0.0</td>\n",
       "      <td>1.0</td>\n",
       "      <td>0.0</td>\n",
       "      <td>1.0</td>\n",
       "      <td>0.0</td>\n",
       "    </tr>\n",
       "    <tr>\n",
       "      <th>1</th>\n",
       "      <td>-1.256633</td>\n",
       "      <td>-1.323642</td>\n",
       "      <td>0.794945</td>\n",
       "      <td>-0.990617</td>\n",
       "      <td>-0.559325</td>\n",
       "      <td>1.0</td>\n",
       "      <td>0.0</td>\n",
       "      <td>0.0</td>\n",
       "      <td>0.0</td>\n",
       "      <td>1.0</td>\n",
       "      <td>0.0</td>\n",
       "      <td>0.0</td>\n",
       "      <td>1.0</td>\n",
       "      <td>0.0</td>\n",
       "      <td>1.0</td>\n",
       "      <td>0.0</td>\n",
       "      <td>1.0</td>\n",
       "      <td>0.0</td>\n",
       "      <td>1.0</td>\n",
       "      <td>0.0</td>\n",
       "    </tr>\n",
       "    <tr>\n",
       "      <th>2</th>\n",
       "      <td>1.641364</td>\n",
       "      <td>1.748777</td>\n",
       "      <td>1.224918</td>\n",
       "      <td>1.048374</td>\n",
       "      <td>-0.559325</td>\n",
       "      <td>1.0</td>\n",
       "      <td>0.0</td>\n",
       "      <td>0.0</td>\n",
       "      <td>1.0</td>\n",
       "      <td>0.0</td>\n",
       "      <td>0.0</td>\n",
       "      <td>0.0</td>\n",
       "      <td>1.0</td>\n",
       "      <td>0.0</td>\n",
       "      <td>1.0</td>\n",
       "      <td>0.0</td>\n",
       "      <td>1.0</td>\n",
       "      <td>0.0</td>\n",
       "      <td>1.0</td>\n",
       "      <td>0.0</td>\n",
       "    </tr>\n",
       "    <tr>\n",
       "      <th>3</th>\n",
       "      <td>0.851001</td>\n",
       "      <td>0.783159</td>\n",
       "      <td>-0.043503</td>\n",
       "      <td>-0.933978</td>\n",
       "      <td>0.887982</td>\n",
       "      <td>0.0</td>\n",
       "      <td>1.0</td>\n",
       "      <td>0.0</td>\n",
       "      <td>0.0</td>\n",
       "      <td>0.0</td>\n",
       "      <td>1.0</td>\n",
       "      <td>0.0</td>\n",
       "      <td>1.0</td>\n",
       "      <td>0.0</td>\n",
       "      <td>1.0</td>\n",
       "      <td>0.0</td>\n",
       "      <td>1.0</td>\n",
       "      <td>0.0</td>\n",
       "      <td>1.0</td>\n",
       "      <td>0.0</td>\n",
       "    </tr>\n",
       "    <tr>\n",
       "      <th>4</th>\n",
       "      <td>1.377910</td>\n",
       "      <td>1.397643</td>\n",
       "      <td>-1.376419</td>\n",
       "      <td>-0.877340</td>\n",
       "      <td>-0.559325</td>\n",
       "      <td>0.0</td>\n",
       "      <td>1.0</td>\n",
       "      <td>0.0</td>\n",
       "      <td>0.0</td>\n",
       "      <td>0.0</td>\n",
       "      <td>0.0</td>\n",
       "      <td>1.0</td>\n",
       "      <td>1.0</td>\n",
       "      <td>0.0</td>\n",
       "      <td>0.0</td>\n",
       "      <td>1.0</td>\n",
       "      <td>1.0</td>\n",
       "      <td>0.0</td>\n",
       "      <td>1.0</td>\n",
       "      <td>0.0</td>\n",
       "    </tr>\n",
       "  </tbody>\n",
       "</table>\n",
       "</div>"
      ],
      "text/plain": [
       "        Age  Experience    Income     CCAvg  Mortgage  Education_1  \\\n",
       "0  0.587547    0.695376 -0.043503 -1.103894  1.193196          1.0   \n",
       "1 -1.256633   -1.323642  0.794945 -0.990617 -0.559325          1.0   \n",
       "2  1.641364    1.748777  1.224918  1.048374 -0.559325          1.0   \n",
       "3  0.851001    0.783159 -0.043503 -0.933978  0.887982          0.0   \n",
       "4  1.377910    1.397643 -1.376419 -0.877340 -0.559325          0.0   \n",
       "\n",
       "   Education_2  Education_3  Family_1  Family_2  Family_3  Family_4  \\\n",
       "0          0.0          0.0       1.0       0.0       0.0       0.0   \n",
       "1          0.0          0.0       0.0       1.0       0.0       0.0   \n",
       "2          0.0          0.0       1.0       0.0       0.0       0.0   \n",
       "3          1.0          0.0       0.0       0.0       1.0       0.0   \n",
       "4          1.0          0.0       0.0       0.0       0.0       1.0   \n",
       "\n",
       "   CD Account_0.0  CD Account_1.0  Online_0  Online_1  CreditCard_0  \\\n",
       "0             1.0             0.0       1.0       0.0           1.0   \n",
       "1             1.0             0.0       1.0       0.0           1.0   \n",
       "2             1.0             0.0       1.0       0.0           1.0   \n",
       "3             1.0             0.0       1.0       0.0           1.0   \n",
       "4             1.0             0.0       0.0       1.0           1.0   \n",
       "\n",
       "   CreditCard_1  Securities Account_0.0  Securities Account_1.0  \n",
       "0           0.0                     1.0                     0.0  \n",
       "1           0.0                     1.0                     0.0  \n",
       "2           0.0                     1.0                     0.0  \n",
       "3           0.0                     1.0                     0.0  \n",
       "4           0.0                     1.0                     0.0  "
      ]
     },
     "execution_count": 80,
     "metadata": {},
     "output_type": "execute_result"
    }
   ],
   "source": [
    "X_cnn_train.head(5)"
   ]
  },
  {
   "cell_type": "code",
   "execution_count": 81,
   "metadata": {},
   "outputs": [
    {
     "data": {
      "text/plain": [
       "(1000, 20)"
      ]
     },
     "execution_count": 81,
     "metadata": {},
     "output_type": "execute_result"
    }
   ],
   "source": [
    "X_test.shape"
   ]
  },
  {
   "cell_type": "code",
   "execution_count": 82,
   "metadata": {},
   "outputs": [
    {
     "data": {
      "text/plain": [
       "(207, 20)"
      ]
     },
     "execution_count": 82,
     "metadata": {},
     "output_type": "execute_result"
    }
   ],
   "source": [
    "X_cnn_test.shape"
   ]
  },
  {
   "cell_type": "code",
   "execution_count": 83,
   "metadata": {},
   "outputs": [
    {
     "data": {
      "text/plain": [
       "(692,)"
      ]
     },
     "execution_count": 83,
     "metadata": {},
     "output_type": "execute_result"
    }
   ],
   "source": [
    "y_cnn_train.shape"
   ]
  },
  {
   "cell_type": "code",
   "execution_count": 84,
   "metadata": {},
   "outputs": [
    {
     "data": {
      "text/plain": [
       "(207,)"
      ]
     },
     "execution_count": 84,
     "metadata": {},
     "output_type": "execute_result"
    }
   ],
   "source": [
    "y_cnn_test.shape"
   ]
  },
  {
   "cell_type": "markdown",
   "metadata": {},
   "source": [
    "### KNN"
   ]
  },
  {
   "cell_type": "code",
   "execution_count": 85,
   "metadata": {},
   "outputs": [
    {
     "data": {
      "text/plain": [
       "KNeighborsClassifier(n_neighbors=3)"
      ]
     },
     "execution_count": 85,
     "metadata": {},
     "output_type": "execute_result"
    }
   ],
   "source": [
    "cnn_model= KNeighborsClassifier(n_neighbors=3)\n",
    "cnn_model.fit(X_cnn_train,y_cnn_train)"
   ]
  },
  {
   "cell_type": "code",
   "execution_count": 86,
   "metadata": {},
   "outputs": [],
   "source": [
    "y_train_pred_cnn = cnn_model.predict(X_cnn_train)\n",
    "y_test_pred_cnn  = cnn_model.predict(X_cnn_test)"
   ]
  },
  {
   "cell_type": "code",
   "execution_count": 87,
   "metadata": {},
   "outputs": [
    {
     "name": "stdout",
     "output_type": "stream",
     "text": [
      "Accuracy on training set: 0.899\n",
      "Accuracy on testing set: 0.850\n"
     ]
    }
   ],
   "source": [
    "print(\"Accuracy on training set: {:.3f}\".format(cnn_model.score(X_cnn_train, y_cnn_train)))\n",
    "print(\"Accuracy on testing set: {:.3f}\".format(cnn_model.score(X_cnn_test, y_cnn_test)))"
   ]
  },
  {
   "cell_type": "code",
   "execution_count": 88,
   "metadata": {},
   "outputs": [
    {
     "name": "stdout",
     "output_type": "stream",
     "text": [
      "              precision    recall  f1-score   support\n",
      "\n",
      "           0       0.88      0.89      0.89       308\n",
      "           1       0.91      0.90      0.91       384\n",
      "\n",
      "    accuracy                           0.90       692\n",
      "   macro avg       0.90      0.90      0.90       692\n",
      "weighted avg       0.90      0.90      0.90       692\n",
      "\n"
     ]
    }
   ],
   "source": [
    "print(classification_report(y_cnn_train, y_train_pred_cnn))"
   ]
  },
  {
   "cell_type": "code",
   "execution_count": 89,
   "metadata": {},
   "outputs": [
    {
     "name": "stdout",
     "output_type": "stream",
     "text": [
      "              precision    recall  f1-score   support\n",
      "\n",
      "           0       0.84      0.89      0.86       111\n",
      "           1       0.87      0.80      0.83        96\n",
      "\n",
      "    accuracy                           0.85       207\n",
      "   macro avg       0.85      0.85      0.85       207\n",
      "weighted avg       0.85      0.85      0.85       207\n",
      "\n"
     ]
    }
   ],
   "source": [
    "print(classification_report(y_cnn_test, y_test_pred_cnn))"
   ]
  },
  {
   "cell_type": "markdown",
   "metadata": {},
   "source": [
    "### Reference: \n",
    "\n",
    "Regressor:\n",
    "\n",
    "https://scikit-learn.org/stable/modules/generated/sklearn.neighbors.KNeighborsRegressor.html#sklearn.neighbors.KNeighborsRegressor\n",
    "\n",
    "Classifier:\n",
    "\n",
    "https://scikit-learn.org/stable/modules/generated/sklearn.neighbors.KNeighborsClassifier.html#sklearn.neighbors.KNeighborsClassifier\n",
    "\n",
    "GridSearchCV:\n",
    "\n",
    "https://scikit-learn.org/stable/modules/generated/sklearn.model_selection.GridSearchCV.html"
   ]
  },
  {
   "cell_type": "markdown",
   "metadata": {},
   "source": []
  }
 ],
 "metadata": {
  "anaconda-cloud": {},
  "kernelspec": {
   "display_name": "Python 3",
   "language": "python",
   "name": "python3"
  },
  "language_info": {
   "codemirror_mode": {
    "name": "ipython",
    "version": 3
   },
   "file_extension": ".py",
   "mimetype": "text/x-python",
   "name": "python",
   "nbconvert_exporter": "python",
   "pygments_lexer": "ipython3",
   "version": "3.8.5"
  }
 },
 "nbformat": 4,
 "nbformat_minor": 2
}
