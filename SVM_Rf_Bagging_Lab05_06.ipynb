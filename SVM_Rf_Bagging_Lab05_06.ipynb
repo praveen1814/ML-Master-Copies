{
  "nbformat": 4,
  "nbformat_minor": 0,
  "metadata": {
    "anaconda-cloud": {},
    "kernelspec": {
      "display_name": "Python 3",
      "language": "python",
      "name": "python3"
    },
    "language_info": {
      "codemirror_mode": {
        "name": "ipython",
        "version": 3
      },
      "file_extension": ".py",
      "mimetype": "text/x-python",
      "name": "python",
      "nbconvert_exporter": "python",
      "pygments_lexer": "ipython3",
      "version": "3.7.4"
    },
    "colab": {
      "name": "SVM_Rf_Bagging_Lab04.ipynb",
      "provenance": [],
      "collapsed_sections": [
        "nM5EGe9Jqnrc",
        "9DTqqTspqnrf",
        "doM-vSrfqnrh",
        "T_VAiidiqnrj"
      ]
    }
  },
  "cells": [
    {
      "cell_type": "code",
      "metadata": {
        "id": "ogq8k7nHqnq_"
      },
      "source": [
        "\n",
        "import os\n",
        "import pandas as pd\n",
        "#os.chdir(\"\")"
      ],
      "execution_count": null,
      "outputs": []
    },
    {
      "cell_type": "code",
      "metadata": {
        "colab": {
          "base_uri": "https://localhost:8080/"
        },
        "id": "-g1ypAk0uPdR",
        "outputId": "1aeab7a8-1b9a-4589-e214-bf0c58ae2625"
      },
      "source": [
        "os.listdir('./')"
      ],
      "execution_count": null,
      "outputs": [
        {
          "output_type": "execute_result",
          "data": {
            "text/plain": [
              "['.config', '.ipynb_checkpoints', 'UniversalBank.csv', 'sample_data']"
            ]
          },
          "metadata": {},
          "execution_count": 2
        }
      ]
    },
    {
      "cell_type": "markdown",
      "metadata": {
        "id": "SY9Ca22UqnrI"
      },
      "source": [
        "# Read Universalbank.csv ,while reading it replace '?', ',' as NAs\n",
        "# Check the dimensions and type"
      ]
    },
    {
      "cell_type": "code",
      "metadata": {
        "colab": {
          "base_uri": "https://localhost:8080/"
        },
        "id": "tlKUyxE9qnrK",
        "outputId": "75526baf-ddcf-4fd1-e3d5-167d7ba0be5d"
      },
      "source": [
        "bank=pd.read_csv(\"./UniversalBank.csv\",\n",
        "                 na_values=[\"?\",\",\"])\n",
        "print(bank.shape)\n",
        "print(type(bank))"
      ],
      "execution_count": null,
      "outputs": [
        {
          "output_type": "stream",
          "name": "stdout",
          "text": [
            "(5000, 14)\n",
            "<class 'pandas.core.frame.DataFrame'>\n"
          ]
        }
      ]
    },
    {
      "cell_type": "markdown",
      "metadata": {
        "id": "WGzsNt7fqnrM"
      },
      "source": [
        "# Print Columns names and check the datatypes of columns(dtypes)"
      ]
    },
    {
      "cell_type": "code",
      "metadata": {
        "scrolled": true,
        "colab": {
          "base_uri": "https://localhost:8080/"
        },
        "id": "OL30ntTxqnrN",
        "outputId": "3f6a0f8b-e199-485e-840f-82eb45cf2fac"
      },
      "source": [
        "print(bank.columns)\n",
        "print(bank.dtypes)"
      ],
      "execution_count": null,
      "outputs": [
        {
          "output_type": "stream",
          "name": "stdout",
          "text": [
            "Index(['ID', 'Age', 'Experience', 'Income', 'ZIP Code', 'Family', 'CCAvg',\n",
            "       'Education', 'Mortgage', 'Personal Loan', 'Securities Account',\n",
            "       'CD Account', 'Online', 'CreditCard'],\n",
            "      dtype='object')\n",
            "ID                      int64\n",
            "Age                   float64\n",
            "Experience            float64\n",
            "Income                float64\n",
            "ZIP Code                int64\n",
            "Family                  int64\n",
            "CCAvg                 float64\n",
            "Education               int64\n",
            "Mortgage                int64\n",
            "Personal Loan           int64\n",
            "Securities Account      int64\n",
            "CD Account              int64\n",
            "Online                  int64\n",
            "CreditCard              int64\n",
            "dtype: object\n"
          ]
        }
      ]
    },
    {
      "cell_type": "code",
      "source": [
        "bank.head(3)"
      ],
      "metadata": {
        "colab": {
          "base_uri": "https://localhost:8080/",
          "height": 143
        },
        "id": "OR4HGohZvouU",
        "outputId": "0702e293-2f61-4f5d-88bc-f7915be1b305"
      },
      "execution_count": null,
      "outputs": [
        {
          "output_type": "execute_result",
          "data": {
            "text/plain": [
              "   ID   Age  Experience  Income  ZIP Code  Family  CCAvg  Education  Mortgage  \\\n",
              "0   1  25.0         1.0    49.0     91107       4    1.6          1         0   \n",
              "1   2  45.0        19.0    34.0     90089       3    1.5          1         0   \n",
              "2   3  39.0        15.0    11.0     94720       1    1.0          1         0   \n",
              "\n",
              "   Personal Loan  Securities Account  CD Account  Online  CreditCard  \n",
              "0              0                   1           0       0           0  \n",
              "1              0                   1           0       0           0  \n",
              "2              0                   0           0       0           0  "
            ],
            "text/html": [
              "\n",
              "  <div id=\"df-67a2fe28-595d-46dc-ae58-3f7f8fcef9df\">\n",
              "    <div class=\"colab-df-container\">\n",
              "      <div>\n",
              "<style scoped>\n",
              "    .dataframe tbody tr th:only-of-type {\n",
              "        vertical-align: middle;\n",
              "    }\n",
              "\n",
              "    .dataframe tbody tr th {\n",
              "        vertical-align: top;\n",
              "    }\n",
              "\n",
              "    .dataframe thead th {\n",
              "        text-align: right;\n",
              "    }\n",
              "</style>\n",
              "<table border=\"1\" class=\"dataframe\">\n",
              "  <thead>\n",
              "    <tr style=\"text-align: right;\">\n",
              "      <th></th>\n",
              "      <th>ID</th>\n",
              "      <th>Age</th>\n",
              "      <th>Experience</th>\n",
              "      <th>Income</th>\n",
              "      <th>ZIP Code</th>\n",
              "      <th>Family</th>\n",
              "      <th>CCAvg</th>\n",
              "      <th>Education</th>\n",
              "      <th>Mortgage</th>\n",
              "      <th>Personal Loan</th>\n",
              "      <th>Securities Account</th>\n",
              "      <th>CD Account</th>\n",
              "      <th>Online</th>\n",
              "      <th>CreditCard</th>\n",
              "    </tr>\n",
              "  </thead>\n",
              "  <tbody>\n",
              "    <tr>\n",
              "      <th>0</th>\n",
              "      <td>1</td>\n",
              "      <td>25.0</td>\n",
              "      <td>1.0</td>\n",
              "      <td>49.0</td>\n",
              "      <td>91107</td>\n",
              "      <td>4</td>\n",
              "      <td>1.6</td>\n",
              "      <td>1</td>\n",
              "      <td>0</td>\n",
              "      <td>0</td>\n",
              "      <td>1</td>\n",
              "      <td>0</td>\n",
              "      <td>0</td>\n",
              "      <td>0</td>\n",
              "    </tr>\n",
              "    <tr>\n",
              "      <th>1</th>\n",
              "      <td>2</td>\n",
              "      <td>45.0</td>\n",
              "      <td>19.0</td>\n",
              "      <td>34.0</td>\n",
              "      <td>90089</td>\n",
              "      <td>3</td>\n",
              "      <td>1.5</td>\n",
              "      <td>1</td>\n",
              "      <td>0</td>\n",
              "      <td>0</td>\n",
              "      <td>1</td>\n",
              "      <td>0</td>\n",
              "      <td>0</td>\n",
              "      <td>0</td>\n",
              "    </tr>\n",
              "    <tr>\n",
              "      <th>2</th>\n",
              "      <td>3</td>\n",
              "      <td>39.0</td>\n",
              "      <td>15.0</td>\n",
              "      <td>11.0</td>\n",
              "      <td>94720</td>\n",
              "      <td>1</td>\n",
              "      <td>1.0</td>\n",
              "      <td>1</td>\n",
              "      <td>0</td>\n",
              "      <td>0</td>\n",
              "      <td>0</td>\n",
              "      <td>0</td>\n",
              "      <td>0</td>\n",
              "      <td>0</td>\n",
              "    </tr>\n",
              "  </tbody>\n",
              "</table>\n",
              "</div>\n",
              "      <button class=\"colab-df-convert\" onclick=\"convertToInteractive('df-67a2fe28-595d-46dc-ae58-3f7f8fcef9df')\"\n",
              "              title=\"Convert this dataframe to an interactive table.\"\n",
              "              style=\"display:none;\">\n",
              "        \n",
              "  <svg xmlns=\"http://www.w3.org/2000/svg\" height=\"24px\"viewBox=\"0 0 24 24\"\n",
              "       width=\"24px\">\n",
              "    <path d=\"M0 0h24v24H0V0z\" fill=\"none\"/>\n",
              "    <path d=\"M18.56 5.44l.94 2.06.94-2.06 2.06-.94-2.06-.94-.94-2.06-.94 2.06-2.06.94zm-11 1L8.5 8.5l.94-2.06 2.06-.94-2.06-.94L8.5 2.5l-.94 2.06-2.06.94zm10 10l.94 2.06.94-2.06 2.06-.94-2.06-.94-.94-2.06-.94 2.06-2.06.94z\"/><path d=\"M17.41 7.96l-1.37-1.37c-.4-.4-.92-.59-1.43-.59-.52 0-1.04.2-1.43.59L10.3 9.45l-7.72 7.72c-.78.78-.78 2.05 0 2.83L4 21.41c.39.39.9.59 1.41.59.51 0 1.02-.2 1.41-.59l7.78-7.78 2.81-2.81c.8-.78.8-2.07 0-2.86zM5.41 20L4 18.59l7.72-7.72 1.47 1.35L5.41 20z\"/>\n",
              "  </svg>\n",
              "      </button>\n",
              "      \n",
              "  <style>\n",
              "    .colab-df-container {\n",
              "      display:flex;\n",
              "      flex-wrap:wrap;\n",
              "      gap: 12px;\n",
              "    }\n",
              "\n",
              "    .colab-df-convert {\n",
              "      background-color: #E8F0FE;\n",
              "      border: none;\n",
              "      border-radius: 50%;\n",
              "      cursor: pointer;\n",
              "      display: none;\n",
              "      fill: #1967D2;\n",
              "      height: 32px;\n",
              "      padding: 0 0 0 0;\n",
              "      width: 32px;\n",
              "    }\n",
              "\n",
              "    .colab-df-convert:hover {\n",
              "      background-color: #E2EBFA;\n",
              "      box-shadow: 0px 1px 2px rgba(60, 64, 67, 0.3), 0px 1px 3px 1px rgba(60, 64, 67, 0.15);\n",
              "      fill: #174EA6;\n",
              "    }\n",
              "\n",
              "    [theme=dark] .colab-df-convert {\n",
              "      background-color: #3B4455;\n",
              "      fill: #D2E3FC;\n",
              "    }\n",
              "\n",
              "    [theme=dark] .colab-df-convert:hover {\n",
              "      background-color: #434B5C;\n",
              "      box-shadow: 0px 1px 3px 1px rgba(0, 0, 0, 0.15);\n",
              "      filter: drop-shadow(0px 1px 2px rgba(0, 0, 0, 0.3));\n",
              "      fill: #FFFFFF;\n",
              "    }\n",
              "  </style>\n",
              "\n",
              "      <script>\n",
              "        const buttonEl =\n",
              "          document.querySelector('#df-67a2fe28-595d-46dc-ae58-3f7f8fcef9df button.colab-df-convert');\n",
              "        buttonEl.style.display =\n",
              "          google.colab.kernel.accessAllowed ? 'block' : 'none';\n",
              "\n",
              "        async function convertToInteractive(key) {\n",
              "          const element = document.querySelector('#df-67a2fe28-595d-46dc-ae58-3f7f8fcef9df');\n",
              "          const dataTable =\n",
              "            await google.colab.kernel.invokeFunction('convertToInteractive',\n",
              "                                                     [key], {});\n",
              "          if (!dataTable) return;\n",
              "\n",
              "          const docLinkHtml = 'Like what you see? Visit the ' +\n",
              "            '<a target=\"_blank\" href=https://colab.research.google.com/notebooks/data_table.ipynb>data table notebook</a>'\n",
              "            + ' to learn more about interactive tables.';\n",
              "          element.innerHTML = '';\n",
              "          dataTable['output_type'] = 'display_data';\n",
              "          await google.colab.output.renderOutput(dataTable, element);\n",
              "          const docLink = document.createElement('div');\n",
              "          docLink.innerHTML = docLinkHtml;\n",
              "          element.appendChild(docLink);\n",
              "        }\n",
              "      </script>\n",
              "    </div>\n",
              "  </div>\n",
              "  "
            ]
          },
          "metadata": {},
          "execution_count": 5
        }
      ]
    },
    {
      "cell_type": "markdown",
      "metadata": {
        "id": "Az9AGcuSqnrO"
      },
      "source": [
        "# Check the missing values "
      ]
    },
    {
      "cell_type": "code",
      "metadata": {
        "colab": {
          "base_uri": "https://localhost:8080/"
        },
        "id": "K0UuOm5hqnrP",
        "outputId": "6d014568-1805-4042-a07a-ebd554c1c302"
      },
      "source": [
        "bank.isnull().sum()"
      ],
      "execution_count": null,
      "outputs": [
        {
          "output_type": "execute_result",
          "data": {
            "text/plain": [
              "ID                     0\n",
              "Age                    2\n",
              "Experience             2\n",
              "Income                13\n",
              "ZIP Code               0\n",
              "Family                 0\n",
              "CCAvg                  0\n",
              "Education              0\n",
              "Mortgage               0\n",
              "Personal Loan          0\n",
              "Securities Account     0\n",
              "CD Account             0\n",
              "Online                 0\n",
              "CreditCard             0\n",
              "dtype: int64"
            ]
          },
          "metadata": {},
          "execution_count": 6
        }
      ]
    },
    {
      "cell_type": "markdown",
      "metadata": {
        "id": "dIEP6GP9qnrQ"
      },
      "source": [
        "# Impute them with mean or median or mode(It is subjective;fillna())"
      ]
    },
    {
      "cell_type": "code",
      "metadata": {
        "colab": {
          "base_uri": "https://localhost:8080/"
        },
        "id": "4pY--lMOqnrQ",
        "outputId": "4e5f5da3-1f1c-4043-e6f2-c14d655be36a"
      },
      "source": [
        "bank['Age'].fillna(bank['Age'].mean(),inplace=True)\n",
        "bank['Experience'].fillna(bank['Experience'].mean(),\n",
        "                          inplace=True)\n",
        "bank['Income'].fillna(bank['Income'].mean(),inplace=True)\n",
        "bank.isnull().sum()\n",
        "\n",
        "#When you have more columns use the following code\n",
        "#for column in ['Age', 'Experience', 'Income']:\n",
        "#    bank[column].fillna(bank[column].mean(), inplace=True)\n",
        "#If you want to replace with median use median() instead of mean()\n",
        "#If you want to replace with mode use mode()[0]"
      ],
      "execution_count": null,
      "outputs": [
        {
          "output_type": "execute_result",
          "data": {
            "text/plain": [
              "ID                    0\n",
              "Age                   0\n",
              "Experience            0\n",
              "Income                0\n",
              "ZIP Code              0\n",
              "Family                0\n",
              "CCAvg                 0\n",
              "Education             0\n",
              "Mortgage              0\n",
              "Personal Loan         0\n",
              "Securities Account    0\n",
              "CD Account            0\n",
              "Online                0\n",
              "CreditCard            0\n",
              "dtype: int64"
            ]
          },
          "metadata": {},
          "execution_count": 7
        }
      ]
    },
    {
      "cell_type": "code",
      "source": [
        "#bank['Mortgage'].mode()[0]"
      ],
      "metadata": {
        "id": "BhplSN8Jzwrt"
      },
      "execution_count": null,
      "outputs": []
    },
    {
      "cell_type": "code",
      "metadata": {
        "colab": {
          "base_uri": "https://localhost:8080/"
        },
        "id": "kDcBo-09qnrR",
        "outputId": "9be5f076-ce52-425f-8217-ea26f85e44e7"
      },
      "source": [
        "#sample Code for median\n",
        "print(bank['Age'].median())\n",
        "#sample code for mode\n",
        "print(bank['Age'].mode()[0])\n"
      ],
      "execution_count": null,
      "outputs": [
        {
          "output_type": "stream",
          "name": "stdout",
          "text": [
            "45.0\n",
            "35.0\n"
          ]
        }
      ]
    },
    {
      "cell_type": "markdown",
      "metadata": {
        "id": "FeFfmNx_qnrS"
      },
      "source": [
        "# Check the Frequency of Target Varaible(value_counts())"
      ]
    },
    {
      "cell_type": "code",
      "metadata": {
        "colab": {
          "base_uri": "https://localhost:8080/"
        },
        "id": "imTTVkBCqnrT",
        "outputId": "1dc924be-e29e-4be9-a1ff-86dd1ffa1f68"
      },
      "source": [
        "bank[\"Personal Loan\"].value_counts()"
      ],
      "execution_count": null,
      "outputs": [
        {
          "output_type": "execute_result",
          "data": {
            "text/plain": [
              "0    4520\n",
              "1     480\n",
              "Name: Personal Loan, dtype: int64"
            ]
          },
          "metadata": {},
          "execution_count": 10
        }
      ]
    },
    {
      "cell_type": "code",
      "source": [
        "bank.set_index(bank[\"ID\"],inplace=True)"
      ],
      "metadata": {
        "id": "ZG7LKaosbkI8"
      },
      "execution_count": null,
      "outputs": []
    },
    {
      "cell_type": "code",
      "source": [
        "bank.head()\n"
      ],
      "metadata": {
        "id": "DZYfSEMZbqws",
        "colab": {
          "base_uri": "https://localhost:8080/",
          "height": 238
        },
        "outputId": "3014f6aa-0062-464e-fb86-942dbb5c8b82"
      },
      "execution_count": null,
      "outputs": [
        {
          "output_type": "execute_result",
          "data": {
            "text/plain": [
              "    ID   Age  Experience  Income  ZIP Code  Family  CCAvg  Education  \\\n",
              "ID                                                                     \n",
              "1    1  25.0         1.0    49.0     91107       4    1.6          1   \n",
              "2    2  45.0        19.0    34.0     90089       3    1.5          1   \n",
              "3    3  39.0        15.0    11.0     94720       1    1.0          1   \n",
              "4    4  35.0         9.0   100.0     94112       1    2.7          2   \n",
              "5    5  35.0         8.0    45.0     91330       4    1.0          2   \n",
              "\n",
              "    Mortgage  Personal Loan  Securities Account  CD Account  Online  \\\n",
              "ID                                                                    \n",
              "1          0              0                   1           0       0   \n",
              "2          0              0                   1           0       0   \n",
              "3          0              0                   0           0       0   \n",
              "4          0              0                   0           0       0   \n",
              "5          0              0                   0           0       0   \n",
              "\n",
              "    CreditCard  \n",
              "ID              \n",
              "1            0  \n",
              "2            0  \n",
              "3            0  \n",
              "4            0  \n",
              "5            1  "
            ],
            "text/html": [
              "\n",
              "  <div id=\"df-2aad85a6-4970-420f-bc94-e3a645d78a51\">\n",
              "    <div class=\"colab-df-container\">\n",
              "      <div>\n",
              "<style scoped>\n",
              "    .dataframe tbody tr th:only-of-type {\n",
              "        vertical-align: middle;\n",
              "    }\n",
              "\n",
              "    .dataframe tbody tr th {\n",
              "        vertical-align: top;\n",
              "    }\n",
              "\n",
              "    .dataframe thead th {\n",
              "        text-align: right;\n",
              "    }\n",
              "</style>\n",
              "<table border=\"1\" class=\"dataframe\">\n",
              "  <thead>\n",
              "    <tr style=\"text-align: right;\">\n",
              "      <th></th>\n",
              "      <th>ID</th>\n",
              "      <th>Age</th>\n",
              "      <th>Experience</th>\n",
              "      <th>Income</th>\n",
              "      <th>ZIP Code</th>\n",
              "      <th>Family</th>\n",
              "      <th>CCAvg</th>\n",
              "      <th>Education</th>\n",
              "      <th>Mortgage</th>\n",
              "      <th>Personal Loan</th>\n",
              "      <th>Securities Account</th>\n",
              "      <th>CD Account</th>\n",
              "      <th>Online</th>\n",
              "      <th>CreditCard</th>\n",
              "    </tr>\n",
              "    <tr>\n",
              "      <th>ID</th>\n",
              "      <th></th>\n",
              "      <th></th>\n",
              "      <th></th>\n",
              "      <th></th>\n",
              "      <th></th>\n",
              "      <th></th>\n",
              "      <th></th>\n",
              "      <th></th>\n",
              "      <th></th>\n",
              "      <th></th>\n",
              "      <th></th>\n",
              "      <th></th>\n",
              "      <th></th>\n",
              "      <th></th>\n",
              "    </tr>\n",
              "  </thead>\n",
              "  <tbody>\n",
              "    <tr>\n",
              "      <th>1</th>\n",
              "      <td>1</td>\n",
              "      <td>25.0</td>\n",
              "      <td>1.0</td>\n",
              "      <td>49.0</td>\n",
              "      <td>91107</td>\n",
              "      <td>4</td>\n",
              "      <td>1.6</td>\n",
              "      <td>1</td>\n",
              "      <td>0</td>\n",
              "      <td>0</td>\n",
              "      <td>1</td>\n",
              "      <td>0</td>\n",
              "      <td>0</td>\n",
              "      <td>0</td>\n",
              "    </tr>\n",
              "    <tr>\n",
              "      <th>2</th>\n",
              "      <td>2</td>\n",
              "      <td>45.0</td>\n",
              "      <td>19.0</td>\n",
              "      <td>34.0</td>\n",
              "      <td>90089</td>\n",
              "      <td>3</td>\n",
              "      <td>1.5</td>\n",
              "      <td>1</td>\n",
              "      <td>0</td>\n",
              "      <td>0</td>\n",
              "      <td>1</td>\n",
              "      <td>0</td>\n",
              "      <td>0</td>\n",
              "      <td>0</td>\n",
              "    </tr>\n",
              "    <tr>\n",
              "      <th>3</th>\n",
              "      <td>3</td>\n",
              "      <td>39.0</td>\n",
              "      <td>15.0</td>\n",
              "      <td>11.0</td>\n",
              "      <td>94720</td>\n",
              "      <td>1</td>\n",
              "      <td>1.0</td>\n",
              "      <td>1</td>\n",
              "      <td>0</td>\n",
              "      <td>0</td>\n",
              "      <td>0</td>\n",
              "      <td>0</td>\n",
              "      <td>0</td>\n",
              "      <td>0</td>\n",
              "    </tr>\n",
              "    <tr>\n",
              "      <th>4</th>\n",
              "      <td>4</td>\n",
              "      <td>35.0</td>\n",
              "      <td>9.0</td>\n",
              "      <td>100.0</td>\n",
              "      <td>94112</td>\n",
              "      <td>1</td>\n",
              "      <td>2.7</td>\n",
              "      <td>2</td>\n",
              "      <td>0</td>\n",
              "      <td>0</td>\n",
              "      <td>0</td>\n",
              "      <td>0</td>\n",
              "      <td>0</td>\n",
              "      <td>0</td>\n",
              "    </tr>\n",
              "    <tr>\n",
              "      <th>5</th>\n",
              "      <td>5</td>\n",
              "      <td>35.0</td>\n",
              "      <td>8.0</td>\n",
              "      <td>45.0</td>\n",
              "      <td>91330</td>\n",
              "      <td>4</td>\n",
              "      <td>1.0</td>\n",
              "      <td>2</td>\n",
              "      <td>0</td>\n",
              "      <td>0</td>\n",
              "      <td>0</td>\n",
              "      <td>0</td>\n",
              "      <td>0</td>\n",
              "      <td>1</td>\n",
              "    </tr>\n",
              "  </tbody>\n",
              "</table>\n",
              "</div>\n",
              "      <button class=\"colab-df-convert\" onclick=\"convertToInteractive('df-2aad85a6-4970-420f-bc94-e3a645d78a51')\"\n",
              "              title=\"Convert this dataframe to an interactive table.\"\n",
              "              style=\"display:none;\">\n",
              "        \n",
              "  <svg xmlns=\"http://www.w3.org/2000/svg\" height=\"24px\"viewBox=\"0 0 24 24\"\n",
              "       width=\"24px\">\n",
              "    <path d=\"M0 0h24v24H0V0z\" fill=\"none\"/>\n",
              "    <path d=\"M18.56 5.44l.94 2.06.94-2.06 2.06-.94-2.06-.94-.94-2.06-.94 2.06-2.06.94zm-11 1L8.5 8.5l.94-2.06 2.06-.94-2.06-.94L8.5 2.5l-.94 2.06-2.06.94zm10 10l.94 2.06.94-2.06 2.06-.94-2.06-.94-.94-2.06-.94 2.06-2.06.94z\"/><path d=\"M17.41 7.96l-1.37-1.37c-.4-.4-.92-.59-1.43-.59-.52 0-1.04.2-1.43.59L10.3 9.45l-7.72 7.72c-.78.78-.78 2.05 0 2.83L4 21.41c.39.39.9.59 1.41.59.51 0 1.02-.2 1.41-.59l7.78-7.78 2.81-2.81c.8-.78.8-2.07 0-2.86zM5.41 20L4 18.59l7.72-7.72 1.47 1.35L5.41 20z\"/>\n",
              "  </svg>\n",
              "      </button>\n",
              "      \n",
              "  <style>\n",
              "    .colab-df-container {\n",
              "      display:flex;\n",
              "      flex-wrap:wrap;\n",
              "      gap: 12px;\n",
              "    }\n",
              "\n",
              "    .colab-df-convert {\n",
              "      background-color: #E8F0FE;\n",
              "      border: none;\n",
              "      border-radius: 50%;\n",
              "      cursor: pointer;\n",
              "      display: none;\n",
              "      fill: #1967D2;\n",
              "      height: 32px;\n",
              "      padding: 0 0 0 0;\n",
              "      width: 32px;\n",
              "    }\n",
              "\n",
              "    .colab-df-convert:hover {\n",
              "      background-color: #E2EBFA;\n",
              "      box-shadow: 0px 1px 2px rgba(60, 64, 67, 0.3), 0px 1px 3px 1px rgba(60, 64, 67, 0.15);\n",
              "      fill: #174EA6;\n",
              "    }\n",
              "\n",
              "    [theme=dark] .colab-df-convert {\n",
              "      background-color: #3B4455;\n",
              "      fill: #D2E3FC;\n",
              "    }\n",
              "\n",
              "    [theme=dark] .colab-df-convert:hover {\n",
              "      background-color: #434B5C;\n",
              "      box-shadow: 0px 1px 3px 1px rgba(0, 0, 0, 0.15);\n",
              "      filter: drop-shadow(0px 1px 2px rgba(0, 0, 0, 0.3));\n",
              "      fill: #FFFFFF;\n",
              "    }\n",
              "  </style>\n",
              "\n",
              "      <script>\n",
              "        const buttonEl =\n",
              "          document.querySelector('#df-2aad85a6-4970-420f-bc94-e3a645d78a51 button.colab-df-convert');\n",
              "        buttonEl.style.display =\n",
              "          google.colab.kernel.accessAllowed ? 'block' : 'none';\n",
              "\n",
              "        async function convertToInteractive(key) {\n",
              "          const element = document.querySelector('#df-2aad85a6-4970-420f-bc94-e3a645d78a51');\n",
              "          const dataTable =\n",
              "            await google.colab.kernel.invokeFunction('convertToInteractive',\n",
              "                                                     [key], {});\n",
              "          if (!dataTable) return;\n",
              "\n",
              "          const docLinkHtml = 'Like what you see? Visit the ' +\n",
              "            '<a target=\"_blank\" href=https://colab.research.google.com/notebooks/data_table.ipynb>data table notebook</a>'\n",
              "            + ' to learn more about interactive tables.';\n",
              "          element.innerHTML = '';\n",
              "          dataTable['output_type'] = 'display_data';\n",
              "          await google.colab.output.renderOutput(dataTable, element);\n",
              "          const docLink = document.createElement('div');\n",
              "          docLink.innerHTML = docLinkHtml;\n",
              "          element.appendChild(docLink);\n",
              "        }\n",
              "      </script>\n",
              "    </div>\n",
              "  </div>\n",
              "  "
            ]
          },
          "metadata": {},
          "execution_count": 12
        }
      ]
    },
    {
      "cell_type": "markdown",
      "metadata": {
        "id": "0YjeYiRbqnrT"
      },
      "source": [
        "# Drop Id column "
      ]
    },
    {
      "cell_type": "code",
      "metadata": {
        "id": "DphVyPIgqnrU"
      },
      "source": [
        "bank=bank.drop([\"ID\",\"ZIP Code\"],axis=1)"
      ],
      "execution_count": null,
      "outputs": []
    },
    {
      "cell_type": "code",
      "metadata": {
        "colab": {
          "base_uri": "https://localhost:8080/",
          "height": 269
        },
        "id": "ylDHfYV7qnrU",
        "outputId": "370deba0-cec8-4b38-c82d-15edcb0f368c"
      },
      "source": [
        "bank.head(6)"
      ],
      "execution_count": null,
      "outputs": [
        {
          "output_type": "execute_result",
          "data": {
            "text/plain": [
              "     Age  Experience  Income  Family  CCAvg  Education  Mortgage  \\\n",
              "ID                                                                 \n",
              "1   25.0         1.0    49.0       4    1.6          1         0   \n",
              "2   45.0        19.0    34.0       3    1.5          1         0   \n",
              "3   39.0        15.0    11.0       1    1.0          1         0   \n",
              "4   35.0         9.0   100.0       1    2.7          2         0   \n",
              "5   35.0         8.0    45.0       4    1.0          2         0   \n",
              "6   37.0        13.0    29.0       4    0.4          2       155   \n",
              "\n",
              "    Personal Loan  Securities Account  CD Account  Online  CreditCard  \n",
              "ID                                                                     \n",
              "1               0                   1           0       0           0  \n",
              "2               0                   1           0       0           0  \n",
              "3               0                   0           0       0           0  \n",
              "4               0                   0           0       0           0  \n",
              "5               0                   0           0       0           1  \n",
              "6               0                   0           0       1           0  "
            ],
            "text/html": [
              "\n",
              "  <div id=\"df-8dfdc4a8-bcfe-4d2b-a81f-59f76cba21ea\">\n",
              "    <div class=\"colab-df-container\">\n",
              "      <div>\n",
              "<style scoped>\n",
              "    .dataframe tbody tr th:only-of-type {\n",
              "        vertical-align: middle;\n",
              "    }\n",
              "\n",
              "    .dataframe tbody tr th {\n",
              "        vertical-align: top;\n",
              "    }\n",
              "\n",
              "    .dataframe thead th {\n",
              "        text-align: right;\n",
              "    }\n",
              "</style>\n",
              "<table border=\"1\" class=\"dataframe\">\n",
              "  <thead>\n",
              "    <tr style=\"text-align: right;\">\n",
              "      <th></th>\n",
              "      <th>Age</th>\n",
              "      <th>Experience</th>\n",
              "      <th>Income</th>\n",
              "      <th>Family</th>\n",
              "      <th>CCAvg</th>\n",
              "      <th>Education</th>\n",
              "      <th>Mortgage</th>\n",
              "      <th>Personal Loan</th>\n",
              "      <th>Securities Account</th>\n",
              "      <th>CD Account</th>\n",
              "      <th>Online</th>\n",
              "      <th>CreditCard</th>\n",
              "    </tr>\n",
              "    <tr>\n",
              "      <th>ID</th>\n",
              "      <th></th>\n",
              "      <th></th>\n",
              "      <th></th>\n",
              "      <th></th>\n",
              "      <th></th>\n",
              "      <th></th>\n",
              "      <th></th>\n",
              "      <th></th>\n",
              "      <th></th>\n",
              "      <th></th>\n",
              "      <th></th>\n",
              "      <th></th>\n",
              "    </tr>\n",
              "  </thead>\n",
              "  <tbody>\n",
              "    <tr>\n",
              "      <th>1</th>\n",
              "      <td>25.0</td>\n",
              "      <td>1.0</td>\n",
              "      <td>49.0</td>\n",
              "      <td>4</td>\n",
              "      <td>1.6</td>\n",
              "      <td>1</td>\n",
              "      <td>0</td>\n",
              "      <td>0</td>\n",
              "      <td>1</td>\n",
              "      <td>0</td>\n",
              "      <td>0</td>\n",
              "      <td>0</td>\n",
              "    </tr>\n",
              "    <tr>\n",
              "      <th>2</th>\n",
              "      <td>45.0</td>\n",
              "      <td>19.0</td>\n",
              "      <td>34.0</td>\n",
              "      <td>3</td>\n",
              "      <td>1.5</td>\n",
              "      <td>1</td>\n",
              "      <td>0</td>\n",
              "      <td>0</td>\n",
              "      <td>1</td>\n",
              "      <td>0</td>\n",
              "      <td>0</td>\n",
              "      <td>0</td>\n",
              "    </tr>\n",
              "    <tr>\n",
              "      <th>3</th>\n",
              "      <td>39.0</td>\n",
              "      <td>15.0</td>\n",
              "      <td>11.0</td>\n",
              "      <td>1</td>\n",
              "      <td>1.0</td>\n",
              "      <td>1</td>\n",
              "      <td>0</td>\n",
              "      <td>0</td>\n",
              "      <td>0</td>\n",
              "      <td>0</td>\n",
              "      <td>0</td>\n",
              "      <td>0</td>\n",
              "    </tr>\n",
              "    <tr>\n",
              "      <th>4</th>\n",
              "      <td>35.0</td>\n",
              "      <td>9.0</td>\n",
              "      <td>100.0</td>\n",
              "      <td>1</td>\n",
              "      <td>2.7</td>\n",
              "      <td>2</td>\n",
              "      <td>0</td>\n",
              "      <td>0</td>\n",
              "      <td>0</td>\n",
              "      <td>0</td>\n",
              "      <td>0</td>\n",
              "      <td>0</td>\n",
              "    </tr>\n",
              "    <tr>\n",
              "      <th>5</th>\n",
              "      <td>35.0</td>\n",
              "      <td>8.0</td>\n",
              "      <td>45.0</td>\n",
              "      <td>4</td>\n",
              "      <td>1.0</td>\n",
              "      <td>2</td>\n",
              "      <td>0</td>\n",
              "      <td>0</td>\n",
              "      <td>0</td>\n",
              "      <td>0</td>\n",
              "      <td>0</td>\n",
              "      <td>1</td>\n",
              "    </tr>\n",
              "    <tr>\n",
              "      <th>6</th>\n",
              "      <td>37.0</td>\n",
              "      <td>13.0</td>\n",
              "      <td>29.0</td>\n",
              "      <td>4</td>\n",
              "      <td>0.4</td>\n",
              "      <td>2</td>\n",
              "      <td>155</td>\n",
              "      <td>0</td>\n",
              "      <td>0</td>\n",
              "      <td>0</td>\n",
              "      <td>1</td>\n",
              "      <td>0</td>\n",
              "    </tr>\n",
              "  </tbody>\n",
              "</table>\n",
              "</div>\n",
              "      <button class=\"colab-df-convert\" onclick=\"convertToInteractive('df-8dfdc4a8-bcfe-4d2b-a81f-59f76cba21ea')\"\n",
              "              title=\"Convert this dataframe to an interactive table.\"\n",
              "              style=\"display:none;\">\n",
              "        \n",
              "  <svg xmlns=\"http://www.w3.org/2000/svg\" height=\"24px\"viewBox=\"0 0 24 24\"\n",
              "       width=\"24px\">\n",
              "    <path d=\"M0 0h24v24H0V0z\" fill=\"none\"/>\n",
              "    <path d=\"M18.56 5.44l.94 2.06.94-2.06 2.06-.94-2.06-.94-.94-2.06-.94 2.06-2.06.94zm-11 1L8.5 8.5l.94-2.06 2.06-.94-2.06-.94L8.5 2.5l-.94 2.06-2.06.94zm10 10l.94 2.06.94-2.06 2.06-.94-2.06-.94-.94-2.06-.94 2.06-2.06.94z\"/><path d=\"M17.41 7.96l-1.37-1.37c-.4-.4-.92-.59-1.43-.59-.52 0-1.04.2-1.43.59L10.3 9.45l-7.72 7.72c-.78.78-.78 2.05 0 2.83L4 21.41c.39.39.9.59 1.41.59.51 0 1.02-.2 1.41-.59l7.78-7.78 2.81-2.81c.8-.78.8-2.07 0-2.86zM5.41 20L4 18.59l7.72-7.72 1.47 1.35L5.41 20z\"/>\n",
              "  </svg>\n",
              "      </button>\n",
              "      \n",
              "  <style>\n",
              "    .colab-df-container {\n",
              "      display:flex;\n",
              "      flex-wrap:wrap;\n",
              "      gap: 12px;\n",
              "    }\n",
              "\n",
              "    .colab-df-convert {\n",
              "      background-color: #E8F0FE;\n",
              "      border: none;\n",
              "      border-radius: 50%;\n",
              "      cursor: pointer;\n",
              "      display: none;\n",
              "      fill: #1967D2;\n",
              "      height: 32px;\n",
              "      padding: 0 0 0 0;\n",
              "      width: 32px;\n",
              "    }\n",
              "\n",
              "    .colab-df-convert:hover {\n",
              "      background-color: #E2EBFA;\n",
              "      box-shadow: 0px 1px 2px rgba(60, 64, 67, 0.3), 0px 1px 3px 1px rgba(60, 64, 67, 0.15);\n",
              "      fill: #174EA6;\n",
              "    }\n",
              "\n",
              "    [theme=dark] .colab-df-convert {\n",
              "      background-color: #3B4455;\n",
              "      fill: #D2E3FC;\n",
              "    }\n",
              "\n",
              "    [theme=dark] .colab-df-convert:hover {\n",
              "      background-color: #434B5C;\n",
              "      box-shadow: 0px 1px 3px 1px rgba(0, 0, 0, 0.15);\n",
              "      filter: drop-shadow(0px 1px 2px rgba(0, 0, 0, 0.3));\n",
              "      fill: #FFFFFF;\n",
              "    }\n",
              "  </style>\n",
              "\n",
              "      <script>\n",
              "        const buttonEl =\n",
              "          document.querySelector('#df-8dfdc4a8-bcfe-4d2b-a81f-59f76cba21ea button.colab-df-convert');\n",
              "        buttonEl.style.display =\n",
              "          google.colab.kernel.accessAllowed ? 'block' : 'none';\n",
              "\n",
              "        async function convertToInteractive(key) {\n",
              "          const element = document.querySelector('#df-8dfdc4a8-bcfe-4d2b-a81f-59f76cba21ea');\n",
              "          const dataTable =\n",
              "            await google.colab.kernel.invokeFunction('convertToInteractive',\n",
              "                                                     [key], {});\n",
              "          if (!dataTable) return;\n",
              "\n",
              "          const docLinkHtml = 'Like what you see? Visit the ' +\n",
              "            '<a target=\"_blank\" href=https://colab.research.google.com/notebooks/data_table.ipynb>data table notebook</a>'\n",
              "            + ' to learn more about interactive tables.';\n",
              "          element.innerHTML = '';\n",
              "          dataTable['output_type'] = 'display_data';\n",
              "          await google.colab.output.renderOutput(dataTable, element);\n",
              "          const docLink = document.createElement('div');\n",
              "          docLink.innerHTML = docLinkHtml;\n",
              "          element.appendChild(docLink);\n",
              "        }\n",
              "      </script>\n",
              "    </div>\n",
              "  </div>\n",
              "  "
            ]
          },
          "metadata": {},
          "execution_count": 14
        }
      ]
    },
    {
      "cell_type": "markdown",
      "metadata": {
        "id": "lHd32_t2qnrV"
      },
      "source": [
        "# Check the summary of dataframe(describe())"
      ]
    },
    {
      "cell_type": "code",
      "metadata": {
        "colab": {
          "base_uri": "https://localhost:8080/",
          "height": 362
        },
        "id": "CreK2sKmqnrV",
        "outputId": "40a9d22a-f63c-42e5-c843-aed1f72f1878"
      },
      "source": [
        "bank.describe(include='all')"
      ],
      "execution_count": null,
      "outputs": [
        {
          "output_type": "execute_result",
          "data": {
            "text/plain": [
              "               Age   Experience       Income       Family        CCAvg  \\\n",
              "count  5000.000000  5000.000000  5000.000000  5000.000000  5000.000000   \n",
              "mean     45.336335    20.108043    73.807098     2.396400     1.937938   \n",
              "std      11.457948    11.466308    45.977426     1.147663     1.747659   \n",
              "min      23.000000    -3.000000     8.000000     1.000000     0.000000   \n",
              "25%      35.000000    10.000000    39.000000     1.000000     0.700000   \n",
              "50%      45.000000    20.000000    64.000000     2.000000     1.500000   \n",
              "75%      55.000000    30.000000    98.000000     3.000000     2.500000   \n",
              "max      67.000000    43.000000   224.000000     4.000000    10.000000   \n",
              "\n",
              "         Education     Mortgage  Personal Loan  Securities Account  \\\n",
              "count  5000.000000  5000.000000    5000.000000         5000.000000   \n",
              "mean      1.881000    56.498800       0.096000            0.104400   \n",
              "std       0.839869   101.713802       0.294621            0.305809   \n",
              "min       1.000000     0.000000       0.000000            0.000000   \n",
              "25%       1.000000     0.000000       0.000000            0.000000   \n",
              "50%       2.000000     0.000000       0.000000            0.000000   \n",
              "75%       3.000000   101.000000       0.000000            0.000000   \n",
              "max       3.000000   635.000000       1.000000            1.000000   \n",
              "\n",
              "       CD Account       Online   CreditCard  \n",
              "count  5000.00000  5000.000000  5000.000000  \n",
              "mean      0.06040     0.596800     0.294000  \n",
              "std       0.23825     0.490589     0.455637  \n",
              "min       0.00000     0.000000     0.000000  \n",
              "25%       0.00000     0.000000     0.000000  \n",
              "50%       0.00000     1.000000     0.000000  \n",
              "75%       0.00000     1.000000     1.000000  \n",
              "max       1.00000     1.000000     1.000000  "
            ],
            "text/html": [
              "\n",
              "  <div id=\"df-312a8781-7abc-47e5-9a01-2121c524eb86\">\n",
              "    <div class=\"colab-df-container\">\n",
              "      <div>\n",
              "<style scoped>\n",
              "    .dataframe tbody tr th:only-of-type {\n",
              "        vertical-align: middle;\n",
              "    }\n",
              "\n",
              "    .dataframe tbody tr th {\n",
              "        vertical-align: top;\n",
              "    }\n",
              "\n",
              "    .dataframe thead th {\n",
              "        text-align: right;\n",
              "    }\n",
              "</style>\n",
              "<table border=\"1\" class=\"dataframe\">\n",
              "  <thead>\n",
              "    <tr style=\"text-align: right;\">\n",
              "      <th></th>\n",
              "      <th>Age</th>\n",
              "      <th>Experience</th>\n",
              "      <th>Income</th>\n",
              "      <th>Family</th>\n",
              "      <th>CCAvg</th>\n",
              "      <th>Education</th>\n",
              "      <th>Mortgage</th>\n",
              "      <th>Personal Loan</th>\n",
              "      <th>Securities Account</th>\n",
              "      <th>CD Account</th>\n",
              "      <th>Online</th>\n",
              "      <th>CreditCard</th>\n",
              "    </tr>\n",
              "  </thead>\n",
              "  <tbody>\n",
              "    <tr>\n",
              "      <th>count</th>\n",
              "      <td>5000.000000</td>\n",
              "      <td>5000.000000</td>\n",
              "      <td>5000.000000</td>\n",
              "      <td>5000.000000</td>\n",
              "      <td>5000.000000</td>\n",
              "      <td>5000.000000</td>\n",
              "      <td>5000.000000</td>\n",
              "      <td>5000.000000</td>\n",
              "      <td>5000.000000</td>\n",
              "      <td>5000.00000</td>\n",
              "      <td>5000.000000</td>\n",
              "      <td>5000.000000</td>\n",
              "    </tr>\n",
              "    <tr>\n",
              "      <th>mean</th>\n",
              "      <td>45.336335</td>\n",
              "      <td>20.108043</td>\n",
              "      <td>73.807098</td>\n",
              "      <td>2.396400</td>\n",
              "      <td>1.937938</td>\n",
              "      <td>1.881000</td>\n",
              "      <td>56.498800</td>\n",
              "      <td>0.096000</td>\n",
              "      <td>0.104400</td>\n",
              "      <td>0.06040</td>\n",
              "      <td>0.596800</td>\n",
              "      <td>0.294000</td>\n",
              "    </tr>\n",
              "    <tr>\n",
              "      <th>std</th>\n",
              "      <td>11.457948</td>\n",
              "      <td>11.466308</td>\n",
              "      <td>45.977426</td>\n",
              "      <td>1.147663</td>\n",
              "      <td>1.747659</td>\n",
              "      <td>0.839869</td>\n",
              "      <td>101.713802</td>\n",
              "      <td>0.294621</td>\n",
              "      <td>0.305809</td>\n",
              "      <td>0.23825</td>\n",
              "      <td>0.490589</td>\n",
              "      <td>0.455637</td>\n",
              "    </tr>\n",
              "    <tr>\n",
              "      <th>min</th>\n",
              "      <td>23.000000</td>\n",
              "      <td>-3.000000</td>\n",
              "      <td>8.000000</td>\n",
              "      <td>1.000000</td>\n",
              "      <td>0.000000</td>\n",
              "      <td>1.000000</td>\n",
              "      <td>0.000000</td>\n",
              "      <td>0.000000</td>\n",
              "      <td>0.000000</td>\n",
              "      <td>0.00000</td>\n",
              "      <td>0.000000</td>\n",
              "      <td>0.000000</td>\n",
              "    </tr>\n",
              "    <tr>\n",
              "      <th>25%</th>\n",
              "      <td>35.000000</td>\n",
              "      <td>10.000000</td>\n",
              "      <td>39.000000</td>\n",
              "      <td>1.000000</td>\n",
              "      <td>0.700000</td>\n",
              "      <td>1.000000</td>\n",
              "      <td>0.000000</td>\n",
              "      <td>0.000000</td>\n",
              "      <td>0.000000</td>\n",
              "      <td>0.00000</td>\n",
              "      <td>0.000000</td>\n",
              "      <td>0.000000</td>\n",
              "    </tr>\n",
              "    <tr>\n",
              "      <th>50%</th>\n",
              "      <td>45.000000</td>\n",
              "      <td>20.000000</td>\n",
              "      <td>64.000000</td>\n",
              "      <td>2.000000</td>\n",
              "      <td>1.500000</td>\n",
              "      <td>2.000000</td>\n",
              "      <td>0.000000</td>\n",
              "      <td>0.000000</td>\n",
              "      <td>0.000000</td>\n",
              "      <td>0.00000</td>\n",
              "      <td>1.000000</td>\n",
              "      <td>0.000000</td>\n",
              "    </tr>\n",
              "    <tr>\n",
              "      <th>75%</th>\n",
              "      <td>55.000000</td>\n",
              "      <td>30.000000</td>\n",
              "      <td>98.000000</td>\n",
              "      <td>3.000000</td>\n",
              "      <td>2.500000</td>\n",
              "      <td>3.000000</td>\n",
              "      <td>101.000000</td>\n",
              "      <td>0.000000</td>\n",
              "      <td>0.000000</td>\n",
              "      <td>0.00000</td>\n",
              "      <td>1.000000</td>\n",
              "      <td>1.000000</td>\n",
              "    </tr>\n",
              "    <tr>\n",
              "      <th>max</th>\n",
              "      <td>67.000000</td>\n",
              "      <td>43.000000</td>\n",
              "      <td>224.000000</td>\n",
              "      <td>4.000000</td>\n",
              "      <td>10.000000</td>\n",
              "      <td>3.000000</td>\n",
              "      <td>635.000000</td>\n",
              "      <td>1.000000</td>\n",
              "      <td>1.000000</td>\n",
              "      <td>1.00000</td>\n",
              "      <td>1.000000</td>\n",
              "      <td>1.000000</td>\n",
              "    </tr>\n",
              "  </tbody>\n",
              "</table>\n",
              "</div>\n",
              "      <button class=\"colab-df-convert\" onclick=\"convertToInteractive('df-312a8781-7abc-47e5-9a01-2121c524eb86')\"\n",
              "              title=\"Convert this dataframe to an interactive table.\"\n",
              "              style=\"display:none;\">\n",
              "        \n",
              "  <svg xmlns=\"http://www.w3.org/2000/svg\" height=\"24px\"viewBox=\"0 0 24 24\"\n",
              "       width=\"24px\">\n",
              "    <path d=\"M0 0h24v24H0V0z\" fill=\"none\"/>\n",
              "    <path d=\"M18.56 5.44l.94 2.06.94-2.06 2.06-.94-2.06-.94-.94-2.06-.94 2.06-2.06.94zm-11 1L8.5 8.5l.94-2.06 2.06-.94-2.06-.94L8.5 2.5l-.94 2.06-2.06.94zm10 10l.94 2.06.94-2.06 2.06-.94-2.06-.94-.94-2.06-.94 2.06-2.06.94z\"/><path d=\"M17.41 7.96l-1.37-1.37c-.4-.4-.92-.59-1.43-.59-.52 0-1.04.2-1.43.59L10.3 9.45l-7.72 7.72c-.78.78-.78 2.05 0 2.83L4 21.41c.39.39.9.59 1.41.59.51 0 1.02-.2 1.41-.59l7.78-7.78 2.81-2.81c.8-.78.8-2.07 0-2.86zM5.41 20L4 18.59l7.72-7.72 1.47 1.35L5.41 20z\"/>\n",
              "  </svg>\n",
              "      </button>\n",
              "      \n",
              "  <style>\n",
              "    .colab-df-container {\n",
              "      display:flex;\n",
              "      flex-wrap:wrap;\n",
              "      gap: 12px;\n",
              "    }\n",
              "\n",
              "    .colab-df-convert {\n",
              "      background-color: #E8F0FE;\n",
              "      border: none;\n",
              "      border-radius: 50%;\n",
              "      cursor: pointer;\n",
              "      display: none;\n",
              "      fill: #1967D2;\n",
              "      height: 32px;\n",
              "      padding: 0 0 0 0;\n",
              "      width: 32px;\n",
              "    }\n",
              "\n",
              "    .colab-df-convert:hover {\n",
              "      background-color: #E2EBFA;\n",
              "      box-shadow: 0px 1px 2px rgba(60, 64, 67, 0.3), 0px 1px 3px 1px rgba(60, 64, 67, 0.15);\n",
              "      fill: #174EA6;\n",
              "    }\n",
              "\n",
              "    [theme=dark] .colab-df-convert {\n",
              "      background-color: #3B4455;\n",
              "      fill: #D2E3FC;\n",
              "    }\n",
              "\n",
              "    [theme=dark] .colab-df-convert:hover {\n",
              "      background-color: #434B5C;\n",
              "      box-shadow: 0px 1px 3px 1px rgba(0, 0, 0, 0.15);\n",
              "      filter: drop-shadow(0px 1px 2px rgba(0, 0, 0, 0.3));\n",
              "      fill: #FFFFFF;\n",
              "    }\n",
              "  </style>\n",
              "\n",
              "      <script>\n",
              "        const buttonEl =\n",
              "          document.querySelector('#df-312a8781-7abc-47e5-9a01-2121c524eb86 button.colab-df-convert');\n",
              "        buttonEl.style.display =\n",
              "          google.colab.kernel.accessAllowed ? 'block' : 'none';\n",
              "\n",
              "        async function convertToInteractive(key) {\n",
              "          const element = document.querySelector('#df-312a8781-7abc-47e5-9a01-2121c524eb86');\n",
              "          const dataTable =\n",
              "            await google.colab.kernel.invokeFunction('convertToInteractive',\n",
              "                                                     [key], {});\n",
              "          if (!dataTable) return;\n",
              "\n",
              "          const docLinkHtml = 'Like what you see? Visit the ' +\n",
              "            '<a target=\"_blank\" href=https://colab.research.google.com/notebooks/data_table.ipynb>data table notebook</a>'\n",
              "            + ' to learn more about interactive tables.';\n",
              "          element.innerHTML = '';\n",
              "          dataTable['output_type'] = 'display_data';\n",
              "          await google.colab.output.renderOutput(dataTable, element);\n",
              "          const docLink = document.createElement('div');\n",
              "          docLink.innerHTML = docLinkHtml;\n",
              "          element.appendChild(docLink);\n",
              "        }\n",
              "      </script>\n",
              "    </div>\n",
              "  </div>\n",
              "  "
            ]
          },
          "metadata": {},
          "execution_count": 15
        }
      ]
    },
    {
      "cell_type": "markdown",
      "metadata": {
        "id": "bF01_elXqnrW"
      },
      "source": [
        "# Do necessary type conversions such as numeric to category(astype('category'))"
      ]
    },
    {
      "cell_type": "code",
      "metadata": {
        "id": "G4qy8tXKqnrW"
      },
      "source": [
        "catcols = ['Education','CD Account','Online',\n",
        "           'CreditCard','Securities Account']\n",
        "bank[catcols]=bank[catcols].astype('category')\n",
        "\n",
        "#bank[bank.select_dtypes(['object']).columns] = bank.select_dtypes(['object']).apply(lambda x: x.astype('category'))"
      ],
      "execution_count": null,
      "outputs": []
    },
    {
      "cell_type": "code",
      "metadata": {
        "colab": {
          "base_uri": "https://localhost:8080/"
        },
        "id": "mbzWd6v-qnrX",
        "outputId": "a5ca3270-f516-4a54-bada-1ca2b96959ac"
      },
      "source": [
        "bank.dtypes"
      ],
      "execution_count": null,
      "outputs": [
        {
          "output_type": "execute_result",
          "data": {
            "text/plain": [
              "Age                    float64\n",
              "Experience             float64\n",
              "Income                 float64\n",
              "Family                   int64\n",
              "CCAvg                  float64\n",
              "Education             category\n",
              "Mortgage                 int64\n",
              "Personal Loan            int64\n",
              "Securities Account    category\n",
              "CD Account            category\n",
              "Online                category\n",
              "CreditCard            category\n",
              "dtype: object"
            ]
          },
          "metadata": {},
          "execution_count": 17
        }
      ]
    },
    {
      "cell_type": "markdown",
      "metadata": {
        "id": "qS5gfKbiqnrY"
      },
      "source": [
        "# Convert Categorical to dummies(pd.get_dummies)"
      ]
    },
    {
      "cell_type": "code",
      "metadata": {
        "colab": {
          "base_uri": "https://localhost:8080/"
        },
        "id": "xcvYSSLyqnrY",
        "outputId": "7bc1d2b9-3728-4034-e43f-43b02e0b98d8"
      },
      "source": [
        "bank=pd.get_dummies(bank)\n",
        "bank.dtypes"
      ],
      "execution_count": null,
      "outputs": [
        {
          "output_type": "execute_result",
          "data": {
            "text/plain": [
              "Age                     float64\n",
              "Experience              float64\n",
              "Income                  float64\n",
              "Family                    int64\n",
              "CCAvg                   float64\n",
              "Mortgage                  int64\n",
              "Personal Loan             int64\n",
              "Education_1               uint8\n",
              "Education_2               uint8\n",
              "Education_3               uint8\n",
              "Securities Account_0      uint8\n",
              "Securities Account_1      uint8\n",
              "CD Account_0              uint8\n",
              "CD Account_1              uint8\n",
              "Online_0                  uint8\n",
              "Online_1                  uint8\n",
              "CreditCard_0              uint8\n",
              "CreditCard_1              uint8\n",
              "dtype: object"
            ]
          },
          "metadata": {},
          "execution_count": 18
        }
      ]
    },
    {
      "cell_type": "code",
      "source": [
        "bank.columns"
      ],
      "metadata": {
        "colab": {
          "base_uri": "https://localhost:8080/"
        },
        "id": "PCtQgXMm4K4r",
        "outputId": "f20ec6ac-c040-4af5-9f45-b5417f352c39"
      },
      "execution_count": null,
      "outputs": [
        {
          "output_type": "execute_result",
          "data": {
            "text/plain": [
              "Index(['Age', 'Experience', 'Income', 'Family', 'CCAvg', 'Mortgage',\n",
              "       'Personal Loan', 'Education_1', 'Education_2', 'Education_3',\n",
              "       'Securities Account_0', 'Securities Account_1', 'CD Account_0',\n",
              "       'CD Account_1', 'Online_0', 'Online_1', 'CreditCard_0', 'CreditCard_1'],\n",
              "      dtype='object')"
            ]
          },
          "metadata": {},
          "execution_count": 19
        }
      ]
    },
    {
      "cell_type": "code",
      "metadata": {
        "colab": {
          "base_uri": "https://localhost:8080/",
          "height": 319
        },
        "id": "aTJ_CzdgqnrY",
        "outputId": "b5b2b644-97ba-4cdc-fe30-84f27982911f"
      },
      "source": [
        "bank.head(5)"
      ],
      "execution_count": null,
      "outputs": [
        {
          "output_type": "execute_result",
          "data": {
            "text/plain": [
              "     Age  Experience  Income  Family  CCAvg  Mortgage  Personal Loan  \\\n",
              "ID                                                                     \n",
              "1   25.0         1.0    49.0       4    1.6         0              0   \n",
              "2   45.0        19.0    34.0       3    1.5         0              0   \n",
              "3   39.0        15.0    11.0       1    1.0         0              0   \n",
              "4   35.0         9.0   100.0       1    2.7         0              0   \n",
              "5   35.0         8.0    45.0       4    1.0         0              0   \n",
              "\n",
              "    Education_1  Education_2  Education_3  Securities Account_0  \\\n",
              "ID                                                                \n",
              "1             1            0            0                     0   \n",
              "2             1            0            0                     0   \n",
              "3             1            0            0                     1   \n",
              "4             0            1            0                     1   \n",
              "5             0            1            0                     1   \n",
              "\n",
              "    Securities Account_1  CD Account_0  CD Account_1  Online_0  Online_1  \\\n",
              "ID                                                                         \n",
              "1                      1             1             0         1         0   \n",
              "2                      1             1             0         1         0   \n",
              "3                      0             1             0         1         0   \n",
              "4                      0             1             0         1         0   \n",
              "5                      0             1             0         1         0   \n",
              "\n",
              "    CreditCard_0  CreditCard_1  \n",
              "ID                              \n",
              "1              1             0  \n",
              "2              1             0  \n",
              "3              1             0  \n",
              "4              1             0  \n",
              "5              0             1  "
            ],
            "text/html": [
              "\n",
              "  <div id=\"df-a2b95b00-ce9a-4bd0-911e-3dde9ba195d2\">\n",
              "    <div class=\"colab-df-container\">\n",
              "      <div>\n",
              "<style scoped>\n",
              "    .dataframe tbody tr th:only-of-type {\n",
              "        vertical-align: middle;\n",
              "    }\n",
              "\n",
              "    .dataframe tbody tr th {\n",
              "        vertical-align: top;\n",
              "    }\n",
              "\n",
              "    .dataframe thead th {\n",
              "        text-align: right;\n",
              "    }\n",
              "</style>\n",
              "<table border=\"1\" class=\"dataframe\">\n",
              "  <thead>\n",
              "    <tr style=\"text-align: right;\">\n",
              "      <th></th>\n",
              "      <th>Age</th>\n",
              "      <th>Experience</th>\n",
              "      <th>Income</th>\n",
              "      <th>Family</th>\n",
              "      <th>CCAvg</th>\n",
              "      <th>Mortgage</th>\n",
              "      <th>Personal Loan</th>\n",
              "      <th>Education_1</th>\n",
              "      <th>Education_2</th>\n",
              "      <th>Education_3</th>\n",
              "      <th>Securities Account_0</th>\n",
              "      <th>Securities Account_1</th>\n",
              "      <th>CD Account_0</th>\n",
              "      <th>CD Account_1</th>\n",
              "      <th>Online_0</th>\n",
              "      <th>Online_1</th>\n",
              "      <th>CreditCard_0</th>\n",
              "      <th>CreditCard_1</th>\n",
              "    </tr>\n",
              "    <tr>\n",
              "      <th>ID</th>\n",
              "      <th></th>\n",
              "      <th></th>\n",
              "      <th></th>\n",
              "      <th></th>\n",
              "      <th></th>\n",
              "      <th></th>\n",
              "      <th></th>\n",
              "      <th></th>\n",
              "      <th></th>\n",
              "      <th></th>\n",
              "      <th></th>\n",
              "      <th></th>\n",
              "      <th></th>\n",
              "      <th></th>\n",
              "      <th></th>\n",
              "      <th></th>\n",
              "      <th></th>\n",
              "      <th></th>\n",
              "    </tr>\n",
              "  </thead>\n",
              "  <tbody>\n",
              "    <tr>\n",
              "      <th>1</th>\n",
              "      <td>25.0</td>\n",
              "      <td>1.0</td>\n",
              "      <td>49.0</td>\n",
              "      <td>4</td>\n",
              "      <td>1.6</td>\n",
              "      <td>0</td>\n",
              "      <td>0</td>\n",
              "      <td>1</td>\n",
              "      <td>0</td>\n",
              "      <td>0</td>\n",
              "      <td>0</td>\n",
              "      <td>1</td>\n",
              "      <td>1</td>\n",
              "      <td>0</td>\n",
              "      <td>1</td>\n",
              "      <td>0</td>\n",
              "      <td>1</td>\n",
              "      <td>0</td>\n",
              "    </tr>\n",
              "    <tr>\n",
              "      <th>2</th>\n",
              "      <td>45.0</td>\n",
              "      <td>19.0</td>\n",
              "      <td>34.0</td>\n",
              "      <td>3</td>\n",
              "      <td>1.5</td>\n",
              "      <td>0</td>\n",
              "      <td>0</td>\n",
              "      <td>1</td>\n",
              "      <td>0</td>\n",
              "      <td>0</td>\n",
              "      <td>0</td>\n",
              "      <td>1</td>\n",
              "      <td>1</td>\n",
              "      <td>0</td>\n",
              "      <td>1</td>\n",
              "      <td>0</td>\n",
              "      <td>1</td>\n",
              "      <td>0</td>\n",
              "    </tr>\n",
              "    <tr>\n",
              "      <th>3</th>\n",
              "      <td>39.0</td>\n",
              "      <td>15.0</td>\n",
              "      <td>11.0</td>\n",
              "      <td>1</td>\n",
              "      <td>1.0</td>\n",
              "      <td>0</td>\n",
              "      <td>0</td>\n",
              "      <td>1</td>\n",
              "      <td>0</td>\n",
              "      <td>0</td>\n",
              "      <td>1</td>\n",
              "      <td>0</td>\n",
              "      <td>1</td>\n",
              "      <td>0</td>\n",
              "      <td>1</td>\n",
              "      <td>0</td>\n",
              "      <td>1</td>\n",
              "      <td>0</td>\n",
              "    </tr>\n",
              "    <tr>\n",
              "      <th>4</th>\n",
              "      <td>35.0</td>\n",
              "      <td>9.0</td>\n",
              "      <td>100.0</td>\n",
              "      <td>1</td>\n",
              "      <td>2.7</td>\n",
              "      <td>0</td>\n",
              "      <td>0</td>\n",
              "      <td>0</td>\n",
              "      <td>1</td>\n",
              "      <td>0</td>\n",
              "      <td>1</td>\n",
              "      <td>0</td>\n",
              "      <td>1</td>\n",
              "      <td>0</td>\n",
              "      <td>1</td>\n",
              "      <td>0</td>\n",
              "      <td>1</td>\n",
              "      <td>0</td>\n",
              "    </tr>\n",
              "    <tr>\n",
              "      <th>5</th>\n",
              "      <td>35.0</td>\n",
              "      <td>8.0</td>\n",
              "      <td>45.0</td>\n",
              "      <td>4</td>\n",
              "      <td>1.0</td>\n",
              "      <td>0</td>\n",
              "      <td>0</td>\n",
              "      <td>0</td>\n",
              "      <td>1</td>\n",
              "      <td>0</td>\n",
              "      <td>1</td>\n",
              "      <td>0</td>\n",
              "      <td>1</td>\n",
              "      <td>0</td>\n",
              "      <td>1</td>\n",
              "      <td>0</td>\n",
              "      <td>0</td>\n",
              "      <td>1</td>\n",
              "    </tr>\n",
              "  </tbody>\n",
              "</table>\n",
              "</div>\n",
              "      <button class=\"colab-df-convert\" onclick=\"convertToInteractive('df-a2b95b00-ce9a-4bd0-911e-3dde9ba195d2')\"\n",
              "              title=\"Convert this dataframe to an interactive table.\"\n",
              "              style=\"display:none;\">\n",
              "        \n",
              "  <svg xmlns=\"http://www.w3.org/2000/svg\" height=\"24px\"viewBox=\"0 0 24 24\"\n",
              "       width=\"24px\">\n",
              "    <path d=\"M0 0h24v24H0V0z\" fill=\"none\"/>\n",
              "    <path d=\"M18.56 5.44l.94 2.06.94-2.06 2.06-.94-2.06-.94-.94-2.06-.94 2.06-2.06.94zm-11 1L8.5 8.5l.94-2.06 2.06-.94-2.06-.94L8.5 2.5l-.94 2.06-2.06.94zm10 10l.94 2.06.94-2.06 2.06-.94-2.06-.94-.94-2.06-.94 2.06-2.06.94z\"/><path d=\"M17.41 7.96l-1.37-1.37c-.4-.4-.92-.59-1.43-.59-.52 0-1.04.2-1.43.59L10.3 9.45l-7.72 7.72c-.78.78-.78 2.05 0 2.83L4 21.41c.39.39.9.59 1.41.59.51 0 1.02-.2 1.41-.59l7.78-7.78 2.81-2.81c.8-.78.8-2.07 0-2.86zM5.41 20L4 18.59l7.72-7.72 1.47 1.35L5.41 20z\"/>\n",
              "  </svg>\n",
              "      </button>\n",
              "      \n",
              "  <style>\n",
              "    .colab-df-container {\n",
              "      display:flex;\n",
              "      flex-wrap:wrap;\n",
              "      gap: 12px;\n",
              "    }\n",
              "\n",
              "    .colab-df-convert {\n",
              "      background-color: #E8F0FE;\n",
              "      border: none;\n",
              "      border-radius: 50%;\n",
              "      cursor: pointer;\n",
              "      display: none;\n",
              "      fill: #1967D2;\n",
              "      height: 32px;\n",
              "      padding: 0 0 0 0;\n",
              "      width: 32px;\n",
              "    }\n",
              "\n",
              "    .colab-df-convert:hover {\n",
              "      background-color: #E2EBFA;\n",
              "      box-shadow: 0px 1px 2px rgba(60, 64, 67, 0.3), 0px 1px 3px 1px rgba(60, 64, 67, 0.15);\n",
              "      fill: #174EA6;\n",
              "    }\n",
              "\n",
              "    [theme=dark] .colab-df-convert {\n",
              "      background-color: #3B4455;\n",
              "      fill: #D2E3FC;\n",
              "    }\n",
              "\n",
              "    [theme=dark] .colab-df-convert:hover {\n",
              "      background-color: #434B5C;\n",
              "      box-shadow: 0px 1px 3px 1px rgba(0, 0, 0, 0.15);\n",
              "      filter: drop-shadow(0px 1px 2px rgba(0, 0, 0, 0.3));\n",
              "      fill: #FFFFFF;\n",
              "    }\n",
              "  </style>\n",
              "\n",
              "      <script>\n",
              "        const buttonEl =\n",
              "          document.querySelector('#df-a2b95b00-ce9a-4bd0-911e-3dde9ba195d2 button.colab-df-convert');\n",
              "        buttonEl.style.display =\n",
              "          google.colab.kernel.accessAllowed ? 'block' : 'none';\n",
              "\n",
              "        async function convertToInteractive(key) {\n",
              "          const element = document.querySelector('#df-a2b95b00-ce9a-4bd0-911e-3dde9ba195d2');\n",
              "          const dataTable =\n",
              "            await google.colab.kernel.invokeFunction('convertToInteractive',\n",
              "                                                     [key], {});\n",
              "          if (!dataTable) return;\n",
              "\n",
              "          const docLinkHtml = 'Like what you see? Visit the ' +\n",
              "            '<a target=\"_blank\" href=https://colab.research.google.com/notebooks/data_table.ipynb>data table notebook</a>'\n",
              "            + ' to learn more about interactive tables.';\n",
              "          element.innerHTML = '';\n",
              "          dataTable['output_type'] = 'display_data';\n",
              "          await google.colab.output.renderOutput(dataTable, element);\n",
              "          const docLink = document.createElement('div');\n",
              "          docLink.innerHTML = docLinkHtml;\n",
              "          element.appendChild(docLink);\n",
              "        }\n",
              "      </script>\n",
              "    </div>\n",
              "  </div>\n",
              "  "
            ]
          },
          "metadata": {},
          "execution_count": 20
        }
      ]
    },
    {
      "cell_type": "code",
      "metadata": {
        "colab": {
          "base_uri": "https://localhost:8080/"
        },
        "id": "bFaNZGnsqnrZ",
        "outputId": "f8b2735f-fa76-4ea1-ca77-9a90a27c868a"
      },
      "source": [
        "bank[\"Personal Loan\"].value_counts(normalize=True)"
      ],
      "execution_count": null,
      "outputs": [
        {
          "output_type": "execute_result",
          "data": {
            "text/plain": [
              "0    0.904\n",
              "1    0.096\n",
              "Name: Personal Loan, dtype: float64"
            ]
          },
          "metadata": {},
          "execution_count": 21
        }
      ]
    },
    {
      "cell_type": "markdown",
      "metadata": {
        "id": "m3hen-9Lqnra"
      },
      "source": [
        "# SPLIT THE data in to train and test(use sklearn package)"
      ]
    },
    {
      "cell_type": "code",
      "metadata": {
        "id": "b3ZJdBCIqnra"
      },
      "source": [
        "from sklearn.model_selection import train_test_split"
      ],
      "execution_count": null,
      "outputs": []
    },
    {
      "cell_type": "code",
      "metadata": {
        "id": "MHXCuzXcqnra"
      },
      "source": [
        "bank['Personal Loan']=bank['Personal Loan'].astype('category')\n",
        "# Divide in to train and test\n",
        "y=bank[\"Personal Loan\"]\n",
        "X=bank.drop('Personal Loan', axis=1)\n",
        "#from sklearn.model_selection import train_test_split  \n",
        "X_train, X_test, y_train, y_test = train_test_split(X, y, test_size=0.20, )  "
      ],
      "execution_count": null,
      "outputs": []
    },
    {
      "cell_type": "code",
      "metadata": {
        "colab": {
          "base_uri": "https://localhost:8080/"
        },
        "id": "7EiS3Rnaqnra",
        "outputId": "cf15761c-3dbb-413f-8bc3-203b4a1e748c"
      },
      "source": [
        "print(X_train.shape)\n",
        "print(X_test.shape)\n",
        "print(y_train.shape)\n",
        "print(y_test.shape)"
      ],
      "execution_count": null,
      "outputs": [
        {
          "output_type": "stream",
          "name": "stdout",
          "text": [
            "(4000, 17)\n",
            "(1000, 17)\n",
            "(4000,)\n",
            "(1000,)\n"
          ]
        }
      ]
    },
    {
      "cell_type": "markdown",
      "metadata": {
        "collapsed": true,
        "id": "nQHC06Wqqnrb"
      },
      "source": [
        "### Standardize the data (numerical attributes only)( import StandardScaler)"
      ]
    },
    {
      "cell_type": "code",
      "metadata": {
        "colab": {
          "base_uri": "https://localhost:8080/"
        },
        "id": "kYuNeCAwqnrb",
        "outputId": "956e8941-e556-48a4-bc9e-d13e8f44e934"
      },
      "source": [
        "from sklearn.preprocessing import StandardScaler\n",
        "num_atr=X_train.select_dtypes(['int64','float64']).columns\n",
        "num_atr"
      ],
      "execution_count": null,
      "outputs": [
        {
          "output_type": "execute_result",
          "data": {
            "text/plain": [
              "Index(['Age', 'Experience', 'Income', 'Family', 'CCAvg', 'Mortgage'], dtype='object')"
            ]
          },
          "metadata": {},
          "execution_count": 25
        }
      ]
    },
    {
      "cell_type": "code",
      "metadata": {
        "colab": {
          "base_uri": "https://localhost:8080/"
        },
        "id": "wNYeTuv_qnrc",
        "outputId": "2e830d0a-769b-4457-9377-dc9ed16367d9"
      },
      "source": [
        "scaler = StandardScaler()\n",
        "scaler.fit(X_train[num_atr])"
      ],
      "execution_count": null,
      "outputs": [
        {
          "output_type": "execute_result",
          "data": {
            "text/plain": [
              "StandardScaler()"
            ]
          },
          "metadata": {},
          "execution_count": 26
        }
      ]
    },
    {
      "cell_type": "code",
      "metadata": {
        "id": "TRWAlwAMqnrc"
      },
      "source": [
        "X_train[num_atr]=scaler.transform(X_train[num_atr])\n",
        "X_test[num_atr]=scaler.transform(X_test[num_atr])"
      ],
      "execution_count": null,
      "outputs": []
    },
    {
      "cell_type": "code",
      "metadata": {
        "scrolled": true,
        "colab": {
          "base_uri": "https://localhost:8080/"
        },
        "id": "bH3s9hMrqnrc",
        "outputId": "0b79f87d-978d-46dc-a49d-87f4decc7e81"
      },
      "source": [
        "print(X_train.shape)\n",
        "print(X_test.shape)"
      ],
      "execution_count": null,
      "outputs": [
        {
          "output_type": "stream",
          "name": "stdout",
          "text": [
            "(4000, 17)\n",
            "(1000, 17)\n"
          ]
        }
      ]
    },
    {
      "cell_type": "code",
      "metadata": {
        "colab": {
          "base_uri": "https://localhost:8080/",
          "height": 536
        },
        "id": "Aj288Ck_wOyk",
        "outputId": "586379c8-0a07-40fe-e304-4e465e97c6b5"
      },
      "source": [
        "X_train"
      ],
      "execution_count": null,
      "outputs": [
        {
          "output_type": "execute_result",
          "data": {
            "text/plain": [
              "           Age  Experience    Income    Family     CCAvg  Mortgage  \\\n",
              "ID                                                                   \n",
              "4383  1.281929    1.212893 -0.779677  0.530659  0.141443 -0.555154   \n",
              "1514 -0.031785    0.076343  2.389015 -0.343213 -0.314086  2.939856   \n",
              "1100 -1.345498   -1.235061 -0.473734  0.530659 -0.712674 -0.555154   \n",
              "284   1.369509    1.387747 -0.735971  0.530659 -0.826557 -0.555154   \n",
              "4135 -0.907594   -0.797926  0.247416  1.404530 -1.054322  0.738197   \n",
              "...        ...         ...       ...       ...       ...       ...   \n",
              "4493  0.931605    0.513478  0.378535 -1.217085  0.596973 -0.555154   \n",
              "3254  0.844024    0.863186 -0.845236 -1.217085 -0.257145  0.609850   \n",
              "2550 -0.382108   -0.448218 -0.233351 -1.217085 -0.712674  0.224806   \n",
              "4362  0.844024    0.863186 -0.692265 -0.343213  0.027561  1.379937   \n",
              "4243  0.055796    0.076343 -0.124085 -1.217085 -0.997380 -0.555154   \n",
              "\n",
              "      Education_1  Education_2  Education_3  Securities Account_0  \\\n",
              "ID                                                                  \n",
              "4383            0            0            1                     0   \n",
              "1514            1            0            0                     1   \n",
              "1100            0            1            0                     1   \n",
              "284             0            1            0                     0   \n",
              "4135            0            1            0                     1   \n",
              "...           ...          ...          ...                   ...   \n",
              "4493            0            0            1                     1   \n",
              "3254            0            1            0                     1   \n",
              "2550            0            0            1                     1   \n",
              "4362            0            1            0                     1   \n",
              "4243            0            1            0                     1   \n",
              "\n",
              "      Securities Account_1  CD Account_0  CD Account_1  Online_0  Online_1  \\\n",
              "ID                                                                           \n",
              "4383                     1             1             0         1         0   \n",
              "1514                     0             1             0         1         0   \n",
              "1100                     0             1             0         0         1   \n",
              "284                      1             1             0         0         1   \n",
              "4135                     0             1             0         1         0   \n",
              "...                    ...           ...           ...       ...       ...   \n",
              "4493                     0             1             0         0         1   \n",
              "3254                     0             1             0         1         0   \n",
              "2550                     0             1             0         1         0   \n",
              "4362                     0             1             0         1         0   \n",
              "4243                     0             1             0         0         1   \n",
              "\n",
              "      CreditCard_0  CreditCard_1  \n",
              "ID                                \n",
              "4383             1             0  \n",
              "1514             1             0  \n",
              "1100             1             0  \n",
              "284              1             0  \n",
              "4135             1             0  \n",
              "...            ...           ...  \n",
              "4493             0             1  \n",
              "3254             0             1  \n",
              "2550             0             1  \n",
              "4362             0             1  \n",
              "4243             1             0  \n",
              "\n",
              "[4000 rows x 17 columns]"
            ],
            "text/html": [
              "\n",
              "  <div id=\"df-3c553872-5a2a-495e-862f-e22e5d593fb6\">\n",
              "    <div class=\"colab-df-container\">\n",
              "      <div>\n",
              "<style scoped>\n",
              "    .dataframe tbody tr th:only-of-type {\n",
              "        vertical-align: middle;\n",
              "    }\n",
              "\n",
              "    .dataframe tbody tr th {\n",
              "        vertical-align: top;\n",
              "    }\n",
              "\n",
              "    .dataframe thead th {\n",
              "        text-align: right;\n",
              "    }\n",
              "</style>\n",
              "<table border=\"1\" class=\"dataframe\">\n",
              "  <thead>\n",
              "    <tr style=\"text-align: right;\">\n",
              "      <th></th>\n",
              "      <th>Age</th>\n",
              "      <th>Experience</th>\n",
              "      <th>Income</th>\n",
              "      <th>Family</th>\n",
              "      <th>CCAvg</th>\n",
              "      <th>Mortgage</th>\n",
              "      <th>Education_1</th>\n",
              "      <th>Education_2</th>\n",
              "      <th>Education_3</th>\n",
              "      <th>Securities Account_0</th>\n",
              "      <th>Securities Account_1</th>\n",
              "      <th>CD Account_0</th>\n",
              "      <th>CD Account_1</th>\n",
              "      <th>Online_0</th>\n",
              "      <th>Online_1</th>\n",
              "      <th>CreditCard_0</th>\n",
              "      <th>CreditCard_1</th>\n",
              "    </tr>\n",
              "    <tr>\n",
              "      <th>ID</th>\n",
              "      <th></th>\n",
              "      <th></th>\n",
              "      <th></th>\n",
              "      <th></th>\n",
              "      <th></th>\n",
              "      <th></th>\n",
              "      <th></th>\n",
              "      <th></th>\n",
              "      <th></th>\n",
              "      <th></th>\n",
              "      <th></th>\n",
              "      <th></th>\n",
              "      <th></th>\n",
              "      <th></th>\n",
              "      <th></th>\n",
              "      <th></th>\n",
              "      <th></th>\n",
              "    </tr>\n",
              "  </thead>\n",
              "  <tbody>\n",
              "    <tr>\n",
              "      <th>4383</th>\n",
              "      <td>1.281929</td>\n",
              "      <td>1.212893</td>\n",
              "      <td>-0.779677</td>\n",
              "      <td>0.530659</td>\n",
              "      <td>0.141443</td>\n",
              "      <td>-0.555154</td>\n",
              "      <td>0</td>\n",
              "      <td>0</td>\n",
              "      <td>1</td>\n",
              "      <td>0</td>\n",
              "      <td>1</td>\n",
              "      <td>1</td>\n",
              "      <td>0</td>\n",
              "      <td>1</td>\n",
              "      <td>0</td>\n",
              "      <td>1</td>\n",
              "      <td>0</td>\n",
              "    </tr>\n",
              "    <tr>\n",
              "      <th>1514</th>\n",
              "      <td>-0.031785</td>\n",
              "      <td>0.076343</td>\n",
              "      <td>2.389015</td>\n",
              "      <td>-0.343213</td>\n",
              "      <td>-0.314086</td>\n",
              "      <td>2.939856</td>\n",
              "      <td>1</td>\n",
              "      <td>0</td>\n",
              "      <td>0</td>\n",
              "      <td>1</td>\n",
              "      <td>0</td>\n",
              "      <td>1</td>\n",
              "      <td>0</td>\n",
              "      <td>1</td>\n",
              "      <td>0</td>\n",
              "      <td>1</td>\n",
              "      <td>0</td>\n",
              "    </tr>\n",
              "    <tr>\n",
              "      <th>1100</th>\n",
              "      <td>-1.345498</td>\n",
              "      <td>-1.235061</td>\n",
              "      <td>-0.473734</td>\n",
              "      <td>0.530659</td>\n",
              "      <td>-0.712674</td>\n",
              "      <td>-0.555154</td>\n",
              "      <td>0</td>\n",
              "      <td>1</td>\n",
              "      <td>0</td>\n",
              "      <td>1</td>\n",
              "      <td>0</td>\n",
              "      <td>1</td>\n",
              "      <td>0</td>\n",
              "      <td>0</td>\n",
              "      <td>1</td>\n",
              "      <td>1</td>\n",
              "      <td>0</td>\n",
              "    </tr>\n",
              "    <tr>\n",
              "      <th>284</th>\n",
              "      <td>1.369509</td>\n",
              "      <td>1.387747</td>\n",
              "      <td>-0.735971</td>\n",
              "      <td>0.530659</td>\n",
              "      <td>-0.826557</td>\n",
              "      <td>-0.555154</td>\n",
              "      <td>0</td>\n",
              "      <td>1</td>\n",
              "      <td>0</td>\n",
              "      <td>0</td>\n",
              "      <td>1</td>\n",
              "      <td>1</td>\n",
              "      <td>0</td>\n",
              "      <td>0</td>\n",
              "      <td>1</td>\n",
              "      <td>1</td>\n",
              "      <td>0</td>\n",
              "    </tr>\n",
              "    <tr>\n",
              "      <th>4135</th>\n",
              "      <td>-0.907594</td>\n",
              "      <td>-0.797926</td>\n",
              "      <td>0.247416</td>\n",
              "      <td>1.404530</td>\n",
              "      <td>-1.054322</td>\n",
              "      <td>0.738197</td>\n",
              "      <td>0</td>\n",
              "      <td>1</td>\n",
              "      <td>0</td>\n",
              "      <td>1</td>\n",
              "      <td>0</td>\n",
              "      <td>1</td>\n",
              "      <td>0</td>\n",
              "      <td>1</td>\n",
              "      <td>0</td>\n",
              "      <td>1</td>\n",
              "      <td>0</td>\n",
              "    </tr>\n",
              "    <tr>\n",
              "      <th>...</th>\n",
              "      <td>...</td>\n",
              "      <td>...</td>\n",
              "      <td>...</td>\n",
              "      <td>...</td>\n",
              "      <td>...</td>\n",
              "      <td>...</td>\n",
              "      <td>...</td>\n",
              "      <td>...</td>\n",
              "      <td>...</td>\n",
              "      <td>...</td>\n",
              "      <td>...</td>\n",
              "      <td>...</td>\n",
              "      <td>...</td>\n",
              "      <td>...</td>\n",
              "      <td>...</td>\n",
              "      <td>...</td>\n",
              "      <td>...</td>\n",
              "    </tr>\n",
              "    <tr>\n",
              "      <th>4493</th>\n",
              "      <td>0.931605</td>\n",
              "      <td>0.513478</td>\n",
              "      <td>0.378535</td>\n",
              "      <td>-1.217085</td>\n",
              "      <td>0.596973</td>\n",
              "      <td>-0.555154</td>\n",
              "      <td>0</td>\n",
              "      <td>0</td>\n",
              "      <td>1</td>\n",
              "      <td>1</td>\n",
              "      <td>0</td>\n",
              "      <td>1</td>\n",
              "      <td>0</td>\n",
              "      <td>0</td>\n",
              "      <td>1</td>\n",
              "      <td>0</td>\n",
              "      <td>1</td>\n",
              "    </tr>\n",
              "    <tr>\n",
              "      <th>3254</th>\n",
              "      <td>0.844024</td>\n",
              "      <td>0.863186</td>\n",
              "      <td>-0.845236</td>\n",
              "      <td>-1.217085</td>\n",
              "      <td>-0.257145</td>\n",
              "      <td>0.609850</td>\n",
              "      <td>0</td>\n",
              "      <td>1</td>\n",
              "      <td>0</td>\n",
              "      <td>1</td>\n",
              "      <td>0</td>\n",
              "      <td>1</td>\n",
              "      <td>0</td>\n",
              "      <td>1</td>\n",
              "      <td>0</td>\n",
              "      <td>0</td>\n",
              "      <td>1</td>\n",
              "    </tr>\n",
              "    <tr>\n",
              "      <th>2550</th>\n",
              "      <td>-0.382108</td>\n",
              "      <td>-0.448218</td>\n",
              "      <td>-0.233351</td>\n",
              "      <td>-1.217085</td>\n",
              "      <td>-0.712674</td>\n",
              "      <td>0.224806</td>\n",
              "      <td>0</td>\n",
              "      <td>0</td>\n",
              "      <td>1</td>\n",
              "      <td>1</td>\n",
              "      <td>0</td>\n",
              "      <td>1</td>\n",
              "      <td>0</td>\n",
              "      <td>1</td>\n",
              "      <td>0</td>\n",
              "      <td>0</td>\n",
              "      <td>1</td>\n",
              "    </tr>\n",
              "    <tr>\n",
              "      <th>4362</th>\n",
              "      <td>0.844024</td>\n",
              "      <td>0.863186</td>\n",
              "      <td>-0.692265</td>\n",
              "      <td>-0.343213</td>\n",
              "      <td>0.027561</td>\n",
              "      <td>1.379937</td>\n",
              "      <td>0</td>\n",
              "      <td>1</td>\n",
              "      <td>0</td>\n",
              "      <td>1</td>\n",
              "      <td>0</td>\n",
              "      <td>1</td>\n",
              "      <td>0</td>\n",
              "      <td>1</td>\n",
              "      <td>0</td>\n",
              "      <td>0</td>\n",
              "      <td>1</td>\n",
              "    </tr>\n",
              "    <tr>\n",
              "      <th>4243</th>\n",
              "      <td>0.055796</td>\n",
              "      <td>0.076343</td>\n",
              "      <td>-0.124085</td>\n",
              "      <td>-1.217085</td>\n",
              "      <td>-0.997380</td>\n",
              "      <td>-0.555154</td>\n",
              "      <td>0</td>\n",
              "      <td>1</td>\n",
              "      <td>0</td>\n",
              "      <td>1</td>\n",
              "      <td>0</td>\n",
              "      <td>1</td>\n",
              "      <td>0</td>\n",
              "      <td>0</td>\n",
              "      <td>1</td>\n",
              "      <td>1</td>\n",
              "      <td>0</td>\n",
              "    </tr>\n",
              "  </tbody>\n",
              "</table>\n",
              "<p>4000 rows × 17 columns</p>\n",
              "</div>\n",
              "      <button class=\"colab-df-convert\" onclick=\"convertToInteractive('df-3c553872-5a2a-495e-862f-e22e5d593fb6')\"\n",
              "              title=\"Convert this dataframe to an interactive table.\"\n",
              "              style=\"display:none;\">\n",
              "        \n",
              "  <svg xmlns=\"http://www.w3.org/2000/svg\" height=\"24px\"viewBox=\"0 0 24 24\"\n",
              "       width=\"24px\">\n",
              "    <path d=\"M0 0h24v24H0V0z\" fill=\"none\"/>\n",
              "    <path d=\"M18.56 5.44l.94 2.06.94-2.06 2.06-.94-2.06-.94-.94-2.06-.94 2.06-2.06.94zm-11 1L8.5 8.5l.94-2.06 2.06-.94-2.06-.94L8.5 2.5l-.94 2.06-2.06.94zm10 10l.94 2.06.94-2.06 2.06-.94-2.06-.94-.94-2.06-.94 2.06-2.06.94z\"/><path d=\"M17.41 7.96l-1.37-1.37c-.4-.4-.92-.59-1.43-.59-.52 0-1.04.2-1.43.59L10.3 9.45l-7.72 7.72c-.78.78-.78 2.05 0 2.83L4 21.41c.39.39.9.59 1.41.59.51 0 1.02-.2 1.41-.59l7.78-7.78 2.81-2.81c.8-.78.8-2.07 0-2.86zM5.41 20L4 18.59l7.72-7.72 1.47 1.35L5.41 20z\"/>\n",
              "  </svg>\n",
              "      </button>\n",
              "      \n",
              "  <style>\n",
              "    .colab-df-container {\n",
              "      display:flex;\n",
              "      flex-wrap:wrap;\n",
              "      gap: 12px;\n",
              "    }\n",
              "\n",
              "    .colab-df-convert {\n",
              "      background-color: #E8F0FE;\n",
              "      border: none;\n",
              "      border-radius: 50%;\n",
              "      cursor: pointer;\n",
              "      display: none;\n",
              "      fill: #1967D2;\n",
              "      height: 32px;\n",
              "      padding: 0 0 0 0;\n",
              "      width: 32px;\n",
              "    }\n",
              "\n",
              "    .colab-df-convert:hover {\n",
              "      background-color: #E2EBFA;\n",
              "      box-shadow: 0px 1px 2px rgba(60, 64, 67, 0.3), 0px 1px 3px 1px rgba(60, 64, 67, 0.15);\n",
              "      fill: #174EA6;\n",
              "    }\n",
              "\n",
              "    [theme=dark] .colab-df-convert {\n",
              "      background-color: #3B4455;\n",
              "      fill: #D2E3FC;\n",
              "    }\n",
              "\n",
              "    [theme=dark] .colab-df-convert:hover {\n",
              "      background-color: #434B5C;\n",
              "      box-shadow: 0px 1px 3px 1px rgba(0, 0, 0, 0.15);\n",
              "      filter: drop-shadow(0px 1px 2px rgba(0, 0, 0, 0.3));\n",
              "      fill: #FFFFFF;\n",
              "    }\n",
              "  </style>\n",
              "\n",
              "      <script>\n",
              "        const buttonEl =\n",
              "          document.querySelector('#df-3c553872-5a2a-495e-862f-e22e5d593fb6 button.colab-df-convert');\n",
              "        buttonEl.style.display =\n",
              "          google.colab.kernel.accessAllowed ? 'block' : 'none';\n",
              "\n",
              "        async function convertToInteractive(key) {\n",
              "          const element = document.querySelector('#df-3c553872-5a2a-495e-862f-e22e5d593fb6');\n",
              "          const dataTable =\n",
              "            await google.colab.kernel.invokeFunction('convertToInteractive',\n",
              "                                                     [key], {});\n",
              "          if (!dataTable) return;\n",
              "\n",
              "          const docLinkHtml = 'Like what you see? Visit the ' +\n",
              "            '<a target=\"_blank\" href=https://colab.research.google.com/notebooks/data_table.ipynb>data table notebook</a>'\n",
              "            + ' to learn more about interactive tables.';\n",
              "          element.innerHTML = '';\n",
              "          dataTable['output_type'] = 'display_data';\n",
              "          await google.colab.output.renderOutput(dataTable, element);\n",
              "          const docLink = document.createElement('div');\n",
              "          docLink.innerHTML = docLinkHtml;\n",
              "          element.appendChild(docLink);\n",
              "        }\n",
              "      </script>\n",
              "    </div>\n",
              "  </div>\n",
              "  "
            ]
          },
          "metadata": {},
          "execution_count": 29
        }
      ]
    },
    {
      "cell_type": "markdown",
      "metadata": {
        "id": "nM5EGe9Jqnrc"
      },
      "source": [
        "# Now It is time for Model Building "
      ]
    },
    {
      "cell_type": "markdown",
      "metadata": {
        "id": "p89v6S7sqnrd"
      },
      "source": [
        "# Build SVM Classifier"
      ]
    },
    {
      "cell_type": "code",
      "metadata": {
        "id": "KdUzf0rvqnrd"
      },
      "source": [
        "from sklearn import svm"
      ],
      "execution_count": null,
      "outputs": []
    },
    {
      "cell_type": "code",
      "metadata": {
        "scrolled": true,
        "colab": {
          "base_uri": "https://localhost:8080/"
        },
        "id": "4TitNsXcqnrd",
        "outputId": "eb9579a6-d90d-44da-b47b-addaabf18496"
      },
      "source": [
        "model= svm.SVC(C=0.0001,kernel='linear') # dereasing C leads to more misclassification\n",
        "model.fit(X_train,y_train)"
      ],
      "execution_count": null,
      "outputs": [
        {
          "output_type": "execute_result",
          "data": {
            "text/plain": [
              "SVC(C=0.0001, kernel='linear')"
            ]
          },
          "metadata": {},
          "execution_count": 31
        }
      ]
    },
    {
      "cell_type": "code",
      "metadata": {
        "colab": {
          "base_uri": "https://localhost:8080/"
        },
        "id": "tqJg1P32qnrd",
        "outputId": "5da181ce-0d3f-4391-8d36-dc4bf11a3f9a"
      },
      "source": [
        "model.coef_"
      ],
      "execution_count": null,
      "outputs": [
        {
          "output_type": "execute_result",
          "data": {
            "text/plain": [
              "array([[ 0.00075584,  0.00023522,  0.01300226,  0.00332408,  0.00303789,\n",
              "         0.0013087 , -0.01184186,  0.00596694,  0.00587492, -0.00010608,\n",
              "         0.00010608, -0.00690608,  0.00690608,  0.00023306, -0.00023306,\n",
              "         0.00076694, -0.00076694]])"
            ]
          },
          "metadata": {},
          "execution_count": 32
        }
      ]
    },
    {
      "cell_type": "code",
      "metadata": {
        "colab": {
          "base_uri": "https://localhost:8080/"
        },
        "id": "k-tbbUcCqnre",
        "outputId": "438da7b8-88ef-4a04-a550-0ff5042e7166"
      },
      "source": [
        "model.intercept_"
      ],
      "execution_count": null,
      "outputs": [
        {
          "output_type": "execute_result",
          "data": {
            "text/plain": [
              "array([-1.00521521])"
            ]
          },
          "metadata": {},
          "execution_count": 33
        }
      ]
    },
    {
      "cell_type": "code",
      "metadata": {
        "id": "AU_XGBZvqnre"
      },
      "source": [
        "y_trainpred= model.predict(X_train)\n",
        "y_pred = model.predict(X_test)"
      ],
      "execution_count": null,
      "outputs": []
    },
    {
      "cell_type": "code",
      "metadata": {
        "colab": {
          "base_uri": "https://localhost:8080/"
        },
        "id": "U7QRQk6Oqnre",
        "outputId": "d90676c2-2158-4968-d39a-4558dbd6bf6a"
      },
      "source": [
        "from sklearn.metrics import accuracy_score\n",
        "print(\"Traindata accuracy:\",accuracy_score(y_train,y_trainpred))\n",
        "\n",
        "print(\"Testdata accuracy:\",accuracy_score(y_test,y_pred))\n"
      ],
      "execution_count": null,
      "outputs": [
        {
          "output_type": "stream",
          "name": "stdout",
          "text": [
            "Traindata accuracy: 0.90125\n",
            "Testdata accuracy: 0.915\n"
          ]
        }
      ]
    },
    {
      "cell_type": "code",
      "metadata": {
        "colab": {
          "base_uri": "https://localhost:8080/"
        },
        "id": "QFVG-1dnqnrf",
        "outputId": "aa58399d-d8bf-4369-8892-8a0a839a6cf3"
      },
      "source": [
        "from sklearn.metrics import confusion_matrix\n",
        "print(\"Traindata cnf:\\n\",confusion_matrix(y_train,y_trainpred))\n",
        "print(\"Testdata cnf: \\n\",confusion_matrix(y_test,y_pred))"
      ],
      "execution_count": null,
      "outputs": [
        {
          "output_type": "stream",
          "name": "stdout",
          "text": [
            "Traindata cnf:\n",
            " [[3605    0]\n",
            " [ 395    0]]\n",
            "Testdata cnf: \n",
            " [[915   0]\n",
            " [ 85   0]]\n"
          ]
        }
      ]
    },
    {
      "cell_type": "code",
      "metadata": {
        "colab": {
          "base_uri": "https://localhost:8080/"
        },
        "id": "na7RAZbvqnrf",
        "outputId": "5b00e080-d1b2-4431-a6e2-6a60c84be85d"
      },
      "source": [
        "from sklearn.metrics import recall_score\n",
        "\n",
        "#print(recall_score(y_train,y_trainpred, pos_label=1, average='binary'))\n",
        "print(\"Recall on train data: \",recall_score(y_train,y_trainpred, pos_label=1, average='binary'))\n",
        "\n",
        "#print(recall_score(y_test,y_pred, pos_label=1, average='binary'))\n",
        "print(\"Recall on test data: \",recall_score(y_test,y_pred, pos_label=1, average='binary'))"
      ],
      "execution_count": null,
      "outputs": [
        {
          "output_type": "stream",
          "name": "stdout",
          "text": [
            "Recall on train data:  0.0\n",
            "Recall on test data:  0.0\n"
          ]
        }
      ]
    },
    {
      "cell_type": "code",
      "source": [
        "model2= svm.SVC(C=1,kernel='linear') # dereasing C leads to more misclassification\n",
        "model2.fit(X_train,y_train)\n",
        "\n",
        "y_trainpred= model2.predict(X_train)\n",
        "y_pred = model2.predict(X_test)\n",
        "\n",
        "print(\"Traindata accuracy:\",accuracy_score(y_train,y_trainpred))\n",
        "print(\"Testdata accuracy:\",accuracy_score(y_test,y_pred))\n",
        "print(confusion_matrix(y_train,y_trainpred))\n",
        "print(\"Testdata cnf: \\n\",confusion_matrix(y_test,y_pred))\n"
      ],
      "metadata": {
        "colab": {
          "base_uri": "https://localhost:8080/"
        },
        "id": "H_g92c3M-ejF",
        "outputId": "908ae1fc-6e8b-4e52-d64f-6aabfd05f86a"
      },
      "execution_count": null,
      "outputs": [
        {
          "output_type": "stream",
          "name": "stdout",
          "text": [
            "Traindata accuracy: 0.95975\n",
            "Testdata accuracy: 0.968\n",
            "[[3579   26]\n",
            " [ 135  260]]\n",
            "Testdata cnf: \n",
            " [[910   5]\n",
            " [ 27  58]]\n"
          ]
        }
      ]
    },
    {
      "cell_type": "code",
      "source": [
        "model3= svm.SVC(C=10,kernel='linear')\n",
        "model3.fit(X_train,y_train)\n",
        "y_trainpred= model3.predict(X_train)\n",
        "y_pred = model3.predict(X_test)\n",
        "print(\"Traindata accuracy:\",accuracy_score(y_train,y_trainpred))\n",
        "print(\"Testdata accuracy:\",accuracy_score(y_test,y_pred))\n",
        "print(confusion_matrix(y_train,y_trainpred))\n",
        "print(\"Testdata cnf: \\n\",confusion_matrix(y_test,y_pred))\n"
      ],
      "metadata": {
        "colab": {
          "base_uri": "https://localhost:8080/"
        },
        "id": "jj0XQdAEtEzE",
        "outputId": "eb204f8d-62fc-482f-d529-3558f0e2e51f"
      },
      "execution_count": null,
      "outputs": [
        {
          "output_type": "stream",
          "name": "stdout",
          "text": [
            "Traindata accuracy: 0.9605\n",
            "Testdata accuracy: 0.968\n",
            "[[3578   27]\n",
            " [ 131  264]]\n",
            "Testdata cnf: \n",
            " [[909   6]\n",
            " [ 26  59]]\n"
          ]
        }
      ]
    },
    {
      "cell_type": "markdown",
      "metadata": {
        "id": "9DTqqTspqnrf"
      },
      "source": [
        "## SVM with kernel"
      ]
    },
    {
      "cell_type": "code",
      "metadata": {
        "scrolled": true,
        "colab": {
          "base_uri": "https://localhost:8080/"
        },
        "id": "y2pWIQvfqnrf",
        "outputId": "e5084b6d-f1fa-48bc-8382-57a10c7e4e25"
      },
      "source": [
        "modelk= svm.SVC(C=1,kernel='rbf',gamma=0.09)\n",
        "modelk.fit(X_train,y_train)\n",
        "y_trainpred= modelk.predict(X_train)\n",
        "y_pred = modelk.predict(X_test)\n",
        "print(\"Traindata accuracy:\",accuracy_score(y_train,y_trainpred))\n",
        "print(\"Testdata accuracy:\",accuracy_score(y_test,y_pred))\n",
        "print(\"Traindata cnf:\\n\",confusion_matrix(y_train,y_trainpred))\n",
        "print(\"Testdata cnf: \\n\",confusion_matrix(y_test,y_pred))"
      ],
      "execution_count": null,
      "outputs": [
        {
          "output_type": "stream",
          "name": "stdout",
          "text": [
            "Traindata accuracy: 0.98175\n",
            "Testdata accuracy: 0.985\n",
            "Traindata cnf:\n",
            " [[3599    6]\n",
            " [  67  328]]\n",
            "Testdata cnf: \n",
            " [[915   0]\n",
            " [ 15  70]]\n"
          ]
        }
      ]
    },
    {
      "cell_type": "code",
      "metadata": {
        "colab": {
          "base_uri": "https://localhost:8080/"
        },
        "id": "LLO5cFRIqnrh",
        "outputId": "e9748daa-a467-438c-fefd-e448509ab566"
      },
      "source": [
        "from sklearn.metrics import recall_score\n",
        "print(\"Recall on train data: \",recall_score(y_train,y_trainpred, pos_label=1, average='binary'))\n",
        "print(\"Recall on test data: \",recall_score(y_test,y_pred, pos_label=1, average='binary'))"
      ],
      "execution_count": null,
      "outputs": [
        {
          "output_type": "stream",
          "name": "stdout",
          "text": [
            "Recall on train data:  0.830379746835443\n",
            "Recall on test data:  0.8235294117647058\n"
          ]
        }
      ]
    },
    {
      "cell_type": "code",
      "source": [
        "modelk= svm.SVC(C=1,kernel='rbf',gamma=0.2)\n",
        "modelk.fit(X_train,y_train)\n",
        "y_trainpred= modelk.predict(X_train)\n",
        "y_pred = modelk.predict(X_test)\n",
        "print(\"Traindata accuracy:\",accuracy_score(y_train,y_trainpred))\n",
        "print(\"Testdata accuracy:\",accuracy_score(y_test,y_pred))\n",
        "print(\"Traindata cnf:\\n\",confusion_matrix(y_train,y_trainpred))\n",
        "print(\"Testdata cnf: \\n\",confusion_matrix(y_test,y_pred))\n",
        "print(\"Recall on train data: \",recall_score(y_train,y_trainpred, pos_label=1, average='binary'))\n",
        "print(\"Recall on test data: \",recall_score(y_test,y_pred, pos_label=1, average='binary'))"
      ],
      "metadata": {
        "colab": {
          "base_uri": "https://localhost:8080/"
        },
        "id": "z6D7oc7Ft6aW",
        "outputId": "5b321a7a-31cf-40ec-ea2f-b8aa14155068"
      },
      "execution_count": null,
      "outputs": [
        {
          "output_type": "stream",
          "name": "stdout",
          "text": [
            "Traindata accuracy: 0.99\n",
            "Testdata accuracy: 0.985\n",
            "Traindata cnf:\n",
            " [[3602    3]\n",
            " [  37  358]]\n",
            "Testdata cnf: \n",
            " [[915   0]\n",
            " [ 15  70]]\n",
            "Recall on train data:  0.9063291139240506\n",
            "Recall on test data:  0.8235294117647058\n"
          ]
        }
      ]
    },
    {
      "cell_type": "code",
      "source": [
        ""
      ],
      "metadata": {
        "id": "4uqsgo2Kehoi"
      },
      "execution_count": null,
      "outputs": []
    },
    {
      "cell_type": "markdown",
      "metadata": {
        "id": "doM-vSrfqnrh"
      },
      "source": [
        "# Build SVM Classifier with weights "
      ]
    },
    {
      "cell_type": "code",
      "metadata": {
        "id": "XnkBm-cNqnrh",
        "outputId": "a0e7b32a-3a6b-4f41-ed4c-ec3938b75b42",
        "colab": {
          "base_uri": "https://localhost:8080/"
        }
      },
      "source": [
        "model1= svm.SVC(C=10,kernel='linear',class_weight='balanced')\n",
        "model1.fit(X_train,y_train)"
      ],
      "execution_count": null,
      "outputs": [
        {
          "output_type": "execute_result",
          "data": {
            "text/plain": [
              "SVC(C=10, class_weight='balanced')"
            ]
          },
          "metadata": {},
          "execution_count": 61
        }
      ]
    },
    {
      "cell_type": "code",
      "metadata": {
        "id": "Jurhcrf-qnri",
        "colab": {
          "base_uri": "https://localhost:8080/"
        },
        "outputId": "c4ae1fc6-d34b-4136-fb3c-b529a6b0a8c4"
      },
      "source": [
        "y_trainpred= model1.predict(X_train)\n",
        "y_pred = model1.predict(X_test)\n",
        "print(\"Traindata accuracy:\",accuracy_score(y_train,y_trainpred))\n",
        "print(\"Testdata accuracy:\",accuracy_score(y_test,y_pred))\n",
        "print(\"Traindata cnf:\\n\",confusion_matrix(y_train,y_trainpred))\n",
        "print(\"Testdata cnf: \\n\",confusion_matrix(y_test,y_pred))\n",
        "print(\"Recall on train data: \",recall_score(y_train,y_trainpred, pos_label=1, average='binary'))\n",
        "print(\"Recall on test data: \",recall_score(y_test,y_pred, pos_label=1, average='binary'))"
      ],
      "execution_count": null,
      "outputs": [
        {
          "output_type": "stream",
          "name": "stdout",
          "text": [
            "Traindata accuracy: 0.988\n",
            "Testdata accuracy: 0.975\n",
            "Traindata cnf:\n",
            " [[3570   45]\n",
            " [   3  382]]\n",
            "Testdata cnf: \n",
            " [[889  16]\n",
            " [  9  86]]\n",
            "Recall on train data:  0.9922077922077922\n",
            "Recall on test data:  0.9052631578947369\n"
          ]
        }
      ]
    },
    {
      "cell_type": "code",
      "metadata": {
        "outputId": "e4ae2676-b85a-4400-ada7-810f150f7b3d",
        "colab": {
          "base_uri": "https://localhost:8080/"
        },
        "id": "ptiRC4QAzXit"
      },
      "source": [
        "model1= svm.SVC(kernel='rbf',gamma=0.09,class_weight='balanced')\n",
        "model1.fit(X_train,y_train)"
      ],
      "execution_count": null,
      "outputs": [
        {
          "output_type": "execute_result",
          "data": {
            "text/plain": [
              "SVC(class_weight='balanced', gamma=0.09)"
            ]
          },
          "metadata": {},
          "execution_count": 63
        }
      ]
    },
    {
      "cell_type": "code",
      "metadata": {
        "colab": {
          "base_uri": "https://localhost:8080/"
        },
        "outputId": "cb55f4d7-f7e4-45c9-fdf5-7dfba3910a6a",
        "id": "rN7Qhc1tzXiu"
      },
      "source": [
        "y_trainpred= model1.predict(X_train)\n",
        "y_pred = model1.predict(X_test)\n",
        "print(\"Traindata accuracy:\",accuracy_score(y_train,y_trainpred))\n",
        "print(\"Testdata accuracy:\",accuracy_score(y_test,y_pred))\n",
        "print(\"Traindata cnf:\\n\",confusion_matrix(y_train,y_trainpred))\n",
        "print(\"Testdata cnf: \\n\",confusion_matrix(y_test,y_pred))\n",
        "print(\"Recall on train data: \",recall_score(y_train,y_trainpred, pos_label=1, average='binary'))\n",
        "print(\"Recall on test data: \",recall_score(y_test,y_pred, pos_label=1, average='binary'))"
      ],
      "execution_count": null,
      "outputs": [
        {
          "output_type": "stream",
          "name": "stdout",
          "text": [
            "Traindata accuracy: 0.973\n",
            "Testdata accuracy: 0.961\n",
            "Traindata cnf:\n",
            " [[3518   97]\n",
            " [  11  374]]\n",
            "Testdata cnf: \n",
            " [[871  34]\n",
            " [  5  90]]\n",
            "Recall on train data:  0.9714285714285714\n",
            "Recall on test data:  0.9473684210526315\n"
          ]
        }
      ]
    },
    {
      "cell_type": "markdown",
      "metadata": {
        "id": "T_VAiidiqnrj"
      },
      "source": [
        "# GridSearch Cross Validation"
      ]
    },
    {
      "cell_type": "code",
      "metadata": {
        "colab": {
          "base_uri": "https://localhost:8080/"
        },
        "id": "Yph5XyDnqnrj",
        "outputId": "d0ad96a0-c47a-4dd5-8388-9f7182fbbff4"
      },
      "source": [
        "#from sklearn.model_selection import GridSearchCV\n",
        "from sklearn.model_selection import GridSearchCV\n",
        "Cs = [0.001, 0.01, 0.1, 1, 10,100]\n",
        "gammas = [0.001, 0.01, 0.05,0.1, 1]\n",
        "param_grid = {'C': Cs, 'gamma' : gammas,\n",
        "              'kernel':['rbf','linear'] }\n",
        "clf = GridSearchCV(svm.SVC(),param_grid ,scoring='recall')\n",
        "clf.fit(X=X_train, y=y_train)\n",
        "svm_model = clf.best_estimator_\n",
        "print (clf.best_score_, clf.best_params_) "
      ],
      "execution_count": null,
      "outputs": [
        {
          "output_type": "stream",
          "name": "stdout",
          "text": [
            "0.8784810126582279 {'C': 100, 'gamma': 0.05, 'kernel': 'rbf'}\n"
          ]
        }
      ]
    },
    {
      "cell_type": "code",
      "source": [
        "clf.cv_results_"
      ],
      "metadata": {
        "id": "flcZc23YsziR"
      },
      "execution_count": null,
      "outputs": []
    },
    {
      "cell_type": "code",
      "source": [
        "y_trainpred= svm_model.predict(X_train)\n",
        "y_pred = svm_model.predict(X_test)\n",
        "print(\"Traindata accuracy:\",accuracy_score(y_train,y_trainpred))\n",
        "print(\"Testdata accuracy:\",accuracy_score(y_test,y_pred))\n",
        "print(\"Traindata cnf:\\n\",confusion_matrix(y_train,y_trainpred))\n",
        "print(\"Testdata cnf: \\n\",confusion_matrix(y_test,y_pred))\n",
        "print(\"Recall on train data: \",recall_score(y_train,y_trainpred, pos_label=1, average='binary'))\n",
        "print(\"Recall on test data: \",recall_score(y_test,y_pred, pos_label=1, average='binary'))"
      ],
      "metadata": {
        "id": "mH4w8VWhzsHg",
        "colab": {
          "base_uri": "https://localhost:8080/"
        },
        "outputId": "e7de6e9e-df61-432f-87fc-f8dd1f67c7fe"
      },
      "execution_count": null,
      "outputs": [
        {
          "output_type": "stream",
          "name": "stdout",
          "text": [
            "Traindata accuracy: 0.99375\n",
            "Testdata accuracy: 0.978\n",
            "Traindata cnf:\n",
            " [[3602    3]\n",
            " [  22  373]]\n",
            "Testdata cnf: \n",
            " [[905  10]\n",
            " [ 12  73]]\n",
            "Recall on train data:  0.9443037974683545\n",
            "Recall on test data:  0.8588235294117647\n"
          ]
        }
      ]
    },
    {
      "cell_type": "code",
      "execution_count": null,
      "metadata": {
        "id": "qkcs56mRrggL"
      },
      "outputs": [],
      "source": [
        "from sklearn.ensemble import RandomForestClassifier\n",
        "from sklearn.ensemble import BaggingClassifier"
      ]
    },
    {
      "cell_type": "code",
      "execution_count": null,
      "metadata": {
        "scrolled": false,
        "id": "aZZmIkqnrggL",
        "colab": {
          "base_uri": "https://localhost:8080/"
        },
        "outputId": "c752d8b2-29b0-4102-f82f-70925d38e12e"
      },
      "outputs": [
        {
          "output_type": "execute_result",
          "data": {
            "text/plain": [
              "RandomForestClassifier(criterion='entropy', max_depth=6, n_estimators=50)"
            ]
          },
          "metadata": {},
          "execution_count": 56
        }
      ],
      "source": [
        "rc = RandomForestClassifier(n_estimators=50,max_depth=6,\n",
        "                            criterion=\"entropy\")\n",
        "rc.fit(X_train,y_train)"
      ]
    },
    {
      "cell_type": "code",
      "execution_count": null,
      "metadata": {
        "id": "qRw9u0mxrggL",
        "outputId": "87d775f0-ae01-4671-ae02-209c619f83be",
        "colab": {
          "base_uri": "https://localhost:8080/"
        }
      },
      "outputs": [
        {
          "output_type": "stream",
          "name": "stdout",
          "text": [
            "train accuracy: 0.98925\n",
            "test accuracy: 0.988\n"
          ]
        }
      ],
      "source": [
        "from sklearn.metrics import accuracy_score\n",
        "from sklearn.metrics import recall_score\n",
        "train_pred=rc.predict(X_train)\n",
        "print(\"train accuracy:\",accuracy_score(y_train,train_pred))\n",
        "y_pred = rc.predict(X_test)\n",
        "print(\"test accuracy:\",accuracy_score(y_test,y_pred))\n",
        "#print(recall_score(y_train,y_pred,pos_label=1))"
      ]
    },
    {
      "cell_type": "code",
      "source": [
        "from sklearn.model_selection import GridSearchCV\n",
        "rc = RandomForestClassifier(n_jobs=-1, max_features='sqrt') \n",
        " \n",
        "# Use a grid over parameters of interest\n",
        "param_grid = { \n",
        "           \"n_estimators\" : [5,10,30,40,50],\n",
        "           \"max_depth\" : [5,6,7,8,10],\n",
        "           \"criterion\": [\"entropy\",\"gini\"]}\n",
        "           #\"min_samples_leaf\" : [2, 4]}\n",
        " \n",
        "CV_rc = GridSearchCV(estimator=rc, param_grid=param_grid, \n",
        "                     cv= 3)\n",
        "CV_rc.fit(X=X_train, y=y_train)\n",
        "print (CV_rc.best_score_, CV_rc.best_params_) "
      ],
      "metadata": {
        "colab": {
          "base_uri": "https://localhost:8080/"
        },
        "id": "QTH8r1obiQci",
        "outputId": "984b583d-ea3a-4baf-8cc5-b0a8e23a72da"
      },
      "execution_count": null,
      "outputs": [
        {
          "output_type": "stream",
          "name": "stdout",
          "text": [
            "0.9879996235940545 {'criterion': 'gini', 'max_depth': 10, 'n_estimators': 50}\n"
          ]
        }
      ]
    },
    {
      "cell_type": "code",
      "source": [
        "CV_rc.best_estimator_"
      ],
      "metadata": {
        "colab": {
          "base_uri": "https://localhost:8080/"
        },
        "id": "BrjVkCpsmCqy",
        "outputId": "6740e7f4-c797-43b1-bbe7-f47c599faa8b"
      },
      "execution_count": null,
      "outputs": [
        {
          "output_type": "execute_result",
          "data": {
            "text/plain": [
              "RandomForestClassifier(max_depth=10, max_features='sqrt', n_estimators=50,\n",
              "                       n_jobs=-1)"
            ]
          },
          "metadata": {},
          "execution_count": 59
        }
      ]
    },
    {
      "cell_type": "code",
      "source": [
        "train_pred=CV_rc.best_estimator_.predict(X_train)\n",
        "y_pred = CV_rc.best_estimator_.predict(X_test)"
      ],
      "metadata": {
        "id": "og1-xSfAmMTa"
      },
      "execution_count": null,
      "outputs": []
    },
    {
      "cell_type": "code",
      "source": [
        "print(\"train accuracy:\",accuracy_score(y_train,train_pred))\n",
        "print(\"test accuracy:\",accuracy_score(y_test,y_pred))"
      ],
      "metadata": {
        "colab": {
          "base_uri": "https://localhost:8080/"
        },
        "id": "TtntPSOFm5sV",
        "outputId": "3d815861-aa92-4148-8b48-b45fc934035a"
      },
      "execution_count": null,
      "outputs": [
        {
          "output_type": "stream",
          "name": "stdout",
          "text": [
            "train accuracy: 0.99675\n",
            "test accuracy: 0.987\n"
          ]
        }
      ]
    },
    {
      "cell_type": "code",
      "source": [
        "rc1 = RandomForestClassifier(n_estimators=50,max_depth=6,\n",
        "                            criterion=\"entropy\")\n",
        "rc1.fit(X_train,y_train)"
      ],
      "metadata": {
        "colab": {
          "base_uri": "https://localhost:8080/"
        },
        "id": "ryjniu6ypJMO",
        "outputId": "cbccc516-fe27-4a1d-ba3f-4f1e4051b881"
      },
      "execution_count": null,
      "outputs": [
        {
          "output_type": "execute_result",
          "data": {
            "text/plain": [
              "RandomForestClassifier(criterion='entropy', max_depth=6, n_estimators=50)"
            ]
          },
          "metadata": {},
          "execution_count": 65
        }
      ]
    },
    {
      "cell_type": "code",
      "execution_count": null,
      "metadata": {
        "id": "F9itlzCTrggM",
        "outputId": "0f4de236-73d3-46d4-b09b-c327697cd1e5",
        "colab": {
          "base_uri": "https://localhost:8080/"
        }
      },
      "outputs": [
        {
          "output_type": "execute_result",
          "data": {
            "text/plain": [
              "array([0.01439322, 0.01295271, 0.42744125, 0.06416796, 0.20198732,\n",
              "       0.02047323, 0.10116661, 0.03552872, 0.02396818, 0.00257981,\n",
              "       0.0022653 , 0.04218162, 0.03600722, 0.00247814, 0.0028933 ,\n",
              "       0.0046819 , 0.00483351])"
            ]
          },
          "metadata": {},
          "execution_count": 66
        }
      ],
      "source": [
        "rc1.feature_importances_"
      ]
    },
    {
      "cell_type": "code",
      "source": [
        "import numpy as np\n",
        "import matplotlib.pyplot as plt\n",
        "features = X_train.columns\n",
        "importances =rc1.feature_importances_\n",
        "indices = np.argsort(importances)\n",
        "plt.figure(figsize=(10,10))\n",
        "plt.title('Feature Importances')\n",
        "plt.barh(range(len(indices)), importances[indices], color='b', align='center')\n",
        "plt.yticks(range(len(indices)), [features[i] for i in indices])\n",
        "plt.xlabel('Relative Importance')\n",
        "plt.show()"
      ],
      "metadata": {
        "colab": {
          "base_uri": "https://localhost:8080/",
          "height": 621
        },
        "id": "sLmQ6oxGp234",
        "outputId": "68b013ba-5bc7-4971-9b92-0374ffff63c9"
      },
      "execution_count": null,
      "outputs": [
        {
          "output_type": "display_data",
          "data": {
            "text/plain": [
              "<Figure size 720x720 with 1 Axes>"
            ],
            "image/png": "[encoded data removed]"
          },
          "metadata": {
            "needs_background": "light"
          }
        }
      ]
    },
    {
      "cell_type": "code",
      "source": [
        "from sklearn.ensemble import BaggingClassifier"
      ],
      "metadata": {
        "id": "5Lh7AyXUsW7p"
      },
      "execution_count": null,
      "outputs": []
    },
    {
      "cell_type": "code",
      "execution_count": null,
      "metadata": {
        "id": "kkOWEk2ErggM",
        "outputId": "a2ae9680-1368-4aab-ee10-0ca306c15b84",
        "colab": {
          "base_uri": "https://localhost:8080/"
        }
      },
      "outputs": [
        {
          "output_type": "execute_result",
          "data": {
            "text/plain": [
              "BaggingClassifier()"
            ]
          },
          "metadata": {},
          "execution_count": 73
        }
      ],
      "source": [
        "clf = BaggingClassifier(n_estimators=10,)\n",
        "clf.fit(X=X_train, y=y_train)"
      ]
    },
    {
      "cell_type": "code",
      "execution_count": null,
      "metadata": {
        "id": "ODTpa3JwrggM",
        "outputId": "7422accc-e66f-4ff3-bc6d-29de03b766d7",
        "colab": {
          "base_uri": "https://localhost:8080/"
        }
      },
      "outputs": [
        {
          "output_type": "stream",
          "name": "stdout",
          "text": [
            "train accuracy: 0.9985\n",
            "test accuracy: 0.989\n"
          ]
        }
      ],
      "source": [
        "train_pred=clf.predict(X_train)\n",
        "print(\"train accuracy:\",accuracy_score(y_train,train_pred))\n",
        "y_pred = clf.predict(X_test)\n",
        "print(\"test accuracy:\",accuracy_score(y_test,y_pred))"
      ]
    },
    {
      "cell_type": "markdown",
      "metadata": {
        "id": "lR2IDh5WrggN"
      },
      "source": [
        "## GridSearch with cross validation"
      ]
    },
    {
      "cell_type": "code",
      "execution_count": null,
      "metadata": {
        "id": "TGDzocMIrggN",
        "outputId": "8a0434b7-2257-4dc8-8bb7-4872088c8f03",
        "colab": {
          "base_uri": "https://localhost:8080/"
        }
      },
      "outputs": [
        {
          "output_type": "stream",
          "name": "stdout",
          "text": [
            "CPU times: user 39.1 s, sys: 222 ms, total: 39.4 s\n",
            "Wall time: 39.3 s\n"
          ]
        },
        {
          "output_type": "execute_result",
          "data": {
            "text/plain": [
              "GridSearchCV(estimator=BaggingClassifier(base_estimator=DecisionTreeClassifier(),\n",
              "                                         max_features=0.5, n_estimators=100),\n",
              "             param_grid={'base_estimator__max_depth': [1, 2, 3, 4, 5],\n",
              "                         'max_samples': [0.05, 0.1, 0.2, 0.5]},\n",
              "             scoring='accuracy')"
            ]
          },
          "metadata": {},
          "execution_count": 42
        }
      ],
      "source": [
        "from sklearn.tree import DecisionTreeClassifier \n",
        "param_grid = {\n",
        "    'base_estimator__max_depth' : [1, 2, 3, 4, 5],\n",
        "    'max_samples' : [0.05, 0.1, 0.2, 0.5]\n",
        "}\n",
        "\n",
        "clf = GridSearchCV(BaggingClassifier(DecisionTreeClassifier(),\n",
        "                                     n_estimators = 100, max_features = 0.5),\n",
        "                   param_grid,scoring='accuracy')\n",
        "%time clf.fit(X_train, y_train)"
      ]
    },
    {
      "cell_type": "code",
      "execution_count": null,
      "metadata": {
        "id": "YahIpGHlrggN",
        "outputId": "94a9d423-67f5-47fb-a4fa-684ac8af5466",
        "colab": {
          "base_uri": "https://localhost:8080/"
        }
      },
      "outputs": [
        {
          "output_type": "stream",
          "name": "stdout",
          "text": [
            "train accuracy: 0.8709430104778942\n",
            "test accuracy: 0.8304392236976507\n"
          ]
        }
      ],
      "source": [
        "train_pred=clf.predict(X_train)\n",
        "print(\"train accuracy:\",accuracy_score(y_train,train_pred))\n",
        "\n",
        "y_pred = clf.predict(X_test)\n",
        "print(\"test accuracy:\",accuracy_score(y_test,y_pred))"
      ]
    },
    {
      "cell_type": "markdown",
      "metadata": {
        "id": "zr44DkHAqnrl"
      },
      "source": [
        "Explore function SVM regressor\n",
        "http://scikit-learn.org/stable/modules/svm.html\n",
        "https://scikit-learn.org/stable/modules/generated/sklearn.ensemble.RandomForestRegressor.html"
      ]
    }
  ]
}