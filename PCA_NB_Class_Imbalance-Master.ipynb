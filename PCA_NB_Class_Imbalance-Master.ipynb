{
 "cells": [
  {
   "cell_type": "markdown",
   "metadata": {},
   "source": [
    "## Agenda\n",
    "   \n",
    "    ♦ Problem Description\n",
    "    ♦ Data Understanding and exploration\n",
    "    ♦ Split the data into Train and Validation sets\n",
    "    ♦ Model Building\n",
    "       - Logistic Regression\n",
    "       - ROC curve to fix the threshold values\n",
    "    ♦ Construct a confusion matrix\n",
    "    ♦ Evaluation of the error metrics\n",
    "    ♦ How do we implement Regularization techniques\n",
    "    ♦ Build model using Naive Bayes classifier\n",
    "    ♦ Compute Evaluation metrics\n",
    "    ♦ Prinicpal Component Analysis\n",
    "    "
   ]
  },
  {
   "cell_type": "markdown",
   "metadata": {},
   "source": [
    "## Problem Description"
   ]
  },
  {
   "cell_type": "markdown",
   "metadata": {},
   "source": [
    "A Regional Bank XYZ with 40000+ Customers would like to expand its business by predicting Customer's behavior to better sell cross products (eg: Selling Term Deposits to Retail Customers). The Bank has approached us to assess the same by providing access to their Customer campaign data. \n",
    "\n",
    "The data is related with direct marketing campaigns. The marketing campaigns were based on phone calls. Often, more than one contact to the same client was required, in order to access if the product (bank term deposit) would be ('yes') or not ('no') subscribed. \n",
    "\n",
    "Predict if an existing customer would subscribe to a Term Deposit"
   ]
  },
  {
   "cell_type": "markdown",
   "metadata": {},
   "source": [
    "#### Attribute information:\n"
   ]
  },
  {
   "cell_type": "markdown",
   "metadata": {},
   "source": [
    "\n",
    "Input variables:\n",
    "\n",
    "1 - age (numeric)\n",
    "\n",
    "2 - job : type of job (categorical: \"admin.\",\"unknown\",\"unemployed\",\"management\",\"housemaid\",\"entrepreneur\",\"student\",\n",
    "                                   \"blue-collar\",\"self-employed\",\"retired\",\"technician\",\"services\") \n",
    "\n",
    "3 - marital : marital status (categorical: \"married\",\"divorced\",\"single\"; note: \"divorced\" means divorced or widowed)\n",
    "\n",
    "4 - education (categorical: \"unknown\",\"secondary\",\"primary\",\"tertiary\")\n",
    "\n",
    "5 - default: has credit in default? (binary: \"yes\",\"no\")\n",
    "\n",
    "6 - balance: average yearly balance, in euros (numeric) \n",
    "\n",
    "7 - housing: has housing loan? (binary: \"yes\",\"no\")\n",
    "\n",
    "8 - loan: has personal loan? (binary: \"yes\",\"no\") \n",
    "\n",
    "##### Related with the last contact of the current campaign:\n",
    "\n",
    "9 - contact: contact communication type (categorical: \"unknown\",\"telephone\",\"cellular\") \n",
    "\n",
    "10 - month: last contact month of year (categorical: \"jan\", \"feb\", \"mar\", ..., \"nov\", \"dec\")\n",
    "\n",
    "11 - duration: last contact duration, in seconds (numeric)\n",
    "\n",
    "##### Other attributes:\n",
    "12 - campaign: number of contacts performed during this campaign and for this client (numeric, includes last contact)\n",
    "\n",
    "13 - pdays: number of days that passed by after the client was last contacted from a previous campaign (numeric, -1 means client was not previously contacted)\n",
    "\n",
    "14 - previous: number of contacts performed before this campaign and for this client (numeric)\n",
    "\n",
    "15 - poutcome: outcome of the previous marketing campaign (categorical: \"unknown\",\"other\",\"failure\",\"success\")\n",
    "\n",
    "##### Output variable (desired target):\n",
    "\n",
    "16 - y - has the client subscribed a term deposit? (binary: \"yes\",\"no\")\n",
    "\n",
    " "
   ]
  },
  {
   "cell_type": "code",
   "execution_count": 1,
   "metadata": {},
   "outputs": [],
   "source": [
    "import pandas as pd\n",
    "import numpy as np\n",
    "from sklearn.model_selection import train_test_split\n",
    "from sklearn.linear_model import LogisticRegression\n",
    "from sklearn.metrics import confusion_matrix\n",
    "from sklearn.metrics import classification_report\n",
    "from sklearn.metrics import roc_curve, auc\n",
    "from sklearn.metrics import accuracy_score,recall_score,precision_score\n",
    "import matplotlib.pyplot as plt\n",
    "from sklearn.preprocessing import StandardScaler,MinMaxScaler\n",
    "from sklearn.decomposition import PCA\n",
    "from sklearn.naive_bayes import MultinomialNB \n",
    "from sklearn.naive_bayes import GaussianNB \n",
    "%matplotlib inline"
   ]
  },
  {
   "cell_type": "markdown",
   "metadata": {},
   "source": [
    "### Loading the data"
   ]
  },
  {
   "cell_type": "code",
   "execution_count": 2,
   "metadata": {},
   "outputs": [],
   "source": [
    "df=pd.read_csv(\"Bank_Data.csv\")"
   ]
  },
  {
   "cell_type": "markdown",
   "metadata": {},
   "source": [
    "### Understanding the data"
   ]
  },
  {
   "cell_type": "code",
   "execution_count": 3,
   "metadata": {},
   "outputs": [
    {
     "data": {
      "text/plain": [
       "(4521, 16)"
      ]
     },
     "execution_count": 3,
     "metadata": {},
     "output_type": "execute_result"
    }
   ],
   "source": [
    "df.shape"
   ]
  },
  {
   "cell_type": "code",
   "execution_count": 4,
   "metadata": {},
   "outputs": [
    {
     "data": {
      "text/plain": [
       "age           int64\n",
       "job          object\n",
       "marital      object\n",
       "education    object\n",
       "default      object\n",
       "balance       int64\n",
       "housing      object\n",
       "loan         object\n",
       "contact      object\n",
       "month        object\n",
       "duration      int64\n",
       "campaign      int64\n",
       "pdays         int64\n",
       "previous      int64\n",
       "poutcome     object\n",
       "y            object\n",
       "dtype: object"
      ]
     },
     "execution_count": 4,
     "metadata": {},
     "output_type": "execute_result"
    }
   ],
   "source": [
    "df.dtypes"
   ]
  },
  {
   "cell_type": "code",
   "execution_count": 5,
   "metadata": {},
   "outputs": [
    {
     "data": {
      "text/html": [
       "<div>\n",
       "<style scoped>\n",
       "    .dataframe tbody tr th:only-of-type {\n",
       "        vertical-align: middle;\n",
       "    }\n",
       "\n",
       "    .dataframe tbody tr th {\n",
       "        vertical-align: top;\n",
       "    }\n",
       "\n",
       "    .dataframe thead th {\n",
       "        text-align: right;\n",
       "    }\n",
       "</style>\n",
       "<table border=\"1\" class=\"dataframe\">\n",
       "  <thead>\n",
       "    <tr style=\"text-align: right;\">\n",
       "      <th></th>\n",
       "      <th>age</th>\n",
       "      <th>job</th>\n",
       "      <th>marital</th>\n",
       "      <th>education</th>\n",
       "      <th>default</th>\n",
       "      <th>balance</th>\n",
       "      <th>housing</th>\n",
       "      <th>loan</th>\n",
       "      <th>contact</th>\n",
       "      <th>month</th>\n",
       "      <th>duration</th>\n",
       "      <th>campaign</th>\n",
       "      <th>pdays</th>\n",
       "      <th>previous</th>\n",
       "      <th>poutcome</th>\n",
       "      <th>y</th>\n",
       "    </tr>\n",
       "  </thead>\n",
       "  <tbody>\n",
       "    <tr>\n",
       "      <th>0</th>\n",
       "      <td>30</td>\n",
       "      <td>unemployed</td>\n",
       "      <td>married</td>\n",
       "      <td>primary</td>\n",
       "      <td>no</td>\n",
       "      <td>1787</td>\n",
       "      <td>no</td>\n",
       "      <td>no</td>\n",
       "      <td>cellular</td>\n",
       "      <td>oct</td>\n",
       "      <td>79</td>\n",
       "      <td>1</td>\n",
       "      <td>-1</td>\n",
       "      <td>0</td>\n",
       "      <td>unknown</td>\n",
       "      <td>no</td>\n",
       "    </tr>\n",
       "    <tr>\n",
       "      <th>1</th>\n",
       "      <td>33</td>\n",
       "      <td>services</td>\n",
       "      <td>married</td>\n",
       "      <td>secondary</td>\n",
       "      <td>no</td>\n",
       "      <td>4789</td>\n",
       "      <td>yes</td>\n",
       "      <td>yes</td>\n",
       "      <td>cellular</td>\n",
       "      <td>may</td>\n",
       "      <td>220</td>\n",
       "      <td>1</td>\n",
       "      <td>339</td>\n",
       "      <td>4</td>\n",
       "      <td>failure</td>\n",
       "      <td>no</td>\n",
       "    </tr>\n",
       "    <tr>\n",
       "      <th>2</th>\n",
       "      <td>35</td>\n",
       "      <td>management</td>\n",
       "      <td>single</td>\n",
       "      <td>tertiary</td>\n",
       "      <td>no</td>\n",
       "      <td>1350</td>\n",
       "      <td>yes</td>\n",
       "      <td>no</td>\n",
       "      <td>cellular</td>\n",
       "      <td>apr</td>\n",
       "      <td>185</td>\n",
       "      <td>1</td>\n",
       "      <td>330</td>\n",
       "      <td>1</td>\n",
       "      <td>failure</td>\n",
       "      <td>no</td>\n",
       "    </tr>\n",
       "    <tr>\n",
       "      <th>3</th>\n",
       "      <td>30</td>\n",
       "      <td>management</td>\n",
       "      <td>married</td>\n",
       "      <td>tertiary</td>\n",
       "      <td>no</td>\n",
       "      <td>1476</td>\n",
       "      <td>yes</td>\n",
       "      <td>yes</td>\n",
       "      <td>unknown</td>\n",
       "      <td>jun</td>\n",
       "      <td>199</td>\n",
       "      <td>4</td>\n",
       "      <td>-1</td>\n",
       "      <td>0</td>\n",
       "      <td>unknown</td>\n",
       "      <td>no</td>\n",
       "    </tr>\n",
       "    <tr>\n",
       "      <th>4</th>\n",
       "      <td>59</td>\n",
       "      <td>blue-collar</td>\n",
       "      <td>married</td>\n",
       "      <td>secondary</td>\n",
       "      <td>no</td>\n",
       "      <td>0</td>\n",
       "      <td>yes</td>\n",
       "      <td>no</td>\n",
       "      <td>unknown</td>\n",
       "      <td>may</td>\n",
       "      <td>226</td>\n",
       "      <td>1</td>\n",
       "      <td>-1</td>\n",
       "      <td>0</td>\n",
       "      <td>unknown</td>\n",
       "      <td>no</td>\n",
       "    </tr>\n",
       "  </tbody>\n",
       "</table>\n",
       "</div>"
      ],
      "text/plain": [
       "   age          job  marital  education default  balance housing loan  \\\n",
       "0   30   unemployed  married    primary      no     1787      no   no   \n",
       "1   33     services  married  secondary      no     4789     yes  yes   \n",
       "2   35   management   single   tertiary      no     1350     yes   no   \n",
       "3   30   management  married   tertiary      no     1476     yes  yes   \n",
       "4   59  blue-collar  married  secondary      no        0     yes   no   \n",
       "\n",
       "    contact month  duration  campaign  pdays  previous poutcome   y  \n",
       "0  cellular   oct        79         1     -1         0  unknown  no  \n",
       "1  cellular   may       220         1    339         4  failure  no  \n",
       "2  cellular   apr       185         1    330         1  failure  no  \n",
       "3   unknown   jun       199         4     -1         0  unknown  no  \n",
       "4   unknown   may       226         1     -1         0  unknown  no  "
      ]
     },
     "execution_count": 5,
     "metadata": {},
     "output_type": "execute_result"
    }
   ],
   "source": [
    "df.head()"
   ]
  },
  {
   "cell_type": "code",
   "execution_count": 6,
   "metadata": {},
   "outputs": [
    {
     "data": {
      "text/html": [
       "<div>\n",
       "<style scoped>\n",
       "    .dataframe tbody tr th:only-of-type {\n",
       "        vertical-align: middle;\n",
       "    }\n",
       "\n",
       "    .dataframe tbody tr th {\n",
       "        vertical-align: top;\n",
       "    }\n",
       "\n",
       "    .dataframe thead th {\n",
       "        text-align: right;\n",
       "    }\n",
       "</style>\n",
       "<table border=\"1\" class=\"dataframe\">\n",
       "  <thead>\n",
       "    <tr style=\"text-align: right;\">\n",
       "      <th></th>\n",
       "      <th>age</th>\n",
       "      <th>job</th>\n",
       "      <th>marital</th>\n",
       "      <th>education</th>\n",
       "      <th>default</th>\n",
       "      <th>balance</th>\n",
       "      <th>housing</th>\n",
       "      <th>loan</th>\n",
       "      <th>contact</th>\n",
       "      <th>month</th>\n",
       "      <th>duration</th>\n",
       "      <th>campaign</th>\n",
       "      <th>pdays</th>\n",
       "      <th>previous</th>\n",
       "      <th>poutcome</th>\n",
       "      <th>y</th>\n",
       "    </tr>\n",
       "  </thead>\n",
       "  <tbody>\n",
       "    <tr>\n",
       "      <th>4516</th>\n",
       "      <td>33</td>\n",
       "      <td>services</td>\n",
       "      <td>married</td>\n",
       "      <td>secondary</td>\n",
       "      <td>no</td>\n",
       "      <td>-333</td>\n",
       "      <td>yes</td>\n",
       "      <td>no</td>\n",
       "      <td>cellular</td>\n",
       "      <td>jul</td>\n",
       "      <td>329</td>\n",
       "      <td>5</td>\n",
       "      <td>-1</td>\n",
       "      <td>0</td>\n",
       "      <td>unknown</td>\n",
       "      <td>no</td>\n",
       "    </tr>\n",
       "    <tr>\n",
       "      <th>4517</th>\n",
       "      <td>57</td>\n",
       "      <td>self-employed</td>\n",
       "      <td>married</td>\n",
       "      <td>tertiary</td>\n",
       "      <td>yes</td>\n",
       "      <td>-3313</td>\n",
       "      <td>yes</td>\n",
       "      <td>yes</td>\n",
       "      <td>unknown</td>\n",
       "      <td>may</td>\n",
       "      <td>153</td>\n",
       "      <td>1</td>\n",
       "      <td>-1</td>\n",
       "      <td>0</td>\n",
       "      <td>unknown</td>\n",
       "      <td>no</td>\n",
       "    </tr>\n",
       "    <tr>\n",
       "      <th>4518</th>\n",
       "      <td>57</td>\n",
       "      <td>technician</td>\n",
       "      <td>married</td>\n",
       "      <td>secondary</td>\n",
       "      <td>no</td>\n",
       "      <td>295</td>\n",
       "      <td>no</td>\n",
       "      <td>no</td>\n",
       "      <td>cellular</td>\n",
       "      <td>aug</td>\n",
       "      <td>151</td>\n",
       "      <td>11</td>\n",
       "      <td>-1</td>\n",
       "      <td>0</td>\n",
       "      <td>unknown</td>\n",
       "      <td>no</td>\n",
       "    </tr>\n",
       "    <tr>\n",
       "      <th>4519</th>\n",
       "      <td>28</td>\n",
       "      <td>blue-collar</td>\n",
       "      <td>married</td>\n",
       "      <td>secondary</td>\n",
       "      <td>no</td>\n",
       "      <td>1137</td>\n",
       "      <td>no</td>\n",
       "      <td>no</td>\n",
       "      <td>cellular</td>\n",
       "      <td>feb</td>\n",
       "      <td>129</td>\n",
       "      <td>4</td>\n",
       "      <td>211</td>\n",
       "      <td>3</td>\n",
       "      <td>other</td>\n",
       "      <td>no</td>\n",
       "    </tr>\n",
       "    <tr>\n",
       "      <th>4520</th>\n",
       "      <td>44</td>\n",
       "      <td>entrepreneur</td>\n",
       "      <td>single</td>\n",
       "      <td>tertiary</td>\n",
       "      <td>no</td>\n",
       "      <td>1136</td>\n",
       "      <td>yes</td>\n",
       "      <td>yes</td>\n",
       "      <td>cellular</td>\n",
       "      <td>apr</td>\n",
       "      <td>345</td>\n",
       "      <td>2</td>\n",
       "      <td>249</td>\n",
       "      <td>7</td>\n",
       "      <td>other</td>\n",
       "      <td>no</td>\n",
       "    </tr>\n",
       "  </tbody>\n",
       "</table>\n",
       "</div>"
      ],
      "text/plain": [
       "      age            job  marital  education default  balance housing loan  \\\n",
       "4516   33       services  married  secondary      no     -333     yes   no   \n",
       "4517   57  self-employed  married   tertiary     yes    -3313     yes  yes   \n",
       "4518   57     technician  married  secondary      no      295      no   no   \n",
       "4519   28    blue-collar  married  secondary      no     1137      no   no   \n",
       "4520   44   entrepreneur   single   tertiary      no     1136     yes  yes   \n",
       "\n",
       "       contact month  duration  campaign  pdays  previous poutcome   y  \n",
       "4516  cellular   jul       329         5     -1         0  unknown  no  \n",
       "4517   unknown   may       153         1     -1         0  unknown  no  \n",
       "4518  cellular   aug       151        11     -1         0  unknown  no  \n",
       "4519  cellular   feb       129         4    211         3    other  no  \n",
       "4520  cellular   apr       345         2    249         7    other  no  "
      ]
     },
     "execution_count": 6,
     "metadata": {},
     "output_type": "execute_result"
    }
   ],
   "source": [
    "df.tail()"
   ]
  },
  {
   "cell_type": "markdown",
   "metadata": {},
   "source": [
    "### Summary statistics"
   ]
  },
  {
   "cell_type": "code",
   "execution_count": 7,
   "metadata": {},
   "outputs": [
    {
     "data": {
      "text/html": [
       "<div>\n",
       "<style scoped>\n",
       "    .dataframe tbody tr th:only-of-type {\n",
       "        vertical-align: middle;\n",
       "    }\n",
       "\n",
       "    .dataframe tbody tr th {\n",
       "        vertical-align: top;\n",
       "    }\n",
       "\n",
       "    .dataframe thead th {\n",
       "        text-align: right;\n",
       "    }\n",
       "</style>\n",
       "<table border=\"1\" class=\"dataframe\">\n",
       "  <thead>\n",
       "    <tr style=\"text-align: right;\">\n",
       "      <th></th>\n",
       "      <th>age</th>\n",
       "      <th>balance</th>\n",
       "      <th>duration</th>\n",
       "      <th>campaign</th>\n",
       "      <th>pdays</th>\n",
       "      <th>previous</th>\n",
       "    </tr>\n",
       "  </thead>\n",
       "  <tbody>\n",
       "    <tr>\n",
       "      <th>count</th>\n",
       "      <td>4521.000000</td>\n",
       "      <td>4521.000000</td>\n",
       "      <td>4521.000000</td>\n",
       "      <td>4521.000000</td>\n",
       "      <td>4521.000000</td>\n",
       "      <td>4521.000000</td>\n",
       "    </tr>\n",
       "    <tr>\n",
       "      <th>mean</th>\n",
       "      <td>41.170095</td>\n",
       "      <td>1422.657819</td>\n",
       "      <td>263.961292</td>\n",
       "      <td>2.793630</td>\n",
       "      <td>39.766645</td>\n",
       "      <td>0.542579</td>\n",
       "    </tr>\n",
       "    <tr>\n",
       "      <th>std</th>\n",
       "      <td>10.576211</td>\n",
       "      <td>3009.638142</td>\n",
       "      <td>259.856633</td>\n",
       "      <td>3.109807</td>\n",
       "      <td>100.121124</td>\n",
       "      <td>1.693562</td>\n",
       "    </tr>\n",
       "    <tr>\n",
       "      <th>min</th>\n",
       "      <td>19.000000</td>\n",
       "      <td>-3313.000000</td>\n",
       "      <td>4.000000</td>\n",
       "      <td>1.000000</td>\n",
       "      <td>-1.000000</td>\n",
       "      <td>0.000000</td>\n",
       "    </tr>\n",
       "    <tr>\n",
       "      <th>25%</th>\n",
       "      <td>33.000000</td>\n",
       "      <td>69.000000</td>\n",
       "      <td>104.000000</td>\n",
       "      <td>1.000000</td>\n",
       "      <td>-1.000000</td>\n",
       "      <td>0.000000</td>\n",
       "    </tr>\n",
       "    <tr>\n",
       "      <th>50%</th>\n",
       "      <td>39.000000</td>\n",
       "      <td>444.000000</td>\n",
       "      <td>185.000000</td>\n",
       "      <td>2.000000</td>\n",
       "      <td>-1.000000</td>\n",
       "      <td>0.000000</td>\n",
       "    </tr>\n",
       "    <tr>\n",
       "      <th>75%</th>\n",
       "      <td>49.000000</td>\n",
       "      <td>1480.000000</td>\n",
       "      <td>329.000000</td>\n",
       "      <td>3.000000</td>\n",
       "      <td>-1.000000</td>\n",
       "      <td>0.000000</td>\n",
       "    </tr>\n",
       "    <tr>\n",
       "      <th>max</th>\n",
       "      <td>87.000000</td>\n",
       "      <td>71188.000000</td>\n",
       "      <td>3025.000000</td>\n",
       "      <td>50.000000</td>\n",
       "      <td>871.000000</td>\n",
       "      <td>25.000000</td>\n",
       "    </tr>\n",
       "  </tbody>\n",
       "</table>\n",
       "</div>"
      ],
      "text/plain": [
       "               age       balance     duration     campaign        pdays  \\\n",
       "count  4521.000000   4521.000000  4521.000000  4521.000000  4521.000000   \n",
       "mean     41.170095   1422.657819   263.961292     2.793630    39.766645   \n",
       "std      10.576211   3009.638142   259.856633     3.109807   100.121124   \n",
       "min      19.000000  -3313.000000     4.000000     1.000000    -1.000000   \n",
       "25%      33.000000     69.000000   104.000000     1.000000    -1.000000   \n",
       "50%      39.000000    444.000000   185.000000     2.000000    -1.000000   \n",
       "75%      49.000000   1480.000000   329.000000     3.000000    -1.000000   \n",
       "max      87.000000  71188.000000  3025.000000    50.000000   871.000000   \n",
       "\n",
       "          previous  \n",
       "count  4521.000000  \n",
       "mean      0.542579  \n",
       "std       1.693562  \n",
       "min       0.000000  \n",
       "25%       0.000000  \n",
       "50%       0.000000  \n",
       "75%       0.000000  \n",
       "max      25.000000  "
      ]
     },
     "execution_count": 7,
     "metadata": {},
     "output_type": "execute_result"
    }
   ],
   "source": [
    "df.describe()"
   ]
  },
  {
   "cell_type": "code",
   "execution_count": 8,
   "metadata": {},
   "outputs": [
    {
     "data": {
      "text/plain": [
       "Index(['age', 'job', 'marital', 'education', 'default', 'balance', 'housing',\n",
       "       'loan', 'contact', 'month', 'duration', 'campaign', 'pdays', 'previous',\n",
       "       'poutcome', 'y'],\n",
       "      dtype='object')"
      ]
     },
     "execution_count": 8,
     "metadata": {},
     "output_type": "execute_result"
    }
   ],
   "source": [
    "df.columns"
   ]
  },
  {
   "cell_type": "code",
   "execution_count": 9,
   "metadata": {},
   "outputs": [
    {
     "data": {
      "text/plain": [
       "no     4000\n",
       "yes     521\n",
       "Name: y, dtype: int64"
      ]
     },
     "execution_count": 9,
     "metadata": {},
     "output_type": "execute_result"
    }
   ],
   "source": [
    "df.y.value_counts()"
   ]
  },
  {
   "cell_type": "markdown",
   "metadata": {},
   "source": [
    "### Recode the levels of target on  data ; yes=1 and no=0\n"
   ]
  },
  {
   "cell_type": "code",
   "execution_count": 10,
   "metadata": {},
   "outputs": [],
   "source": [
    "df['y'] = df['y'].apply(lambda x: 0 if x.strip()=='no' else 1)\n"
   ]
  },
  {
   "cell_type": "code",
   "execution_count": 11,
   "metadata": {},
   "outputs": [],
   "source": [
    "cat_attr=df.select_dtypes(include ='object').columns \n",
    "\n",
    "df[cat_attr]= df[cat_attr].astype('category')"
   ]
  },
  {
   "cell_type": "code",
   "execution_count": 12,
   "metadata": {},
   "outputs": [
    {
     "data": {
      "text/html": [
       "<div>\n",
       "<style scoped>\n",
       "    .dataframe tbody tr th:only-of-type {\n",
       "        vertical-align: middle;\n",
       "    }\n",
       "\n",
       "    .dataframe tbody tr th {\n",
       "        vertical-align: top;\n",
       "    }\n",
       "\n",
       "    .dataframe thead th {\n",
       "        text-align: right;\n",
       "    }\n",
       "</style>\n",
       "<table border=\"1\" class=\"dataframe\">\n",
       "  <thead>\n",
       "    <tr style=\"text-align: right;\">\n",
       "      <th></th>\n",
       "      <th>age</th>\n",
       "      <th>balance</th>\n",
       "      <th>duration</th>\n",
       "      <th>campaign</th>\n",
       "      <th>pdays</th>\n",
       "      <th>previous</th>\n",
       "      <th>y</th>\n",
       "      <th>job_blue-collar</th>\n",
       "      <th>job_entrepreneur</th>\n",
       "      <th>job_housemaid</th>\n",
       "      <th>...</th>\n",
       "      <th>month_jul</th>\n",
       "      <th>month_jun</th>\n",
       "      <th>month_mar</th>\n",
       "      <th>month_may</th>\n",
       "      <th>month_nov</th>\n",
       "      <th>month_oct</th>\n",
       "      <th>month_sep</th>\n",
       "      <th>poutcome_other</th>\n",
       "      <th>poutcome_success</th>\n",
       "      <th>poutcome_unknown</th>\n",
       "    </tr>\n",
       "  </thead>\n",
       "  <tbody>\n",
       "    <tr>\n",
       "      <th>0</th>\n",
       "      <td>30</td>\n",
       "      <td>1787</td>\n",
       "      <td>79</td>\n",
       "      <td>1</td>\n",
       "      <td>-1</td>\n",
       "      <td>0</td>\n",
       "      <td>0</td>\n",
       "      <td>0</td>\n",
       "      <td>0</td>\n",
       "      <td>0</td>\n",
       "      <td>...</td>\n",
       "      <td>0</td>\n",
       "      <td>0</td>\n",
       "      <td>0</td>\n",
       "      <td>0</td>\n",
       "      <td>0</td>\n",
       "      <td>1</td>\n",
       "      <td>0</td>\n",
       "      <td>0</td>\n",
       "      <td>0</td>\n",
       "      <td>1</td>\n",
       "    </tr>\n",
       "    <tr>\n",
       "      <th>1</th>\n",
       "      <td>33</td>\n",
       "      <td>4789</td>\n",
       "      <td>220</td>\n",
       "      <td>1</td>\n",
       "      <td>339</td>\n",
       "      <td>4</td>\n",
       "      <td>0</td>\n",
       "      <td>0</td>\n",
       "      <td>0</td>\n",
       "      <td>0</td>\n",
       "      <td>...</td>\n",
       "      <td>0</td>\n",
       "      <td>0</td>\n",
       "      <td>0</td>\n",
       "      <td>1</td>\n",
       "      <td>0</td>\n",
       "      <td>0</td>\n",
       "      <td>0</td>\n",
       "      <td>0</td>\n",
       "      <td>0</td>\n",
       "      <td>0</td>\n",
       "    </tr>\n",
       "    <tr>\n",
       "      <th>2</th>\n",
       "      <td>35</td>\n",
       "      <td>1350</td>\n",
       "      <td>185</td>\n",
       "      <td>1</td>\n",
       "      <td>330</td>\n",
       "      <td>1</td>\n",
       "      <td>0</td>\n",
       "      <td>0</td>\n",
       "      <td>0</td>\n",
       "      <td>0</td>\n",
       "      <td>...</td>\n",
       "      <td>0</td>\n",
       "      <td>0</td>\n",
       "      <td>0</td>\n",
       "      <td>0</td>\n",
       "      <td>0</td>\n",
       "      <td>0</td>\n",
       "      <td>0</td>\n",
       "      <td>0</td>\n",
       "      <td>0</td>\n",
       "      <td>0</td>\n",
       "    </tr>\n",
       "    <tr>\n",
       "      <th>3</th>\n",
       "      <td>30</td>\n",
       "      <td>1476</td>\n",
       "      <td>199</td>\n",
       "      <td>4</td>\n",
       "      <td>-1</td>\n",
       "      <td>0</td>\n",
       "      <td>0</td>\n",
       "      <td>0</td>\n",
       "      <td>0</td>\n",
       "      <td>0</td>\n",
       "      <td>...</td>\n",
       "      <td>0</td>\n",
       "      <td>1</td>\n",
       "      <td>0</td>\n",
       "      <td>0</td>\n",
       "      <td>0</td>\n",
       "      <td>0</td>\n",
       "      <td>0</td>\n",
       "      <td>0</td>\n",
       "      <td>0</td>\n",
       "      <td>1</td>\n",
       "    </tr>\n",
       "    <tr>\n",
       "      <th>4</th>\n",
       "      <td>59</td>\n",
       "      <td>0</td>\n",
       "      <td>226</td>\n",
       "      <td>1</td>\n",
       "      <td>-1</td>\n",
       "      <td>0</td>\n",
       "      <td>0</td>\n",
       "      <td>1</td>\n",
       "      <td>0</td>\n",
       "      <td>0</td>\n",
       "      <td>...</td>\n",
       "      <td>0</td>\n",
       "      <td>0</td>\n",
       "      <td>0</td>\n",
       "      <td>1</td>\n",
       "      <td>0</td>\n",
       "      <td>0</td>\n",
       "      <td>0</td>\n",
       "      <td>0</td>\n",
       "      <td>0</td>\n",
       "      <td>1</td>\n",
       "    </tr>\n",
       "  </tbody>\n",
       "</table>\n",
       "<p>5 rows × 42 columns</p>\n",
       "</div>"
      ],
      "text/plain": [
       "   age  balance  duration  campaign  pdays  previous  y  job_blue-collar  \\\n",
       "0   30     1787        79         1     -1         0  0                0   \n",
       "1   33     4789       220         1    339         4  0                0   \n",
       "2   35     1350       185         1    330         1  0                0   \n",
       "3   30     1476       199         4     -1         0  0                0   \n",
       "4   59        0       226         1     -1         0  0                1   \n",
       "\n",
       "   job_entrepreneur  job_housemaid  ...  month_jul  month_jun  month_mar  \\\n",
       "0                 0              0  ...          0          0          0   \n",
       "1                 0              0  ...          0          0          0   \n",
       "2                 0              0  ...          0          0          0   \n",
       "3                 0              0  ...          0          1          0   \n",
       "4                 0              0  ...          0          0          0   \n",
       "\n",
       "   month_may  month_nov  month_oct  month_sep  poutcome_other  \\\n",
       "0          0          0          1          0               0   \n",
       "1          1          0          0          0               0   \n",
       "2          0          0          0          0               0   \n",
       "3          0          0          0          0               0   \n",
       "4          1          0          0          0               0   \n",
       "\n",
       "   poutcome_success  poutcome_unknown  \n",
       "0                 0                 1  \n",
       "1                 0                 0  \n",
       "2                 0                 0  \n",
       "3                 0                 1  \n",
       "4                 0                 1  \n",
       "\n",
       "[5 rows x 42 columns]"
      ]
     },
     "execution_count": 12,
     "metadata": {},
     "output_type": "execute_result"
    }
   ],
   "source": [
    "data = pd.get_dummies(columns=cat_attr, data = df, prefix=cat_attr, prefix_sep=\"_\", drop_first=True)\n",
    "data.head()"
   ]
  },
  {
   "cell_type": "markdown",
   "metadata": {},
   "source": [
    "### Splitting the data into train and Validation sets"
   ]
  },
  {
   "cell_type": "code",
   "execution_count": 13,
   "metadata": {},
   "outputs": [],
   "source": [
    "X = data.loc[:,data.columns.difference(['y'])]\n",
    "y = data.y"
   ]
  },
  {
   "cell_type": "code",
   "execution_count": 14,
   "metadata": {},
   "outputs": [
    {
     "name": "stdout",
     "output_type": "stream",
     "text": [
      "(3164, 41)\n",
      "(1357, 41)\n",
      "(3164,)\n",
      "(1357,)\n"
     ]
    }
   ],
   "source": [
    "X_train, X_test, y_train, y_test = train_test_split(X, y, stratify= y, test_size = 0.3, random_state=124)\n",
    "\n",
    "print(X_train.shape)\n",
    "print(X_test.shape)\n",
    "print(y_train.shape)\n",
    "print(y_test.shape)"
   ]
  },
  {
   "cell_type": "markdown",
   "metadata": {},
   "source": [
    "### Standardizing the numeric attributes in the train and test data"
   ]
  },
  {
   "cell_type": "code",
   "execution_count": 15,
   "metadata": {},
   "outputs": [
    {
     "name": "stderr",
     "output_type": "stream",
     "text": [
      "/usr/share/anaconda3/lib/python3.7/site-packages/ipykernel_launcher.py:2: SettingWithCopyWarning: \n",
      "A value is trying to be set on a copy of a slice from a DataFrame.\n",
      "Try using .loc[row_indexer,col_indexer] = value instead\n",
      "\n",
      "See the caveats in the documentation: https://pandas.pydata.org/pandas-docs/stable/user_guide/indexing.html#returning-a-view-versus-a-copy\n",
      "  \n",
      "/usr/share/anaconda3/lib/python3.7/site-packages/pandas/core/indexing.py:1738: SettingWithCopyWarning: \n",
      "A value is trying to be set on a copy of a slice from a DataFrame.\n",
      "Try using .loc[row_indexer,col_indexer] = value instead\n",
      "\n",
      "See the caveats in the documentation: https://pandas.pydata.org/pandas-docs/stable/user_guide/indexing.html#returning-a-view-versus-a-copy\n",
      "  self._setitem_single_column(loc, value[:, i].tolist(), pi)\n",
      "/usr/share/anaconda3/lib/python3.7/site-packages/ipykernel_launcher.py:3: SettingWithCopyWarning: \n",
      "A value is trying to be set on a copy of a slice from a DataFrame.\n",
      "Try using .loc[row_indexer,col_indexer] = value instead\n",
      "\n",
      "See the caveats in the documentation: https://pandas.pydata.org/pandas-docs/stable/user_guide/indexing.html#returning-a-view-versus-a-copy\n",
      "  This is separate from the ipykernel package so we can avoid doing imports until\n",
      "/usr/share/anaconda3/lib/python3.7/site-packages/pandas/core/indexing.py:1738: SettingWithCopyWarning: \n",
      "A value is trying to be set on a copy of a slice from a DataFrame.\n",
      "Try using .loc[row_indexer,col_indexer] = value instead\n",
      "\n",
      "See the caveats in the documentation: https://pandas.pydata.org/pandas-docs/stable/user_guide/indexing.html#returning-a-view-versus-a-copy\n",
      "  self._setitem_single_column(loc, value[:, i].tolist(), pi)\n"
     ]
    }
   ],
   "source": [
    "scaler = MinMaxScaler()\n",
    "X_train[['age','balance','duration','pdays','previous','campaign']] = scaler.fit_transform(X_train[['age','balance','duration','pdays','previous','campaign']])\n",
    "X_test[['age','balance','duration','pdays','previous','campaign']]=scaler.transform(X_test[['age','balance','duration','pdays','previous','campaign']])"
   ]
  },
  {
   "cell_type": "markdown",
   "metadata": {},
   "source": [
    "### Model Building"
   ]
  },
  {
   "cell_type": "markdown",
   "metadata": {},
   "source": [
    "### Logistic Regression"
   ]
  },
  {
   "cell_type": "code",
   "execution_count": 16,
   "metadata": {},
   "outputs": [
    {
     "data": {
      "text/plain": [
       "LogisticRegression(penalty='none')"
      ]
     },
     "execution_count": 16,
     "metadata": {},
     "output_type": "execute_result"
    }
   ],
   "source": [
    "logistic_model = LogisticRegression(penalty='none')\n",
    "\n",
    "logistic_model.fit(X_train,y_train)"
   ]
  },
  {
   "cell_type": "markdown",
   "metadata": {},
   "source": [
    "### Generating predictions"
   ]
  },
  {
   "cell_type": "code",
   "execution_count": 17,
   "metadata": {},
   "outputs": [],
   "source": [
    "train_preds = logistic_model.predict(X_train)\n",
    "train_preds_prob=logistic_model.predict_proba(X_train)[:,1]\n",
    "test_preds = logistic_model.predict(X_test)\n",
    "test_preds_prob=logistic_model.predict_proba(X_test)[:,1]"
   ]
  },
  {
   "cell_type": "code",
   "execution_count": 18,
   "metadata": {},
   "outputs": [
    {
     "data": {
      "text/plain": [
       "array([0, 0, 0, ..., 0, 0, 0])"
      ]
     },
     "execution_count": 18,
     "metadata": {},
     "output_type": "execute_result"
    }
   ],
   "source": [
    "train_preds"
   ]
  },
  {
   "cell_type": "code",
   "execution_count": 19,
   "metadata": {},
   "outputs": [
    {
     "data": {
      "text/plain": [
       "array([[-0.04616698, -0.98439218, -2.24756065, -0.01367156, -1.36277799,\n",
       "         0.12835769, 12.73927104, -0.1210013 ,  0.1535139 , -0.46617985,\n",
       "        -0.29161114, -0.65030276, -0.05792481, -0.41919625, -0.34315   ,\n",
       "         0.366319  , -0.57105543, -0.48281996,  0.25174758, -0.33037713,\n",
       "        -0.79949618,  0.39043802, -0.91653341, -0.56060561, -0.2790603 ,\n",
       "        -0.16030565,  1.00721488,  0.17213091, -0.57007426, -0.45608453,\n",
       "         0.68040562,  1.60570669, -0.37814329, -0.83600455,  1.36883075,\n",
       "         1.0189887 , -0.06130949,  0.229165  ,  2.31721165, -0.28675908,\n",
       "        -0.05293464]])"
      ]
     },
     "execution_count": 19,
     "metadata": {},
     "output_type": "execute_result"
    }
   ],
   "source": [
    "logistic_model.coef_"
   ]
  },
  {
   "cell_type": "markdown",
   "metadata": {},
   "source": [
    "### Confusion Matrix"
   ]
  },
  {
   "cell_type": "code",
   "execution_count": 20,
   "metadata": {},
   "outputs": [
    {
     "data": {
      "text/plain": [
       "array([[2736,   63],\n",
       "       [ 236,  129]])"
      ]
     },
     "execution_count": 20,
     "metadata": {},
     "output_type": "execute_result"
    }
   ],
   "source": [
    "confusion_matrix(y_train,train_preds)"
   ]
  },
  {
   "cell_type": "code",
   "execution_count": 21,
   "metadata": {},
   "outputs": [
    {
     "name": "stdout",
     "output_type": "stream",
     "text": [
      "************************************************\n",
      "Train Accuracy: 0.9054993678887484\n",
      "Train Recall: 0.35342465753424657\n",
      "Train Precision 0.671875\n",
      "************************************************\n",
      "Test Accuracy: 0.9005158437730287\n",
      "Test Recall: 0.33974358974358976\n",
      "Test Precision: 0.6235294117647059\n"
     ]
    }
   ],
   "source": [
    "train_accuracy_1= accuracy_score(y_train,train_preds)\n",
    "train_recall_1= recall_score(y_train,train_preds)\n",
    "train_precision_1= precision_score(y_train,train_preds)\n",
    "\n",
    "test_accuracy_1= accuracy_score(y_test,test_preds)\n",
    "test_recall_1= recall_score(y_test,test_preds)\n",
    "test_precision_1= precision_score(y_test,test_preds)\n",
    "print(\"************************************************\")\n",
    "\n",
    "print(\"Train Accuracy:\",train_accuracy_1)\n",
    "print('Train Recall:',train_recall_1)\n",
    "print(\"Train Precision\",train_precision_1)\n",
    "print(\"************************************************\")\n",
    "print(\"Test Accuracy:\",test_accuracy_1)\n",
    "print(\"Test Recall:\",test_recall_1)\n",
    "print('Test Precision:',test_precision_1)"
   ]
  },
  {
   "cell_type": "code",
   "execution_count": 22,
   "metadata": {},
   "outputs": [
    {
     "name": "stdout",
     "output_type": "stream",
     "text": [
      "              precision    recall  f1-score   support\n",
      "\n",
      "           0       0.92      0.98      0.95      2799\n",
      "           1       0.67      0.35      0.46       365\n",
      "\n",
      "    accuracy                           0.91      3164\n",
      "   macro avg       0.80      0.67      0.71      3164\n",
      "weighted avg       0.89      0.91      0.89      3164\n",
      "\n"
     ]
    }
   ],
   "source": [
    "#Classification report\n",
    "print(classification_report(y_train,train_preds))"
   ]
  },
  {
   "cell_type": "code",
   "execution_count": 23,
   "metadata": {},
   "outputs": [
    {
     "name": "stdout",
     "output_type": "stream",
     "text": [
      "              precision    recall  f1-score   support\n",
      "\n",
      "           0       0.92      0.97      0.95      1201\n",
      "           1       0.62      0.34      0.44       156\n",
      "\n",
      "    accuracy                           0.90      1357\n",
      "   macro avg       0.77      0.66      0.69      1357\n",
      "weighted avg       0.89      0.90      0.89      1357\n",
      "\n"
     ]
    }
   ],
   "source": [
    "print(classification_report(y_test,test_preds))"
   ]
  },
  {
   "cell_type": "code",
   "execution_count": 24,
   "metadata": {},
   "outputs": [],
   "source": [
    "model_performance = pd.DataFrame(np.array(['Logistic - All',train_accuracy_1,train_recall_1,train_precision_1,\n",
    "                                           test_accuracy_1,test_recall_1,test_precision_1]).reshape(1,7))\n",
    "\n",
    "model_performance.columns = ['Model','Train Accuracy','Train Recall','Train Precision',\n",
    "                             'Test Accuracy','Test Recall','Test Precision']"
   ]
  },
  {
   "cell_type": "code",
   "execution_count": 25,
   "metadata": {},
   "outputs": [
    {
     "data": {
      "text/html": [
       "<div>\n",
       "<style scoped>\n",
       "    .dataframe tbody tr th:only-of-type {\n",
       "        vertical-align: middle;\n",
       "    }\n",
       "\n",
       "    .dataframe tbody tr th {\n",
       "        vertical-align: top;\n",
       "    }\n",
       "\n",
       "    .dataframe thead th {\n",
       "        text-align: right;\n",
       "    }\n",
       "</style>\n",
       "<table border=\"1\" class=\"dataframe\">\n",
       "  <thead>\n",
       "    <tr style=\"text-align: right;\">\n",
       "      <th></th>\n",
       "      <th>Model</th>\n",
       "      <th>Train Accuracy</th>\n",
       "      <th>Train Recall</th>\n",
       "      <th>Train Precision</th>\n",
       "      <th>Test Accuracy</th>\n",
       "      <th>Test Recall</th>\n",
       "      <th>Test Precision</th>\n",
       "    </tr>\n",
       "  </thead>\n",
       "  <tbody>\n",
       "    <tr>\n",
       "      <th>0</th>\n",
       "      <td>Logistic - All</td>\n",
       "      <td>0.9054993678887484</td>\n",
       "      <td>0.35342465753424657</td>\n",
       "      <td>0.671875</td>\n",
       "      <td>0.9005158437730287</td>\n",
       "      <td>0.33974358974358976</td>\n",
       "      <td>0.6235294117647059</td>\n",
       "    </tr>\n",
       "  </tbody>\n",
       "</table>\n",
       "</div>"
      ],
      "text/plain": [
       "            Model      Train Accuracy         Train Recall Train Precision  \\\n",
       "0  Logistic - All  0.9054993678887484  0.35342465753424657        0.671875   \n",
       "\n",
       "        Test Accuracy          Test Recall      Test Precision  \n",
       "0  0.9005158437730287  0.33974358974358976  0.6235294117647059  "
      ]
     },
     "execution_count": 25,
     "metadata": {},
     "output_type": "execute_result"
    }
   ],
   "source": [
    "model_performance"
   ]
  },
  {
   "cell_type": "markdown",
   "metadata": {},
   "source": [
    "### PCA"
   ]
  },
  {
   "cell_type": "code",
   "execution_count": 26,
   "metadata": {},
   "outputs": [],
   "source": [
    "data1=df.copy()"
   ]
  },
  {
   "cell_type": "code",
   "execution_count": 27,
   "metadata": {},
   "outputs": [
    {
     "data": {
      "text/plain": [
       "(4521, 16)"
      ]
     },
     "execution_count": 27,
     "metadata": {},
     "output_type": "execute_result"
    }
   ],
   "source": [
    "data1.shape"
   ]
  },
  {
   "cell_type": "code",
   "execution_count": 28,
   "metadata": {},
   "outputs": [],
   "source": [
    "numeric_var= df[['age','balance','duration','pdays','previous','campaign']]\n"
   ]
  },
  {
   "cell_type": "code",
   "execution_count": 29,
   "metadata": {},
   "outputs": [],
   "source": [
    "numeric_std = StandardScaler().fit_transform(numeric_var)"
   ]
  },
  {
   "cell_type": "code",
   "execution_count": 30,
   "metadata": {},
   "outputs": [
    {
     "data": {
      "text/plain": [
       "array([[-1.05626965,  0.12107186, -0.7118608 , -0.4072183 , -0.32041282,\n",
       "        -0.57682947],\n",
       "       [-0.77258281,  1.1186443 , -0.16919389,  2.98904408,  2.04173372,\n",
       "        -0.57682947],\n",
       "       [-0.58345826, -0.02414438, -0.30389844,  2.89914302,  0.27012381,\n",
       "        -0.57682947],\n",
       "       [-1.05626965,  0.01772575, -0.25001662, -0.4072183 , -0.32041282,\n",
       "         0.38796743],\n",
       "       [ 1.68603644, -0.47275291, -0.14610168, -0.4072183 , -0.32041282,\n",
       "        -0.57682947]])"
      ]
     },
     "execution_count": 30,
     "metadata": {},
     "output_type": "execute_result"
    }
   ],
   "source": [
    "numeric_std[:5]"
   ]
  },
  {
   "cell_type": "code",
   "execution_count": 31,
   "metadata": {},
   "outputs": [],
   "source": [
    "numeric_std_df = pd.DataFrame(numeric_std)"
   ]
  },
  {
   "cell_type": "code",
   "execution_count": 32,
   "metadata": {},
   "outputs": [
    {
     "data": {
      "text/html": [
       "<div>\n",
       "<style scoped>\n",
       "    .dataframe tbody tr th:only-of-type {\n",
       "        vertical-align: middle;\n",
       "    }\n",
       "\n",
       "    .dataframe tbody tr th {\n",
       "        vertical-align: top;\n",
       "    }\n",
       "\n",
       "    .dataframe thead th {\n",
       "        text-align: right;\n",
       "    }\n",
       "</style>\n",
       "<table border=\"1\" class=\"dataframe\">\n",
       "  <thead>\n",
       "    <tr style=\"text-align: right;\">\n",
       "      <th></th>\n",
       "      <th>0</th>\n",
       "      <th>1</th>\n",
       "      <th>2</th>\n",
       "      <th>3</th>\n",
       "      <th>4</th>\n",
       "      <th>5</th>\n",
       "    </tr>\n",
       "  </thead>\n",
       "  <tbody>\n",
       "    <tr>\n",
       "      <th>count</th>\n",
       "      <td>4.521000e+03</td>\n",
       "      <td>4.521000e+03</td>\n",
       "      <td>4.521000e+03</td>\n",
       "      <td>4.521000e+03</td>\n",
       "      <td>4.521000e+03</td>\n",
       "      <td>4.521000e+03</td>\n",
       "    </tr>\n",
       "    <tr>\n",
       "      <th>mean</th>\n",
       "      <td>-1.352355e-16</td>\n",
       "      <td>4.428552e-17</td>\n",
       "      <td>-4.670746e-17</td>\n",
       "      <td>2.864331e-16</td>\n",
       "      <td>1.938040e-16</td>\n",
       "      <td>2.915778e-16</td>\n",
       "    </tr>\n",
       "    <tr>\n",
       "      <th>std</th>\n",
       "      <td>1.000111e+00</td>\n",
       "      <td>1.000111e+00</td>\n",
       "      <td>1.000111e+00</td>\n",
       "      <td>1.000111e+00</td>\n",
       "      <td>1.000111e+00</td>\n",
       "      <td>1.000111e+00</td>\n",
       "    </tr>\n",
       "    <tr>\n",
       "      <th>min</th>\n",
       "      <td>-2.096455e+00</td>\n",
       "      <td>-1.573671e+00</td>\n",
       "      <td>-1.000513e+00</td>\n",
       "      <td>-4.072183e-01</td>\n",
       "      <td>-3.204128e-01</td>\n",
       "      <td>-5.768295e-01</td>\n",
       "    </tr>\n",
       "    <tr>\n",
       "      <th>25%</th>\n",
       "      <td>-7.725828e-01</td>\n",
       "      <td>-4.498240e-01</td>\n",
       "      <td>-6.156433e-01</td>\n",
       "      <td>-4.072183e-01</td>\n",
       "      <td>-3.204128e-01</td>\n",
       "      <td>-5.768295e-01</td>\n",
       "    </tr>\n",
       "    <tr>\n",
       "      <th>50%</th>\n",
       "      <td>-2.052091e-01</td>\n",
       "      <td>-3.252105e-01</td>\n",
       "      <td>-3.038984e-01</td>\n",
       "      <td>-4.072183e-01</td>\n",
       "      <td>-3.204128e-01</td>\n",
       "      <td>-2.552305e-01</td>\n",
       "    </tr>\n",
       "    <tr>\n",
       "      <th>75%</th>\n",
       "      <td>7.404137e-01</td>\n",
       "      <td>1.905496e-02</td>\n",
       "      <td>2.503146e-01</td>\n",
       "      <td>-4.072183e-01</td>\n",
       "      <td>-3.204128e-01</td>\n",
       "      <td>6.636847e-02</td>\n",
       "    </tr>\n",
       "    <tr>\n",
       "      <th>max</th>\n",
       "      <td>4.333780e+00</td>\n",
       "      <td>2.318321e+01</td>\n",
       "      <td>1.062641e+01</td>\n",
       "      <td>8.303196e+00</td>\n",
       "      <td>1.444300e+01</td>\n",
       "      <td>1.518152e+01</td>\n",
       "    </tr>\n",
       "  </tbody>\n",
       "</table>\n",
       "</div>"
      ],
      "text/plain": [
       "                  0             1             2             3             4  \\\n",
       "count  4.521000e+03  4.521000e+03  4.521000e+03  4.521000e+03  4.521000e+03   \n",
       "mean  -1.352355e-16  4.428552e-17 -4.670746e-17  2.864331e-16  1.938040e-16   \n",
       "std    1.000111e+00  1.000111e+00  1.000111e+00  1.000111e+00  1.000111e+00   \n",
       "min   -2.096455e+00 -1.573671e+00 -1.000513e+00 -4.072183e-01 -3.204128e-01   \n",
       "25%   -7.725828e-01 -4.498240e-01 -6.156433e-01 -4.072183e-01 -3.204128e-01   \n",
       "50%   -2.052091e-01 -3.252105e-01 -3.038984e-01 -4.072183e-01 -3.204128e-01   \n",
       "75%    7.404137e-01  1.905496e-02  2.503146e-01 -4.072183e-01 -3.204128e-01   \n",
       "max    4.333780e+00  2.318321e+01  1.062641e+01  8.303196e+00  1.444300e+01   \n",
       "\n",
       "                  5  \n",
       "count  4.521000e+03  \n",
       "mean   2.915778e-16  \n",
       "std    1.000111e+00  \n",
       "min   -5.768295e-01  \n",
       "25%   -5.768295e-01  \n",
       "50%   -2.552305e-01  \n",
       "75%    6.636847e-02  \n",
       "max    1.518152e+01  "
      ]
     },
     "execution_count": 32,
     "metadata": {},
     "output_type": "execute_result"
    }
   ],
   "source": [
    "numeric_std_df.describe()"
   ]
  },
  {
   "cell_type": "code",
   "execution_count": 33,
   "metadata": {},
   "outputs": [],
   "source": [
    "pca = PCA()"
   ]
  },
  {
   "cell_type": "code",
   "execution_count": 34,
   "metadata": {},
   "outputs": [],
   "source": [
    "principalComponents = pca.fit_transform(numeric_std_df)"
   ]
  },
  {
   "cell_type": "code",
   "execution_count": 35,
   "metadata": {},
   "outputs": [
    {
     "data": {
      "text/plain": [
       "array([0.26701668, 0.18097711, 0.17538448, 0.15441109, 0.15196022,\n",
       "       0.07025043])"
      ]
     },
     "execution_count": 35,
     "metadata": {},
     "output_type": "execute_result"
    }
   ],
   "source": [
    "pca.explained_variance_ratio_"
   ]
  },
  {
   "cell_type": "code",
   "execution_count": 36,
   "metadata": {},
   "outputs": [
    {
     "data": {
      "text/plain": [
       "array([0.26701668, 0.44799379, 0.62337827, 0.77778936])"
      ]
     },
     "execution_count": 36,
     "metadata": {},
     "output_type": "execute_result"
    }
   ],
   "source": [
    "np.cumsum(pca.explained_variance_ratio_[:4])"
   ]
  },
  {
   "cell_type": "code",
   "execution_count": 37,
   "metadata": {},
   "outputs": [
    {
     "data": {
      "image/png": "[encoded data removed]",
      "text/plain": [
       "<Figure size 432x288 with 1 Axes>"
      ]
     },
     "metadata": {
      "needs_background": "light"
     },
     "output_type": "display_data"
    }
   ],
   "source": [
    "%matplotlib inline\n",
    "y=list(pca.explained_variance_ratio_)\n",
    "x=list(range(1,7))\n",
    "\n",
    "plt.scatter(x,y)\n",
    "\n",
    "plt.show()"
   ]
  },
  {
   "cell_type": "code",
   "execution_count": 38,
   "metadata": {},
   "outputs": [
    {
     "data": {
      "text/plain": [
       "array([[-0.41874949, -0.53097614,  0.23059209, -1.27919242,  0.28774252,\n",
       "         0.09351262],\n",
       "       [ 3.63802843,  0.22101692,  0.39371422, -0.67618524,  0.97869858,\n",
       "        -0.6771127 ],\n",
       "       [ 2.29581574, -0.43385941,  0.30435739, -0.56349109,  0.02460419,\n",
       "        -1.83693364],\n",
       "       ...,\n",
       "       [-1.05958243,  0.93774088,  1.69895078,  2.16548108, -0.47508146,\n",
       "        -0.01773945],\n",
       "       [ 2.09184402, -0.84348978,  1.19592326, -0.21365125,  0.64302187,\n",
       "        -0.18791667],\n",
       "       [ 4.14388851,  0.03671612,  0.27681218,  0.64814202, -0.12242579,\n",
       "         1.21164083]])"
      ]
     },
     "execution_count": 38,
     "metadata": {},
     "output_type": "execute_result"
    }
   ],
   "source": [
    "principalComponents"
   ]
  },
  {
   "cell_type": "markdown",
   "metadata": {},
   "source": [
    "### Taking few PCA Components"
   ]
  },
  {
   "cell_type": "code",
   "execution_count": 39,
   "metadata": {},
   "outputs": [],
   "source": [
    "principalDf = pd.DataFrame(data = principalComponents[:,0:5]\n",
    "             , columns = ['principal component 1', 'principal component 2',\n",
    "                          'principal component 3','principal component 4','principal component 5'])"
   ]
  },
  {
   "cell_type": "code",
   "execution_count": 40,
   "metadata": {},
   "outputs": [
    {
     "data": {
      "text/html": [
       "<div>\n",
       "<style scoped>\n",
       "    .dataframe tbody tr th:only-of-type {\n",
       "        vertical-align: middle;\n",
       "    }\n",
       "\n",
       "    .dataframe tbody tr th {\n",
       "        vertical-align: top;\n",
       "    }\n",
       "\n",
       "    .dataframe thead th {\n",
       "        text-align: right;\n",
       "    }\n",
       "</style>\n",
       "<table border=\"1\" class=\"dataframe\">\n",
       "  <thead>\n",
       "    <tr style=\"text-align: right;\">\n",
       "      <th></th>\n",
       "      <th>principal component 1</th>\n",
       "      <th>principal component 2</th>\n",
       "      <th>principal component 3</th>\n",
       "      <th>principal component 4</th>\n",
       "      <th>principal component 5</th>\n",
       "    </tr>\n",
       "  </thead>\n",
       "  <tbody>\n",
       "    <tr>\n",
       "      <th>0</th>\n",
       "      <td>-0.418749</td>\n",
       "      <td>-0.530976</td>\n",
       "      <td>0.230592</td>\n",
       "      <td>-1.279192</td>\n",
       "      <td>0.287743</td>\n",
       "    </tr>\n",
       "    <tr>\n",
       "      <th>1</th>\n",
       "      <td>3.638028</td>\n",
       "      <td>0.221017</td>\n",
       "      <td>0.393714</td>\n",
       "      <td>-0.676185</td>\n",
       "      <td>0.978699</td>\n",
       "    </tr>\n",
       "    <tr>\n",
       "      <th>2</th>\n",
       "      <td>2.295816</td>\n",
       "      <td>-0.433859</td>\n",
       "      <td>0.304357</td>\n",
       "      <td>-0.563491</td>\n",
       "      <td>0.024604</td>\n",
       "    </tr>\n",
       "    <tr>\n",
       "      <th>3</th>\n",
       "      <td>-0.583485</td>\n",
       "      <td>-0.653388</td>\n",
       "      <td>0.507362</td>\n",
       "      <td>-0.338373</td>\n",
       "      <td>0.674543</td>\n",
       "    </tr>\n",
       "    <tr>\n",
       "      <th>4</th>\n",
       "      <td>-0.432604</td>\n",
       "      <td>0.843090</td>\n",
       "      <td>-0.573701</td>\n",
       "      <td>0.231756</td>\n",
       "      <td>-1.549323</td>\n",
       "    </tr>\n",
       "  </tbody>\n",
       "</table>\n",
       "</div>"
      ],
      "text/plain": [
       "   principal component 1  principal component 2  principal component 3  \\\n",
       "0              -0.418749              -0.530976               0.230592   \n",
       "1               3.638028               0.221017               0.393714   \n",
       "2               2.295816              -0.433859               0.304357   \n",
       "3              -0.583485              -0.653388               0.507362   \n",
       "4              -0.432604               0.843090              -0.573701   \n",
       "\n",
       "   principal component 4  principal component 5  \n",
       "0              -1.279192               0.287743  \n",
       "1              -0.676185               0.978699  \n",
       "2              -0.563491               0.024604  \n",
       "3              -0.338373               0.674543  \n",
       "4               0.231756              -1.549323  "
      ]
     },
     "execution_count": 40,
     "metadata": {},
     "output_type": "execute_result"
    }
   ],
   "source": [
    "principalDf.head(5)"
   ]
  },
  {
   "cell_type": "markdown",
   "metadata": {},
   "source": [
    "### Preparing the data for model building "
   ]
  },
  {
   "cell_type": "code",
   "execution_count": 41,
   "metadata": {},
   "outputs": [
    {
     "name": "stdout",
     "output_type": "stream",
     "text": [
      "   principal component 1  principal component 2  principal component 3  \\\n",
      "0              -0.418749              -0.530976               0.230592   \n",
      "1               3.638028               0.221017               0.393714   \n",
      "2               2.295816              -0.433859               0.304357   \n",
      "3              -0.583485              -0.653388               0.507362   \n",
      "4              -0.432604               0.843090              -0.573701   \n",
      "\n",
      "   principal component 4  principal component 5  y  \n",
      "0              -1.279192               0.287743  0  \n",
      "1              -0.676185               0.978699  0  \n",
      "2              -0.563491               0.024604  0  \n",
      "3              -0.338373               0.674543  0  \n",
      "4               0.231756              -1.549323  0  \n"
     ]
    }
   ],
   "source": [
    "Data_for_model = pd.concat([principalDf,df['y']], axis=1)\n",
    "print(Data_for_model.head(5))"
   ]
  },
  {
   "cell_type": "code",
   "execution_count": 42,
   "metadata": {},
   "outputs": [],
   "source": [
    "x# Divide in to train and test\n",
    "y1=Data_for_model[\"y\"]\n",
    "X1=Data_for_model.drop(['y'], axis=1)\n",
    "\n",
    "#from sklearn.model_selection import train_test_split  \n",
    "X1_train, X1_test, y1_train, y1_test = train_test_split(X1, y1, test_size=0.20) "
   ]
  },
  {
   "cell_type": "code",
   "execution_count": 43,
   "metadata": {},
   "outputs": [],
   "source": [
    "dt = LogisticRegression(penalty='none')\n",
    "model_pca = dt.fit(X1_train,y1_train)"
   ]
  },
  {
   "cell_type": "code",
   "execution_count": 44,
   "metadata": {},
   "outputs": [],
   "source": [
    "pred_train = model_pca.predict(X1_train)\n",
    "pred_test = model_pca.predict(X1_test)"
   ]
  },
  {
   "cell_type": "code",
   "execution_count": 45,
   "metadata": {},
   "outputs": [
    {
     "data": {
      "text/plain": [
       "array([0, 0, 0, 0, 0, 0, 0, 0, 0, 0])"
      ]
     },
     "execution_count": 45,
     "metadata": {},
     "output_type": "execute_result"
    }
   ],
   "source": [
    "pred_train[:10]"
   ]
  },
  {
   "cell_type": "code",
   "execution_count": 46,
   "metadata": {},
   "outputs": [
    {
     "data": {
      "text/plain": [
       "683     0\n",
       "3956    1\n",
       "3937    0\n",
       "2729    0\n",
       "1990    0\n",
       "4218    0\n",
       "4286    0\n",
       "1470    0\n",
       "527     0\n",
       "2044    0\n",
       "Name: y, dtype: int64"
      ]
     },
     "execution_count": 46,
     "metadata": {},
     "output_type": "execute_result"
    }
   ],
   "source": [
    "y1_train[:10]"
   ]
  },
  {
   "cell_type": "code",
   "execution_count": 47,
   "metadata": {},
   "outputs": [
    {
     "name": "stdout",
     "output_type": "stream",
     "text": [
      "************************************************\n",
      "Train Accuracy: 0.891316371681416\n",
      "Train Recall: 0.14285714285714285\n",
      "Train Precision 0.5277777777777778\n",
      "************************************************\n",
      "Test Accuracy: 0.8751381215469614\n",
      "Test Recall: 0.1557377049180328\n",
      "Test Precision: 0.6551724137931034\n"
     ]
    }
   ],
   "source": [
    "train_accuracy_pca= accuracy_score(y1_train,pred_train)\n",
    "train_recall_pca= recall_score(y1_train,pred_train)\n",
    "train_precision_pca= precision_score(y1_train,pred_train)\n",
    "\n",
    "test_accuracy_pca= accuracy_score(y1_test,pred_test)\n",
    "test_recall_pca= recall_score(y1_test,pred_test)\n",
    "test_precision_pca= precision_score(y1_test,pred_test)\n",
    "print(\"************************************************\")\n",
    "\n",
    "print(\"Train Accuracy:\",train_accuracy_pca)\n",
    "print('Train Recall:',train_recall_pca)\n",
    "print(\"Train Precision\",train_precision_pca)\n",
    "print(\"************************************************\")\n",
    "print(\"Test Accuracy:\",test_accuracy_pca)\n",
    "print(\"Test Recall:\",test_recall_pca)\n",
    "print('Test Precision:',test_precision_pca)\n"
   ]
  },
  {
   "cell_type": "code",
   "execution_count": 48,
   "metadata": {},
   "outputs": [
    {
     "data": {
      "text/plain": [
       "array([[3166,   51],\n",
       "       [ 342,   57]])"
      ]
     },
     "execution_count": 48,
     "metadata": {},
     "output_type": "execute_result"
    }
   ],
   "source": [
    "confusion_matrix(y_pred=pred_train,y_true=y1_train)"
   ]
  },
  {
   "cell_type": "code",
   "execution_count": 49,
   "metadata": {},
   "outputs": [
    {
     "data": {
      "text/plain": [
       "array([[773,  10],\n",
       "       [103,  19]])"
      ]
     },
     "execution_count": 49,
     "metadata": {},
     "output_type": "execute_result"
    }
   ],
   "source": [
    "confusion_matrix(y_pred=pred_test,y_true=y1_test)"
   ]
  },
  {
   "cell_type": "code",
   "execution_count": 50,
   "metadata": {},
   "outputs": [],
   "source": [
    "d= np.array(['Logistic - PCA',train_accuracy_pca,train_recall_pca,train_precision_pca,\n",
    "                                           test_accuracy_pca,test_recall_pca,test_precision_pca]).reshape(1,7)\n",
    "model_performance = model_performance.append(pd.DataFrame(d,columns=model_performance.columns))"
   ]
  },
  {
   "cell_type": "code",
   "execution_count": 51,
   "metadata": {},
   "outputs": [
    {
     "data": {
      "text/html": [
       "<div>\n",
       "<style scoped>\n",
       "    .dataframe tbody tr th:only-of-type {\n",
       "        vertical-align: middle;\n",
       "    }\n",
       "\n",
       "    .dataframe tbody tr th {\n",
       "        vertical-align: top;\n",
       "    }\n",
       "\n",
       "    .dataframe thead th {\n",
       "        text-align: right;\n",
       "    }\n",
       "</style>\n",
       "<table border=\"1\" class=\"dataframe\">\n",
       "  <thead>\n",
       "    <tr style=\"text-align: right;\">\n",
       "      <th></th>\n",
       "      <th>Model</th>\n",
       "      <th>Train Accuracy</th>\n",
       "      <th>Train Recall</th>\n",
       "      <th>Train Precision</th>\n",
       "      <th>Test Accuracy</th>\n",
       "      <th>Test Recall</th>\n",
       "      <th>Test Precision</th>\n",
       "    </tr>\n",
       "  </thead>\n",
       "  <tbody>\n",
       "    <tr>\n",
       "      <th>0</th>\n",
       "      <td>Logistic - All</td>\n",
       "      <td>0.9054993678887484</td>\n",
       "      <td>0.35342465753424657</td>\n",
       "      <td>0.671875</td>\n",
       "      <td>0.9005158437730287</td>\n",
       "      <td>0.33974358974358976</td>\n",
       "      <td>0.6235294117647059</td>\n",
       "    </tr>\n",
       "    <tr>\n",
       "      <th>0</th>\n",
       "      <td>Logistic - PCA</td>\n",
       "      <td>0.891316371681416</td>\n",
       "      <td>0.14285714285714285</td>\n",
       "      <td>0.5277777777777778</td>\n",
       "      <td>0.8751381215469614</td>\n",
       "      <td>0.1557377049180328</td>\n",
       "      <td>0.6551724137931034</td>\n",
       "    </tr>\n",
       "  </tbody>\n",
       "</table>\n",
       "</div>"
      ],
      "text/plain": [
       "            Model      Train Accuracy         Train Recall  \\\n",
       "0  Logistic - All  0.9054993678887484  0.35342465753424657   \n",
       "0  Logistic - PCA   0.891316371681416  0.14285714285714285   \n",
       "\n",
       "      Train Precision       Test Accuracy          Test Recall  \\\n",
       "0            0.671875  0.9005158437730287  0.33974358974358976   \n",
       "0  0.5277777777777778  0.8751381215469614   0.1557377049180328   \n",
       "\n",
       "       Test Precision  \n",
       "0  0.6235294117647059  \n",
       "0  0.6551724137931034  "
      ]
     },
     "execution_count": 51,
     "metadata": {},
     "output_type": "execute_result"
    }
   ],
   "source": [
    "model_performance"
   ]
  },
  {
   "cell_type": "markdown",
   "metadata": {},
   "source": [
    "### Naive Bayes Classifier"
   ]
  },
  {
   "cell_type": "code",
   "execution_count": 52,
   "metadata": {},
   "outputs": [],
   "source": [
    "model = GaussianNB().fit(X_train,y_train) \n",
    "\n",
    "nb_pred_train = model.predict(X_train)  \n",
    "nb_pred_test = model.predict(X_test) #predict on test data \n",
    "\n"
   ]
  },
  {
   "cell_type": "code",
   "execution_count": 53,
   "metadata": {},
   "outputs": [
    {
     "data": {
      "text/plain": [
       "array([0, 0, 0, 0, 1, 0, 0, 0, 0, 0])"
      ]
     },
     "execution_count": 53,
     "metadata": {},
     "output_type": "execute_result"
    }
   ],
   "source": [
    "nb_pred_train[:10]"
   ]
  },
  {
   "cell_type": "code",
   "execution_count": 54,
   "metadata": {},
   "outputs": [
    {
     "data": {
      "text/plain": [
       "array([[1073,  128],\n",
       "       [  89,   67]])"
      ]
     },
     "execution_count": 54,
     "metadata": {},
     "output_type": "execute_result"
    }
   ],
   "source": [
    "confusion_matrix(y_train,nb_pred_train)\n",
    "confusion_matrix(y_test,nb_pred_test)"
   ]
  },
  {
   "cell_type": "code",
   "execution_count": 55,
   "metadata": {},
   "outputs": [
    {
     "name": "stdout",
     "output_type": "stream",
     "text": [
      "************************************************\n",
      "Train Accuracy: 0.8460809102402023\n",
      "Train Recall: 0.4520547945205479\n",
      "Train Precision 0.36504424778761063\n",
      "************************************************\n",
      "Test Accuracy: 0.8400884303610906\n",
      "Test Recall: 0.42948717948717946\n",
      "Test Precision: 0.3435897435897436\n"
     ]
    }
   ],
   "source": [
    "train_accuracy_nb= accuracy_score(y_train,nb_pred_train)\n",
    "train_recall_nb= recall_score(y_train,nb_pred_train)\n",
    "train_precision_nb= precision_score(y_train,nb_pred_train)\n",
    "\n",
    "test_accuracy_nb= accuracy_score(y_test,nb_pred_test)\n",
    "test_recall_nb= recall_score(y_test,nb_pred_test)\n",
    "test_precision_nb= precision_score(y_test,nb_pred_test)\n",
    "print(\"************************************************\")\n",
    "\n",
    "print(\"Train Accuracy:\",train_accuracy_nb)\n",
    "print('Train Recall:',train_recall_nb)\n",
    "print(\"Train Precision\",train_precision_nb)\n",
    "print(\"************************************************\")\n",
    "print(\"Test Accuracy:\",test_accuracy_nb)\n",
    "print(\"Test Recall:\",test_recall_nb)\n",
    "print('Test Precision:',test_precision_nb)\n"
   ]
  },
  {
   "cell_type": "code",
   "execution_count": 56,
   "metadata": {},
   "outputs": [],
   "source": [
    "nb_per = np.array(['Naive Bayes',train_accuracy_nb,train_recall_nb,train_precision_nb,\n",
    "                                           test_accuracy_nb,test_recall_nb,test_precision_nb]).reshape(1,7)\n",
    "model_performance = model_performance.append(pd.DataFrame(nb_per,columns=model_performance.columns))"
   ]
  },
  {
   "cell_type": "code",
   "execution_count": 57,
   "metadata": {},
   "outputs": [
    {
     "data": {
      "text/html": [
       "<div>\n",
       "<style scoped>\n",
       "    .dataframe tbody tr th:only-of-type {\n",
       "        vertical-align: middle;\n",
       "    }\n",
       "\n",
       "    .dataframe tbody tr th {\n",
       "        vertical-align: top;\n",
       "    }\n",
       "\n",
       "    .dataframe thead th {\n",
       "        text-align: right;\n",
       "    }\n",
       "</style>\n",
       "<table border=\"1\" class=\"dataframe\">\n",
       "  <thead>\n",
       "    <tr style=\"text-align: right;\">\n",
       "      <th></th>\n",
       "      <th>Model</th>\n",
       "      <th>Train Accuracy</th>\n",
       "      <th>Train Recall</th>\n",
       "      <th>Train Precision</th>\n",
       "      <th>Test Accuracy</th>\n",
       "      <th>Test Recall</th>\n",
       "      <th>Test Precision</th>\n",
       "    </tr>\n",
       "  </thead>\n",
       "  <tbody>\n",
       "    <tr>\n",
       "      <th>0</th>\n",
       "      <td>Logistic - All</td>\n",
       "      <td>0.9054993678887484</td>\n",
       "      <td>0.35342465753424657</td>\n",
       "      <td>0.671875</td>\n",
       "      <td>0.9005158437730287</td>\n",
       "      <td>0.33974358974358976</td>\n",
       "      <td>0.6235294117647059</td>\n",
       "    </tr>\n",
       "    <tr>\n",
       "      <th>0</th>\n",
       "      <td>Logistic - PCA</td>\n",
       "      <td>0.891316371681416</td>\n",
       "      <td>0.14285714285714285</td>\n",
       "      <td>0.5277777777777778</td>\n",
       "      <td>0.8751381215469614</td>\n",
       "      <td>0.1557377049180328</td>\n",
       "      <td>0.6551724137931034</td>\n",
       "    </tr>\n",
       "    <tr>\n",
       "      <th>0</th>\n",
       "      <td>Naive Bayes</td>\n",
       "      <td>0.8460809102402023</td>\n",
       "      <td>0.4520547945205479</td>\n",
       "      <td>0.36504424778761063</td>\n",
       "      <td>0.8400884303610906</td>\n",
       "      <td>0.42948717948717946</td>\n",
       "      <td>0.3435897435897436</td>\n",
       "    </tr>\n",
       "  </tbody>\n",
       "</table>\n",
       "</div>"
      ],
      "text/plain": [
       "            Model      Train Accuracy         Train Recall  \\\n",
       "0  Logistic - All  0.9054993678887484  0.35342465753424657   \n",
       "0  Logistic - PCA   0.891316371681416  0.14285714285714285   \n",
       "0     Naive Bayes  0.8460809102402023   0.4520547945205479   \n",
       "\n",
       "       Train Precision       Test Accuracy          Test Recall  \\\n",
       "0             0.671875  0.9005158437730287  0.33974358974358976   \n",
       "0   0.5277777777777778  0.8751381215469614   0.1557377049180328   \n",
       "0  0.36504424778761063  0.8400884303610906  0.42948717948717946   \n",
       "\n",
       "       Test Precision  \n",
       "0  0.6235294117647059  \n",
       "0  0.6551724137931034  \n",
       "0  0.3435897435897436  "
      ]
     },
     "execution_count": 57,
     "metadata": {},
     "output_type": "execute_result"
    }
   ],
   "source": [
    "model_performance"
   ]
  },
  {
   "cell_type": "markdown",
   "metadata": {},
   "source": [
    "### Balancing the class weights"
   ]
  },
  {
   "cell_type": "code",
   "execution_count": 58,
   "metadata": {},
   "outputs": [
    {
     "data": {
      "text/plain": [
       "LogisticRegression(class_weight='balanced', penalty='none')"
      ]
     },
     "execution_count": 58,
     "metadata": {},
     "output_type": "execute_result"
    }
   ],
   "source": [
    "logistic_model = LogisticRegression(penalty='none', class_weight='balanced')\n",
    "\n",
    "logistic_model.fit(X_train,y_train)"
   ]
  },
  {
   "cell_type": "code",
   "execution_count": 59,
   "metadata": {},
   "outputs": [],
   "source": [
    "train_preds = logistic_model.predict(X_train)\n",
    "train_preds_prob=logistic_model.predict_proba(X_train)[:,1]\n",
    "test_preds = logistic_model.predict(X_test)\n",
    "test_preds_prob=logistic_model.predict_proba(X_test)[:,1]"
   ]
  },
  {
   "cell_type": "code",
   "execution_count": 60,
   "metadata": {},
   "outputs": [
    {
     "data": {
      "text/plain": [
       "array([[-0.05719799, -1.06264899, -5.03299097,  0.20300292, -1.43736719,\n",
       "        -0.05157765, 18.2005446 , -0.03471908,  0.09623874, -0.32352028,\n",
       "        -0.3076054 , -0.99091598, -0.22284328, -0.38091643, -0.4337043 ,\n",
       "         0.36264376, -0.74533019, -0.68609111,  0.27885421, -0.40812272,\n",
       "        -0.77432952,  0.47738309, -1.15927731, -0.43651199, -0.13080549,\n",
       "        -0.37814648,  0.70945389,  0.13410151, -0.94370412, -0.96423583,\n",
       "         0.48298592,  1.73356467, -0.8611226 , -0.7828551 ,  1.53783966,\n",
       "         1.16969864,  0.10283376,  0.26856753,  2.4109556 , -0.45540589,\n",
       "        -0.26988001]])"
      ]
     },
     "execution_count": 60,
     "metadata": {},
     "output_type": "execute_result"
    }
   ],
   "source": [
    "logistic_model.coef_"
   ]
  },
  {
   "cell_type": "code",
   "execution_count": 61,
   "metadata": {},
   "outputs": [
    {
     "data": {
      "text/plain": [
       "array([[2370,  429],\n",
       "       [  64,  301]])"
      ]
     },
     "execution_count": 61,
     "metadata": {},
     "output_type": "execute_result"
    }
   ],
   "source": [
    "confusion_matrix(y_train,train_preds)"
   ]
  },
  {
   "cell_type": "code",
   "execution_count": 62,
   "metadata": {},
   "outputs": [
    {
     "name": "stdout",
     "output_type": "stream",
     "text": [
      "************************************************\n",
      "Train Accuracy: 0.8441845764854614\n",
      "Train Recall: 0.8246575342465754\n",
      "Train Precision 0.4123287671232877\n",
      "************************************************\n",
      "Test Accuracy: 0.8282977155490051\n",
      "Test Recall: 0.8012820512820513\n",
      "Test Precision: 0.382262996941896\n"
     ]
    }
   ],
   "source": [
    "train_accuracy_imbalance= accuracy_score(y_train,train_preds)\n",
    "train_recall_imbalance= recall_score(y_train,train_preds)\n",
    "train_precision_imbalance= precision_score(y_train,train_preds)\n",
    "\n",
    "test_accuracy_imbalance= accuracy_score(y_test,test_preds)\n",
    "test_recall_imbalance= recall_score(y_test,test_preds)\n",
    "test_precision_imbalance= precision_score(y_test,test_preds)\n",
    "print(\"************************************************\")\n",
    "\n",
    "print(\"Train Accuracy:\",train_accuracy_imbalance)\n",
    "print('Train Recall:',train_recall_imbalance)\n",
    "print(\"Train Precision\",train_precision_imbalance)\n",
    "print(\"************************************************\")\n",
    "print(\"Test Accuracy:\",test_accuracy_imbalance)\n",
    "print(\"Test Recall:\",test_recall_imbalance)\n",
    "print('Test Precision:',test_precision_imbalance)\n"
   ]
  },
  {
   "cell_type": "code",
   "execution_count": 63,
   "metadata": {},
   "outputs": [
    {
     "name": "stdout",
     "output_type": "stream",
     "text": [
      "              precision    recall  f1-score   support\n",
      "\n",
      "           0       0.97      0.85      0.91      2799\n",
      "           1       0.41      0.82      0.55       365\n",
      "\n",
      "    accuracy                           0.84      3164\n",
      "   macro avg       0.69      0.84      0.73      3164\n",
      "weighted avg       0.91      0.84      0.86      3164\n",
      "\n"
     ]
    }
   ],
   "source": [
    "print(classification_report(y_train,train_preds))"
   ]
  },
  {
   "cell_type": "code",
   "execution_count": 64,
   "metadata": {},
   "outputs": [
    {
     "name": "stdout",
     "output_type": "stream",
     "text": [
      "              precision    recall  f1-score   support\n",
      "\n",
      "           0       0.97      0.83      0.90      1201\n",
      "           1       0.38      0.80      0.52       156\n",
      "\n",
      "    accuracy                           0.83      1357\n",
      "   macro avg       0.68      0.82      0.71      1357\n",
      "weighted avg       0.90      0.83      0.85      1357\n",
      "\n"
     ]
    }
   ],
   "source": [
    "print(classification_report(y_test,test_preds))"
   ]
  },
  {
   "cell_type": "code",
   "execution_count": 65,
   "metadata": {},
   "outputs": [],
   "source": [
    "imbalance_per = np.array(['Logistic - imbalance',train_accuracy_imbalance,train_recall_imbalance,\n",
    "                          train_precision_imbalance,\n",
    "                                           test_accuracy_imbalance,test_recall_imbalance,\n",
    "                          test_precision_imbalance]).reshape(1,7)\n",
    "model_performance = model_performance.append(pd.DataFrame(imbalance_per,columns=model_performance.columns))"
   ]
  },
  {
   "cell_type": "code",
   "execution_count": 66,
   "metadata": {},
   "outputs": [
    {
     "data": {
      "text/html": [
       "<div>\n",
       "<style scoped>\n",
       "    .dataframe tbody tr th:only-of-type {\n",
       "        vertical-align: middle;\n",
       "    }\n",
       "\n",
       "    .dataframe tbody tr th {\n",
       "        vertical-align: top;\n",
       "    }\n",
       "\n",
       "    .dataframe thead th {\n",
       "        text-align: right;\n",
       "    }\n",
       "</style>\n",
       "<table border=\"1\" class=\"dataframe\">\n",
       "  <thead>\n",
       "    <tr style=\"text-align: right;\">\n",
       "      <th></th>\n",
       "      <th>Model</th>\n",
       "      <th>Train Accuracy</th>\n",
       "      <th>Train Recall</th>\n",
       "      <th>Train Precision</th>\n",
       "      <th>Test Accuracy</th>\n",
       "      <th>Test Recall</th>\n",
       "      <th>Test Precision</th>\n",
       "    </tr>\n",
       "  </thead>\n",
       "  <tbody>\n",
       "    <tr>\n",
       "      <th>0</th>\n",
       "      <td>Logistic - All</td>\n",
       "      <td>0.9054993678887484</td>\n",
       "      <td>0.35342465753424657</td>\n",
       "      <td>0.671875</td>\n",
       "      <td>0.9005158437730287</td>\n",
       "      <td>0.33974358974358976</td>\n",
       "      <td>0.6235294117647059</td>\n",
       "    </tr>\n",
       "    <tr>\n",
       "      <th>0</th>\n",
       "      <td>Logistic - PCA</td>\n",
       "      <td>0.891316371681416</td>\n",
       "      <td>0.14285714285714285</td>\n",
       "      <td>0.5277777777777778</td>\n",
       "      <td>0.8751381215469614</td>\n",
       "      <td>0.1557377049180328</td>\n",
       "      <td>0.6551724137931034</td>\n",
       "    </tr>\n",
       "    <tr>\n",
       "      <th>0</th>\n",
       "      <td>Naive Bayes</td>\n",
       "      <td>0.8460809102402023</td>\n",
       "      <td>0.4520547945205479</td>\n",
       "      <td>0.36504424778761063</td>\n",
       "      <td>0.8400884303610906</td>\n",
       "      <td>0.42948717948717946</td>\n",
       "      <td>0.3435897435897436</td>\n",
       "    </tr>\n",
       "    <tr>\n",
       "      <th>0</th>\n",
       "      <td>Logistic - imbalance</td>\n",
       "      <td>0.8441845764854614</td>\n",
       "      <td>0.8246575342465754</td>\n",
       "      <td>0.4123287671232877</td>\n",
       "      <td>0.8282977155490051</td>\n",
       "      <td>0.8012820512820513</td>\n",
       "      <td>0.382262996941896</td>\n",
       "    </tr>\n",
       "  </tbody>\n",
       "</table>\n",
       "</div>"
      ],
      "text/plain": [
       "                  Model      Train Accuracy         Train Recall  \\\n",
       "0        Logistic - All  0.9054993678887484  0.35342465753424657   \n",
       "0        Logistic - PCA   0.891316371681416  0.14285714285714285   \n",
       "0           Naive Bayes  0.8460809102402023   0.4520547945205479   \n",
       "0  Logistic - imbalance  0.8441845764854614   0.8246575342465754   \n",
       "\n",
       "       Train Precision       Test Accuracy          Test Recall  \\\n",
       "0             0.671875  0.9005158437730287  0.33974358974358976   \n",
       "0   0.5277777777777778  0.8751381215469614   0.1557377049180328   \n",
       "0  0.36504424778761063  0.8400884303610906  0.42948717948717946   \n",
       "0   0.4123287671232877  0.8282977155490051   0.8012820512820513   \n",
       "\n",
       "       Test Precision  \n",
       "0  0.6235294117647059  \n",
       "0  0.6551724137931034  \n",
       "0  0.3435897435897436  \n",
       "0   0.382262996941896  "
      ]
     },
     "execution_count": 66,
     "metadata": {},
     "output_type": "execute_result"
    }
   ],
   "source": [
    "model_performance"
   ]
  },
  {
   "cell_type": "code",
   "execution_count": null,
   "metadata": {},
   "outputs": [],
   "source": []
  },
  {
   "cell_type": "code",
   "execution_count": null,
   "metadata": {},
   "outputs": [],
   "source": []
  }
 ],
 "metadata": {
  "kernelspec": {
   "display_name": "Python 3",
   "language": "python",
   "name": "python3"
  },
  "language_info": {
   "codemirror_mode": {
    "name": "ipython",
    "version": 3
   },
   "file_extension": ".py",
   "mimetype": "text/x-python",
   "name": "python",
   "nbconvert_exporter": "python",
   "pygments_lexer": "ipython3",
   "version": "3.7.6"
  }
 },
 "nbformat": 4,
 "nbformat_minor": 4
}
