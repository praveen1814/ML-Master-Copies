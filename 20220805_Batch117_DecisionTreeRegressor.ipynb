{
 "cells": [
  {
   "cell_type": "markdown",
   "metadata": {
    "toc": true
   },
   "source": [
    "<h1>Table of Contents<span class=\"tocSkip\"></span></h1>\n",
    "<div class=\"toc\"><ul class=\"toc-item\"><li><span><a href=\"#Problem-Statement\" data-toc-modified-id=\"Problem-Statement-1\"><span class=\"toc-item-num\">1&nbsp;&nbsp;</span>Problem Statement</a></span><ul class=\"toc-item\"><li><span><a href=\"#Identify-right-Error-Metrics\" data-toc-modified-id=\"Identify-right-Error-Metrics-1.1\"><span class=\"toc-item-num\">1.1&nbsp;&nbsp;</span>Identify right Error Metrics</a></span></li></ul></li><li><span><a href=\"#Loading-the-required-libraries\" data-toc-modified-id=\"Loading-the-required-libraries-2\"><span class=\"toc-item-num\">2&nbsp;&nbsp;</span>Loading the required libraries</a></span></li><li><span><a href=\"#Loading-the-data\" data-toc-modified-id=\"Loading-the-data-3\"><span class=\"toc-item-num\">3&nbsp;&nbsp;</span>Loading the data</a></span></li><li><span><a href=\"#Understand-the-Data---Exploratory-Data-Analysis-(EDA)\" data-toc-modified-id=\"Understand-the-Data---Exploratory-Data-Analysis-(EDA)-4\"><span class=\"toc-item-num\">4&nbsp;&nbsp;</span>Understand the Data - Exploratory Data Analysis (EDA)</a></span><ul class=\"toc-item\"><li><span><a href=\"#Number-of-rows-and-columns\" data-toc-modified-id=\"Number-of-rows-and-columns-4.1\"><span class=\"toc-item-num\">4.1&nbsp;&nbsp;</span>Number of rows and columns</a></span></li><li><span><a href=\"#Display-the-columns\" data-toc-modified-id=\"Display-the-columns-4.2\"><span class=\"toc-item-num\">4.2&nbsp;&nbsp;</span>Display the columns</a></span></li><li><span><a href=\"#Display-first-five-records\" data-toc-modified-id=\"Display-first-five-records-4.3\"><span class=\"toc-item-num\">4.3&nbsp;&nbsp;</span>Display first five records</a></span></li><li><span><a href=\"#Summary-Stats\" data-toc-modified-id=\"Summary-Stats-4.4\"><span class=\"toc-item-num\">4.4&nbsp;&nbsp;</span>Summary Stats</a></span><ul class=\"toc-item\"><li><span><a href=\"#Observations:\" data-toc-modified-id=\"Observations:-4.4.1\"><span class=\"toc-item-num\">4.4.1&nbsp;&nbsp;</span>Observations:</a></span></li></ul></li></ul></li><li><span><a href=\"#Data-Maipulation-&amp;-Feature-Engineering\" data-toc-modified-id=\"Data-Maipulation-&amp;-Feature-Engineering-5\"><span class=\"toc-item-num\">5&nbsp;&nbsp;</span>Data Maipulation &amp; Feature Engineering</a></span><ul class=\"toc-item\"><li><span><a href=\"#Not-useful-attributes\" data-toc-modified-id=\"Not-useful-attributes-5.1\"><span class=\"toc-item-num\">5.1&nbsp;&nbsp;</span>Not useful attributes</a></span></li><li><span><a href=\"#Display-the-data-type-of-attributes\" data-toc-modified-id=\"Display-the-data-type-of-attributes-5.2\"><span class=\"toc-item-num\">5.2&nbsp;&nbsp;</span>Display the data type of attributes</a></span><ul class=\"toc-item\"><li><span><a href=\"#Data-type-conversion-*\" data-toc-modified-id=\"Data-type-conversion-*-5.2.1\"><span class=\"toc-item-num\">5.2.1&nbsp;&nbsp;</span>Data type conversion *</a></span></li></ul></li><li><span><a href=\"#Handling-Outliers\" data-toc-modified-id=\"Handling-Outliers-5.3\"><span class=\"toc-item-num\">5.3&nbsp;&nbsp;</span>Handling Outliers</a></span><ul class=\"toc-item\"><li><span><a href=\"#Removing-outliers\" data-toc-modified-id=\"Removing-outliers-5.3.1\"><span class=\"toc-item-num\">5.3.1&nbsp;&nbsp;</span>Removing outliers</a></span></li></ul></li><li><span><a href=\"#Missing-Data\" data-toc-modified-id=\"Missing-Data-5.4\"><span class=\"toc-item-num\">5.4&nbsp;&nbsp;</span>Missing Data</a></span></li><li><span><a href=\"#Encoding-Categorical-to-Numeric---Dummification\" data-toc-modified-id=\"Encoding-Categorical-to-Numeric---Dummification-5.5\"><span class=\"toc-item-num\">5.5&nbsp;&nbsp;</span>Encoding Categorical to Numeric - Dummification</a></span><ul class=\"toc-item\"><li><span><a href=\"#Data-types\" data-toc-modified-id=\"Data-types-5.5.1\"><span class=\"toc-item-num\">5.5.1&nbsp;&nbsp;</span>Data types</a></span></li><li><span><a href=\"#Creating-dummy-variables.\" data-toc-modified-id=\"Creating-dummy-variables.-5.5.2\"><span class=\"toc-item-num\">5.5.2&nbsp;&nbsp;</span>Creating dummy variables.</a></span></li></ul></li><li><span><a href=\"#Split-the-data-into-train-and-test:\" data-toc-modified-id=\"Split-the-data-into-train-and-test:-5.6\"><span class=\"toc-item-num\">5.6&nbsp;&nbsp;</span>Split the data into train and test:</a></span></li></ul></li><li><span><a href=\"#Modelling\" data-toc-modified-id=\"Modelling-6\"><span class=\"toc-item-num\">6&nbsp;&nbsp;</span>Modelling</a></span><ul class=\"toc-item\"><li><span><a href=\"#Building-a-Decision-Tree-Model\" data-toc-modified-id=\"Building-a-Decision-Tree-Model-6.1\"><span class=\"toc-item-num\">6.1&nbsp;&nbsp;</span>Building a Decision Tree Model</a></span><ul class=\"toc-item\"><li><span><a href=\"#Instantiate-DecisionTreeRegressor\" data-toc-modified-id=\"Instantiate-DecisionTreeRegressor-6.1.1\"><span class=\"toc-item-num\">6.1.1&nbsp;&nbsp;</span>Instantiate DecisionTreeRegressor</a></span></li><li><span><a href=\"#Train-the-model\" data-toc-modified-id=\"Train-the-model-6.1.2\"><span class=\"toc-item-num\">6.1.2&nbsp;&nbsp;</span>Train the model</a></span></li><li><span><a href=\"#Feature-Importances\" data-toc-modified-id=\"Feature-Importances-6.1.3\"><span class=\"toc-item-num\">6.1.3&nbsp;&nbsp;</span>Feature Importances</a></span></li><li><span><a href=\"#Predict\" data-toc-modified-id=\"Predict-6.1.4\"><span class=\"toc-item-num\">6.1.4&nbsp;&nbsp;</span>Predict</a></span></li><li><span><a href=\"#Evaluation\" data-toc-modified-id=\"Evaluation-6.1.5\"><span class=\"toc-item-num\">6.1.5&nbsp;&nbsp;</span>Evaluation</a></span></li></ul></li><li><span><a href=\"#Building-Decision-Tree-Model-using-attributes-Importance\" data-toc-modified-id=\"Building-Decision-Tree-Model-using-attributes-Importance-6.2\"><span class=\"toc-item-num\">6.2&nbsp;&nbsp;</span>Building Decision Tree Model using attributes Importance</a></span><ul class=\"toc-item\"><li><span><a href=\"#Select-important-attributes\" data-toc-modified-id=\"Select-important-attributes-6.2.1\"><span class=\"toc-item-num\">6.2.1&nbsp;&nbsp;</span>Select important attributes</a></span></li><li><span><a href=\"#Instantiate-DecisionTreeRegressor\" data-toc-modified-id=\"Instantiate-DecisionTreeRegressor-6.2.2\"><span class=\"toc-item-num\">6.2.2&nbsp;&nbsp;</span>Instantiate DecisionTreeRegressor</a></span></li><li><span><a href=\"#Train-the-model\" data-toc-modified-id=\"Train-the-model-6.2.3\"><span class=\"toc-item-num\">6.2.3&nbsp;&nbsp;</span>Train the model</a></span></li><li><span><a href=\"#Predict\" data-toc-modified-id=\"Predict-6.2.4\"><span class=\"toc-item-num\">6.2.4&nbsp;&nbsp;</span>Predict</a></span></li><li><span><a href=\"#Evaluation\" data-toc-modified-id=\"Evaluation-6.2.5\"><span class=\"toc-item-num\">6.2.5&nbsp;&nbsp;</span>Evaluation</a></span></li></ul></li><li><span><a href=\"#Grid-Search-for-Hyper-parameter-tuning\" data-toc-modified-id=\"Grid-Search-for-Hyper-parameter-tuning-6.3\"><span class=\"toc-item-num\">6.3&nbsp;&nbsp;</span>Grid Search for Hyper-parameter tuning</a></span><ul class=\"toc-item\"><li><span><a href=\"#Hyper-parameter\" data-toc-modified-id=\"Hyper-parameter-6.3.1\"><span class=\"toc-item-num\">6.3.1&nbsp;&nbsp;</span>Hyper-parameter</a></span></li><li><span><a href=\"#Instantiate-DecisionTreeRegressor\" data-toc-modified-id=\"Instantiate-DecisionTreeRegressor-6.3.2\"><span class=\"toc-item-num\">6.3.2&nbsp;&nbsp;</span>Instantiate DecisionTreeRegressor</a></span></li><li><span><a href=\"#GridSearchCV\" data-toc-modified-id=\"GridSearchCV-6.3.3\"><span class=\"toc-item-num\">6.3.3&nbsp;&nbsp;</span>GridSearchCV</a></span></li><li><span><a href=\"#Train\" data-toc-modified-id=\"Train-6.3.4\"><span class=\"toc-item-num\">6.3.4&nbsp;&nbsp;</span>Train</a></span></li><li><span><a href=\"#Best-params\" data-toc-modified-id=\"Best-params-6.3.5\"><span class=\"toc-item-num\">6.3.5&nbsp;&nbsp;</span>Best params</a></span></li><li><span><a href=\"#Predict\" data-toc-modified-id=\"Predict-6.3.6\"><span class=\"toc-item-num\">6.3.6&nbsp;&nbsp;</span>Predict</a></span></li><li><span><a href=\"#Evaluations\" data-toc-modified-id=\"Evaluations-6.3.7\"><span class=\"toc-item-num\">6.3.7&nbsp;&nbsp;</span>Evaluations</a></span></li><li><span><a href=\"#Visualizing-Decision-Trees\" data-toc-modified-id=\"Visualizing-Decision-Trees-6.3.8\"><span class=\"toc-item-num\">6.3.8&nbsp;&nbsp;</span>Visualizing Decision Trees</a></span></li></ul></li></ul></li></ul></div>"
   ]
  },
  {
   "cell_type": "markdown",
   "metadata": {},
   "source": [
    "# Problem Statement\n",
    "\n",
    "A large child education toy company which sells edutainment tablets and gaming systems\n",
    "both online and in retail stores wanted to analyze the customer data. They are operating\n",
    "from last few years and maintaining all transactional information data. The given data\n",
    "‘CustomerData.csv’ is a sample of customer level data extracted and processed for the\n",
    "analysis from various set of transactional files.\n",
    "\n",
    "The objectives of today’s activity are :\n",
    "* Building a regression model to predict the customer revenue based on other factors and understand the influence of other attributes on revenue"
   ]
  },
  {
   "cell_type": "markdown",
   "metadata": {},
   "source": [
    "## Identify right Error Metrics"
   ]
  },
  {
   "cell_type": "markdown",
   "metadata": {},
   "source": [
    "##### Error Metrics for Regression\n",
    "\n",
    "* Mean Absolute Error (MAE):\n",
    "\n",
    "$$MAE = \\dfrac{1}{n}\\times\\sum_{i = 1}^{n}|y_{i} - \\hat{y_{i}}|$$\n",
    "\n",
    "\n",
    "* Mean Squared Error (MSE):\n",
    "\n",
    "$$MSE = \\dfrac{1}{n}\\times\\sum_{i = 1}^{n}(y_{i} - \\hat{y_{i}})^2$$\n",
    "\n",
    "\n",
    "* Root Mean Squared Error (RMSE):\n",
    "\n",
    "$$RMSE = \\sqrt{\\dfrac{1}{n}\\times\\sum_{i = 1}^{n}(y_{i} - \\hat{y_{i}})^2}$$\n",
    "\n",
    "\n",
    "* Mean Absolute Percentage Error (MAPE):\n",
    "\n",
    "$$MAPE = \\dfrac{100}{n}\\times\\dfrac{\\sum_{i = 1}^{n}\\mid y_{i} - \\hat{y_{i}}\\mid}{y_{i}}$$"
   ]
  },
  {
   "cell_type": "markdown",
   "metadata": {},
   "source": [
    "# Loading the required libraries"
   ]
  },
  {
   "cell_type": "code",
   "execution_count": 5,
   "metadata": {},
   "outputs": [],
   "source": [
    "import numpy as np\n",
    "import pandas as pd\n",
    "\n",
    "from sklearn.model_selection import train_test_split, GridSearchCV\n",
    "\n",
    "from sklearn.metrics import mean_squared_error, mean_absolute_error, r2_score\n",
    "from sklearn.tree import DecisionTreeRegressor, export_graphviz\n",
    "\n",
    "import matplotlib.pyplot as plt\n",
    "\n",
    "import graphviz\n",
    "import math"
   ]
  },
  {
   "cell_type": "markdown",
   "metadata": {},
   "source": [
    "# Loading the data"
   ]
  },
  {
   "cell_type": "code",
   "execution_count": 6,
   "metadata": {},
   "outputs": [],
   "source": [
    "data = pd.read_csv(\"/home/shilpak/Batch_117/7405/CustomerData.csv\", header=0)"
   ]
  },
  {
   "cell_type": "markdown",
   "metadata": {},
   "source": [
    "# Understand the Data - Exploratory Data Analysis (EDA)"
   ]
  },
  {
   "cell_type": "markdown",
   "metadata": {},
   "source": [
    "## Number of rows and columns"
   ]
  },
  {
   "cell_type": "code",
   "execution_count": 7,
   "metadata": {},
   "outputs": [
    {
     "data": {
      "text/plain": [
       "(3209, 14)"
      ]
     },
     "execution_count": 7,
     "metadata": {},
     "output_type": "execute_result"
    }
   ],
   "source": [
    "data.shape"
   ]
  },
  {
   "cell_type": "markdown",
   "metadata": {},
   "source": [
    "## Display the columns"
   ]
  },
  {
   "cell_type": "code",
   "execution_count": 8,
   "metadata": {
    "scrolled": true
   },
   "outputs": [
    {
     "data": {
      "text/plain": [
       "Index(['CustomerID', 'City', 'NoOfChildren', 'MinAgeOfChild', 'MaxAgeOfChild',\n",
       "       'Tenure', 'FrquncyOfPurchase', 'NoOfUnitsPurchased', 'FrequencyOFPlay',\n",
       "       'NoOfGamesPlayed', 'NoOfGamesBought', 'FavoriteChannelOfTransaction',\n",
       "       'FavoriteGame', 'TotalRevenueGenerated'],\n",
       "      dtype='object')"
      ]
     },
     "execution_count": 8,
     "metadata": {},
     "output_type": "execute_result"
    }
   ],
   "source": [
    "data.columns"
   ]
  },
  {
   "cell_type": "markdown",
   "metadata": {},
   "source": [
    "## Display first five records"
   ]
  },
  {
   "cell_type": "code",
   "execution_count": 9,
   "metadata": {},
   "outputs": [
    {
     "data": {
      "text/html": [
       "<div>\n",
       "<style scoped>\n",
       "    .dataframe tbody tr th:only-of-type {\n",
       "        vertical-align: middle;\n",
       "    }\n",
       "\n",
       "    .dataframe tbody tr th {\n",
       "        vertical-align: top;\n",
       "    }\n",
       "\n",
       "    .dataframe thead th {\n",
       "        text-align: right;\n",
       "    }\n",
       "</style>\n",
       "<table border=\"1\" class=\"dataframe\">\n",
       "  <thead>\n",
       "    <tr style=\"text-align: right;\">\n",
       "      <th></th>\n",
       "      <th>CustomerID</th>\n",
       "      <th>City</th>\n",
       "      <th>NoOfChildren</th>\n",
       "      <th>MinAgeOfChild</th>\n",
       "      <th>MaxAgeOfChild</th>\n",
       "      <th>Tenure</th>\n",
       "      <th>FrquncyOfPurchase</th>\n",
       "      <th>NoOfUnitsPurchased</th>\n",
       "      <th>FrequencyOFPlay</th>\n",
       "      <th>NoOfGamesPlayed</th>\n",
       "      <th>NoOfGamesBought</th>\n",
       "      <th>FavoriteChannelOfTransaction</th>\n",
       "      <th>FavoriteGame</th>\n",
       "      <th>TotalRevenueGenerated</th>\n",
       "    </tr>\n",
       "  </thead>\n",
       "  <tbody>\n",
       "    <tr>\n",
       "      <th>0</th>\n",
       "      <td>1001</td>\n",
       "      <td>1</td>\n",
       "      <td>2</td>\n",
       "      <td>3</td>\n",
       "      <td>8</td>\n",
       "      <td>210</td>\n",
       "      <td>11</td>\n",
       "      <td>11</td>\n",
       "      <td>2344</td>\n",
       "      <td>108</td>\n",
       "      <td>10</td>\n",
       "      <td>Uniform</td>\n",
       "      <td>Uniform</td>\n",
       "      <td>107.51</td>\n",
       "    </tr>\n",
       "    <tr>\n",
       "      <th>1</th>\n",
       "      <td>1002</td>\n",
       "      <td>1</td>\n",
       "      <td>2</td>\n",
       "      <td>3</td>\n",
       "      <td>6</td>\n",
       "      <td>442</td>\n",
       "      <td>20</td>\n",
       "      <td>20</td>\n",
       "      <td>245</td>\n",
       "      <td>22</td>\n",
       "      <td>7</td>\n",
       "      <td>Favorite</td>\n",
       "      <td>Uniform</td>\n",
       "      <td>382.40</td>\n",
       "    </tr>\n",
       "    <tr>\n",
       "      <th>2</th>\n",
       "      <td>1003</td>\n",
       "      <td>1</td>\n",
       "      <td>4</td>\n",
       "      <td>3</td>\n",
       "      <td>5</td>\n",
       "      <td>424</td>\n",
       "      <td>18</td>\n",
       "      <td>18</td>\n",
       "      <td>1059</td>\n",
       "      <td>130</td>\n",
       "      <td>18</td>\n",
       "      <td>Favorite</td>\n",
       "      <td>Uniform</td>\n",
       "      <td>135.01</td>\n",
       "    </tr>\n",
       "    <tr>\n",
       "      <th>3</th>\n",
       "      <td>1004</td>\n",
       "      <td>1</td>\n",
       "      <td>1</td>\n",
       "      <td>6</td>\n",
       "      <td>6</td>\n",
       "      <td>261</td>\n",
       "      <td>11</td>\n",
       "      <td>9</td>\n",
       "      <td>365</td>\n",
       "      <td>34</td>\n",
       "      <td>11</td>\n",
       "      <td>Favorite</td>\n",
       "      <td>Uniform</td>\n",
       "      <td>125.00</td>\n",
       "    </tr>\n",
       "    <tr>\n",
       "      <th>4</th>\n",
       "      <td>1005</td>\n",
       "      <td>1</td>\n",
       "      <td>3</td>\n",
       "      <td>6</td>\n",
       "      <td>9</td>\n",
       "      <td>422</td>\n",
       "      <td>44</td>\n",
       "      <td>31</td>\n",
       "      <td>1066</td>\n",
       "      <td>102</td>\n",
       "      <td>44</td>\n",
       "      <td>Uniform</td>\n",
       "      <td>Uniform</td>\n",
       "      <td>335.05</td>\n",
       "    </tr>\n",
       "  </tbody>\n",
       "</table>\n",
       "</div>"
      ],
      "text/plain": [
       "   CustomerID  City  NoOfChildren  MinAgeOfChild  MaxAgeOfChild  Tenure  \\\n",
       "0        1001     1             2              3              8     210   \n",
       "1        1002     1             2              3              6     442   \n",
       "2        1003     1             4              3              5     424   \n",
       "3        1004     1             1              6              6     261   \n",
       "4        1005     1             3              6              9     422   \n",
       "\n",
       "   FrquncyOfPurchase  NoOfUnitsPurchased  FrequencyOFPlay  NoOfGamesPlayed  \\\n",
       "0                 11                  11             2344              108   \n",
       "1                 20                  20              245               22   \n",
       "2                 18                  18             1059              130   \n",
       "3                 11                   9              365               34   \n",
       "4                 44                  31             1066              102   \n",
       "\n",
       "   NoOfGamesBought FavoriteChannelOfTransaction FavoriteGame  \\\n",
       "0               10                      Uniform      Uniform   \n",
       "1                7                     Favorite      Uniform   \n",
       "2               18                     Favorite      Uniform   \n",
       "3               11                     Favorite      Uniform   \n",
       "4               44                      Uniform      Uniform   \n",
       "\n",
       "   TotalRevenueGenerated  \n",
       "0                 107.51  \n",
       "1                 382.40  \n",
       "2                 135.01  \n",
       "3                 125.00  \n",
       "4                 335.05  "
      ]
     },
     "execution_count": 9,
     "metadata": {},
     "output_type": "execute_result"
    }
   ],
   "source": [
    "data.head()"
   ]
  },
  {
   "cell_type": "markdown",
   "metadata": {},
   "source": [
    "## Summary Stats"
   ]
  },
  {
   "cell_type": "code",
   "execution_count": 10,
   "metadata": {
    "scrolled": true
   },
   "outputs": [
    {
     "data": {
      "text/html": [
       "<div>\n",
       "<style scoped>\n",
       "    .dataframe tbody tr th:only-of-type {\n",
       "        vertical-align: middle;\n",
       "    }\n",
       "\n",
       "    .dataframe tbody tr th {\n",
       "        vertical-align: top;\n",
       "    }\n",
       "\n",
       "    .dataframe thead th {\n",
       "        text-align: right;\n",
       "    }\n",
       "</style>\n",
       "<table border=\"1\" class=\"dataframe\">\n",
       "  <thead>\n",
       "    <tr style=\"text-align: right;\">\n",
       "      <th></th>\n",
       "      <th>CustomerID</th>\n",
       "      <th>City</th>\n",
       "      <th>NoOfChildren</th>\n",
       "      <th>MinAgeOfChild</th>\n",
       "      <th>MaxAgeOfChild</th>\n",
       "      <th>Tenure</th>\n",
       "      <th>FrquncyOfPurchase</th>\n",
       "      <th>NoOfUnitsPurchased</th>\n",
       "      <th>FrequencyOFPlay</th>\n",
       "      <th>NoOfGamesPlayed</th>\n",
       "      <th>NoOfGamesBought</th>\n",
       "      <th>FavoriteChannelOfTransaction</th>\n",
       "      <th>FavoriteGame</th>\n",
       "      <th>TotalRevenueGenerated</th>\n",
       "    </tr>\n",
       "  </thead>\n",
       "  <tbody>\n",
       "    <tr>\n",
       "      <th>count</th>\n",
       "      <td>3209.000000</td>\n",
       "      <td>3209.000000</td>\n",
       "      <td>3209.000000</td>\n",
       "      <td>3209.000000</td>\n",
       "      <td>3209.000000</td>\n",
       "      <td>3209.000000</td>\n",
       "      <td>3209.000000</td>\n",
       "      <td>3209.000000</td>\n",
       "      <td>3209.000000</td>\n",
       "      <td>3209.000000</td>\n",
       "      <td>3209.000000</td>\n",
       "      <td>3209</td>\n",
       "      <td>3209</td>\n",
       "      <td>3209.000000</td>\n",
       "    </tr>\n",
       "    <tr>\n",
       "      <th>unique</th>\n",
       "      <td>NaN</td>\n",
       "      <td>NaN</td>\n",
       "      <td>NaN</td>\n",
       "      <td>NaN</td>\n",
       "      <td>NaN</td>\n",
       "      <td>NaN</td>\n",
       "      <td>NaN</td>\n",
       "      <td>NaN</td>\n",
       "      <td>NaN</td>\n",
       "      <td>NaN</td>\n",
       "      <td>NaN</td>\n",
       "      <td>2</td>\n",
       "      <td>2</td>\n",
       "      <td>NaN</td>\n",
       "    </tr>\n",
       "    <tr>\n",
       "      <th>top</th>\n",
       "      <td>NaN</td>\n",
       "      <td>NaN</td>\n",
       "      <td>NaN</td>\n",
       "      <td>NaN</td>\n",
       "      <td>NaN</td>\n",
       "      <td>NaN</td>\n",
       "      <td>NaN</td>\n",
       "      <td>NaN</td>\n",
       "      <td>NaN</td>\n",
       "      <td>NaN</td>\n",
       "      <td>NaN</td>\n",
       "      <td>Favorite</td>\n",
       "      <td>Uniform</td>\n",
       "      <td>NaN</td>\n",
       "    </tr>\n",
       "    <tr>\n",
       "      <th>freq</th>\n",
       "      <td>NaN</td>\n",
       "      <td>NaN</td>\n",
       "      <td>NaN</td>\n",
       "      <td>NaN</td>\n",
       "      <td>NaN</td>\n",
       "      <td>NaN</td>\n",
       "      <td>NaN</td>\n",
       "      <td>NaN</td>\n",
       "      <td>NaN</td>\n",
       "      <td>NaN</td>\n",
       "      <td>NaN</td>\n",
       "      <td>2637</td>\n",
       "      <td>3083</td>\n",
       "      <td>NaN</td>\n",
       "    </tr>\n",
       "    <tr>\n",
       "      <th>mean</th>\n",
       "      <td>2605.000000</td>\n",
       "      <td>1.114054</td>\n",
       "      <td>2.128389</td>\n",
       "      <td>4.960735</td>\n",
       "      <td>7.990651</td>\n",
       "      <td>347.520411</td>\n",
       "      <td>16.269554</td>\n",
       "      <td>14.684014</td>\n",
       "      <td>1568.207853</td>\n",
       "      <td>93.627921</td>\n",
       "      <td>14.761608</td>\n",
       "      <td>NaN</td>\n",
       "      <td>NaN</td>\n",
       "      <td>168.477183</td>\n",
       "    </tr>\n",
       "    <tr>\n",
       "      <th>std</th>\n",
       "      <td>926.502833</td>\n",
       "      <td>0.317927</td>\n",
       "      <td>1.035092</td>\n",
       "      <td>3.714191</td>\n",
       "      <td>8.784084</td>\n",
       "      <td>90.520118</td>\n",
       "      <td>8.441670</td>\n",
       "      <td>7.182029</td>\n",
       "      <td>1810.630464</td>\n",
       "      <td>88.936372</td>\n",
       "      <td>8.773910</td>\n",
       "      <td>NaN</td>\n",
       "      <td>NaN</td>\n",
       "      <td>81.798528</td>\n",
       "    </tr>\n",
       "    <tr>\n",
       "      <th>min</th>\n",
       "      <td>1001.000000</td>\n",
       "      <td>1.000000</td>\n",
       "      <td>1.000000</td>\n",
       "      <td>0.000000</td>\n",
       "      <td>3.000000</td>\n",
       "      <td>100.000000</td>\n",
       "      <td>1.000000</td>\n",
       "      <td>1.000000</td>\n",
       "      <td>0.000000</td>\n",
       "      <td>0.000000</td>\n",
       "      <td>0.000000</td>\n",
       "      <td>NaN</td>\n",
       "      <td>NaN</td>\n",
       "      <td>100.000000</td>\n",
       "    </tr>\n",
       "    <tr>\n",
       "      <th>25%</th>\n",
       "      <td>1803.000000</td>\n",
       "      <td>1.000000</td>\n",
       "      <td>1.000000</td>\n",
       "      <td>4.000000</td>\n",
       "      <td>6.000000</td>\n",
       "      <td>301.000000</td>\n",
       "      <td>11.000000</td>\n",
       "      <td>10.000000</td>\n",
       "      <td>446.000000</td>\n",
       "      <td>37.000000</td>\n",
       "      <td>10.000000</td>\n",
       "      <td>NaN</td>\n",
       "      <td>NaN</td>\n",
       "      <td>116.640000</td>\n",
       "    </tr>\n",
       "    <tr>\n",
       "      <th>50%</th>\n",
       "      <td>2605.000000</td>\n",
       "      <td>1.000000</td>\n",
       "      <td>2.000000</td>\n",
       "      <td>5.000000</td>\n",
       "      <td>7.000000</td>\n",
       "      <td>368.000000</td>\n",
       "      <td>14.000000</td>\n",
       "      <td>13.000000</td>\n",
       "      <td>1029.000000</td>\n",
       "      <td>70.000000</td>\n",
       "      <td>14.000000</td>\n",
       "      <td>NaN</td>\n",
       "      <td>NaN</td>\n",
       "      <td>142.390000</td>\n",
       "    </tr>\n",
       "    <tr>\n",
       "      <th>75%</th>\n",
       "      <td>3407.000000</td>\n",
       "      <td>1.000000</td>\n",
       "      <td>3.000000</td>\n",
       "      <td>6.000000</td>\n",
       "      <td>8.000000</td>\n",
       "      <td>417.000000</td>\n",
       "      <td>19.000000</td>\n",
       "      <td>17.000000</td>\n",
       "      <td>2029.000000</td>\n",
       "      <td>119.000000</td>\n",
       "      <td>19.000000</td>\n",
       "      <td>NaN</td>\n",
       "      <td>NaN</td>\n",
       "      <td>191.250000</td>\n",
       "    </tr>\n",
       "    <tr>\n",
       "      <th>max</th>\n",
       "      <td>4209.000000</td>\n",
       "      <td>2.000000</td>\n",
       "      <td>11.000000</td>\n",
       "      <td>113.000000</td>\n",
       "      <td>113.000000</td>\n",
       "      <td>472.000000</td>\n",
       "      <td>119.000000</td>\n",
       "      <td>112.000000</td>\n",
       "      <td>27829.000000</td>\n",
       "      <td>1166.000000</td>\n",
       "      <td>115.000000</td>\n",
       "      <td>NaN</td>\n",
       "      <td>NaN</td>\n",
       "      <td>990.560000</td>\n",
       "    </tr>\n",
       "  </tbody>\n",
       "</table>\n",
       "</div>"
      ],
      "text/plain": [
       "         CustomerID         City  NoOfChildren  MinAgeOfChild  MaxAgeOfChild  \\\n",
       "count   3209.000000  3209.000000   3209.000000    3209.000000    3209.000000   \n",
       "unique          NaN          NaN           NaN            NaN            NaN   \n",
       "top             NaN          NaN           NaN            NaN            NaN   \n",
       "freq            NaN          NaN           NaN            NaN            NaN   \n",
       "mean    2605.000000     1.114054      2.128389       4.960735       7.990651   \n",
       "std      926.502833     0.317927      1.035092       3.714191       8.784084   \n",
       "min     1001.000000     1.000000      1.000000       0.000000       3.000000   \n",
       "25%     1803.000000     1.000000      1.000000       4.000000       6.000000   \n",
       "50%     2605.000000     1.000000      2.000000       5.000000       7.000000   \n",
       "75%     3407.000000     1.000000      3.000000       6.000000       8.000000   \n",
       "max     4209.000000     2.000000     11.000000     113.000000     113.000000   \n",
       "\n",
       "             Tenure  FrquncyOfPurchase  NoOfUnitsPurchased  FrequencyOFPlay  \\\n",
       "count   3209.000000        3209.000000         3209.000000      3209.000000   \n",
       "unique          NaN                NaN                 NaN              NaN   \n",
       "top             NaN                NaN                 NaN              NaN   \n",
       "freq            NaN                NaN                 NaN              NaN   \n",
       "mean     347.520411          16.269554           14.684014      1568.207853   \n",
       "std       90.520118           8.441670            7.182029      1810.630464   \n",
       "min      100.000000           1.000000            1.000000         0.000000   \n",
       "25%      301.000000          11.000000           10.000000       446.000000   \n",
       "50%      368.000000          14.000000           13.000000      1029.000000   \n",
       "75%      417.000000          19.000000           17.000000      2029.000000   \n",
       "max      472.000000         119.000000          112.000000     27829.000000   \n",
       "\n",
       "        NoOfGamesPlayed  NoOfGamesBought FavoriteChannelOfTransaction  \\\n",
       "count       3209.000000      3209.000000                         3209   \n",
       "unique              NaN              NaN                            2   \n",
       "top                 NaN              NaN                     Favorite   \n",
       "freq                NaN              NaN                         2637   \n",
       "mean          93.627921        14.761608                          NaN   \n",
       "std           88.936372         8.773910                          NaN   \n",
       "min            0.000000         0.000000                          NaN   \n",
       "25%           37.000000        10.000000                          NaN   \n",
       "50%           70.000000        14.000000                          NaN   \n",
       "75%          119.000000        19.000000                          NaN   \n",
       "max         1166.000000       115.000000                          NaN   \n",
       "\n",
       "       FavoriteGame  TotalRevenueGenerated  \n",
       "count          3209            3209.000000  \n",
       "unique            2                    NaN  \n",
       "top         Uniform                    NaN  \n",
       "freq           3083                    NaN  \n",
       "mean            NaN             168.477183  \n",
       "std             NaN              81.798528  \n",
       "min             NaN             100.000000  \n",
       "25%             NaN             116.640000  \n",
       "50%             NaN             142.390000  \n",
       "75%             NaN             191.250000  \n",
       "max             NaN             990.560000  "
      ]
     },
     "execution_count": 10,
     "metadata": {},
     "output_type": "execute_result"
    }
   ],
   "source": [
    "data.describe(include='all')"
   ]
  },
  {
   "cell_type": "markdown",
   "metadata": {},
   "source": [
    "### Observations:\n",
    "    1. City is interpreted as numeric (which is actually categorical)\n",
    "    2. max age of children is 113 which must be a wrong entry\n",
    "    3. Summary statistics for CustomerID is not meaningful"
   ]
  },
  {
   "cell_type": "markdown",
   "metadata": {},
   "source": [
    "# Data Maipulation & Feature Engineering"
   ]
  },
  {
   "cell_type": "markdown",
   "metadata": {},
   "source": [
    "## Not useful attributes"
   ]
  },
  {
   "cell_type": "markdown",
   "metadata": {},
   "source": [
    "Exclude customer id from the data for analysis"
   ]
  },
  {
   "cell_type": "code",
   "execution_count": 11,
   "metadata": {},
   "outputs": [
    {
     "data": {
      "text/plain": [
       "3209"
      ]
     },
     "execution_count": 11,
     "metadata": {},
     "output_type": "execute_result"
    }
   ],
   "source": [
    "np.size(np.unique(data.CustomerID, return_counts=True)[0])"
   ]
  },
  {
   "cell_type": "code",
   "execution_count": 12,
   "metadata": {},
   "outputs": [],
   "source": [
    "data.drop('CustomerID', axis=1, inplace=True)"
   ]
  },
  {
   "cell_type": "markdown",
   "metadata": {},
   "source": [
    "## Display the data type of attributes"
   ]
  },
  {
   "cell_type": "code",
   "execution_count": 13,
   "metadata": {},
   "outputs": [
    {
     "data": {
      "text/plain": [
       "City                              int64\n",
       "NoOfChildren                      int64\n",
       "MinAgeOfChild                     int64\n",
       "MaxAgeOfChild                     int64\n",
       "Tenure                            int64\n",
       "FrquncyOfPurchase                 int64\n",
       "NoOfUnitsPurchased                int64\n",
       "FrequencyOFPlay                   int64\n",
       "NoOfGamesPlayed                   int64\n",
       "NoOfGamesBought                   int64\n",
       "FavoriteChannelOfTransaction     object\n",
       "FavoriteGame                     object\n",
       "TotalRevenueGenerated           float64\n",
       "dtype: object"
      ]
     },
     "execution_count": 13,
     "metadata": {},
     "output_type": "execute_result"
    }
   ],
   "source": [
    "data.dtypes "
   ]
  },
  {
   "cell_type": "markdown",
   "metadata": {},
   "source": [
    "__Observation__: \n",
    "\n",
    "`FavouriteGame` and `FavouriteChannelOfTransaction` are interpreted as objects."
   ]
  },
  {
   "cell_type": "markdown",
   "metadata": {},
   "source": [
    "### Data type conversion *\n",
    "    Using astype('category') convert 'City', 'FavoriteChannelOfTransaction', 'FavoriteGame' attributes to a categorical data type ."
   ]
  },
  {
   "cell_type": "code",
   "execution_count": 14,
   "metadata": {},
   "outputs": [],
   "source": [
    "for col in ['City', 'FavoriteChannelOfTransaction', 'FavoriteGame']:\n",
    "    data[col] = data[col].astype('category')"
   ]
  },
  {
   "cell_type": "code",
   "execution_count": 15,
   "metadata": {},
   "outputs": [
    {
     "data": {
      "text/plain": [
       "City                            category\n",
       "NoOfChildren                       int64\n",
       "MinAgeOfChild                      int64\n",
       "MaxAgeOfChild                      int64\n",
       "Tenure                             int64\n",
       "FrquncyOfPurchase                  int64\n",
       "NoOfUnitsPurchased                 int64\n",
       "FrequencyOFPlay                    int64\n",
       "NoOfGamesPlayed                    int64\n",
       "NoOfGamesBought                    int64\n",
       "FavoriteChannelOfTransaction    category\n",
       "FavoriteGame                    category\n",
       "TotalRevenueGenerated            float64\n",
       "dtype: object"
      ]
     },
     "execution_count": 15,
     "metadata": {},
     "output_type": "execute_result"
    }
   ],
   "source": [
    "data.dtypes"
   ]
  },
  {
   "cell_type": "markdown",
   "metadata": {},
   "source": [
    "## Handling Outliers"
   ]
  },
  {
   "cell_type": "code",
   "execution_count": 16,
   "metadata": {},
   "outputs": [
    {
     "data": {
      "text/html": [
       "<div>\n",
       "<style scoped>\n",
       "    .dataframe tbody tr th:only-of-type {\n",
       "        vertical-align: middle;\n",
       "    }\n",
       "\n",
       "    .dataframe tbody tr th {\n",
       "        vertical-align: top;\n",
       "    }\n",
       "\n",
       "    .dataframe thead th {\n",
       "        text-align: right;\n",
       "    }\n",
       "</style>\n",
       "<table border=\"1\" class=\"dataframe\">\n",
       "  <thead>\n",
       "    <tr style=\"text-align: right;\">\n",
       "      <th></th>\n",
       "      <th>City</th>\n",
       "      <th>NoOfChildren</th>\n",
       "      <th>MinAgeOfChild</th>\n",
       "      <th>MaxAgeOfChild</th>\n",
       "      <th>Tenure</th>\n",
       "      <th>FrquncyOfPurchase</th>\n",
       "      <th>NoOfUnitsPurchased</th>\n",
       "      <th>FrequencyOFPlay</th>\n",
       "      <th>NoOfGamesPlayed</th>\n",
       "      <th>NoOfGamesBought</th>\n",
       "      <th>FavoriteChannelOfTransaction</th>\n",
       "      <th>FavoriteGame</th>\n",
       "      <th>TotalRevenueGenerated</th>\n",
       "    </tr>\n",
       "  </thead>\n",
       "  <tbody>\n",
       "    <tr>\n",
       "      <th>count</th>\n",
       "      <td>3209.0</td>\n",
       "      <td>3209.000000</td>\n",
       "      <td>3209.000000</td>\n",
       "      <td>3209.000000</td>\n",
       "      <td>3209.000000</td>\n",
       "      <td>3209.000000</td>\n",
       "      <td>3209.000000</td>\n",
       "      <td>3209.000000</td>\n",
       "      <td>3209.000000</td>\n",
       "      <td>3209.000000</td>\n",
       "      <td>3209</td>\n",
       "      <td>3209</td>\n",
       "      <td>3209.000000</td>\n",
       "    </tr>\n",
       "    <tr>\n",
       "      <th>unique</th>\n",
       "      <td>2.0</td>\n",
       "      <td>NaN</td>\n",
       "      <td>NaN</td>\n",
       "      <td>NaN</td>\n",
       "      <td>NaN</td>\n",
       "      <td>NaN</td>\n",
       "      <td>NaN</td>\n",
       "      <td>NaN</td>\n",
       "      <td>NaN</td>\n",
       "      <td>NaN</td>\n",
       "      <td>2</td>\n",
       "      <td>2</td>\n",
       "      <td>NaN</td>\n",
       "    </tr>\n",
       "    <tr>\n",
       "      <th>top</th>\n",
       "      <td>1.0</td>\n",
       "      <td>NaN</td>\n",
       "      <td>NaN</td>\n",
       "      <td>NaN</td>\n",
       "      <td>NaN</td>\n",
       "      <td>NaN</td>\n",
       "      <td>NaN</td>\n",
       "      <td>NaN</td>\n",
       "      <td>NaN</td>\n",
       "      <td>NaN</td>\n",
       "      <td>Favorite</td>\n",
       "      <td>Uniform</td>\n",
       "      <td>NaN</td>\n",
       "    </tr>\n",
       "    <tr>\n",
       "      <th>freq</th>\n",
       "      <td>2843.0</td>\n",
       "      <td>NaN</td>\n",
       "      <td>NaN</td>\n",
       "      <td>NaN</td>\n",
       "      <td>NaN</td>\n",
       "      <td>NaN</td>\n",
       "      <td>NaN</td>\n",
       "      <td>NaN</td>\n",
       "      <td>NaN</td>\n",
       "      <td>NaN</td>\n",
       "      <td>2637</td>\n",
       "      <td>3083</td>\n",
       "      <td>NaN</td>\n",
       "    </tr>\n",
       "    <tr>\n",
       "      <th>mean</th>\n",
       "      <td>NaN</td>\n",
       "      <td>2.128389</td>\n",
       "      <td>4.960735</td>\n",
       "      <td>7.990651</td>\n",
       "      <td>347.520411</td>\n",
       "      <td>16.269554</td>\n",
       "      <td>14.684014</td>\n",
       "      <td>1568.207853</td>\n",
       "      <td>93.627921</td>\n",
       "      <td>14.761608</td>\n",
       "      <td>NaN</td>\n",
       "      <td>NaN</td>\n",
       "      <td>168.477183</td>\n",
       "    </tr>\n",
       "    <tr>\n",
       "      <th>std</th>\n",
       "      <td>NaN</td>\n",
       "      <td>1.035092</td>\n",
       "      <td>3.714191</td>\n",
       "      <td>8.784084</td>\n",
       "      <td>90.520118</td>\n",
       "      <td>8.441670</td>\n",
       "      <td>7.182029</td>\n",
       "      <td>1810.630464</td>\n",
       "      <td>88.936372</td>\n",
       "      <td>8.773910</td>\n",
       "      <td>NaN</td>\n",
       "      <td>NaN</td>\n",
       "      <td>81.798528</td>\n",
       "    </tr>\n",
       "    <tr>\n",
       "      <th>min</th>\n",
       "      <td>NaN</td>\n",
       "      <td>1.000000</td>\n",
       "      <td>0.000000</td>\n",
       "      <td>3.000000</td>\n",
       "      <td>100.000000</td>\n",
       "      <td>1.000000</td>\n",
       "      <td>1.000000</td>\n",
       "      <td>0.000000</td>\n",
       "      <td>0.000000</td>\n",
       "      <td>0.000000</td>\n",
       "      <td>NaN</td>\n",
       "      <td>NaN</td>\n",
       "      <td>100.000000</td>\n",
       "    </tr>\n",
       "    <tr>\n",
       "      <th>25%</th>\n",
       "      <td>NaN</td>\n",
       "      <td>1.000000</td>\n",
       "      <td>4.000000</td>\n",
       "      <td>6.000000</td>\n",
       "      <td>301.000000</td>\n",
       "      <td>11.000000</td>\n",
       "      <td>10.000000</td>\n",
       "      <td>446.000000</td>\n",
       "      <td>37.000000</td>\n",
       "      <td>10.000000</td>\n",
       "      <td>NaN</td>\n",
       "      <td>NaN</td>\n",
       "      <td>116.640000</td>\n",
       "    </tr>\n",
       "    <tr>\n",
       "      <th>50%</th>\n",
       "      <td>NaN</td>\n",
       "      <td>2.000000</td>\n",
       "      <td>5.000000</td>\n",
       "      <td>7.000000</td>\n",
       "      <td>368.000000</td>\n",
       "      <td>14.000000</td>\n",
       "      <td>13.000000</td>\n",
       "      <td>1029.000000</td>\n",
       "      <td>70.000000</td>\n",
       "      <td>14.000000</td>\n",
       "      <td>NaN</td>\n",
       "      <td>NaN</td>\n",
       "      <td>142.390000</td>\n",
       "    </tr>\n",
       "    <tr>\n",
       "      <th>75%</th>\n",
       "      <td>NaN</td>\n",
       "      <td>3.000000</td>\n",
       "      <td>6.000000</td>\n",
       "      <td>8.000000</td>\n",
       "      <td>417.000000</td>\n",
       "      <td>19.000000</td>\n",
       "      <td>17.000000</td>\n",
       "      <td>2029.000000</td>\n",
       "      <td>119.000000</td>\n",
       "      <td>19.000000</td>\n",
       "      <td>NaN</td>\n",
       "      <td>NaN</td>\n",
       "      <td>191.250000</td>\n",
       "    </tr>\n",
       "    <tr>\n",
       "      <th>max</th>\n",
       "      <td>NaN</td>\n",
       "      <td>11.000000</td>\n",
       "      <td>113.000000</td>\n",
       "      <td>113.000000</td>\n",
       "      <td>472.000000</td>\n",
       "      <td>119.000000</td>\n",
       "      <td>112.000000</td>\n",
       "      <td>27829.000000</td>\n",
       "      <td>1166.000000</td>\n",
       "      <td>115.000000</td>\n",
       "      <td>NaN</td>\n",
       "      <td>NaN</td>\n",
       "      <td>990.560000</td>\n",
       "    </tr>\n",
       "  </tbody>\n",
       "</table>\n",
       "</div>"
      ],
      "text/plain": [
       "          City  NoOfChildren  MinAgeOfChild  MaxAgeOfChild       Tenure  \\\n",
       "count   3209.0   3209.000000    3209.000000    3209.000000  3209.000000   \n",
       "unique     2.0           NaN            NaN            NaN          NaN   \n",
       "top        1.0           NaN            NaN            NaN          NaN   \n",
       "freq    2843.0           NaN            NaN            NaN          NaN   \n",
       "mean       NaN      2.128389       4.960735       7.990651   347.520411   \n",
       "std        NaN      1.035092       3.714191       8.784084    90.520118   \n",
       "min        NaN      1.000000       0.000000       3.000000   100.000000   \n",
       "25%        NaN      1.000000       4.000000       6.000000   301.000000   \n",
       "50%        NaN      2.000000       5.000000       7.000000   368.000000   \n",
       "75%        NaN      3.000000       6.000000       8.000000   417.000000   \n",
       "max        NaN     11.000000     113.000000     113.000000   472.000000   \n",
       "\n",
       "        FrquncyOfPurchase  NoOfUnitsPurchased  FrequencyOFPlay  \\\n",
       "count         3209.000000         3209.000000      3209.000000   \n",
       "unique                NaN                 NaN              NaN   \n",
       "top                   NaN                 NaN              NaN   \n",
       "freq                  NaN                 NaN              NaN   \n",
       "mean            16.269554           14.684014      1568.207853   \n",
       "std              8.441670            7.182029      1810.630464   \n",
       "min              1.000000            1.000000         0.000000   \n",
       "25%             11.000000           10.000000       446.000000   \n",
       "50%             14.000000           13.000000      1029.000000   \n",
       "75%             19.000000           17.000000      2029.000000   \n",
       "max            119.000000          112.000000     27829.000000   \n",
       "\n",
       "        NoOfGamesPlayed  NoOfGamesBought FavoriteChannelOfTransaction  \\\n",
       "count       3209.000000      3209.000000                         3209   \n",
       "unique              NaN              NaN                            2   \n",
       "top                 NaN              NaN                     Favorite   \n",
       "freq                NaN              NaN                         2637   \n",
       "mean          93.627921        14.761608                          NaN   \n",
       "std           88.936372         8.773910                          NaN   \n",
       "min            0.000000         0.000000                          NaN   \n",
       "25%           37.000000        10.000000                          NaN   \n",
       "50%           70.000000        14.000000                          NaN   \n",
       "75%          119.000000        19.000000                          NaN   \n",
       "max         1166.000000       115.000000                          NaN   \n",
       "\n",
       "       FavoriteGame  TotalRevenueGenerated  \n",
       "count          3209            3209.000000  \n",
       "unique            2                    NaN  \n",
       "top         Uniform                    NaN  \n",
       "freq           3083                    NaN  \n",
       "mean            NaN             168.477183  \n",
       "std             NaN              81.798528  \n",
       "min             NaN             100.000000  \n",
       "25%             NaN             116.640000  \n",
       "50%             NaN             142.390000  \n",
       "75%             NaN             191.250000  \n",
       "max             NaN             990.560000  "
      ]
     },
     "execution_count": 16,
     "metadata": {},
     "output_type": "execute_result"
    }
   ],
   "source": [
    "data.describe(include='all')"
   ]
  },
  {
   "cell_type": "markdown",
   "metadata": {},
   "source": [
    "Observe how many records have values 113 for age of children"
   ]
  },
  {
   "cell_type": "code",
   "execution_count": 17,
   "metadata": {},
   "outputs": [
    {
     "data": {
      "text/plain": [
       "(20, 13)"
      ]
     },
     "execution_count": 17,
     "metadata": {},
     "output_type": "execute_result"
    }
   ],
   "source": [
    "data.loc[(data['MinAgeOfChild']==113) | (data['MaxAgeOfChild']==113),].shape"
   ]
  },
  {
   "cell_type": "code",
   "execution_count": 18,
   "metadata": {},
   "outputs": [
    {
     "name": "stdout",
     "output_type": "stream",
     "text": [
      "(3209, 13)\n"
     ]
    }
   ],
   "source": [
    "print (data.shape)"
   ]
  },
  {
   "cell_type": "markdown",
   "metadata": {},
   "source": [
    "### Removing outliers"
   ]
  },
  {
   "cell_type": "markdown",
   "metadata": {},
   "source": [
    "Lets ignore these 20 records for the analysis"
   ]
  },
  {
   "cell_type": "code",
   "execution_count": 19,
   "metadata": {},
   "outputs": [],
   "source": [
    "data=data.loc[(data['MinAgeOfChild'] !=113) & (data['MaxAgeOfChild']!=113),:] "
   ]
  },
  {
   "cell_type": "markdown",
   "metadata": {},
   "source": [
    "Observe that the number of rows in data is less than those in data"
   ]
  },
  {
   "cell_type": "code",
   "execution_count": 20,
   "metadata": {},
   "outputs": [
    {
     "name": "stdout",
     "output_type": "stream",
     "text": [
      "(3189, 13)\n"
     ]
    }
   ],
   "source": [
    "print (data.shape)"
   ]
  },
  {
   "cell_type": "markdown",
   "metadata": {},
   "source": [
    "## Missing Data\n",
    "\n",
    "pandas primarily uses the value np.nan to represent missing data. "
   ]
  },
  {
   "cell_type": "markdown",
   "metadata": {},
   "source": [
    "Check for missing value\n",
    "\n",
    "    is.null() output boolean i.e. if missing value then true else false. \n",
    "\n",
    "    sum function counts 'true' thus gives total number of missing values"
   ]
  },
  {
   "cell_type": "code",
   "execution_count": 21,
   "metadata": {},
   "outputs": [
    {
     "data": {
      "text/plain": [
       "City                            0\n",
       "NoOfChildren                    0\n",
       "MinAgeOfChild                   0\n",
       "MaxAgeOfChild                   0\n",
       "Tenure                          0\n",
       "FrquncyOfPurchase               0\n",
       "NoOfUnitsPurchased              0\n",
       "FrequencyOFPlay                 0\n",
       "NoOfGamesPlayed                 0\n",
       "NoOfGamesBought                 0\n",
       "FavoriteChannelOfTransaction    0\n",
       "FavoriteGame                    0\n",
       "TotalRevenueGenerated           0\n",
       "dtype: int64"
      ]
     },
     "execution_count": 21,
     "metadata": {},
     "output_type": "execute_result"
    }
   ],
   "source": [
    "data.isnull().sum()"
   ]
  },
  {
   "cell_type": "markdown",
   "metadata": {},
   "source": [
    "In this case there are no missing values. However if we find any missing values in the data, as a rule of thumb\n",
    "\n",
    "\n",
    "    If the perticular row/column has more number of missing values then drop that perticular rows/column \n",
    "    \n",
    "        e.g. To drop any rows that have missing data use data.dropna(axis=0, inplace=True) \n",
    "        \n",
    "    Otherwise, impute/fill missing data based on domain knowledge or using imputation techniques\n",
    "        \n",
    "        e.g. To fill missing values with mean use data.fillna(data.mean(), inplace=True)      "
   ]
  },
  {
   "cell_type": "markdown",
   "metadata": {},
   "source": [
    "## Encoding Categorical to Numeric - Dummification\n",
    "\n",
    "* For some of the models all the independent attribute should be of type numeric.  \n",
    "* For all models sklearn expects only numeric attributes . \n",
    "* But this data set has some categorial attributes. \n",
    "* `pandas.get_dummies` To convert convert categorical variable into dummy/indicator variables"
   ]
  },
  {
   "cell_type": "markdown",
   "metadata": {},
   "source": [
    "### Data types"
   ]
  },
  {
   "cell_type": "code",
   "execution_count": 22,
   "metadata": {
    "scrolled": true
   },
   "outputs": [
    {
     "data": {
      "text/plain": [
       "City                            category\n",
       "NoOfChildren                       int64\n",
       "MinAgeOfChild                      int64\n",
       "MaxAgeOfChild                      int64\n",
       "Tenure                             int64\n",
       "FrquncyOfPurchase                  int64\n",
       "NoOfUnitsPurchased                 int64\n",
       "FrequencyOFPlay                    int64\n",
       "NoOfGamesPlayed                    int64\n",
       "NoOfGamesBought                    int64\n",
       "FavoriteChannelOfTransaction    category\n",
       "FavoriteGame                    category\n",
       "TotalRevenueGenerated            float64\n",
       "dtype: object"
      ]
     },
     "execution_count": 22,
     "metadata": {},
     "output_type": "execute_result"
    }
   ],
   "source": [
    "data.dtypes"
   ]
  },
  {
   "cell_type": "markdown",
   "metadata": {},
   "source": [
    "### Creating dummy variables.\n",
    "    \n",
    "    If we have k levels in a category, then we create k-1 dummy variables as the last one would be redundant. So we use the parameter drop_first in pd.get_dummies function that drops the first level in each of the category"
   ]
  },
  {
   "cell_type": "code",
   "execution_count": 23,
   "metadata": {},
   "outputs": [],
   "source": [
    "cols_to_transform = data.select_dtypes(include=['category']).columns"
   ]
  },
  {
   "cell_type": "code",
   "execution_count": 24,
   "metadata": {},
   "outputs": [],
   "source": [
    "data = pd.get_dummies(columns=cols_to_transform, data=data, prefix=cols_to_transform, prefix_sep=\"_\",drop_first=True)"
   ]
  },
  {
   "cell_type": "code",
   "execution_count": 25,
   "metadata": {},
   "outputs": [
    {
     "name": "stdout",
     "output_type": "stream",
     "text": [
      "Index(['NoOfChildren', 'MinAgeOfChild', 'MaxAgeOfChild', 'Tenure',\n",
      "       'FrquncyOfPurchase', 'NoOfUnitsPurchased', 'FrequencyOFPlay',\n",
      "       'NoOfGamesPlayed', 'NoOfGamesBought', 'TotalRevenueGenerated', 'City_2',\n",
      "       'FavoriteChannelOfTransaction_Uniform', 'FavoriteGame_Uniform'],\n",
      "      dtype='object')\n"
     ]
    }
   ],
   "source": [
    "print (data.columns)    "
   ]
  },
  {
   "cell_type": "code",
   "execution_count": 26,
   "metadata": {},
   "outputs": [
    {
     "data": {
      "text/html": [
       "<div>\n",
       "<style scoped>\n",
       "    .dataframe tbody tr th:only-of-type {\n",
       "        vertical-align: middle;\n",
       "    }\n",
       "\n",
       "    .dataframe tbody tr th {\n",
       "        vertical-align: top;\n",
       "    }\n",
       "\n",
       "    .dataframe thead th {\n",
       "        text-align: right;\n",
       "    }\n",
       "</style>\n",
       "<table border=\"1\" class=\"dataframe\">\n",
       "  <thead>\n",
       "    <tr style=\"text-align: right;\">\n",
       "      <th></th>\n",
       "      <th>NoOfChildren</th>\n",
       "      <th>MinAgeOfChild</th>\n",
       "      <th>MaxAgeOfChild</th>\n",
       "      <th>Tenure</th>\n",
       "      <th>FrquncyOfPurchase</th>\n",
       "      <th>NoOfUnitsPurchased</th>\n",
       "      <th>FrequencyOFPlay</th>\n",
       "      <th>NoOfGamesPlayed</th>\n",
       "      <th>NoOfGamesBought</th>\n",
       "      <th>TotalRevenueGenerated</th>\n",
       "      <th>City_2</th>\n",
       "      <th>FavoriteChannelOfTransaction_Uniform</th>\n",
       "      <th>FavoriteGame_Uniform</th>\n",
       "    </tr>\n",
       "  </thead>\n",
       "  <tbody>\n",
       "    <tr>\n",
       "      <th>0</th>\n",
       "      <td>2</td>\n",
       "      <td>3</td>\n",
       "      <td>8</td>\n",
       "      <td>210</td>\n",
       "      <td>11</td>\n",
       "      <td>11</td>\n",
       "      <td>2344</td>\n",
       "      <td>108</td>\n",
       "      <td>10</td>\n",
       "      <td>107.51</td>\n",
       "      <td>0</td>\n",
       "      <td>1</td>\n",
       "      <td>1</td>\n",
       "    </tr>\n",
       "    <tr>\n",
       "      <th>1</th>\n",
       "      <td>2</td>\n",
       "      <td>3</td>\n",
       "      <td>6</td>\n",
       "      <td>442</td>\n",
       "      <td>20</td>\n",
       "      <td>20</td>\n",
       "      <td>245</td>\n",
       "      <td>22</td>\n",
       "      <td>7</td>\n",
       "      <td>382.40</td>\n",
       "      <td>0</td>\n",
       "      <td>0</td>\n",
       "      <td>1</td>\n",
       "    </tr>\n",
       "    <tr>\n",
       "      <th>2</th>\n",
       "      <td>4</td>\n",
       "      <td>3</td>\n",
       "      <td>5</td>\n",
       "      <td>424</td>\n",
       "      <td>18</td>\n",
       "      <td>18</td>\n",
       "      <td>1059</td>\n",
       "      <td>130</td>\n",
       "      <td>18</td>\n",
       "      <td>135.01</td>\n",
       "      <td>0</td>\n",
       "      <td>0</td>\n",
       "      <td>1</td>\n",
       "    </tr>\n",
       "    <tr>\n",
       "      <th>3</th>\n",
       "      <td>1</td>\n",
       "      <td>6</td>\n",
       "      <td>6</td>\n",
       "      <td>261</td>\n",
       "      <td>11</td>\n",
       "      <td>9</td>\n",
       "      <td>365</td>\n",
       "      <td>34</td>\n",
       "      <td>11</td>\n",
       "      <td>125.00</td>\n",
       "      <td>0</td>\n",
       "      <td>0</td>\n",
       "      <td>1</td>\n",
       "    </tr>\n",
       "    <tr>\n",
       "      <th>4</th>\n",
       "      <td>3</td>\n",
       "      <td>6</td>\n",
       "      <td>9</td>\n",
       "      <td>422</td>\n",
       "      <td>44</td>\n",
       "      <td>31</td>\n",
       "      <td>1066</td>\n",
       "      <td>102</td>\n",
       "      <td>44</td>\n",
       "      <td>335.05</td>\n",
       "      <td>0</td>\n",
       "      <td>1</td>\n",
       "      <td>1</td>\n",
       "    </tr>\n",
       "  </tbody>\n",
       "</table>\n",
       "</div>"
      ],
      "text/plain": [
       "   NoOfChildren  MinAgeOfChild  MaxAgeOfChild  Tenure  FrquncyOfPurchase  \\\n",
       "0             2              3              8     210                 11   \n",
       "1             2              3              6     442                 20   \n",
       "2             4              3              5     424                 18   \n",
       "3             1              6              6     261                 11   \n",
       "4             3              6              9     422                 44   \n",
       "\n",
       "   NoOfUnitsPurchased  FrequencyOFPlay  NoOfGamesPlayed  NoOfGamesBought  \\\n",
       "0                  11             2344              108               10   \n",
       "1                  20              245               22                7   \n",
       "2                  18             1059              130               18   \n",
       "3                   9              365               34               11   \n",
       "4                  31             1066              102               44   \n",
       "\n",
       "   TotalRevenueGenerated  City_2  FavoriteChannelOfTransaction_Uniform  \\\n",
       "0                 107.51       0                                     1   \n",
       "1                 382.40       0                                     0   \n",
       "2                 135.01       0                                     0   \n",
       "3                 125.00       0                                     0   \n",
       "4                 335.05       0                                     1   \n",
       "\n",
       "   FavoriteGame_Uniform  \n",
       "0                     1  \n",
       "1                     1  \n",
       "2                     1  \n",
       "3                     1  \n",
       "4                     1  "
      ]
     },
     "execution_count": 26,
     "metadata": {},
     "output_type": "execute_result"
    }
   ],
   "source": [
    "data.head()"
   ]
  },
  {
   "cell_type": "markdown",
   "metadata": {},
   "source": [
    "##  Split the data into train and test: \n",
    "\n",
    "sklearn.model_selection.train_test_split\n",
    "    \n",
    "    Split arrays or matrices into random train and test subsets"
   ]
  },
  {
   "cell_type": "code",
   "execution_count": 27,
   "metadata": {},
   "outputs": [],
   "source": [
    "X = data.loc[:,data.columns!='TotalRevenueGenerated'].values\n",
    "y = data.loc[:,'TotalRevenueGenerated'].values\n",
    "\n",
    "X_train, X_test, y_train, y_test = train_test_split(X, y, test_size=0.3, random_state=123) "
   ]
  },
  {
   "cell_type": "code",
   "execution_count": 28,
   "metadata": {},
   "outputs": [
    {
     "name": "stdout",
     "output_type": "stream",
     "text": [
      "<class 'numpy.ndarray'>\n",
      "<class 'numpy.ndarray'>\n"
     ]
    }
   ],
   "source": [
    "print (type(X_train))\n",
    "print (type(y_train))"
   ]
  },
  {
   "cell_type": "markdown",
   "metadata": {},
   "source": [
    "# Modelling"
   ]
  },
  {
   "cell_type": "markdown",
   "metadata": {},
   "source": [
    "## Building a Decision Tree Model"
   ]
  },
  {
   "cell_type": "markdown",
   "metadata": {},
   "source": [
    "### Instantiate DecisionTreeRegressor"
   ]
  },
  {
   "cell_type": "code",
   "execution_count": 29,
   "metadata": {},
   "outputs": [],
   "source": [
    "clf = DecisionTreeRegressor()"
   ]
  },
  {
   "cell_type": "markdown",
   "metadata": {},
   "source": [
    "### Train the model"
   ]
  },
  {
   "cell_type": "code",
   "execution_count": 30,
   "metadata": {},
   "outputs": [],
   "source": [
    "clf = clf.fit(X_train, y_train)"
   ]
  },
  {
   "cell_type": "markdown",
   "metadata": {},
   "source": [
    "### Feature Importances"
   ]
  },
  {
   "cell_type": "code",
   "execution_count": 31,
   "metadata": {},
   "outputs": [
    {
     "data": {
      "text/html": [
       "<div>\n",
       "<style scoped>\n",
       "    .dataframe tbody tr th:only-of-type {\n",
       "        vertical-align: middle;\n",
       "    }\n",
       "\n",
       "    .dataframe tbody tr th {\n",
       "        vertical-align: top;\n",
       "    }\n",
       "\n",
       "    .dataframe thead th {\n",
       "        text-align: right;\n",
       "    }\n",
       "</style>\n",
       "<table border=\"1\" class=\"dataframe\">\n",
       "  <thead>\n",
       "    <tr style=\"text-align: right;\">\n",
       "      <th></th>\n",
       "      <th>0</th>\n",
       "      <th>1</th>\n",
       "      <th>2</th>\n",
       "      <th>3</th>\n",
       "      <th>4</th>\n",
       "      <th>5</th>\n",
       "      <th>6</th>\n",
       "      <th>7</th>\n",
       "      <th>8</th>\n",
       "      <th>9</th>\n",
       "      <th>10</th>\n",
       "      <th>11</th>\n",
       "    </tr>\n",
       "  </thead>\n",
       "  <tbody>\n",
       "    <tr>\n",
       "      <th>0</th>\n",
       "      <td>NoOfUnitsPurchased</td>\n",
       "      <td>NoOfGamesBought</td>\n",
       "      <td>FrquncyOfPurchase</td>\n",
       "      <td>FrequencyOFPlay</td>\n",
       "      <td>Tenure</td>\n",
       "      <td>NoOfGamesPlayed</td>\n",
       "      <td>MinAgeOfChild</td>\n",
       "      <td>MaxAgeOfChild</td>\n",
       "      <td>NoOfChildren</td>\n",
       "      <td>City_2</td>\n",
       "      <td>TotalRevenueGenerated</td>\n",
       "      <td>FavoriteChannelOfTransaction_Uniform</td>\n",
       "    </tr>\n",
       "    <tr>\n",
       "      <th>1</th>\n",
       "      <td>0.626812</td>\n",
       "      <td>0.109858</td>\n",
       "      <td>0.057717</td>\n",
       "      <td>0.051841</td>\n",
       "      <td>0.049031</td>\n",
       "      <td>0.041776</td>\n",
       "      <td>0.024695</td>\n",
       "      <td>0.02177</td>\n",
       "      <td>0.007484</td>\n",
       "      <td>0.006198</td>\n",
       "      <td>0.002474</td>\n",
       "      <td>0.000345</td>\n",
       "    </tr>\n",
       "  </tbody>\n",
       "</table>\n",
       "</div>"
      ],
      "text/plain": [
       "                   0                1                  2                3   \\\n",
       "0  NoOfUnitsPurchased  NoOfGamesBought  FrquncyOfPurchase  FrequencyOFPlay   \n",
       "1            0.626812         0.109858           0.057717         0.051841   \n",
       "\n",
       "         4                5              6              7             8   \\\n",
       "0    Tenure  NoOfGamesPlayed  MinAgeOfChild  MaxAgeOfChild  NoOfChildren   \n",
       "1  0.049031         0.041776       0.024695        0.02177      0.007484   \n",
       "\n",
       "         9                      10                                    11  \n",
       "0    City_2  TotalRevenueGenerated  FavoriteChannelOfTransaction_Uniform  \n",
       "1  0.006198               0.002474                              0.000345  "
      ]
     },
     "execution_count": 31,
     "metadata": {},
     "output_type": "execute_result"
    }
   ],
   "source": [
    "features = data.columns\n",
    "importances = clf.feature_importances_\n",
    "\n",
    "indices = np.argsort(importances)[::-1]\n",
    "pd.DataFrame([data.columns[indices],np.sort(importances)[::-1]])"
   ]
  },
  {
   "cell_type": "code",
   "execution_count": 32,
   "metadata": {},
   "outputs": [
    {
     "data": {
      "image/png": "[encoded data removed]",
      "text/plain": [
       "<Figure size 432x288 with 1 Axes>"
      ]
     },
     "metadata": {
      "needs_background": "light"
     },
     "output_type": "display_data"
    }
   ],
   "source": [
    "plt.title('Feature Importances')\n",
    "plt.barh(range(len(indices)), importances[indices], color='black')\n",
    "plt.yticks(range(len(indices)), [features[i] for i in indices])\n",
    "plt.xlabel('Relative Importance')\n",
    "plt.show()"
   ]
  },
  {
   "cell_type": "markdown",
   "metadata": {},
   "source": [
    "### Predict"
   ]
  },
  {
   "cell_type": "code",
   "execution_count": 33,
   "metadata": {},
   "outputs": [],
   "source": [
    "train_pred = clf.predict(X_train)\n",
    "test_pred = clf.predict(X_test)"
   ]
  },
  {
   "cell_type": "code",
   "execution_count": 34,
   "metadata": {},
   "outputs": [
    {
     "name": "stdout",
     "output_type": "stream",
     "text": [
      "[229.56 140.   399.85 125.   102.5 ]\n",
      "[127.5  152.5  130.   140.49 197.47]\n"
     ]
    }
   ],
   "source": [
    "print(train_pred[:5])\n",
    "print(test_pred[:5])"
   ]
  },
  {
   "cell_type": "markdown",
   "metadata": {},
   "source": [
    "### Evaluation"
   ]
  },
  {
   "cell_type": "code",
   "execution_count": 35,
   "metadata": {},
   "outputs": [
    {
     "name": "stdout",
     "output_type": "stream",
     "text": [
      "The Mean Absolute Error on train dataset: 0.0 \n",
      "\n",
      "The Mean Absolute Error on test dataset: 43.0039289446186 \n",
      "\n",
      "The Mean Squared Error on train dataset: 0.0 \n",
      "\n",
      "The Mean Squared Error on test dataset: 4267.893592267503 \n",
      "\n",
      "The Root Mean Squared Error on train dataset: 0.0 \n",
      "\n",
      "The Root Mean Squared Error on test dataset: 65.32911749187726 \n",
      "\n",
      "The Mean Absolute Percentage Error on train dataset: 0.0 \n",
      "\n",
      "The Mean Absolute Percentage Error on test dataset: 24.81947397414469 \n",
      "\n"
     ]
    }
   ],
   "source": [
    "\n",
    "print(\"The Mean Absolute Error on train dataset: {} \\n\".format(mean_absolute_error(y_pred=train_pred,y_true=y_train)))\n",
    "print(\"The Mean Absolute Error on test dataset: {} \\n\".format(mean_absolute_error(y_pred=test_pred,y_true=y_test)))\n",
    "\n",
    "print(\"The Mean Squared Error on train dataset: {} \\n\".format(mean_squared_error(y_pred=train_pred,y_true=y_train)))\n",
    "print(\"The Mean Squared Error on test dataset: {} \\n\".format(mean_squared_error(y_pred=test_pred,y_true=y_test)))\n",
    "\n",
    "print(\"The Root Mean Squared Error on train dataset: {} \\n\".format(math.sqrt(mean_squared_error(y_pred=train_pred,y_true=y_train))))\n",
    "print(\"The Root Mean Squared Error on test dataset: {} \\n\".format(math.sqrt(mean_squared_error(y_pred=test_pred,y_true=y_test))))\n",
    "\n",
    "def mean_absolute_percentage_error(y_true, y_pred): \n",
    "    y_true, y_pred = np.array(y_true), np.array(y_pred)\n",
    "    return np.mean(np.abs((y_true - y_pred) / y_true)) * 100\n",
    "\n",
    "print(\"The Mean Absolute Percentage Error on train dataset: {} \\n\".format(mean_absolute_percentage_error(y_pred=train_pred,y_true=y_train)))\n",
    "print(\"The Mean Absolute Percentage Error on test dataset: {} \\n\".format(mean_absolute_percentage_error(y_pred=test_pred,y_true=y_test)))\n"
   ]
  },
  {
   "cell_type": "markdown",
   "metadata": {},
   "source": [
    "## Building Decision Tree Model using attributes Importance"
   ]
  },
  {
   "cell_type": "markdown",
   "metadata": {},
   "source": [
    "### Select important attributes"
   ]
  },
  {
   "cell_type": "code",
   "execution_count": 36,
   "metadata": {
    "scrolled": true
   },
   "outputs": [],
   "source": [
    "select = indices[0:3].tolist()"
   ]
  },
  {
   "cell_type": "markdown",
   "metadata": {},
   "source": [
    "### Instantiate DecisionTreeRegressor"
   ]
  },
  {
   "cell_type": "code",
   "execution_count": 37,
   "metadata": {},
   "outputs": [],
   "source": [
    "clf = DecisionTreeRegressor()"
   ]
  },
  {
   "cell_type": "markdown",
   "metadata": {},
   "source": [
    "### Train the model"
   ]
  },
  {
   "cell_type": "code",
   "execution_count": 38,
   "metadata": {},
   "outputs": [],
   "source": [
    "clf = clf.fit(X_train[:,select], y_train)"
   ]
  },
  {
   "cell_type": "markdown",
   "metadata": {},
   "source": [
    "### Predict"
   ]
  },
  {
   "cell_type": "code",
   "execution_count": 39,
   "metadata": {},
   "outputs": [],
   "source": [
    "train_pred = clf.predict(X_train[:,select])\n",
    "test_pred = clf.predict(X_test[:,select])"
   ]
  },
  {
   "cell_type": "code",
   "execution_count": 40,
   "metadata": {},
   "outputs": [
    {
     "name": "stdout",
     "output_type": "stream",
     "text": [
      "[229.56       114.375      399.85       122.6355     120.35714286]\n",
      "[145.         147.504      114.4        148.14709677 182.59125   ]\n"
     ]
    }
   ],
   "source": [
    "print(train_pred[:5])\n",
    "print(test_pred[:5])"
   ]
  },
  {
   "cell_type": "markdown",
   "metadata": {},
   "source": [
    "### Evaluation"
   ]
  },
  {
   "cell_type": "code",
   "execution_count": 41,
   "metadata": {},
   "outputs": [
    {
     "name": "stdout",
     "output_type": "stream",
     "text": [
      "The Mean Absolute Error on train dataset: 17.500409229475412 \n",
      "\n",
      "The Mean Absolute Error on test dataset: 34.54543790952835 \n",
      "\n",
      "The Mean Squared Error on train dataset: 699.4056056218993 \n",
      "\n",
      "The Mean Squared Error on test dataset: 2973.4870872533284 \n",
      "\n",
      "The Root Mean Squared Error on train dataset: 26.446277727156602 \n",
      "\n",
      "The Root Mean Squared Error on test dataset: 54.529689961096686 \n",
      "\n",
      "The Mean Absolute Percentage Error on train dataset: 11.56089384834198 \n",
      "\n",
      "The Mean Absolute Percentage Error on test dataset: 19.113968418568135 \n",
      "\n"
     ]
    }
   ],
   "source": [
    "print(\"The Mean Absolute Error on train dataset: {} \\n\".format(mean_absolute_error(y_pred=train_pred,y_true=y_train)))\n",
    "print(\"The Mean Absolute Error on test dataset: {} \\n\".format(mean_absolute_error(y_pred=test_pred,y_true=y_test)))\n",
    "\n",
    "print(\"The Mean Squared Error on train dataset: {} \\n\".format(mean_squared_error(y_pred=train_pred,y_true=y_train)))\n",
    "print(\"The Mean Squared Error on test dataset: {} \\n\".format(mean_squared_error(y_pred=test_pred,y_true=y_test)))\n",
    "\n",
    "print(\"The Root Mean Squared Error on train dataset: {} \\n\".format(math.sqrt(mean_squared_error(y_pred=train_pred,y_true=y_train))))\n",
    "print(\"The Root Mean Squared Error on test dataset: {} \\n\".format(math.sqrt(mean_squared_error(y_pred=test_pred,y_true=y_test))))\n",
    "\n",
    "def mean_absolute_percentage_error(y_true, y_pred): \n",
    "    y_true, y_pred = np.array(y_true), np.array(y_pred)\n",
    "    return np.mean(np.abs((y_true - y_pred) / y_true)) * 100\n",
    "\n",
    "print(\"The Mean Absolute Percentage Error on train dataset: {} \\n\".format(mean_absolute_percentage_error(y_pred=train_pred,y_true=y_train)))\n",
    "print(\"The Mean Absolute Percentage Error on test dataset: {} \\n\".format(mean_absolute_percentage_error(y_pred=test_pred,y_true=y_test)))\n"
   ]
  },
  {
   "cell_type": "markdown",
   "metadata": {},
   "source": [
    "## Grid Search for Hyper-parameter tuning"
   ]
  },
  {
   "cell_type": "markdown",
   "metadata": {},
   "source": [
    "### Hyper-parameter"
   ]
  },
  {
   "cell_type": "markdown",
   "metadata": {},
   "source": [
    "max_depth : int or None, optional (default=None)\n",
    "\n",
    "    The maximum depth of the tree. If None, then nodes are expanded until all leaves are pure or until all leaves contain less than min_samples_split samples."
   ]
  },
  {
   "cell_type": "code",
   "execution_count": 42,
   "metadata": {},
   "outputs": [],
   "source": [
    "param_grid = {'max_depth': range(1, 11)}"
   ]
  },
  {
   "cell_type": "markdown",
   "metadata": {},
   "source": [
    "### Instantiate DecisionTreeRegressor"
   ]
  },
  {
   "cell_type": "code",
   "execution_count": 43,
   "metadata": {},
   "outputs": [],
   "source": [
    "dt = DecisionTreeRegressor()"
   ]
  },
  {
   "cell_type": "markdown",
   "metadata": {},
   "source": [
    "### GridSearchCV"
   ]
  },
  {
   "cell_type": "code",
   "execution_count": 44,
   "metadata": {},
   "outputs": [],
   "source": [
    "clf = GridSearchCV(dt, param_grid, cv=10)"
   ]
  },
  {
   "cell_type": "markdown",
   "metadata": {},
   "source": [
    "### Train"
   ]
  },
  {
   "cell_type": "code",
   "execution_count": 45,
   "metadata": {},
   "outputs": [
    {
     "data": {
      "text/plain": [
       "GridSearchCV(cv=10, estimator=DecisionTreeRegressor(),\n",
       "             param_grid={'max_depth': range(1, 11)})"
      ]
     },
     "execution_count": 45,
     "metadata": {},
     "output_type": "execute_result"
    }
   ],
   "source": [
    "clf.fit(X_train, y_train)"
   ]
  },
  {
   "cell_type": "markdown",
   "metadata": {},
   "source": [
    "### Best params"
   ]
  },
  {
   "cell_type": "code",
   "execution_count": 46,
   "metadata": {},
   "outputs": [
    {
     "name": "stdout",
     "output_type": "stream",
     "text": [
      "{'max_depth': 4}\n",
      "DecisionTreeRegressor(max_depth=4)\n"
     ]
    }
   ],
   "source": [
    "print(clf.best_params_)\n",
    "print(clf.best_estimator_)"
   ]
  },
  {
   "cell_type": "markdown",
   "metadata": {},
   "source": [
    "### Predict"
   ]
  },
  {
   "cell_type": "code",
   "execution_count": 47,
   "metadata": {},
   "outputs": [],
   "source": [
    "train_pred = clf.predict(X_train)\n",
    "test_pred = clf.predict(X_test)"
   ]
  },
  {
   "cell_type": "markdown",
   "metadata": {},
   "source": [
    "### Evaluations"
   ]
  },
  {
   "cell_type": "code",
   "execution_count": 48,
   "metadata": {},
   "outputs": [
    {
     "name": "stdout",
     "output_type": "stream",
     "text": [
      "The Mean Absolute Error on train dataset: 31.514483067683333 \n",
      "\n",
      "The Mean Absolute Error on test dataset: 36.247333725950526 \n",
      "\n",
      "The Mean Squared Error on train dataset: 1918.9243955780705 \n",
      "\n",
      "The Mean Squared Error on test dataset: 2956.4093210816413 \n",
      "\n",
      "The Root Mean Squared Error on train dataset: 43.80552928088041 \n",
      "\n",
      "The Root Mean Squared Error on test dataset: 54.37287302581721 \n",
      "\n",
      "The Mean Absolute Percentage Error on train dataset: 18.759043177979116 \n",
      "\n",
      "The Mean Absolute Percentage Error on test dataset: 20.54128783158817 \n",
      "\n"
     ]
    }
   ],
   "source": [
    "\n",
    "print(\"The Mean Absolute Error on train dataset: {} \\n\".format(mean_absolute_error(y_pred=train_pred,y_true=y_train)))\n",
    "print(\"The Mean Absolute Error on test dataset: {} \\n\".format(mean_absolute_error(y_pred=test_pred,y_true=y_test)))\n",
    "\n",
    "print(\"The Mean Squared Error on train dataset: {} \\n\".format(mean_squared_error(y_pred=train_pred,y_true=y_train)))\n",
    "print(\"The Mean Squared Error on test dataset: {} \\n\".format(mean_squared_error(y_pred=test_pred,y_true=y_test)))\n",
    "\n",
    "print(\"The Root Mean Squared Error on train dataset: {} \\n\".format(math.sqrt(mean_squared_error(y_pred=train_pred,y_true=y_train))))\n",
    "print(\"The Root Mean Squared Error on test dataset: {} \\n\".format(math.sqrt(mean_squared_error(y_pred=test_pred,y_true=y_test))))\n",
    "\n",
    "def mean_absolute_percentage_error(y_true, y_pred): \n",
    "    y_true, y_pred = np.array(y_true), np.array(y_pred)\n",
    "    return np.mean(np.abs((y_true - y_pred) / y_true)) * 100\n",
    "\n",
    "print(\"The Mean Absolute Percentage Error on train dataset: {} \\n\".format(mean_absolute_percentage_error(y_pred=train_pred,y_true=y_train)))\n",
    "print(\"The Mean Absolute Percentage Error on test dataset: {} \\n\".format(mean_absolute_percentage_error(y_pred=test_pred,y_true=y_test)))"
   ]
  },
  {
   "cell_type": "markdown",
   "metadata": {},
   "source": [
    "### Visualizing Decision Trees"
   ]
  },
  {
   "cell_type": "code",
   "execution_count": 49,
   "metadata": {},
   "outputs": [
    {
     "data": {
      "text/plain": [
       "'regression.pdf'"
      ]
     },
     "execution_count": 49,
     "metadata": {},
     "output_type": "execute_result"
    }
   ],
   "source": [
    "dot_data = export_graphviz(clf.best_estimator_, out_file=None, \n",
    "                                feature_names=data.drop(columns=['TotalRevenueGenerated']).columns,\n",
    "                                class_names='TotalRevenueGenerated', filled=True, rounded=True, \n",
    "                                special_characters=True) \n",
    "graph = graphviz.Source(dot_data) \n",
    "\n",
    "graph.render(\"regression\") "
   ]
  },
  {
   "cell_type": "code",
   "execution_count": null,
   "metadata": {},
   "outputs": [],
   "source": []
  }
 ],
 "metadata": {
  "anaconda-cloud": {},
  "kernelspec": {
   "display_name": "Python 3",
   "language": "python",
   "name": "python3"
  },
  "language_info": {
   "codemirror_mode": {
    "name": "ipython",
    "version": 3
   },
   "file_extension": ".py",
   "mimetype": "text/x-python",
   "name": "python",
   "nbconvert_exporter": "python",
   "pygments_lexer": "ipython3",
   "version": "3.7.6"
  },
  "toc": {
   "base_numbering": 1,
   "nav_menu": {},
   "number_sections": true,
   "sideBar": true,
   "skip_h1_title": false,
   "title_cell": "Table of Contents",
   "title_sidebar": "Contents",
   "toc_cell": true,
   "toc_position": {},
   "toc_section_display": true,
   "toc_window_display": false
  }
 },
 "nbformat": 4,
 "nbformat_minor": 4
}
