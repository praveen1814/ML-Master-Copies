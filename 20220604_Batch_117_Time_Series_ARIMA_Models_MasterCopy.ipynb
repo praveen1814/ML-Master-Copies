{
 "cells": [
  {
   "cell_type": "markdown",
   "metadata": {},
   "source": [
    "### Agenda\n",
    "- In the lecture session, we have seen\n",
    "    - Fundamentals of Time Series Analysis\n",
    "    - Smoothing Techniques\n",
    "        - Simple Moving Average\n",
    "        - Weighted Moving Average\n",
    "        - Exponential Moving Average\n",
    "    - Forcasting models\n",
    "        - Moving average models\n",
    "        - Holts-Winter\n",
    "        - Arima\n",
    "- In the lab we work on\n",
    "    - Data preparation for time series analysis\n",
    "    - Data Decomposition into trend, seasonality and randomness\n",
    "    - Forcasting with various time series models"
   ]
  },
  {
   "cell_type": "markdown",
   "metadata": {},
   "source": [
    "### Problem Statement\n",
    "\n",
    "\n",
    "A multinational e-commerce company idenified a segment of products which are showing less sales when comapred to other class of products. As the prices of those products are volatile periodically based on demand and other economic factors, if they quote right price on time then the chance of incrasing sales is very high. \n",
    "\n",
    "They want to understand what is right price to quote on a given period for each product which will help them to increase the sales. The given data contains historical data of a product. Perform time series analysis and forecast the price."
   ]
  },
  {
   "cell_type": "code",
   "execution_count": 1,
   "metadata": {},
   "outputs": [],
   "source": [
    "# Load the libraries\n",
    "import pandas as pd \n",
    "import numpy as np\n",
    "import matplotlib.pyplot as plt \n"
   ]
  },
  {
   "cell_type": "code",
   "execution_count": 6,
   "metadata": {},
   "outputs": [],
   "source": [
    "data = pd.read_csv(\"TimeSeries.csv\") # Reading the data "
   ]
  },
  {
   "cell_type": "code",
   "execution_count": 7,
   "metadata": {},
   "outputs": [
    {
     "data": {
      "text/plain": [
       "(19657, 3)"
      ]
     },
     "execution_count": 7,
     "metadata": {},
     "output_type": "execute_result"
    }
   ],
   "source": [
    "data.shape  # check how many rows and columns"
   ]
  },
  {
   "cell_type": "code",
   "execution_count": 8,
   "metadata": {},
   "outputs": [
    {
     "data": {
      "text/html": [
       "<div>\n",
       "<style scoped>\n",
       "    .dataframe tbody tr th:only-of-type {\n",
       "        vertical-align: middle;\n",
       "    }\n",
       "\n",
       "    .dataframe tbody tr th {\n",
       "        vertical-align: top;\n",
       "    }\n",
       "\n",
       "    .dataframe thead th {\n",
       "        text-align: right;\n",
       "    }\n",
       "</style>\n",
       "<table border=\"1\" class=\"dataframe\">\n",
       "  <thead>\n",
       "    <tr style=\"text-align: right;\">\n",
       "      <th></th>\n",
       "      <th>SKU</th>\n",
       "      <th>Price</th>\n",
       "      <th>Date</th>\n",
       "    </tr>\n",
       "  </thead>\n",
       "  <tbody>\n",
       "    <tr>\n",
       "      <th>0</th>\n",
       "      <td>1</td>\n",
       "      <td>129.98</td>\n",
       "      <td>01-06-2009</td>\n",
       "    </tr>\n",
       "    <tr>\n",
       "      <th>1</th>\n",
       "      <td>2</td>\n",
       "      <td>57.96</td>\n",
       "      <td>01-06-2009</td>\n",
       "    </tr>\n",
       "    <tr>\n",
       "      <th>2</th>\n",
       "      <td>3</td>\n",
       "      <td>84.38</td>\n",
       "      <td>08-12-2009</td>\n",
       "    </tr>\n",
       "    <tr>\n",
       "      <th>3</th>\n",
       "      <td>1</td>\n",
       "      <td>159.96</td>\n",
       "      <td>08-12-2009</td>\n",
       "    </tr>\n",
       "    <tr>\n",
       "      <th>4</th>\n",
       "      <td>2</td>\n",
       "      <td>56.98</td>\n",
       "      <td>08-12-2009</td>\n",
       "    </tr>\n",
       "  </tbody>\n",
       "</table>\n",
       "</div>"
      ],
      "text/plain": [
       "   SKU   Price        Date\n",
       "0    1  129.98  01-06-2009\n",
       "1    2   57.96  01-06-2009\n",
       "2    3   84.38  08-12-2009\n",
       "3    1  159.96  08-12-2009\n",
       "4    2   56.98  08-12-2009"
      ]
     },
     "execution_count": 8,
     "metadata": {},
     "output_type": "execute_result"
    }
   ],
   "source": [
    "data.head() # check the top 5 records"
   ]
  },
  {
   "cell_type": "code",
   "execution_count": 9,
   "metadata": {},
   "outputs": [
    {
     "name": "stdout",
     "output_type": "stream",
     "text": [
      "<class 'pandas.core.frame.DataFrame'>\n",
      "RangeIndex: 19657 entries, 0 to 19656\n",
      "Data columns (total 3 columns):\n",
      " #   Column  Non-Null Count  Dtype  \n",
      "---  ------  --------------  -----  \n",
      " 0   SKU     19657 non-null  int64  \n",
      " 1   Price   19657 non-null  float64\n",
      " 2   Date    19657 non-null  object \n",
      "dtypes: float64(1), int64(1), object(1)\n",
      "memory usage: 460.8+ KB\n"
     ]
    }
   ],
   "source": [
    "data.info() # check the data information"
   ]
  },
  {
   "cell_type": "code",
   "execution_count": 10,
   "metadata": {},
   "outputs": [
    {
     "data": {
      "text/plain": [
       "1    6997\n",
       "2    6812\n",
       "3    5848\n",
       "Name: SKU, dtype: int64"
      ]
     },
     "execution_count": 10,
     "metadata": {},
     "output_type": "execute_result"
    }
   ],
   "source": [
    "data.SKU.value_counts() # check the frequency"
   ]
  },
  {
   "cell_type": "code",
   "execution_count": 11,
   "metadata": {},
   "outputs": [
    {
     "data": {
      "text/plain": [
       "SKU        int64\n",
       "Price    float64\n",
       "Date      object\n",
       "dtype: object"
      ]
     },
     "execution_count": 11,
     "metadata": {},
     "output_type": "execute_result"
    }
   ],
   "source": [
    "data.dtypes # check the data types"
   ]
  },
  {
   "cell_type": "markdown",
   "metadata": {},
   "source": [
    "### Basic Data preprocessing"
   ]
  },
  {
   "cell_type": "code",
   "execution_count": 12,
   "metadata": {},
   "outputs": [],
   "source": [
    "data['SKU'] = data['SKU'].astype('category') # Convert 'SKU' variable to category\n",
    "data['date'] = pd.to_datetime(data['Date'],format='%d-%m-%Y') # Convert date variable into Date format "
   ]
  },
  {
   "cell_type": "code",
   "execution_count": 13,
   "metadata": {},
   "outputs": [
    {
     "name": "stderr",
     "output_type": "stream",
     "text": [
      "/usr/share/anaconda3/lib/python3.7/site-packages/ipykernel_launcher.py:1: FutureWarning: Treating datetime data as categorical rather than numeric in `.describe` is deprecated and will be removed in a future version of pandas. Specify `datetime_is_numeric=True` to silence this warning and adopt the future behavior now.\n",
      "  \"\"\"Entry point for launching an IPython kernel.\n"
     ]
    },
    {
     "data": {
      "text/html": [
       "<div>\n",
       "<style scoped>\n",
       "    .dataframe tbody tr th:only-of-type {\n",
       "        vertical-align: middle;\n",
       "    }\n",
       "\n",
       "    .dataframe tbody tr th {\n",
       "        vertical-align: top;\n",
       "    }\n",
       "\n",
       "    .dataframe thead th {\n",
       "        text-align: right;\n",
       "    }\n",
       "</style>\n",
       "<table border=\"1\" class=\"dataframe\">\n",
       "  <thead>\n",
       "    <tr style=\"text-align: right;\">\n",
       "      <th></th>\n",
       "      <th>SKU</th>\n",
       "      <th>Price</th>\n",
       "      <th>Date</th>\n",
       "      <th>date</th>\n",
       "    </tr>\n",
       "  </thead>\n",
       "  <tbody>\n",
       "    <tr>\n",
       "      <th>count</th>\n",
       "      <td>19657.0</td>\n",
       "      <td>19657.000000</td>\n",
       "      <td>19657</td>\n",
       "      <td>19657</td>\n",
       "    </tr>\n",
       "    <tr>\n",
       "      <th>unique</th>\n",
       "      <td>3.0</td>\n",
       "      <td>NaN</td>\n",
       "      <td>1657</td>\n",
       "      <td>1657</td>\n",
       "    </tr>\n",
       "    <tr>\n",
       "      <th>top</th>\n",
       "      <td>1.0</td>\n",
       "      <td>NaN</td>\n",
       "      <td>29-08-2012</td>\n",
       "      <td>2013-01-30 00:00:00</td>\n",
       "    </tr>\n",
       "    <tr>\n",
       "      <th>freq</th>\n",
       "      <td>6997.0</td>\n",
       "      <td>NaN</td>\n",
       "      <td>23</td>\n",
       "      <td>23</td>\n",
       "    </tr>\n",
       "    <tr>\n",
       "      <th>first</th>\n",
       "      <td>NaN</td>\n",
       "      <td>NaN</td>\n",
       "      <td>NaN</td>\n",
       "      <td>2009-03-06 00:00:00</td>\n",
       "    </tr>\n",
       "    <tr>\n",
       "      <th>last</th>\n",
       "      <td>NaN</td>\n",
       "      <td>NaN</td>\n",
       "      <td>NaN</td>\n",
       "      <td>2013-12-02 00:00:00</td>\n",
       "    </tr>\n",
       "    <tr>\n",
       "      <th>mean</th>\n",
       "      <td>NaN</td>\n",
       "      <td>80.625467</td>\n",
       "      <td>NaN</td>\n",
       "      <td>NaN</td>\n",
       "    </tr>\n",
       "    <tr>\n",
       "      <th>std</th>\n",
       "      <td>NaN</td>\n",
       "      <td>37.894582</td>\n",
       "      <td>NaN</td>\n",
       "      <td>NaN</td>\n",
       "    </tr>\n",
       "    <tr>\n",
       "      <th>min</th>\n",
       "      <td>NaN</td>\n",
       "      <td>20.270000</td>\n",
       "      <td>NaN</td>\n",
       "      <td>NaN</td>\n",
       "    </tr>\n",
       "    <tr>\n",
       "      <th>25%</th>\n",
       "      <td>NaN</td>\n",
       "      <td>50.150000</td>\n",
       "      <td>NaN</td>\n",
       "      <td>NaN</td>\n",
       "    </tr>\n",
       "    <tr>\n",
       "      <th>50%</th>\n",
       "      <td>NaN</td>\n",
       "      <td>70.970000</td>\n",
       "      <td>NaN</td>\n",
       "      <td>NaN</td>\n",
       "    </tr>\n",
       "    <tr>\n",
       "      <th>75%</th>\n",
       "      <td>NaN</td>\n",
       "      <td>105.000000</td>\n",
       "      <td>NaN</td>\n",
       "      <td>NaN</td>\n",
       "    </tr>\n",
       "    <tr>\n",
       "      <th>max</th>\n",
       "      <td>NaN</td>\n",
       "      <td>999.000000</td>\n",
       "      <td>NaN</td>\n",
       "      <td>NaN</td>\n",
       "    </tr>\n",
       "  </tbody>\n",
       "</table>\n",
       "</div>"
      ],
      "text/plain": [
       "            SKU         Price        Date                 date\n",
       "count   19657.0  19657.000000       19657                19657\n",
       "unique      3.0           NaN        1657                 1657\n",
       "top         1.0           NaN  29-08-2012  2013-01-30 00:00:00\n",
       "freq     6997.0           NaN          23                   23\n",
       "first       NaN           NaN         NaN  2009-03-06 00:00:00\n",
       "last        NaN           NaN         NaN  2013-12-02 00:00:00\n",
       "mean        NaN     80.625467         NaN                  NaN\n",
       "std         NaN     37.894582         NaN                  NaN\n",
       "min         NaN     20.270000         NaN                  NaN\n",
       "25%         NaN     50.150000         NaN                  NaN\n",
       "50%         NaN     70.970000         NaN                  NaN\n",
       "75%         NaN    105.000000         NaN                  NaN\n",
       "max         NaN    999.000000         NaN                  NaN"
      ]
     },
     "execution_count": 13,
     "metadata": {},
     "output_type": "execute_result"
    }
   ],
   "source": [
    "data.describe(include='all') # check the summary of the data "
   ]
  },
  {
   "cell_type": "code",
   "execution_count": 14,
   "metadata": {},
   "outputs": [
    {
     "data": {
      "text/html": [
       "<div>\n",
       "<style scoped>\n",
       "    .dataframe tbody tr th:only-of-type {\n",
       "        vertical-align: middle;\n",
       "    }\n",
       "\n",
       "    .dataframe tbody tr th {\n",
       "        vertical-align: top;\n",
       "    }\n",
       "\n",
       "    .dataframe thead th {\n",
       "        text-align: right;\n",
       "    }\n",
       "</style>\n",
       "<table border=\"1\" class=\"dataframe\">\n",
       "  <thead>\n",
       "    <tr style=\"text-align: right;\">\n",
       "      <th></th>\n",
       "      <th>SKU</th>\n",
       "      <th>Price</th>\n",
       "      <th>Date</th>\n",
       "      <th>date</th>\n",
       "    </tr>\n",
       "  </thead>\n",
       "  <tbody>\n",
       "    <tr>\n",
       "      <th>3441</th>\n",
       "      <td>3</td>\n",
       "      <td>999.0</td>\n",
       "      <td>24-08-2010</td>\n",
       "      <td>2010-08-24</td>\n",
       "    </tr>\n",
       "  </tbody>\n",
       "</table>\n",
       "</div>"
      ],
      "text/plain": [
       "     SKU  Price        Date       date\n",
       "3441   3  999.0  24-08-2010 2010-08-24"
      ]
     },
     "execution_count": 14,
     "metadata": {},
     "output_type": "execute_result"
    }
   ],
   "source": [
    "data[data.Price==999] # checking how many rows are with price:999"
   ]
  },
  {
   "cell_type": "code",
   "execution_count": 15,
   "metadata": {},
   "outputs": [],
   "source": [
    "# removing the records with price more  than 999\n",
    "data = data[data.Price!=999]"
   ]
  },
  {
   "cell_type": "code",
   "execution_count": 16,
   "metadata": {},
   "outputs": [
    {
     "data": {
      "text/html": [
       "<div>\n",
       "<style scoped>\n",
       "    .dataframe tbody tr th:only-of-type {\n",
       "        vertical-align: middle;\n",
       "    }\n",
       "\n",
       "    .dataframe tbody tr th {\n",
       "        vertical-align: top;\n",
       "    }\n",
       "\n",
       "    .dataframe thead th {\n",
       "        text-align: right;\n",
       "    }\n",
       "</style>\n",
       "<table border=\"1\" class=\"dataframe\">\n",
       "  <thead>\n",
       "    <tr style=\"text-align: right;\">\n",
       "      <th></th>\n",
       "      <th>Price</th>\n",
       "    </tr>\n",
       "  </thead>\n",
       "  <tbody>\n",
       "    <tr>\n",
       "      <th>count</th>\n",
       "      <td>5847.000000</td>\n",
       "    </tr>\n",
       "    <tr>\n",
       "      <th>mean</th>\n",
       "      <td>73.142588</td>\n",
       "    </tr>\n",
       "    <tr>\n",
       "      <th>std</th>\n",
       "      <td>17.943083</td>\n",
       "    </tr>\n",
       "    <tr>\n",
       "      <th>min</th>\n",
       "      <td>39.840000</td>\n",
       "    </tr>\n",
       "    <tr>\n",
       "      <th>25%</th>\n",
       "      <td>60.000000</td>\n",
       "    </tr>\n",
       "    <tr>\n",
       "      <th>50%</th>\n",
       "      <td>72.250000</td>\n",
       "    </tr>\n",
       "    <tr>\n",
       "      <th>75%</th>\n",
       "      <td>83.750000</td>\n",
       "    </tr>\n",
       "    <tr>\n",
       "      <th>max</th>\n",
       "      <td>379.800000</td>\n",
       "    </tr>\n",
       "  </tbody>\n",
       "</table>\n",
       "</div>"
      ],
      "text/plain": [
       "             Price\n",
       "count  5847.000000\n",
       "mean     73.142588\n",
       "std      17.943083\n",
       "min      39.840000\n",
       "25%      60.000000\n",
       "50%      72.250000\n",
       "75%      83.750000\n",
       "max     379.800000"
      ]
     },
     "execution_count": 16,
     "metadata": {},
     "output_type": "execute_result"
    }
   ],
   "source": [
    "# Let us focus on speciffic product. So, filter the data only for one particular SKU\n",
    "df1 = data[data.SKU==3]\n",
    "df1.shape\n",
    "df1.describe()\n"
   ]
  },
  {
   "cell_type": "code",
   "execution_count": 17,
   "metadata": {},
   "outputs": [
    {
     "data": {
      "text/html": [
       "<div>\n",
       "<style scoped>\n",
       "    .dataframe tbody tr th:only-of-type {\n",
       "        vertical-align: middle;\n",
       "    }\n",
       "\n",
       "    .dataframe tbody tr th {\n",
       "        vertical-align: top;\n",
       "    }\n",
       "\n",
       "    .dataframe thead th {\n",
       "        text-align: right;\n",
       "    }\n",
       "</style>\n",
       "<table border=\"1\" class=\"dataframe\">\n",
       "  <thead>\n",
       "    <tr style=\"text-align: right;\">\n",
       "      <th></th>\n",
       "      <th>SKU</th>\n",
       "      <th>Price</th>\n",
       "      <th>Date</th>\n",
       "      <th>date</th>\n",
       "    </tr>\n",
       "  </thead>\n",
       "  <tbody>\n",
       "    <tr>\n",
       "      <th>2</th>\n",
       "      <td>3</td>\n",
       "      <td>84.38</td>\n",
       "      <td>08-12-2009</td>\n",
       "      <td>2009-12-08</td>\n",
       "    </tr>\n",
       "    <tr>\n",
       "      <th>11</th>\n",
       "      <td>3</td>\n",
       "      <td>115.98</td>\n",
       "      <td>01-06-2009</td>\n",
       "      <td>2009-06-01</td>\n",
       "    </tr>\n",
       "    <tr>\n",
       "      <th>22</th>\n",
       "      <td>3</td>\n",
       "      <td>115.98</td>\n",
       "      <td>02-06-2009</td>\n",
       "      <td>2009-06-02</td>\n",
       "    </tr>\n",
       "    <tr>\n",
       "      <th>23</th>\n",
       "      <td>3</td>\n",
       "      <td>84.38</td>\n",
       "      <td>09-12-2009</td>\n",
       "      <td>2009-12-09</td>\n",
       "    </tr>\n",
       "    <tr>\n",
       "      <th>35</th>\n",
       "      <td>3</td>\n",
       "      <td>115.98</td>\n",
       "      <td>03-06-2009</td>\n",
       "      <td>2009-06-03</td>\n",
       "    </tr>\n",
       "  </tbody>\n",
       "</table>\n",
       "</div>"
      ],
      "text/plain": [
       "   SKU   Price        Date       date\n",
       "2    3   84.38  08-12-2009 2009-12-08\n",
       "11   3  115.98  01-06-2009 2009-06-01\n",
       "22   3  115.98  02-06-2009 2009-06-02\n",
       "23   3   84.38  09-12-2009 2009-12-09\n",
       "35   3  115.98  03-06-2009 2009-06-03"
      ]
     },
     "execution_count": 17,
     "metadata": {},
     "output_type": "execute_result"
    }
   ],
   "source": [
    "df1.head()"
   ]
  },
  {
   "cell_type": "code",
   "execution_count": 18,
   "metadata": {},
   "outputs": [],
   "source": [
    "# As all records are from the same SKU, let us delete this variable\n",
    "df1 = df1.drop([\"SKU\",'Date'], axis=1)"
   ]
  },
  {
   "cell_type": "code",
   "execution_count": 19,
   "metadata": {},
   "outputs": [],
   "source": [
    "sorted_data = df1.sort_values('date',ascending=True) # sort the data in the descending order \n"
   ]
  },
  {
   "cell_type": "code",
   "execution_count": 20,
   "metadata": {},
   "outputs": [
    {
     "data": {
      "text/html": [
       "<div>\n",
       "<style scoped>\n",
       "    .dataframe tbody tr th:only-of-type {\n",
       "        vertical-align: middle;\n",
       "    }\n",
       "\n",
       "    .dataframe tbody tr th {\n",
       "        vertical-align: top;\n",
       "    }\n",
       "\n",
       "    .dataframe thead th {\n",
       "        text-align: right;\n",
       "    }\n",
       "</style>\n",
       "<table border=\"1\" class=\"dataframe\">\n",
       "  <thead>\n",
       "    <tr style=\"text-align: right;\">\n",
       "      <th></th>\n",
       "      <th>Price</th>\n",
       "      <th>date</th>\n",
       "    </tr>\n",
       "  </thead>\n",
       "  <tbody>\n",
       "    <tr>\n",
       "      <th>1983</th>\n",
       "      <td>58.65</td>\n",
       "      <td>2009-04-15</td>\n",
       "    </tr>\n",
       "    <tr>\n",
       "      <th>2005</th>\n",
       "      <td>79.64</td>\n",
       "      <td>2009-04-16</td>\n",
       "    </tr>\n",
       "    <tr>\n",
       "      <th>2008</th>\n",
       "      <td>58.65</td>\n",
       "      <td>2009-04-16</td>\n",
       "    </tr>\n",
       "    <tr>\n",
       "      <th>2020</th>\n",
       "      <td>79.64</td>\n",
       "      <td>2009-04-17</td>\n",
       "    </tr>\n",
       "    <tr>\n",
       "      <th>2030</th>\n",
       "      <td>58.65</td>\n",
       "      <td>2009-04-17</td>\n",
       "    </tr>\n",
       "    <tr>\n",
       "      <th>2044</th>\n",
       "      <td>79.64</td>\n",
       "      <td>2009-04-18</td>\n",
       "    </tr>\n",
       "    <tr>\n",
       "      <th>2795</th>\n",
       "      <td>115.98</td>\n",
       "      <td>2009-05-30</td>\n",
       "    </tr>\n",
       "    <tr>\n",
       "      <th>2822</th>\n",
       "      <td>115.98</td>\n",
       "      <td>2009-05-31</td>\n",
       "    </tr>\n",
       "    <tr>\n",
       "      <th>11</th>\n",
       "      <td>115.98</td>\n",
       "      <td>2009-06-01</td>\n",
       "    </tr>\n",
       "    <tr>\n",
       "      <th>22</th>\n",
       "      <td>115.98</td>\n",
       "      <td>2009-06-02</td>\n",
       "    </tr>\n",
       "  </tbody>\n",
       "</table>\n",
       "</div>"
      ],
      "text/plain": [
       "       Price       date\n",
       "1983   58.65 2009-04-15\n",
       "2005   79.64 2009-04-16\n",
       "2008   58.65 2009-04-16\n",
       "2020   79.64 2009-04-17\n",
       "2030   58.65 2009-04-17\n",
       "2044   79.64 2009-04-18\n",
       "2795  115.98 2009-05-30\n",
       "2822  115.98 2009-05-31\n",
       "11    115.98 2009-06-01\n",
       "22    115.98 2009-06-02"
      ]
     },
     "execution_count": 20,
     "metadata": {},
     "output_type": "execute_result"
    }
   ],
   "source": [
    "sorted_data.head(10) # Check the top 10 records of the data "
   ]
  },
  {
   "cell_type": "code",
   "execution_count": 21,
   "metadata": {},
   "outputs": [],
   "source": [
    "unique_data = pd.DataFrame(sorted_data.groupby(['date'],as_index=False)['Price'].min())"
   ]
  },
  {
   "cell_type": "code",
   "execution_count": 22,
   "metadata": {},
   "outputs": [
    {
     "data": {
      "text/html": [
       "<div>\n",
       "<style scoped>\n",
       "    .dataframe tbody tr th:only-of-type {\n",
       "        vertical-align: middle;\n",
       "    }\n",
       "\n",
       "    .dataframe tbody tr th {\n",
       "        vertical-align: top;\n",
       "    }\n",
       "\n",
       "    .dataframe thead th {\n",
       "        text-align: right;\n",
       "    }\n",
       "</style>\n",
       "<table border=\"1\" class=\"dataframe\">\n",
       "  <thead>\n",
       "    <tr style=\"text-align: right;\">\n",
       "      <th></th>\n",
       "      <th>date</th>\n",
       "      <th>Price</th>\n",
       "    </tr>\n",
       "  </thead>\n",
       "  <tbody>\n",
       "    <tr>\n",
       "      <th>0</th>\n",
       "      <td>2009-04-15</td>\n",
       "      <td>58.65</td>\n",
       "    </tr>\n",
       "    <tr>\n",
       "      <th>1</th>\n",
       "      <td>2009-04-16</td>\n",
       "      <td>58.65</td>\n",
       "    </tr>\n",
       "    <tr>\n",
       "      <th>2</th>\n",
       "      <td>2009-04-17</td>\n",
       "      <td>58.65</td>\n",
       "    </tr>\n",
       "    <tr>\n",
       "      <th>3</th>\n",
       "      <td>2009-04-18</td>\n",
       "      <td>79.64</td>\n",
       "    </tr>\n",
       "    <tr>\n",
       "      <th>4</th>\n",
       "      <td>2009-05-30</td>\n",
       "      <td>115.98</td>\n",
       "    </tr>\n",
       "  </tbody>\n",
       "</table>\n",
       "</div>"
      ],
      "text/plain": [
       "        date   Price\n",
       "0 2009-04-15   58.65\n",
       "1 2009-04-16   58.65\n",
       "2 2009-04-17   58.65\n",
       "3 2009-04-18   79.64\n",
       "4 2009-05-30  115.98"
      ]
     },
     "execution_count": 22,
     "metadata": {},
     "output_type": "execute_result"
    }
   ],
   "source": [
    "unique_data.head()"
   ]
  },
  {
   "cell_type": "code",
   "execution_count": 23,
   "metadata": {},
   "outputs": [
    {
     "name": "stdout",
     "output_type": "stream",
     "text": [
      "2009-04-15 00:00:00\n",
      "2013-12-02 00:00:00\n"
     ]
    }
   ],
   "source": [
    "# get the min and max of data \n",
    "\n",
    "minDate = min(unique_data.date)\n",
    "maxDate = max(unique_data.date)\n",
    "print(minDate)\n",
    "print(maxDate)"
   ]
  },
  {
   "cell_type": "code",
   "execution_count": 24,
   "metadata": {},
   "outputs": [
    {
     "data": {
      "text/html": [
       "<div>\n",
       "<style scoped>\n",
       "    .dataframe tbody tr th:only-of-type {\n",
       "        vertical-align: middle;\n",
       "    }\n",
       "\n",
       "    .dataframe tbody tr th {\n",
       "        vertical-align: top;\n",
       "    }\n",
       "\n",
       "    .dataframe thead th {\n",
       "        text-align: right;\n",
       "    }\n",
       "</style>\n",
       "<table border=\"1\" class=\"dataframe\">\n",
       "  <thead>\n",
       "    <tr style=\"text-align: right;\">\n",
       "      <th></th>\n",
       "      <th>0</th>\n",
       "    </tr>\n",
       "  </thead>\n",
       "  <tbody>\n",
       "    <tr>\n",
       "      <th>0</th>\n",
       "      <td>2009-04-15</td>\n",
       "    </tr>\n",
       "    <tr>\n",
       "      <th>1</th>\n",
       "      <td>2009-04-16</td>\n",
       "    </tr>\n",
       "    <tr>\n",
       "      <th>2</th>\n",
       "      <td>2009-04-17</td>\n",
       "    </tr>\n",
       "    <tr>\n",
       "      <th>3</th>\n",
       "      <td>2009-04-18</td>\n",
       "    </tr>\n",
       "    <tr>\n",
       "      <th>4</th>\n",
       "      <td>2009-04-19</td>\n",
       "    </tr>\n",
       "  </tbody>\n",
       "</table>\n",
       "</div>"
      ],
      "text/plain": [
       "           0\n",
       "0 2009-04-15\n",
       "1 2009-04-16\n",
       "2 2009-04-17\n",
       "3 2009-04-18\n",
       "4 2009-04-19"
      ]
     },
     "execution_count": 24,
     "metadata": {},
     "output_type": "execute_result"
    }
   ],
   "source": [
    "# Creating the data sequence\n",
    "seq = pd.DataFrame(pd.date_range(minDate,maxDate))\n",
    "# Look at the head\n",
    "seq.head()"
   ]
  },
  {
   "cell_type": "code",
   "execution_count": 25,
   "metadata": {},
   "outputs": [],
   "source": [
    "# adding the column name \n",
    "seq.columns = ['Date']"
   ]
  },
  {
   "cell_type": "code",
   "execution_count": 26,
   "metadata": {},
   "outputs": [
    {
     "data": {
      "text/plain": [
       "Index(['date', 'Price'], dtype='object')"
      ]
     },
     "execution_count": 26,
     "metadata": {},
     "output_type": "execute_result"
    }
   ],
   "source": [
    "unique_data.columns"
   ]
  },
  {
   "cell_type": "code",
   "execution_count": 27,
   "metadata": {},
   "outputs": [],
   "source": [
    "# Full outer join on both the dataframes \n",
    "data_all = pd.merge(seq,unique_data,how='outer',left_on=['Date'],right_on=['date'],sort=True)"
   ]
  },
  {
   "cell_type": "code",
   "execution_count": 28,
   "metadata": {},
   "outputs": [
    {
     "data": {
      "text/html": [
       "<div>\n",
       "<style scoped>\n",
       "    .dataframe tbody tr th:only-of-type {\n",
       "        vertical-align: middle;\n",
       "    }\n",
       "\n",
       "    .dataframe tbody tr th {\n",
       "        vertical-align: top;\n",
       "    }\n",
       "\n",
       "    .dataframe thead th {\n",
       "        text-align: right;\n",
       "    }\n",
       "</style>\n",
       "<table border=\"1\" class=\"dataframe\">\n",
       "  <thead>\n",
       "    <tr style=\"text-align: right;\">\n",
       "      <th></th>\n",
       "      <th>Date</th>\n",
       "      <th>date</th>\n",
       "      <th>Price</th>\n",
       "    </tr>\n",
       "  </thead>\n",
       "  <tbody>\n",
       "    <tr>\n",
       "      <th>1673</th>\n",
       "      <td>2013-11-13</td>\n",
       "      <td>2013-11-13</td>\n",
       "      <td>48.25</td>\n",
       "    </tr>\n",
       "    <tr>\n",
       "      <th>1674</th>\n",
       "      <td>2013-11-14</td>\n",
       "      <td>2013-11-14</td>\n",
       "      <td>54.94</td>\n",
       "    </tr>\n",
       "    <tr>\n",
       "      <th>1675</th>\n",
       "      <td>2013-11-15</td>\n",
       "      <td>2013-11-15</td>\n",
       "      <td>54.94</td>\n",
       "    </tr>\n",
       "    <tr>\n",
       "      <th>1676</th>\n",
       "      <td>2013-11-16</td>\n",
       "      <td>NaT</td>\n",
       "      <td>NaN</td>\n",
       "    </tr>\n",
       "    <tr>\n",
       "      <th>1677</th>\n",
       "      <td>2013-11-17</td>\n",
       "      <td>2013-11-17</td>\n",
       "      <td>52.47</td>\n",
       "    </tr>\n",
       "    <tr>\n",
       "      <th>1678</th>\n",
       "      <td>2013-11-18</td>\n",
       "      <td>2013-11-18</td>\n",
       "      <td>52.42</td>\n",
       "    </tr>\n",
       "    <tr>\n",
       "      <th>1679</th>\n",
       "      <td>2013-11-19</td>\n",
       "      <td>2013-11-19</td>\n",
       "      <td>54.94</td>\n",
       "    </tr>\n",
       "    <tr>\n",
       "      <th>1680</th>\n",
       "      <td>2013-11-20</td>\n",
       "      <td>2013-11-20</td>\n",
       "      <td>54.94</td>\n",
       "    </tr>\n",
       "    <tr>\n",
       "      <th>1681</th>\n",
       "      <td>2013-11-21</td>\n",
       "      <td>2013-11-21</td>\n",
       "      <td>54.94</td>\n",
       "    </tr>\n",
       "    <tr>\n",
       "      <th>1682</th>\n",
       "      <td>2013-11-22</td>\n",
       "      <td>2013-11-22</td>\n",
       "      <td>54.94</td>\n",
       "    </tr>\n",
       "    <tr>\n",
       "      <th>1683</th>\n",
       "      <td>2013-11-23</td>\n",
       "      <td>2013-11-23</td>\n",
       "      <td>54.94</td>\n",
       "    </tr>\n",
       "    <tr>\n",
       "      <th>1684</th>\n",
       "      <td>2013-11-24</td>\n",
       "      <td>2013-11-24</td>\n",
       "      <td>54.94</td>\n",
       "    </tr>\n",
       "    <tr>\n",
       "      <th>1685</th>\n",
       "      <td>2013-11-25</td>\n",
       "      <td>2013-11-25</td>\n",
       "      <td>54.94</td>\n",
       "    </tr>\n",
       "    <tr>\n",
       "      <th>1686</th>\n",
       "      <td>2013-11-26</td>\n",
       "      <td>2013-11-26</td>\n",
       "      <td>54.94</td>\n",
       "    </tr>\n",
       "    <tr>\n",
       "      <th>1687</th>\n",
       "      <td>2013-11-27</td>\n",
       "      <td>2013-11-27</td>\n",
       "      <td>54.94</td>\n",
       "    </tr>\n",
       "    <tr>\n",
       "      <th>1688</th>\n",
       "      <td>2013-11-28</td>\n",
       "      <td>2013-11-28</td>\n",
       "      <td>57.84</td>\n",
       "    </tr>\n",
       "    <tr>\n",
       "      <th>1689</th>\n",
       "      <td>2013-11-29</td>\n",
       "      <td>2013-11-29</td>\n",
       "      <td>55.95</td>\n",
       "    </tr>\n",
       "    <tr>\n",
       "      <th>1690</th>\n",
       "      <td>2013-11-30</td>\n",
       "      <td>2013-11-30</td>\n",
       "      <td>58.95</td>\n",
       "    </tr>\n",
       "    <tr>\n",
       "      <th>1691</th>\n",
       "      <td>2013-12-01</td>\n",
       "      <td>2013-12-01</td>\n",
       "      <td>46.65</td>\n",
       "    </tr>\n",
       "    <tr>\n",
       "      <th>1692</th>\n",
       "      <td>2013-12-02</td>\n",
       "      <td>2013-12-02</td>\n",
       "      <td>51.55</td>\n",
       "    </tr>\n",
       "  </tbody>\n",
       "</table>\n",
       "</div>"
      ],
      "text/plain": [
       "           Date       date  Price\n",
       "1673 2013-11-13 2013-11-13  48.25\n",
       "1674 2013-11-14 2013-11-14  54.94\n",
       "1675 2013-11-15 2013-11-15  54.94\n",
       "1676 2013-11-16        NaT    NaN\n",
       "1677 2013-11-17 2013-11-17  52.47\n",
       "1678 2013-11-18 2013-11-18  52.42\n",
       "1679 2013-11-19 2013-11-19  54.94\n",
       "1680 2013-11-20 2013-11-20  54.94\n",
       "1681 2013-11-21 2013-11-21  54.94\n",
       "1682 2013-11-22 2013-11-22  54.94\n",
       "1683 2013-11-23 2013-11-23  54.94\n",
       "1684 2013-11-24 2013-11-24  54.94\n",
       "1685 2013-11-25 2013-11-25  54.94\n",
       "1686 2013-11-26 2013-11-26  54.94\n",
       "1687 2013-11-27 2013-11-27  54.94\n",
       "1688 2013-11-28 2013-11-28  57.84\n",
       "1689 2013-11-29 2013-11-29  55.95\n",
       "1690 2013-11-30 2013-11-30  58.95\n",
       "1691 2013-12-01 2013-12-01  46.65\n",
       "1692 2013-12-02 2013-12-02  51.55"
      ]
     },
     "execution_count": 28,
     "metadata": {},
     "output_type": "execute_result"
    }
   ],
   "source": [
    "data_all.tail(20) # verifying top 5 records to check if the merging done correctly or not "
   ]
  },
  {
   "cell_type": "code",
   "execution_count": 29,
   "metadata": {},
   "outputs": [],
   "source": [
    "data_all = data_all.drop(['date'],axis=1) # dropping the date variable"
   ]
  },
  {
   "cell_type": "code",
   "execution_count": 30,
   "metadata": {},
   "outputs": [
    {
     "data": {
      "text/html": [
       "<div>\n",
       "<style scoped>\n",
       "    .dataframe tbody tr th:only-of-type {\n",
       "        vertical-align: middle;\n",
       "    }\n",
       "\n",
       "    .dataframe tbody tr th {\n",
       "        vertical-align: top;\n",
       "    }\n",
       "\n",
       "    .dataframe thead th {\n",
       "        text-align: right;\n",
       "    }\n",
       "</style>\n",
       "<table border=\"1\" class=\"dataframe\">\n",
       "  <thead>\n",
       "    <tr style=\"text-align: right;\">\n",
       "      <th></th>\n",
       "      <th>Date</th>\n",
       "      <th>Price</th>\n",
       "    </tr>\n",
       "  </thead>\n",
       "  <tbody>\n",
       "    <tr>\n",
       "      <th>0</th>\n",
       "      <td>2009-04-15</td>\n",
       "      <td>58.65</td>\n",
       "    </tr>\n",
       "    <tr>\n",
       "      <th>1</th>\n",
       "      <td>2009-04-16</td>\n",
       "      <td>58.65</td>\n",
       "    </tr>\n",
       "    <tr>\n",
       "      <th>2</th>\n",
       "      <td>2009-04-17</td>\n",
       "      <td>58.65</td>\n",
       "    </tr>\n",
       "    <tr>\n",
       "      <th>3</th>\n",
       "      <td>2009-04-18</td>\n",
       "      <td>79.64</td>\n",
       "    </tr>\n",
       "    <tr>\n",
       "      <th>4</th>\n",
       "      <td>2009-04-19</td>\n",
       "      <td>NaN</td>\n",
       "    </tr>\n",
       "    <tr>\n",
       "      <th>5</th>\n",
       "      <td>2009-04-20</td>\n",
       "      <td>NaN</td>\n",
       "    </tr>\n",
       "    <tr>\n",
       "      <th>6</th>\n",
       "      <td>2009-04-21</td>\n",
       "      <td>NaN</td>\n",
       "    </tr>\n",
       "    <tr>\n",
       "      <th>7</th>\n",
       "      <td>2009-04-22</td>\n",
       "      <td>NaN</td>\n",
       "    </tr>\n",
       "    <tr>\n",
       "      <th>8</th>\n",
       "      <td>2009-04-23</td>\n",
       "      <td>NaN</td>\n",
       "    </tr>\n",
       "    <tr>\n",
       "      <th>9</th>\n",
       "      <td>2009-04-24</td>\n",
       "      <td>NaN</td>\n",
       "    </tr>\n",
       "  </tbody>\n",
       "</table>\n",
       "</div>"
      ],
      "text/plain": [
       "        Date  Price\n",
       "0 2009-04-15  58.65\n",
       "1 2009-04-16  58.65\n",
       "2 2009-04-17  58.65\n",
       "3 2009-04-18  79.64\n",
       "4 2009-04-19    NaN\n",
       "5 2009-04-20    NaN\n",
       "6 2009-04-21    NaN\n",
       "7 2009-04-22    NaN\n",
       "8 2009-04-23    NaN\n",
       "9 2009-04-24    NaN"
      ]
     },
     "execution_count": 30,
     "metadata": {},
     "output_type": "execute_result"
    }
   ],
   "source": [
    "data_all.head(10)"
   ]
  },
  {
   "cell_type": "markdown",
   "metadata": {},
   "source": [
    "### Handling the missing values"
   ]
  },
  {
   "cell_type": "code",
   "execution_count": 31,
   "metadata": {},
   "outputs": [],
   "source": [
    "s = pd.Series([1,np.nan,3,4,5,6,7])"
   ]
  },
  {
   "cell_type": "code",
   "execution_count": 32,
   "metadata": {},
   "outputs": [
    {
     "data": {
      "text/plain": [
       "0    1.0\n",
       "1    2.0\n",
       "2    3.0\n",
       "3    4.0\n",
       "4    5.0\n",
       "5    6.0\n",
       "6    7.0\n",
       "dtype: float64"
      ]
     },
     "execution_count": 32,
     "metadata": {},
     "output_type": "execute_result"
    }
   ],
   "source": [
    "s.interpolate(method='linear',limit_direction='forward')"
   ]
  },
  {
   "cell_type": "code",
   "execution_count": 33,
   "metadata": {},
   "outputs": [
    {
     "data": {
      "text/plain": [
       "0    1.0\n",
       "1    2.0\n",
       "2    3.0\n",
       "3    4.0\n",
       "4    5.0\n",
       "5    6.0\n",
       "6    7.0\n",
       "dtype: float64"
      ]
     },
     "execution_count": 33,
     "metadata": {},
     "output_type": "execute_result"
    }
   ],
   "source": [
    "s.interpolate(method='linear',limit_direction='backward')"
   ]
  },
  {
   "cell_type": "code",
   "execution_count": 34,
   "metadata": {},
   "outputs": [
    {
     "data": {
      "text/plain": [
       "0    1.0\n",
       "1    1.0\n",
       "2    3.0\n",
       "3    4.0\n",
       "4    5.0\n",
       "5    6.0\n",
       "6    7.0\n",
       "dtype: float64"
      ]
     },
     "execution_count": 34,
     "metadata": {},
     "output_type": "execute_result"
    }
   ],
   "source": [
    "s.interpolate(method='pad',limit=2)"
   ]
  },
  {
   "cell_type": "code",
   "execution_count": 35,
   "metadata": {},
   "outputs": [],
   "source": [
    "data_all['Price'] = data_all['Price'].interpolate(method='linear',limit_direction='forward')"
   ]
  },
  {
   "cell_type": "code",
   "execution_count": 36,
   "metadata": {},
   "outputs": [],
   "source": [
    "data_nomiss = data_all.copy()"
   ]
  },
  {
   "cell_type": "code",
   "execution_count": 37,
   "metadata": {},
   "outputs": [
    {
     "data": {
      "text/html": [
       "<div>\n",
       "<style scoped>\n",
       "    .dataframe tbody tr th:only-of-type {\n",
       "        vertical-align: middle;\n",
       "    }\n",
       "\n",
       "    .dataframe tbody tr th {\n",
       "        vertical-align: top;\n",
       "    }\n",
       "\n",
       "    .dataframe thead th {\n",
       "        text-align: right;\n",
       "    }\n",
       "</style>\n",
       "<table border=\"1\" class=\"dataframe\">\n",
       "  <thead>\n",
       "    <tr style=\"text-align: right;\">\n",
       "      <th></th>\n",
       "      <th>Date</th>\n",
       "      <th>Price</th>\n",
       "    </tr>\n",
       "  </thead>\n",
       "  <tbody>\n",
       "    <tr>\n",
       "      <th>0</th>\n",
       "      <td>2009-04-15</td>\n",
       "      <td>58.650000</td>\n",
       "    </tr>\n",
       "    <tr>\n",
       "      <th>1</th>\n",
       "      <td>2009-04-16</td>\n",
       "      <td>58.650000</td>\n",
       "    </tr>\n",
       "    <tr>\n",
       "      <th>2</th>\n",
       "      <td>2009-04-17</td>\n",
       "      <td>58.650000</td>\n",
       "    </tr>\n",
       "    <tr>\n",
       "      <th>3</th>\n",
       "      <td>2009-04-18</td>\n",
       "      <td>79.640000</td>\n",
       "    </tr>\n",
       "    <tr>\n",
       "      <th>4</th>\n",
       "      <td>2009-04-19</td>\n",
       "      <td>80.505238</td>\n",
       "    </tr>\n",
       "    <tr>\n",
       "      <th>5</th>\n",
       "      <td>2009-04-20</td>\n",
       "      <td>81.370476</td>\n",
       "    </tr>\n",
       "    <tr>\n",
       "      <th>6</th>\n",
       "      <td>2009-04-21</td>\n",
       "      <td>82.235714</td>\n",
       "    </tr>\n",
       "    <tr>\n",
       "      <th>7</th>\n",
       "      <td>2009-04-22</td>\n",
       "      <td>83.100952</td>\n",
       "    </tr>\n",
       "    <tr>\n",
       "      <th>8</th>\n",
       "      <td>2009-04-23</td>\n",
       "      <td>83.966190</td>\n",
       "    </tr>\n",
       "    <tr>\n",
       "      <th>9</th>\n",
       "      <td>2009-04-24</td>\n",
       "      <td>84.831429</td>\n",
       "    </tr>\n",
       "  </tbody>\n",
       "</table>\n",
       "</div>"
      ],
      "text/plain": [
       "        Date      Price\n",
       "0 2009-04-15  58.650000\n",
       "1 2009-04-16  58.650000\n",
       "2 2009-04-17  58.650000\n",
       "3 2009-04-18  79.640000\n",
       "4 2009-04-19  80.505238\n",
       "5 2009-04-20  81.370476\n",
       "6 2009-04-21  82.235714\n",
       "7 2009-04-22  83.100952\n",
       "8 2009-04-23  83.966190\n",
       "9 2009-04-24  84.831429"
      ]
     },
     "execution_count": 37,
     "metadata": {},
     "output_type": "execute_result"
    }
   ],
   "source": [
    "data_nomiss.head(10)"
   ]
  },
  {
   "cell_type": "code",
   "execution_count": 38,
   "metadata": {},
   "outputs": [
    {
     "data": {
      "text/plain": [
       "[<matplotlib.lines.Line2D at 0x7f1753694710>]"
      ]
     },
     "execution_count": 38,
     "metadata": {},
     "output_type": "execute_result"
    },
    {
     "data": {
      "image/png": "[encoded data removed]",
      "text/plain": [
       "<Figure size 432x288 with 1 Axes>"
      ]
     },
     "metadata": {
      "needs_background": "light"
     },
     "output_type": "display_data"
    }
   ],
   "source": [
    "plt.plot(data_nomiss.Price)"
   ]
  },
  {
   "cell_type": "code",
   "execution_count": 39,
   "metadata": {},
   "outputs": [],
   "source": [
    "data_nomiss['Month'] = data_nomiss['Date'].dt.month \n",
    "data_nomiss['Year'] = data_nomiss['Date'].dt.year "
   ]
  },
  {
   "cell_type": "code",
   "execution_count": 40,
   "metadata": {},
   "outputs": [
    {
     "data": {
      "text/html": [
       "<div>\n",
       "<style scoped>\n",
       "    .dataframe tbody tr th:only-of-type {\n",
       "        vertical-align: middle;\n",
       "    }\n",
       "\n",
       "    .dataframe tbody tr th {\n",
       "        vertical-align: top;\n",
       "    }\n",
       "\n",
       "    .dataframe thead th {\n",
       "        text-align: right;\n",
       "    }\n",
       "</style>\n",
       "<table border=\"1\" class=\"dataframe\">\n",
       "  <thead>\n",
       "    <tr style=\"text-align: right;\">\n",
       "      <th></th>\n",
       "      <th>Date</th>\n",
       "      <th>Price</th>\n",
       "      <th>Month</th>\n",
       "      <th>Year</th>\n",
       "    </tr>\n",
       "  </thead>\n",
       "  <tbody>\n",
       "    <tr>\n",
       "      <th>0</th>\n",
       "      <td>2009-04-15</td>\n",
       "      <td>58.650000</td>\n",
       "      <td>4</td>\n",
       "      <td>2009</td>\n",
       "    </tr>\n",
       "    <tr>\n",
       "      <th>1</th>\n",
       "      <td>2009-04-16</td>\n",
       "      <td>58.650000</td>\n",
       "      <td>4</td>\n",
       "      <td>2009</td>\n",
       "    </tr>\n",
       "    <tr>\n",
       "      <th>2</th>\n",
       "      <td>2009-04-17</td>\n",
       "      <td>58.650000</td>\n",
       "      <td>4</td>\n",
       "      <td>2009</td>\n",
       "    </tr>\n",
       "    <tr>\n",
       "      <th>3</th>\n",
       "      <td>2009-04-18</td>\n",
       "      <td>79.640000</td>\n",
       "      <td>4</td>\n",
       "      <td>2009</td>\n",
       "    </tr>\n",
       "    <tr>\n",
       "      <th>4</th>\n",
       "      <td>2009-04-19</td>\n",
       "      <td>80.505238</td>\n",
       "      <td>4</td>\n",
       "      <td>2009</td>\n",
       "    </tr>\n",
       "  </tbody>\n",
       "</table>\n",
       "</div>"
      ],
      "text/plain": [
       "        Date      Price  Month  Year\n",
       "0 2009-04-15  58.650000      4  2009\n",
       "1 2009-04-16  58.650000      4  2009\n",
       "2 2009-04-17  58.650000      4  2009\n",
       "3 2009-04-18  79.640000      4  2009\n",
       "4 2009-04-19  80.505238      4  2009"
      ]
     },
     "execution_count": 40,
     "metadata": {},
     "output_type": "execute_result"
    }
   ],
   "source": [
    "data_nomiss.head()"
   ]
  },
  {
   "cell_type": "code",
   "execution_count": 41,
   "metadata": {},
   "outputs": [],
   "source": [
    "agg_data = pd.DataFrame(data_nomiss.groupby(['Year','Month'],as_index=False)['Price'].mean())"
   ]
  },
  {
   "cell_type": "code",
   "execution_count": 42,
   "metadata": {},
   "outputs": [
    {
     "data": {
      "text/plain": [
       "[<matplotlib.lines.Line2D at 0x7f17535b7bd0>]"
      ]
     },
     "execution_count": 42,
     "metadata": {},
     "output_type": "execute_result"
    },
    {
     "data": {
      "image/png": "[encoded data removed]",
      "text/plain": [
       "<Figure size 432x288 with 1 Axes>"
      ]
     },
     "metadata": {
      "needs_background": "light"
     },
     "output_type": "display_data"
    }
   ],
   "source": [
    "plt.plot(agg_data['Price'])"
   ]
  },
  {
   "cell_type": "code",
   "execution_count": 43,
   "metadata": {},
   "outputs": [
    {
     "data": {
      "text/html": [
       "<div>\n",
       "<style scoped>\n",
       "    .dataframe tbody tr th:only-of-type {\n",
       "        vertical-align: middle;\n",
       "    }\n",
       "\n",
       "    .dataframe tbody tr th {\n",
       "        vertical-align: top;\n",
       "    }\n",
       "\n",
       "    .dataframe thead th {\n",
       "        text-align: right;\n",
       "    }\n",
       "</style>\n",
       "<table border=\"1\" class=\"dataframe\">\n",
       "  <thead>\n",
       "    <tr style=\"text-align: right;\">\n",
       "      <th></th>\n",
       "      <th>Year</th>\n",
       "      <th>Month</th>\n",
       "      <th>Price</th>\n",
       "    </tr>\n",
       "  </thead>\n",
       "  <tbody>\n",
       "    <tr>\n",
       "      <th>0</th>\n",
       "      <td>2009</td>\n",
       "      <td>4</td>\n",
       "      <td>79.922411</td>\n",
       "    </tr>\n",
       "    <tr>\n",
       "      <th>1</th>\n",
       "      <td>2009</td>\n",
       "      <td>5</td>\n",
       "      <td>103.838756</td>\n",
       "    </tr>\n",
       "    <tr>\n",
       "      <th>2</th>\n",
       "      <td>2009</td>\n",
       "      <td>6</td>\n",
       "      <td>111.713333</td>\n",
       "    </tr>\n",
       "    <tr>\n",
       "      <th>3</th>\n",
       "      <td>2009</td>\n",
       "      <td>7</td>\n",
       "      <td>109.580000</td>\n",
       "    </tr>\n",
       "    <tr>\n",
       "      <th>4</th>\n",
       "      <td>2009</td>\n",
       "      <td>8</td>\n",
       "      <td>100.662903</td>\n",
       "    </tr>\n",
       "    <tr>\n",
       "      <th>5</th>\n",
       "      <td>2009</td>\n",
       "      <td>9</td>\n",
       "      <td>89.320833</td>\n",
       "    </tr>\n",
       "    <tr>\n",
       "      <th>6</th>\n",
       "      <td>2009</td>\n",
       "      <td>10</td>\n",
       "      <td>85.522581</td>\n",
       "    </tr>\n",
       "    <tr>\n",
       "      <th>7</th>\n",
       "      <td>2009</td>\n",
       "      <td>11</td>\n",
       "      <td>83.595000</td>\n",
       "    </tr>\n",
       "    <tr>\n",
       "      <th>8</th>\n",
       "      <td>2009</td>\n",
       "      <td>12</td>\n",
       "      <td>86.476774</td>\n",
       "    </tr>\n",
       "    <tr>\n",
       "      <th>9</th>\n",
       "      <td>2010</td>\n",
       "      <td>1</td>\n",
       "      <td>94.561613</td>\n",
       "    </tr>\n",
       "  </tbody>\n",
       "</table>\n",
       "</div>"
      ],
      "text/plain": [
       "   Year  Month       Price\n",
       "0  2009      4   79.922411\n",
       "1  2009      5  103.838756\n",
       "2  2009      6  111.713333\n",
       "3  2009      7  109.580000\n",
       "4  2009      8  100.662903\n",
       "5  2009      9   89.320833\n",
       "6  2009     10   85.522581\n",
       "7  2009     11   83.595000\n",
       "8  2009     12   86.476774\n",
       "9  2010      1   94.561613"
      ]
     },
     "execution_count": 43,
     "metadata": {},
     "output_type": "execute_result"
    }
   ],
   "source": [
    "agg_data[:10]"
   ]
  },
  {
   "cell_type": "code",
   "execution_count": 44,
   "metadata": {},
   "outputs": [],
   "source": [
    "agg_data['Date'] = pd.to_datetime(agg_data[['Year','Month']].assign(Day=1)) # adding the date variable "
   ]
  },
  {
   "cell_type": "code",
   "execution_count": 45,
   "metadata": {},
   "outputs": [
    {
     "data": {
      "text/html": [
       "<div>\n",
       "<style scoped>\n",
       "    .dataframe tbody tr th:only-of-type {\n",
       "        vertical-align: middle;\n",
       "    }\n",
       "\n",
       "    .dataframe tbody tr th {\n",
       "        vertical-align: top;\n",
       "    }\n",
       "\n",
       "    .dataframe thead th {\n",
       "        text-align: right;\n",
       "    }\n",
       "</style>\n",
       "<table border=\"1\" class=\"dataframe\">\n",
       "  <thead>\n",
       "    <tr style=\"text-align: right;\">\n",
       "      <th></th>\n",
       "      <th>Year</th>\n",
       "      <th>Month</th>\n",
       "      <th>Price</th>\n",
       "      <th>Date</th>\n",
       "    </tr>\n",
       "  </thead>\n",
       "  <tbody>\n",
       "    <tr>\n",
       "      <th>0</th>\n",
       "      <td>2009</td>\n",
       "      <td>4</td>\n",
       "      <td>79.922411</td>\n",
       "      <td>2009-04-01</td>\n",
       "    </tr>\n",
       "    <tr>\n",
       "      <th>1</th>\n",
       "      <td>2009</td>\n",
       "      <td>5</td>\n",
       "      <td>103.838756</td>\n",
       "      <td>2009-05-01</td>\n",
       "    </tr>\n",
       "    <tr>\n",
       "      <th>2</th>\n",
       "      <td>2009</td>\n",
       "      <td>6</td>\n",
       "      <td>111.713333</td>\n",
       "      <td>2009-06-01</td>\n",
       "    </tr>\n",
       "    <tr>\n",
       "      <th>3</th>\n",
       "      <td>2009</td>\n",
       "      <td>7</td>\n",
       "      <td>109.580000</td>\n",
       "      <td>2009-07-01</td>\n",
       "    </tr>\n",
       "    <tr>\n",
       "      <th>4</th>\n",
       "      <td>2009</td>\n",
       "      <td>8</td>\n",
       "      <td>100.662903</td>\n",
       "      <td>2009-08-01</td>\n",
       "    </tr>\n",
       "  </tbody>\n",
       "</table>\n",
       "</div>"
      ],
      "text/plain": [
       "   Year  Month       Price       Date\n",
       "0  2009      4   79.922411 2009-04-01\n",
       "1  2009      5  103.838756 2009-05-01\n",
       "2  2009      6  111.713333 2009-06-01\n",
       "3  2009      7  109.580000 2009-07-01\n",
       "4  2009      8  100.662903 2009-08-01"
      ]
     },
     "execution_count": 45,
     "metadata": {},
     "output_type": "execute_result"
    }
   ],
   "source": [
    "agg_data.head()"
   ]
  },
  {
   "cell_type": "code",
   "execution_count": 46,
   "metadata": {},
   "outputs": [
    {
     "data": {
      "text/plain": [
       "(57, 4)"
      ]
     },
     "execution_count": 46,
     "metadata": {},
     "output_type": "execute_result"
    }
   ],
   "source": [
    "agg_data.shape"
   ]
  },
  {
   "cell_type": "code",
   "execution_count": 47,
   "metadata": {
    "scrolled": true
   },
   "outputs": [
    {
     "data": {
      "text/plain": [
       "array([ 1,  2,  3,  4,  5,  6,  7,  8,  9, 10, 11, 12, 13, 14, 15, 16, 17,\n",
       "       18, 19, 20, 21, 22, 23, 24, 25, 26, 27, 28, 29, 30, 31, 32, 33, 34,\n",
       "       35, 36, 37, 38, 39, 40, 41, 42, 43, 44, 45, 46, 47, 48, 49, 50, 51,\n",
       "       52, 53, 54, 55, 56])"
      ]
     },
     "execution_count": 47,
     "metadata": {},
     "output_type": "execute_result"
    }
   ],
   "source": [
    "np.arange(1,len(agg_data))"
   ]
  },
  {
   "cell_type": "code",
   "execution_count": 48,
   "metadata": {},
   "outputs": [],
   "source": [
    "agg_data['Time_seq'] = np.arange(1,len(agg_data)+1)"
   ]
  },
  {
   "cell_type": "code",
   "execution_count": 49,
   "metadata": {},
   "outputs": [],
   "source": [
    "agg_data = agg_data.drop(['Year'],axis=1)\n"
   ]
  },
  {
   "cell_type": "code",
   "execution_count": 50,
   "metadata": {
    "scrolled": true
   },
   "outputs": [
    {
     "data": {
      "text/html": [
       "<div>\n",
       "<style scoped>\n",
       "    .dataframe tbody tr th:only-of-type {\n",
       "        vertical-align: middle;\n",
       "    }\n",
       "\n",
       "    .dataframe tbody tr th {\n",
       "        vertical-align: top;\n",
       "    }\n",
       "\n",
       "    .dataframe thead th {\n",
       "        text-align: right;\n",
       "    }\n",
       "</style>\n",
       "<table border=\"1\" class=\"dataframe\">\n",
       "  <thead>\n",
       "    <tr style=\"text-align: right;\">\n",
       "      <th></th>\n",
       "      <th>Month</th>\n",
       "      <th>Price</th>\n",
       "      <th>Date</th>\n",
       "      <th>Time_seq</th>\n",
       "    </tr>\n",
       "  </thead>\n",
       "  <tbody>\n",
       "    <tr>\n",
       "      <th>52</th>\n",
       "      <td>8</td>\n",
       "      <td>74.991129</td>\n",
       "      <td>2013-08-01</td>\n",
       "      <td>53</td>\n",
       "    </tr>\n",
       "    <tr>\n",
       "      <th>53</th>\n",
       "      <td>9</td>\n",
       "      <td>66.848000</td>\n",
       "      <td>2013-09-01</td>\n",
       "      <td>54</td>\n",
       "    </tr>\n",
       "    <tr>\n",
       "      <th>54</th>\n",
       "      <td>10</td>\n",
       "      <td>41.663871</td>\n",
       "      <td>2013-10-01</td>\n",
       "      <td>55</td>\n",
       "    </tr>\n",
       "    <tr>\n",
       "      <th>55</th>\n",
       "      <td>11</td>\n",
       "      <td>50.784500</td>\n",
       "      <td>2013-11-01</td>\n",
       "      <td>56</td>\n",
       "    </tr>\n",
       "    <tr>\n",
       "      <th>56</th>\n",
       "      <td>12</td>\n",
       "      <td>49.100000</td>\n",
       "      <td>2013-12-01</td>\n",
       "      <td>57</td>\n",
       "    </tr>\n",
       "  </tbody>\n",
       "</table>\n",
       "</div>"
      ],
      "text/plain": [
       "    Month      Price       Date  Time_seq\n",
       "52      8  74.991129 2013-08-01        53\n",
       "53      9  66.848000 2013-09-01        54\n",
       "54     10  41.663871 2013-10-01        55\n",
       "55     11  50.784500 2013-11-01        56\n",
       "56     12  49.100000 2013-12-01        57"
      ]
     },
     "execution_count": 50,
     "metadata": {},
     "output_type": "execute_result"
    }
   ],
   "source": [
    "agg_data.tail()"
   ]
  },
  {
   "cell_type": "code",
   "execution_count": 51,
   "metadata": {},
   "outputs": [],
   "source": [
    "agg_data.set_index('Date',inplace=True)"
   ]
  },
  {
   "cell_type": "code",
   "execution_count": 52,
   "metadata": {},
   "outputs": [],
   "source": [
    "train = agg_data.loc[agg_data.Time_seq <49,]\n",
    "test = agg_data.loc[agg_data.Time_seq >=49,]"
   ]
  },
  {
   "cell_type": "markdown",
   "metadata": {},
   "source": [
    "print(train.shape)\n",
    "print(test.shape)"
   ]
  },
  {
   "cell_type": "code",
   "execution_count": 53,
   "metadata": {},
   "outputs": [
    {
     "name": "stdout",
     "output_type": "stream",
     "text": [
      "2009-04-01 00:00:00\n",
      "2013-03-01 00:00:00\n",
      "2013-04-01 00:00:00\n",
      "2013-12-01 00:00:00\n"
     ]
    }
   ],
   "source": [
    "print(train.index.min())\n",
    "print(train.index.max())\n",
    "print(test.index.min())\n",
    "print(test.index.max())"
   ]
  },
  {
   "cell_type": "code",
   "execution_count": 54,
   "metadata": {},
   "outputs": [
    {
     "data": {
      "image/png": "[encoded data removed]",
      "text/plain": [
       "<Figure size 432x288 with 1 Axes>"
      ]
     },
     "metadata": {
      "needs_background": "light"
     },
     "output_type": "display_data"
    },
    {
     "data": {
      "image/png": "[encoded data removed]",
      "text/plain": [
       "<Figure size 432x288 with 1 Axes>"
      ]
     },
     "metadata": {
      "needs_background": "light"
     },
     "output_type": "display_data"
    }
   ],
   "source": [
    "# Visualize train data\n",
    "fig, ax = plt.subplots()\n",
    "lines = plt.plot(train.index, train.Price, '-o')\n",
    "plt.setp(lines, linewidth=1.0)\n",
    "plt.xticks(rotation = 45)\n",
    "plt.title('Monthly Mean Price (Train)')\n",
    "plt.xlabel('Months')\n",
    "plt.ylabel('Price')\n",
    "plt.legend(['Mean Price'],loc = 'best')\n",
    "plt.show()\n",
    "fig, ax = plt.subplots()\n",
    "lines = plt.plot(test.index, test.Price, '-o')\n",
    "plt.setp(lines, linewidth=1.0)\n",
    "plt.xticks(rotation = 45)\n",
    "plt.title('Monthly Mean Price (Train)')\n",
    "plt.xlabel('Months')\n",
    "plt.ylabel('Price')\n",
    "plt.legend(['Mean Price'],loc = 'best')\n",
    "plt.show()"
   ]
  },
  {
   "cell_type": "code",
   "execution_count": 55,
   "metadata": {},
   "outputs": [],
   "source": [
    "from statsmodels.tsa.seasonal import seasonal_decompose\n",
    "from statsmodels.tsa.api import ExponentialSmoothing,SimpleExpSmoothing,Holt\n",
    "from statsmodels.graphics.tsaplots import plot_acf,plot_pacf"
   ]
  },
  {
   "cell_type": "code",
   "execution_count": 56,
   "metadata": {},
   "outputs": [
    {
     "name": "stderr",
     "output_type": "stream",
     "text": [
      "/usr/share/anaconda3/lib/python3.7/site-packages/ipykernel_launcher.py:1: FutureWarning: the 'freq'' keyword is deprecated, use 'period' instead\n",
      "  \"\"\"Entry point for launching an IPython kernel.\n"
     ]
    },
    {
     "data": {
      "image/png": "[encoded data removed]",
      "text/plain": [
       "<Figure size 432x288 with 4 Axes>"
      ]
     },
     "metadata": {
      "needs_background": "light"
     },
     "output_type": "display_data"
    }
   ],
   "source": [
    "decomposition = seasonal_decompose(train.Price,freq=12)\n",
    "decomposition.plot()\n",
    "plt.show()"
   ]
  },
  {
   "cell_type": "code",
   "execution_count": 57,
   "metadata": {
    "scrolled": true
   },
   "outputs": [
    {
     "name": "stderr",
     "output_type": "stream",
     "text": [
      "/usr/share/anaconda3/lib/python3.7/site-packages/ipykernel_launcher.py:1: FutureWarning: the 'freq'' keyword is deprecated, use 'period' instead\n",
      "  \"\"\"Entry point for launching an IPython kernel.\n"
     ]
    },
    {
     "data": {
      "image/png": "[encoded data removed]",
      "text/plain": [
       "<Figure size 432x288 with 4 Axes>"
      ]
     },
     "metadata": {
      "needs_background": "light"
     },
     "output_type": "display_data"
    }
   ],
   "source": [
    "decomposition = seasonal_decompose(train.Price.diff(1)[1:],freq=12)\n",
    "decomposition.plot()\n",
    "plt.show()"
   ]
  },
  {
   "cell_type": "code",
   "execution_count": 58,
   "metadata": {},
   "outputs": [
    {
     "data": {
      "image/png": "[encoded data removed]",
      "text/plain": [
       "<Figure size 432x288 with 4 Axes>"
      ]
     },
     "metadata": {
      "needs_background": "light"
     },
     "output_type": "display_data"
    }
   ],
   "source": [
    "decomposition.plot()\n",
    "plt.show()"
   ]
  },
  {
   "cell_type": "markdown",
   "metadata": {},
   "source": [
    "### Time Series Modelling "
   ]
  },
  {
   "cell_type": "code",
   "execution_count": 59,
   "metadata": {},
   "outputs": [],
   "source": [
    "import statsmodels.api as sm # loadig the modules to build the regression model"
   ]
  },
  {
   "cell_type": "code",
   "execution_count": 60,
   "metadata": {},
   "outputs": [],
   "source": [
    "lm = sm.OLS(train.Price,train.Time_seq)"
   ]
  },
  {
   "cell_type": "code",
   "execution_count": 61,
   "metadata": {},
   "outputs": [
    {
     "name": "stdout",
     "output_type": "stream",
     "text": [
      "                                 OLS Regression Results                                \n",
      "=======================================================================================\n",
      "Dep. Variable:                  Price   R-squared (uncentered):                   0.593\n",
      "Model:                            OLS   Adj. R-squared (uncentered):              0.584\n",
      "Method:                 Least Squares   F-statistic:                              68.38\n",
      "Date:                Sat, 04 Jun 2022   Prob (F-statistic):                    1.01e-10\n",
      "Time:                        09:57:18   Log-Likelihood:                         -255.25\n",
      "No. Observations:                  48   AIC:                                      512.5\n",
      "Df Residuals:                      47   BIC:                                      514.4\n",
      "Df Model:                           1                                                  \n",
      "Covariance Type:            nonrobust                                                  \n",
      "==============================================================================\n",
      "                 coef    std err          t      P>|t|      [0.025      0.975]\n",
      "------------------------------------------------------------------------------\n",
      "Time_seq       2.1145      0.256      8.270      0.000       1.600       2.629\n",
      "==============================================================================\n",
      "Omnibus:                        5.997   Durbin-Watson:                   0.035\n",
      "Prob(Omnibus):                  0.050   Jarque-Bera (JB):                2.194\n",
      "Skew:                           0.040   Prob(JB):                        0.334\n",
      "Kurtosis:                       1.956   Cond. No.                         1.00\n",
      "==============================================================================\n",
      "\n",
      "Warnings:\n",
      "[1] Standard Errors assume that the covariance matrix of the errors is correctly specified.\n"
     ]
    }
   ],
   "source": [
    "lm = lm.fit()\n",
    "print(lm.summary())"
   ]
  },
  {
   "cell_type": "code",
   "execution_count": 62,
   "metadata": {},
   "outputs": [
    {
     "data": {
      "text/plain": [
       "Date\n",
       "2009-04-01     2.114488\n",
       "2009-05-01     4.228976\n",
       "2009-06-01     6.343463\n",
       "2009-07-01     8.457951\n",
       "2009-08-01    10.572439\n",
       "2009-09-01    12.686927\n",
       "2009-10-01    14.801414\n",
       "2009-11-01    16.915902\n",
       "2009-12-01    19.030390\n",
       "2010-01-01    21.144878\n",
       "dtype: float64"
      ]
     },
     "execution_count": 62,
     "metadata": {},
     "output_type": "execute_result"
    }
   ],
   "source": [
    "lm.fittedvalues[:10]"
   ]
  },
  {
   "cell_type": "code",
   "execution_count": 63,
   "metadata": {},
   "outputs": [],
   "source": [
    "pred_test = lm.predict(test.Time_seq)"
   ]
  },
  {
   "cell_type": "code",
   "execution_count": 64,
   "metadata": {},
   "outputs": [
    {
     "data": {
      "image/png": "[encoded data removed]",
      "text/plain": [
       "<Figure size 1152x576 with 1 Axes>"
      ]
     },
     "metadata": {
      "needs_background": "light"
     },
     "output_type": "display_data"
    }
   ],
   "source": [
    "#Plot the predicted data\n",
    "model_forecast = test.copy()\n",
    "model_forecast['linear_reg_forecast'] = pred_test\n",
    "plt.figure(figsize=(16,8))\n",
    "plt.plot(train['Price'], label='Train')\n",
    "plt.plot(test['Price'], label='Test',color='green')\n",
    "plt.plot(model_forecast['linear_reg_forecast'], label='linear_reg_forecast',color = 'red')\n",
    "plt.show()"
   ]
  },
  {
   "cell_type": "code",
   "execution_count": 65,
   "metadata": {},
   "outputs": [
    {
     "data": {
      "text/html": [
       "<div>\n",
       "<style scoped>\n",
       "    .dataframe tbody tr th:only-of-type {\n",
       "        vertical-align: middle;\n",
       "    }\n",
       "\n",
       "    .dataframe tbody tr th {\n",
       "        vertical-align: top;\n",
       "    }\n",
       "\n",
       "    .dataframe thead th {\n",
       "        text-align: right;\n",
       "    }\n",
       "</style>\n",
       "<table border=\"1\" class=\"dataframe\">\n",
       "  <thead>\n",
       "    <tr style=\"text-align: right;\">\n",
       "      <th></th>\n",
       "      <th>Month</th>\n",
       "      <th>Price</th>\n",
       "      <th>Time_seq</th>\n",
       "      <th>linear_reg_forecast</th>\n",
       "    </tr>\n",
       "    <tr>\n",
       "      <th>Date</th>\n",
       "      <th></th>\n",
       "      <th></th>\n",
       "      <th></th>\n",
       "      <th></th>\n",
       "    </tr>\n",
       "  </thead>\n",
       "  <tbody>\n",
       "    <tr>\n",
       "      <th>2013-04-01</th>\n",
       "      <td>4</td>\n",
       "      <td>48.792000</td>\n",
       "      <td>49</td>\n",
       "      <td>103.609901</td>\n",
       "    </tr>\n",
       "    <tr>\n",
       "      <th>2013-05-01</th>\n",
       "      <td>5</td>\n",
       "      <td>56.641290</td>\n",
       "      <td>50</td>\n",
       "      <td>105.724389</td>\n",
       "    </tr>\n",
       "    <tr>\n",
       "      <th>2013-06-01</th>\n",
       "      <td>6</td>\n",
       "      <td>63.586333</td>\n",
       "      <td>51</td>\n",
       "      <td>107.838877</td>\n",
       "    </tr>\n",
       "    <tr>\n",
       "      <th>2013-07-01</th>\n",
       "      <td>7</td>\n",
       "      <td>61.783548</td>\n",
       "      <td>52</td>\n",
       "      <td>109.953365</td>\n",
       "    </tr>\n",
       "    <tr>\n",
       "      <th>2013-08-01</th>\n",
       "      <td>8</td>\n",
       "      <td>74.991129</td>\n",
       "      <td>53</td>\n",
       "      <td>112.067853</td>\n",
       "    </tr>\n",
       "    <tr>\n",
       "      <th>2013-09-01</th>\n",
       "      <td>9</td>\n",
       "      <td>66.848000</td>\n",
       "      <td>54</td>\n",
       "      <td>114.182340</td>\n",
       "    </tr>\n",
       "    <tr>\n",
       "      <th>2013-10-01</th>\n",
       "      <td>10</td>\n",
       "      <td>41.663871</td>\n",
       "      <td>55</td>\n",
       "      <td>116.296828</td>\n",
       "    </tr>\n",
       "    <tr>\n",
       "      <th>2013-11-01</th>\n",
       "      <td>11</td>\n",
       "      <td>50.784500</td>\n",
       "      <td>56</td>\n",
       "      <td>118.411316</td>\n",
       "    </tr>\n",
       "    <tr>\n",
       "      <th>2013-12-01</th>\n",
       "      <td>12</td>\n",
       "      <td>49.100000</td>\n",
       "      <td>57</td>\n",
       "      <td>120.525804</td>\n",
       "    </tr>\n",
       "  </tbody>\n",
       "</table>\n",
       "</div>"
      ],
      "text/plain": [
       "            Month      Price  Time_seq  linear_reg_forecast\n",
       "Date                                                       \n",
       "2013-04-01      4  48.792000        49           103.609901\n",
       "2013-05-01      5  56.641290        50           105.724389\n",
       "2013-06-01      6  63.586333        51           107.838877\n",
       "2013-07-01      7  61.783548        52           109.953365\n",
       "2013-08-01      8  74.991129        53           112.067853\n",
       "2013-09-01      9  66.848000        54           114.182340\n",
       "2013-10-01     10  41.663871        55           116.296828\n",
       "2013-11-01     11  50.784500        56           118.411316\n",
       "2013-12-01     12  49.100000        57           120.525804"
      ]
     },
     "execution_count": 65,
     "metadata": {},
     "output_type": "execute_result"
    }
   ],
   "source": [
    "model_forecast"
   ]
  },
  {
   "cell_type": "code",
   "execution_count": 66,
   "metadata": {},
   "outputs": [],
   "source": [
    "from sklearn import metrics"
   ]
  },
  {
   "cell_type": "markdown",
   "metadata": {},
   "source": [
    "## Evaluating the model"
   ]
  },
  {
   "cell_type": "code",
   "execution_count": 67,
   "metadata": {},
   "outputs": [],
   "source": [
    "def error_metrics(train_act,train_pred,test_act,test_pred):\n",
    "        print('*** Error metrics Train data ***')\n",
    "        print('MAE Train:', metrics.mean_absolute_error(train_act, train_pred))\n",
    "        print('MSE Train:', metrics.mean_squared_error(train_act, train_pred))\n",
    "        print('RMSE Train:', np.sqrt(metrics.mean_squared_error(train_act, train_pred)))\n",
    "        print('MAPE Train:', metrics.mean_absolute_percentage_error(train_act, train_pred))\n",
    "\n",
    "        print('***\\n Error metrics Test Data ***')\n",
    "\n",
    "        print('MAE Train:', metrics.mean_absolute_error(test_act,test_pred))\n",
    "        print('MSE Train:', metrics.mean_squared_error(test_act,test_pred))\n",
    "        print('RMSE Train:', np.sqrt(metrics.mean_squared_error(test_act,test_pred)))\n",
    "        print('MAPE Train:', metrics.mean_absolute_percentage_error(test_act,test_pred))\n",
    "        \n",
    "\n"
   ]
  },
  {
   "cell_type": "code",
   "execution_count": 68,
   "metadata": {},
   "outputs": [
    {
     "name": "stdout",
     "output_type": "stream",
     "text": [
      "*** Error metrics Train data ***\n",
      "MAE Train: 40.87788081063272\n",
      "MSE Train: 2434.2523547808605\n",
      "RMSE Train: 49.33814300093651\n",
      "MAPE Train: 0.521036780719238\n",
      "***\n",
      " Error metrics Test Data ***\n",
      "MAE Train: 54.935555724372364\n",
      "MSE Train: 3172.567218181148\n",
      "RMSE Train: 56.32554676326851\n",
      "MAPE Train: 1.027313277773886\n"
     ]
    }
   ],
   "source": [
    "error_metrics(train.Price,lm.fittedvalues,test.Price,pred_test)"
   ]
  },
  {
   "cell_type": "markdown",
   "metadata": {},
   "source": [
    "### Adding the Month variable - to add seasonality Component"
   ]
  },
  {
   "cell_type": "code",
   "execution_count": 69,
   "metadata": {},
   "outputs": [
    {
     "name": "stderr",
     "output_type": "stream",
     "text": [
      "/usr/share/anaconda3/lib/python3.7/site-packages/ipykernel_launcher.py:1: SettingWithCopyWarning: \n",
      "A value is trying to be set on a copy of a slice from a DataFrame.\n",
      "Try using .loc[row_indexer,col_indexer] = value instead\n",
      "\n",
      "See the caveats in the documentation: https://pandas.pydata.org/pandas-docs/stable/user_guide/indexing.html#returning-a-view-versus-a-copy\n",
      "  \"\"\"Entry point for launching an IPython kernel.\n",
      "/usr/share/anaconda3/lib/python3.7/site-packages/ipykernel_launcher.py:2: SettingWithCopyWarning: \n",
      "A value is trying to be set on a copy of a slice from a DataFrame.\n",
      "Try using .loc[row_indexer,col_indexer] = value instead\n",
      "\n",
      "See the caveats in the documentation: https://pandas.pydata.org/pandas-docs/stable/user_guide/indexing.html#returning-a-view-versus-a-copy\n",
      "  \n"
     ]
    }
   ],
   "source": [
    "train['Month'] = train.Month.astype('category')\n",
    "test['Month'] = test.Month.astype('category')\n"
   ]
  },
  {
   "cell_type": "code",
   "execution_count": 70,
   "metadata": {},
   "outputs": [
    {
     "data": {
      "text/plain": [
       "Month       category\n",
       "Price        float64\n",
       "Time_seq       int64\n",
       "dtype: object"
      ]
     },
     "execution_count": 70,
     "metadata": {},
     "output_type": "execute_result"
    }
   ],
   "source": [
    "train.dtypes"
   ]
  },
  {
   "cell_type": "code",
   "execution_count": 71,
   "metadata": {},
   "outputs": [],
   "source": [
    "train_dummy = pd.get_dummies(train,drop_first=True,dtype='int8')\n",
    "test_dummy = pd.get_dummies(test,dtype='int8')"
   ]
  },
  {
   "cell_type": "code",
   "execution_count": 72,
   "metadata": {},
   "outputs": [
    {
     "name": "stdout",
     "output_type": "stream",
     "text": [
      "Index(['Price', 'Time_seq', 'Month_2', 'Month_3', 'Month_4', 'Month_5',\n",
      "       'Month_6', 'Month_7', 'Month_8', 'Month_9', 'Month_10', 'Month_11',\n",
      "       'Month_12'],\n",
      "      dtype='object')\n",
      "\n",
      "\n",
      "Index(['Price', 'Time_seq', 'Month_4', 'Month_5', 'Month_6', 'Month_7',\n",
      "       'Month_8', 'Month_9', 'Month_10', 'Month_11', 'Month_12'],\n",
      "      dtype='object')\n",
      "\n",
      " No. of columns in Train Data :13\n",
      "\n",
      "\n",
      "Index(['Price', 'Time_seq', 'Month_4', 'Month_5', 'Month_6', 'Month_7',\n",
      "       'Month_8', 'Month_9', 'Month_10', 'Month_11', 'Month_12'],\n",
      "      dtype='object')\n",
      "\n",
      " No. of columns in Test Data :11\n"
     ]
    }
   ],
   "source": [
    "print(train_dummy.columns)\n",
    "print(\"\\n\")\n",
    "print(test_dummy.columns)\n",
    "\n",
    "print(\"\\n No. of columns in Train Data :{}\".format(len(train_dummy.columns)))\n",
    "print(\"\\n\")\n",
    "print(test_dummy.columns)\n",
    "print(\"\\n No. of columns in Test Data :{}\".format(len(test_dummy.columns)))\n",
    "\n"
   ]
  },
  {
   "cell_type": "markdown",
   "metadata": {},
   "source": [
    "### Alligning the Levels b/w Train and Test Data sets "
   ]
  },
  {
   "cell_type": "code",
   "execution_count": 73,
   "metadata": {},
   "outputs": [],
   "source": [
    "train_allign,test_allign = train_dummy.align(test_dummy, join='outer', axis=1,fill_value=0)"
   ]
  },
  {
   "cell_type": "code",
   "execution_count": 74,
   "metadata": {},
   "outputs": [
    {
     "data": {
      "text/html": [
       "<div>\n",
       "<style scoped>\n",
       "    .dataframe tbody tr th:only-of-type {\n",
       "        vertical-align: middle;\n",
       "    }\n",
       "\n",
       "    .dataframe tbody tr th {\n",
       "        vertical-align: top;\n",
       "    }\n",
       "\n",
       "    .dataframe thead th {\n",
       "        text-align: right;\n",
       "    }\n",
       "</style>\n",
       "<table border=\"1\" class=\"dataframe\">\n",
       "  <thead>\n",
       "    <tr style=\"text-align: right;\">\n",
       "      <th></th>\n",
       "      <th>Price</th>\n",
       "      <th>Time_seq</th>\n",
       "      <th>Month_2</th>\n",
       "      <th>Month_3</th>\n",
       "      <th>Month_4</th>\n",
       "      <th>Month_5</th>\n",
       "      <th>Month_6</th>\n",
       "      <th>Month_7</th>\n",
       "      <th>Month_8</th>\n",
       "      <th>Month_9</th>\n",
       "      <th>Month_10</th>\n",
       "      <th>Month_11</th>\n",
       "      <th>Month_12</th>\n",
       "    </tr>\n",
       "    <tr>\n",
       "      <th>Date</th>\n",
       "      <th></th>\n",
       "      <th></th>\n",
       "      <th></th>\n",
       "      <th></th>\n",
       "      <th></th>\n",
       "      <th></th>\n",
       "      <th></th>\n",
       "      <th></th>\n",
       "      <th></th>\n",
       "      <th></th>\n",
       "      <th></th>\n",
       "      <th></th>\n",
       "      <th></th>\n",
       "    </tr>\n",
       "  </thead>\n",
       "  <tbody>\n",
       "    <tr>\n",
       "      <th>2009-04-01</th>\n",
       "      <td>79.922411</td>\n",
       "      <td>1</td>\n",
       "      <td>0</td>\n",
       "      <td>0</td>\n",
       "      <td>1</td>\n",
       "      <td>0</td>\n",
       "      <td>0</td>\n",
       "      <td>0</td>\n",
       "      <td>0</td>\n",
       "      <td>0</td>\n",
       "      <td>0</td>\n",
       "      <td>0</td>\n",
       "      <td>0</td>\n",
       "    </tr>\n",
       "    <tr>\n",
       "      <th>2009-05-01</th>\n",
       "      <td>103.838756</td>\n",
       "      <td>2</td>\n",
       "      <td>0</td>\n",
       "      <td>0</td>\n",
       "      <td>0</td>\n",
       "      <td>1</td>\n",
       "      <td>0</td>\n",
       "      <td>0</td>\n",
       "      <td>0</td>\n",
       "      <td>0</td>\n",
       "      <td>0</td>\n",
       "      <td>0</td>\n",
       "      <td>0</td>\n",
       "    </tr>\n",
       "    <tr>\n",
       "      <th>2009-06-01</th>\n",
       "      <td>111.713333</td>\n",
       "      <td>3</td>\n",
       "      <td>0</td>\n",
       "      <td>0</td>\n",
       "      <td>0</td>\n",
       "      <td>0</td>\n",
       "      <td>1</td>\n",
       "      <td>0</td>\n",
       "      <td>0</td>\n",
       "      <td>0</td>\n",
       "      <td>0</td>\n",
       "      <td>0</td>\n",
       "      <td>0</td>\n",
       "    </tr>\n",
       "    <tr>\n",
       "      <th>2009-07-01</th>\n",
       "      <td>109.580000</td>\n",
       "      <td>4</td>\n",
       "      <td>0</td>\n",
       "      <td>0</td>\n",
       "      <td>0</td>\n",
       "      <td>0</td>\n",
       "      <td>0</td>\n",
       "      <td>1</td>\n",
       "      <td>0</td>\n",
       "      <td>0</td>\n",
       "      <td>0</td>\n",
       "      <td>0</td>\n",
       "      <td>0</td>\n",
       "    </tr>\n",
       "    <tr>\n",
       "      <th>2009-08-01</th>\n",
       "      <td>100.662903</td>\n",
       "      <td>5</td>\n",
       "      <td>0</td>\n",
       "      <td>0</td>\n",
       "      <td>0</td>\n",
       "      <td>0</td>\n",
       "      <td>0</td>\n",
       "      <td>0</td>\n",
       "      <td>1</td>\n",
       "      <td>0</td>\n",
       "      <td>0</td>\n",
       "      <td>0</td>\n",
       "      <td>0</td>\n",
       "    </tr>\n",
       "  </tbody>\n",
       "</table>\n",
       "</div>"
      ],
      "text/plain": [
       "                 Price  Time_seq  Month_2  Month_3  Month_4  Month_5  Month_6  \\\n",
       "Date                                                                            \n",
       "2009-04-01   79.922411         1        0        0        1        0        0   \n",
       "2009-05-01  103.838756         2        0        0        0        1        0   \n",
       "2009-06-01  111.713333         3        0        0        0        0        1   \n",
       "2009-07-01  109.580000         4        0        0        0        0        0   \n",
       "2009-08-01  100.662903         5        0        0        0        0        0   \n",
       "\n",
       "            Month_7  Month_8  Month_9  Month_10  Month_11  Month_12  \n",
       "Date                                                                 \n",
       "2009-04-01        0        0        0         0         0         0  \n",
       "2009-05-01        0        0        0         0         0         0  \n",
       "2009-06-01        0        0        0         0         0         0  \n",
       "2009-07-01        1        0        0         0         0         0  \n",
       "2009-08-01        0        1        0         0         0         0  "
      ]
     },
     "execution_count": 74,
     "metadata": {},
     "output_type": "execute_result"
    }
   ],
   "source": [
    "train_dummy.head()"
   ]
  },
  {
   "cell_type": "code",
   "execution_count": 75,
   "metadata": {},
   "outputs": [],
   "source": [
    "train_allign = sm.add_constant(train_allign)\n",
    "test_allign = sm.add_constant(test_allign)\n"
   ]
  },
  {
   "cell_type": "code",
   "execution_count": 76,
   "metadata": {},
   "outputs": [
    {
     "name": "stdout",
     "output_type": "stream",
     "text": [
      "Index(['const', 'Month_10', 'Month_11', 'Month_12', 'Month_2', 'Month_3',\n",
      "       'Month_4', 'Month_5', 'Month_6', 'Month_7', 'Month_8', 'Month_9',\n",
      "       'Price', 'Time_seq'],\n",
      "      dtype='object')\n",
      "\n",
      "\n",
      "Index(['const', 'Month_10', 'Month_11', 'Month_12', 'Month_2', 'Month_3',\n",
      "       'Month_4', 'Month_5', 'Month_6', 'Month_7', 'Month_8', 'Month_9',\n",
      "       'Price', 'Time_seq'],\n",
      "      dtype='object')\n",
      "\n",
      " No. of columns in Train Data :14\n",
      "\n",
      "\n",
      "Index(['const', 'Month_10', 'Month_11', 'Month_12', 'Month_2', 'Month_3',\n",
      "       'Month_4', 'Month_5', 'Month_6', 'Month_7', 'Month_8', 'Month_9',\n",
      "       'Price', 'Time_seq'],\n",
      "      dtype='object')\n",
      "\n",
      " No. of columns in Test Data :14\n"
     ]
    }
   ],
   "source": [
    "print(train_allign.columns)\n",
    "print(\"\\n\")\n",
    "print(test_allign.columns)\n",
    "\n",
    "print(\"\\n No. of columns in Train Data :{}\".format(len(train_allign.columns)))\n",
    "print(\"\\n\")\n",
    "print(test_allign.columns)\n",
    "print(\"\\n No. of columns in Test Data :{}\".format(len(test_allign.columns)))\n",
    "\n"
   ]
  },
  {
   "cell_type": "code",
   "execution_count": 77,
   "metadata": {},
   "outputs": [],
   "source": [
    "lm_season = sm.OLS(train_allign.Price,train_allign.drop(['Price'],axis=1))"
   ]
  },
  {
   "cell_type": "code",
   "execution_count": 78,
   "metadata": {},
   "outputs": [
    {
     "name": "stdout",
     "output_type": "stream",
     "text": [
      "                            OLS Regression Results                            \n",
      "==============================================================================\n",
      "Dep. Variable:                  Price   R-squared:                       0.896\n",
      "Model:                            OLS   Adj. R-squared:                  0.860\n",
      "Method:                 Least Squares   F-statistic:                     25.11\n",
      "Date:                Sat, 04 Jun 2022   Prob (F-statistic):           1.13e-13\n",
      "Time:                        09:57:44   Log-Likelihood:                -146.27\n",
      "No. Observations:                  48   AIC:                             318.5\n",
      "Df Residuals:                      35   BIC:                             342.9\n",
      "Df Model:                          12                                         \n",
      "Covariance Type:            nonrobust                                         \n",
      "==============================================================================\n",
      "                 coef    std err          t      P>|t|      [0.025      0.975]\n",
      "------------------------------------------------------------------------------\n",
      "const        104.9117      3.483     30.122      0.000      97.841     111.982\n",
      "Month_10      -9.7528      4.223     -2.309      0.027     -18.327      -1.179\n",
      "Month_11     -10.2007      4.221     -2.417      0.021     -18.770      -1.632\n",
      "Month_12      -5.4165      4.220     -1.284      0.208     -13.983       3.150\n",
      "Month_2      -13.3942      4.220     -3.174      0.003     -21.960      -4.828\n",
      "Month_3      -17.0960      4.221     -4.050      0.000     -25.665      -8.527\n",
      "Month_4      -19.3206      4.258     -4.537      0.000     -27.966     -10.676\n",
      "Month_5       -9.6060      4.250     -2.260      0.030     -18.234      -0.978\n",
      "Month_6       -2.3450      4.243     -0.553      0.584     -10.959       6.269\n",
      "Month_7        1.0582      4.237      0.250      0.804      -7.543       9.659\n",
      "Month_8        7.4914      4.231      1.771      0.085      -1.098      16.081\n",
      "Month_9       -3.4787      4.227     -0.823      0.416     -12.060       5.102\n",
      "Time_seq      -0.9142      0.064    -14.243      0.000      -1.045      -0.784\n",
      "==============================================================================\n",
      "Omnibus:                        0.168   Durbin-Watson:                   1.059\n",
      "Prob(Omnibus):                  0.919   Jarque-Bera (JB):                0.318\n",
      "Skew:                          -0.120   Prob(JB):                        0.853\n",
      "Kurtosis:                       2.682   Cond. No.                         353.\n",
      "==============================================================================\n",
      "\n",
      "Warnings:\n",
      "[1] Standard Errors assume that the covariance matrix of the errors is correctly specified.\n"
     ]
    }
   ],
   "source": [
    "lm_season = lm_season.fit()\n",
    "print(lm_season.summary())"
   ]
  },
  {
   "cell_type": "code",
   "execution_count": 79,
   "metadata": {},
   "outputs": [],
   "source": [
    "predtest_lmTime = lm_season.predict(test_allign.drop(['Price'],axis=1))"
   ]
  },
  {
   "cell_type": "code",
   "execution_count": 80,
   "metadata": {},
   "outputs": [
    {
     "name": "stdout",
     "output_type": "stream",
     "text": [
      "*** Error metrics Train data ***\n",
      "MAE Train: 4.119509709951319\n",
      "MSE Train: 25.958874845233243\n",
      "RMSE Train: 5.0949852644765565\n",
      "MAPE Train: 0.054855786508111175\n",
      "***\n",
      " Error metrics Test Data ***\n",
      "MAE Train: 7.119109464553619\n",
      "MSE Train: 65.55446560651741\n",
      "RMSE Train: 8.09657122530997\n",
      "MAPE Train: 0.1207244157509047\n"
     ]
    }
   ],
   "source": [
    "error_metrics(train.Price,lm_season.fittedvalues,test.Price,predtest_lmTime)"
   ]
  },
  {
   "cell_type": "markdown",
   "metadata": {},
   "source": [
    "### Modelling the time series using simple moving averages(SMA)"
   ]
  },
  {
   "cell_type": "code",
   "execution_count": 81,
   "metadata": {},
   "outputs": [
    {
     "name": "stderr",
     "output_type": "stream",
     "text": [
      "/usr/share/anaconda3/lib/python3.7/site-packages/ipykernel_launcher.py:2: SettingWithCopyWarning: \n",
      "A value is trying to be set on a copy of a slice from a DataFrame.\n",
      "Try using .loc[row_indexer,col_indexer] = value instead\n",
      "\n",
      "See the caveats in the documentation: https://pandas.pydata.org/pandas-docs/stable/user_guide/indexing.html#returning-a-view-versus-a-copy\n",
      "  \n"
     ]
    }
   ],
   "source": [
    "window=3\n",
    "train['SMA_3'] = train['Price'].rolling(window).mean()\n"
   ]
  },
  {
   "cell_type": "code",
   "execution_count": 82,
   "metadata": {},
   "outputs": [
    {
     "data": {
      "image/png": "[encoded data removed]",
      "text/plain": [
       "<Figure size 432x288 with 1 Axes>"
      ]
     },
     "metadata": {
      "needs_background": "light"
     },
     "output_type": "display_data"
    }
   ],
   "source": [
    "plt.plot(train.index,train.Price,'-o',label = 'Original')\n",
    "plt.plot(train['SMA_3'],'-o', color='red', label = 'SMA Prediction')\n",
    "\n",
    "plt.xlabel('Month')\n",
    "plt.ylabel('Price')\n",
    "plt.title('Prediction using SMA')\n",
    "plt.legend()\n",
    "plt.show()"
   ]
  },
  {
   "cell_type": "markdown",
   "metadata": {},
   "source": [
    "### Forecasting on testdata\n"
   ]
  },
  {
   "cell_type": "code",
   "execution_count": 83,
   "metadata": {},
   "outputs": [],
   "source": [
    "history = list(train['SMA_3'].values)\n",
    "sma_predict = list()\n",
    "\n",
    "for t in range(len(test)):\n",
    "    length = len(history)\n",
    "    yhat =np.mean(history[length-window:length])\n",
    "    sma_predict.append(yhat)\n",
    "    history.append(yhat)\n",
    "    "
   ]
  },
  {
   "cell_type": "code",
   "execution_count": 84,
   "metadata": {},
   "outputs": [
    {
     "data": {
      "text/plain": [
       "[57.336862945895206,\n",
       " 56.774335779712125,\n",
       " 56.0559397697749,\n",
       " 56.72237949846075,\n",
       " 56.51755168264926,\n",
       " 56.431956983628304,\n",
       " 56.55729605491277,\n",
       " 56.50226824039678,\n",
       " 56.49717375964595]"
      ]
     },
     "execution_count": 84,
     "metadata": {},
     "output_type": "execute_result"
    }
   ],
   "source": [
    "sma_predict"
   ]
  },
  {
   "cell_type": "code",
   "execution_count": 85,
   "metadata": {
    "scrolled": true
   },
   "outputs": [
    {
     "data": {
      "image/png": "[encoded data removed]",
      "text/plain": [
       "<Figure size 1152x576 with 1 Axes>"
      ]
     },
     "metadata": {
      "needs_background": "light"
     },
     "output_type": "display_data"
    }
   ],
   "source": [
    "model_forecast=test.copy()\n",
    "model_forecast['moving_avg_forecast'] = sma_predict\n",
    "plt.figure(figsize=(16,8))\n",
    "plt.plot(train['Price'], label='Train')\n",
    "plt.plot(test['Price'], label='Test')\n",
    "plt.plot(model_forecast['moving_avg_forecast'], label='Moving Average Forecast')\n",
    "plt.show()"
   ]
  },
  {
   "cell_type": "code",
   "execution_count": 86,
   "metadata": {},
   "outputs": [
    {
     "name": "stdout",
     "output_type": "stream",
     "text": [
      "*** Error metrics Train data ***\n",
      "MAE Train: 5.7858801636528066\n",
      "MSE Train: 45.986038457535116\n",
      "RMSE Train: 6.781300646449405\n",
      "MAPE Train: 0.08267890672316609\n",
      "***\n",
      " Error metrics Test Data ***\n",
      "MAE Train: 8.68527314537947\n",
      "MSE Train: 101.59409087983501\n",
      "RMSE Train: 10.079389410070187\n",
      "MAPE Train: 0.15563261200028747\n"
     ]
    },
    {
     "data": {
      "text/html": [
       "<div>\n",
       "<style scoped>\n",
       "    .dataframe tbody tr th:only-of-type {\n",
       "        vertical-align: middle;\n",
       "    }\n",
       "\n",
       "    .dataframe tbody tr th {\n",
       "        vertical-align: top;\n",
       "    }\n",
       "\n",
       "    .dataframe thead th {\n",
       "        text-align: right;\n",
       "    }\n",
       "</style>\n",
       "<table border=\"1\" class=\"dataframe\">\n",
       "  <thead>\n",
       "    <tr style=\"text-align: right;\">\n",
       "      <th></th>\n",
       "    </tr>\n",
       "  </thead>\n",
       "  <tbody>\n",
       "  </tbody>\n",
       "</table>\n",
       "</div>"
      ],
      "text/plain": [
       "Empty DataFrame\n",
       "Columns: []\n",
       "Index: []"
      ]
     },
     "execution_count": 86,
     "metadata": {},
     "output_type": "execute_result"
    }
   ],
   "source": [
    "pd.DataFrame(error_metrics(train['Price'][2:], train.SMA_3[2:],test['Price'], sma_predict))"
   ]
  },
  {
   "cell_type": "markdown",
   "metadata": {},
   "source": [
    "### Modelling the time series using Exponential moving averages (EMA)\n"
   ]
  },
  {
   "cell_type": "code",
   "execution_count": 87,
   "metadata": {},
   "outputs": [
    {
     "name": "stderr",
     "output_type": "stream",
     "text": [
      "/usr/share/anaconda3/lib/python3.7/site-packages/ipykernel_launcher.py:1: SettingWithCopyWarning: \n",
      "A value is trying to be set on a copy of a slice from a DataFrame.\n",
      "Try using .loc[row_indexer,col_indexer] = value instead\n",
      "\n",
      "See the caveats in the documentation: https://pandas.pydata.org/pandas-docs/stable/user_guide/indexing.html#returning-a-view-versus-a-copy\n",
      "  \"\"\"Entry point for launching an IPython kernel.\n"
     ]
    }
   ],
   "source": [
    "train['EMA_3'] = train.Price.ewm(span=window).mean()\n"
   ]
  },
  {
   "cell_type": "code",
   "execution_count": 88,
   "metadata": {},
   "outputs": [
    {
     "data": {
      "image/png": "[encoded data removed]",
      "text/plain": [
       "<Figure size 432x288 with 1 Axes>"
      ]
     },
     "metadata": {
      "needs_background": "light"
     },
     "output_type": "display_data"
    }
   ],
   "source": [
    "plt.plot(train.index,train.Price,'-o',label = 'original')\n",
    "plt.plot(train.index,train['EMA_3'],'-o', color='red',label = 'EMA Predictions')\n",
    "\n",
    "plt.title(\"Prediction using EMA\")\n",
    "plt.legend()\n",
    "plt.xticks(rotation=30)\n",
    "plt.show()"
   ]
  },
  {
   "cell_type": "markdown",
   "metadata": {},
   "source": [
    "### Forecasting on testdata"
   ]
  },
  {
   "cell_type": "code",
   "execution_count": 89,
   "metadata": {},
   "outputs": [
    {
     "name": "stdout",
     "output_type": "stream",
     "text": [
      "range(45, 48)\n",
      "range(46, 49)\n",
      "range(47, 50)\n",
      "range(48, 51)\n",
      "range(49, 52)\n",
      "range(50, 53)\n",
      "range(51, 54)\n",
      "range(52, 55)\n",
      "range(53, 56)\n"
     ]
    }
   ],
   "source": [
    "history = list(train['EMA_3'].values)\n",
    "ema_predict = list()\n",
    "\n",
    "for t in range(len(test)):\n",
    "    length = len(history)\n",
    "    print(range(length-window,length))\n",
    "    yhat=np.mean(history[length-window:length])\n",
    "    ema_predict.append(yhat)\n",
    "    history.append(yhat)\n"
   ]
  },
  {
   "cell_type": "code",
   "execution_count": 90,
   "metadata": {},
   "outputs": [
    {
     "name": "stdout",
     "output_type": "stream",
     "text": [
      "*** Error metrics Train data ***\n",
      "MAE Train: 3.981017221745753\n",
      "MSE Train: 21.890938573290597\n",
      "RMSE Train: 4.678775328362177\n",
      "MAPE Train: 0.05706760698608182\n",
      "***\n",
      " Error metrics Test Data ***\n",
      "MAE Train: 8.965317633757998\n",
      "MSE Train: 108.37010442603221\n",
      "RMSE Train: 10.41009627361977\n",
      "MAPE Train: 0.15615941927506763\n"
     ]
    }
   ],
   "source": [
    "error_metrics(train['Price'][2:], train.EMA_3[2:],test['Price'], ema_predict)"
   ]
  },
  {
   "cell_type": "code",
   "execution_count": 91,
   "metadata": {},
   "outputs": [],
   "source": [
    "from statsmodels.tsa.api import ExponentialSmoothing, SimpleExpSmoothing, Holt\n"
   ]
  },
  {
   "cell_type": "markdown",
   "metadata": {},
   "source": [
    "## Holt Winter’s Exponential Smoothing\n",
    "Holt-Winters exponential smoothing with trend and additive seasonal component.\n",
    "\n"
   ]
  },
  {
   "cell_type": "code",
   "execution_count": 92,
   "metadata": {
    "scrolled": true
   },
   "outputs": [
    {
     "name": "stderr",
     "output_type": "stream",
     "text": [
      "/usr/share/anaconda3/lib/python3.7/site-packages/statsmodels/tsa/holtwinters.py:744: ConvergenceWarning: Optimization failed to converge. Check mle_retvals.\n",
      "  ConvergenceWarning)\n"
     ]
    },
    {
     "data": {
      "image/png": "[encoded data removed]",
      "text/plain": [
       "<Figure size 1152x576 with 1 Axes>"
      ]
     },
     "metadata": {
      "needs_background": "light"
     },
     "output_type": "display_data"
    }
   ],
   "source": [
    "\n",
    "holt_exp_add = ExponentialSmoothing(np.asarray(train['Price']) ,seasonal_periods=12, seasonal='additive',).fit()\n",
    "model_forecast['Holt_Winter'] = holt_exp_add.forecast(len(test))\n",
    "plt.figure(figsize=(16,8))\n",
    "plt.plot( train['Price'], label='Train')\n",
    "plt.plot(test['Price'], label='Test')\n",
    "plt.plot(model_forecast['Holt_Winter'], label='Holt_Winter')\n",
    "plt.legend(loc='best')\n",
    "plt.show()"
   ]
  },
  {
   "cell_type": "code",
   "execution_count": 93,
   "metadata": {},
   "outputs": [
    {
     "name": "stdout",
     "output_type": "stream",
     "text": [
      "*** Error metrics Train data ***\n",
      "MAE Train: 20.270043562038737\n",
      "MSE Train: 576.5102021019258\n",
      "RMSE Train: 24.010626857746253\n",
      "MAPE Train: 0.25680317201988645\n",
      "***\n",
      " Error metrics Test Data ***\n",
      "MAE Train: 4.136189629200548\n",
      "MSE Train: 32.727329495679356\n",
      "RMSE Train: 5.720780497072\n",
      "MAPE Train: 0.08093569394824844\n"
     ]
    }
   ],
   "source": [
    "error_metrics(train['Price'][2:], holt_exp_add.forecast(len(train[2:])),test['Price'], \n",
    "              holt_exp_add.forecast(len(test)))\n"
   ]
  },
  {
   "cell_type": "markdown",
   "metadata": {},
   "source": [
    "## Holt-Winters exponential smoothing additive trend with multiplicative seasonal component."
   ]
  },
  {
   "cell_type": "code",
   "execution_count": 94,
   "metadata": {},
   "outputs": [
    {
     "name": "stderr",
     "output_type": "stream",
     "text": [
      "/usr/share/anaconda3/lib/python3.7/site-packages/statsmodels/tsa/holtwinters.py:744: ConvergenceWarning: Optimization failed to converge. Check mle_retvals.\n",
      "  ConvergenceWarning)\n"
     ]
    }
   ],
   "source": [
    "holt_exp_mul = ExponentialSmoothing(np.asarray(train['Price']) ,seasonal_periods=12 , seasonal='multiplicative',trend='add').fit()\n"
   ]
  },
  {
   "cell_type": "code",
   "execution_count": 95,
   "metadata": {},
   "outputs": [
    {
     "data": {
      "image/png": "[encoded data removed]",
      "text/plain": [
       "<Figure size 1152x576 with 1 Axes>"
      ]
     },
     "metadata": {
      "needs_background": "light"
     },
     "output_type": "display_data"
    }
   ],
   "source": [
    "model_forecast['Holt_Winter'] = holt_exp_mul.forecast(len(test))\n",
    "plt.figure(figsize=(16,8))\n",
    "plt.plot( train['Price'], label='Train')\n",
    "plt.plot(test['Price'], label='Test')\n",
    "plt.plot(model_forecast['Holt_Winter'], label='Holt_Winter')\n",
    "plt.legend(loc='best')\n",
    "plt.show()"
   ]
  },
  {
   "cell_type": "code",
   "execution_count": 96,
   "metadata": {},
   "outputs": [
    {
     "name": "stdout",
     "output_type": "stream",
     "text": [
      "*** Error metrics Train data ***\n",
      "MAE Train: 42.43126698136754\n",
      "MSE Train: 1889.1974456344606\n",
      "RMSE Train: 43.464899006375944\n",
      "MAPE Train: 0.5752799154500842\n",
      "***\n",
      " Error metrics Test Data ***\n",
      "MAE Train: 7.921854089419522\n",
      "MSE Train: 91.02282995092172\n",
      "RMSE Train: 9.540588553696345\n",
      "MAPE Train: 0.1292413088519978\n"
     ]
    }
   ],
   "source": [
    "error_metrics(train['Price'][2:], holt_exp_mul.forecast(len(train[2:])),test['Price'], \n",
    "              holt_exp_mul.forecast(len(test)))\n",
    "\n"
   ]
  },
  {
   "cell_type": "code",
   "execution_count": 97,
   "metadata": {},
   "outputs": [],
   "source": [
    "from statsmodels.graphics.tsaplots import plot_acf, plot_pacf\n"
   ]
  },
  {
   "cell_type": "markdown",
   "metadata": {},
   "source": [
    "## ACF and PACF"
   ]
  },
  {
   "cell_type": "code",
   "execution_count": 98,
   "metadata": {},
   "outputs": [
    {
     "data": {
      "image/png": "[encoded data removed]",
      "text/plain": [
       "<Figure size 432x288 with 1 Axes>"
      ]
     },
     "metadata": {
      "needs_background": "light"
     },
     "output_type": "display_data"
    },
    {
     "data": {
      "image/png": "[encoded data removed]",
      "text/plain": [
       "<Figure size 432x288 with 1 Axes>"
      ]
     },
     "metadata": {
      "needs_background": "light"
     },
     "output_type": "display_data"
    }
   ],
   "source": [
    "### ACF and PACF\n",
    "\n",
    "#### ACF: n th lag of ACF is the correlation between a day and n days before that. \n",
    "#PACF: The same as ACF with all intermediate correlations removed.\n",
    "\n",
    "#ACF\n",
    "plot_acf(train.Price, zero=True, lags=int(24*0.5))\n",
    "plt.axhline(y=-1.96/np.sqrt(len(train)), linestyle='--', color='gray')\n",
    "plt.axhline(y=1.96/np.sqrt(len(train)), linestyle='--',color='gray')\n",
    "\n",
    "#PACF\n",
    "plot_pacf(train.Price,zero=True,lags=int(24*0.5))\n",
    "plt.axhline(y=-1.96/np.sqrt(len(train)),linestyle='--',color='gray')\n",
    "plt.axhline(y=1.96/np.sqrt(len(train)),linestyle='--',color='gray')\n",
    "plt.show()\n",
    "\n"
   ]
  },
  {
   "cell_type": "markdown",
   "metadata": {},
   "source": [
    "## Making the data stationary"
   ]
  },
  {
   "cell_type": "code",
   "execution_count": 99,
   "metadata": {},
   "outputs": [
    {
     "data": {
      "image/png": "[encoded data removed]",
      "text/plain": [
       "<Figure size 432x288 with 1 Axes>"
      ]
     },
     "metadata": {
      "needs_background": "light"
     },
     "output_type": "display_data"
    }
   ],
   "source": [
    "#### Looking at the Y scale in ACF we observe that both trend and seasonality is present.\n",
    "\n",
    "#### Stationarize by differencing\n",
    "\n",
    "# Before differencing\n",
    "plt.subplot(212)\n",
    "plt.plot(train.Price)\n",
    "plt.xticks(rotation=30)\n",
    "plt.title(\"Original data\")\n",
    "plt.show()\n",
    "\n",
    "\n"
   ]
  },
  {
   "cell_type": "code",
   "execution_count": 100,
   "metadata": {},
   "outputs": [
    {
     "data": {
      "image/png": "[encoded data removed]",
      "text/plain": [
       "<Figure size 432x288 with 1 Axes>"
      ]
     },
     "metadata": {
      "needs_background": "light"
     },
     "output_type": "display_data"
    }
   ],
   "source": [
    "# After differencing\n",
    "plt.subplot(212)\n",
    "plt.plot(train.Price.diff(1))\n",
    "plt.xticks(rotation=30)\n",
    "plt.title(\"Seasonal Difference data\")\n",
    "plt.show()\n",
    "\n"
   ]
  },
  {
   "cell_type": "code",
   "execution_count": 101,
   "metadata": {},
   "outputs": [
    {
     "data": {
      "image/png": "[encoded data removed]",
      "text/plain": [
       "<Figure size 432x288 with 1 Axes>"
      ]
     },
     "metadata": {
      "needs_background": "light"
     },
     "output_type": "display_data"
    },
    {
     "data": {
      "image/png": "[encoded data removed]",
      "text/plain": [
       "<Figure size 432x288 with 1 Axes>"
      ]
     },
     "metadata": {
      "needs_background": "light"
     },
     "output_type": "display_data"
    }
   ],
   "source": [
    "#### ACF plot and PACF plt after differencing\n",
    "\n",
    "plot_acf(train.Price.diff(1).dropna(),zero=True,lags=12,title='Autocorrelation of differenced data')\n",
    "plt.axhline(y=-1.96/np.sqrt(len(train)),linestyle='--',color='gray')\n",
    "plt.axhline(y=1.96/np.sqrt(len(train)),linestyle='--',color='gray')\n",
    "\n",
    "plot_pacf(train.Price.diff(1).dropna(),zero=True,lags=12,title='PartialAutocorrelation of differenced data')\n",
    "plt.axhline(y=-1.96/np.sqrt(len(train)),linestyle='--',color='gray')\n",
    "plt.axhline(y=1.96/np.sqrt(len(train)),linestyle='--',color='gray')\n",
    "\n",
    "plt.show()\n",
    "\n"
   ]
  },
  {
   "cell_type": "code",
   "execution_count": 102,
   "metadata": {
    "scrolled": true
   },
   "outputs": [
    {
     "name": "stderr",
     "output_type": "stream",
     "text": [
      "/usr/share/anaconda3/lib/python3.7/site-packages/ipykernel_launcher.py:3: FutureWarning: dtype lost in 'diff()'. In the future this will raise a TypeError. Convert to a suitable dtype prior to calling 'diff'.\n",
      "  This is separate from the ipykernel package so we can avoid doing imports until\n"
     ]
    },
    {
     "data": {
      "image/png": "[encoded data removed]",
      "text/plain": [
       "<Figure size 432x288 with 1 Axes>"
      ]
     },
     "metadata": {
      "needs_background": "light"
     },
     "output_type": "display_data"
    }
   ],
   "source": [
    "#### Visualizing the differenced data\n",
    "\n",
    "plt.plot(train.index, train.diff(1).Price.values,'-o')\n",
    "plt.xticks(rotation = 60)\n",
    "plt.show()"
   ]
  },
  {
   "cell_type": "markdown",
   "metadata": {},
   "source": [
    "## Statistical Tests"
   ]
  },
  {
   "cell_type": "code",
   "execution_count": 103,
   "metadata": {},
   "outputs": [],
   "source": [
    "from statsmodels.tsa.stattools import adfuller"
   ]
  },
  {
   "cell_type": "code",
   "execution_count": 104,
   "metadata": {},
   "outputs": [],
   "source": [
    "#Ho: It is non stationary\n",
    "#H1: It is stationary\n",
    "\n",
    "def adfuller_test(sales):\n",
    "    result=adfuller(sales)\n",
    "    labels = ['ADF Test Statistic','p-value','#Lags Used','Number of Observations Used']\n",
    "    for value,label in zip(result,labels):\n",
    "        print(label+' : '+str(value) )\n",
    "    if result[1] <= 0.05:\n",
    "        print(\"strong evidence against the null hypothesis(Ho), reject the null hypothesis. Data has no unit root and is stationary\")\n",
    "    else:\n",
    "        print(\"weak evidence against null hypothesis, time series has a unit root, indicating it is non-stationary \")\n",
    "    "
   ]
  },
  {
   "cell_type": "code",
   "execution_count": 105,
   "metadata": {},
   "outputs": [
    {
     "name": "stdout",
     "output_type": "stream",
     "text": [
      "ADF Test Statistic : -0.5563647080341172\n",
      "p-value : 0.8805401783657371\n",
      "#Lags Used : 9\n",
      "Number of Observations Used : 38\n",
      "weak evidence against null hypothesis, time series has a unit root, indicating it is non-stationary \n"
     ]
    }
   ],
   "source": [
    "adfuller_test(train['Price'])"
   ]
  },
  {
   "cell_type": "code",
   "execution_count": 106,
   "metadata": {},
   "outputs": [
    {
     "name": "stdout",
     "output_type": "stream",
     "text": [
      "ADF Test Statistic : -4.675071090602694\n",
      "p-value : 9.371071798731841e-05\n",
      "#Lags Used : 10\n",
      "Number of Observations Used : 36\n",
      "strong evidence against the null hypothesis(Ho), reject the null hypothesis. Data has no unit root and is stationary\n"
     ]
    }
   ],
   "source": [
    "adfuller_test(train['Price'].diff(1)[1:])"
   ]
  },
  {
   "cell_type": "markdown",
   "metadata": {},
   "source": [
    "## ARIMA Model"
   ]
  },
  {
   "cell_type": "code",
   "execution_count": 107,
   "metadata": {},
   "outputs": [],
   "source": [
    "from statsmodels.tsa.arima.model import ARIMA"
   ]
  },
  {
   "cell_type": "code",
   "execution_count": 108,
   "metadata": {},
   "outputs": [],
   "source": [
    "\n",
    "# AR(p=2 ) = y t  =  alpha + Beta1 * y(t-1) + Beta2 * y(t-2)+ error(t-1) + Beta2 * error(t-2) "
   ]
  },
  {
   "cell_type": "code",
   "execution_count": 109,
   "metadata": {},
   "outputs": [
    {
     "name": "stdout",
     "output_type": "stream",
     "text": [
      "                               SARIMAX Results                                \n",
      "==============================================================================\n",
      "Dep. Variable:                      y   No. Observations:                   48\n",
      "Model:                 ARIMA(2, 1, 1)   Log Likelihood                -164.031\n",
      "Date:                Sat, 04 Jun 2022   AIC                            336.062\n",
      "Time:                        09:58:35   BIC                            343.463\n",
      "Sample:                             0   HQIC                           338.847\n",
      "                                 - 48                                         \n",
      "Covariance Type:                  opg                                         \n",
      "==============================================================================\n",
      "                 coef    std err          z      P>|z|      [0.025      0.975]\n",
      "------------------------------------------------------------------------------\n",
      "ar.L1          0.8634      0.193      4.465      0.000       0.484       1.242\n",
      "ar.L2         -0.4674      0.198     -2.364      0.018      -0.855      -0.080\n",
      "ma.L1         -0.7555      0.222     -3.410      0.001      -1.190      -0.321\n",
      "sigma2        61.8919     10.851      5.704      0.000      40.624      83.160\n",
      "===================================================================================\n",
      "Ljung-Box (Q):                       68.82   Jarque-Bera (JB):                 1.97\n",
      "Prob(Q):                              0.00   Prob(JB):                         0.37\n",
      "Heteroskedasticity (H):               0.86   Skew:                            -0.01\n",
      "Prob(H) (two-sided):                  0.76   Kurtosis:                         4.00\n",
      "===================================================================================\n",
      "\n",
      "Warnings:\n",
      "[1] Covariance matrix calculated using the outer product of gradients (complex-step).\n"
     ]
    },
    {
     "name": "stderr",
     "output_type": "stream",
     "text": [
      "/usr/share/anaconda3/lib/python3.7/site-packages/statsmodels/tsa/statespace/sarimax.py:975: UserWarning: Non-invertible starting MA parameters found. Using zeros as starting parameters.\n",
      "  warn('Non-invertible starting MA parameters found.'\n"
     ]
    }
   ],
   "source": [
    "model_arima = ARIMA(train['Price'].values, order=(2,1,1))\n",
    "model_arima_fit = model_arima.fit()\n",
    "print(model_arima_fit.summary())"
   ]
  },
  {
   "cell_type": "code",
   "execution_count": 113,
   "metadata": {},
   "outputs": [
    {
     "name": "stdout",
     "output_type": "stream",
     "text": [
      "[45.53391957 51.7183982  56.34615494 57.45087844 56.241506   54.6809529\n",
      " 53.89888623 53.95311468 54.36550195]\n"
     ]
    }
   ],
   "source": [
    "model_arima_forecast = model_arima_fit.forecast(steps = len(test))\n",
    "print(model_arima_forecast)"
   ]
  },
  {
   "cell_type": "code",
   "execution_count": 114,
   "metadata": {},
   "outputs": [
    {
     "data": {
      "image/png": "[encoded data removed]",
      "text/plain": [
       "<Figure size 1152x576 with 1 Axes>"
      ]
     },
     "metadata": {
      "needs_background": "light"
     },
     "output_type": "display_data"
    }
   ],
   "source": [
    "model_forecast['ARIMA'] = model_arima_forecast\n",
    "plt.figure(figsize=(16,8))\n",
    "plt.plot( train['Price'], label='Train')\n",
    "plt.plot(test['Price'], label='Test')\n",
    "plt.plot(model_forecast['ARIMA'], label='ARIMA')\n",
    "plt.legend(loc='best')\n",
    "plt.show()"
   ]
  },
  {
   "cell_type": "code",
   "execution_count": 115,
   "metadata": {},
   "outputs": [
    {
     "name": "stdout",
     "output_type": "stream",
     "text": [
      "*** Error metrics Train data ***\n",
      "MAE Train: 22.154408224379733\n",
      "MSE Train: 699.0175242917217\n",
      "RMSE Train: 26.43893954552114\n",
      "MAPE Train: 0.2666849502879256\n",
      "***\n",
      " Error metrics Test Data ***\n",
      "MAE Train: 7.926624768537272\n",
      "MSE Train: 88.12097713366605\n",
      "RMSE Train: 9.387277407942413\n",
      "MAPE Train: 0.1370008540626757\n"
     ]
    }
   ],
   "source": [
    "error_metrics(train['Price'], model_arima_fit.forecast(steps = len(train)),test['Price'], \n",
    "              model_arima_fit.forecast(len(test)))\n"
   ]
  },
  {
   "cell_type": "markdown",
   "metadata": {},
   "source": [
    "## SARIMA Models"
   ]
  },
  {
   "cell_type": "code",
   "execution_count": 116,
   "metadata": {
    "scrolled": true
   },
   "outputs": [
    {
     "name": "stderr",
     "output_type": "stream",
     "text": [
      "/usr/share/anaconda3/lib/python3.7/site-packages/statsmodels/tsa/statespace/sarimax.py:994: UserWarning: Non-stationary starting seasonal autoregressive Using zeros as starting parameters.\n",
      "  warn('Non-stationary starting seasonal autoregressive'\n",
      "/usr/share/anaconda3/lib/python3.7/site-packages/statsmodels/tsa/statespace/sarimax.py:1006: UserWarning: Non-invertible starting seasonal moving average Using zeros as starting parameters.\n",
      "  warn('Non-invertible starting seasonal moving average'\n"
     ]
    },
    {
     "name": "stdout",
     "output_type": "stream",
     "text": [
      "                                    SARIMAX Results                                     \n",
      "========================================================================================\n",
      "Dep. Variable:                                y   No. Observations:                   48\n",
      "Model:             ARIMA(1, 0, 1)x(1, 0, 1, 12)   Log Likelihood                -162.051\n",
      "Date:                          Sat, 04 Jun 2022   AIC                            336.101\n",
      "Time:                                  09:59:07   BIC                            347.329\n",
      "Sample:                                       0   HQIC                           340.344\n",
      "                                           - 48                                         \n",
      "Covariance Type:                            opg                                         \n",
      "==============================================================================\n",
      "                 coef    std err          z      P>|z|      [0.025      0.975]\n",
      "------------------------------------------------------------------------------\n",
      "const         74.2851      9.434      7.874      0.000      55.795      92.775\n",
      "ar.L1          0.6803      0.164      4.144      0.000       0.359       1.002\n",
      "ma.L1          0.4570      0.174      2.632      0.008       0.117       0.797\n",
      "ar.S.L12       0.3656      0.364      1.005      0.315      -0.348       1.079\n",
      "ma.S.L12       0.3335      0.577      0.578      0.563      -0.797       1.464\n",
      "sigma2        43.0329     13.501      3.187      0.001      16.571      69.495\n",
      "===================================================================================\n",
      "Ljung-Box (Q):                       26.94   Jarque-Bera (JB):                 3.23\n",
      "Prob(Q):                              0.94   Prob(JB):                         0.20\n",
      "Heteroskedasticity (H):               0.73   Skew:                             0.59\n",
      "Prob(H) (two-sided):                  0.54   Kurtosis:                         3.44\n",
      "===================================================================================\n",
      "\n",
      "Warnings:\n",
      "[1] Covariance matrix calculated using the outer product of gradients (complex-step).\n"
     ]
    }
   ],
   "source": [
    "model_sarima = ARIMA(train['Price'].values, order=(1,0,1),seasonal_order=(1,0,1,12))\n",
    "model_sarima_fit = model_sarima.fit()\n",
    "print(model_sarima_fit.summary())"
   ]
  },
  {
   "cell_type": "code",
   "execution_count": 117,
   "metadata": {},
   "outputs": [
    {
     "name": "stdout",
     "output_type": "stream",
     "text": [
      "[53.05642141 60.80416507 65.51118676 68.21511327 69.35069002 62.78333173\n",
      " 61.14558519 62.26808084 63.78191804]\n"
     ]
    }
   ],
   "source": [
    "model_sarima_forecast = model_sarima_fit.forecast(steps = len(test))\n",
    "print(model_sarima_forecast)"
   ]
  },
  {
   "cell_type": "code",
   "execution_count": 118,
   "metadata": {},
   "outputs": [
    {
     "data": {
      "image/png": "[encoded data removed]",
      "text/plain": [
       "<Figure size 1152x576 with 1 Axes>"
      ]
     },
     "metadata": {
      "needs_background": "light"
     },
     "output_type": "display_data"
    }
   ],
   "source": [
    "model_forecast['SARIMA'] = model_sarima_forecast\n",
    "plt.figure(figsize=(16,8))\n",
    "plt.plot( train['Price'], label='Train')\n",
    "plt.plot(test['Price'], label='Test')\n",
    "plt.plot(model_forecast['SARIMA'], label='SARIMA')\n",
    "plt.legend(loc='best')\n",
    "plt.show()"
   ]
  },
  {
   "cell_type": "code",
   "execution_count": 119,
   "metadata": {},
   "outputs": [
    {
     "name": "stderr",
     "output_type": "stream",
     "text": [
      "/usr/share/anaconda3/lib/python3.7/site-packages/statsmodels/tsa/statespace/sarimax.py:868: UserWarning: Too few observations to estimate starting parameters for seasonal ARMA. All parameters except for variances will be set to zeros.\n",
      "  ' zeros.' % warning_description)\n"
     ]
    },
    {
     "name": "stdout",
     "output_type": "stream",
     "text": [
      "                                    SARIMAX Results                                     \n",
      "========================================================================================\n",
      "Dep. Variable:                                y   No. Observations:                   48\n",
      "Model:             ARIMA(1, 1, 1)x(1, 1, 1, 12)   Log Likelihood                -117.747\n",
      "Date:                          Sat, 04 Jun 2022   AIC                            245.493\n",
      "Time:                                  09:59:12   BIC                            253.270\n",
      "Sample:                                       0   HQIC                           248.178\n",
      "                                           - 48                                         \n",
      "Covariance Type:                            opg                                         \n",
      "==============================================================================\n",
      "                 coef    std err          z      P>|z|      [0.025      0.975]\n",
      "------------------------------------------------------------------------------\n",
      "ar.L1          0.4954      0.310      1.598      0.110      -0.112       1.103\n",
      "ma.L1         -0.9997    113.024     -0.009      0.993    -222.523     220.524\n",
      "ar.S.L12      -0.0478      0.642     -0.074      0.941      -1.307       1.211\n",
      "ma.S.L12      -0.9982    346.054     -0.003      0.998    -679.253     677.256\n",
      "sigma2        27.1860   9809.790      0.003      0.998   -1.92e+04    1.93e+04\n",
      "===================================================================================\n",
      "Ljung-Box (Q):                       37.13   Jarque-Bera (JB):                 0.84\n",
      "Prob(Q):                              0.33   Prob(JB):                         0.66\n",
      "Heteroskedasticity (H):               0.37   Skew:                             0.01\n",
      "Prob(H) (two-sided):                  0.10   Kurtosis:                         3.76\n",
      "===================================================================================\n",
      "\n",
      "Warnings:\n",
      "[1] Covariance matrix calculated using the outer product of gradients (complex-step).\n",
      "[40.99596231 49.7375392  56.00040169 58.54310221 64.43423448 52.72872242\n",
      " 45.35303827 43.90574376 47.75099792]\n"
     ]
    },
    {
     "data": {
      "image/png": "[encoded data removed]",
      "text/plain": [
       "<Figure size 1152x576 with 1 Axes>"
      ]
     },
     "metadata": {
      "needs_background": "light"
     },
     "output_type": "display_data"
    }
   ],
   "source": [
    "model_sarima = ARIMA(train['Price'].values, order=(1,1,1),seasonal_order=(1,1,1,12))\n",
    "model_sarima_fit = model_sarima.fit()\n",
    "print(model_sarima_fit.summary())\n",
    "model_sarima_forecast = model_sarima_fit.forecast(steps = len(test))\n",
    "print(model_sarima_forecast)\n",
    "model_forecast['SARIMA'] = model_sarima_forecast\n",
    "plt.figure(figsize=(16,8))\n",
    "plt.plot( train['Price'], label='Train')\n",
    "plt.plot(test['Price'], label='Test')\n",
    "plt.plot(model_forecast['SARIMA'], label='SARIMA')\n",
    "plt.legend(loc='best')\n",
    "plt.show()"
   ]
  },
  {
   "cell_type": "code",
   "execution_count": 120,
   "metadata": {},
   "outputs": [
    {
     "data": {
      "text/plain": [
       "Date\n",
       "2013-04-01    48.792000\n",
       "2013-05-01    56.641290\n",
       "2013-06-01    63.586333\n",
       "2013-07-01    61.783548\n",
       "2013-08-01    74.991129\n",
       "2013-09-01    66.848000\n",
       "2013-10-01    41.663871\n",
       "2013-11-01    50.784500\n",
       "2013-12-01    49.100000\n",
       "Name: Price, dtype: float64"
      ]
     },
     "execution_count": 120,
     "metadata": {},
     "output_type": "execute_result"
    }
   ],
   "source": [
    "test.Price"
   ]
  },
  {
   "cell_type": "code",
   "execution_count": 121,
   "metadata": {},
   "outputs": [
    {
     "name": "stdout",
     "output_type": "stream",
     "text": [
      "*** Error metrics Train data ***\n",
      "MAE Train: 43.389944766962564\n",
      "MSE Train: 1908.9238595516908\n",
      "RMSE Train: 43.69123321161456\n",
      "MAPE Train: 0.5958396923487009\n",
      "***\n",
      " Error metrics Test Data ***\n",
      "MAE Train: 6.9021404860366955\n",
      "MSE Train: 61.115100524145106\n",
      "RMSE Train: 7.817614759256503\n",
      "MAPE Train: 0.1174307296306815\n"
     ]
    }
   ],
   "source": [
    "error_metrics(train['Price'], model_sarima_fit.forecast(steps=len(train)),test['Price'], \n",
    "              model_sarima_fit.forecast(steps=len(test)))\n"
   ]
  },
  {
   "cell_type": "code",
   "execution_count": 122,
   "metadata": {},
   "outputs": [
    {
     "name": "stdout",
     "output_type": "stream",
     "text": [
      "*** Error metrics Train data ***\n",
      "MAE Train: 43.389944766962564\n",
      "MSE Train: 1908.9238595516908\n",
      "RMSE Train: 43.69123321161456\n",
      "MAPE Train: 0.5958396923487009\n",
      "***\n",
      " Error metrics Test Data ***\n",
      "MAE Train: 6.9021404860366955\n",
      "MSE Train: 61.115100524145106\n",
      "RMSE Train: 7.817614759256503\n",
      "MAPE Train: 0.1174307296306815\n"
     ]
    }
   ],
   "source": [
    "error_metrics(train['Price'], model_sarima_fit.forecast(steps=len(train)),test['Price'], \n",
    "              model_sarima_fit.forecast(steps=len(test)))\n"
   ]
  },
  {
   "cell_type": "code",
   "execution_count": 123,
   "metadata": {},
   "outputs": [
    {
     "name": "stdout",
     "output_type": "stream",
     "text": [
      "*** Error metrics Train data ***\n",
      "MAE Train: 43.389944766962564\n",
      "MSE Train: 1908.9238595516908\n",
      "RMSE Train: 43.69123321161456\n",
      "MAPE Train: 0.5958396923487009\n",
      "***\n",
      " Error metrics Test Data ***\n",
      "MAE Train: 6.9021404860366955\n",
      "MSE Train: 61.115100524145106\n",
      "RMSE Train: 7.817614759256503\n",
      "MAPE Train: 0.1174307296306815\n"
     ]
    }
   ],
   "source": [
    "error_metrics(train['Price'], model_sarima_fit.forecast(steps=len(train)),test['Price'], \n",
    "              model_sarima_fit.forecast(steps=len(test)))\n"
   ]
  },
  {
   "cell_type": "code",
   "execution_count": 124,
   "metadata": {},
   "outputs": [
    {
     "data": {
      "text/html": [
       "<div>\n",
       "<style scoped>\n",
       "    .dataframe tbody tr th:only-of-type {\n",
       "        vertical-align: middle;\n",
       "    }\n",
       "\n",
       "    .dataframe tbody tr th {\n",
       "        vertical-align: top;\n",
       "    }\n",
       "\n",
       "    .dataframe thead th {\n",
       "        text-align: right;\n",
       "    }\n",
       "</style>\n",
       "<table border=\"1\" class=\"dataframe\">\n",
       "  <thead>\n",
       "    <tr style=\"text-align: right;\">\n",
       "      <th></th>\n",
       "      <th>Month</th>\n",
       "      <th>Price</th>\n",
       "      <th>Time_seq</th>\n",
       "      <th>moving_avg_forecast</th>\n",
       "      <th>Holt_Winter</th>\n",
       "      <th>ARIMA</th>\n",
       "      <th>SARIMA</th>\n",
       "    </tr>\n",
       "    <tr>\n",
       "      <th>Date</th>\n",
       "      <th></th>\n",
       "      <th></th>\n",
       "      <th></th>\n",
       "      <th></th>\n",
       "      <th></th>\n",
       "      <th></th>\n",
       "      <th></th>\n",
       "    </tr>\n",
       "  </thead>\n",
       "  <tbody>\n",
       "    <tr>\n",
       "      <th>2013-04-01</th>\n",
       "      <td>4</td>\n",
       "      <td>48.792000</td>\n",
       "      <td>49</td>\n",
       "      <td>57.336863</td>\n",
       "      <td>46.532428</td>\n",
       "      <td>45.533920</td>\n",
       "      <td>40.995962</td>\n",
       "    </tr>\n",
       "    <tr>\n",
       "      <th>2013-05-01</th>\n",
       "      <td>5</td>\n",
       "      <td>56.641290</td>\n",
       "      <td>50</td>\n",
       "      <td>56.774336</td>\n",
       "      <td>49.448495</td>\n",
       "      <td>51.718398</td>\n",
       "      <td>49.737539</td>\n",
       "    </tr>\n",
       "    <tr>\n",
       "      <th>2013-06-01</th>\n",
       "      <td>6</td>\n",
       "      <td>63.586333</td>\n",
       "      <td>51</td>\n",
       "      <td>56.055940</td>\n",
       "      <td>54.720800</td>\n",
       "      <td>56.346155</td>\n",
       "      <td>56.000402</td>\n",
       "    </tr>\n",
       "    <tr>\n",
       "      <th>2013-07-01</th>\n",
       "      <td>7</td>\n",
       "      <td>61.783548</td>\n",
       "      <td>52</td>\n",
       "      <td>56.722379</td>\n",
       "      <td>56.164537</td>\n",
       "      <td>57.450878</td>\n",
       "      <td>58.543102</td>\n",
       "    </tr>\n",
       "    <tr>\n",
       "      <th>2013-08-01</th>\n",
       "      <td>8</td>\n",
       "      <td>74.991129</td>\n",
       "      <td>53</td>\n",
       "      <td>56.517552</td>\n",
       "      <td>58.899261</td>\n",
       "      <td>56.241506</td>\n",
       "      <td>64.434234</td>\n",
       "    </tr>\n",
       "    <tr>\n",
       "      <th>2013-09-01</th>\n",
       "      <td>9</td>\n",
       "      <td>66.848000</td>\n",
       "      <td>54</td>\n",
       "      <td>56.431957</td>\n",
       "      <td>48.899693</td>\n",
       "      <td>54.680953</td>\n",
       "      <td>52.728722</td>\n",
       "    </tr>\n",
       "    <tr>\n",
       "      <th>2013-10-01</th>\n",
       "      <td>10</td>\n",
       "      <td>41.663871</td>\n",
       "      <td>55</td>\n",
       "      <td>56.557296</td>\n",
       "      <td>44.426882</td>\n",
       "      <td>53.898886</td>\n",
       "      <td>45.353038</td>\n",
       "    </tr>\n",
       "    <tr>\n",
       "      <th>2013-11-01</th>\n",
       "      <td>11</td>\n",
       "      <td>50.784500</td>\n",
       "      <td>56</td>\n",
       "      <td>56.502268</td>\n",
       "      <td>43.538012</td>\n",
       "      <td>53.953115</td>\n",
       "      <td>43.905744</td>\n",
       "    </tr>\n",
       "    <tr>\n",
       "      <th>2013-12-01</th>\n",
       "      <td>12</td>\n",
       "      <td>49.100000</td>\n",
       "      <td>57</td>\n",
       "      <td>56.497174</td>\n",
       "      <td>45.789900</td>\n",
       "      <td>54.365502</td>\n",
       "      <td>47.750998</td>\n",
       "    </tr>\n",
       "  </tbody>\n",
       "</table>\n",
       "</div>"
      ],
      "text/plain": [
       "           Month      Price  Time_seq  moving_avg_forecast  Holt_Winter  \\\n",
       "Date                                                                      \n",
       "2013-04-01     4  48.792000        49            57.336863    46.532428   \n",
       "2013-05-01     5  56.641290        50            56.774336    49.448495   \n",
       "2013-06-01     6  63.586333        51            56.055940    54.720800   \n",
       "2013-07-01     7  61.783548        52            56.722379    56.164537   \n",
       "2013-08-01     8  74.991129        53            56.517552    58.899261   \n",
       "2013-09-01     9  66.848000        54            56.431957    48.899693   \n",
       "2013-10-01    10  41.663871        55            56.557296    44.426882   \n",
       "2013-11-01    11  50.784500        56            56.502268    43.538012   \n",
       "2013-12-01    12  49.100000        57            56.497174    45.789900   \n",
       "\n",
       "                ARIMA     SARIMA  \n",
       "Date                              \n",
       "2013-04-01  45.533920  40.995962  \n",
       "2013-05-01  51.718398  49.737539  \n",
       "2013-06-01  56.346155  56.000402  \n",
       "2013-07-01  57.450878  58.543102  \n",
       "2013-08-01  56.241506  64.434234  \n",
       "2013-09-01  54.680953  52.728722  \n",
       "2013-10-01  53.898886  45.353038  \n",
       "2013-11-01  53.953115  43.905744  \n",
       "2013-12-01  54.365502  47.750998  "
      ]
     },
     "execution_count": 124,
     "metadata": {},
     "output_type": "execute_result"
    }
   ],
   "source": [
    "model_forecast"
   ]
  },
  {
   "cell_type": "code",
   "execution_count": 127,
   "metadata": {},
   "outputs": [
    {
     "name": "stdout",
     "output_type": "stream",
     "text": [
      "Defaulting to user installation because normal site-packages is not writeable\n",
      "Collecting pmdarima\n",
      "  Downloading pmdarima-1.8.5-cp37-cp37m-manylinux_2_17_x86_64.manylinux2014_x86_64.manylinux_2_24_x86_64.whl (1.4 MB)\n",
      "\u001b[K     |████████████████████████████████| 1.4 MB 1.1 MB/s eta 0:00:01\n",
      "\u001b[?25hRequirement already satisfied: joblib>=0.11 in /usr/share/anaconda3/lib/python3.7/site-packages (from pmdarima) (0.14.1)\n",
      "Requirement already satisfied: statsmodels!=0.12.0,>=0.11 in /usr/share/anaconda3/lib/python3.7/site-packages (from pmdarima) (0.11.0)\n",
      "Requirement already satisfied: setuptools!=50.0.0,>=38.6.0 in /usr/share/anaconda3/lib/python3.7/site-packages (from pmdarima) (45.2.0.post20200210)\n",
      "Requirement already satisfied: scikit-learn>=0.22 in /usr/share/anaconda3/lib/python3.7/site-packages (from pmdarima) (0.24.2)\n",
      "Requirement already satisfied: urllib3 in /usr/share/anaconda3/lib/python3.7/site-packages (from pmdarima) (1.25.8)\n",
      "Requirement already satisfied: numpy>=1.19.3 in /usr/share/anaconda3/lib/python3.7/site-packages (from pmdarima) (1.19.5)\n",
      "Requirement already satisfied: scipy>=1.3.2 in /usr/share/anaconda3/lib/python3.7/site-packages (from pmdarima) (1.6.3)\n",
      "Requirement already satisfied: pandas>=0.19 in /usr/share/anaconda3/lib/python3.7/site-packages (from pmdarima) (1.2.4)\n",
      "Requirement already satisfied: Cython!=0.29.18,>=0.29 in /usr/share/anaconda3/lib/python3.7/site-packages (from pmdarima) (0.29.15)\n",
      "Requirement already satisfied: patsy>=0.5 in /usr/share/anaconda3/lib/python3.7/site-packages (from statsmodels!=0.12.0,>=0.11->pmdarima) (0.5.1)\n",
      "Requirement already satisfied: threadpoolctl>=2.0.0 in /usr/share/anaconda3/lib/python3.7/site-packages (from scikit-learn>=0.22->pmdarima) (2.1.0)\n",
      "Requirement already satisfied: python-dateutil>=2.7.3 in /usr/share/anaconda3/lib/python3.7/site-packages (from pandas>=0.19->pmdarima) (2.8.1)\n",
      "Requirement already satisfied: pytz>=2017.3 in /usr/share/anaconda3/lib/python3.7/site-packages (from pandas>=0.19->pmdarima) (2019.3)\n",
      "Requirement already satisfied: six in /usr/share/anaconda3/lib/python3.7/site-packages (from patsy>=0.5->statsmodels!=0.12.0,>=0.11->pmdarima) (1.15.0)\n",
      "Installing collected packages: pmdarima\n",
      "Successfully installed pmdarima-1.8.5\n"
     ]
    }
   ],
   "source": [
    "#!pip install pmdarima"
   ]
  },
  {
   "cell_type": "markdown",
   "metadata": {},
   "source": [
    "### Auto ARIMA Models"
   ]
  },
  {
   "cell_type": "code",
   "execution_count": 128,
   "metadata": {},
   "outputs": [],
   "source": [
    "from pmdarima.arima import auto_arima"
   ]
  },
  {
   "cell_type": "code",
   "execution_count": 129,
   "metadata": {},
   "outputs": [
    {
     "name": "stdout",
     "output_type": "stream",
     "text": [
      "                               SARIMAX Results                                \n",
      "==============================================================================\n",
      "Dep. Variable:                      y   No. Observations:                   48\n",
      "Model:               SARIMAX(2, 1, 2)   Log Likelihood                -156.216\n",
      "Date:                Sat, 04 Jun 2022   AIC                            324.431\n",
      "Time:                        09:59:45   BIC                            335.532\n",
      "Sample:                             0   HQIC                           328.609\n",
      "                                 - 48                                         \n",
      "Covariance Type:                  opg                                         \n",
      "==============================================================================\n",
      "                 coef    std err          z      P>|z|      [0.025      0.975]\n",
      "------------------------------------------------------------------------------\n",
      "intercept     -0.3507      0.098     -3.581      0.000      -0.543      -0.159\n",
      "ar.L1          1.3613      0.163      8.361      0.000       1.042       1.680\n",
      "ar.L2         -0.7507      0.120     -6.234      0.000      -0.987      -0.515\n",
      "ma.L1         -1.9709     11.668     -0.169      0.866     -24.840      20.898\n",
      "ma.L2          0.9719     11.307      0.086      0.932     -21.189      23.133\n",
      "sigma2        36.3177    428.381      0.085      0.932    -803.293     875.929\n",
      "===================================================================================\n",
      "Ljung-Box (Q):                       47.14   Jarque-Bera (JB):                 0.88\n",
      "Prob(Q):                              0.20   Prob(JB):                         0.64\n",
      "Heteroskedasticity (H):               0.85   Skew:                             0.33\n",
      "Prob(H) (two-sided):                  0.75   Kurtosis:                         3.16\n",
      "===================================================================================\n",
      "\n",
      "Warnings:\n",
      "[1] Covariance matrix calculated using the outer product of gradients (complex-step).\n"
     ]
    }
   ],
   "source": [
    "model_autoArima = auto_arima(y=train['Price'])\n",
    "print(model_autoArima.summary())"
   ]
  },
  {
   "cell_type": "code",
   "execution_count": 130,
   "metadata": {},
   "outputs": [],
   "source": [
    "train_pred = model_autoArima.predict(n_periods=len(train))\n",
    "test_pred = model_autoArima.predict(n_periods=len(test))"
   ]
  },
  {
   "cell_type": "code",
   "execution_count": 131,
   "metadata": {},
   "outputs": [
    {
     "data": {
      "image/png": "[encoded data removed]",
      "text/plain": [
       "<Figure size 1152x576 with 1 Axes>"
      ]
     },
     "metadata": {
      "needs_background": "light"
     },
     "output_type": "display_data"
    }
   ],
   "source": [
    "model_forecast['AUTO_ARIMA'] = test_pred\n",
    "plt.figure(figsize=(16,8))\n",
    "plt.plot( train['Price'], label='Train')\n",
    "plt.plot(test['Price'], label='Test')\n",
    "plt.plot(model_forecast['AUTO_ARIMA'], label='AUTO_ARIMA')\n",
    "plt.legend(loc='best')\n",
    "plt.show()"
   ]
  },
  {
   "cell_type": "code",
   "execution_count": 132,
   "metadata": {},
   "outputs": [
    {
     "name": "stdout",
     "output_type": "stream",
     "text": [
      "*** Error metrics Train data ***\n",
      "MAE Train: 43.55280974799729\n",
      "MSE Train: 1974.4013638295612\n",
      "RMSE Train: 44.43423639300625\n",
      "MAPE Train: 0.5864581227746521\n",
      "***\n",
      " Error metrics Test Data ***\n",
      "MAE Train: 8.94443634027309\n",
      "MSE Train: 105.47347576632347\n",
      "RMSE Train: 10.270028031428321\n",
      "MAPE Train: 0.1494517680621884\n"
     ]
    }
   ],
   "source": [
    "error_metrics(train['Price'], train_pred,test['Price'], \n",
    "              test_pred)\n"
   ]
  },
  {
   "cell_type": "code",
   "execution_count": null,
   "metadata": {},
   "outputs": [],
   "source": []
  },
  {
   "cell_type": "code",
   "execution_count": null,
   "metadata": {},
   "outputs": [],
   "source": []
  }
 ],
 "metadata": {
  "kernelspec": {
   "display_name": "Python 3",
   "language": "python",
   "name": "python3"
  },
  "language_info": {
   "codemirror_mode": {
    "name": "ipython",
    "version": 3
   },
   "file_extension": ".py",
   "mimetype": "text/x-python",
   "name": "python",
   "nbconvert_exporter": "python",
   "pygments_lexer": "ipython3",
   "version": "3.7.6"
  }
 },
 "nbformat": 4,
 "nbformat_minor": 5
}
