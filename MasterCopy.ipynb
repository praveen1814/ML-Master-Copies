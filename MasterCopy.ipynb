{
  "cells": [
    {
      "cell_type": "markdown",
      "metadata": {
        "id": "BOkYX0af7onD",
        "jp-MarkdownHeadingCollapsed": true,
        "nbgrader": {
          "grade": false,
          "grade_id": "ml_01",
          "locked": true,
          "schema_version": 3,
          "solution": false,
          "task": false
        },
        "tags": []
      },
      "source": [
        "## _Response Modeling of Bank Marketing Campaign_\n",
        "\n",
        "<br /> \n",
        "\n",
        "<img src=\"img/AI.png\" width = '400'><br>\n",
        "\n",
        "\n",
        "### _Business Scenario_\n",
        "\n",
        "There has been a revenue decline for the Portuguese bank and they would like to know what actions to take. After investigation, we found out that the root cause is that their clients are not depositing as frequently as before. Knowing that term deposits allow banks to hold onto a deposit for a specific amount of time, so banks can invest in higher gain financial products to make a profit. In addition, banks also hold better chance to persuade term deposit clients into buying other products such as funds or insurance to further increase their revenues. As a result, the Portuguese bank would like to identify existing clients that have higher chance to subscribe for a term deposit and focus marketing effort on such clients.\n",
        "\n",
        "\n",
        "* The task is to build a POC for the problem\n",
        "\n",
        "* The data is related with direct marketing campaigns of a Portuguese banking institution. \n",
        "\n",
        "* The marketing campaigns were based on phone calls. \n",
        "\n",
        "* Often, more than one contact to the same client was required, in order to access if the product (bank term deposit) would be ('yes') or not ('no') subscribed. \n",
        "\n",
        "\n",
        "\n",
        "## _Attributes Information_\n",
        "\n",
        "\n",
        "### _Bank client data:_\n",
        "1 - age (numeric)\n",
        "\n",
        "2 - job : type of job \n",
        "(categorical: 'admin.','blue-collar','entrepreneur','housemaid','management','retired','self-employed','services','student','technician','unemployed','unknown')\n",
        "\n",
        "3 - marital : marital status \n",
        "(categorical: 'divorced','married','single','unknown'; note: 'divorced' means divorced or widowed)\n",
        "\n",
        "4 - education (categorical:'basic.4y','basic.6y','basic.9y','high.school','illiterate','professional.course','university.degree','unknown')\n",
        "\n",
        "5 - default: has credit in default? (categorical: 'no','yes','unknown')\n",
        "\n",
        "6 - housing: has housing loan? (categorical: 'no','yes','unknown')\n",
        "\n",
        "7 - loan: has personal loan? (categorical: 'no','yes','unknown')\n",
        "\n",
        "### _Data Related to the last contact of the current campaign:_\n",
        "8 - contact: contact communication type (categorical: 'cellular','telephone') \n",
        "\n",
        "9 - month: last contact month of year \n",
        "(categorical: 'jan', 'feb', 'mar', ..., 'nov', 'dec')\n",
        "\n",
        "10 - day_of_week: last contact day of the week \n",
        "(categorical: 'mon','tue','wed','thu','fri')\n",
        "\n",
        "11 - duration: last contact duration, in seconds (numeric). \n",
        "Important note: this attribute highly affects the output target (e.g., if duration=0 then y='no'). Yet, the duration is not known before a call is performed. Also, after the end of the call y is obviously known. Thus, this input should only be included for benchmark purposes and should be discarded if the intention is to have a realistic predictive model.\n",
        "\n",
        "### _Other attributes:_\n",
        "\n",
        "12 - campaign: number of contacts performed during this campaign and for this client \n",
        "(numeric, includes last contact)\n",
        "\n",
        "13 - pdays: number of days that passed by after the client was last contacted from a previous campaign \n",
        "(numeric; 999 means client was not previously contacted)\n",
        "\n",
        "14 - previous: number of contacts performed before this campaign and for this client (numeric)\n",
        "\n",
        "15 - poutcome: outcome of the previous marketing campaign (categorical: 'failure','nonexistent','success')\n",
        "\n",
        "### _Social and economic context attributes_\n",
        "16 - emp.var.rate: employment variation rate - quarterly indicator (numeric)\n",
        "\n",
        "17 - cons.price.idx: consumer price index - monthly indicator (numeric) \n",
        "\n",
        "18 - cons.conf.idx: consumer confidence index - monthly indicator (numeric) \n",
        "\n",
        "19 - euribor3m: euribor 3 month rate - daily indicator (numeric)\n",
        "\n",
        "20 - nr.employed: number of employees - quarterly indicator (numeric)\n",
        "\n",
        "Output variable (desired target):\n",
        "21 - y - has the client subscribed a term deposit? (binary: 'yes','no')"
      ]
    },
    {
      "cell_type": "markdown",
      "metadata": {
        "id": "aX8f4ByF7onG",
        "nbgrader": {
          "grade": false,
          "grade_id": "ml_02",
          "locked": true,
          "schema_version": 3,
          "solution": false,
          "task": false
        }
      },
      "source": [
        "## _Exploratory Analysis_\n",
        "\n",
        "### _Import Libraries_"
      ]
    },
    {
      "cell_type": "code",
      "execution_count": null,
      "metadata": {
        "id": "lb_Zjacd7onH",
        "nbgrader": {
          "grade": false,
          "grade_id": "ml_03",
          "locked": true,
          "schema_version": 3,
          "solution": false,
          "task": false
        }
      },
      "outputs": [],
      "source": [
        "#!pip install imblearn\n",
        "#if the above command does not work to install imblearn package, run the following command in your terminal\n",
        "\n",
        "# conda install -c glemaitre imbalanced-learn"
      ]
    },
    {
      "cell_type": "code",
      "execution_count": null,
      "metadata": {
        "id": "jej3maN37onI",
        "nbgrader": {
          "grade": false,
          "grade_id": "ml_04",
          "locked": true,
          "schema_version": 3,
          "solution": false,
          "task": false
        }
      },
      "outputs": [],
      "source": [
        "# !pip install seaborn"
      ]
    },
    {
      "cell_type": "code",
      "execution_count": null,
      "metadata": {
        "id": "QmBEnJgK7onI",
        "nbgrader": {
          "grade": false,
          "grade_id": "ml_05",
          "locked": true,
          "schema_version": 3,
          "solution": false,
          "task": false
        }
      },
      "outputs": [],
      "source": [
        "import warnings\n",
        "warnings.filterwarnings('ignore')"
      ]
    },
    {
      "cell_type": "code",
      "execution_count": null,
      "metadata": {
        "id": "ZZrYvoTj7onI",
        "nbgrader": {
          "grade": false,
          "grade_id": "ml_06",
          "locked": true,
          "schema_version": 3,
          "solution": false,
          "task": false
        }
      },
      "outputs": [],
      "source": [
        "import os\n",
        "import numpy as np\n",
        "import pandas as pd\n",
        "\n",
        "from sklearn import preprocessing\n",
        "from sklearn.impute import SimpleImputer\n",
        "\n",
        "from sklearn.compose import ColumnTransformer\n",
        "\n",
        "from sklearn.preprocessing import StandardScaler\n",
        "from sklearn.preprocessing import OneHotEncoder\n",
        "from sklearn.model_selection import train_test_split\n",
        "from sklearn.pipeline import Pipeline\n",
        "from sklearn.model_selection import GridSearchCV, cross_val_score, StratifiedKFold\n",
        "\n",
        "from sklearn.tree import DecisionTreeClassifier\n",
        "from sklearn.ensemble import RandomForestClassifier\n",
        "from sklearn.svm import SVC\n",
        "from sklearn.linear_model import LogisticRegression\n",
        "\n",
        "from sklearn.ensemble import GradientBoostingClassifier\n",
        "from sklearn.ensemble import AdaBoostClassifier\n",
        "from sklearn.metrics import confusion_matrix\n",
        "from sklearn.metrics import classification_report\n",
        "\n",
        "import matplotlib.pyplot as plt\n",
        "import seaborn as sns\n",
        "\n",
        "from imblearn.over_sampling import SMOTE\n",
        "from sklearn.metrics import accuracy_score, recall_score, precision_score\n"
      ]
    },
    {
      "cell_type": "code",
      "execution_count": null,
      "metadata": {
        "id": "tBcL2XDF7onI",
        "nbgrader": {
          "grade": false,
          "grade_id": "ml_07",
          "locked": true,
          "schema_version": 3,
          "solution": false,
          "task": false
        }
      },
      "outputs": [],
      "source": [
        "# Define custom function to print accuracy, precision and recall\n",
        "\n",
        "def convert_for_sklearn(label_list):\n",
        "    return [1 if i == 'yes' else 0 for i in label_list]\n",
        "\n",
        "\n",
        "def accuracy_precision_recall_metrics(y_true, y_pred):\n",
        "    \n",
        "    y_test_scoring = convert_for_sklearn(y_true)\n",
        "    test_pred_scoring = convert_for_sklearn(y_pred)\n",
        "\n",
        "    acc = accuracy_score(y_true= y_test_scoring, y_pred = test_pred_scoring)\n",
        "    prec = precision_score(y_true= y_test_scoring, y_pred = test_pred_scoring)\n",
        "    rec = recall_score(y_true= y_test_scoring, y_pred = test_pred_scoring)\n",
        "    \n",
        "    print(\"Test Precision: \",prec)\n",
        "    print(\"Test Recall: \",rec)\n",
        "    print(\"Test Accuracy: \",acc)"
      ]
    },
    {
      "cell_type": "markdown",
      "metadata": {
        "id": "NRfZThID7onJ",
        "nbgrader": {
          "grade": false,
          "grade_id": "ml_08",
          "locked": true,
          "schema_version": 3,
          "solution": false,
          "task": false
        }
      },
      "source": [
        "### _Read in the data_"
      ]
    },
    {
      "cell_type": "code",
      "execution_count": null,
      "metadata": {
        "colab": {
          "base_uri": "https://localhost:8080/",
          "height": 335
        },
        "id": "QfmB3ETU7onJ",
        "nbgrader": {
          "grade": false,
          "grade_id": "ml_09",
          "locked": true,
          "schema_version": 3,
          "solution": false,
          "task": false
        },
        "outputId": "38211ad9-dfbd-49c6-cb7d-34d3a27272dc"
      },
      "outputs": [
        {
          "name": "stdout",
          "output_type": "stream",
          "text": [
            "(41188, 22)\n",
            "(4119, 22)\n"
          ]
        },
        {
          "data": {
            "text/html": [
              "\n",
              "  <div id=\"df-bddf25ec-d147-4e97-8969-7c663edfbd45\">\n",
              "    <div class=\"colab-df-container\">\n",
              "      <div>\n",
              "<style scoped>\n",
              "    .dataframe tbody tr th:only-of-type {\n",
              "        vertical-align: middle;\n",
              "    }\n",
              "\n",
              "    .dataframe tbody tr th {\n",
              "        vertical-align: top;\n",
              "    }\n",
              "\n",
              "    .dataframe thead th {\n",
              "        text-align: right;\n",
              "    }\n",
              "</style>\n",
              "<table border=\"1\" class=\"dataframe\">\n",
              "  <thead>\n",
              "    <tr style=\"text-align: right;\">\n",
              "      <th></th>\n",
              "      <th>customer_no</th>\n",
              "      <th>age</th>\n",
              "      <th>job</th>\n",
              "      <th>marital</th>\n",
              "      <th>education</th>\n",
              "      <th>credit_default</th>\n",
              "      <th>housing</th>\n",
              "      <th>loan</th>\n",
              "      <th>contact</th>\n",
              "      <th>contacted_month</th>\n",
              "      <th>...</th>\n",
              "      <th>campaign</th>\n",
              "      <th>pdays</th>\n",
              "      <th>previous</th>\n",
              "      <th>poutcome</th>\n",
              "      <th>emp_var_rate</th>\n",
              "      <th>cons_price_idx</th>\n",
              "      <th>cons_conf_idx</th>\n",
              "      <th>euribor3m</th>\n",
              "      <th>nr_employed</th>\n",
              "      <th>y</th>\n",
              "    </tr>\n",
              "  </thead>\n",
              "  <tbody>\n",
              "    <tr>\n",
              "      <th>0</th>\n",
              "      <td>1</td>\n",
              "      <td>56</td>\n",
              "      <td>housemaid</td>\n",
              "      <td>married</td>\n",
              "      <td>basic.4y</td>\n",
              "      <td>no</td>\n",
              "      <td>no</td>\n",
              "      <td>no</td>\n",
              "      <td>telephone</td>\n",
              "      <td>may</td>\n",
              "      <td>...</td>\n",
              "      <td>1</td>\n",
              "      <td>999</td>\n",
              "      <td>0</td>\n",
              "      <td>nonexistent</td>\n",
              "      <td>1.1</td>\n",
              "      <td>93.994</td>\n",
              "      <td>-36.4</td>\n",
              "      <td>4.857</td>\n",
              "      <td>5191.0</td>\n",
              "      <td>no</td>\n",
              "    </tr>\n",
              "    <tr>\n",
              "      <th>1</th>\n",
              "      <td>2</td>\n",
              "      <td>57</td>\n",
              "      <td>services</td>\n",
              "      <td>married</td>\n",
              "      <td>high.school</td>\n",
              "      <td>NaN</td>\n",
              "      <td>no</td>\n",
              "      <td>no</td>\n",
              "      <td>telephone</td>\n",
              "      <td>may</td>\n",
              "      <td>...</td>\n",
              "      <td>1</td>\n",
              "      <td>999</td>\n",
              "      <td>0</td>\n",
              "      <td>nonexistent</td>\n",
              "      <td>1.1</td>\n",
              "      <td>93.994</td>\n",
              "      <td>-36.4</td>\n",
              "      <td>4.857</td>\n",
              "      <td>5191.0</td>\n",
              "      <td>no</td>\n",
              "    </tr>\n",
              "    <tr>\n",
              "      <th>2</th>\n",
              "      <td>3</td>\n",
              "      <td>37</td>\n",
              "      <td>services</td>\n",
              "      <td>married</td>\n",
              "      <td>high.school</td>\n",
              "      <td>no</td>\n",
              "      <td>yes</td>\n",
              "      <td>no</td>\n",
              "      <td>telephone</td>\n",
              "      <td>may</td>\n",
              "      <td>...</td>\n",
              "      <td>1</td>\n",
              "      <td>999</td>\n",
              "      <td>0</td>\n",
              "      <td>nonexistent</td>\n",
              "      <td>1.1</td>\n",
              "      <td>93.994</td>\n",
              "      <td>-36.4</td>\n",
              "      <td>4.857</td>\n",
              "      <td>5191.0</td>\n",
              "      <td>no</td>\n",
              "    </tr>\n",
              "    <tr>\n",
              "      <th>3</th>\n",
              "      <td>4</td>\n",
              "      <td>40</td>\n",
              "      <td>admin.</td>\n",
              "      <td>married</td>\n",
              "      <td>basic.6y</td>\n",
              "      <td>no</td>\n",
              "      <td>no</td>\n",
              "      <td>no</td>\n",
              "      <td>telephone</td>\n",
              "      <td>may</td>\n",
              "      <td>...</td>\n",
              "      <td>1</td>\n",
              "      <td>999</td>\n",
              "      <td>0</td>\n",
              "      <td>nonexistent</td>\n",
              "      <td>1.1</td>\n",
              "      <td>93.994</td>\n",
              "      <td>-36.4</td>\n",
              "      <td>4.857</td>\n",
              "      <td>5191.0</td>\n",
              "      <td>no</td>\n",
              "    </tr>\n",
              "    <tr>\n",
              "      <th>4</th>\n",
              "      <td>5</td>\n",
              "      <td>56</td>\n",
              "      <td>services</td>\n",
              "      <td>married</td>\n",
              "      <td>high.school</td>\n",
              "      <td>no</td>\n",
              "      <td>no</td>\n",
              "      <td>yes</td>\n",
              "      <td>telephone</td>\n",
              "      <td>may</td>\n",
              "      <td>...</td>\n",
              "      <td>1</td>\n",
              "      <td>999</td>\n",
              "      <td>0</td>\n",
              "      <td>nonexistent</td>\n",
              "      <td>1.1</td>\n",
              "      <td>93.994</td>\n",
              "      <td>-36.4</td>\n",
              "      <td>4.857</td>\n",
              "      <td>5191.0</td>\n",
              "      <td>no</td>\n",
              "    </tr>\n",
              "  </tbody>\n",
              "</table>\n",
              "<p>5 rows × 22 columns</p>\n",
              "</div>\n",
              "      <button class=\"colab-df-convert\" onclick=\"convertToInteractive('df-bddf25ec-d147-4e97-8969-7c663edfbd45')\"\n",
              "              title=\"Convert this dataframe to an interactive table.\"\n",
              "              style=\"display:none;\">\n",
              "        \n",
              "  <svg xmlns=\"http://www.w3.org/2000/svg\" height=\"24px\"viewBox=\"0 0 24 24\"\n",
              "       width=\"24px\">\n",
              "    <path d=\"M0 0h24v24H0V0z\" fill=\"none\"/>\n",
              "    <path d=\"M18.56 5.44l.94 2.06.94-2.06 2.06-.94-2.06-.94-.94-2.06-.94 2.06-2.06.94zm-11 1L8.5 8.5l.94-2.06 2.06-.94-2.06-.94L8.5 2.5l-.94 2.06-2.06.94zm10 10l.94 2.06.94-2.06 2.06-.94-2.06-.94-.94-2.06-.94 2.06-2.06.94z\"/><path d=\"M17.41 7.96l-1.37-1.37c-.4-.4-.92-.59-1.43-.59-.52 0-1.04.2-1.43.59L10.3 9.45l-7.72 7.72c-.78.78-.78 2.05 0 2.83L4 21.41c.39.39.9.59 1.41.59.51 0 1.02-.2 1.41-.59l7.78-7.78 2.81-2.81c.8-.78.8-2.07 0-2.86zM5.41 20L4 18.59l7.72-7.72 1.47 1.35L5.41 20z\"/>\n",
              "  </svg>\n",
              "      </button>\n",
              "      \n",
              "  <style>\n",
              "    .colab-df-container {\n",
              "      display:flex;\n",
              "      flex-wrap:wrap;\n",
              "      gap: 12px;\n",
              "    }\n",
              "\n",
              "    .colab-df-convert {\n",
              "      background-color: #E8F0FE;\n",
              "      border: none;\n",
              "      border-radius: 50%;\n",
              "      cursor: pointer;\n",
              "      display: none;\n",
              "      fill: #1967D2;\n",
              "      height: 32px;\n",
              "      padding: 0 0 0 0;\n",
              "      width: 32px;\n",
              "    }\n",
              "\n",
              "    .colab-df-convert:hover {\n",
              "      background-color: #E2EBFA;\n",
              "      box-shadow: 0px 1px 2px rgba(60, 64, 67, 0.3), 0px 1px 3px 1px rgba(60, 64, 67, 0.15);\n",
              "      fill: #174EA6;\n",
              "    }\n",
              "\n",
              "    [theme=dark] .colab-df-convert {\n",
              "      background-color: #3B4455;\n",
              "      fill: #D2E3FC;\n",
              "    }\n",
              "\n",
              "    [theme=dark] .colab-df-convert:hover {\n",
              "      background-color: #434B5C;\n",
              "      box-shadow: 0px 1px 3px 1px rgba(0, 0, 0, 0.15);\n",
              "      filter: drop-shadow(0px 1px 2px rgba(0, 0, 0, 0.3));\n",
              "      fill: #FFFFFF;\n",
              "    }\n",
              "  </style>\n",
              "\n",
              "      <script>\n",
              "        const buttonEl =\n",
              "          document.querySelector('#df-bddf25ec-d147-4e97-8969-7c663edfbd45 button.colab-df-convert');\n",
              "        buttonEl.style.display =\n",
              "          google.colab.kernel.accessAllowed ? 'block' : 'none';\n",
              "\n",
              "        async function convertToInteractive(key) {\n",
              "          const element = document.querySelector('#df-bddf25ec-d147-4e97-8969-7c663edfbd45');\n",
              "          const dataTable =\n",
              "            await google.colab.kernel.invokeFunction('convertToInteractive',\n",
              "                                                     [key], {});\n",
              "          if (!dataTable) return;\n",
              "\n",
              "          const docLinkHtml = 'Like what you see? Visit the ' +\n",
              "            '<a target=\"_blank\" href=https://colab.research.google.com/notebooks/data_table.ipynb>data table notebook</a>'\n",
              "            + ' to learn more about interactive tables.';\n",
              "          element.innerHTML = '';\n",
              "          dataTable['output_type'] = 'display_data';\n",
              "          await google.colab.output.renderOutput(dataTable, element);\n",
              "          const docLink = document.createElement('div');\n",
              "          docLink.innerHTML = docLinkHtml;\n",
              "          element.appendChild(docLink);\n",
              "        }\n",
              "      </script>\n",
              "    </div>\n",
              "  </div>\n",
              "  "
            ],
            "text/plain": [
              "   customer_no  age        job  marital    education credit_default housing  \\\n",
              "0            1   56  housemaid  married     basic.4y             no      no   \n",
              "1            2   57   services  married  high.school            NaN      no   \n",
              "2            3   37   services  married  high.school             no     yes   \n",
              "3            4   40     admin.  married     basic.6y             no      no   \n",
              "4            5   56   services  married  high.school             no      no   \n",
              "\n",
              "  loan    contact contacted_month  ... campaign  pdays  previous     poutcome  \\\n",
              "0   no  telephone             may  ...        1    999         0  nonexistent   \n",
              "1   no  telephone             may  ...        1    999         0  nonexistent   \n",
              "2   no  telephone             may  ...        1    999         0  nonexistent   \n",
              "3   no  telephone             may  ...        1    999         0  nonexistent   \n",
              "4  yes  telephone             may  ...        1    999         0  nonexistent   \n",
              "\n",
              "   emp_var_rate cons_price_idx  cons_conf_idx  euribor3m  nr_employed   y  \n",
              "0           1.1         93.994          -36.4      4.857       5191.0  no  \n",
              "1           1.1         93.994          -36.4      4.857       5191.0  no  \n",
              "2           1.1         93.994          -36.4      4.857       5191.0  no  \n",
              "3           1.1         93.994          -36.4      4.857       5191.0  no  \n",
              "4           1.1         93.994          -36.4      4.857       5191.0  no  \n",
              "\n",
              "[5 rows x 22 columns]"
            ]
          },
          "execution_count": 7,
          "metadata": {},
          "output_type": "execute_result"
        }
      ],
      "source": [
        "bank_data = pd.read_csv(\"/content/drive/MyDrive/Batch_2_ML_2/Session_14/bank-additional-full.csv\", na_values='unknown')\n",
        "test_data =  pd.read_csv(\"/content/drive/MyDrive/Batch_2_ML_2/Session_14/test_cases.csv\", na_values='unknown')\n",
        "\n",
        "print(bank_data.shape)\n",
        "print(test_data.shape)\n",
        "\n",
        "bank_data.head()"
      ]
    },
    {
      "cell_type": "markdown",
      "metadata": {
        "id": "7SK_TBA57onJ",
        "nbgrader": {
          "grade": false,
          "grade_id": "ml_10",
          "locked": true,
          "schema_version": 3,
          "solution": false,
          "task": false
        }
      },
      "source": [
        "### _Understand the dataset_"
      ]
    },
    {
      "cell_type": "code",
      "execution_count": null,
      "metadata": {
        "colab": {
          "base_uri": "https://localhost:8080/"
        },
        "id": "i9l1wNOJ7onK",
        "nbgrader": {
          "grade": false,
          "grade_id": "ml_11",
          "locked": true,
          "schema_version": 3,
          "solution": false,
          "task": false
        },
        "outputId": "699a919f-6d56-49e9-f809-52cf76ae9d62"
      },
      "outputs": [
        {
          "data": {
            "text/plain": [
              "customer_no          int64\n",
              "age                  int64\n",
              "job                 object\n",
              "marital             object\n",
              "education           object\n",
              "credit_default      object\n",
              "housing             object\n",
              "loan                object\n",
              "contact             object\n",
              "contacted_month     object\n",
              "day_of_week         object\n",
              "duration             int64\n",
              "campaign             int64\n",
              "pdays                int64\n",
              "previous             int64\n",
              "poutcome            object\n",
              "emp_var_rate       float64\n",
              "cons_price_idx     float64\n",
              "cons_conf_idx      float64\n",
              "euribor3m          float64\n",
              "nr_employed        float64\n",
              "y                   object\n",
              "dtype: object"
            ]
          },
          "execution_count": 8,
          "metadata": {},
          "output_type": "execute_result"
        }
      ],
      "source": [
        "# What are the data types?\n",
        "bank_data.dtypes"
      ]
    },
    {
      "cell_type": "code",
      "execution_count": null,
      "metadata": {
        "colab": {
          "base_uri": "https://localhost:8080/",
          "height": 364
        },
        "id": "zAPZJqy57onK",
        "nbgrader": {
          "grade": false,
          "grade_id": "ml_12",
          "locked": true,
          "schema_version": 3,
          "solution": false,
          "task": false
        },
        "outputId": "3341c623-ff39-4c1c-8b3e-4c3d9baef800"
      },
      "outputs": [
        {
          "data": {
            "text/html": [
              "\n",
              "  <div id=\"df-894a0841-56a1-4c58-8e20-ab18e2035e0d\">\n",
              "    <div class=\"colab-df-container\">\n",
              "      <div>\n",
              "<style scoped>\n",
              "    .dataframe tbody tr th:only-of-type {\n",
              "        vertical-align: middle;\n",
              "    }\n",
              "\n",
              "    .dataframe tbody tr th {\n",
              "        vertical-align: top;\n",
              "    }\n",
              "\n",
              "    .dataframe thead th {\n",
              "        text-align: right;\n",
              "    }\n",
              "</style>\n",
              "<table border=\"1\" class=\"dataframe\">\n",
              "  <thead>\n",
              "    <tr style=\"text-align: right;\">\n",
              "      <th></th>\n",
              "      <th>customer_no</th>\n",
              "      <th>age</th>\n",
              "      <th>duration</th>\n",
              "      <th>campaign</th>\n",
              "      <th>pdays</th>\n",
              "      <th>previous</th>\n",
              "      <th>emp_var_rate</th>\n",
              "      <th>cons_price_idx</th>\n",
              "      <th>cons_conf_idx</th>\n",
              "      <th>euribor3m</th>\n",
              "      <th>nr_employed</th>\n",
              "    </tr>\n",
              "  </thead>\n",
              "  <tbody>\n",
              "    <tr>\n",
              "      <th>count</th>\n",
              "      <td>41188.00000</td>\n",
              "      <td>41188.00000</td>\n",
              "      <td>41188.000000</td>\n",
              "      <td>41188.000000</td>\n",
              "      <td>41188.000000</td>\n",
              "      <td>41188.000000</td>\n",
              "      <td>41188.000000</td>\n",
              "      <td>41188.000000</td>\n",
              "      <td>41188.000000</td>\n",
              "      <td>41188.000000</td>\n",
              "      <td>41188.000000</td>\n",
              "    </tr>\n",
              "    <tr>\n",
              "      <th>mean</th>\n",
              "      <td>20594.50000</td>\n",
              "      <td>40.02406</td>\n",
              "      <td>258.285010</td>\n",
              "      <td>2.567593</td>\n",
              "      <td>962.475454</td>\n",
              "      <td>0.172963</td>\n",
              "      <td>0.081886</td>\n",
              "      <td>93.575664</td>\n",
              "      <td>-40.502600</td>\n",
              "      <td>3.621291</td>\n",
              "      <td>5167.035911</td>\n",
              "    </tr>\n",
              "    <tr>\n",
              "      <th>std</th>\n",
              "      <td>11890.09578</td>\n",
              "      <td>10.42125</td>\n",
              "      <td>259.279249</td>\n",
              "      <td>2.770014</td>\n",
              "      <td>186.910907</td>\n",
              "      <td>0.494901</td>\n",
              "      <td>1.570960</td>\n",
              "      <td>0.578840</td>\n",
              "      <td>4.628198</td>\n",
              "      <td>1.734447</td>\n",
              "      <td>72.251528</td>\n",
              "    </tr>\n",
              "    <tr>\n",
              "      <th>min</th>\n",
              "      <td>1.00000</td>\n",
              "      <td>17.00000</td>\n",
              "      <td>0.000000</td>\n",
              "      <td>1.000000</td>\n",
              "      <td>0.000000</td>\n",
              "      <td>0.000000</td>\n",
              "      <td>-3.400000</td>\n",
              "      <td>92.201000</td>\n",
              "      <td>-50.800000</td>\n",
              "      <td>0.634000</td>\n",
              "      <td>4963.600000</td>\n",
              "    </tr>\n",
              "    <tr>\n",
              "      <th>25%</th>\n",
              "      <td>10297.75000</td>\n",
              "      <td>32.00000</td>\n",
              "      <td>102.000000</td>\n",
              "      <td>1.000000</td>\n",
              "      <td>999.000000</td>\n",
              "      <td>0.000000</td>\n",
              "      <td>-1.800000</td>\n",
              "      <td>93.075000</td>\n",
              "      <td>-42.700000</td>\n",
              "      <td>1.344000</td>\n",
              "      <td>5099.100000</td>\n",
              "    </tr>\n",
              "    <tr>\n",
              "      <th>50%</th>\n",
              "      <td>20594.50000</td>\n",
              "      <td>38.00000</td>\n",
              "      <td>180.000000</td>\n",
              "      <td>2.000000</td>\n",
              "      <td>999.000000</td>\n",
              "      <td>0.000000</td>\n",
              "      <td>1.100000</td>\n",
              "      <td>93.749000</td>\n",
              "      <td>-41.800000</td>\n",
              "      <td>4.857000</td>\n",
              "      <td>5191.000000</td>\n",
              "    </tr>\n",
              "    <tr>\n",
              "      <th>75%</th>\n",
              "      <td>30891.25000</td>\n",
              "      <td>47.00000</td>\n",
              "      <td>319.000000</td>\n",
              "      <td>3.000000</td>\n",
              "      <td>999.000000</td>\n",
              "      <td>0.000000</td>\n",
              "      <td>1.400000</td>\n",
              "      <td>93.994000</td>\n",
              "      <td>-36.400000</td>\n",
              "      <td>4.961000</td>\n",
              "      <td>5228.100000</td>\n",
              "    </tr>\n",
              "    <tr>\n",
              "      <th>max</th>\n",
              "      <td>41188.00000</td>\n",
              "      <td>98.00000</td>\n",
              "      <td>4918.000000</td>\n",
              "      <td>56.000000</td>\n",
              "      <td>999.000000</td>\n",
              "      <td>7.000000</td>\n",
              "      <td>1.400000</td>\n",
              "      <td>94.767000</td>\n",
              "      <td>-26.900000</td>\n",
              "      <td>5.045000</td>\n",
              "      <td>5228.100000</td>\n",
              "    </tr>\n",
              "  </tbody>\n",
              "</table>\n",
              "</div>\n",
              "      <button class=\"colab-df-convert\" onclick=\"convertToInteractive('df-894a0841-56a1-4c58-8e20-ab18e2035e0d')\"\n",
              "              title=\"Convert this dataframe to an interactive table.\"\n",
              "              style=\"display:none;\">\n",
              "        \n",
              "  <svg xmlns=\"http://www.w3.org/2000/svg\" height=\"24px\"viewBox=\"0 0 24 24\"\n",
              "       width=\"24px\">\n",
              "    <path d=\"M0 0h24v24H0V0z\" fill=\"none\"/>\n",
              "    <path d=\"M18.56 5.44l.94 2.06.94-2.06 2.06-.94-2.06-.94-.94-2.06-.94 2.06-2.06.94zm-11 1L8.5 8.5l.94-2.06 2.06-.94-2.06-.94L8.5 2.5l-.94 2.06-2.06.94zm10 10l.94 2.06.94-2.06 2.06-.94-2.06-.94-.94-2.06-.94 2.06-2.06.94z\"/><path d=\"M17.41 7.96l-1.37-1.37c-.4-.4-.92-.59-1.43-.59-.52 0-1.04.2-1.43.59L10.3 9.45l-7.72 7.72c-.78.78-.78 2.05 0 2.83L4 21.41c.39.39.9.59 1.41.59.51 0 1.02-.2 1.41-.59l7.78-7.78 2.81-2.81c.8-.78.8-2.07 0-2.86zM5.41 20L4 18.59l7.72-7.72 1.47 1.35L5.41 20z\"/>\n",
              "  </svg>\n",
              "      </button>\n",
              "      \n",
              "  <style>\n",
              "    .colab-df-container {\n",
              "      display:flex;\n",
              "      flex-wrap:wrap;\n",
              "      gap: 12px;\n",
              "    }\n",
              "\n",
              "    .colab-df-convert {\n",
              "      background-color: #E8F0FE;\n",
              "      border: none;\n",
              "      border-radius: 50%;\n",
              "      cursor: pointer;\n",
              "      display: none;\n",
              "      fill: #1967D2;\n",
              "      height: 32px;\n",
              "      padding: 0 0 0 0;\n",
              "      width: 32px;\n",
              "    }\n",
              "\n",
              "    .colab-df-convert:hover {\n",
              "      background-color: #E2EBFA;\n",
              "      box-shadow: 0px 1px 2px rgba(60, 64, 67, 0.3), 0px 1px 3px 1px rgba(60, 64, 67, 0.15);\n",
              "      fill: #174EA6;\n",
              "    }\n",
              "\n",
              "    [theme=dark] .colab-df-convert {\n",
              "      background-color: #3B4455;\n",
              "      fill: #D2E3FC;\n",
              "    }\n",
              "\n",
              "    [theme=dark] .colab-df-convert:hover {\n",
              "      background-color: #434B5C;\n",
              "      box-shadow: 0px 1px 3px 1px rgba(0, 0, 0, 0.15);\n",
              "      filter: drop-shadow(0px 1px 2px rgba(0, 0, 0, 0.3));\n",
              "      fill: #FFFFFF;\n",
              "    }\n",
              "  </style>\n",
              "\n",
              "      <script>\n",
              "        const buttonEl =\n",
              "          document.querySelector('#df-894a0841-56a1-4c58-8e20-ab18e2035e0d button.colab-df-convert');\n",
              "        buttonEl.style.display =\n",
              "          google.colab.kernel.accessAllowed ? 'block' : 'none';\n",
              "\n",
              "        async function convertToInteractive(key) {\n",
              "          const element = document.querySelector('#df-894a0841-56a1-4c58-8e20-ab18e2035e0d');\n",
              "          const dataTable =\n",
              "            await google.colab.kernel.invokeFunction('convertToInteractive',\n",
              "                                                     [key], {});\n",
              "          if (!dataTable) return;\n",
              "\n",
              "          const docLinkHtml = 'Like what you see? Visit the ' +\n",
              "            '<a target=\"_blank\" href=https://colab.research.google.com/notebooks/data_table.ipynb>data table notebook</a>'\n",
              "            + ' to learn more about interactive tables.';\n",
              "          element.innerHTML = '';\n",
              "          dataTable['output_type'] = 'display_data';\n",
              "          await google.colab.output.renderOutput(dataTable, element);\n",
              "          const docLink = document.createElement('div');\n",
              "          docLink.innerHTML = docLinkHtml;\n",
              "          element.appendChild(docLink);\n",
              "        }\n",
              "      </script>\n",
              "    </div>\n",
              "  </div>\n",
              "  "
            ],
            "text/plain": [
              "       customer_no          age      duration      campaign         pdays  \\\n",
              "count  41188.00000  41188.00000  41188.000000  41188.000000  41188.000000   \n",
              "mean   20594.50000     40.02406    258.285010      2.567593    962.475454   \n",
              "std    11890.09578     10.42125    259.279249      2.770014    186.910907   \n",
              "min        1.00000     17.00000      0.000000      1.000000      0.000000   \n",
              "25%    10297.75000     32.00000    102.000000      1.000000    999.000000   \n",
              "50%    20594.50000     38.00000    180.000000      2.000000    999.000000   \n",
              "75%    30891.25000     47.00000    319.000000      3.000000    999.000000   \n",
              "max    41188.00000     98.00000   4918.000000     56.000000    999.000000   \n",
              "\n",
              "           previous  emp_var_rate  cons_price_idx  cons_conf_idx  \\\n",
              "count  41188.000000  41188.000000    41188.000000   41188.000000   \n",
              "mean       0.172963      0.081886       93.575664     -40.502600   \n",
              "std        0.494901      1.570960        0.578840       4.628198   \n",
              "min        0.000000     -3.400000       92.201000     -50.800000   \n",
              "25%        0.000000     -1.800000       93.075000     -42.700000   \n",
              "50%        0.000000      1.100000       93.749000     -41.800000   \n",
              "75%        0.000000      1.400000       93.994000     -36.400000   \n",
              "max        7.000000      1.400000       94.767000     -26.900000   \n",
              "\n",
              "          euribor3m   nr_employed  \n",
              "count  41188.000000  41188.000000  \n",
              "mean       3.621291   5167.035911  \n",
              "std        1.734447     72.251528  \n",
              "min        0.634000   4963.600000  \n",
              "25%        1.344000   5099.100000  \n",
              "50%        4.857000   5191.000000  \n",
              "75%        4.961000   5228.100000  \n",
              "max        5.045000   5228.100000  "
            ]
          },
          "execution_count": 9,
          "metadata": {},
          "output_type": "execute_result"
        }
      ],
      "source": [
        "# What is the distribution of numerical columns?\n",
        "bank_data.describe()"
      ]
    },
    {
      "cell_type": "code",
      "execution_count": null,
      "metadata": {
        "colab": {
          "base_uri": "https://localhost:8080/",
          "height": 175
        },
        "id": "b4x5a8X47onK",
        "nbgrader": {
          "grade": false,
          "grade_id": "ml_13",
          "locked": true,
          "schema_version": 3,
          "solution": false,
          "task": false
        },
        "outputId": "72cc6e27-827d-4492-e1f4-361d05e9ce1b"
      },
      "outputs": [
        {
          "data": {
            "text/html": [
              "\n",
              "  <div id=\"df-e232d674-e9c4-49c3-99d0-cdf8b19272e3\">\n",
              "    <div class=\"colab-df-container\">\n",
              "      <div>\n",
              "<style scoped>\n",
              "    .dataframe tbody tr th:only-of-type {\n",
              "        vertical-align: middle;\n",
              "    }\n",
              "\n",
              "    .dataframe tbody tr th {\n",
              "        vertical-align: top;\n",
              "    }\n",
              "\n",
              "    .dataframe thead th {\n",
              "        text-align: right;\n",
              "    }\n",
              "</style>\n",
              "<table border=\"1\" class=\"dataframe\">\n",
              "  <thead>\n",
              "    <tr style=\"text-align: right;\">\n",
              "      <th></th>\n",
              "      <th>job</th>\n",
              "      <th>marital</th>\n",
              "      <th>education</th>\n",
              "      <th>credit_default</th>\n",
              "      <th>housing</th>\n",
              "      <th>loan</th>\n",
              "      <th>contact</th>\n",
              "      <th>contacted_month</th>\n",
              "      <th>day_of_week</th>\n",
              "      <th>poutcome</th>\n",
              "      <th>y</th>\n",
              "    </tr>\n",
              "  </thead>\n",
              "  <tbody>\n",
              "    <tr>\n",
              "      <th>count</th>\n",
              "      <td>40858</td>\n",
              "      <td>41108</td>\n",
              "      <td>39457</td>\n",
              "      <td>32591</td>\n",
              "      <td>40198</td>\n",
              "      <td>40198</td>\n",
              "      <td>41188</td>\n",
              "      <td>41188</td>\n",
              "      <td>41188</td>\n",
              "      <td>41188</td>\n",
              "      <td>41188</td>\n",
              "    </tr>\n",
              "    <tr>\n",
              "      <th>unique</th>\n",
              "      <td>11</td>\n",
              "      <td>3</td>\n",
              "      <td>7</td>\n",
              "      <td>2</td>\n",
              "      <td>2</td>\n",
              "      <td>2</td>\n",
              "      <td>2</td>\n",
              "      <td>10</td>\n",
              "      <td>5</td>\n",
              "      <td>3</td>\n",
              "      <td>2</td>\n",
              "    </tr>\n",
              "    <tr>\n",
              "      <th>top</th>\n",
              "      <td>admin.</td>\n",
              "      <td>married</td>\n",
              "      <td>university.degree</td>\n",
              "      <td>no</td>\n",
              "      <td>yes</td>\n",
              "      <td>no</td>\n",
              "      <td>cellular</td>\n",
              "      <td>may</td>\n",
              "      <td>thu</td>\n",
              "      <td>nonexistent</td>\n",
              "      <td>no</td>\n",
              "    </tr>\n",
              "    <tr>\n",
              "      <th>freq</th>\n",
              "      <td>10422</td>\n",
              "      <td>24928</td>\n",
              "      <td>12168</td>\n",
              "      <td>32588</td>\n",
              "      <td>21576</td>\n",
              "      <td>33950</td>\n",
              "      <td>26144</td>\n",
              "      <td>13769</td>\n",
              "      <td>8623</td>\n",
              "      <td>35563</td>\n",
              "      <td>36548</td>\n",
              "    </tr>\n",
              "  </tbody>\n",
              "</table>\n",
              "</div>\n",
              "      <button class=\"colab-df-convert\" onclick=\"convertToInteractive('df-e232d674-e9c4-49c3-99d0-cdf8b19272e3')\"\n",
              "              title=\"Convert this dataframe to an interactive table.\"\n",
              "              style=\"display:none;\">\n",
              "        \n",
              "  <svg xmlns=\"http://www.w3.org/2000/svg\" height=\"24px\"viewBox=\"0 0 24 24\"\n",
              "       width=\"24px\">\n",
              "    <path d=\"M0 0h24v24H0V0z\" fill=\"none\"/>\n",
              "    <path d=\"M18.56 5.44l.94 2.06.94-2.06 2.06-.94-2.06-.94-.94-2.06-.94 2.06-2.06.94zm-11 1L8.5 8.5l.94-2.06 2.06-.94-2.06-.94L8.5 2.5l-.94 2.06-2.06.94zm10 10l.94 2.06.94-2.06 2.06-.94-2.06-.94-.94-2.06-.94 2.06-2.06.94z\"/><path d=\"M17.41 7.96l-1.37-1.37c-.4-.4-.92-.59-1.43-.59-.52 0-1.04.2-1.43.59L10.3 9.45l-7.72 7.72c-.78.78-.78 2.05 0 2.83L4 21.41c.39.39.9.59 1.41.59.51 0 1.02-.2 1.41-.59l7.78-7.78 2.81-2.81c.8-.78.8-2.07 0-2.86zM5.41 20L4 18.59l7.72-7.72 1.47 1.35L5.41 20z\"/>\n",
              "  </svg>\n",
              "      </button>\n",
              "      \n",
              "  <style>\n",
              "    .colab-df-container {\n",
              "      display:flex;\n",
              "      flex-wrap:wrap;\n",
              "      gap: 12px;\n",
              "    }\n",
              "\n",
              "    .colab-df-convert {\n",
              "      background-color: #E8F0FE;\n",
              "      border: none;\n",
              "      border-radius: 50%;\n",
              "      cursor: pointer;\n",
              "      display: none;\n",
              "      fill: #1967D2;\n",
              "      height: 32px;\n",
              "      padding: 0 0 0 0;\n",
              "      width: 32px;\n",
              "    }\n",
              "\n",
              "    .colab-df-convert:hover {\n",
              "      background-color: #E2EBFA;\n",
              "      box-shadow: 0px 1px 2px rgba(60, 64, 67, 0.3), 0px 1px 3px 1px rgba(60, 64, 67, 0.15);\n",
              "      fill: #174EA6;\n",
              "    }\n",
              "\n",
              "    [theme=dark] .colab-df-convert {\n",
              "      background-color: #3B4455;\n",
              "      fill: #D2E3FC;\n",
              "    }\n",
              "\n",
              "    [theme=dark] .colab-df-convert:hover {\n",
              "      background-color: #434B5C;\n",
              "      box-shadow: 0px 1px 3px 1px rgba(0, 0, 0, 0.15);\n",
              "      filter: drop-shadow(0px 1px 2px rgba(0, 0, 0, 0.3));\n",
              "      fill: #FFFFFF;\n",
              "    }\n",
              "  </style>\n",
              "\n",
              "      <script>\n",
              "        const buttonEl =\n",
              "          document.querySelector('#df-e232d674-e9c4-49c3-99d0-cdf8b19272e3 button.colab-df-convert');\n",
              "        buttonEl.style.display =\n",
              "          google.colab.kernel.accessAllowed ? 'block' : 'none';\n",
              "\n",
              "        async function convertToInteractive(key) {\n",
              "          const element = document.querySelector('#df-e232d674-e9c4-49c3-99d0-cdf8b19272e3');\n",
              "          const dataTable =\n",
              "            await google.colab.kernel.invokeFunction('convertToInteractive',\n",
              "                                                     [key], {});\n",
              "          if (!dataTable) return;\n",
              "\n",
              "          const docLinkHtml = 'Like what you see? Visit the ' +\n",
              "            '<a target=\"_blank\" href=https://colab.research.google.com/notebooks/data_table.ipynb>data table notebook</a>'\n",
              "            + ' to learn more about interactive tables.';\n",
              "          element.innerHTML = '';\n",
              "          dataTable['output_type'] = 'display_data';\n",
              "          await google.colab.output.renderOutput(dataTable, element);\n",
              "          const docLink = document.createElement('div');\n",
              "          docLink.innerHTML = docLinkHtml;\n",
              "          element.appendChild(docLink);\n",
              "        }\n",
              "      </script>\n",
              "    </div>\n",
              "  </div>\n",
              "  "
            ],
            "text/plain": [
              "           job  marital          education credit_default housing   loan  \\\n",
              "count    40858    41108              39457          32591   40198  40198   \n",
              "unique      11        3                  7              2       2      2   \n",
              "top     admin.  married  university.degree             no     yes     no   \n",
              "freq     10422    24928              12168          32588   21576  33950   \n",
              "\n",
              "         contact contacted_month day_of_week     poutcome      y  \n",
              "count      41188           41188       41188        41188  41188  \n",
              "unique         2              10           5            3      2  \n",
              "top     cellular             may         thu  nonexistent     no  \n",
              "freq       26144           13769        8623        35563  36548  "
            ]
          },
          "execution_count": 10,
          "metadata": {},
          "output_type": "execute_result"
        }
      ],
      "source": [
        "# What about categorical variable levels count?\n",
        "bank_data.describe(include=['object'])"
      ]
    },
    {
      "cell_type": "code",
      "execution_count": null,
      "metadata": {
        "colab": {
          "base_uri": "https://localhost:8080/"
        },
        "id": "Suf_VWPa7onK",
        "nbgrader": {
          "grade": false,
          "grade_id": "ml_14",
          "locked": true,
          "schema_version": 3,
          "solution": false,
          "task": false
        },
        "outputId": "d6d71b02-cf39-4981-b0d6-d68e0fc18001"
      },
      "outputs": [
        {
          "data": {
            "text/plain": [
              "married     24928\n",
              "single      11568\n",
              "divorced     4612\n",
              "Name: marital, dtype: int64"
            ]
          },
          "execution_count": 11,
          "metadata": {},
          "output_type": "execute_result"
        }
      ],
      "source": [
        "bank_data.marital.value_counts()"
      ]
    },
    {
      "cell_type": "markdown",
      "metadata": {
        "id": "KXzBoABx7onK",
        "nbgrader": {
          "grade": false,
          "grade_id": "ml_15",
          "locked": true,
          "schema_version": 3,
          "solution": false,
          "task": false
        }
      },
      "source": [
        "### _Distribution of dependent variable_"
      ]
    },
    {
      "cell_type": "code",
      "execution_count": null,
      "metadata": {
        "colab": {
          "base_uri": "https://localhost:8080/"
        },
        "id": "UbkhD2LW7onL",
        "nbgrader": {
          "grade": false,
          "grade_id": "ml_16",
          "locked": true,
          "schema_version": 3,
          "solution": false,
          "task": false
        },
        "outputId": "7e3aad3f-df61-4d56-8c49-022a425f4882"
      },
      "outputs": [
        {
          "data": {
            "text/plain": [
              "no     36548\n",
              "yes     4640\n",
              "Name: y, dtype: int64"
            ]
          },
          "execution_count": 12,
          "metadata": {},
          "output_type": "execute_result"
        }
      ],
      "source": [
        "bank_data.y.value_counts()"
      ]
    },
    {
      "cell_type": "code",
      "execution_count": null,
      "metadata": {
        "colab": {
          "base_uri": "https://localhost:8080/"
        },
        "id": "ykp5qnYo7onL",
        "nbgrader": {
          "grade": false,
          "grade_id": "ml_17",
          "locked": true,
          "schema_version": 3,
          "solution": false,
          "task": false
        },
        "outputId": "0617d623-2333-47d8-81e8-df0479d8a553"
      },
      "outputs": [
        {
          "data": {
            "text/plain": [
              "no     88.734583\n",
              "yes    11.265417\n",
              "Name: y, dtype: float64"
            ]
          },
          "execution_count": 13,
          "metadata": {},
          "output_type": "execute_result"
        }
      ],
      "source": [
        "# Check the distribution of target values\n",
        "bank_data.y.value_counts(normalize=True)*100"
      ]
    },
    {
      "cell_type": "code",
      "execution_count": null,
      "metadata": {
        "colab": {
          "base_uri": "https://localhost:8080/",
          "height": 350
        },
        "id": "AIwqG7XR7onL",
        "nbgrader": {
          "grade": false,
          "grade_id": "ml_18",
          "locked": true,
          "schema_version": 3,
          "solution": false,
          "task": false
        },
        "outputId": "5ca57af9-a043-4d8d-fcd4-2d91ee968113"
      },
      "outputs": [
        {
          "data": {
            "image/png": "[encoded data removed]",
            "text/plain": [
              "<Figure size 432x288 with 1 Axes>"
            ]
          },
          "metadata": {
            "needs_background": "light"
          },
          "output_type": "display_data"
        },
        {
          "name": "stdout",
          "output_type": "stream",
          "text": [
            "no     36548\n",
            "yes     4640\n",
            "Name: y, dtype: int64\n",
            "Percentage of people who have taken the campaign: 11.265417111780131 %\n"
          ]
        }
      ],
      "source": [
        "# Plot Distribution\n",
        "sns.countplot(x='y',data=bank_data)\n",
        "plt.show()\n",
        "\n",
        "# What are the counts?\n",
        "print(bank_data.y.value_counts())\n",
        "\n",
        "# What is the percentage?\n",
        "count_yes = len(bank_data[bank_data.y == 'yes'])\n",
        "count_no = len(bank_data[bank_data.y != 'yes'])\n",
        "\n",
        "percent_success = (count_yes/(count_yes + count_no))*100\n",
        "\n",
        "print('Percentage of people who have taken the campaign:', percent_success, \"%\")"
      ]
    },
    {
      "cell_type": "markdown",
      "metadata": {
        "id": "AjOQJtRx7onL",
        "nbgrader": {
          "grade": false,
          "grade_id": "ml_19",
          "locked": true,
          "schema_version": 3,
          "solution": false,
          "task": false
        }
      },
      "source": [
        "### _Distribution of Other Variables_"
      ]
    },
    {
      "cell_type": "code",
      "execution_count": null,
      "metadata": {
        "colab": {
          "base_uri": "https://localhost:8080/",
          "height": 333
        },
        "id": "Ux1xNBlZ7onL",
        "nbgrader": {
          "grade": false,
          "grade_id": "ml_20",
          "locked": true,
          "schema_version": 3,
          "solution": false,
          "task": false
        },
        "outputId": "86670569-1cae-4e39-f952-27a4a7abe819"
      },
      "outputs": [
        {
          "data": {
            "image/png": "[encoded data removed]",
            "text/plain": [
              "<Figure size 432x288 with 1 Axes>"
            ]
          },
          "metadata": {
            "needs_background": "light"
          },
          "output_type": "display_data"
        },
        {
          "data": {
            "text/plain": [
              "no     32588\n",
              "yes        3\n",
              "Name: credit_default, dtype: int64"
            ]
          },
          "execution_count": 15,
          "metadata": {},
          "output_type": "execute_result"
        }
      ],
      "source": [
        "sns.countplot(x=\"credit_default\", data=bank_data)\n",
        "plt.show()\n",
        "\n",
        "bank_data.credit_default.value_counts()"
      ]
    },
    {
      "cell_type": "code",
      "execution_count": null,
      "metadata": {
        "colab": {
          "base_uri": "https://localhost:8080/"
        },
        "id": "Rks35vPF7onL",
        "nbgrader": {
          "grade": false,
          "grade_id": "ml_21",
          "locked": true,
          "schema_version": 3,
          "solution": false,
          "task": false
        },
        "outputId": "831b2118-8474-4b64-9881-6388d5d28d3e"
      },
      "outputs": [
        {
          "data": {
            "text/plain": [
              "thu    22.521552\n",
              "tue    20.538793\n",
              "wed    20.452586\n",
              "mon    18.254310\n",
              "fri    18.232759\n",
              "Name: day_of_week, dtype: float64"
            ]
          },
          "execution_count": 16,
          "metadata": {},
          "output_type": "execute_result"
        }
      ],
      "source": [
        "## when someone is subscribing for the campaign, is it on a particular day of the week?\n",
        "bank_data[bank_data.y == 'yes'].day_of_week.value_counts(normalize=True)*100"
      ]
    },
    {
      "cell_type": "markdown",
      "metadata": {
        "id": "EnZt9SHA7onL",
        "nbgrader": {
          "grade": false,
          "grade_id": "ml_22",
          "locked": true,
          "schema_version": 3,
          "solution": false,
          "task": false
        }
      },
      "source": [
        "### _Drawing trends toward the target variable_"
      ]
    },
    {
      "cell_type": "code",
      "execution_count": null,
      "metadata": {
        "colab": {
          "base_uri": "https://localhost:8080/",
          "height": 187
        },
        "id": "dOgDIsdm7onL",
        "nbgrader": {
          "grade": false,
          "grade_id": "ml_23",
          "locked": true,
          "schema_version": 3,
          "solution": false,
          "task": false
        },
        "outputId": "e8c78068-4aa1-4295-dca8-b5fa13b5b849"
      },
      "outputs": [
        {
          "data": {
            "text/html": [
              "\n",
              "  <div id=\"df-a34d779a-8c1f-41f2-8a53-026725000158\">\n",
              "    <div class=\"colab-df-container\">\n",
              "      <div>\n",
              "<style scoped>\n",
              "    .dataframe tbody tr th:only-of-type {\n",
              "        vertical-align: middle;\n",
              "    }\n",
              "\n",
              "    .dataframe tbody tr th {\n",
              "        vertical-align: top;\n",
              "    }\n",
              "\n",
              "    .dataframe thead th {\n",
              "        text-align: right;\n",
              "    }\n",
              "</style>\n",
              "<table border=\"1\" class=\"dataframe\">\n",
              "  <thead>\n",
              "    <tr style=\"text-align: right;\">\n",
              "      <th></th>\n",
              "      <th>customer_no</th>\n",
              "      <th>age</th>\n",
              "      <th>duration</th>\n",
              "      <th>campaign</th>\n",
              "      <th>pdays</th>\n",
              "      <th>previous</th>\n",
              "      <th>emp_var_rate</th>\n",
              "      <th>cons_price_idx</th>\n",
              "      <th>cons_conf_idx</th>\n",
              "      <th>euribor3m</th>\n",
              "      <th>nr_employed</th>\n",
              "    </tr>\n",
              "    <tr>\n",
              "      <th>y</th>\n",
              "      <th></th>\n",
              "      <th></th>\n",
              "      <th></th>\n",
              "      <th></th>\n",
              "      <th></th>\n",
              "      <th></th>\n",
              "      <th></th>\n",
              "      <th></th>\n",
              "      <th></th>\n",
              "      <th></th>\n",
              "      <th></th>\n",
              "    </tr>\n",
              "  </thead>\n",
              "  <tbody>\n",
              "    <tr>\n",
              "      <th>no</th>\n",
              "      <td>19354.359719</td>\n",
              "      <td>39.911185</td>\n",
              "      <td>220.844807</td>\n",
              "      <td>2.633085</td>\n",
              "      <td>984.113878</td>\n",
              "      <td>0.132374</td>\n",
              "      <td>0.248875</td>\n",
              "      <td>93.603757</td>\n",
              "      <td>-40.593097</td>\n",
              "      <td>3.811491</td>\n",
              "      <td>5176.166600</td>\n",
              "    </tr>\n",
              "    <tr>\n",
              "      <th>yes</th>\n",
              "      <td>30362.742888</td>\n",
              "      <td>40.913147</td>\n",
              "      <td>553.191164</td>\n",
              "      <td>2.051724</td>\n",
              "      <td>792.035560</td>\n",
              "      <td>0.492672</td>\n",
              "      <td>-1.233448</td>\n",
              "      <td>93.354386</td>\n",
              "      <td>-39.789784</td>\n",
              "      <td>2.123135</td>\n",
              "      <td>5095.115991</td>\n",
              "    </tr>\n",
              "  </tbody>\n",
              "</table>\n",
              "</div>\n",
              "      <button class=\"colab-df-convert\" onclick=\"convertToInteractive('df-a34d779a-8c1f-41f2-8a53-026725000158')\"\n",
              "              title=\"Convert this dataframe to an interactive table.\"\n",
              "              style=\"display:none;\">\n",
              "        \n",
              "  <svg xmlns=\"http://www.w3.org/2000/svg\" height=\"24px\"viewBox=\"0 0 24 24\"\n",
              "       width=\"24px\">\n",
              "    <path d=\"M0 0h24v24H0V0z\" fill=\"none\"/>\n",
              "    <path d=\"M18.56 5.44l.94 2.06.94-2.06 2.06-.94-2.06-.94-.94-2.06-.94 2.06-2.06.94zm-11 1L8.5 8.5l.94-2.06 2.06-.94-2.06-.94L8.5 2.5l-.94 2.06-2.06.94zm10 10l.94 2.06.94-2.06 2.06-.94-2.06-.94-.94-2.06-.94 2.06-2.06.94z\"/><path d=\"M17.41 7.96l-1.37-1.37c-.4-.4-.92-.59-1.43-.59-.52 0-1.04.2-1.43.59L10.3 9.45l-7.72 7.72c-.78.78-.78 2.05 0 2.83L4 21.41c.39.39.9.59 1.41.59.51 0 1.02-.2 1.41-.59l7.78-7.78 2.81-2.81c.8-.78.8-2.07 0-2.86zM5.41 20L4 18.59l7.72-7.72 1.47 1.35L5.41 20z\"/>\n",
              "  </svg>\n",
              "      </button>\n",
              "      \n",
              "  <style>\n",
              "    .colab-df-container {\n",
              "      display:flex;\n",
              "      flex-wrap:wrap;\n",
              "      gap: 12px;\n",
              "    }\n",
              "\n",
              "    .colab-df-convert {\n",
              "      background-color: #E8F0FE;\n",
              "      border: none;\n",
              "      border-radius: 50%;\n",
              "      cursor: pointer;\n",
              "      display: none;\n",
              "      fill: #1967D2;\n",
              "      height: 32px;\n",
              "      padding: 0 0 0 0;\n",
              "      width: 32px;\n",
              "    }\n",
              "\n",
              "    .colab-df-convert:hover {\n",
              "      background-color: #E2EBFA;\n",
              "      box-shadow: 0px 1px 2px rgba(60, 64, 67, 0.3), 0px 1px 3px 1px rgba(60, 64, 67, 0.15);\n",
              "      fill: #174EA6;\n",
              "    }\n",
              "\n",
              "    [theme=dark] .colab-df-convert {\n",
              "      background-color: #3B4455;\n",
              "      fill: #D2E3FC;\n",
              "    }\n",
              "\n",
              "    [theme=dark] .colab-df-convert:hover {\n",
              "      background-color: #434B5C;\n",
              "      box-shadow: 0px 1px 3px 1px rgba(0, 0, 0, 0.15);\n",
              "      filter: drop-shadow(0px 1px 2px rgba(0, 0, 0, 0.3));\n",
              "      fill: #FFFFFF;\n",
              "    }\n",
              "  </style>\n",
              "\n",
              "      <script>\n",
              "        const buttonEl =\n",
              "          document.querySelector('#df-a34d779a-8c1f-41f2-8a53-026725000158 button.colab-df-convert');\n",
              "        buttonEl.style.display =\n",
              "          google.colab.kernel.accessAllowed ? 'block' : 'none';\n",
              "\n",
              "        async function convertToInteractive(key) {\n",
              "          const element = document.querySelector('#df-a34d779a-8c1f-41f2-8a53-026725000158');\n",
              "          const dataTable =\n",
              "            await google.colab.kernel.invokeFunction('convertToInteractive',\n",
              "                                                     [key], {});\n",
              "          if (!dataTable) return;\n",
              "\n",
              "          const docLinkHtml = 'Like what you see? Visit the ' +\n",
              "            '<a target=\"_blank\" href=https://colab.research.google.com/notebooks/data_table.ipynb>data table notebook</a>'\n",
              "            + ' to learn more about interactive tables.';\n",
              "          element.innerHTML = '';\n",
              "          dataTable['output_type'] = 'display_data';\n",
              "          await google.colab.output.renderOutput(dataTable, element);\n",
              "          const docLink = document.createElement('div');\n",
              "          docLink.innerHTML = docLinkHtml;\n",
              "          element.appendChild(docLink);\n",
              "        }\n",
              "      </script>\n",
              "    </div>\n",
              "  </div>\n",
              "  "
            ],
            "text/plain": [
              "      customer_no        age    duration  campaign       pdays  previous  \\\n",
              "y                                                                          \n",
              "no   19354.359719  39.911185  220.844807  2.633085  984.113878  0.132374   \n",
              "yes  30362.742888  40.913147  553.191164  2.051724  792.035560  0.492672   \n",
              "\n",
              "     emp_var_rate  cons_price_idx  cons_conf_idx  euribor3m  nr_employed  \n",
              "y                                                                         \n",
              "no       0.248875       93.603757     -40.593097   3.811491  5176.166600  \n",
              "yes     -1.233448       93.354386     -39.789784   2.123135  5095.115991  "
            ]
          },
          "execution_count": 17,
          "metadata": {},
          "output_type": "execute_result"
        }
      ],
      "source": [
        "bank_data.groupby('y').mean()"
      ]
    },
    {
      "cell_type": "code",
      "execution_count": null,
      "metadata": {
        "colab": {
          "base_uri": "https://localhost:8080/",
          "height": 297
        },
        "id": "Nz9Nh39k7onM",
        "nbgrader": {
          "grade": false,
          "grade_id": "ml_24",
          "locked": true,
          "schema_version": 3,
          "solution": false,
          "task": false
        },
        "outputId": "98dbb82b-68ba-472f-feb2-db0dc0b78e4c"
      },
      "outputs": [
        {
          "data": {
            "text/plain": [
              "<matplotlib.axes._subplots.AxesSubplot at 0x7f25ee303f10>"
            ]
          },
          "execution_count": 18,
          "metadata": {},
          "output_type": "execute_result"
        },
        {
          "data": {
            "image/png": "[encoded data removed]",
            "text/plain": [
              "<Figure size 432x288 with 1 Axes>"
            ]
          },
          "metadata": {
            "needs_background": "light"
          },
          "output_type": "display_data"
        }
      ],
      "source": [
        "# Check distribution of age\n",
        "%matplotlib inline\n",
        "sns.distplot(bank_data[\"age\"] )"
      ]
    },
    {
      "cell_type": "code",
      "execution_count": null,
      "metadata": {
        "colab": {
          "base_uri": "https://localhost:8080/",
          "height": 834
        },
        "id": "_XVSlc8_7onM",
        "nbgrader": {
          "grade": false,
          "grade_id": "ml_25",
          "locked": true,
          "schema_version": 3,
          "solution": false,
          "task": false
        },
        "outputId": "6a5f0ee5-7755-48f1-8170-045a5098beb5"
      },
      "outputs": [
        {
          "data": {
            "text/html": [
              "\n",
              "  <div id=\"df-2e039aaa-1286-4de6-8299-d3168cb0fa24\">\n",
              "    <div class=\"colab-df-container\">\n",
              "      <div>\n",
              "<style scoped>\n",
              "    .dataframe tbody tr th:only-of-type {\n",
              "        vertical-align: middle;\n",
              "    }\n",
              "\n",
              "    .dataframe tbody tr th {\n",
              "        vertical-align: top;\n",
              "    }\n",
              "\n",
              "    .dataframe thead th {\n",
              "        text-align: right;\n",
              "    }\n",
              "</style>\n",
              "<table border=\"1\" class=\"dataframe\">\n",
              "  <thead>\n",
              "    <tr style=\"text-align: right;\">\n",
              "      <th></th>\n",
              "      <th></th>\n",
              "      <th>customer_no</th>\n",
              "      <th>age</th>\n",
              "      <th>duration</th>\n",
              "      <th>campaign</th>\n",
              "      <th>pdays</th>\n",
              "      <th>previous</th>\n",
              "      <th>emp_var_rate</th>\n",
              "      <th>cons_price_idx</th>\n",
              "      <th>cons_conf_idx</th>\n",
              "      <th>euribor3m</th>\n",
              "      <th>nr_employed</th>\n",
              "    </tr>\n",
              "    <tr>\n",
              "      <th>job</th>\n",
              "      <th>y</th>\n",
              "      <th></th>\n",
              "      <th></th>\n",
              "      <th></th>\n",
              "      <th></th>\n",
              "      <th></th>\n",
              "      <th></th>\n",
              "      <th></th>\n",
              "      <th></th>\n",
              "      <th></th>\n",
              "      <th></th>\n",
              "      <th></th>\n",
              "    </tr>\n",
              "  </thead>\n",
              "  <tbody>\n",
              "    <tr>\n",
              "      <th rowspan=\"2\" valign=\"top\">admin.</th>\n",
              "      <th>no</th>\n",
              "      <td>20442.671555</td>\n",
              "      <td>38.219846</td>\n",
              "      <td>215.093385</td>\n",
              "      <td>2.707718</td>\n",
              "      <td>981.270783</td>\n",
              "      <td>0.141125</td>\n",
              "      <td>0.224068</td>\n",
              "      <td>93.566030</td>\n",
              "      <td>-40.349768</td>\n",
              "      <td>3.786567</td>\n",
              "      <td>5175.512051</td>\n",
              "    </tr>\n",
              "    <tr>\n",
              "      <th>yes</th>\n",
              "      <td>31593.672337</td>\n",
              "      <td>37.968935</td>\n",
              "      <td>517.414201</td>\n",
              "      <td>2.058432</td>\n",
              "      <td>773.512574</td>\n",
              "      <td>0.510355</td>\n",
              "      <td>-1.383210</td>\n",
              "      <td>93.319537</td>\n",
              "      <td>-39.545488</td>\n",
              "      <td>1.965078</td>\n",
              "      <td>5087.736760</td>\n",
              "    </tr>\n",
              "    <tr>\n",
              "      <th rowspan=\"2\" valign=\"top\">blue-collar</th>\n",
              "      <th>no</th>\n",
              "      <td>17463.693013</td>\n",
              "      <td>39.582057</td>\n",
              "      <td>229.878018</td>\n",
              "      <td>2.588208</td>\n",
              "      <td>991.516365</td>\n",
              "      <td>0.111653</td>\n",
              "      <td>0.303552</td>\n",
              "      <td>93.668887</td>\n",
              "      <td>-41.346565</td>\n",
              "      <td>3.835402</td>\n",
              "      <td>5178.296031</td>\n",
              "    </tr>\n",
              "    <tr>\n",
              "      <th>yes</th>\n",
              "      <td>24442.830721</td>\n",
              "      <td>39.200627</td>\n",
              "      <td>732.673981</td>\n",
              "      <td>2.156740</td>\n",
              "      <td>899.324451</td>\n",
              "      <td>0.269592</td>\n",
              "      <td>-0.487774</td>\n",
              "      <td>93.491480</td>\n",
              "      <td>-41.770846</td>\n",
              "      <td>2.915715</td>\n",
              "      <td>5139.410658</td>\n",
              "    </tr>\n",
              "    <tr>\n",
              "      <th rowspan=\"2\" valign=\"top\">entrepreneur</th>\n",
              "      <th>no</th>\n",
              "      <td>18595.058559</td>\n",
              "      <td>41.703453</td>\n",
              "      <td>225.632883</td>\n",
              "      <td>2.579580</td>\n",
              "      <td>987.813814</td>\n",
              "      <td>0.128378</td>\n",
              "      <td>0.242868</td>\n",
              "      <td>93.626245</td>\n",
              "      <td>-41.319820</td>\n",
              "      <td>3.881632</td>\n",
              "      <td>5180.205631</td>\n",
              "    </tr>\n",
              "    <tr>\n",
              "      <th>yes</th>\n",
              "      <td>25937.862903</td>\n",
              "      <td>41.935484</td>\n",
              "      <td>667.540323</td>\n",
              "      <td>2.064516</td>\n",
              "      <td>910.943548</td>\n",
              "      <td>0.250000</td>\n",
              "      <td>-0.745161</td>\n",
              "      <td>93.381153</td>\n",
              "      <td>-40.895161</td>\n",
              "      <td>2.818839</td>\n",
              "      <td>5134.504839</td>\n",
              "    </tr>\n",
              "    <tr>\n",
              "      <th rowspan=\"2\" valign=\"top\">housemaid</th>\n",
              "      <th>no</th>\n",
              "      <td>17192.181342</td>\n",
              "      <td>44.705451</td>\n",
              "      <td>218.778826</td>\n",
              "      <td>2.722222</td>\n",
              "      <td>986.491614</td>\n",
              "      <td>0.089099</td>\n",
              "      <td>0.641300</td>\n",
              "      <td>93.712759</td>\n",
              "      <td>-39.626834</td>\n",
              "      <td>4.243082</td>\n",
              "      <td>5190.553249</td>\n",
              "    </tr>\n",
              "    <tr>\n",
              "      <th>yes</th>\n",
              "      <td>31707.264151</td>\n",
              "      <td>52.650943</td>\n",
              "      <td>535.537736</td>\n",
              "      <td>1.896226</td>\n",
              "      <td>727.367925</td>\n",
              "      <td>0.575472</td>\n",
              "      <td>-1.437736</td>\n",
              "      <td>93.350934</td>\n",
              "      <td>-38.311321</td>\n",
              "      <td>1.908717</td>\n",
              "      <td>5080.316981</td>\n",
              "    </tr>\n",
              "    <tr>\n",
              "      <th rowspan=\"2\" valign=\"top\">management</th>\n",
              "      <th>no</th>\n",
              "      <td>19867.435285</td>\n",
              "      <td>42.309707</td>\n",
              "      <td>220.828197</td>\n",
              "      <td>2.532357</td>\n",
              "      <td>984.848613</td>\n",
              "      <td>0.140986</td>\n",
              "      <td>0.141217</td>\n",
              "      <td>93.550062</td>\n",
              "      <td>-40.619992</td>\n",
              "      <td>3.785477</td>\n",
              "      <td>5175.037442</td>\n",
              "    </tr>\n",
              "    <tr>\n",
              "      <th>yes</th>\n",
              "      <td>30088.923780</td>\n",
              "      <td>42.783537</td>\n",
              "      <td>543.804878</td>\n",
              "      <td>2.030488</td>\n",
              "      <td>786.929878</td>\n",
              "      <td>0.533537</td>\n",
              "      <td>-1.230793</td>\n",
              "      <td>93.306631</td>\n",
              "      <td>-39.456402</td>\n",
              "      <td>2.232896</td>\n",
              "      <td>5100.271037</td>\n",
              "    </tr>\n",
              "    <tr>\n",
              "      <th rowspan=\"2\" valign=\"top\">retired</th>\n",
              "      <th>no</th>\n",
              "      <td>23081.006221</td>\n",
              "      <td>59.926128</td>\n",
              "      <td>224.263608</td>\n",
              "      <td>2.657076</td>\n",
              "      <td>960.369362</td>\n",
              "      <td>0.212286</td>\n",
              "      <td>-0.283904</td>\n",
              "      <td>93.493273</td>\n",
              "      <td>-38.920762</td>\n",
              "      <td>3.249794</td>\n",
              "      <td>5146.043313</td>\n",
              "    </tr>\n",
              "    <tr>\n",
              "      <th>yes</th>\n",
              "      <td>34996.403226</td>\n",
              "      <td>68.253456</td>\n",
              "      <td>420.235023</td>\n",
              "      <td>1.942396</td>\n",
              "      <td>712.937788</td>\n",
              "      <td>0.668203</td>\n",
              "      <td>-1.926267</td>\n",
              "      <td>93.245629</td>\n",
              "      <td>-37.542857</td>\n",
              "      <td>1.348569</td>\n",
              "      <td>5051.795392</td>\n",
              "    </tr>\n",
              "    <tr>\n",
              "      <th rowspan=\"2\" valign=\"top\">self-employed</th>\n",
              "      <th>no</th>\n",
              "      <td>19662.977201</td>\n",
              "      <td>40.176887</td>\n",
              "      <td>222.220912</td>\n",
              "      <td>2.724843</td>\n",
              "      <td>988.073113</td>\n",
              "      <td>0.123428</td>\n",
              "      <td>0.242610</td>\n",
              "      <td>93.591786</td>\n",
              "      <td>-40.501022</td>\n",
              "      <td>3.854206</td>\n",
              "      <td>5177.958019</td>\n",
              "    </tr>\n",
              "    <tr>\n",
              "      <th>yes</th>\n",
              "      <td>29785.093960</td>\n",
              "      <td>38.006711</td>\n",
              "      <td>622.020134</td>\n",
              "      <td>2.114094</td>\n",
              "      <td>878.859060</td>\n",
              "      <td>0.315436</td>\n",
              "      <td>-1.173154</td>\n",
              "      <td>93.288470</td>\n",
              "      <td>-40.377852</td>\n",
              "      <td>2.282242</td>\n",
              "      <td>5108.494631</td>\n",
              "    </tr>\n",
              "    <tr>\n",
              "      <th rowspan=\"2\" valign=\"top\">services</th>\n",
              "      <th>no</th>\n",
              "      <td>18244.544158</td>\n",
              "      <td>38.090236</td>\n",
              "      <td>225.047998</td>\n",
              "      <td>2.619309</td>\n",
              "      <td>991.091607</td>\n",
              "      <td>0.136314</td>\n",
              "      <td>0.256720</td>\n",
              "      <td>93.650433</td>\n",
              "      <td>-41.327537</td>\n",
              "      <td>3.793805</td>\n",
              "      <td>5176.038069</td>\n",
              "    </tr>\n",
              "    <tr>\n",
              "      <th>yes</th>\n",
              "      <td>26681.931889</td>\n",
              "      <td>36.077399</td>\n",
              "      <td>634.851393</td>\n",
              "      <td>2.232198</td>\n",
              "      <td>854.479876</td>\n",
              "      <td>0.365325</td>\n",
              "      <td>-0.743034</td>\n",
              "      <td>93.456598</td>\n",
              "      <td>-40.866873</td>\n",
              "      <td>2.631139</td>\n",
              "      <td>5121.504954</td>\n",
              "    </tr>\n",
              "    <tr>\n",
              "      <th rowspan=\"2\" valign=\"top\">student</th>\n",
              "      <th>no</th>\n",
              "      <td>28542.213333</td>\n",
              "      <td>26.396667</td>\n",
              "      <td>228.851667</td>\n",
              "      <td>2.238333</td>\n",
              "      <td>924.596667</td>\n",
              "      <td>0.395000</td>\n",
              "      <td>-1.133167</td>\n",
              "      <td>93.350790</td>\n",
              "      <td>-40.751500</td>\n",
              "      <td>2.208683</td>\n",
              "      <td>5104.507500</td>\n",
              "    </tr>\n",
              "    <tr>\n",
              "      <th>yes</th>\n",
              "      <td>35871.487273</td>\n",
              "      <td>24.800000</td>\n",
              "      <td>403.316364</td>\n",
              "      <td>1.810909</td>\n",
              "      <td>656.116364</td>\n",
              "      <td>0.807273</td>\n",
              "      <td>-2.007636</td>\n",
              "      <td>93.289771</td>\n",
              "      <td>-38.957091</td>\n",
              "      <td>1.176313</td>\n",
              "      <td>5045.426182</td>\n",
              "    </tr>\n",
              "    <tr>\n",
              "      <th rowspan=\"2\" valign=\"top\">technician</th>\n",
              "      <th>no</th>\n",
              "      <td>19682.693165</td>\n",
              "      <td>38.600033</td>\n",
              "      <td>213.452021</td>\n",
              "      <td>2.641776</td>\n",
              "      <td>985.135540</td>\n",
              "      <td>0.111093</td>\n",
              "      <td>0.441693</td>\n",
              "      <td>93.584196</td>\n",
              "      <td>-39.918310</td>\n",
              "      <td>4.012318</td>\n",
              "      <td>5184.951705</td>\n",
              "    </tr>\n",
              "    <tr>\n",
              "      <th>yes</th>\n",
              "      <td>30276.449315</td>\n",
              "      <td>37.746575</td>\n",
              "      <td>553.190411</td>\n",
              "      <td>2.046575</td>\n",
              "      <td>793.676712</td>\n",
              "      <td>0.505479</td>\n",
              "      <td>-1.102055</td>\n",
              "      <td>93.374286</td>\n",
              "      <td>-40.003836</td>\n",
              "      <td>2.239584</td>\n",
              "      <td>5099.017123</td>\n",
              "    </tr>\n",
              "    <tr>\n",
              "      <th rowspan=\"2\" valign=\"top\">unemployed</th>\n",
              "      <th>no</th>\n",
              "      <td>19952.900000</td>\n",
              "      <td>39.844828</td>\n",
              "      <td>212.706897</td>\n",
              "      <td>2.668966</td>\n",
              "      <td>973.879310</td>\n",
              "      <td>0.131034</td>\n",
              "      <td>0.147241</td>\n",
              "      <td>93.604369</td>\n",
              "      <td>-40.193908</td>\n",
              "      <td>3.775461</td>\n",
              "      <td>5172.245172</td>\n",
              "    </tr>\n",
              "    <tr>\n",
              "      <th>yes</th>\n",
              "      <td>33586.687500</td>\n",
              "      <td>39.062500</td>\n",
              "      <td>471.451389</td>\n",
              "      <td>1.930556</td>\n",
              "      <td>702.333333</td>\n",
              "      <td>0.611111</td>\n",
              "      <td>-1.676389</td>\n",
              "      <td>93.318562</td>\n",
              "      <td>-38.881944</td>\n",
              "      <td>1.600444</td>\n",
              "      <td>5065.995833</td>\n",
              "    </tr>\n",
              "  </tbody>\n",
              "</table>\n",
              "</div>\n",
              "      <button class=\"colab-df-convert\" onclick=\"convertToInteractive('df-2e039aaa-1286-4de6-8299-d3168cb0fa24')\"\n",
              "              title=\"Convert this dataframe to an interactive table.\"\n",
              "              style=\"display:none;\">\n",
              "        \n",
              "  <svg xmlns=\"http://www.w3.org/2000/svg\" height=\"24px\"viewBox=\"0 0 24 24\"\n",
              "       width=\"24px\">\n",
              "    <path d=\"M0 0h24v24H0V0z\" fill=\"none\"/>\n",
              "    <path d=\"M18.56 5.44l.94 2.06.94-2.06 2.06-.94-2.06-.94-.94-2.06-.94 2.06-2.06.94zm-11 1L8.5 8.5l.94-2.06 2.06-.94-2.06-.94L8.5 2.5l-.94 2.06-2.06.94zm10 10l.94 2.06.94-2.06 2.06-.94-2.06-.94-.94-2.06-.94 2.06-2.06.94z\"/><path d=\"M17.41 7.96l-1.37-1.37c-.4-.4-.92-.59-1.43-.59-.52 0-1.04.2-1.43.59L10.3 9.45l-7.72 7.72c-.78.78-.78 2.05 0 2.83L4 21.41c.39.39.9.59 1.41.59.51 0 1.02-.2 1.41-.59l7.78-7.78 2.81-2.81c.8-.78.8-2.07 0-2.86zM5.41 20L4 18.59l7.72-7.72 1.47 1.35L5.41 20z\"/>\n",
              "  </svg>\n",
              "      </button>\n",
              "      \n",
              "  <style>\n",
              "    .colab-df-container {\n",
              "      display:flex;\n",
              "      flex-wrap:wrap;\n",
              "      gap: 12px;\n",
              "    }\n",
              "\n",
              "    .colab-df-convert {\n",
              "      background-color: #E8F0FE;\n",
              "      border: none;\n",
              "      border-radius: 50%;\n",
              "      cursor: pointer;\n",
              "      display: none;\n",
              "      fill: #1967D2;\n",
              "      height: 32px;\n",
              "      padding: 0 0 0 0;\n",
              "      width: 32px;\n",
              "    }\n",
              "\n",
              "    .colab-df-convert:hover {\n",
              "      background-color: #E2EBFA;\n",
              "      box-shadow: 0px 1px 2px rgba(60, 64, 67, 0.3), 0px 1px 3px 1px rgba(60, 64, 67, 0.15);\n",
              "      fill: #174EA6;\n",
              "    }\n",
              "\n",
              "    [theme=dark] .colab-df-convert {\n",
              "      background-color: #3B4455;\n",
              "      fill: #D2E3FC;\n",
              "    }\n",
              "\n",
              "    [theme=dark] .colab-df-convert:hover {\n",
              "      background-color: #434B5C;\n",
              "      box-shadow: 0px 1px 3px 1px rgba(0, 0, 0, 0.15);\n",
              "      filter: drop-shadow(0px 1px 2px rgba(0, 0, 0, 0.3));\n",
              "      fill: #FFFFFF;\n",
              "    }\n",
              "  </style>\n",
              "\n",
              "      <script>\n",
              "        const buttonEl =\n",
              "          document.querySelector('#df-2e039aaa-1286-4de6-8299-d3168cb0fa24 button.colab-df-convert');\n",
              "        buttonEl.style.display =\n",
              "          google.colab.kernel.accessAllowed ? 'block' : 'none';\n",
              "\n",
              "        async function convertToInteractive(key) {\n",
              "          const element = document.querySelector('#df-2e039aaa-1286-4de6-8299-d3168cb0fa24');\n",
              "          const dataTable =\n",
              "            await google.colab.kernel.invokeFunction('convertToInteractive',\n",
              "                                                     [key], {});\n",
              "          if (!dataTable) return;\n",
              "\n",
              "          const docLinkHtml = 'Like what you see? Visit the ' +\n",
              "            '<a target=\"_blank\" href=https://colab.research.google.com/notebooks/data_table.ipynb>data table notebook</a>'\n",
              "            + ' to learn more about interactive tables.';\n",
              "          element.innerHTML = '';\n",
              "          dataTable['output_type'] = 'display_data';\n",
              "          await google.colab.output.renderOutput(dataTable, element);\n",
              "          const docLink = document.createElement('div');\n",
              "          docLink.innerHTML = docLinkHtml;\n",
              "          element.appendChild(docLink);\n",
              "        }\n",
              "      </script>\n",
              "    </div>\n",
              "  </div>\n",
              "  "
            ],
            "text/plain": [
              "                    customer_no        age    duration  campaign       pdays  \\\n",
              "job           y                                                                \n",
              "admin.        no   20442.671555  38.219846  215.093385  2.707718  981.270783   \n",
              "              yes  31593.672337  37.968935  517.414201  2.058432  773.512574   \n",
              "blue-collar   no   17463.693013  39.582057  229.878018  2.588208  991.516365   \n",
              "              yes  24442.830721  39.200627  732.673981  2.156740  899.324451   \n",
              "entrepreneur  no   18595.058559  41.703453  225.632883  2.579580  987.813814   \n",
              "              yes  25937.862903  41.935484  667.540323  2.064516  910.943548   \n",
              "housemaid     no   17192.181342  44.705451  218.778826  2.722222  986.491614   \n",
              "              yes  31707.264151  52.650943  535.537736  1.896226  727.367925   \n",
              "management    no   19867.435285  42.309707  220.828197  2.532357  984.848613   \n",
              "              yes  30088.923780  42.783537  543.804878  2.030488  786.929878   \n",
              "retired       no   23081.006221  59.926128  224.263608  2.657076  960.369362   \n",
              "              yes  34996.403226  68.253456  420.235023  1.942396  712.937788   \n",
              "self-employed no   19662.977201  40.176887  222.220912  2.724843  988.073113   \n",
              "              yes  29785.093960  38.006711  622.020134  2.114094  878.859060   \n",
              "services      no   18244.544158  38.090236  225.047998  2.619309  991.091607   \n",
              "              yes  26681.931889  36.077399  634.851393  2.232198  854.479876   \n",
              "student       no   28542.213333  26.396667  228.851667  2.238333  924.596667   \n",
              "              yes  35871.487273  24.800000  403.316364  1.810909  656.116364   \n",
              "technician    no   19682.693165  38.600033  213.452021  2.641776  985.135540   \n",
              "              yes  30276.449315  37.746575  553.190411  2.046575  793.676712   \n",
              "unemployed    no   19952.900000  39.844828  212.706897  2.668966  973.879310   \n",
              "              yes  33586.687500  39.062500  471.451389  1.930556  702.333333   \n",
              "\n",
              "                   previous  emp_var_rate  cons_price_idx  cons_conf_idx  \\\n",
              "job           y                                                            \n",
              "admin.        no   0.141125      0.224068       93.566030     -40.349768   \n",
              "              yes  0.510355     -1.383210       93.319537     -39.545488   \n",
              "blue-collar   no   0.111653      0.303552       93.668887     -41.346565   \n",
              "              yes  0.269592     -0.487774       93.491480     -41.770846   \n",
              "entrepreneur  no   0.128378      0.242868       93.626245     -41.319820   \n",
              "              yes  0.250000     -0.745161       93.381153     -40.895161   \n",
              "housemaid     no   0.089099      0.641300       93.712759     -39.626834   \n",
              "              yes  0.575472     -1.437736       93.350934     -38.311321   \n",
              "management    no   0.140986      0.141217       93.550062     -40.619992   \n",
              "              yes  0.533537     -1.230793       93.306631     -39.456402   \n",
              "retired       no   0.212286     -0.283904       93.493273     -38.920762   \n",
              "              yes  0.668203     -1.926267       93.245629     -37.542857   \n",
              "self-employed no   0.123428      0.242610       93.591786     -40.501022   \n",
              "              yes  0.315436     -1.173154       93.288470     -40.377852   \n",
              "services      no   0.136314      0.256720       93.650433     -41.327537   \n",
              "              yes  0.365325     -0.743034       93.456598     -40.866873   \n",
              "student       no   0.395000     -1.133167       93.350790     -40.751500   \n",
              "              yes  0.807273     -2.007636       93.289771     -38.957091   \n",
              "technician    no   0.111093      0.441693       93.584196     -39.918310   \n",
              "              yes  0.505479     -1.102055       93.374286     -40.003836   \n",
              "unemployed    no   0.131034      0.147241       93.604369     -40.193908   \n",
              "              yes  0.611111     -1.676389       93.318562     -38.881944   \n",
              "\n",
              "                   euribor3m  nr_employed  \n",
              "job           y                            \n",
              "admin.        no    3.786567  5175.512051  \n",
              "              yes   1.965078  5087.736760  \n",
              "blue-collar   no    3.835402  5178.296031  \n",
              "              yes   2.915715  5139.410658  \n",
              "entrepreneur  no    3.881632  5180.205631  \n",
              "              yes   2.818839  5134.504839  \n",
              "housemaid     no    4.243082  5190.553249  \n",
              "              yes   1.908717  5080.316981  \n",
              "management    no    3.785477  5175.037442  \n",
              "              yes   2.232896  5100.271037  \n",
              "retired       no    3.249794  5146.043313  \n",
              "              yes   1.348569  5051.795392  \n",
              "self-employed no    3.854206  5177.958019  \n",
              "              yes   2.282242  5108.494631  \n",
              "services      no    3.793805  5176.038069  \n",
              "              yes   2.631139  5121.504954  \n",
              "student       no    2.208683  5104.507500  \n",
              "              yes   1.176313  5045.426182  \n",
              "technician    no    4.012318  5184.951705  \n",
              "              yes   2.239584  5099.017123  \n",
              "unemployed    no    3.775461  5172.245172  \n",
              "              yes   1.600444  5065.995833  "
            ]
          },
          "execution_count": 19,
          "metadata": {},
          "output_type": "execute_result"
        }
      ],
      "source": [
        "# Does the kind of job matter to a subscription? (groupby job and aggregate by mean) \n",
        "# Extend to education, marital, etc.\n",
        "\n",
        "bank_data.groupby(['job','y']).mean()"
      ]
    },
    {
      "cell_type": "code",
      "execution_count": null,
      "metadata": {
        "colab": {
          "base_uri": "https://localhost:8080/"
        },
        "id": "SVVWf1Rj7onM",
        "nbgrader": {
          "grade": false,
          "grade_id": "ml_26",
          "locked": true,
          "schema_version": 3,
          "solution": false,
          "task": false
        },
        "outputId": "c626b602-189b-41ed-8f03-3140d288e807"
      },
      "outputs": [
        {
          "data": {
            "text/plain": [
              "admin.           29.372149\n",
              "technician       15.859222\n",
              "blue-collar      13.860526\n",
              "retired           9.428633\n",
              "management        7.125788\n",
              "services          7.017163\n",
              "student           5.974365\n",
              "self-employed     3.237019\n",
              "unemployed        3.128395\n",
              "entrepreneur      2.693895\n",
              "housemaid         2.302846\n",
              "Name: job, dtype: float64"
            ]
          },
          "execution_count": 20,
          "metadata": {},
          "output_type": "execute_result"
        }
      ],
      "source": [
        "# Who are subscribing the most across job ranks?\n",
        "bank_data[bank_data.y == 'yes'].job.value_counts(normalize=True)*100"
      ]
    },
    {
      "cell_type": "markdown",
      "metadata": {
        "id": "R5K5PEek7onM",
        "nbgrader": {
          "grade": false,
          "grade_id": "ml_27",
          "locked": true,
          "schema_version": 3,
          "solution": false,
          "task": false
        }
      },
      "source": [
        "### _Some Insights from the EDA done above_\n",
        "\n",
        "* Number of Campaigns are lower for people who subscribed!\n",
        "\n",
        "* People who subscribed for a term deposit are older (average age)\n",
        "\n",
        "* customer_no attribute looks to be providing no value. Hence can be removed\n",
        "\n",
        "* Few attributes such as job, marital, education, credit_default, housing, loan, contact, contacted_month, day_of_week, poutcome and y are categorical but are interpreted as object type. "
      ]
    },
    {
      "cell_type": "markdown",
      "metadata": {
        "id": "PQKSiubE7onM",
        "nbgrader": {
          "grade": false,
          "grade_id": "ml_28",
          "locked": true,
          "schema_version": 3,
          "solution": false,
          "task": false
        }
      },
      "source": [
        "### _Feature Engineering_"
      ]
    },
    {
      "cell_type": "markdown",
      "metadata": {
        "id": "Al3jfIwM7onM",
        "nbgrader": {
          "grade": false,
          "grade_id": "ml_29",
          "locked": true,
          "schema_version": 3,
          "solution": false,
          "task": false
        }
      },
      "source": [
        "#### _Fix levels of categorical variable by domain_"
      ]
    },
    {
      "cell_type": "code",
      "execution_count": null,
      "metadata": {
        "colab": {
          "base_uri": "https://localhost:8080/"
        },
        "id": "are8rIrt7onM",
        "nbgrader": {
          "grade": false,
          "grade_id": "ml_30",
          "locked": true,
          "schema_version": 3,
          "solution": false,
          "task": false
        },
        "outputId": "ae21ce7d-c5d4-47b0-c9f9-5b9546384967"
      },
      "outputs": [
        {
          "name": "stdout",
          "output_type": "stream",
          "text": [
            "university.degree      12168\n",
            "high.school             9515\n",
            "basic.9y                6045\n",
            "professional.course     5243\n",
            "basic.4y                4176\n",
            "basic.6y                2292\n",
            "illiterate                18\n",
            "Name: education, dtype: int64\n"
          ]
        }
      ],
      "source": [
        "# Check levels of education. Is there anything wrong?\n",
        "print(bank_data.education.value_counts())\n",
        "\n",
        "# clean up basic level \n",
        "bank_data.replace(['basic.6y','basic.4y', 'basic.9y'], 'basic', inplace=True)\n",
        "test_data.replace(['basic.6y','basic.4y', 'basic.9y'], 'basic', inplace=True)"
      ]
    },
    {
      "cell_type": "code",
      "execution_count": null,
      "metadata": {
        "colab": {
          "base_uri": "https://localhost:8080/"
        },
        "id": "ituh04aJ7onM",
        "nbgrader": {
          "grade": false,
          "grade_id": "ml_31",
          "locked": true,
          "schema_version": 3,
          "solution": false,
          "task": false
        },
        "outputId": "0b22ae25-ef29-4ac2-cd0a-8716b9e8bd30"
      },
      "outputs": [
        {
          "data": {
            "text/plain": [
              "basic                  12513\n",
              "university.degree      12168\n",
              "high.school             9515\n",
              "professional.course     5243\n",
              "illiterate                18\n",
              "Name: education, dtype: int64"
            ]
          },
          "execution_count": 22,
          "metadata": {},
          "output_type": "execute_result"
        }
      ],
      "source": [
        "bank_data.education.value_counts()"
      ]
    },
    {
      "cell_type": "code",
      "execution_count": null,
      "metadata": {
        "colab": {
          "base_uri": "https://localhost:8080/"
        },
        "id": "PXps2A6h7onM",
        "nbgrader": {
          "grade": false,
          "grade_id": "ml_32",
          "locked": true,
          "schema_version": 3,
          "solution": false,
          "task": false
        },
        "outputId": "3c28109c-5ab5-4c78-8d11-f3c533770411"
      },
      "outputs": [
        {
          "data": {
            "text/plain": [
              "university.degree      1246\n",
              "basic                  1239\n",
              "high.school             948\n",
              "professional.course     521\n",
              "illiterate                1\n",
              "Name: education, dtype: int64"
            ]
          },
          "execution_count": 23,
          "metadata": {},
          "output_type": "execute_result"
        }
      ],
      "source": [
        "test_data.education.value_counts()"
      ]
    },
    {
      "cell_type": "markdown",
      "metadata": {
        "id": "sRfF6l-k7onM",
        "nbgrader": {
          "grade": false,
          "grade_id": "ml_33",
          "locked": true,
          "schema_version": 3,
          "solution": false,
          "task": false
        }
      },
      "source": [
        "#### _Drop unnecessary variables_ from both bank_data and test_data"
      ]
    },
    {
      "cell_type": "code",
      "execution_count": null,
      "metadata": {
        "colab": {
          "base_uri": "https://localhost:8080/",
          "height": 299
        },
        "id": "-qOfY5Oa7onM",
        "nbgrader": {
          "grade": false,
          "grade_id": "ml_34",
          "locked": true,
          "schema_version": 3,
          "solution": false,
          "task": false
        },
        "outputId": "330af40b-9ca4-42cc-9065-bf3d4d8d8bf6"
      },
      "outputs": [
        {
          "data": {
            "text/html": [
              "\n",
              "  <div id=\"df-17462066-2cda-4496-9e95-7b70fb63ce0b\">\n",
              "    <div class=\"colab-df-container\">\n",
              "      <div>\n",
              "<style scoped>\n",
              "    .dataframe tbody tr th:only-of-type {\n",
              "        vertical-align: middle;\n",
              "    }\n",
              "\n",
              "    .dataframe tbody tr th {\n",
              "        vertical-align: top;\n",
              "    }\n",
              "\n",
              "    .dataframe thead th {\n",
              "        text-align: right;\n",
              "    }\n",
              "</style>\n",
              "<table border=\"1\" class=\"dataframe\">\n",
              "  <thead>\n",
              "    <tr style=\"text-align: right;\">\n",
              "      <th></th>\n",
              "      <th>age</th>\n",
              "      <th>job</th>\n",
              "      <th>marital</th>\n",
              "      <th>education</th>\n",
              "      <th>credit_default</th>\n",
              "      <th>housing</th>\n",
              "      <th>loan</th>\n",
              "      <th>contact</th>\n",
              "      <th>contacted_month</th>\n",
              "      <th>day_of_week</th>\n",
              "      <th>...</th>\n",
              "      <th>campaign</th>\n",
              "      <th>pdays</th>\n",
              "      <th>previous</th>\n",
              "      <th>poutcome</th>\n",
              "      <th>emp_var_rate</th>\n",
              "      <th>cons_price_idx</th>\n",
              "      <th>cons_conf_idx</th>\n",
              "      <th>euribor3m</th>\n",
              "      <th>nr_employed</th>\n",
              "      <th>y</th>\n",
              "    </tr>\n",
              "  </thead>\n",
              "  <tbody>\n",
              "    <tr>\n",
              "      <th>0</th>\n",
              "      <td>56</td>\n",
              "      <td>housemaid</td>\n",
              "      <td>married</td>\n",
              "      <td>basic</td>\n",
              "      <td>no</td>\n",
              "      <td>no</td>\n",
              "      <td>no</td>\n",
              "      <td>telephone</td>\n",
              "      <td>may</td>\n",
              "      <td>mon</td>\n",
              "      <td>...</td>\n",
              "      <td>1</td>\n",
              "      <td>999</td>\n",
              "      <td>0</td>\n",
              "      <td>nonexistent</td>\n",
              "      <td>1.1</td>\n",
              "      <td>93.994</td>\n",
              "      <td>-36.4</td>\n",
              "      <td>4.857</td>\n",
              "      <td>5191.0</td>\n",
              "      <td>no</td>\n",
              "    </tr>\n",
              "    <tr>\n",
              "      <th>1</th>\n",
              "      <td>57</td>\n",
              "      <td>services</td>\n",
              "      <td>married</td>\n",
              "      <td>high.school</td>\n",
              "      <td>NaN</td>\n",
              "      <td>no</td>\n",
              "      <td>no</td>\n",
              "      <td>telephone</td>\n",
              "      <td>may</td>\n",
              "      <td>mon</td>\n",
              "      <td>...</td>\n",
              "      <td>1</td>\n",
              "      <td>999</td>\n",
              "      <td>0</td>\n",
              "      <td>nonexistent</td>\n",
              "      <td>1.1</td>\n",
              "      <td>93.994</td>\n",
              "      <td>-36.4</td>\n",
              "      <td>4.857</td>\n",
              "      <td>5191.0</td>\n",
              "      <td>no</td>\n",
              "    </tr>\n",
              "    <tr>\n",
              "      <th>2</th>\n",
              "      <td>37</td>\n",
              "      <td>services</td>\n",
              "      <td>married</td>\n",
              "      <td>high.school</td>\n",
              "      <td>no</td>\n",
              "      <td>yes</td>\n",
              "      <td>no</td>\n",
              "      <td>telephone</td>\n",
              "      <td>may</td>\n",
              "      <td>mon</td>\n",
              "      <td>...</td>\n",
              "      <td>1</td>\n",
              "      <td>999</td>\n",
              "      <td>0</td>\n",
              "      <td>nonexistent</td>\n",
              "      <td>1.1</td>\n",
              "      <td>93.994</td>\n",
              "      <td>-36.4</td>\n",
              "      <td>4.857</td>\n",
              "      <td>5191.0</td>\n",
              "      <td>no</td>\n",
              "    </tr>\n",
              "    <tr>\n",
              "      <th>3</th>\n",
              "      <td>40</td>\n",
              "      <td>admin.</td>\n",
              "      <td>married</td>\n",
              "      <td>basic</td>\n",
              "      <td>no</td>\n",
              "      <td>no</td>\n",
              "      <td>no</td>\n",
              "      <td>telephone</td>\n",
              "      <td>may</td>\n",
              "      <td>mon</td>\n",
              "      <td>...</td>\n",
              "      <td>1</td>\n",
              "      <td>999</td>\n",
              "      <td>0</td>\n",
              "      <td>nonexistent</td>\n",
              "      <td>1.1</td>\n",
              "      <td>93.994</td>\n",
              "      <td>-36.4</td>\n",
              "      <td>4.857</td>\n",
              "      <td>5191.0</td>\n",
              "      <td>no</td>\n",
              "    </tr>\n",
              "    <tr>\n",
              "      <th>4</th>\n",
              "      <td>56</td>\n",
              "      <td>services</td>\n",
              "      <td>married</td>\n",
              "      <td>high.school</td>\n",
              "      <td>no</td>\n",
              "      <td>no</td>\n",
              "      <td>yes</td>\n",
              "      <td>telephone</td>\n",
              "      <td>may</td>\n",
              "      <td>mon</td>\n",
              "      <td>...</td>\n",
              "      <td>1</td>\n",
              "      <td>999</td>\n",
              "      <td>0</td>\n",
              "      <td>nonexistent</td>\n",
              "      <td>1.1</td>\n",
              "      <td>93.994</td>\n",
              "      <td>-36.4</td>\n",
              "      <td>4.857</td>\n",
              "      <td>5191.0</td>\n",
              "      <td>no</td>\n",
              "    </tr>\n",
              "  </tbody>\n",
              "</table>\n",
              "<p>5 rows × 21 columns</p>\n",
              "</div>\n",
              "      <button class=\"colab-df-convert\" onclick=\"convertToInteractive('df-17462066-2cda-4496-9e95-7b70fb63ce0b')\"\n",
              "              title=\"Convert this dataframe to an interactive table.\"\n",
              "              style=\"display:none;\">\n",
              "        \n",
              "  <svg xmlns=\"http://www.w3.org/2000/svg\" height=\"24px\"viewBox=\"0 0 24 24\"\n",
              "       width=\"24px\">\n",
              "    <path d=\"M0 0h24v24H0V0z\" fill=\"none\"/>\n",
              "    <path d=\"M18.56 5.44l.94 2.06.94-2.06 2.06-.94-2.06-.94-.94-2.06-.94 2.06-2.06.94zm-11 1L8.5 8.5l.94-2.06 2.06-.94-2.06-.94L8.5 2.5l-.94 2.06-2.06.94zm10 10l.94 2.06.94-2.06 2.06-.94-2.06-.94-.94-2.06-.94 2.06-2.06.94z\"/><path d=\"M17.41 7.96l-1.37-1.37c-.4-.4-.92-.59-1.43-.59-.52 0-1.04.2-1.43.59L10.3 9.45l-7.72 7.72c-.78.78-.78 2.05 0 2.83L4 21.41c.39.39.9.59 1.41.59.51 0 1.02-.2 1.41-.59l7.78-7.78 2.81-2.81c.8-.78.8-2.07 0-2.86zM5.41 20L4 18.59l7.72-7.72 1.47 1.35L5.41 20z\"/>\n",
              "  </svg>\n",
              "      </button>\n",
              "      \n",
              "  <style>\n",
              "    .colab-df-container {\n",
              "      display:flex;\n",
              "      flex-wrap:wrap;\n",
              "      gap: 12px;\n",
              "    }\n",
              "\n",
              "    .colab-df-convert {\n",
              "      background-color: #E8F0FE;\n",
              "      border: none;\n",
              "      border-radius: 50%;\n",
              "      cursor: pointer;\n",
              "      display: none;\n",
              "      fill: #1967D2;\n",
              "      height: 32px;\n",
              "      padding: 0 0 0 0;\n",
              "      width: 32px;\n",
              "    }\n",
              "\n",
              "    .colab-df-convert:hover {\n",
              "      background-color: #E2EBFA;\n",
              "      box-shadow: 0px 1px 2px rgba(60, 64, 67, 0.3), 0px 1px 3px 1px rgba(60, 64, 67, 0.15);\n",
              "      fill: #174EA6;\n",
              "    }\n",
              "\n",
              "    [theme=dark] .colab-df-convert {\n",
              "      background-color: #3B4455;\n",
              "      fill: #D2E3FC;\n",
              "    }\n",
              "\n",
              "    [theme=dark] .colab-df-convert:hover {\n",
              "      background-color: #434B5C;\n",
              "      box-shadow: 0px 1px 3px 1px rgba(0, 0, 0, 0.15);\n",
              "      filter: drop-shadow(0px 1px 2px rgba(0, 0, 0, 0.3));\n",
              "      fill: #FFFFFF;\n",
              "    }\n",
              "  </style>\n",
              "\n",
              "      <script>\n",
              "        const buttonEl =\n",
              "          document.querySelector('#df-17462066-2cda-4496-9e95-7b70fb63ce0b button.colab-df-convert');\n",
              "        buttonEl.style.display =\n",
              "          google.colab.kernel.accessAllowed ? 'block' : 'none';\n",
              "\n",
              "        async function convertToInteractive(key) {\n",
              "          const element = document.querySelector('#df-17462066-2cda-4496-9e95-7b70fb63ce0b');\n",
              "          const dataTable =\n",
              "            await google.colab.kernel.invokeFunction('convertToInteractive',\n",
              "                                                     [key], {});\n",
              "          if (!dataTable) return;\n",
              "\n",
              "          const docLinkHtml = 'Like what you see? Visit the ' +\n",
              "            '<a target=\"_blank\" href=https://colab.research.google.com/notebooks/data_table.ipynb>data table notebook</a>'\n",
              "            + ' to learn more about interactive tables.';\n",
              "          element.innerHTML = '';\n",
              "          dataTable['output_type'] = 'display_data';\n",
              "          await google.colab.output.renderOutput(dataTable, element);\n",
              "          const docLink = document.createElement('div');\n",
              "          docLink.innerHTML = docLinkHtml;\n",
              "          element.appendChild(docLink);\n",
              "        }\n",
              "      </script>\n",
              "    </div>\n",
              "  </div>\n",
              "  "
            ],
            "text/plain": [
              "   age        job  marital    education credit_default housing loan  \\\n",
              "0   56  housemaid  married        basic             no      no   no   \n",
              "1   57   services  married  high.school            NaN      no   no   \n",
              "2   37   services  married  high.school             no     yes   no   \n",
              "3   40     admin.  married        basic             no      no   no   \n",
              "4   56   services  married  high.school             no      no  yes   \n",
              "\n",
              "     contact contacted_month day_of_week  ...  campaign  pdays  previous  \\\n",
              "0  telephone             may         mon  ...         1    999         0   \n",
              "1  telephone             may         mon  ...         1    999         0   \n",
              "2  telephone             may         mon  ...         1    999         0   \n",
              "3  telephone             may         mon  ...         1    999         0   \n",
              "4  telephone             may         mon  ...         1    999         0   \n",
              "\n",
              "      poutcome emp_var_rate  cons_price_idx  cons_conf_idx  euribor3m  \\\n",
              "0  nonexistent          1.1          93.994          -36.4      4.857   \n",
              "1  nonexistent          1.1          93.994          -36.4      4.857   \n",
              "2  nonexistent          1.1          93.994          -36.4      4.857   \n",
              "3  nonexistent          1.1          93.994          -36.4      4.857   \n",
              "4  nonexistent          1.1          93.994          -36.4      4.857   \n",
              "\n",
              "   nr_employed   y  \n",
              "0       5191.0  no  \n",
              "1       5191.0  no  \n",
              "2       5191.0  no  \n",
              "3       5191.0  no  \n",
              "4       5191.0  no  \n",
              "\n",
              "[5 rows x 21 columns]"
            ]
          },
          "execution_count": 24,
          "metadata": {},
          "output_type": "execute_result"
        }
      ],
      "source": [
        "bank_data.drop(\"customer_no\", axis = 1, inplace= True)\n",
        "test_data.drop(\"customer_no\", axis = 1, inplace= True)\n",
        "\n",
        "bank_data.head()"
      ]
    },
    {
      "cell_type": "code",
      "execution_count": null,
      "metadata": {
        "colab": {
          "base_uri": "https://localhost:8080/"
        },
        "id": "K5b6Zi6s7onM",
        "nbgrader": {
          "grade": false,
          "grade_id": "ml_35",
          "locked": true,
          "schema_version": 3,
          "solution": false,
          "task": false
        },
        "outputId": "e9f9a712-3a0c-4088-e72b-c5e1cab55cfb"
      },
      "outputs": [
        {
          "name": "stdout",
          "output_type": "stream",
          "text": [
            "(41188, 21)\n",
            "(4119, 21)\n"
          ]
        }
      ],
      "source": [
        "print(bank_data.shape)\n",
        "print(test_data.shape)"
      ]
    },
    {
      "cell_type": "markdown",
      "metadata": {
        "id": "KLrZVPmx7onM",
        "nbgrader": {
          "grade": false,
          "grade_id": "ml_36",
          "locked": true,
          "schema_version": 3,
          "solution": false,
          "task": false
        }
      },
      "source": [
        "#### _Type Casting_"
      ]
    },
    {
      "cell_type": "code",
      "execution_count": null,
      "metadata": {
        "id": "Iw2eLrse7onN",
        "nbgrader": {
          "grade": false,
          "grade_id": "ml_37",
          "locked": true,
          "schema_version": 3,
          "solution": false,
          "task": false
        }
      },
      "outputs": [],
      "source": [
        "col = ['job', 'marital', 'education', 'credit_default', 'housing', 'loan', 'contact', 'contacted_month', 'day_of_week', 'poutcome', 'y']\n",
        "bank_data[col] = bank_data[col].astype('category')"
      ]
    },
    {
      "cell_type": "markdown",
      "metadata": {
        "id": "I2ZdloHQ7onN",
        "nbgrader": {
          "grade": false,
          "grade_id": "ml_38",
          "locked": true,
          "schema_version": 3,
          "solution": false,
          "task": false
        }
      },
      "source": [
        "> How to choose between category and object:\n",
        "\n",
        "reference : https://stackoverflow.com/questions/30601830/when-to-use-category-rather-than-object\n",
        "\n",
        "The categorical data type is useful in the following cases:\n",
        "\n",
        "* A string variable consisting of only a few different values. Converting such a string variable to a categorical variable will save some memory\n",
        "* The lexical order of a variable is not the same as the logical order (“one”, “two”, “three”). By converting to a categorical and specifying an order on the categories, sorting and min/max will use the logical order instead of the lexical order\n",
        "* As a signal to other Python libraries that this column should be treated as a categorical variable (e.g. to use suitable statistical methods or plot types)."
      ]
    },
    {
      "cell_type": "code",
      "execution_count": null,
      "metadata": {
        "colab": {
          "base_uri": "https://localhost:8080/"
        },
        "id": "1n-ECwsY7onN",
        "nbgrader": {
          "grade": false,
          "grade_id": "ml_39",
          "locked": true,
          "schema_version": 3,
          "solution": false,
          "task": false
        },
        "outputId": "4be5bc2d-935a-45bb-d5bd-a6c9ca5c303c"
      },
      "outputs": [
        {
          "data": {
            "text/plain": [
              "age                   int64\n",
              "job                category\n",
              "marital            category\n",
              "education          category\n",
              "credit_default     category\n",
              "housing            category\n",
              "loan               category\n",
              "contact            category\n",
              "contacted_month    category\n",
              "day_of_week        category\n",
              "duration              int64\n",
              "campaign              int64\n",
              "pdays                 int64\n",
              "previous              int64\n",
              "poutcome           category\n",
              "emp_var_rate        float64\n",
              "cons_price_idx      float64\n",
              "cons_conf_idx       float64\n",
              "euribor3m           float64\n",
              "nr_employed         float64\n",
              "y                  category\n",
              "dtype: object"
            ]
          },
          "execution_count": 27,
          "metadata": {},
          "output_type": "execute_result"
        }
      ],
      "source": [
        "bank_data.dtypes"
      ]
    },
    {
      "cell_type": "markdown",
      "metadata": {
        "id": "52_AuQzy7onN",
        "nbgrader": {
          "grade": false,
          "grade_id": "ml_40",
          "locked": true,
          "schema_version": 3,
          "solution": false,
          "task": false
        }
      },
      "source": [
        "#### Split Numeric and Categorical Columns"
      ]
    },
    {
      "cell_type": "code",
      "execution_count": null,
      "metadata": {
        "colab": {
          "base_uri": "https://localhost:8080/",
          "height": 35
        },
        "id": "N6HyZ2eE7onN",
        "nbgrader": {
          "grade": false,
          "grade_id": "ml_41",
          "locked": true,
          "schema_version": 3,
          "solution": false,
          "task": false
        },
        "outputId": "edf49423-599c-45de-a50c-a5e8170aa064"
      },
      "outputs": [
        {
          "data": {
            "application/vnd.google.colaboratory.intrinsic+json": {
              "type": "string"
            },
            "text/plain": [
              "'y'"
            ]
          },
          "execution_count": 28,
          "metadata": {},
          "output_type": "execute_result"
        }
      ],
      "source": [
        "cat_attr = list(bank_data.select_dtypes(\"category\").columns)\n",
        "num_attr = list(bank_data.columns.difference(cat_attr))\n",
        "\n",
        "cat_attr.pop()"
      ]
    },
    {
      "cell_type": "code",
      "execution_count": null,
      "metadata": {
        "colab": {
          "base_uri": "https://localhost:8080/"
        },
        "id": "BptCwLeV7onN",
        "nbgrader": {
          "grade": false,
          "grade_id": "ml_42",
          "locked": true,
          "schema_version": 3,
          "solution": false,
          "task": false
        },
        "outputId": "3ed2aadc-eabf-47b0-9738-a1adb5ab7322"
      },
      "outputs": [
        {
          "data": {
            "text/plain": [
              "['job',\n",
              " 'marital',\n",
              " 'education',\n",
              " 'credit_default',\n",
              " 'housing',\n",
              " 'loan',\n",
              " 'contact',\n",
              " 'contacted_month',\n",
              " 'day_of_week',\n",
              " 'poutcome']"
            ]
          },
          "execution_count": 29,
          "metadata": {},
          "output_type": "execute_result"
        }
      ],
      "source": [
        "cat_attr"
      ]
    },
    {
      "cell_type": "code",
      "execution_count": null,
      "metadata": {
        "colab": {
          "base_uri": "https://localhost:8080/"
        },
        "id": "vx0KYZ3h7onN",
        "nbgrader": {
          "grade": false,
          "grade_id": "ml_43",
          "locked": true,
          "schema_version": 3,
          "solution": false,
          "task": false
        },
        "outputId": "97b3f249-4625-44c8-83ae-27423219c89a"
      },
      "outputs": [
        {
          "data": {
            "text/plain": [
              "['age',\n",
              " 'campaign',\n",
              " 'cons_conf_idx',\n",
              " 'cons_price_idx',\n",
              " 'duration',\n",
              " 'emp_var_rate',\n",
              " 'euribor3m',\n",
              " 'nr_employed',\n",
              " 'pdays',\n",
              " 'previous']"
            ]
          },
          "execution_count": 30,
          "metadata": {},
          "output_type": "execute_result"
        }
      ],
      "source": [
        "num_attr"
      ]
    },
    {
      "cell_type": "markdown",
      "metadata": {
        "id": "5sb4N86q7onN",
        "nbgrader": {
          "grade": false,
          "grade_id": "ml_44",
          "locked": true,
          "schema_version": 3,
          "solution": false,
          "task": false
        }
      },
      "source": [
        "#### _Handle Missing Values_"
      ]
    },
    {
      "cell_type": "code",
      "execution_count": null,
      "metadata": {
        "colab": {
          "base_uri": "https://localhost:8080/"
        },
        "id": "OchAlPLD7onN",
        "nbgrader": {
          "grade": false,
          "grade_id": "ml_45",
          "locked": true,
          "schema_version": 3,
          "solution": false,
          "task": false
        },
        "outputId": "fa733b7c-0b19-4ac7-994c-4721e696eaf7"
      },
      "outputs": [
        {
          "data": {
            "text/plain": [
              "age                   0\n",
              "job                 330\n",
              "marital              80\n",
              "education          1731\n",
              "credit_default     8597\n",
              "housing             990\n",
              "loan                990\n",
              "contact               0\n",
              "contacted_month       0\n",
              "day_of_week           0\n",
              "duration              0\n",
              "campaign              0\n",
              "pdays                 0\n",
              "previous              0\n",
              "poutcome              0\n",
              "emp_var_rate          0\n",
              "cons_price_idx        0\n",
              "cons_conf_idx         0\n",
              "euribor3m             0\n",
              "nr_employed           0\n",
              "y                     0\n",
              "dtype: int64"
            ]
          },
          "execution_count": 31,
          "metadata": {},
          "output_type": "execute_result"
        }
      ],
      "source": [
        "bank_data.isnull().sum()"
      ]
    },
    {
      "cell_type": "code",
      "execution_count": null,
      "metadata": {
        "colab": {
          "base_uri": "https://localhost:8080/"
        },
        "id": "5g8KNuJZ7onN",
        "nbgrader": {
          "grade": false,
          "grade_id": "ml_46",
          "locked": true,
          "schema_version": 3,
          "solution": false,
          "task": false
        },
        "outputId": "4fbab5ff-a08f-48b0-fd1d-3ba74bf6b41e"
      },
      "outputs": [
        {
          "data": {
            "text/plain": [
              "12718"
            ]
          },
          "execution_count": 32,
          "metadata": {},
          "output_type": "execute_result"
        }
      ],
      "source": [
        "# print total number of missing values\n",
        "bank_data.isnull().sum().sum()"
      ]
    },
    {
      "cell_type": "markdown",
      "metadata": {
        "id": "OQVxcyB07onN",
        "nbgrader": {
          "grade": false,
          "grade_id": "ml_47",
          "locked": true,
          "schema_version": 3,
          "solution": false,
          "task": false
        }
      },
      "source": [
        "## Sklearn pipelines\n",
        "\n",
        "Pipelines are a way to streamline a lot of the routine processes, encapsulating little pieces of logic into one function call, which makes it easier to actually do modeling instead just writing a bunch of code.\n",
        "\n",
        "Pipelines are set up with the fit/transform/predict functionality, so you can fit a whole pipeline to the training data and transform to the test data, without having to do it individually for each thing you do. Super convenient, right?\n",
        "\n",
        "Steps to follow to create a pipeline:\n",
        "\n",
        "Step 1) Fetch the numerical and categorical columns\n",
        "\n",
        "Step 2) Create a transformer/pipeline for numerical attributes\n",
        "\n",
        "    Create a list of tuples where each tuple represents the operation to be performed on numerical attributes\n",
        "\n",
        "Step 3) Create a transformer/pipeline for categorical attributes\n",
        "\n",
        "    Create a list of tuples where each tuple represent the operation to be performed on categorical attributes\n",
        "\n",
        "Step 4) Create a ColumnTransformer which merges both the numerical and categorical transformers\n",
        "\n",
        "Step 5) Create a final pipeline object which includes the ColumnTransformer and an estimator (an algorithm to be build on dataset)\n",
        "\n",
        "Step 6) (optional) Create a GridSearchCV object with pipeline as one of the inputs along with hyperparameter grid and Cross validation object\n",
        "\n",
        "Step 7) Apply fit() on train data and predict() on test data <br><br>\n",
        "\n",
        "Pipeline is a collection of transformers chained together and operate sequentially. (often ending with an estimator)\n",
        "\n",
        "__Bird's view of sklearn pipeline__\n",
        "\n",
        "<img src=\"./img/Pipeline_broadview.png\"><br><br>\n",
        "\n",
        "__Train and Test dataflow inside the sklearn pipeline__\n",
        "<img src=\"./img/fit_tranform.jpg\">"
      ]
    },
    {
      "cell_type": "markdown",
      "metadata": {
        "id": "NBT0QfiE7onN",
        "nbgrader": {
          "grade": false,
          "grade_id": "ml_48",
          "locked": true,
          "schema_version": 3,
          "solution": false,
          "task": false
        }
      },
      "source": [
        "#### _Instantiate Pre-processing Objects for Pipeline_"
      ]
    },
    {
      "cell_type": "code",
      "execution_count": null,
      "metadata": {
        "id": "9XvoY_d57onN",
        "nbgrader": {
          "grade": false,
          "grade_id": "ml_49",
          "locked": true,
          "schema_version": 3,
          "solution": false,
          "task": false
        }
      },
      "outputs": [],
      "source": [
        "numeric_transformer = Pipeline(steps=[\n",
        "    ('imputer', SimpleImputer(strategy='median')),\n",
        "    ('scaler', StandardScaler())])\n",
        "\n",
        "categorical_transformer = Pipeline(steps=[\n",
        "    ('imputer', SimpleImputer(strategy='most_frequent')),\n",
        "    ('onehot', OneHotEncoder(handle_unknown='ignore'))])\n",
        "\n",
        "preprocessor = ColumnTransformer(\n",
        "    transformers=[\n",
        "        ('num', numeric_transformer, num_attr),\n",
        "        ('cat', categorical_transformer, cat_attr)])"
      ]
    },
    {
      "cell_type": "code",
      "execution_count": null,
      "metadata": {
        "colab": {
          "base_uri": "https://localhost:8080/"
        },
        "id": "E61YK98H7onN",
        "nbgrader": {
          "grade": false,
          "grade_id": "ml_50",
          "locked": true,
          "schema_version": 3,
          "solution": false,
          "task": false
        },
        "outputId": "a3ac9c5a-8d85-434a-dd68-ce7a90763afb"
      },
      "outputs": [
        {
          "data": {
            "text/plain": [
              "Pipeline(steps=[('imputer', SimpleImputer(strategy='median')),\n",
              "                ('scaler', StandardScaler())])"
            ]
          },
          "execution_count": 34,
          "metadata": {},
          "output_type": "execute_result"
        }
      ],
      "source": [
        "numeric_transformer"
      ]
    },
    {
      "cell_type": "code",
      "execution_count": null,
      "metadata": {
        "colab": {
          "base_uri": "https://localhost:8080/"
        },
        "id": "Ct7jKBM47onO",
        "nbgrader": {
          "grade": false,
          "grade_id": "ml_51",
          "locked": true,
          "schema_version": 3,
          "solution": false,
          "task": false
        },
        "outputId": "52732c5c-2696-475b-ba5d-69d4fd16e714"
      },
      "outputs": [
        {
          "data": {
            "text/plain": [
              "{'imputer': SimpleImputer(strategy='median'), 'scaler': StandardScaler()}"
            ]
          },
          "execution_count": 35,
          "metadata": {},
          "output_type": "execute_result"
        }
      ],
      "source": [
        "numeric_transformer.named_steps"
      ]
    },
    {
      "cell_type": "code",
      "execution_count": null,
      "metadata": {
        "colab": {
          "base_uri": "https://localhost:8080/"
        },
        "id": "T9p58abe7onO",
        "nbgrader": {
          "grade": false,
          "grade_id": "ml_52",
          "locked": true,
          "schema_version": 3,
          "solution": false,
          "task": false
        },
        "outputId": "617699f4-e80a-421a-f6e9-24187f0fff70"
      },
      "outputs": [
        {
          "data": {
            "text/plain": [
              "StandardScaler()"
            ]
          },
          "execution_count": 36,
          "metadata": {},
          "output_type": "execute_result"
        }
      ],
      "source": [
        "numeric_transformer.named_steps.scaler"
      ]
    },
    {
      "cell_type": "code",
      "execution_count": null,
      "metadata": {
        "colab": {
          "base_uri": "https://localhost:8080/"
        },
        "id": "6n3a0drF7onO",
        "nbgrader": {
          "grade": false,
          "grade_id": "ml_53",
          "locked": true,
          "schema_version": 3,
          "solution": false,
          "task": false
        },
        "outputId": "7885acf7-827f-4811-aec4-40646454ed04"
      },
      "outputs": [
        {
          "data": {
            "text/plain": [
              "Pipeline(steps=[('imputer', SimpleImputer(strategy='most_frequent')),\n",
              "                ('onehot', OneHotEncoder(handle_unknown='ignore'))])"
            ]
          },
          "execution_count": 37,
          "metadata": {},
          "output_type": "execute_result"
        }
      ],
      "source": [
        "categorical_transformer"
      ]
    },
    {
      "cell_type": "code",
      "execution_count": null,
      "metadata": {
        "colab": {
          "base_uri": "https://localhost:8080/"
        },
        "id": "GKeplYxf7onO",
        "nbgrader": {
          "grade": false,
          "grade_id": "ml_54",
          "locked": true,
          "schema_version": 3,
          "solution": false,
          "task": false
        },
        "outputId": "75a5e8be-9b05-4c2c-f2a2-cbc4b0e312a4"
      },
      "outputs": [
        {
          "data": {
            "text/plain": [
              "ColumnTransformer(transformers=[('num',\n",
              "                                 Pipeline(steps=[('imputer',\n",
              "                                                  SimpleImputer(strategy='median')),\n",
              "                                                 ('scaler', StandardScaler())]),\n",
              "                                 ['age', 'campaign', 'cons_conf_idx',\n",
              "                                  'cons_price_idx', 'duration', 'emp_var_rate',\n",
              "                                  'euribor3m', 'nr_employed', 'pdays',\n",
              "                                  'previous']),\n",
              "                                ('cat',\n",
              "                                 Pipeline(steps=[('imputer',\n",
              "                                                  SimpleImputer(strategy='most_frequent')),\n",
              "                                                 ('onehot',\n",
              "                                                  OneHotEncoder(handle_unknown='ignore'))]),\n",
              "                                 ['job', 'marital', 'education',\n",
              "                                  'credit_default', 'housing', 'loan',\n",
              "                                  'contact', 'contacted_month', 'day_of_week',\n",
              "                                  'poutcome'])])"
            ]
          },
          "execution_count": 38,
          "metadata": {},
          "output_type": "execute_result"
        }
      ],
      "source": [
        "preprocessor"
      ]
    },
    {
      "cell_type": "code",
      "execution_count": null,
      "metadata": {
        "colab": {
          "base_uri": "https://localhost:8080/"
        },
        "id": "WLf1VlLl7onO",
        "nbgrader": {
          "grade": false,
          "grade_id": "ml_55",
          "locked": true,
          "schema_version": 3,
          "solution": false,
          "task": false
        },
        "outputId": "cd9ca6f9-09c3-4a86-f58d-35e0d128558d"
      },
      "outputs": [
        {
          "data": {
            "text/plain": [
              "sklearn.compose._column_transformer.ColumnTransformer"
            ]
          },
          "execution_count": 39,
          "metadata": {},
          "output_type": "execute_result"
        }
      ],
      "source": [
        "type(preprocessor)"
      ]
    },
    {
      "cell_type": "markdown",
      "metadata": {
        "id": "X8nu8AVp7onO",
        "nbgrader": {
          "grade": false,
          "grade_id": "ml_56",
          "locked": true,
          "schema_version": 3,
          "solution": false,
          "task": false
        }
      },
      "source": [
        "### _Train-Test Split_"
      ]
    },
    {
      "cell_type": "code",
      "execution_count": null,
      "metadata": {
        "id": "3V6ehfFy7onO",
        "nbgrader": {
          "grade": false,
          "grade_id": "ml_57",
          "locked": true,
          "schema_version": 3,
          "solution": false,
          "task": false
        }
      },
      "outputs": [],
      "source": [
        "X_train, y_train = bank_data.loc[:,bank_data.columns!='y'], bank_data.loc[:,'y']\n",
        "\n",
        "X_test, y_test = test_data.loc[:,test_data.columns!='y'], test_data.loc[:,'y']"
      ]
    },
    {
      "cell_type": "code",
      "execution_count": null,
      "metadata": {
        "colab": {
          "base_uri": "https://localhost:8080/",
          "height": 270
        },
        "id": "lpr-VRxY7onO",
        "nbgrader": {
          "grade": false,
          "grade_id": "ml_58",
          "locked": true,
          "schema_version": 3,
          "solution": false,
          "task": false
        },
        "outputId": "e1418174-0a9f-43fb-9b0a-7885288cbdea"
      },
      "outputs": [
        {
          "data": {
            "text/html": [
              "\n",
              "  <div id=\"df-afc54b71-7f22-43ba-a493-ff9c70bd2c5a\">\n",
              "    <div class=\"colab-df-container\">\n",
              "      <div>\n",
              "<style scoped>\n",
              "    .dataframe tbody tr th:only-of-type {\n",
              "        vertical-align: middle;\n",
              "    }\n",
              "\n",
              "    .dataframe tbody tr th {\n",
              "        vertical-align: top;\n",
              "    }\n",
              "\n",
              "    .dataframe thead th {\n",
              "        text-align: right;\n",
              "    }\n",
              "</style>\n",
              "<table border=\"1\" class=\"dataframe\">\n",
              "  <thead>\n",
              "    <tr style=\"text-align: right;\">\n",
              "      <th></th>\n",
              "      <th>age</th>\n",
              "      <th>job</th>\n",
              "      <th>marital</th>\n",
              "      <th>education</th>\n",
              "      <th>credit_default</th>\n",
              "      <th>housing</th>\n",
              "      <th>loan</th>\n",
              "      <th>contact</th>\n",
              "      <th>contacted_month</th>\n",
              "      <th>day_of_week</th>\n",
              "      <th>duration</th>\n",
              "      <th>campaign</th>\n",
              "      <th>pdays</th>\n",
              "      <th>previous</th>\n",
              "      <th>poutcome</th>\n",
              "      <th>emp_var_rate</th>\n",
              "      <th>cons_price_idx</th>\n",
              "      <th>cons_conf_idx</th>\n",
              "      <th>euribor3m</th>\n",
              "      <th>nr_employed</th>\n",
              "    </tr>\n",
              "  </thead>\n",
              "  <tbody>\n",
              "    <tr>\n",
              "      <th>0</th>\n",
              "      <td>56</td>\n",
              "      <td>housemaid</td>\n",
              "      <td>married</td>\n",
              "      <td>basic</td>\n",
              "      <td>no</td>\n",
              "      <td>no</td>\n",
              "      <td>no</td>\n",
              "      <td>telephone</td>\n",
              "      <td>may</td>\n",
              "      <td>mon</td>\n",
              "      <td>261</td>\n",
              "      <td>1</td>\n",
              "      <td>999</td>\n",
              "      <td>0</td>\n",
              "      <td>nonexistent</td>\n",
              "      <td>1.1</td>\n",
              "      <td>93.994</td>\n",
              "      <td>-36.4</td>\n",
              "      <td>4.857</td>\n",
              "      <td>5191.0</td>\n",
              "    </tr>\n",
              "    <tr>\n",
              "      <th>1</th>\n",
              "      <td>57</td>\n",
              "      <td>services</td>\n",
              "      <td>married</td>\n",
              "      <td>high.school</td>\n",
              "      <td>NaN</td>\n",
              "      <td>no</td>\n",
              "      <td>no</td>\n",
              "      <td>telephone</td>\n",
              "      <td>may</td>\n",
              "      <td>mon</td>\n",
              "      <td>149</td>\n",
              "      <td>1</td>\n",
              "      <td>999</td>\n",
              "      <td>0</td>\n",
              "      <td>nonexistent</td>\n",
              "      <td>1.1</td>\n",
              "      <td>93.994</td>\n",
              "      <td>-36.4</td>\n",
              "      <td>4.857</td>\n",
              "      <td>5191.0</td>\n",
              "    </tr>\n",
              "    <tr>\n",
              "      <th>2</th>\n",
              "      <td>37</td>\n",
              "      <td>services</td>\n",
              "      <td>married</td>\n",
              "      <td>high.school</td>\n",
              "      <td>no</td>\n",
              "      <td>yes</td>\n",
              "      <td>no</td>\n",
              "      <td>telephone</td>\n",
              "      <td>may</td>\n",
              "      <td>mon</td>\n",
              "      <td>226</td>\n",
              "      <td>1</td>\n",
              "      <td>999</td>\n",
              "      <td>0</td>\n",
              "      <td>nonexistent</td>\n",
              "      <td>1.1</td>\n",
              "      <td>93.994</td>\n",
              "      <td>-36.4</td>\n",
              "      <td>4.857</td>\n",
              "      <td>5191.0</td>\n",
              "    </tr>\n",
              "    <tr>\n",
              "      <th>3</th>\n",
              "      <td>40</td>\n",
              "      <td>admin.</td>\n",
              "      <td>married</td>\n",
              "      <td>basic</td>\n",
              "      <td>no</td>\n",
              "      <td>no</td>\n",
              "      <td>no</td>\n",
              "      <td>telephone</td>\n",
              "      <td>may</td>\n",
              "      <td>mon</td>\n",
              "      <td>151</td>\n",
              "      <td>1</td>\n",
              "      <td>999</td>\n",
              "      <td>0</td>\n",
              "      <td>nonexistent</td>\n",
              "      <td>1.1</td>\n",
              "      <td>93.994</td>\n",
              "      <td>-36.4</td>\n",
              "      <td>4.857</td>\n",
              "      <td>5191.0</td>\n",
              "    </tr>\n",
              "    <tr>\n",
              "      <th>4</th>\n",
              "      <td>56</td>\n",
              "      <td>services</td>\n",
              "      <td>married</td>\n",
              "      <td>high.school</td>\n",
              "      <td>no</td>\n",
              "      <td>no</td>\n",
              "      <td>yes</td>\n",
              "      <td>telephone</td>\n",
              "      <td>may</td>\n",
              "      <td>mon</td>\n",
              "      <td>307</td>\n",
              "      <td>1</td>\n",
              "      <td>999</td>\n",
              "      <td>0</td>\n",
              "      <td>nonexistent</td>\n",
              "      <td>1.1</td>\n",
              "      <td>93.994</td>\n",
              "      <td>-36.4</td>\n",
              "      <td>4.857</td>\n",
              "      <td>5191.0</td>\n",
              "    </tr>\n",
              "  </tbody>\n",
              "</table>\n",
              "</div>\n",
              "      <button class=\"colab-df-convert\" onclick=\"convertToInteractive('df-afc54b71-7f22-43ba-a493-ff9c70bd2c5a')\"\n",
              "              title=\"Convert this dataframe to an interactive table.\"\n",
              "              style=\"display:none;\">\n",
              "        \n",
              "  <svg xmlns=\"http://www.w3.org/2000/svg\" height=\"24px\"viewBox=\"0 0 24 24\"\n",
              "       width=\"24px\">\n",
              "    <path d=\"M0 0h24v24H0V0z\" fill=\"none\"/>\n",
              "    <path d=\"M18.56 5.44l.94 2.06.94-2.06 2.06-.94-2.06-.94-.94-2.06-.94 2.06-2.06.94zm-11 1L8.5 8.5l.94-2.06 2.06-.94-2.06-.94L8.5 2.5l-.94 2.06-2.06.94zm10 10l.94 2.06.94-2.06 2.06-.94-2.06-.94-.94-2.06-.94 2.06-2.06.94z\"/><path d=\"M17.41 7.96l-1.37-1.37c-.4-.4-.92-.59-1.43-.59-.52 0-1.04.2-1.43.59L10.3 9.45l-7.72 7.72c-.78.78-.78 2.05 0 2.83L4 21.41c.39.39.9.59 1.41.59.51 0 1.02-.2 1.41-.59l7.78-7.78 2.81-2.81c.8-.78.8-2.07 0-2.86zM5.41 20L4 18.59l7.72-7.72 1.47 1.35L5.41 20z\"/>\n",
              "  </svg>\n",
              "      </button>\n",
              "      \n",
              "  <style>\n",
              "    .colab-df-container {\n",
              "      display:flex;\n",
              "      flex-wrap:wrap;\n",
              "      gap: 12px;\n",
              "    }\n",
              "\n",
              "    .colab-df-convert {\n",
              "      background-color: #E8F0FE;\n",
              "      border: none;\n",
              "      border-radius: 50%;\n",
              "      cursor: pointer;\n",
              "      display: none;\n",
              "      fill: #1967D2;\n",
              "      height: 32px;\n",
              "      padding: 0 0 0 0;\n",
              "      width: 32px;\n",
              "    }\n",
              "\n",
              "    .colab-df-convert:hover {\n",
              "      background-color: #E2EBFA;\n",
              "      box-shadow: 0px 1px 2px rgba(60, 64, 67, 0.3), 0px 1px 3px 1px rgba(60, 64, 67, 0.15);\n",
              "      fill: #174EA6;\n",
              "    }\n",
              "\n",
              "    [theme=dark] .colab-df-convert {\n",
              "      background-color: #3B4455;\n",
              "      fill: #D2E3FC;\n",
              "    }\n",
              "\n",
              "    [theme=dark] .colab-df-convert:hover {\n",
              "      background-color: #434B5C;\n",
              "      box-shadow: 0px 1px 3px 1px rgba(0, 0, 0, 0.15);\n",
              "      filter: drop-shadow(0px 1px 2px rgba(0, 0, 0, 0.3));\n",
              "      fill: #FFFFFF;\n",
              "    }\n",
              "  </style>\n",
              "\n",
              "      <script>\n",
              "        const buttonEl =\n",
              "          document.querySelector('#df-afc54b71-7f22-43ba-a493-ff9c70bd2c5a button.colab-df-convert');\n",
              "        buttonEl.style.display =\n",
              "          google.colab.kernel.accessAllowed ? 'block' : 'none';\n",
              "\n",
              "        async function convertToInteractive(key) {\n",
              "          const element = document.querySelector('#df-afc54b71-7f22-43ba-a493-ff9c70bd2c5a');\n",
              "          const dataTable =\n",
              "            await google.colab.kernel.invokeFunction('convertToInteractive',\n",
              "                                                     [key], {});\n",
              "          if (!dataTable) return;\n",
              "\n",
              "          const docLinkHtml = 'Like what you see? Visit the ' +\n",
              "            '<a target=\"_blank\" href=https://colab.research.google.com/notebooks/data_table.ipynb>data table notebook</a>'\n",
              "            + ' to learn more about interactive tables.';\n",
              "          element.innerHTML = '';\n",
              "          dataTable['output_type'] = 'display_data';\n",
              "          await google.colab.output.renderOutput(dataTable, element);\n",
              "          const docLink = document.createElement('div');\n",
              "          docLink.innerHTML = docLinkHtml;\n",
              "          element.appendChild(docLink);\n",
              "        }\n",
              "      </script>\n",
              "    </div>\n",
              "  </div>\n",
              "  "
            ],
            "text/plain": [
              "   age        job  marital    education credit_default housing loan  \\\n",
              "0   56  housemaid  married        basic             no      no   no   \n",
              "1   57   services  married  high.school            NaN      no   no   \n",
              "2   37   services  married  high.school             no     yes   no   \n",
              "3   40     admin.  married        basic             no      no   no   \n",
              "4   56   services  married  high.school             no      no  yes   \n",
              "\n",
              "     contact contacted_month day_of_week  duration  campaign  pdays  previous  \\\n",
              "0  telephone             may         mon       261         1    999         0   \n",
              "1  telephone             may         mon       149         1    999         0   \n",
              "2  telephone             may         mon       226         1    999         0   \n",
              "3  telephone             may         mon       151         1    999         0   \n",
              "4  telephone             may         mon       307         1    999         0   \n",
              "\n",
              "      poutcome  emp_var_rate  cons_price_idx  cons_conf_idx  euribor3m  \\\n",
              "0  nonexistent           1.1          93.994          -36.4      4.857   \n",
              "1  nonexistent           1.1          93.994          -36.4      4.857   \n",
              "2  nonexistent           1.1          93.994          -36.4      4.857   \n",
              "3  nonexistent           1.1          93.994          -36.4      4.857   \n",
              "4  nonexistent           1.1          93.994          -36.4      4.857   \n",
              "\n",
              "   nr_employed  \n",
              "0       5191.0  \n",
              "1       5191.0  \n",
              "2       5191.0  \n",
              "3       5191.0  \n",
              "4       5191.0  "
            ]
          },
          "execution_count": 41,
          "metadata": {},
          "output_type": "execute_result"
        }
      ],
      "source": [
        "X_train.head()"
      ]
    },
    {
      "cell_type": "code",
      "execution_count": null,
      "metadata": {
        "colab": {
          "base_uri": "https://localhost:8080/"
        },
        "id": "tUzroou97onO",
        "nbgrader": {
          "grade": false,
          "grade_id": "ml_59",
          "locked": true,
          "schema_version": 3,
          "solution": false,
          "task": false
        },
        "outputId": "efa74596-d171-494b-cb0a-b98ffd9e7ebc"
      },
      "outputs": [
        {
          "data": {
            "text/plain": [
              "0    no\n",
              "1    no\n",
              "2    no\n",
              "3    no\n",
              "4    no\n",
              "Name: y, dtype: category\n",
              "Categories (2, object): ['no', 'yes']"
            ]
          },
          "execution_count": 42,
          "metadata": {},
          "output_type": "execute_result"
        }
      ],
      "source": [
        "y_train.head()"
      ]
    },
    {
      "cell_type": "markdown",
      "metadata": {
        "id": "mHk9J-JV7onO",
        "nbgrader": {
          "grade": false,
          "grade_id": "ml_60",
          "locked": true,
          "schema_version": 3,
          "solution": false,
          "task": false
        }
      },
      "source": [
        "#### _Instantiate Pipeline Object_"
      ]
    },
    {
      "cell_type": "code",
      "execution_count": null,
      "metadata": {
        "id": "P6_zKYbB7onO",
        "nbgrader": {
          "grade": false,
          "grade_id": "ml_61",
          "locked": true,
          "schema_version": 3,
          "solution": false,
          "task": false
        }
      },
      "outputs": [],
      "source": [
        "clf_logreg = Pipeline(steps=[('preprocessor', preprocessor),\n",
        "                      ('classifier', LogisticRegression())])"
      ]
    },
    {
      "cell_type": "markdown",
      "metadata": {
        "id": "xSTIcM1_7onO",
        "nbgrader": {
          "grade": false,
          "grade_id": "ml_62",
          "locked": true,
          "schema_version": 3,
          "solution": false,
          "task": false
        }
      },
      "source": [
        "###  _Build Logistic Regression Model - 1_"
      ]
    },
    {
      "cell_type": "code",
      "execution_count": null,
      "metadata": {
        "colab": {
          "base_uri": "https://localhost:8080/"
        },
        "id": "FuKngSan7onO",
        "nbgrader": {
          "grade": false,
          "grade_id": "ml_63",
          "locked": true,
          "schema_version": 3,
          "solution": false,
          "task": false
        },
        "outputId": "d33ff1e0-8244-414b-b9e6-6a19d2950d9a"
      },
      "outputs": [
        {
          "name": "stdout",
          "output_type": "stream",
          "text": [
            "CPU times: user 1.9 s, sys: 765 ms, total: 2.67 s\n",
            "Wall time: 2.62 s\n"
          ]
        },
        {
          "data": {
            "text/plain": [
              "Pipeline(steps=[('preprocessor',\n",
              "                 ColumnTransformer(transformers=[('num',\n",
              "                                                  Pipeline(steps=[('imputer',\n",
              "                                                                   SimpleImputer(strategy='median')),\n",
              "                                                                  ('scaler',\n",
              "                                                                   StandardScaler())]),\n",
              "                                                  ['age', 'campaign',\n",
              "                                                   'cons_conf_idx',\n",
              "                                                   'cons_price_idx', 'duration',\n",
              "                                                   'emp_var_rate', 'euribor3m',\n",
              "                                                   'nr_employed', 'pdays',\n",
              "                                                   'previous']),\n",
              "                                                 ('cat',\n",
              "                                                  Pipeline(steps=[('imputer',\n",
              "                                                                   SimpleImputer(strategy='most_frequent')),\n",
              "                                                                  ('onehot',\n",
              "                                                                   OneHotEncoder(handle_unknown='ignore'))]),\n",
              "                                                  ['job', 'marital',\n",
              "                                                   'education',\n",
              "                                                   'credit_default', 'housing',\n",
              "                                                   'loan', 'contact',\n",
              "                                                   'contacted_month',\n",
              "                                                   'day_of_week',\n",
              "                                                   'poutcome'])])),\n",
              "                ('classifier', LogisticRegression())])"
            ]
          },
          "execution_count": 44,
          "metadata": {},
          "output_type": "execute_result"
        }
      ],
      "source": [
        "%%time\n",
        "clf_logreg.fit(X_train, y_train)"
      ]
    },
    {
      "cell_type": "markdown",
      "metadata": {
        "id": "lmfLwzZd7onO",
        "nbgrader": {
          "grade": false,
          "grade_id": "ml_64",
          "locked": true,
          "schema_version": 3,
          "solution": false,
          "task": false
        }
      },
      "source": [
        "### _Evaluate Model_"
      ]
    },
    {
      "cell_type": "code",
      "execution_count": null,
      "metadata": {
        "colab": {
          "base_uri": "https://localhost:8080/"
        },
        "id": "gyUSq3jr7onO",
        "nbgrader": {
          "grade": false,
          "grade_id": "ml_65",
          "locked": true,
          "schema_version": 3,
          "solution": false,
          "task": false
        },
        "outputId": "f07441ba-23f2-4262-db3b-13499932d869"
      },
      "outputs": [
        {
          "name": "stdout",
          "output_type": "stream",
          "text": [
            "0.9113091191609206\n",
            "0.9099295945617868\n",
            "\n",
            "\n",
            "[[35567   981]\n",
            " [ 2672  1968]]\n"
          ]
        },
        {
          "data": {
            "text/plain": [
              "array([[3560,   97],\n",
              "       [ 274,  188]])"
            ]
          },
          "execution_count": 45,
          "metadata": {},
          "output_type": "execute_result"
        }
      ],
      "source": [
        "train_pred = clf_logreg.predict(X_train)\n",
        "test_pred = clf_logreg.predict(X_test)\n",
        "\n",
        "print(clf_logreg.score(X_train, y_train))\n",
        "print(clf_logreg.score(X_test, y_test))\n",
        "print(\"\\n\")\n",
        "print(confusion_matrix(y_true=y_train, y_pred = train_pred))\n",
        "\n",
        "confusion_matrix_test = confusion_matrix(y_true=y_test, y_pred =  test_pred)\n",
        "confusion_matrix_test"
      ]
    },
    {
      "cell_type": "code",
      "execution_count": null,
      "metadata": {
        "colab": {
          "base_uri": "https://localhost:8080/"
        },
        "id": "r6IMpuv_7onO",
        "nbgrader": {
          "grade": false,
          "grade_id": "ml_66",
          "locked": true,
          "schema_version": 3,
          "solution": false,
          "task": false
        },
        "outputId": "87457861-56dd-4351-d33d-c4966f9280b0"
      },
      "outputs": [
        {
          "name": "stdout",
          "output_type": "stream",
          "text": [
            "              precision    recall  f1-score   support\n",
            "\n",
            "          no       0.93      0.97      0.95      3657\n",
            "         yes       0.66      0.41      0.50       462\n",
            "\n",
            "    accuracy                           0.91      4119\n",
            "   macro avg       0.79      0.69      0.73      4119\n",
            "weighted avg       0.90      0.91      0.90      4119\n",
            "\n"
          ]
        }
      ],
      "source": [
        "print(classification_report(y_true=y_test, y_pred =  test_pred))"
      ]
    },
    {
      "cell_type": "code",
      "execution_count": null,
      "metadata": {
        "colab": {
          "base_uri": "https://localhost:8080/"
        },
        "id": "wQCTGBoP7onO",
        "outputId": "785f7540-b1e4-4528-a02c-0b5b3bd2dfe5"
      },
      "outputs": [
        {
          "name": "stdout",
          "output_type": "stream",
          "text": [
            "Test Precision:  0.6596491228070176\n",
            "Test Recall:  0.4069264069264069\n",
            "Test Accuracy:  0.9099295945617868\n"
          ]
        }
      ],
      "source": [
        "Accuracy_test=(confusion_matrix_test[0,0]+confusion_matrix_test[1,1])/(confusion_matrix_test[0,0]+confusion_matrix_test[0,1]+confusion_matrix_test[1,0]+confusion_matrix_test[1,1])\n",
        "\n",
        "Precision_Test= confusion_matrix_test[1,1]/(confusion_matrix_test[1,1]+confusion_matrix_test[0,1])\n",
        "Recall_Test= confusion_matrix_test[1,1]/(confusion_matrix_test[1,0]+confusion_matrix_test[1,1])\n",
        "\n",
        "print(\"Test Precision: \",Precision_Test)\n",
        "print(\"Test Recall: \",Recall_Test)\n",
        "print(\"Test Accuracy: \",Accuracy_test)"
      ]
    },
    {
      "cell_type": "markdown",
      "metadata": {
        "id": "wFYaaoNk7onP",
        "nbgrader": {
          "grade": false,
          "grade_id": "ml_67",
          "locked": true,
          "schema_version": 3,
          "solution": false,
          "task": false
        }
      },
      "source": [
        "#### Using the function to calculate accuracy, precision and recall."
      ]
    },
    {
      "cell_type": "code",
      "execution_count": null,
      "metadata": {
        "colab": {
          "base_uri": "https://localhost:8080/"
        },
        "id": "t9FwuMf97onP",
        "nbgrader": {
          "grade": false,
          "grade_id": "ml_68",
          "locked": true,
          "schema_version": 3,
          "solution": false,
          "task": false
        },
        "outputId": "7cc83660-0c21-4f77-9953-9d17c98cbdf4"
      },
      "outputs": [
        {
          "name": "stdout",
          "output_type": "stream",
          "text": [
            "Test Precision:  0.6596491228070176\n",
            "Test Recall:  0.4069264069264069\n",
            "Test Accuracy:  0.9099295945617868\n"
          ]
        }
      ],
      "source": [
        "accuracy_precision_recall_metrics(y_true = y_test, y_pred = test_pred)"
      ]
    },
    {
      "cell_type": "markdown",
      "metadata": {
        "id": "GYPzA-bd7onP",
        "nbgrader": {
          "grade": false,
          "grade_id": "ml_69",
          "locked": true,
          "schema_version": 3,
          "solution": false,
          "task": false
        }
      },
      "source": [
        "### _Build Decision Tree Model - 2_"
      ]
    },
    {
      "cell_type": "code",
      "execution_count": null,
      "metadata": {
        "colab": {
          "base_uri": "https://localhost:8080/"
        },
        "id": "yY2aVFVU7onP",
        "nbgrader": {
          "grade": false,
          "grade_id": "ml_70",
          "locked": true,
          "schema_version": 3,
          "solution": false,
          "task": false
        },
        "outputId": "24f0f27d-196e-411a-e5ed-74ff81f4d798",
        "scrolled": true
      },
      "outputs": [
        {
          "name": "stdout",
          "output_type": "stream",
          "text": [
            "Fitting 5 folds for each of 72 candidates, totalling 360 fits\n",
            "[CV 1/5] END classifier__criterion=entropy, classifier__max_depth=6, classifier__min_samples_leaf=1, classifier__min_samples_split=2;, score=0.891 total time=   1.0s\n",
            "[CV 2/5] END classifier__criterion=entropy, classifier__max_depth=6, classifier__min_samples_leaf=1, classifier__min_samples_split=2;, score=0.717 total time=   1.0s\n",
            "[CV 3/5] END classifier__criterion=entropy, classifier__max_depth=6, classifier__min_samples_leaf=1, classifier__min_samples_split=2;, score=0.852 total time=   0.8s\n",
            "[CV 4/5] END classifier__criterion=entropy, classifier__max_depth=6, classifier__min_samples_leaf=1, classifier__min_samples_split=2;, score=0.145 total time=   0.8s\n",
            "[CV 5/5] END classifier__criterion=entropy, classifier__max_depth=6, classifier__min_samples_leaf=1, classifier__min_samples_split=2;, score=0.142 total time=   1.0s\n",
            "[CV 1/5] END classifier__criterion=entropy, classifier__max_depth=6, classifier__min_samples_leaf=1, classifier__min_samples_split=10;, score=0.891 total time=   1.2s\n",
            "[CV 2/5] END classifier__criterion=entropy, classifier__max_depth=6, classifier__min_samples_leaf=1, classifier__min_samples_split=10;, score=0.717 total time=   1.1s\n",
            "[CV 3/5] END classifier__criterion=entropy, classifier__max_depth=6, classifier__min_samples_leaf=1, classifier__min_samples_split=10;, score=0.852 total time=   0.8s\n",
            "[CV 4/5] END classifier__criterion=entropy, classifier__max_depth=6, classifier__min_samples_leaf=1, classifier__min_samples_split=10;, score=0.145 total time=   0.8s\n",
            "[CV 5/5] END classifier__criterion=entropy, classifier__max_depth=6, classifier__min_samples_leaf=1, classifier__min_samples_split=10;, score=0.142 total time=   1.0s\n",
            "[CV 1/5] END classifier__criterion=entropy, classifier__max_depth=6, classifier__min_samples_leaf=1, classifier__min_samples_split=20;, score=0.891 total time=   0.7s\n",
            "[CV 2/5] END classifier__criterion=entropy, classifier__max_depth=6, classifier__min_samples_leaf=1, classifier__min_samples_split=20;, score=0.717 total time=   0.9s\n",
            "[CV 3/5] END classifier__criterion=entropy, classifier__max_depth=6, classifier__min_samples_leaf=1, classifier__min_samples_split=20;, score=0.852 total time=   0.9s\n",
            "[CV 4/5] END classifier__criterion=entropy, classifier__max_depth=6, classifier__min_samples_leaf=1, classifier__min_samples_split=20;, score=0.145 total time=   1.2s\n",
            "[CV 5/5] END classifier__criterion=entropy, classifier__max_depth=6, classifier__min_samples_leaf=1, classifier__min_samples_split=20;, score=0.142 total time=   1.0s\n",
            "[CV 1/5] END classifier__criterion=entropy, classifier__max_depth=6, classifier__min_samples_leaf=5, classifier__min_samples_split=2;, score=0.891 total time=   1.3s\n",
            "[CV 2/5] END classifier__criterion=entropy, classifier__max_depth=6, classifier__min_samples_leaf=5, classifier__min_samples_split=2;, score=0.717 total time=   1.3s\n",
            "[CV 3/5] END classifier__criterion=entropy, classifier__max_depth=6, classifier__min_samples_leaf=5, classifier__min_samples_split=2;, score=0.852 total time=   1.0s\n",
            "[CV 4/5] END classifier__criterion=entropy, classifier__max_depth=6, classifier__min_samples_leaf=5, classifier__min_samples_split=2;, score=0.145 total time=   0.7s\n",
            "[CV 5/5] END classifier__criterion=entropy, classifier__max_depth=6, classifier__min_samples_leaf=5, classifier__min_samples_split=2;, score=0.142 total time=   1.0s\n",
            "[CV 1/5] END classifier__criterion=entropy, classifier__max_depth=6, classifier__min_samples_leaf=5, classifier__min_samples_split=10;, score=0.891 total time=   1.1s\n",
            "[CV 2/5] END classifier__criterion=entropy, classifier__max_depth=6, classifier__min_samples_leaf=5, classifier__min_samples_split=10;, score=0.717 total time=   0.8s\n",
            "[CV 3/5] END classifier__criterion=entropy, classifier__max_depth=6, classifier__min_samples_leaf=5, classifier__min_samples_split=10;, score=0.852 total time=   1.1s\n",
            "[CV 4/5] END classifier__criterion=entropy, classifier__max_depth=6, classifier__min_samples_leaf=5, classifier__min_samples_split=10;, score=0.145 total time=   0.8s\n",
            "[CV 5/5] END classifier__criterion=entropy, classifier__max_depth=6, classifier__min_samples_leaf=5, classifier__min_samples_split=10;, score=0.142 total time=   0.4s\n",
            "[CV 1/5] END classifier__criterion=entropy, classifier__max_depth=6, classifier__min_samples_leaf=5, classifier__min_samples_split=20;, score=0.891 total time=   0.4s\n",
            "[CV 2/5] END classifier__criterion=entropy, classifier__max_depth=6, classifier__min_samples_leaf=5, classifier__min_samples_split=20;, score=0.717 total time=   0.4s\n",
            "[CV 3/5] END classifier__criterion=entropy, classifier__max_depth=6, classifier__min_samples_leaf=5, classifier__min_samples_split=20;, score=0.852 total time=   0.4s\n",
            "[CV 4/5] END classifier__criterion=entropy, classifier__max_depth=6, classifier__min_samples_leaf=5, classifier__min_samples_split=20;, score=0.145 total time=   0.4s\n",
            "[CV 5/5] END classifier__criterion=entropy, classifier__max_depth=6, classifier__min_samples_leaf=5, classifier__min_samples_split=20;, score=0.142 total time=   0.4s\n",
            "[CV 1/5] END classifier__criterion=entropy, classifier__max_depth=6, classifier__min_samples_leaf=10, classifier__min_samples_split=2;, score=0.891 total time=   0.4s\n",
            "[CV 2/5] END classifier__criterion=entropy, classifier__max_depth=6, classifier__min_samples_leaf=10, classifier__min_samples_split=2;, score=0.717 total time=   0.4s\n",
            "[CV 3/5] END classifier__criterion=entropy, classifier__max_depth=6, classifier__min_samples_leaf=10, classifier__min_samples_split=2;, score=0.852 total time=   0.4s\n",
            "[CV 4/5] END classifier__criterion=entropy, classifier__max_depth=6, classifier__min_samples_leaf=10, classifier__min_samples_split=2;, score=0.145 total time=   0.4s\n",
            "[CV 5/5] END classifier__criterion=entropy, classifier__max_depth=6, classifier__min_samples_leaf=10, classifier__min_samples_split=2;, score=0.142 total time=   0.4s\n",
            "[CV 1/5] END classifier__criterion=entropy, classifier__max_depth=6, classifier__min_samples_leaf=10, classifier__min_samples_split=10;, score=0.891 total time=   0.4s\n",
            "[CV 2/5] END classifier__criterion=entropy, classifier__max_depth=6, classifier__min_samples_leaf=10, classifier__min_samples_split=10;, score=0.717 total time=   0.4s\n",
            "[CV 3/5] END classifier__criterion=entropy, classifier__max_depth=6, classifier__min_samples_leaf=10, classifier__min_samples_split=10;, score=0.852 total time=   0.4s\n",
            "[CV 4/5] END classifier__criterion=entropy, classifier__max_depth=6, classifier__min_samples_leaf=10, classifier__min_samples_split=10;, score=0.145 total time=   0.4s\n",
            "[CV 5/5] END classifier__criterion=entropy, classifier__max_depth=6, classifier__min_samples_leaf=10, classifier__min_samples_split=10;, score=0.142 total time=   0.4s\n",
            "[CV 1/5] END classifier__criterion=entropy, classifier__max_depth=6, classifier__min_samples_leaf=10, classifier__min_samples_split=20;, score=0.891 total time=   0.4s\n",
            "[CV 2/5] END classifier__criterion=entropy, classifier__max_depth=6, classifier__min_samples_leaf=10, classifier__min_samples_split=20;, score=0.717 total time=   0.4s\n",
            "[CV 3/5] END classifier__criterion=entropy, classifier__max_depth=6, classifier__min_samples_leaf=10, classifier__min_samples_split=20;, score=0.852 total time=   0.4s\n",
            "[CV 4/5] END classifier__criterion=entropy, classifier__max_depth=6, classifier__min_samples_leaf=10, classifier__min_samples_split=20;, score=0.145 total time=   0.4s\n",
            "[CV 5/5] END classifier__criterion=entropy, classifier__max_depth=6, classifier__min_samples_leaf=10, classifier__min_samples_split=20;, score=0.142 total time=   0.4s\n",
            "[CV 1/5] END classifier__criterion=entropy, classifier__max_depth=8, classifier__min_samples_leaf=1, classifier__min_samples_split=2;, score=0.888 total time=   0.4s\n",
            "[CV 2/5] END classifier__criterion=entropy, classifier__max_depth=8, classifier__min_samples_leaf=1, classifier__min_samples_split=2;, score=0.708 total time=   0.4s\n",
            "[CV 3/5] END classifier__criterion=entropy, classifier__max_depth=8, classifier__min_samples_leaf=1, classifier__min_samples_split=2;, score=0.814 total time=   0.5s\n",
            "[CV 4/5] END classifier__criterion=entropy, classifier__max_depth=8, classifier__min_samples_leaf=1, classifier__min_samples_split=2;, score=0.140 total time=   0.4s\n",
            "[CV 5/5] END classifier__criterion=entropy, classifier__max_depth=8, classifier__min_samples_leaf=1, classifier__min_samples_split=2;, score=0.142 total time=   0.4s\n",
            "[CV 1/5] END classifier__criterion=entropy, classifier__max_depth=8, classifier__min_samples_leaf=1, classifier__min_samples_split=10;, score=0.888 total time=   0.4s\n",
            "[CV 2/5] END classifier__criterion=entropy, classifier__max_depth=8, classifier__min_samples_leaf=1, classifier__min_samples_split=10;, score=0.708 total time=   0.4s\n",
            "[CV 3/5] END classifier__criterion=entropy, classifier__max_depth=8, classifier__min_samples_leaf=1, classifier__min_samples_split=10;, score=0.814 total time=   0.5s\n",
            "[CV 4/5] END classifier__criterion=entropy, classifier__max_depth=8, classifier__min_samples_leaf=1, classifier__min_samples_split=10;, score=0.140 total time=   0.4s\n",
            "[CV 5/5] END classifier__criterion=entropy, classifier__max_depth=8, classifier__min_samples_leaf=1, classifier__min_samples_split=10;, score=0.142 total time=   0.5s\n",
            "[CV 1/5] END classifier__criterion=entropy, classifier__max_depth=8, classifier__min_samples_leaf=1, classifier__min_samples_split=20;, score=0.888 total time=   0.5s\n",
            "[CV 2/5] END classifier__criterion=entropy, classifier__max_depth=8, classifier__min_samples_leaf=1, classifier__min_samples_split=20;, score=0.710 total time=   0.4s\n",
            "[CV 3/5] END classifier__criterion=entropy, classifier__max_depth=8, classifier__min_samples_leaf=1, classifier__min_samples_split=20;, score=0.814 total time=   0.5s\n",
            "[CV 4/5] END classifier__criterion=entropy, classifier__max_depth=8, classifier__min_samples_leaf=1, classifier__min_samples_split=20;, score=0.139 total time=   0.4s\n",
            "[CV 5/5] END classifier__criterion=entropy, classifier__max_depth=8, classifier__min_samples_leaf=1, classifier__min_samples_split=20;, score=0.142 total time=   0.5s\n",
            "[CV 1/5] END classifier__criterion=entropy, classifier__max_depth=8, classifier__min_samples_leaf=5, classifier__min_samples_split=2;, score=0.888 total time=   0.5s\n",
            "[CV 2/5] END classifier__criterion=entropy, classifier__max_depth=8, classifier__min_samples_leaf=5, classifier__min_samples_split=2;, score=0.710 total time=   0.4s\n",
            "[CV 3/5] END classifier__criterion=entropy, classifier__max_depth=8, classifier__min_samples_leaf=5, classifier__min_samples_split=2;, score=0.814 total time=   0.5s\n",
            "[CV 4/5] END classifier__criterion=entropy, classifier__max_depth=8, classifier__min_samples_leaf=5, classifier__min_samples_split=2;, score=0.139 total time=   0.4s\n",
            "[CV 5/5] END classifier__criterion=entropy, classifier__max_depth=8, classifier__min_samples_leaf=5, classifier__min_samples_split=2;, score=0.142 total time=   0.4s\n",
            "[CV 1/5] END classifier__criterion=entropy, classifier__max_depth=8, classifier__min_samples_leaf=5, classifier__min_samples_split=10;, score=0.888 total time=   0.5s\n",
            "[CV 2/5] END classifier__criterion=entropy, classifier__max_depth=8, classifier__min_samples_leaf=5, classifier__min_samples_split=10;, score=0.710 total time=   0.4s\n",
            "[CV 3/5] END classifier__criterion=entropy, classifier__max_depth=8, classifier__min_samples_leaf=5, classifier__min_samples_split=10;, score=0.814 total time=   0.5s\n",
            "[CV 4/5] END classifier__criterion=entropy, classifier__max_depth=8, classifier__min_samples_leaf=5, classifier__min_samples_split=10;, score=0.139 total time=   0.4s\n",
            "[CV 5/5] END classifier__criterion=entropy, classifier__max_depth=8, classifier__min_samples_leaf=5, classifier__min_samples_split=10;, score=0.142 total time=   0.4s\n",
            "[CV 1/5] END classifier__criterion=entropy, classifier__max_depth=8, classifier__min_samples_leaf=5, classifier__min_samples_split=20;, score=0.888 total time=   0.4s\n",
            "[CV 2/5] END classifier__criterion=entropy, classifier__max_depth=8, classifier__min_samples_leaf=5, classifier__min_samples_split=20;, score=0.712 total time=   0.4s\n",
            "[CV 3/5] END classifier__criterion=entropy, classifier__max_depth=8, classifier__min_samples_leaf=5, classifier__min_samples_split=20;, score=0.814 total time=   0.5s\n",
            "[CV 4/5] END classifier__criterion=entropy, classifier__max_depth=8, classifier__min_samples_leaf=5, classifier__min_samples_split=20;, score=0.139 total time=   0.4s\n",
            "[CV 5/5] END classifier__criterion=entropy, classifier__max_depth=8, classifier__min_samples_leaf=5, classifier__min_samples_split=20;, score=0.142 total time=   0.5s\n",
            "[CV 1/5] END classifier__criterion=entropy, classifier__max_depth=8, classifier__min_samples_leaf=10, classifier__min_samples_split=2;, score=0.888 total time=   0.4s\n",
            "[CV 2/5] END classifier__criterion=entropy, classifier__max_depth=8, classifier__min_samples_leaf=10, classifier__min_samples_split=2;, score=0.712 total time=   0.4s\n",
            "[CV 3/5] END classifier__criterion=entropy, classifier__max_depth=8, classifier__min_samples_leaf=10, classifier__min_samples_split=2;, score=0.816 total time=   0.5s\n",
            "[CV 4/5] END classifier__criterion=entropy, classifier__max_depth=8, classifier__min_samples_leaf=10, classifier__min_samples_split=2;, score=0.139 total time=   0.4s\n",
            "[CV 5/5] END classifier__criterion=entropy, classifier__max_depth=8, classifier__min_samples_leaf=10, classifier__min_samples_split=2;, score=0.142 total time=   0.4s\n",
            "[CV 1/5] END classifier__criterion=entropy, classifier__max_depth=8, classifier__min_samples_leaf=10, classifier__min_samples_split=10;, score=0.888 total time=   0.4s\n",
            "[CV 2/5] END classifier__criterion=entropy, classifier__max_depth=8, classifier__min_samples_leaf=10, classifier__min_samples_split=10;, score=0.712 total time=   0.4s\n",
            "[CV 3/5] END classifier__criterion=entropy, classifier__max_depth=8, classifier__min_samples_leaf=10, classifier__min_samples_split=10;, score=0.816 total time=   0.5s\n",
            "[CV 4/5] END classifier__criterion=entropy, classifier__max_depth=8, classifier__min_samples_leaf=10, classifier__min_samples_split=10;, score=0.139 total time=   0.4s\n",
            "[CV 5/5] END classifier__criterion=entropy, classifier__max_depth=8, classifier__min_samples_leaf=10, classifier__min_samples_split=10;, score=0.142 total time=   0.4s\n",
            "[CV 1/5] END classifier__criterion=entropy, classifier__max_depth=8, classifier__min_samples_leaf=10, classifier__min_samples_split=20;, score=0.888 total time=   0.5s\n",
            "[CV 2/5] END classifier__criterion=entropy, classifier__max_depth=8, classifier__min_samples_leaf=10, classifier__min_samples_split=20;, score=0.712 total time=   0.4s\n",
            "[CV 3/5] END classifier__criterion=entropy, classifier__max_depth=8, classifier__min_samples_leaf=10, classifier__min_samples_split=20;, score=0.816 total time=   0.5s\n",
            "[CV 4/5] END classifier__criterion=entropy, classifier__max_depth=8, classifier__min_samples_leaf=10, classifier__min_samples_split=20;, score=0.139 total time=   0.4s\n",
            "[CV 5/5] END classifier__criterion=entropy, classifier__max_depth=8, classifier__min_samples_leaf=10, classifier__min_samples_split=20;, score=0.142 total time=   0.4s\n",
            "[CV 1/5] END classifier__criterion=entropy, classifier__max_depth=10, classifier__min_samples_leaf=1, classifier__min_samples_split=2;, score=0.889 total time=   0.5s\n",
            "[CV 2/5] END classifier__criterion=entropy, classifier__max_depth=10, classifier__min_samples_leaf=1, classifier__min_samples_split=2;, score=0.696 total time=   0.5s\n",
            "[CV 3/5] END classifier__criterion=entropy, classifier__max_depth=10, classifier__min_samples_leaf=1, classifier__min_samples_split=2;, score=0.759 total time=   0.5s\n",
            "[CV 4/5] END classifier__criterion=entropy, classifier__max_depth=10, classifier__min_samples_leaf=1, classifier__min_samples_split=2;, score=0.139 total time=   0.4s\n",
            "[CV 5/5] END classifier__criterion=entropy, classifier__max_depth=10, classifier__min_samples_leaf=1, classifier__min_samples_split=2;, score=0.141 total time=   0.5s\n",
            "[CV 1/5] END classifier__criterion=entropy, classifier__max_depth=10, classifier__min_samples_leaf=1, classifier__min_samples_split=10;, score=0.889 total time=   0.5s\n",
            "[CV 2/5] END classifier__criterion=entropy, classifier__max_depth=10, classifier__min_samples_leaf=1, classifier__min_samples_split=10;, score=0.696 total time=   0.4s\n",
            "[CV 3/5] END classifier__criterion=entropy, classifier__max_depth=10, classifier__min_samples_leaf=1, classifier__min_samples_split=10;, score=0.755 total time=   0.5s\n",
            "[CV 4/5] END classifier__criterion=entropy, classifier__max_depth=10, classifier__min_samples_leaf=1, classifier__min_samples_split=10;, score=0.139 total time=   0.4s\n",
            "[CV 5/5] END classifier__criterion=entropy, classifier__max_depth=10, classifier__min_samples_leaf=1, classifier__min_samples_split=10;, score=0.142 total time=   0.5s\n",
            "[CV 1/5] END classifier__criterion=entropy, classifier__max_depth=10, classifier__min_samples_leaf=1, classifier__min_samples_split=20;, score=0.889 total time=   0.5s\n",
            "[CV 2/5] END classifier__criterion=entropy, classifier__max_depth=10, classifier__min_samples_leaf=1, classifier__min_samples_split=20;, score=0.700 total time=   0.4s\n",
            "[CV 3/5] END classifier__criterion=entropy, classifier__max_depth=10, classifier__min_samples_leaf=1, classifier__min_samples_split=20;, score=0.757 total time=   0.5s\n",
            "[CV 4/5] END classifier__criterion=entropy, classifier__max_depth=10, classifier__min_samples_leaf=1, classifier__min_samples_split=20;, score=0.137 total time=   0.4s\n",
            "[CV 5/5] END classifier__criterion=entropy, classifier__max_depth=10, classifier__min_samples_leaf=1, classifier__min_samples_split=20;, score=0.142 total time=   0.5s\n",
            "[CV 1/5] END classifier__criterion=entropy, classifier__max_depth=10, classifier__min_samples_leaf=5, classifier__min_samples_split=2;, score=0.888 total time=   0.5s\n",
            "[CV 2/5] END classifier__criterion=entropy, classifier__max_depth=10, classifier__min_samples_leaf=5, classifier__min_samples_split=2;, score=0.710 total time=   0.5s\n",
            "[CV 3/5] END classifier__criterion=entropy, classifier__max_depth=10, classifier__min_samples_leaf=5, classifier__min_samples_split=2;, score=0.822 total time=   0.5s\n",
            "[CV 4/5] END classifier__criterion=entropy, classifier__max_depth=10, classifier__min_samples_leaf=5, classifier__min_samples_split=2;, score=0.139 total time=   0.4s\n",
            "[CV 5/5] END classifier__criterion=entropy, classifier__max_depth=10, classifier__min_samples_leaf=5, classifier__min_samples_split=2;, score=0.142 total time=   0.5s\n",
            "[CV 1/5] END classifier__criterion=entropy, classifier__max_depth=10, classifier__min_samples_leaf=5, classifier__min_samples_split=10;, score=0.888 total time=   0.5s\n",
            "[CV 2/5] END classifier__criterion=entropy, classifier__max_depth=10, classifier__min_samples_leaf=5, classifier__min_samples_split=10;, score=0.710 total time=   0.4s\n",
            "[CV 3/5] END classifier__criterion=entropy, classifier__max_depth=10, classifier__min_samples_leaf=5, classifier__min_samples_split=10;, score=0.822 total time=   0.5s\n",
            "[CV 4/5] END classifier__criterion=entropy, classifier__max_depth=10, classifier__min_samples_leaf=5, classifier__min_samples_split=10;, score=0.139 total time=   0.4s\n",
            "[CV 5/5] END classifier__criterion=entropy, classifier__max_depth=10, classifier__min_samples_leaf=5, classifier__min_samples_split=10;, score=0.142 total time=   0.5s\n",
            "[CV 1/5] END classifier__criterion=entropy, classifier__max_depth=10, classifier__min_samples_leaf=5, classifier__min_samples_split=20;, score=0.888 total time=   0.4s\n",
            "[CV 2/5] END classifier__criterion=entropy, classifier__max_depth=10, classifier__min_samples_leaf=5, classifier__min_samples_split=20;, score=0.711 total time=   0.5s\n",
            "[CV 3/5] END classifier__criterion=entropy, classifier__max_depth=10, classifier__min_samples_leaf=5, classifier__min_samples_split=20;, score=0.824 total time=   0.5s\n",
            "[CV 4/5] END classifier__criterion=entropy, classifier__max_depth=10, classifier__min_samples_leaf=5, classifier__min_samples_split=20;, score=0.139 total time=   0.4s\n",
            "[CV 5/5] END classifier__criterion=entropy, classifier__max_depth=10, classifier__min_samples_leaf=5, classifier__min_samples_split=20;, score=0.142 total time=   0.5s\n",
            "[CV 1/5] END classifier__criterion=entropy, classifier__max_depth=10, classifier__min_samples_leaf=10, classifier__min_samples_split=2;, score=0.888 total time=   0.5s\n",
            "[CV 2/5] END classifier__criterion=entropy, classifier__max_depth=10, classifier__min_samples_leaf=10, classifier__min_samples_split=2;, score=0.710 total time=   0.5s\n",
            "[CV 3/5] END classifier__criterion=entropy, classifier__max_depth=10, classifier__min_samples_leaf=10, classifier__min_samples_split=2;, score=0.831 total time=   0.5s\n",
            "[CV 4/5] END classifier__criterion=entropy, classifier__max_depth=10, classifier__min_samples_leaf=10, classifier__min_samples_split=2;, score=0.140 total time=   0.4s\n",
            "[CV 5/5] END classifier__criterion=entropy, classifier__max_depth=10, classifier__min_samples_leaf=10, classifier__min_samples_split=2;, score=0.142 total time=   0.5s\n",
            "[CV 1/5] END classifier__criterion=entropy, classifier__max_depth=10, classifier__min_samples_leaf=10, classifier__min_samples_split=10;, score=0.888 total time=   0.5s\n",
            "[CV 2/5] END classifier__criterion=entropy, classifier__max_depth=10, classifier__min_samples_leaf=10, classifier__min_samples_split=10;, score=0.710 total time=   0.4s\n",
            "[CV 3/5] END classifier__criterion=entropy, classifier__max_depth=10, classifier__min_samples_leaf=10, classifier__min_samples_split=10;, score=0.831 total time=   0.5s\n",
            "[CV 4/5] END classifier__criterion=entropy, classifier__max_depth=10, classifier__min_samples_leaf=10, classifier__min_samples_split=10;, score=0.140 total time=   0.4s\n",
            "[CV 5/5] END classifier__criterion=entropy, classifier__max_depth=10, classifier__min_samples_leaf=10, classifier__min_samples_split=10;, score=0.142 total time=   0.5s\n",
            "[CV 1/5] END classifier__criterion=entropy, classifier__max_depth=10, classifier__min_samples_leaf=10, classifier__min_samples_split=20;, score=0.888 total time=   0.5s\n",
            "[CV 2/5] END classifier__criterion=entropy, classifier__max_depth=10, classifier__min_samples_leaf=10, classifier__min_samples_split=20;, score=0.710 total time=   0.4s\n",
            "[CV 3/5] END classifier__criterion=entropy, classifier__max_depth=10, classifier__min_samples_leaf=10, classifier__min_samples_split=20;, score=0.831 total time=   0.5s\n",
            "[CV 4/5] END classifier__criterion=entropy, classifier__max_depth=10, classifier__min_samples_leaf=10, classifier__min_samples_split=20;, score=0.140 total time=   0.4s\n",
            "[CV 5/5] END classifier__criterion=entropy, classifier__max_depth=10, classifier__min_samples_leaf=10, classifier__min_samples_split=20;, score=0.142 total time=   0.5s\n",
            "[CV 1/5] END classifier__criterion=entropy, classifier__max_depth=12, classifier__min_samples_leaf=1, classifier__min_samples_split=2;, score=0.889 total time=   0.5s\n",
            "[CV 2/5] END classifier__criterion=entropy, classifier__max_depth=12, classifier__min_samples_leaf=1, classifier__min_samples_split=2;, score=0.703 total time=   0.5s\n",
            "[CV 3/5] END classifier__criterion=entropy, classifier__max_depth=12, classifier__min_samples_leaf=1, classifier__min_samples_split=2;, score=0.753 total time=   0.5s\n",
            "[CV 4/5] END classifier__criterion=entropy, classifier__max_depth=12, classifier__min_samples_leaf=1, classifier__min_samples_split=2;, score=0.138 total time=   0.4s\n",
            "[CV 5/5] END classifier__criterion=entropy, classifier__max_depth=12, classifier__min_samples_leaf=1, classifier__min_samples_split=2;, score=0.142 total time=   0.5s\n",
            "[CV 1/5] END classifier__criterion=entropy, classifier__max_depth=12, classifier__min_samples_leaf=1, classifier__min_samples_split=10;, score=0.889 total time=   0.5s\n",
            "[CV 2/5] END classifier__criterion=entropy, classifier__max_depth=12, classifier__min_samples_leaf=1, classifier__min_samples_split=10;, score=0.701 total time=   0.5s\n",
            "[CV 3/5] END classifier__criterion=entropy, classifier__max_depth=12, classifier__min_samples_leaf=1, classifier__min_samples_split=10;, score=0.752 total time=   0.5s\n",
            "[CV 4/5] END classifier__criterion=entropy, classifier__max_depth=12, classifier__min_samples_leaf=1, classifier__min_samples_split=10;, score=0.138 total time=   0.5s\n",
            "[CV 5/5] END classifier__criterion=entropy, classifier__max_depth=12, classifier__min_samples_leaf=1, classifier__min_samples_split=10;, score=0.142 total time=   0.5s\n",
            "[CV 1/5] END classifier__criterion=entropy, classifier__max_depth=12, classifier__min_samples_leaf=1, classifier__min_samples_split=20;, score=0.889 total time=   0.5s\n",
            "[CV 2/5] END classifier__criterion=entropy, classifier__max_depth=12, classifier__min_samples_leaf=1, classifier__min_samples_split=20;, score=0.704 total time=   0.5s\n",
            "[CV 3/5] END classifier__criterion=entropy, classifier__max_depth=12, classifier__min_samples_leaf=1, classifier__min_samples_split=20;, score=0.755 total time=   0.5s\n",
            "[CV 4/5] END classifier__criterion=entropy, classifier__max_depth=12, classifier__min_samples_leaf=1, classifier__min_samples_split=20;, score=0.137 total time=   0.4s\n",
            "[CV 5/5] END classifier__criterion=entropy, classifier__max_depth=12, classifier__min_samples_leaf=1, classifier__min_samples_split=20;, score=0.142 total time=   0.5s\n",
            "[CV 1/5] END classifier__criterion=entropy, classifier__max_depth=12, classifier__min_samples_leaf=5, classifier__min_samples_split=2;, score=0.888 total time=   0.5s\n",
            "[CV 2/5] END classifier__criterion=entropy, classifier__max_depth=12, classifier__min_samples_leaf=5, classifier__min_samples_split=2;, score=0.715 total time=   0.5s\n",
            "[CV 3/5] END classifier__criterion=entropy, classifier__max_depth=12, classifier__min_samples_leaf=5, classifier__min_samples_split=2;, score=0.820 total time=   0.5s\n",
            "[CV 4/5] END classifier__criterion=entropy, classifier__max_depth=12, classifier__min_samples_leaf=5, classifier__min_samples_split=2;, score=0.139 total time=   0.4s\n",
            "[CV 5/5] END classifier__criterion=entropy, classifier__max_depth=12, classifier__min_samples_leaf=5, classifier__min_samples_split=2;, score=0.142 total time=   0.5s\n",
            "[CV 1/5] END classifier__criterion=entropy, classifier__max_depth=12, classifier__min_samples_leaf=5, classifier__min_samples_split=10;, score=0.888 total time=   0.5s\n",
            "[CV 2/5] END classifier__criterion=entropy, classifier__max_depth=12, classifier__min_samples_leaf=5, classifier__min_samples_split=10;, score=0.715 total time=   0.5s\n",
            "[CV 3/5] END classifier__criterion=entropy, classifier__max_depth=12, classifier__min_samples_leaf=5, classifier__min_samples_split=10;, score=0.820 total time=   0.5s\n",
            "[CV 4/5] END classifier__criterion=entropy, classifier__max_depth=12, classifier__min_samples_leaf=5, classifier__min_samples_split=10;, score=0.139 total time=   0.4s\n",
            "[CV 5/5] END classifier__criterion=entropy, classifier__max_depth=12, classifier__min_samples_leaf=5, classifier__min_samples_split=10;, score=0.142 total time=   0.5s\n",
            "[CV 1/5] END classifier__criterion=entropy, classifier__max_depth=12, classifier__min_samples_leaf=5, classifier__min_samples_split=20;, score=0.888 total time=   0.5s\n",
            "[CV 2/5] END classifier__criterion=entropy, classifier__max_depth=12, classifier__min_samples_leaf=5, classifier__min_samples_split=20;, score=0.716 total time=   0.5s\n",
            "[CV 3/5] END classifier__criterion=entropy, classifier__max_depth=12, classifier__min_samples_leaf=5, classifier__min_samples_split=20;, score=0.823 total time=   0.5s\n",
            "[CV 4/5] END classifier__criterion=entropy, classifier__max_depth=12, classifier__min_samples_leaf=5, classifier__min_samples_split=20;, score=0.140 total time=   0.4s\n",
            "[CV 5/5] END classifier__criterion=entropy, classifier__max_depth=12, classifier__min_samples_leaf=5, classifier__min_samples_split=20;, score=0.142 total time=   0.5s\n",
            "[CV 1/5] END classifier__criterion=entropy, classifier__max_depth=12, classifier__min_samples_leaf=10, classifier__min_samples_split=2;, score=0.889 total time=   0.5s\n",
            "[CV 2/5] END classifier__criterion=entropy, classifier__max_depth=12, classifier__min_samples_leaf=10, classifier__min_samples_split=2;, score=0.713 total time=   0.4s\n",
            "[CV 3/5] END classifier__criterion=entropy, classifier__max_depth=12, classifier__min_samples_leaf=10, classifier__min_samples_split=2;, score=0.830 total time=   0.5s\n",
            "[CV 4/5] END classifier__criterion=entropy, classifier__max_depth=12, classifier__min_samples_leaf=10, classifier__min_samples_split=2;, score=0.139 total time=   0.4s\n",
            "[CV 5/5] END classifier__criterion=entropy, classifier__max_depth=12, classifier__min_samples_leaf=10, classifier__min_samples_split=2;, score=0.142 total time=   0.5s\n",
            "[CV 1/5] END classifier__criterion=entropy, classifier__max_depth=12, classifier__min_samples_leaf=10, classifier__min_samples_split=10;, score=0.889 total time=   0.5s\n",
            "[CV 2/5] END classifier__criterion=entropy, classifier__max_depth=12, classifier__min_samples_leaf=10, classifier__min_samples_split=10;, score=0.713 total time=   0.5s\n",
            "[CV 3/5] END classifier__criterion=entropy, classifier__max_depth=12, classifier__min_samples_leaf=10, classifier__min_samples_split=10;, score=0.830 total time=   0.5s\n",
            "[CV 4/5] END classifier__criterion=entropy, classifier__max_depth=12, classifier__min_samples_leaf=10, classifier__min_samples_split=10;, score=0.140 total time=   0.5s\n",
            "[CV 5/5] END classifier__criterion=entropy, classifier__max_depth=12, classifier__min_samples_leaf=10, classifier__min_samples_split=10;, score=0.142 total time=   0.5s\n",
            "[CV 1/5] END classifier__criterion=entropy, classifier__max_depth=12, classifier__min_samples_leaf=10, classifier__min_samples_split=20;, score=0.888 total time=   0.5s\n",
            "[CV 2/5] END classifier__criterion=entropy, classifier__max_depth=12, classifier__min_samples_leaf=10, classifier__min_samples_split=20;, score=0.713 total time=   0.5s\n",
            "[CV 3/5] END classifier__criterion=entropy, classifier__max_depth=12, classifier__min_samples_leaf=10, classifier__min_samples_split=20;, score=0.830 total time=   0.5s\n",
            "[CV 4/5] END classifier__criterion=entropy, classifier__max_depth=12, classifier__min_samples_leaf=10, classifier__min_samples_split=20;, score=0.139 total time=   0.4s\n",
            "[CV 5/5] END classifier__criterion=entropy, classifier__max_depth=12, classifier__min_samples_leaf=10, classifier__min_samples_split=20;, score=0.142 total time=   0.5s\n",
            "[CV 1/5] END classifier__criterion=gini, classifier__max_depth=6, classifier__min_samples_leaf=1, classifier__min_samples_split=2;, score=0.888 total time=   0.4s\n",
            "[CV 2/5] END classifier__criterion=gini, classifier__max_depth=6, classifier__min_samples_leaf=1, classifier__min_samples_split=2;, score=0.375 total time=   0.4s\n",
            "[CV 3/5] END classifier__criterion=gini, classifier__max_depth=6, classifier__min_samples_leaf=1, classifier__min_samples_split=2;, score=0.714 total time=   0.4s\n",
            "[CV 4/5] END classifier__criterion=gini, classifier__max_depth=6, classifier__min_samples_leaf=1, classifier__min_samples_split=2;, score=0.201 total time=   0.4s\n",
            "[CV 5/5] END classifier__criterion=gini, classifier__max_depth=6, classifier__min_samples_leaf=1, classifier__min_samples_split=2;, score=0.142 total time=   0.4s\n",
            "[CV 1/5] END classifier__criterion=gini, classifier__max_depth=6, classifier__min_samples_leaf=1, classifier__min_samples_split=10;, score=0.888 total time=   0.4s\n",
            "[CV 2/5] END classifier__criterion=gini, classifier__max_depth=6, classifier__min_samples_leaf=1, classifier__min_samples_split=10;, score=0.375 total time=   0.4s\n",
            "[CV 3/5] END classifier__criterion=gini, classifier__max_depth=6, classifier__min_samples_leaf=1, classifier__min_samples_split=10;, score=0.714 total time=   0.4s\n",
            "[CV 4/5] END classifier__criterion=gini, classifier__max_depth=6, classifier__min_samples_leaf=1, classifier__min_samples_split=10;, score=0.201 total time=   0.4s\n",
            "[CV 5/5] END classifier__criterion=gini, classifier__max_depth=6, classifier__min_samples_leaf=1, classifier__min_samples_split=10;, score=0.142 total time=   0.4s\n",
            "[CV 1/5] END classifier__criterion=gini, classifier__max_depth=6, classifier__min_samples_leaf=1, classifier__min_samples_split=20;, score=0.888 total time=   0.4s\n",
            "[CV 2/5] END classifier__criterion=gini, classifier__max_depth=6, classifier__min_samples_leaf=1, classifier__min_samples_split=20;, score=0.375 total time=   0.4s\n",
            "[CV 3/5] END classifier__criterion=gini, classifier__max_depth=6, classifier__min_samples_leaf=1, classifier__min_samples_split=20;, score=0.714 total time=   0.4s\n",
            "[CV 4/5] END classifier__criterion=gini, classifier__max_depth=6, classifier__min_samples_leaf=1, classifier__min_samples_split=20;, score=0.201 total time=   0.4s\n",
            "[CV 5/5] END classifier__criterion=gini, classifier__max_depth=6, classifier__min_samples_leaf=1, classifier__min_samples_split=20;, score=0.142 total time=   0.4s\n",
            "[CV 1/5] END classifier__criterion=gini, classifier__max_depth=6, classifier__min_samples_leaf=5, classifier__min_samples_split=2;, score=0.888 total time=   0.4s\n",
            "[CV 2/5] END classifier__criterion=gini, classifier__max_depth=6, classifier__min_samples_leaf=5, classifier__min_samples_split=2;, score=0.375 total time=   0.4s\n",
            "[CV 3/5] END classifier__criterion=gini, classifier__max_depth=6, classifier__min_samples_leaf=5, classifier__min_samples_split=2;, score=0.714 total time=   0.4s\n",
            "[CV 4/5] END classifier__criterion=gini, classifier__max_depth=6, classifier__min_samples_leaf=5, classifier__min_samples_split=2;, score=0.200 total time=   0.4s\n",
            "[CV 5/5] END classifier__criterion=gini, classifier__max_depth=6, classifier__min_samples_leaf=5, classifier__min_samples_split=2;, score=0.142 total time=   0.4s\n",
            "[CV 1/5] END classifier__criterion=gini, classifier__max_depth=6, classifier__min_samples_leaf=5, classifier__min_samples_split=10;, score=0.888 total time=   0.4s\n",
            "[CV 2/5] END classifier__criterion=gini, classifier__max_depth=6, classifier__min_samples_leaf=5, classifier__min_samples_split=10;, score=0.375 total time=   0.4s\n",
            "[CV 3/5] END classifier__criterion=gini, classifier__max_depth=6, classifier__min_samples_leaf=5, classifier__min_samples_split=10;, score=0.714 total time=   0.4s\n",
            "[CV 4/5] END classifier__criterion=gini, classifier__max_depth=6, classifier__min_samples_leaf=5, classifier__min_samples_split=10;, score=0.200 total time=   0.4s\n",
            "[CV 5/5] END classifier__criterion=gini, classifier__max_depth=6, classifier__min_samples_leaf=5, classifier__min_samples_split=10;, score=0.142 total time=   0.4s\n",
            "[CV 1/5] END classifier__criterion=gini, classifier__max_depth=6, classifier__min_samples_leaf=5, classifier__min_samples_split=20;, score=0.888 total time=   0.4s\n",
            "[CV 2/5] END classifier__criterion=gini, classifier__max_depth=6, classifier__min_samples_leaf=5, classifier__min_samples_split=20;, score=0.375 total time=   0.4s\n",
            "[CV 3/5] END classifier__criterion=gini, classifier__max_depth=6, classifier__min_samples_leaf=5, classifier__min_samples_split=20;, score=0.714 total time=   0.4s\n",
            "[CV 4/5] END classifier__criterion=gini, classifier__max_depth=6, classifier__min_samples_leaf=5, classifier__min_samples_split=20;, score=0.200 total time=   0.4s\n",
            "[CV 5/5] END classifier__criterion=gini, classifier__max_depth=6, classifier__min_samples_leaf=5, classifier__min_samples_split=20;, score=0.142 total time=   0.4s\n",
            "[CV 1/5] END classifier__criterion=gini, classifier__max_depth=6, classifier__min_samples_leaf=10, classifier__min_samples_split=2;, score=0.888 total time=   0.4s\n",
            "[CV 2/5] END classifier__criterion=gini, classifier__max_depth=6, classifier__min_samples_leaf=10, classifier__min_samples_split=2;, score=0.375 total time=   0.4s\n",
            "[CV 3/5] END classifier__criterion=gini, classifier__max_depth=6, classifier__min_samples_leaf=10, classifier__min_samples_split=2;, score=0.840 total time=   0.4s\n",
            "[CV 4/5] END classifier__criterion=gini, classifier__max_depth=6, classifier__min_samples_leaf=10, classifier__min_samples_split=2;, score=0.203 total time=   0.4s\n",
            "[CV 5/5] END classifier__criterion=gini, classifier__max_depth=6, classifier__min_samples_leaf=10, classifier__min_samples_split=2;, score=0.142 total time=   0.4s\n",
            "[CV 1/5] END classifier__criterion=gini, classifier__max_depth=6, classifier__min_samples_leaf=10, classifier__min_samples_split=10;, score=0.888 total time=   0.4s\n",
            "[CV 2/5] END classifier__criterion=gini, classifier__max_depth=6, classifier__min_samples_leaf=10, classifier__min_samples_split=10;, score=0.375 total time=   0.4s\n",
            "[CV 3/5] END classifier__criterion=gini, classifier__max_depth=6, classifier__min_samples_leaf=10, classifier__min_samples_split=10;, score=0.840 total time=   0.4s\n",
            "[CV 4/5] END classifier__criterion=gini, classifier__max_depth=6, classifier__min_samples_leaf=10, classifier__min_samples_split=10;, score=0.203 total time=   0.4s\n",
            "[CV 5/5] END classifier__criterion=gini, classifier__max_depth=6, classifier__min_samples_leaf=10, classifier__min_samples_split=10;, score=0.142 total time=   0.4s\n",
            "[CV 1/5] END classifier__criterion=gini, classifier__max_depth=6, classifier__min_samples_leaf=10, classifier__min_samples_split=20;, score=0.888 total time=   0.4s\n",
            "[CV 2/5] END classifier__criterion=gini, classifier__max_depth=6, classifier__min_samples_leaf=10, classifier__min_samples_split=20;, score=0.375 total time=   0.4s\n",
            "[CV 3/5] END classifier__criterion=gini, classifier__max_depth=6, classifier__min_samples_leaf=10, classifier__min_samples_split=20;, score=0.840 total time=   0.4s\n",
            "[CV 4/5] END classifier__criterion=gini, classifier__max_depth=6, classifier__min_samples_leaf=10, classifier__min_samples_split=20;, score=0.203 total time=   0.4s\n",
            "[CV 5/5] END classifier__criterion=gini, classifier__max_depth=6, classifier__min_samples_leaf=10, classifier__min_samples_split=20;, score=0.142 total time=   0.4s\n",
            "[CV 1/5] END classifier__criterion=gini, classifier__max_depth=8, classifier__min_samples_leaf=1, classifier__min_samples_split=2;, score=0.888 total time=   0.5s\n",
            "[CV 2/5] END classifier__criterion=gini, classifier__max_depth=8, classifier__min_samples_leaf=1, classifier__min_samples_split=2;, score=0.370 total time=   0.5s\n",
            "[CV 3/5] END classifier__criterion=gini, classifier__max_depth=8, classifier__min_samples_leaf=1, classifier__min_samples_split=2;, score=0.722 total time=   0.5s\n",
            "[CV 4/5] END classifier__criterion=gini, classifier__max_depth=8, classifier__min_samples_leaf=1, classifier__min_samples_split=2;, score=0.201 total time=   0.5s\n",
            "[CV 5/5] END classifier__criterion=gini, classifier__max_depth=8, classifier__min_samples_leaf=1, classifier__min_samples_split=2;, score=0.143 total time=   0.5s\n",
            "[CV 1/5] END classifier__criterion=gini, classifier__max_depth=8, classifier__min_samples_leaf=1, classifier__min_samples_split=10;, score=0.888 total time=   0.5s\n",
            "[CV 2/5] END classifier__criterion=gini, classifier__max_depth=8, classifier__min_samples_leaf=1, classifier__min_samples_split=10;, score=0.370 total time=   0.5s\n",
            "[CV 3/5] END classifier__criterion=gini, classifier__max_depth=8, classifier__min_samples_leaf=1, classifier__min_samples_split=10;, score=0.722 total time=   0.5s\n",
            "[CV 4/5] END classifier__criterion=gini, classifier__max_depth=8, classifier__min_samples_leaf=1, classifier__min_samples_split=10;, score=0.201 total time=   0.5s\n",
            "[CV 5/5] END classifier__criterion=gini, classifier__max_depth=8, classifier__min_samples_leaf=1, classifier__min_samples_split=10;, score=0.143 total time=   0.5s\n",
            "[CV 1/5] END classifier__criterion=gini, classifier__max_depth=8, classifier__min_samples_leaf=1, classifier__min_samples_split=20;, score=0.888 total time=   0.5s\n",
            "[CV 2/5] END classifier__criterion=gini, classifier__max_depth=8, classifier__min_samples_leaf=1, classifier__min_samples_split=20;, score=0.370 total time=   0.4s\n",
            "[CV 3/5] END classifier__criterion=gini, classifier__max_depth=8, classifier__min_samples_leaf=1, classifier__min_samples_split=20;, score=0.723 total time=   0.5s\n",
            "[CV 4/5] END classifier__criterion=gini, classifier__max_depth=8, classifier__min_samples_leaf=1, classifier__min_samples_split=20;, score=0.200 total time=   0.5s\n",
            "[CV 5/5] END classifier__criterion=gini, classifier__max_depth=8, classifier__min_samples_leaf=1, classifier__min_samples_split=20;, score=0.142 total time=   0.5s\n",
            "[CV 1/5] END classifier__criterion=gini, classifier__max_depth=8, classifier__min_samples_leaf=5, classifier__min_samples_split=2;, score=0.888 total time=   1.1s\n",
            "[CV 2/5] END classifier__criterion=gini, classifier__max_depth=8, classifier__min_samples_leaf=5, classifier__min_samples_split=2;, score=0.369 total time=   0.5s\n",
            "[CV 3/5] END classifier__criterion=gini, classifier__max_depth=8, classifier__min_samples_leaf=5, classifier__min_samples_split=2;, score=0.723 total time=   0.5s\n",
            "[CV 4/5] END classifier__criterion=gini, classifier__max_depth=8, classifier__min_samples_leaf=5, classifier__min_samples_split=2;, score=0.200 total time=   0.5s\n",
            "[CV 5/5] END classifier__criterion=gini, classifier__max_depth=8, classifier__min_samples_leaf=5, classifier__min_samples_split=2;, score=0.143 total time=   0.5s\n",
            "[CV 1/5] END classifier__criterion=gini, classifier__max_depth=8, classifier__min_samples_leaf=5, classifier__min_samples_split=10;, score=0.888 total time=   0.4s\n",
            "[CV 2/5] END classifier__criterion=gini, classifier__max_depth=8, classifier__min_samples_leaf=5, classifier__min_samples_split=10;, score=0.369 total time=   0.5s\n",
            "[CV 3/5] END classifier__criterion=gini, classifier__max_depth=8, classifier__min_samples_leaf=5, classifier__min_samples_split=10;, score=0.723 total time=   0.5s\n",
            "[CV 4/5] END classifier__criterion=gini, classifier__max_depth=8, classifier__min_samples_leaf=5, classifier__min_samples_split=10;, score=0.200 total time=   0.5s\n",
            "[CV 5/5] END classifier__criterion=gini, classifier__max_depth=8, classifier__min_samples_leaf=5, classifier__min_samples_split=10;, score=0.143 total time=   0.4s\n",
            "[CV 1/5] END classifier__criterion=gini, classifier__max_depth=8, classifier__min_samples_leaf=5, classifier__min_samples_split=20;, score=0.888 total time=   0.4s\n",
            "[CV 2/5] END classifier__criterion=gini, classifier__max_depth=8, classifier__min_samples_leaf=5, classifier__min_samples_split=20;, score=0.370 total time=   0.5s\n",
            "[CV 3/5] END classifier__criterion=gini, classifier__max_depth=8, classifier__min_samples_leaf=5, classifier__min_samples_split=20;, score=0.723 total time=   0.5s\n",
            "[CV 4/5] END classifier__criterion=gini, classifier__max_depth=8, classifier__min_samples_leaf=5, classifier__min_samples_split=20;, score=0.200 total time=   0.5s\n",
            "[CV 5/5] END classifier__criterion=gini, classifier__max_depth=8, classifier__min_samples_leaf=5, classifier__min_samples_split=20;, score=0.142 total time=   0.4s\n",
            "[CV 1/5] END classifier__criterion=gini, classifier__max_depth=8, classifier__min_samples_leaf=10, classifier__min_samples_split=2;, score=0.888 total time=   0.5s\n",
            "[CV 2/5] END classifier__criterion=gini, classifier__max_depth=8, classifier__min_samples_leaf=10, classifier__min_samples_split=2;, score=0.370 total time=   0.5s\n",
            "[CV 3/5] END classifier__criterion=gini, classifier__max_depth=8, classifier__min_samples_leaf=10, classifier__min_samples_split=2;, score=0.835 total time=   0.5s\n",
            "[CV 4/5] END classifier__criterion=gini, classifier__max_depth=8, classifier__min_samples_leaf=10, classifier__min_samples_split=2;, score=0.202 total time=   0.4s\n",
            "[CV 5/5] END classifier__criterion=gini, classifier__max_depth=8, classifier__min_samples_leaf=10, classifier__min_samples_split=2;, score=0.142 total time=   0.4s\n",
            "[CV 1/5] END classifier__criterion=gini, classifier__max_depth=8, classifier__min_samples_leaf=10, classifier__min_samples_split=10;, score=0.888 total time=   0.5s\n",
            "[CV 2/5] END classifier__criterion=gini, classifier__max_depth=8, classifier__min_samples_leaf=10, classifier__min_samples_split=10;, score=0.370 total time=   0.5s\n",
            "[CV 3/5] END classifier__criterion=gini, classifier__max_depth=8, classifier__min_samples_leaf=10, classifier__min_samples_split=10;, score=0.835 total time=   0.5s\n",
            "[CV 4/5] END classifier__criterion=gini, classifier__max_depth=8, classifier__min_samples_leaf=10, classifier__min_samples_split=10;, score=0.202 total time=   0.5s\n",
            "[CV 5/5] END classifier__criterion=gini, classifier__max_depth=8, classifier__min_samples_leaf=10, classifier__min_samples_split=10;, score=0.142 total time=   0.5s\n",
            "[CV 1/5] END classifier__criterion=gini, classifier__max_depth=8, classifier__min_samples_leaf=10, classifier__min_samples_split=20;, score=0.888 total time=   0.5s\n",
            "[CV 2/5] END classifier__criterion=gini, classifier__max_depth=8, classifier__min_samples_leaf=10, classifier__min_samples_split=20;, score=0.370 total time=   0.5s\n",
            "[CV 3/5] END classifier__criterion=gini, classifier__max_depth=8, classifier__min_samples_leaf=10, classifier__min_samples_split=20;, score=0.835 total time=   0.5s\n",
            "[CV 4/5] END classifier__criterion=gini, classifier__max_depth=8, classifier__min_samples_leaf=10, classifier__min_samples_split=20;, score=0.202 total time=   0.5s\n",
            "[CV 5/5] END classifier__criterion=gini, classifier__max_depth=8, classifier__min_samples_leaf=10, classifier__min_samples_split=20;, score=0.142 total time=   0.4s\n",
            "[CV 1/5] END classifier__criterion=gini, classifier__max_depth=10, classifier__min_samples_leaf=1, classifier__min_samples_split=2;, score=0.888 total time=   0.5s\n",
            "[CV 2/5] END classifier__criterion=gini, classifier__max_depth=10, classifier__min_samples_leaf=1, classifier__min_samples_split=2;, score=0.369 total time=   0.5s\n",
            "[CV 3/5] END classifier__criterion=gini, classifier__max_depth=10, classifier__min_samples_leaf=1, classifier__min_samples_split=2;, score=0.716 total time=   0.5s\n",
            "[CV 4/5] END classifier__criterion=gini, classifier__max_depth=10, classifier__min_samples_leaf=1, classifier__min_samples_split=2;, score=0.200 total time=   0.5s\n",
            "[CV 5/5] END classifier__criterion=gini, classifier__max_depth=10, classifier__min_samples_leaf=1, classifier__min_samples_split=2;, score=0.142 total time=   0.5s\n",
            "[CV 1/5] END classifier__criterion=gini, classifier__max_depth=10, classifier__min_samples_leaf=1, classifier__min_samples_split=10;, score=0.888 total time=   0.5s\n",
            "[CV 2/5] END classifier__criterion=gini, classifier__max_depth=10, classifier__min_samples_leaf=1, classifier__min_samples_split=10;, score=0.367 total time=   0.5s\n",
            "[CV 3/5] END classifier__criterion=gini, classifier__max_depth=10, classifier__min_samples_leaf=1, classifier__min_samples_split=10;, score=0.717 total time=   0.5s\n",
            "[CV 4/5] END classifier__criterion=gini, classifier__max_depth=10, classifier__min_samples_leaf=1, classifier__min_samples_split=10;, score=0.200 total time=   0.5s\n",
            "[CV 5/5] END classifier__criterion=gini, classifier__max_depth=10, classifier__min_samples_leaf=1, classifier__min_samples_split=10;, score=0.142 total time=   0.5s\n",
            "[CV 1/5] END classifier__criterion=gini, classifier__max_depth=10, classifier__min_samples_leaf=1, classifier__min_samples_split=20;, score=0.888 total time=   0.5s\n",
            "[CV 2/5] END classifier__criterion=gini, classifier__max_depth=10, classifier__min_samples_leaf=1, classifier__min_samples_split=20;, score=0.367 total time=   0.5s\n",
            "[CV 3/5] END classifier__criterion=gini, classifier__max_depth=10, classifier__min_samples_leaf=1, classifier__min_samples_split=20;, score=0.716 total time=   0.5s\n",
            "[CV 4/5] END classifier__criterion=gini, classifier__max_depth=10, classifier__min_samples_leaf=1, classifier__min_samples_split=20;, score=0.199 total time=   0.5s\n",
            "[CV 5/5] END classifier__criterion=gini, classifier__max_depth=10, classifier__min_samples_leaf=1, classifier__min_samples_split=20;, score=0.142 total time=   0.5s\n",
            "[CV 1/5] END classifier__criterion=gini, classifier__max_depth=10, classifier__min_samples_leaf=5, classifier__min_samples_split=2;, score=0.888 total time=   0.5s\n",
            "[CV 2/5] END classifier__criterion=gini, classifier__max_depth=10, classifier__min_samples_leaf=5, classifier__min_samples_split=2;, score=0.369 total time=   0.5s\n",
            "[CV 3/5] END classifier__criterion=gini, classifier__max_depth=10, classifier__min_samples_leaf=5, classifier__min_samples_split=2;, score=0.722 total time=   0.5s\n",
            "[CV 4/5] END classifier__criterion=gini, classifier__max_depth=10, classifier__min_samples_leaf=5, classifier__min_samples_split=2;, score=0.201 total time=   0.5s\n",
            "[CV 5/5] END classifier__criterion=gini, classifier__max_depth=10, classifier__min_samples_leaf=5, classifier__min_samples_split=2;, score=0.143 total time=   0.5s\n",
            "[CV 1/5] END classifier__criterion=gini, classifier__max_depth=10, classifier__min_samples_leaf=5, classifier__min_samples_split=10;, score=0.888 total time=   0.5s\n",
            "[CV 2/5] END classifier__criterion=gini, classifier__max_depth=10, classifier__min_samples_leaf=5, classifier__min_samples_split=10;, score=0.369 total time=   0.5s\n",
            "[CV 3/5] END classifier__criterion=gini, classifier__max_depth=10, classifier__min_samples_leaf=5, classifier__min_samples_split=10;, score=0.723 total time=   0.5s\n",
            "[CV 4/5] END classifier__criterion=gini, classifier__max_depth=10, classifier__min_samples_leaf=5, classifier__min_samples_split=10;, score=0.201 total time=   0.5s\n",
            "[CV 5/5] END classifier__criterion=gini, classifier__max_depth=10, classifier__min_samples_leaf=5, classifier__min_samples_split=10;, score=0.143 total time=   0.5s\n",
            "[CV 1/5] END classifier__criterion=gini, classifier__max_depth=10, classifier__min_samples_leaf=5, classifier__min_samples_split=20;, score=0.888 total time=   0.5s\n",
            "[CV 2/5] END classifier__criterion=gini, classifier__max_depth=10, classifier__min_samples_leaf=5, classifier__min_samples_split=20;, score=0.371 total time=   0.5s\n",
            "[CV 3/5] END classifier__criterion=gini, classifier__max_depth=10, classifier__min_samples_leaf=5, classifier__min_samples_split=20;, score=0.717 total time=   0.5s\n",
            "[CV 4/5] END classifier__criterion=gini, classifier__max_depth=10, classifier__min_samples_leaf=5, classifier__min_samples_split=20;, score=0.200 total time=   0.5s\n",
            "[CV 5/5] END classifier__criterion=gini, classifier__max_depth=10, classifier__min_samples_leaf=5, classifier__min_samples_split=20;, score=0.142 total time=   0.5s\n",
            "[CV 1/5] END classifier__criterion=gini, classifier__max_depth=10, classifier__min_samples_leaf=10, classifier__min_samples_split=2;, score=0.888 total time=   0.5s\n",
            "[CV 2/5] END classifier__criterion=gini, classifier__max_depth=10, classifier__min_samples_leaf=10, classifier__min_samples_split=2;, score=0.371 total time=   0.5s\n",
            "[CV 3/5] END classifier__criterion=gini, classifier__max_depth=10, classifier__min_samples_leaf=10, classifier__min_samples_split=2;, score=0.824 total time=   0.5s\n",
            "[CV 4/5] END classifier__criterion=gini, classifier__max_depth=10, classifier__min_samples_leaf=10, classifier__min_samples_split=2;, score=0.202 total time=   0.5s\n",
            "[CV 5/5] END classifier__criterion=gini, classifier__max_depth=10, classifier__min_samples_leaf=10, classifier__min_samples_split=2;, score=0.142 total time=   0.5s\n",
            "[CV 1/5] END classifier__criterion=gini, classifier__max_depth=10, classifier__min_samples_leaf=10, classifier__min_samples_split=10;, score=0.888 total time=   0.5s\n",
            "[CV 2/5] END classifier__criterion=gini, classifier__max_depth=10, classifier__min_samples_leaf=10, classifier__min_samples_split=10;, score=0.371 total time=   0.5s\n",
            "[CV 3/5] END classifier__criterion=gini, classifier__max_depth=10, classifier__min_samples_leaf=10, classifier__min_samples_split=10;, score=0.824 total time=   0.5s\n",
            "[CV 4/5] END classifier__criterion=gini, classifier__max_depth=10, classifier__min_samples_leaf=10, classifier__min_samples_split=10;, score=0.202 total time=   0.5s\n",
            "[CV 5/5] END classifier__criterion=gini, classifier__max_depth=10, classifier__min_samples_leaf=10, classifier__min_samples_split=10;, score=0.142 total time=   0.5s\n",
            "[CV 1/5] END classifier__criterion=gini, classifier__max_depth=10, classifier__min_samples_leaf=10, classifier__min_samples_split=20;, score=0.888 total time=   0.5s\n",
            "[CV 2/5] END classifier__criterion=gini, classifier__max_depth=10, classifier__min_samples_leaf=10, classifier__min_samples_split=20;, score=0.371 total time=   0.5s\n",
            "[CV 3/5] END classifier__criterion=gini, classifier__max_depth=10, classifier__min_samples_leaf=10, classifier__min_samples_split=20;, score=0.824 total time=   0.5s\n",
            "[CV 4/5] END classifier__criterion=gini, classifier__max_depth=10, classifier__min_samples_leaf=10, classifier__min_samples_split=20;, score=0.202 total time=   0.5s\n",
            "[CV 5/5] END classifier__criterion=gini, classifier__max_depth=10, classifier__min_samples_leaf=10, classifier__min_samples_split=20;, score=0.142 total time=   0.5s\n",
            "[CV 1/5] END classifier__criterion=gini, classifier__max_depth=12, classifier__min_samples_leaf=1, classifier__min_samples_split=2;, score=0.888 total time=   0.5s\n",
            "[CV 2/5] END classifier__criterion=gini, classifier__max_depth=12, classifier__min_samples_leaf=1, classifier__min_samples_split=2;, score=0.366 total time=   0.5s\n",
            "[CV 3/5] END classifier__criterion=gini, classifier__max_depth=12, classifier__min_samples_leaf=1, classifier__min_samples_split=2;, score=0.618 total time=   0.5s\n",
            "[CV 4/5] END classifier__criterion=gini, classifier__max_depth=12, classifier__min_samples_leaf=1, classifier__min_samples_split=2;, score=0.200 total time=   0.5s\n",
            "[CV 5/5] END classifier__criterion=gini, classifier__max_depth=12, classifier__min_samples_leaf=1, classifier__min_samples_split=2;, score=0.141 total time=   0.5s\n",
            "[CV 1/5] END classifier__criterion=gini, classifier__max_depth=12, classifier__min_samples_leaf=1, classifier__min_samples_split=10;, score=0.888 total time=   0.5s\n",
            "[CV 2/5] END classifier__criterion=gini, classifier__max_depth=12, classifier__min_samples_leaf=1, classifier__min_samples_split=10;, score=0.364 total time=   0.5s\n",
            "[CV 3/5] END classifier__criterion=gini, classifier__max_depth=12, classifier__min_samples_leaf=1, classifier__min_samples_split=10;, score=0.620 total time=   0.5s\n",
            "[CV 4/5] END classifier__criterion=gini, classifier__max_depth=12, classifier__min_samples_leaf=1, classifier__min_samples_split=10;, score=0.199 total time=   0.5s\n",
            "[CV 5/5] END classifier__criterion=gini, classifier__max_depth=12, classifier__min_samples_leaf=1, classifier__min_samples_split=10;, score=0.142 total time=   0.5s\n",
            "[CV 1/5] END classifier__criterion=gini, classifier__max_depth=12, classifier__min_samples_leaf=1, classifier__min_samples_split=20;, score=0.888 total time=   0.5s\n",
            "[CV 2/5] END classifier__criterion=gini, classifier__max_depth=12, classifier__min_samples_leaf=1, classifier__min_samples_split=20;, score=0.366 total time=   0.5s\n",
            "[CV 3/5] END classifier__criterion=gini, classifier__max_depth=12, classifier__min_samples_leaf=1, classifier__min_samples_split=20;, score=0.624 total time=   0.5s\n",
            "[CV 4/5] END classifier__criterion=gini, classifier__max_depth=12, classifier__min_samples_leaf=1, classifier__min_samples_split=20;, score=0.199 total time=   0.5s\n",
            "[CV 5/5] END classifier__criterion=gini, classifier__max_depth=12, classifier__min_samples_leaf=1, classifier__min_samples_split=20;, score=0.142 total time=   0.5s\n",
            "[CV 1/5] END classifier__criterion=gini, classifier__max_depth=12, classifier__min_samples_leaf=5, classifier__min_samples_split=2;, score=0.888 total time=   0.6s\n",
            "[CV 2/5] END classifier__criterion=gini, classifier__max_depth=12, classifier__min_samples_leaf=5, classifier__min_samples_split=2;, score=0.368 total time=   0.5s\n",
            "[CV 3/5] END classifier__criterion=gini, classifier__max_depth=12, classifier__min_samples_leaf=5, classifier__min_samples_split=2;, score=0.713 total time=   0.5s\n",
            "[CV 4/5] END classifier__criterion=gini, classifier__max_depth=12, classifier__min_samples_leaf=5, classifier__min_samples_split=2;, score=0.200 total time=   0.5s\n",
            "[CV 5/5] END classifier__criterion=gini, classifier__max_depth=12, classifier__min_samples_leaf=5, classifier__min_samples_split=2;, score=0.143 total time=   0.5s\n",
            "[CV 1/5] END classifier__criterion=gini, classifier__max_depth=12, classifier__min_samples_leaf=5, classifier__min_samples_split=10;, score=0.888 total time=   0.5s\n",
            "[CV 2/5] END classifier__criterion=gini, classifier__max_depth=12, classifier__min_samples_leaf=5, classifier__min_samples_split=10;, score=0.369 total time=   0.5s\n",
            "[CV 3/5] END classifier__criterion=gini, classifier__max_depth=12, classifier__min_samples_leaf=5, classifier__min_samples_split=10;, score=0.713 total time=   0.5s\n",
            "[CV 4/5] END classifier__criterion=gini, classifier__max_depth=12, classifier__min_samples_leaf=5, classifier__min_samples_split=10;, score=0.200 total time=   0.5s\n",
            "[CV 5/5] END classifier__criterion=gini, classifier__max_depth=12, classifier__min_samples_leaf=5, classifier__min_samples_split=10;, score=0.143 total time=   0.5s\n",
            "[CV 1/5] END classifier__criterion=gini, classifier__max_depth=12, classifier__min_samples_leaf=5, classifier__min_samples_split=20;, score=0.888 total time=   0.6s\n",
            "[CV 2/5] END classifier__criterion=gini, classifier__max_depth=12, classifier__min_samples_leaf=5, classifier__min_samples_split=20;, score=0.371 total time=   1.0s\n",
            "[CV 3/5] END classifier__criterion=gini, classifier__max_depth=12, classifier__min_samples_leaf=5, classifier__min_samples_split=20;, score=0.711 total time=   1.1s\n",
            "[CV 4/5] END classifier__criterion=gini, classifier__max_depth=12, classifier__min_samples_leaf=5, classifier__min_samples_split=20;, score=0.200 total time=   0.5s\n",
            "[CV 5/5] END classifier__criterion=gini, classifier__max_depth=12, classifier__min_samples_leaf=5, classifier__min_samples_split=20;, score=0.142 total time=   0.5s\n",
            "[CV 1/5] END classifier__criterion=gini, classifier__max_depth=12, classifier__min_samples_leaf=10, classifier__min_samples_split=2;, score=0.888 total time=   0.5s\n",
            "[CV 2/5] END classifier__criterion=gini, classifier__max_depth=12, classifier__min_samples_leaf=10, classifier__min_samples_split=2;, score=0.369 total time=   0.5s\n",
            "[CV 3/5] END classifier__criterion=gini, classifier__max_depth=12, classifier__min_samples_leaf=10, classifier__min_samples_split=2;, score=0.822 total time=   0.5s\n",
            "[CV 4/5] END classifier__criterion=gini, classifier__max_depth=12, classifier__min_samples_leaf=10, classifier__min_samples_split=2;, score=0.202 total time=   0.5s\n",
            "[CV 5/5] END classifier__criterion=gini, classifier__max_depth=12, classifier__min_samples_leaf=10, classifier__min_samples_split=2;, score=0.142 total time=   0.5s\n",
            "[CV 1/5] END classifier__criterion=gini, classifier__max_depth=12, classifier__min_samples_leaf=10, classifier__min_samples_split=10;, score=0.888 total time=   0.5s\n",
            "[CV 2/5] END classifier__criterion=gini, classifier__max_depth=12, classifier__min_samples_leaf=10, classifier__min_samples_split=10;, score=0.369 total time=   0.5s\n",
            "[CV 3/5] END classifier__criterion=gini, classifier__max_depth=12, classifier__min_samples_leaf=10, classifier__min_samples_split=10;, score=0.822 total time=   0.5s\n",
            "[CV 4/5] END classifier__criterion=gini, classifier__max_depth=12, classifier__min_samples_leaf=10, classifier__min_samples_split=10;, score=0.202 total time=   0.5s\n",
            "[CV 5/5] END classifier__criterion=gini, classifier__max_depth=12, classifier__min_samples_leaf=10, classifier__min_samples_split=10;, score=0.142 total time=   0.5s\n",
            "[CV 1/5] END classifier__criterion=gini, classifier__max_depth=12, classifier__min_samples_leaf=10, classifier__min_samples_split=20;, score=0.888 total time=   0.5s\n",
            "[CV 2/5] END classifier__criterion=gini, classifier__max_depth=12, classifier__min_samples_leaf=10, classifier__min_samples_split=20;, score=0.369 total time=   0.5s\n",
            "[CV 3/5] END classifier__criterion=gini, classifier__max_depth=12, classifier__min_samples_leaf=10, classifier__min_samples_split=20;, score=0.822 total time=   0.5s\n",
            "[CV 4/5] END classifier__criterion=gini, classifier__max_depth=12, classifier__min_samples_leaf=10, classifier__min_samples_split=20;, score=0.202 total time=   0.5s\n",
            "[CV 5/5] END classifier__criterion=gini, classifier__max_depth=12, classifier__min_samples_leaf=10, classifier__min_samples_split=20;, score=0.142 total time=   0.5s\n",
            "CPU times: user 2min 49s, sys: 4.05 s, total: 2min 53s\n",
            "Wall time: 3min 1s\n"
          ]
        }
      ],
      "source": [
        "%%time\n",
        "clf_dt = Pipeline(steps=[('preprocessor', preprocessor),\n",
        "                      ('classifier', DecisionTreeClassifier())])\n",
        "\n",
        "dt_param_grid = {'classifier__criterion': ['entropy', 'gini'], 'classifier__max_depth': [6,8,10,12], \n",
        "                 \"classifier__min_samples_split\": [2, 10, 20],\"classifier__min_samples_leaf\": [1, 5, 10]}\n",
        "\n",
        "dt_grid = GridSearchCV(clf_dt, param_grid=dt_param_grid, cv=5,verbose=3)\n",
        "\n",
        "dt_grid.fit(X_train,y_train)"
      ]
    },
    {
      "cell_type": "code",
      "execution_count": null,
      "metadata": {
        "colab": {
          "base_uri": "https://localhost:8080/"
        },
        "id": "SIxje-Am7onP",
        "nbgrader": {
          "grade": false,
          "grade_id": "ml_71",
          "locked": true,
          "schema_version": 3,
          "solution": false,
          "task": false
        },
        "outputId": "6930af6a-1f27-4bb2-d8cd-f7b1584b1adf"
      },
      "outputs": [
        {
          "data": {
            "text/plain": [
              "{'classifier__criterion': 'entropy',\n",
              " 'classifier__max_depth': 6,\n",
              " 'classifier__min_samples_leaf': 1,\n",
              " 'classifier__min_samples_split': 10}"
            ]
          },
          "execution_count": 50,
          "metadata": {},
          "output_type": "execute_result"
        }
      ],
      "source": [
        "dt_grid.best_params_"
      ]
    },
    {
      "cell_type": "code",
      "execution_count": null,
      "metadata": {
        "colab": {
          "base_uri": "https://localhost:8080/"
        },
        "id": "yr7HYuee7onP",
        "nbgrader": {
          "grade": false,
          "grade_id": "ml_72",
          "locked": true,
          "schema_version": 3,
          "solution": false,
          "task": false
        },
        "outputId": "c55f6ab4-c7d2-47d7-b9eb-3b993fce163f"
      },
      "outputs": [
        {
          "name": "stdout",
          "output_type": "stream",
          "text": [
            "0.9180586578615131\n",
            "0.9210973537266327\n"
          ]
        }
      ],
      "source": [
        "train_pred = dt_grid.predict(X_train)\n",
        "test_pred = dt_grid.predict(X_test)\n",
        "\n",
        "print(dt_grid.score(X_train, y_train))\n",
        "print(dt_grid.score(X_test, y_test))"
      ]
    },
    {
      "cell_type": "code",
      "execution_count": null,
      "metadata": {
        "colab": {
          "base_uri": "https://localhost:8080/"
        },
        "id": "X9TOlQHa7onP",
        "nbgrader": {
          "grade": false,
          "grade_id": "ml_73",
          "locked": true,
          "schema_version": 3,
          "solution": false,
          "task": false
        },
        "outputId": "8e3222db-c96d-4300-c883-9fd29d094138"
      },
      "outputs": [
        {
          "name": "stdout",
          "output_type": "stream",
          "text": [
            "              precision    recall  f1-score   support\n",
            "\n",
            "          no       0.94      0.97      0.96      3657\n",
            "         yes       0.71      0.50      0.59       462\n",
            "\n",
            "    accuracy                           0.92      4119\n",
            "   macro avg       0.83      0.74      0.77      4119\n",
            "weighted avg       0.91      0.92      0.91      4119\n",
            "\n"
          ]
        }
      ],
      "source": [
        "print(classification_report(y_true=y_test, y_pred =  test_pred))"
      ]
    },
    {
      "cell_type": "code",
      "execution_count": null,
      "metadata": {
        "colab": {
          "base_uri": "https://localhost:8080/"
        },
        "id": "neFs8SqX7onP",
        "nbgrader": {
          "grade": false,
          "grade_id": "ml_74",
          "locked": true,
          "schema_version": 3,
          "solution": false,
          "task": false
        },
        "outputId": "9fdd3148-ce6d-4fb9-cc5b-2980718afcac"
      },
      "outputs": [
        {
          "name": "stdout",
          "output_type": "stream",
          "text": [
            "Test Precision:  0.7120743034055728\n",
            "Test Recall:  0.49783549783549785\n",
            "Test Accuracy:  0.9210973537266327\n"
          ]
        }
      ],
      "source": [
        "# Using the function to calculate accuracy, precision and recall.\n",
        "accuracy_precision_recall_metrics(y_true = y_test, y_pred = test_pred)"
      ]
    },
    {
      "cell_type": "markdown",
      "metadata": {
        "id": "Ko6l7rYo7onP",
        "nbgrader": {
          "grade": false,
          "grade_id": "ml_75",
          "locked": true,
          "schema_version": 3,
          "solution": false,
          "task": false
        }
      },
      "source": [
        "###  _Build Random Forest Model - 3_ (Using Stratified KFold)\n",
        "\n",
        "__Stratified K-Folds cross-validator__\n",
        "\n",
        "This cross-validation object is a **variation** of KFold that returns stratified folds. The folds are made by **preserving the percentage of samples for each class**."
      ]
    },
    {
      "cell_type": "code",
      "execution_count": null,
      "metadata": {
        "id": "yzjZsoRu7onP",
        "nbgrader": {
          "grade": false,
          "grade_id": "ml_76",
          "locked": true,
          "schema_version": 3,
          "solution": false,
          "task": false
        }
      },
      "outputs": [],
      "source": [
        "clf = Pipeline(steps=[('preprocessor', preprocessor),\n",
        "                      ('classifier', RandomForestClassifier())])"
      ]
    },
    {
      "cell_type": "code",
      "execution_count": null,
      "metadata": {
        "id": "9EihdiVY7onP",
        "nbgrader": {
          "grade": false,
          "grade_id": "ml_77",
          "locked": true,
          "schema_version": 3,
          "solution": false,
          "task": false
        }
      },
      "outputs": [],
      "source": [
        "kfold = StratifiedKFold(n_splits=5, shuffle=True, random_state=143)\n",
        "\n",
        "param_grid = {\"classifier__n_estimators\" : [150, 250, 300],\n",
        "              \"classifier__max_depth\" : [5,8,10],\n",
        "              \"classifier__max_features\" : [3, 5, 7],\n",
        "              \"classifier__min_samples_leaf\" : [4, 6, 8, 10]}\n",
        "\n",
        "rf_grid = GridSearchCV(clf, param_grid= param_grid, cv=kfold,verbose=1,n_jobs=6)"
      ]
    },
    {
      "cell_type": "code",
      "execution_count": null,
      "metadata": {
        "colab": {
          "base_uri": "https://localhost:8080/"
        },
        "id": "9V4HZqI27onP",
        "nbgrader": {
          "grade": false,
          "grade_id": "ml_78",
          "locked": true,
          "schema_version": 3,
          "solution": false,
          "task": false
        },
        "outputId": "d0cd7e75-fc58-4b5e-8027-9b124020a1b9"
      },
      "outputs": [
        {
          "data": {
            "text/plain": [
              "GridSearchCV(cv=StratifiedKFold(n_splits=5, random_state=143, shuffle=True),\n",
              "             estimator=Pipeline(steps=[('preprocessor',\n",
              "                                        ColumnTransformer(transformers=[('num',\n",
              "                                                                         Pipeline(steps=[('imputer',\n",
              "                                                                                          SimpleImputer(strategy='median')),\n",
              "                                                                                         ('scaler',\n",
              "                                                                                          StandardScaler())]),\n",
              "                                                                         ['age',\n",
              "                                                                          'campaign',\n",
              "                                                                          'cons_conf_idx',\n",
              "                                                                          'cons_price_idx',\n",
              "                                                                          'duration',\n",
              "                                                                          'emp_var_rate',\n",
              "                                                                          'euribor3m',\n",
              "                                                                          'nr_employed',\n",
              "                                                                          '...\n",
              "                                                                                          OneHotEncoder(handle_unknown='ignore'))]),\n",
              "                                                                         ['job',\n",
              "                                                                          'marital',\n",
              "                                                                          'education',\n",
              "                                                                          'credit_default',\n",
              "                                                                          'housing',\n",
              "                                                                          'loan',\n",
              "                                                                          'contact',\n",
              "                                                                          'contacted_month',\n",
              "                                                                          'day_of_week',\n",
              "                                                                          'poutcome'])])),\n",
              "                                       ('classifier',\n",
              "                                        RandomForestClassifier())]),\n",
              "             n_jobs=6,\n",
              "             param_grid={'classifier__max_depth': [5, 8, 10],\n",
              "                         'classifier__max_features': [3, 5, 7],\n",
              "                         'classifier__min_samples_leaf': [4, 6, 8, 10],\n",
              "                         'classifier__n_estimators': [150, 250, 300]},\n",
              "             verbose=1)"
            ]
          },
          "execution_count": 56,
          "metadata": {},
          "output_type": "execute_result"
        }
      ],
      "source": [
        "rf_grid"
      ]
    },
    {
      "cell_type": "code",
      "execution_count": null,
      "metadata": {
        "colab": {
          "base_uri": "https://localhost:8080/"
        },
        "id": "e14YKzyO7onP",
        "nbgrader": {
          "grade": false,
          "grade_id": "ml_79",
          "locked": true,
          "schema_version": 3,
          "solution": false,
          "task": false
        },
        "outputId": "4d7cfc6c-6c35-476d-a034-cca8fbc18356"
      },
      "outputs": [
        {
          "name": "stdout",
          "output_type": "stream",
          "text": [
            "Fitting 5 folds for each of 108 candidates, totalling 540 fits\n",
            "CPU times: user 28.4 s, sys: 1.99 s, total: 30.4 s\n",
            "Wall time: 34min\n"
          ]
        },
        {
          "data": {
            "text/plain": [
              "GridSearchCV(cv=StratifiedKFold(n_splits=5, random_state=143, shuffle=True),\n",
              "             estimator=Pipeline(steps=[('preprocessor',\n",
              "                                        ColumnTransformer(transformers=[('num',\n",
              "                                                                         Pipeline(steps=[('imputer',\n",
              "                                                                                          SimpleImputer(strategy='median')),\n",
              "                                                                                         ('scaler',\n",
              "                                                                                          StandardScaler())]),\n",
              "                                                                         ['age',\n",
              "                                                                          'campaign',\n",
              "                                                                          'cons_conf_idx',\n",
              "                                                                          'cons_price_idx',\n",
              "                                                                          'duration',\n",
              "                                                                          'emp_var_rate',\n",
              "                                                                          'euribor3m',\n",
              "                                                                          'nr_employed',\n",
              "                                                                          '...\n",
              "                                                                                          OneHotEncoder(handle_unknown='ignore'))]),\n",
              "                                                                         ['job',\n",
              "                                                                          'marital',\n",
              "                                                                          'education',\n",
              "                                                                          'credit_default',\n",
              "                                                                          'housing',\n",
              "                                                                          'loan',\n",
              "                                                                          'contact',\n",
              "                                                                          'contacted_month',\n",
              "                                                                          'day_of_week',\n",
              "                                                                          'poutcome'])])),\n",
              "                                       ('classifier',\n",
              "                                        RandomForestClassifier())]),\n",
              "             n_jobs=6,\n",
              "             param_grid={'classifier__max_depth': [5, 8, 10],\n",
              "                         'classifier__max_features': [3, 5, 7],\n",
              "                         'classifier__min_samples_leaf': [4, 6, 8, 10],\n",
              "                         'classifier__n_estimators': [150, 250, 300]},\n",
              "             verbose=1)"
            ]
          },
          "execution_count": 57,
          "metadata": {},
          "output_type": "execute_result"
        }
      ],
      "source": [
        "%%time\n",
        "rf_grid.fit(X_train,y_train)"
      ]
    },
    {
      "cell_type": "code",
      "execution_count": null,
      "metadata": {
        "colab": {
          "base_uri": "https://localhost:8080/"
        },
        "id": "NyuYHoZ-7onP",
        "nbgrader": {
          "grade": false,
          "grade_id": "ml_80",
          "locked": true,
          "schema_version": 3,
          "solution": false,
          "task": false
        },
        "outputId": "9dd0804e-fc41-45c3-b6f3-4b7e35dc2dd8"
      },
      "outputs": [
        {
          "data": {
            "text/plain": [
              "{'classifier__max_depth': 10,\n",
              " 'classifier__max_features': 7,\n",
              " 'classifier__min_samples_leaf': 4,\n",
              " 'classifier__n_estimators': 300}"
            ]
          },
          "execution_count": 58,
          "metadata": {},
          "output_type": "execute_result"
        }
      ],
      "source": [
        "rf_grid.best_params_"
      ]
    },
    {
      "cell_type": "code",
      "execution_count": null,
      "metadata": {
        "colab": {
          "base_uri": "https://localhost:8080/"
        },
        "id": "jYrY2iix7onP",
        "nbgrader": {
          "grade": false,
          "grade_id": "ml_81",
          "locked": true,
          "schema_version": 3,
          "solution": false,
          "task": false
        },
        "outputId": "d039a15b-de92-48e5-a9f4-1f1b4b7322fc"
      },
      "outputs": [
        {
          "name": "stdout",
          "output_type": "stream",
          "text": [
            "0.9201709235699719\n",
            "0.9172129157562515\n",
            "Test Precision:  0.8201058201058201\n",
            "Test Recall:  0.3354978354978355\n",
            "Test Accuracy:  0.9172129157562515\n"
          ]
        }
      ],
      "source": [
        "train_pred = rf_grid.predict(X_train)\n",
        "test_pred = rf_grid.predict(X_test)\n",
        "\n",
        "print(rf_grid.score(X_train, y_train))\n",
        "print(rf_grid.score(X_test, y_test))\n",
        "\n",
        "# Using the function to calculate accuracy, precision and recall.\n",
        "accuracy_precision_recall_metrics(y_true = y_test, y_pred = test_pred)"
      ]
    },
    {
      "cell_type": "markdown",
      "metadata": {
        "id": "Q3REEhUT7onP",
        "nbgrader": {
          "grade": false,
          "grade_id": "ml_82",
          "locked": true,
          "schema_version": 3,
          "solution": false,
          "task": false
        }
      },
      "source": [
        "### _Build Gradient Boosting - 4_"
      ]
    },
    {
      "cell_type": "code",
      "execution_count": null,
      "metadata": {
        "id": "58Nfu3Gw7onP",
        "nbgrader": {
          "grade": false,
          "grade_id": "ml_83",
          "locked": true,
          "schema_version": 3,
          "solution": false,
          "task": false
        }
      },
      "outputs": [],
      "source": [
        "clf = Pipeline(steps=[('preprocessor', preprocessor),\n",
        "                      ('GBM',GradientBoostingClassifier())])"
      ]
    },
    {
      "cell_type": "code",
      "execution_count": null,
      "metadata": {
        "colab": {
          "base_uri": "https://localhost:8080/"
        },
        "id": "-Cy5YmX67onP",
        "nbgrader": {
          "grade": false,
          "grade_id": "ml_84",
          "locked": true,
          "schema_version": 3,
          "solution": false,
          "task": false
        },
        "outputId": "e9381f0f-0cff-4505-c498-5eb7bfb1b97b"
      },
      "outputs": [
        {
          "name": "stdout",
          "output_type": "stream",
          "text": [
            "CPU times: user 5.52 s, sys: 228 ms, total: 5.74 s\n",
            "Wall time: 3min 36s\n"
          ]
        }
      ],
      "source": [
        "%%time\n",
        "gbm_param_grid = {'GBM__max_depth': [8,10,12,14], 'GBM__subsample': [0.8, 0.6,], 'GBM__max_features':[0.2, 0.3], \n",
        "              'GBM__n_estimators': [10, 20, 30]}\n",
        "\n",
        "gbm_grid = GridSearchCV(clf, param_grid=gbm_param_grid, cv=3,n_jobs=6)\n",
        "\n",
        "gbm_grid.fit(X_train,y_train)"
      ]
    },
    {
      "cell_type": "code",
      "execution_count": null,
      "metadata": {
        "colab": {
          "base_uri": "https://localhost:8080/"
        },
        "id": "ad_7Npr87onP",
        "nbgrader": {
          "grade": false,
          "grade_id": "ml_85",
          "locked": true,
          "schema_version": 3,
          "solution": false,
          "task": false
        },
        "outputId": "6ab18c0a-cc40-4a85-9b22-3e1fb99cd3f3"
      },
      "outputs": [
        {
          "data": {
            "text/plain": [
              "{'GBM__max_depth': 14,\n",
              " 'GBM__max_features': 0.2,\n",
              " 'GBM__n_estimators': 10,\n",
              " 'GBM__subsample': 0.6}"
            ]
          },
          "execution_count": 62,
          "metadata": {},
          "output_type": "execute_result"
        }
      ],
      "source": [
        "gbm_grid.best_params_"
      ]
    },
    {
      "cell_type": "code",
      "execution_count": null,
      "metadata": {
        "colab": {
          "base_uri": "https://localhost:8080/"
        },
        "id": "Fc3_faqD7onQ",
        "nbgrader": {
          "grade": false,
          "grade_id": "ml_86",
          "locked": true,
          "schema_version": 3,
          "solution": false,
          "task": false
        },
        "outputId": "4d40c53c-2e85-4324-b908-c444aa42424e"
      },
      "outputs": [
        {
          "name": "stdout",
          "output_type": "stream",
          "text": [
            "0.9526803923472856\n",
            "0.9516873027433843\n",
            "Test Precision:  0.9925093632958801\n",
            "Test Recall:  0.5735930735930735\n",
            "Test Accuracy:  0.9516873027433843\n"
          ]
        }
      ],
      "source": [
        "train_pred = gbm_grid.predict(X_train)\n",
        "test_pred = gbm_grid.predict(X_test)\n",
        "\n",
        "print(gbm_grid.score(X_train, y_train))\n",
        "print(gbm_grid.score(X_test, y_test))\n",
        "\n",
        "# Using the function to calcula`te accuracy, precision and recall.\n",
        "accuracy_precision_recall_metrics(y_true = y_test, y_pred = test_pred)"
      ]
    },
    {
      "cell_type": "markdown",
      "metadata": {
        "id": "jiCQLfVc7onQ",
        "nbgrader": {
          "grade": false,
          "grade_id": "ml_87",
          "locked": true,
          "schema_version": 3,
          "solution": false,
          "task": false
        }
      },
      "source": [
        "### _Build SVM - 5_"
      ]
    },
    {
      "cell_type": "code",
      "execution_count": null,
      "metadata": {
        "colab": {
          "base_uri": "https://localhost:8080/"
        },
        "id": "FraE3Lbz7onQ",
        "nbgrader": {
          "grade": false,
          "grade_id": "ml_88",
          "locked": true,
          "schema_version": 3,
          "solution": false,
          "task": false
        },
        "outputId": "ef519a3c-632c-40b2-a424-55f1f1b9cd2f"
      },
      "outputs": [
        {
          "name": "stdout",
          "output_type": "stream",
          "text": [
            "CPU times: user 40.2 s, sys: 658 ms, total: 40.9 s\n",
            "Wall time: 9min 5s\n"
          ]
        }
      ],
      "source": [
        "%%time\n",
        "clf_svm = Pipeline(steps=[('preprocessor', preprocessor),\n",
        "                      ('classifier', SVC())])\n",
        "\n",
        "svm_param_grid = {'classifier__C': [50,90], 'classifier__gamma': [0.008, 0.001],\n",
        "                 \"classifier__kernel\": ['rbf']}\n",
        "\n",
        "svm_grid = GridSearchCV(clf_svm, param_grid= svm_param_grid, cv= 5,n_jobs=6)\n",
        "\n",
        "svm_grid.fit(X_train,y_train)"
      ]
    },
    {
      "cell_type": "code",
      "execution_count": null,
      "metadata": {
        "colab": {
          "base_uri": "https://localhost:8080/"
        },
        "id": "JRpYyH847onQ",
        "nbgrader": {
          "grade": false,
          "grade_id": "ml_89",
          "locked": true,
          "schema_version": 3,
          "solution": false,
          "task": false
        },
        "outputId": "e9366408-9467-4112-8fb4-d664ce6c30d8"
      },
      "outputs": [
        {
          "data": {
            "text/plain": [
              "{'classifier__C': 50, 'classifier__gamma': 0.001, 'classifier__kernel': 'rbf'}"
            ]
          },
          "execution_count": 65,
          "metadata": {},
          "output_type": "execute_result"
        }
      ],
      "source": [
        "svm_grid.best_params_"
      ]
    },
    {
      "cell_type": "code",
      "execution_count": null,
      "metadata": {
        "colab": {
          "base_uri": "https://localhost:8080/"
        },
        "id": "-wdgU8oG7onQ",
        "nbgrader": {
          "grade": false,
          "grade_id": "ml_90",
          "locked": true,
          "schema_version": 3,
          "solution": false,
          "task": false
        },
        "outputId": "3303dd9e-1333-4fd7-b071-76dd44f69f07"
      },
      "outputs": [
        {
          "name": "stdout",
          "output_type": "stream",
          "text": [
            "0.9097067106924347\n",
            "0.9082301529497451\n",
            "[[35854   694]\n",
            " [ 3025  1615]]\n"
          ]
        }
      ],
      "source": [
        "train_pred = svm_grid.predict(X_train)\n",
        "test_pred = svm_grid.predict(X_test)\n",
        "\n",
        "print(svm_grid.score(X_train, y_train))\n",
        "print(svm_grid.score(X_test, y_test))\n",
        "\n",
        "print(confusion_matrix(y_true=y_train, y_pred = train_pred))\n",
        "\n",
        "confusion_matrix_test = confusion_matrix(y_true=y_test, y_pred =  test_pred)"
      ]
    },
    {
      "cell_type": "code",
      "execution_count": null,
      "metadata": {
        "colab": {
          "base_uri": "https://localhost:8080/"
        },
        "id": "4UeH4KUT7onQ",
        "nbgrader": {
          "grade": false,
          "grade_id": "ml_91",
          "locked": true,
          "schema_version": 3,
          "solution": false,
          "task": false
        },
        "outputId": "09502aae-0712-42c9-96e8-97e13b9667ac"
      },
      "outputs": [
        {
          "name": "stdout",
          "output_type": "stream",
          "text": [
            "Test Precision:  0.6909090909090909\n",
            "Test Recall:  0.329004329004329\n",
            "Train Accuracy:  0.9082301529497451\n"
          ]
        }
      ],
      "source": [
        "Accuracy_test=(confusion_matrix_test[0,0]+confusion_matrix_test[1,1])/(confusion_matrix_test[0,0]+confusion_matrix_test[0,1]+confusion_matrix_test[1,0]+confusion_matrix_test[1,1])\n",
        "\n",
        "Precision_Test= confusion_matrix_test[1,1]/(confusion_matrix_test[1,1]+confusion_matrix_test[0,1])\n",
        "Recall_Test= confusion_matrix_test[1,1]/(confusion_matrix_test[1,0]+confusion_matrix_test[1,1])\n",
        "\n",
        "print(\"Test Precision: \",Precision_Test)\n",
        "print(\"Test Recall: \",Recall_Test)\n",
        "print(\"Train Accuracy: \",Accuracy_test)"
      ]
    },
    {
      "cell_type": "code",
      "execution_count": null,
      "metadata": {
        "id": "nhC11eBr7onQ"
      },
      "outputs": [],
      "source": [
        ""
      ]
    },
    {
      "cell_type": "markdown",
      "metadata": {
        "id": "YmlUOcv07onQ"
      },
      "source": [
        "## Class Imbalance- SMOTE"
      ]
    },
    {
      "cell_type": "code",
      "execution_count": null,
      "metadata": {
        "id": "4hsbQJ8D7onQ"
      },
      "outputs": [],
      "source": [
        "clf = Pipeline(steps=[('preprocessor', preprocessor)])\n",
        "\n",
        "X_train_pp = pd.DataFrame(clf.fit_transform(X_train))\n",
        "X_test_pp = pd.DataFrame(clf.transform(X_test))"
      ]
    },
    {
      "cell_type": "code",
      "execution_count": null,
      "metadata": {
        "colab": {
          "base_uri": "https://localhost:8080/"
        },
        "id": "o4doGAWH7onQ",
        "outputId": "70ec6c04-e870-4794-9770-cc53200b3301"
      },
      "outputs": [
        {
          "name": "stdout",
          "output_type": "stream",
          "text": [
            "length of oversampled data is  73096\n",
            "Number of no subscription in oversampled data 36548\n",
            "Number of subscription 36548\n",
            "Proportion of no subscription data in oversampled data is  0.5\n",
            "Proportion of subscription data in oversampled data is  0.5\n"
          ]
        }
      ],
      "source": [
        "smote = SMOTE(random_state=0)\n",
        "\n",
        "os_data_X,os_data_y=smote.fit_resample(X_train_pp, y_train)\n",
        "\n",
        "os_data_X = pd.DataFrame(data=os_data_X)\n",
        "os_data_y= pd.DataFrame(data=os_data_y,columns=['y'])\n",
        "\n",
        "# we can Check the numbers of our data\n",
        "print(\"length of oversampled data is \",len(os_data_X))\n",
        "print(\"Number of no subscription in oversampled data\",len(os_data_y[os_data_y['y']=='no']))\n",
        "print(\"Number of subscription\",len(os_data_y[os_data_y['y']=='yes']))\n",
        "print(\"Proportion of no subscription data in oversampled data is \",len(os_data_y[os_data_y['y']=='no'])/len(os_data_X))\n",
        "print(\"Proportion of subscription data in oversampled data is \",len(os_data_y[os_data_y['y']=='yes'])/len(os_data_X))"
      ]
    },
    {
      "cell_type": "code",
      "execution_count": null,
      "metadata": {
        "colab": {
          "base_uri": "https://localhost:8080/"
        },
        "id": "cZ2Nrbkn7onQ",
        "outputId": "13066897-c0b0-40a9-e3da-2a60fbf89414"
      },
      "outputs": [
        {
          "name": "stdout",
          "output_type": "stream",
          "text": [
            "CPU times: user 33.9 s, sys: 4.68 s, total: 38.6 s\n",
            "Wall time: 3min 29s\n"
          ]
        }
      ],
      "source": [
        "%%time\n",
        "clf_dt = Pipeline(steps=[('classifier', DecisionTreeClassifier())])\n",
        "\n",
        "dt_param_grid = {'classifier__criterion': ['entropy', 'gini'], 'classifier__max_depth': [6,8,10,12], \n",
        "                 \"classifier__min_samples_split\": [2, 10, 20],\"classifier__min_samples_leaf\": [1, 5, 10]}\n",
        "\n",
        "dt_grid_bal = GridSearchCV(clf_dt, param_grid=dt_param_grid, cv=5, n_jobs=-1)\n",
        "\n",
        "dt_grid_bal.fit(os_data_X,os_data_y)"
      ]
    },
    {
      "cell_type": "code",
      "execution_count": null,
      "metadata": {
        "colab": {
          "base_uri": "https://localhost:8080/"
        },
        "id": "816qEhWT7onQ",
        "outputId": "5bc2e538-4ec2-4051-98e5-1f633c849722"
      },
      "outputs": [
        {
          "name": "stdout",
          "output_type": "stream",
          "text": [
            "0.9161924045091386\n",
            "0.8858946346200534\n",
            "\n",
            " [[32360  4188]\n",
            " [ 1938 34610]]\n",
            "\n",
            "\n",
            "Train Precision:  0.8920562915614207\n",
            "Train Recall:  0.9469738426179272\n",
            "Train Accuracy:  0.9161924045091386\n"
          ]
        }
      ],
      "source": [
        "train_pred = dt_grid_bal.predict(os_data_X)\n",
        "test_pred = dt_grid_bal.predict(X_test_pp)\n",
        "\n",
        "print(dt_grid_bal.score(os_data_X, os_data_y))\n",
        "print(dt_grid_bal.score(X_test_pp, y_test))\n",
        "\n",
        "confusion_matrix_train = confusion_matrix(y_true=os_data_y, y_pred = train_pred)\n",
        "print(\"\\n\",confusion_matrix_train)\n",
        "\n",
        "Accuracy_train=(confusion_matrix_train[0,0]+confusion_matrix_train[1,1])/(np.sum(confusion_matrix_train))\n",
        "\n",
        "Precision_Train= confusion_matrix_train[1,1]/(confusion_matrix_train[1,1]+confusion_matrix_train[0,1])\n",
        "Recall_Train= confusion_matrix_train[1,1]/(confusion_matrix_train[1,0]+confusion_matrix_train[1,1])\n",
        "print(\"\\n\")\n",
        "print(\"Train Precision: \",Precision_Train)\n",
        "print(\"Train Recall: \",Recall_Train)\n",
        "print(\"Train Accuracy: \",Accuracy_train)"
      ]
    },
    {
      "cell_type": "code",
      "execution_count": null,
      "metadata": {
        "colab": {
          "base_uri": "https://localhost:8080/"
        },
        "id": "h34n7Q4w7onQ",
        "outputId": "014050fe-c559-4141-b511-616b468045ef"
      },
      "outputs": [
        {
          "name": "stdout",
          "output_type": "stream",
          "text": [
            "Test Precision:  0.4951338199513382\n",
            "Test Recall:  0.8809523809523809\n",
            "Test Accuracy:  0.8858946346200534\n"
          ]
        }
      ],
      "source": [
        "accuracy_precision_recall_metrics(y_true = y_test, y_pred = test_pred)"
      ]
    },
    {
      "cell_type": "markdown",
      "metadata": {
        "id": "jjg12rG_7onQ",
        "nbgrader": {
          "grade": false,
          "grade_id": "ml_117",
          "locked": true,
          "schema_version": 3,
          "solution": false,
          "task": false
        }
      },
      "source": [
        "# Interesting links:\n",
        "\n",
        "https://scikit-learn.org/stable/\n",
        "\n",
        "https://scikit-learn.org/stable/modules/generated/sklearn.pipeline.Pipeline.html\n",
        "\n",
        "https://imbalanced-learn.readthedocs.io/en/stable/over_sampling.html"
      ]
    }
  ],
  "metadata": {
    "celltoolbar": "Create Assignment",
    "colab": {
      "collapsed_sections": [],
      "name": "MasterCopy.ipynb",
      "provenance": []
    },
    "kernelspec": {
      "display_name": "Python 3 (ipykernel)",
      "language": "python",
      "name": "python3"
    },
    "language_info": {
      "codemirror_mode": {
        "name": "ipython",
        "version": 3
      },
      "file_extension": ".py",
      "mimetype": "text/x-python",
      "name": "python",
      "nbconvert_exporter": "python",
      "pygments_lexer": "ipython3",
      "version": "3.7.11"
    },
    "toc": {
      "base_numbering": 1,
      "nav_menu": {},
      "number_sections": true,
      "sideBar": true,
      "skip_h1_title": false,
      "title_cell": "Table of Contents",
      "title_sidebar": "Contents",
      "toc_cell": false,
      "toc_position": {},
      "toc_section_display": true,
      "toc_window_display": false
    }
  },
  "nbformat": 4,
  "nbformat_minor": 0
}