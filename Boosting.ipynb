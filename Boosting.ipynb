{
  "cells": [
    {
      "cell_type": "markdown",
      "metadata": {
        "id": "KQV5U-mKr3oK"
      },
      "source": [
        "# Concepts to Learn\n",
        "\n",
        "# Boosting \n",
        "### **Adabost\n",
        "### **GBM\n",
        "### **XGBOOST"
      ]
    },
    {
      "cell_type": "code",
      "execution_count": null,
      "metadata": {
        "id": "g9XBen4hr3oS"
      },
      "outputs": [],
      "source": [
        "import warnings\n",
        "warnings.filterwarnings(action='ignore', category=DeprecationWarning)\n",
        "import os\n",
        "import pandas as pd\n",
        "#os.chdir(\"\")"
      ]
    },
    {
      "cell_type": "markdown",
      "metadata": {
        "id": "ULAgZp6Pr3oV"
      },
      "source": [
        "# Read tennis.csv ,while reading it replace '?', ',' any other special character as NAs\n",
        "# Check the dimensions and type"
      ]
    },
    {
      "cell_type": "code",
      "execution_count": null,
      "metadata": {
        "id": "psL9SjxJr3oW",
        "outputId": "e5704f47-eb15-468c-b85e-414c8765270c",
        "colab": {
          "base_uri": "https://localhost:8080/"
        }
      },
      "outputs": [
        {
          "output_type": "stream",
          "name": "stdout",
          "text": [
            "(8001, 27)\n",
            "<class 'pandas.core.frame.DataFrame'>\n"
          ]
        }
      ],
      "source": [
        "data=pd.read_csv(\"./train_2.csv\")\n",
        "print(data.shape)\n",
        "print(type(data))"
      ]
    },
    {
      "cell_type": "markdown",
      "metadata": {
        "id": "5xJJEz65r3oY"
      },
      "source": [
        "# Print Columns names and check the datatypes of columns(dtypes)"
      ]
    },
    {
      "cell_type": "code",
      "execution_count": null,
      "metadata": {
        "scrolled": true,
        "id": "HXPJMd6zr3oZ",
        "outputId": "794900ef-6c6f-4d24-95df-92eb7b138912",
        "colab": {
          "base_uri": "https://localhost:8080/"
        }
      },
      "outputs": [
        {
          "output_type": "stream",
          "name": "stdout",
          "text": [
            "Index(['rally', 'serve', 'hitpoint', 'speed', 'net.clearance',\n",
            "       'distance.from.sideline', 'depth', 'outside.sideline',\n",
            "       'outside.baseline', 'player.distance.travelled', 'player.impact.depth',\n",
            "       'player.impact.distance.from.center', 'player.depth',\n",
            "       'player.distance.from.center', 'previous.speed',\n",
            "       'previous.net.clearance', 'previous.distance.from.sideline',\n",
            "       'previous.depth', 'opponent.depth', 'opponent.distance.from.center',\n",
            "       'same.side', 'previous.hitpoint', 'previous.time.to.net',\n",
            "       'server.is.impact.player', 'outcome', 'gender', 'ID'],\n",
            "      dtype='object')\n",
            "rally                                   int64\n",
            "serve                                   int64\n",
            "hitpoint                               object\n",
            "speed                                 float64\n",
            "net.clearance                         float64\n",
            "distance.from.sideline                float64\n",
            "depth                                 float64\n",
            "outside.sideline                         bool\n",
            "outside.baseline                         bool\n",
            "player.distance.travelled             float64\n",
            "player.impact.depth                   float64\n",
            "player.impact.distance.from.center    float64\n",
            "player.depth                          float64\n",
            "player.distance.from.center           float64\n",
            "previous.speed                        float64\n",
            "previous.net.clearance                float64\n",
            "previous.distance.from.sideline       float64\n",
            "previous.depth                        float64\n",
            "opponent.depth                        float64\n",
            "opponent.distance.from.center         float64\n",
            "same.side                                bool\n",
            "previous.hitpoint                      object\n",
            "previous.time.to.net                  float64\n",
            "server.is.impact.player                  bool\n",
            "outcome                                object\n",
            "gender                                 object\n",
            "ID                                      int64\n",
            "dtype: object\n"
          ]
        }
      ],
      "source": [
        "print(data.columns)\n",
        "print(data.dtypes)"
      ]
    },
    {
      "cell_type": "markdown",
      "metadata": {
        "id": "m0pdc5Yhr3oa"
      },
      "source": [
        "# Check the missing values "
      ]
    },
    {
      "cell_type": "code",
      "execution_count": null,
      "metadata": {
        "id": "PwGBwMxEr3oc",
        "outputId": "1883a0ed-05c7-4cef-97f9-71f3f4d091c9",
        "colab": {
          "base_uri": "https://localhost:8080/"
        }
      },
      "outputs": [
        {
          "output_type": "execute_result",
          "data": {
            "text/plain": [
              "rally                                 0\n",
              "serve                                 0\n",
              "hitpoint                              0\n",
              "speed                                 0\n",
              "net.clearance                         0\n",
              "distance.from.sideline                0\n",
              "depth                                 0\n",
              "outside.sideline                      0\n",
              "outside.baseline                      0\n",
              "player.distance.travelled             0\n",
              "player.impact.depth                   0\n",
              "player.impact.distance.from.center    0\n",
              "player.depth                          0\n",
              "player.distance.from.center           0\n",
              "previous.speed                        0\n",
              "previous.net.clearance                0\n",
              "previous.distance.from.sideline       0\n",
              "previous.depth                        0\n",
              "opponent.depth                        0\n",
              "opponent.distance.from.center         0\n",
              "same.side                             0\n",
              "previous.hitpoint                     0\n",
              "previous.time.to.net                  0\n",
              "server.is.impact.player               0\n",
              "outcome                               0\n",
              "gender                                0\n",
              "ID                                    0\n",
              "dtype: int64"
            ]
          },
          "metadata": {},
          "execution_count": 5
        }
      ],
      "source": [
        "data.isnull().sum()"
      ]
    },
    {
      "cell_type": "code",
      "source": [
        "data.dropna(inplace=True)"
      ],
      "metadata": {
        "id": "xJyYTEI04z2L"
      },
      "execution_count": null,
      "outputs": []
    },
    {
      "cell_type": "markdown",
      "metadata": {
        "id": "N4e6PhR9r3od"
      },
      "source": [
        "# Check the Frequency of Target Varaible(value_counts())"
      ]
    },
    {
      "cell_type": "code",
      "execution_count": null,
      "metadata": {
        "id": "Zrlckb93r3oe",
        "outputId": "544ab1ac-862b-47ef-b222-6c77e9d6da3c",
        "colab": {
          "base_uri": "https://localhost:8080/"
        }
      },
      "outputs": [
        {
          "output_type": "execute_result",
          "data": {
            "text/plain": [
              "UE    3501\n",
              "W     2682\n",
              "FE    1818\n",
              "Name: outcome, dtype: int64"
            ]
          },
          "metadata": {},
          "execution_count": 7
        }
      ],
      "source": [
        "data[\"outcome\"].value_counts()"
      ]
    },
    {
      "cell_type": "markdown",
      "metadata": {
        "id": "IYB5O00Gr3og"
      },
      "source": [
        "# Drop Id column "
      ]
    },
    {
      "cell_type": "code",
      "execution_count": null,
      "metadata": {
        "id": "dz2pqRQir3og"
      },
      "outputs": [],
      "source": [
        "data=data.set_index([\"ID\"])"
      ]
    },
    {
      "cell_type": "code",
      "execution_count": null,
      "metadata": {
        "id": "IhFhN4fLr3oh",
        "outputId": "be75bc5b-3138-44ba-cd1d-d6ef9fe77dcd",
        "colab": {
          "base_uri": "https://localhost:8080/",
          "height": 362
        }
      },
      "outputs": [
        {
          "output_type": "execute_result",
          "data": {
            "text/plain": [
              "      rally  serve hitpoint      speed  net.clearance  distance.from.sideline  \\\n",
              "ID                                                                              \n",
              "8644      4      1        B  35.515042      -0.021725                3.474766   \n",
              "1182      4      2        B  33.382640       1.114202                2.540801   \n",
              "9042     23      1        B  22.316690      -0.254046                3.533166   \n",
              "1222      9      1        F  36.837309       0.766694                0.586885   \n",
              "4085      4      1        B  35.544208       0.116162                0.918725   \n",
              "292      10      1        B  39.012186       0.349889                0.485098   \n",
              "\n",
              "         depth  outside.sideline  outside.baseline  player.distance.travelled  \\\n",
              "ID                                                                              \n",
              "8644  6.797621             False             False                   1.467570   \n",
              "1182  2.608708             False              True                   2.311931   \n",
              "9042  9.435749             False             False                   3.903728   \n",
              "1222  3.342180              True             False                   0.583745   \n",
              "4085  5.499119             False             False                   2.333456   \n",
              "292   3.264708              True             False                   0.804337   \n",
              "\n",
              "      ...  previous.distance.from.sideline  previous.depth  opponent.depth  \\\n",
              "ID    ...                                                                    \n",
              "8644  ...                         2.449182        0.705435         12.5628   \n",
              "1182  ...                         0.583291        3.856600         12.3544   \n",
              "9042  ...                         1.115250        2.908892         13.8620   \n",
              "1222  ...                         3.256695        0.557554         14.2596   \n",
              "4085  ...                         1.431146        3.945317         11.3658   \n",
              "292   ...                         2.077335        5.007207         13.4220   \n",
              "\n",
              "      opponent.distance.from.center  same.side  previous.hitpoint  \\\n",
              "ID                                                                  \n",
              "8644                         2.0724       True                  F   \n",
              "1182                         5.1124      False                  B   \n",
              "9042                         1.6564      False                  F   \n",
              "1222                         0.1606       True                  B   \n",
              "4085                         1.1082      False                  F   \n",
              "292                          2.0316       True                  F   \n",
              "\n",
              "      previous.time.to.net  server.is.impact.player  outcome  gender  \n",
              "ID                                                                    \n",
              "8644              0.445318                    False       UE    mens  \n",
              "1182              0.432434                    False       FE    mens  \n",
              "9042              0.397538                     True       FE    mens  \n",
              "1222              0.671984                     True       UE    mens  \n",
              "4085              0.340411                    False        W    mens  \n",
              "292               0.533950                    False       UE    mens  \n",
              "\n",
              "[6 rows x 26 columns]"
            ],
            "text/html": [
              "\n",
              "  <div id=\"df-9ef68172-9991-4a2c-8036-b4df1ea31da1\">\n",
              "    <div class=\"colab-df-container\">\n",
              "      <div>\n",
              "<style scoped>\n",
              "    .dataframe tbody tr th:only-of-type {\n",
              "        vertical-align: middle;\n",
              "    }\n",
              "\n",
              "    .dataframe tbody tr th {\n",
              "        vertical-align: top;\n",
              "    }\n",
              "\n",
              "    .dataframe thead th {\n",
              "        text-align: right;\n",
              "    }\n",
              "</style>\n",
              "<table border=\"1\" class=\"dataframe\">\n",
              "  <thead>\n",
              "    <tr style=\"text-align: right;\">\n",
              "      <th></th>\n",
              "      <th>rally</th>\n",
              "      <th>serve</th>\n",
              "      <th>hitpoint</th>\n",
              "      <th>speed</th>\n",
              "      <th>net.clearance</th>\n",
              "      <th>distance.from.sideline</th>\n",
              "      <th>depth</th>\n",
              "      <th>outside.sideline</th>\n",
              "      <th>outside.baseline</th>\n",
              "      <th>player.distance.travelled</th>\n",
              "      <th>...</th>\n",
              "      <th>previous.distance.from.sideline</th>\n",
              "      <th>previous.depth</th>\n",
              "      <th>opponent.depth</th>\n",
              "      <th>opponent.distance.from.center</th>\n",
              "      <th>same.side</th>\n",
              "      <th>previous.hitpoint</th>\n",
              "      <th>previous.time.to.net</th>\n",
              "      <th>server.is.impact.player</th>\n",
              "      <th>outcome</th>\n",
              "      <th>gender</th>\n",
              "    </tr>\n",
              "    <tr>\n",
              "      <th>ID</th>\n",
              "      <th></th>\n",
              "      <th></th>\n",
              "      <th></th>\n",
              "      <th></th>\n",
              "      <th></th>\n",
              "      <th></th>\n",
              "      <th></th>\n",
              "      <th></th>\n",
              "      <th></th>\n",
              "      <th></th>\n",
              "      <th></th>\n",
              "      <th></th>\n",
              "      <th></th>\n",
              "      <th></th>\n",
              "      <th></th>\n",
              "      <th></th>\n",
              "      <th></th>\n",
              "      <th></th>\n",
              "      <th></th>\n",
              "      <th></th>\n",
              "      <th></th>\n",
              "    </tr>\n",
              "  </thead>\n",
              "  <tbody>\n",
              "    <tr>\n",
              "      <th>8644</th>\n",
              "      <td>4</td>\n",
              "      <td>1</td>\n",
              "      <td>B</td>\n",
              "      <td>35.515042</td>\n",
              "      <td>-0.021725</td>\n",
              "      <td>3.474766</td>\n",
              "      <td>6.797621</td>\n",
              "      <td>False</td>\n",
              "      <td>False</td>\n",
              "      <td>1.467570</td>\n",
              "      <td>...</td>\n",
              "      <td>2.449182</td>\n",
              "      <td>0.705435</td>\n",
              "      <td>12.5628</td>\n",
              "      <td>2.0724</td>\n",
              "      <td>True</td>\n",
              "      <td>F</td>\n",
              "      <td>0.445318</td>\n",
              "      <td>False</td>\n",
              "      <td>UE</td>\n",
              "      <td>mens</td>\n",
              "    </tr>\n",
              "    <tr>\n",
              "      <th>1182</th>\n",
              "      <td>4</td>\n",
              "      <td>2</td>\n",
              "      <td>B</td>\n",
              "      <td>33.382640</td>\n",
              "      <td>1.114202</td>\n",
              "      <td>2.540801</td>\n",
              "      <td>2.608708</td>\n",
              "      <td>False</td>\n",
              "      <td>True</td>\n",
              "      <td>2.311931</td>\n",
              "      <td>...</td>\n",
              "      <td>0.583291</td>\n",
              "      <td>3.856600</td>\n",
              "      <td>12.3544</td>\n",
              "      <td>5.1124</td>\n",
              "      <td>False</td>\n",
              "      <td>B</td>\n",
              "      <td>0.432434</td>\n",
              "      <td>False</td>\n",
              "      <td>FE</td>\n",
              "      <td>mens</td>\n",
              "    </tr>\n",
              "    <tr>\n",
              "      <th>9042</th>\n",
              "      <td>23</td>\n",
              "      <td>1</td>\n",
              "      <td>B</td>\n",
              "      <td>22.316690</td>\n",
              "      <td>-0.254046</td>\n",
              "      <td>3.533166</td>\n",
              "      <td>9.435749</td>\n",
              "      <td>False</td>\n",
              "      <td>False</td>\n",
              "      <td>3.903728</td>\n",
              "      <td>...</td>\n",
              "      <td>1.115250</td>\n",
              "      <td>2.908892</td>\n",
              "      <td>13.8620</td>\n",
              "      <td>1.6564</td>\n",
              "      <td>False</td>\n",
              "      <td>F</td>\n",
              "      <td>0.397538</td>\n",
              "      <td>True</td>\n",
              "      <td>FE</td>\n",
              "      <td>mens</td>\n",
              "    </tr>\n",
              "    <tr>\n",
              "      <th>1222</th>\n",
              "      <td>9</td>\n",
              "      <td>1</td>\n",
              "      <td>F</td>\n",
              "      <td>36.837309</td>\n",
              "      <td>0.766694</td>\n",
              "      <td>0.586885</td>\n",
              "      <td>3.342180</td>\n",
              "      <td>True</td>\n",
              "      <td>False</td>\n",
              "      <td>0.583745</td>\n",
              "      <td>...</td>\n",
              "      <td>3.256695</td>\n",
              "      <td>0.557554</td>\n",
              "      <td>14.2596</td>\n",
              "      <td>0.1606</td>\n",
              "      <td>True</td>\n",
              "      <td>B</td>\n",
              "      <td>0.671984</td>\n",
              "      <td>True</td>\n",
              "      <td>UE</td>\n",
              "      <td>mens</td>\n",
              "    </tr>\n",
              "    <tr>\n",
              "      <th>4085</th>\n",
              "      <td>4</td>\n",
              "      <td>1</td>\n",
              "      <td>B</td>\n",
              "      <td>35.544208</td>\n",
              "      <td>0.116162</td>\n",
              "      <td>0.918725</td>\n",
              "      <td>5.499119</td>\n",
              "      <td>False</td>\n",
              "      <td>False</td>\n",
              "      <td>2.333456</td>\n",
              "      <td>...</td>\n",
              "      <td>1.431146</td>\n",
              "      <td>3.945317</td>\n",
              "      <td>11.3658</td>\n",
              "      <td>1.1082</td>\n",
              "      <td>False</td>\n",
              "      <td>F</td>\n",
              "      <td>0.340411</td>\n",
              "      <td>False</td>\n",
              "      <td>W</td>\n",
              "      <td>mens</td>\n",
              "    </tr>\n",
              "    <tr>\n",
              "      <th>292</th>\n",
              "      <td>10</td>\n",
              "      <td>1</td>\n",
              "      <td>B</td>\n",
              "      <td>39.012186</td>\n",
              "      <td>0.349889</td>\n",
              "      <td>0.485098</td>\n",
              "      <td>3.264708</td>\n",
              "      <td>True</td>\n",
              "      <td>False</td>\n",
              "      <td>0.804337</td>\n",
              "      <td>...</td>\n",
              "      <td>2.077335</td>\n",
              "      <td>5.007207</td>\n",
              "      <td>13.4220</td>\n",
              "      <td>2.0316</td>\n",
              "      <td>True</td>\n",
              "      <td>F</td>\n",
              "      <td>0.533950</td>\n",
              "      <td>False</td>\n",
              "      <td>UE</td>\n",
              "      <td>mens</td>\n",
              "    </tr>\n",
              "  </tbody>\n",
              "</table>\n",
              "<p>6 rows × 26 columns</p>\n",
              "</div>\n",
              "      <button class=\"colab-df-convert\" onclick=\"convertToInteractive('df-9ef68172-9991-4a2c-8036-b4df1ea31da1')\"\n",
              "              title=\"Convert this dataframe to an interactive table.\"\n",
              "              style=\"display:none;\">\n",
              "        \n",
              "  <svg xmlns=\"http://www.w3.org/2000/svg\" height=\"24px\"viewBox=\"0 0 24 24\"\n",
              "       width=\"24px\">\n",
              "    <path d=\"M0 0h24v24H0V0z\" fill=\"none\"/>\n",
              "    <path d=\"M18.56 5.44l.94 2.06.94-2.06 2.06-.94-2.06-.94-.94-2.06-.94 2.06-2.06.94zm-11 1L8.5 8.5l.94-2.06 2.06-.94-2.06-.94L8.5 2.5l-.94 2.06-2.06.94zm10 10l.94 2.06.94-2.06 2.06-.94-2.06-.94-.94-2.06-.94 2.06-2.06.94z\"/><path d=\"M17.41 7.96l-1.37-1.37c-.4-.4-.92-.59-1.43-.59-.52 0-1.04.2-1.43.59L10.3 9.45l-7.72 7.72c-.78.78-.78 2.05 0 2.83L4 21.41c.39.39.9.59 1.41.59.51 0 1.02-.2 1.41-.59l7.78-7.78 2.81-2.81c.8-.78.8-2.07 0-2.86zM5.41 20L4 18.59l7.72-7.72 1.47 1.35L5.41 20z\"/>\n",
              "  </svg>\n",
              "      </button>\n",
              "      \n",
              "  <style>\n",
              "    .colab-df-container {\n",
              "      display:flex;\n",
              "      flex-wrap:wrap;\n",
              "      gap: 12px;\n",
              "    }\n",
              "\n",
              "    .colab-df-convert {\n",
              "      background-color: #E8F0FE;\n",
              "      border: none;\n",
              "      border-radius: 50%;\n",
              "      cursor: pointer;\n",
              "      display: none;\n",
              "      fill: #1967D2;\n",
              "      height: 32px;\n",
              "      padding: 0 0 0 0;\n",
              "      width: 32px;\n",
              "    }\n",
              "\n",
              "    .colab-df-convert:hover {\n",
              "      background-color: #E2EBFA;\n",
              "      box-shadow: 0px 1px 2px rgba(60, 64, 67, 0.3), 0px 1px 3px 1px rgba(60, 64, 67, 0.15);\n",
              "      fill: #174EA6;\n",
              "    }\n",
              "\n",
              "    [theme=dark] .colab-df-convert {\n",
              "      background-color: #3B4455;\n",
              "      fill: #D2E3FC;\n",
              "    }\n",
              "\n",
              "    [theme=dark] .colab-df-convert:hover {\n",
              "      background-color: #434B5C;\n",
              "      box-shadow: 0px 1px 3px 1px rgba(0, 0, 0, 0.15);\n",
              "      filter: drop-shadow(0px 1px 2px rgba(0, 0, 0, 0.3));\n",
              "      fill: #FFFFFF;\n",
              "    }\n",
              "  </style>\n",
              "\n",
              "      <script>\n",
              "        const buttonEl =\n",
              "          document.querySelector('#df-9ef68172-9991-4a2c-8036-b4df1ea31da1 button.colab-df-convert');\n",
              "        buttonEl.style.display =\n",
              "          google.colab.kernel.accessAllowed ? 'block' : 'none';\n",
              "\n",
              "        async function convertToInteractive(key) {\n",
              "          const element = document.querySelector('#df-9ef68172-9991-4a2c-8036-b4df1ea31da1');\n",
              "          const dataTable =\n",
              "            await google.colab.kernel.invokeFunction('convertToInteractive',\n",
              "                                                     [key], {});\n",
              "          if (!dataTable) return;\n",
              "\n",
              "          const docLinkHtml = 'Like what you see? Visit the ' +\n",
              "            '<a target=\"_blank\" href=https://colab.research.google.com/notebooks/data_table.ipynb>data table notebook</a>'\n",
              "            + ' to learn more about interactive tables.';\n",
              "          element.innerHTML = '';\n",
              "          dataTable['output_type'] = 'display_data';\n",
              "          await google.colab.output.renderOutput(dataTable, element);\n",
              "          const docLink = document.createElement('div');\n",
              "          docLink.innerHTML = docLinkHtml;\n",
              "          element.appendChild(docLink);\n",
              "        }\n",
              "      </script>\n",
              "    </div>\n",
              "  </div>\n",
              "  "
            ]
          },
          "metadata": {},
          "execution_count": 9
        }
      ],
      "source": [
        "data.head(6)"
      ]
    },
    {
      "cell_type": "markdown",
      "metadata": {
        "id": "N-2Ip-nIr3oi"
      },
      "source": [
        "## Check the number of unique values in each column ; make necessary type conversion"
      ]
    },
    {
      "cell_type": "code",
      "execution_count": null,
      "metadata": {
        "id": "Eod1nsTor3oi",
        "outputId": "e2832564-3f38-4c29-ab2e-27f6ac08d4ed",
        "colab": {
          "base_uri": "https://localhost:8080/"
        }
      },
      "outputs": [
        {
          "output_type": "stream",
          "name": "stdout",
          "text": [
            "(8001, 26)\n",
            "rally : 30\n",
            "serve : 2\n",
            "hitpoint : 4\n",
            "speed : 8001\n",
            "net.clearance : 7994\n",
            "distance.from.sideline : 8001\n",
            "depth : 8001\n",
            "outside.sideline : 2\n",
            "outside.baseline : 2\n",
            "player.distance.travelled : 7988\n",
            "player.impact.depth : 7089\n",
            "player.impact.distance.from.center : 6644\n",
            "player.depth : 6882\n",
            "player.distance.from.center : 5977\n",
            "previous.speed : 8001\n",
            "previous.net.clearance : 8001\n",
            "previous.distance.from.sideline : 8001\n",
            "previous.depth : 8001\n",
            "opponent.depth : 6856\n",
            "opponent.distance.from.center : 6775\n",
            "same.side : 2\n",
            "previous.hitpoint : 4\n",
            "previous.time.to.net : 8001\n",
            "server.is.impact.player : 2\n",
            "outcome : 3\n",
            "gender : 2\n"
          ]
        }
      ],
      "source": [
        "print(data.shape)\n",
        "for i in data.columns:\n",
        "  print(i,\":\",len(data[i].unique()))"
      ]
    },
    {
      "cell_type": "markdown",
      "metadata": {
        "id": "OpPF3mclr3oj"
      },
      "source": [
        "## Do necessary type conversions such as numeric to category(astype('category'))"
      ]
    },
    {
      "cell_type": "code",
      "execution_count": null,
      "metadata": {
        "id": "yJUhNrIMr3oj"
      },
      "outputs": [],
      "source": [
        "# identified the variables which has less than 10 unique values and cheked the type of value.\n",
        "cat_cols=['serve','hitpoint','outside.sideline','outside.baseline','same.side','previous.hitpoint','server.is.impact.player','gender']\n",
        "for i in cat_cols:\n",
        "  data[i]=data[i].astype('str').astype('category')\n",
        "data['outcome']=data['outcome'].astype('str').astype('category')\n",
        "#bank[bank.select_dtypes(['object']).columns] = bank.select_dtypes(['object']).apply(lambda x: x.astype('category'))"
      ]
    },
    {
      "cell_type": "code",
      "execution_count": null,
      "metadata": {
        "id": "WTx7sYKQr3ok",
        "outputId": "1c78b573-1ef0-4143-dec5-2f2557335f2b",
        "colab": {
          "base_uri": "https://localhost:8080/"
        }
      },
      "outputs": [
        {
          "output_type": "stream",
          "name": "stdout",
          "text": [
            "serve : ['1', '2']\n",
            "Categories (2, object): ['1', '2']\n",
            "hitpoint : ['B', 'F', 'U', 'V']\n",
            "Categories (4, object): ['B', 'F', 'U', 'V']\n",
            "outside.sideline : ['False', 'True']\n",
            "Categories (2, object): ['False', 'True']\n",
            "outside.baseline : ['False', 'True']\n",
            "Categories (2, object): ['False', 'True']\n",
            "same.side : ['True', 'False']\n",
            "Categories (2, object): ['False', 'True']\n",
            "previous.hitpoint : ['F', 'B', 'V', 'U']\n",
            "Categories (4, object): ['B', 'F', 'U', 'V']\n",
            "server.is.impact.player : ['False', 'True']\n",
            "Categories (2, object): ['False', 'True']\n",
            "outcome : ['UE', 'FE', 'W']\n",
            "Categories (3, object): ['FE', 'UE', 'W']\n",
            "gender : ['mens', 'womens']\n",
            "Categories (2, object): ['mens', 'womens']\n"
          ]
        }
      ],
      "source": [
        "for i in data.columns:\n",
        "    if len(data[i].unique())<10:\n",
        "        print(i,\":\",(data[i].unique()))"
      ]
    },
    {
      "cell_type": "markdown",
      "metadata": {
        "id": "gz3VITfOr3ol"
      },
      "source": [
        "# Check the summary of dataframe(describe())"
      ]
    },
    {
      "cell_type": "code",
      "execution_count": null,
      "metadata": {
        "id": "s2nX0EAtr3ol",
        "outputId": "05056a34-d811-4ca6-8d20-d983834686d4",
        "colab": {
          "base_uri": "https://localhost:8080/",
          "height": 488
        }
      },
      "outputs": [
        {
          "output_type": "execute_result",
          "data": {
            "text/plain": [
              "              rally serve hitpoint        speed  net.clearance  \\\n",
              "count   8001.000000  8001     8001  8001.000000    8001.000000   \n",
              "unique          NaN     2        4          NaN            NaN   \n",
              "top             NaN     1        F          NaN            NaN   \n",
              "freq            NaN  4811     4402          NaN            NaN   \n",
              "mean       5.966004   NaN      NaN    30.806938       0.629658   \n",
              "std        3.548182   NaN      NaN     7.298917       0.982504   \n",
              "min        3.000000   NaN      NaN     5.176078      -0.998184   \n",
              "25%        3.000000   NaN      NaN    26.770290      -0.027092   \n",
              "50%        5.000000   NaN      NaN    32.417690       0.445870   \n",
              "75%        7.000000   NaN      NaN    35.681431       0.970844   \n",
              "max       38.000000   NaN      NaN    55.052795      12.815893   \n",
              "\n",
              "        distance.from.sideline        depth outside.sideline outside.baseline  \\\n",
              "count              8001.000000  8001.000000             8001             8001   \n",
              "unique                     NaN          NaN                2                2   \n",
              "top                        NaN          NaN            False            False   \n",
              "freq                       NaN          NaN             6500             6380   \n",
              "mean                  1.467630     4.421146              NaN              NaN   \n",
              "std                   1.108697     3.144965              NaN              NaN   \n",
              "min                   0.000497     0.003135              NaN              NaN   \n",
              "25%                   0.539500     1.641161              NaN              NaN   \n",
              "50%                   1.210847     3.860266              NaN              NaN   \n",
              "75%                   2.215955     7.029345              NaN              NaN   \n",
              "max                   7.569757    11.886069              NaN              NaN   \n",
              "\n",
              "        player.distance.travelled  ...  previous.distance.from.sideline  \\\n",
              "count                 8001.000000  ...                      8001.000000   \n",
              "unique                        NaN  ...                              NaN   \n",
              "top                           NaN  ...                              NaN   \n",
              "freq                          NaN  ...                              NaN   \n",
              "mean                     2.690463  ...                         2.193420   \n",
              "std                      1.713136  ...                         1.038942   \n",
              "min                      0.000000  ...                         0.000164   \n",
              "25%                      1.444233  ...                         1.354458   \n",
              "50%                      2.360894  ...                         2.168822   \n",
              "75%                      3.565853  ...                         3.022677   \n",
              "max                     14.480546  ...                         4.114361   \n",
              "\n",
              "        previous.depth  opponent.depth  opponent.distance.from.center  \\\n",
              "count      8001.000000     8001.000000                    8001.000000   \n",
              "unique             NaN             NaN                            NaN   \n",
              "top                NaN             NaN                            NaN   \n",
              "freq               NaN             NaN                            NaN   \n",
              "mean          4.218717       12.616810                       2.367952   \n",
              "std           2.052946        2.075401                       1.313927   \n",
              "min           0.000467        2.161200                       0.000200   \n",
              "25%           2.733674       12.082400                       1.352200   \n",
              "50%           4.126864       12.901600                       2.332000   \n",
              "75%           5.595515       13.712800                       3.259000   \n",
              "max           9.997963       20.211000                       6.852600   \n",
              "\n",
              "        same.side  previous.hitpoint  previous.time.to.net  \\\n",
              "count        8001               8001           8001.000000   \n",
              "unique          2                  4                   NaN   \n",
              "top         False                  F                   NaN   \n",
              "freq         6036               3684                   NaN   \n",
              "mean          NaN                NaN              0.549988   \n",
              "std           NaN                NaN              0.186788   \n",
              "min           NaN                NaN              0.003201   \n",
              "25%           NaN                NaN              0.432164   \n",
              "50%           NaN                NaN              0.507559   \n",
              "75%           NaN                NaN              0.624135   \n",
              "max           NaN                NaN              1.635257   \n",
              "\n",
              "        server.is.impact.player  outcome  gender  \n",
              "count                      8001     8001    8001  \n",
              "unique                        2        3       2  \n",
              "top                        True       UE    mens  \n",
              "freq                       4670     3501    4005  \n",
              "mean                        NaN      NaN     NaN  \n",
              "std                         NaN      NaN     NaN  \n",
              "min                         NaN      NaN     NaN  \n",
              "25%                         NaN      NaN     NaN  \n",
              "50%                         NaN      NaN     NaN  \n",
              "75%                         NaN      NaN     NaN  \n",
              "max                         NaN      NaN     NaN  \n",
              "\n",
              "[11 rows x 26 columns]"
            ],
            "text/html": [
              "\n",
              "  <div id=\"df-9e902640-ec34-404a-ae6d-2913b38ba475\">\n",
              "    <div class=\"colab-df-container\">\n",
              "      <div>\n",
              "<style scoped>\n",
              "    .dataframe tbody tr th:only-of-type {\n",
              "        vertical-align: middle;\n",
              "    }\n",
              "\n",
              "    .dataframe tbody tr th {\n",
              "        vertical-align: top;\n",
              "    }\n",
              "\n",
              "    .dataframe thead th {\n",
              "        text-align: right;\n",
              "    }\n",
              "</style>\n",
              "<table border=\"1\" class=\"dataframe\">\n",
              "  <thead>\n",
              "    <tr style=\"text-align: right;\">\n",
              "      <th></th>\n",
              "      <th>rally</th>\n",
              "      <th>serve</th>\n",
              "      <th>hitpoint</th>\n",
              "      <th>speed</th>\n",
              "      <th>net.clearance</th>\n",
              "      <th>distance.from.sideline</th>\n",
              "      <th>depth</th>\n",
              "      <th>outside.sideline</th>\n",
              "      <th>outside.baseline</th>\n",
              "      <th>player.distance.travelled</th>\n",
              "      <th>...</th>\n",
              "      <th>previous.distance.from.sideline</th>\n",
              "      <th>previous.depth</th>\n",
              "      <th>opponent.depth</th>\n",
              "      <th>opponent.distance.from.center</th>\n",
              "      <th>same.side</th>\n",
              "      <th>previous.hitpoint</th>\n",
              "      <th>previous.time.to.net</th>\n",
              "      <th>server.is.impact.player</th>\n",
              "      <th>outcome</th>\n",
              "      <th>gender</th>\n",
              "    </tr>\n",
              "  </thead>\n",
              "  <tbody>\n",
              "    <tr>\n",
              "      <th>count</th>\n",
              "      <td>8001.000000</td>\n",
              "      <td>8001</td>\n",
              "      <td>8001</td>\n",
              "      <td>8001.000000</td>\n",
              "      <td>8001.000000</td>\n",
              "      <td>8001.000000</td>\n",
              "      <td>8001.000000</td>\n",
              "      <td>8001</td>\n",
              "      <td>8001</td>\n",
              "      <td>8001.000000</td>\n",
              "      <td>...</td>\n",
              "      <td>8001.000000</td>\n",
              "      <td>8001.000000</td>\n",
              "      <td>8001.000000</td>\n",
              "      <td>8001.000000</td>\n",
              "      <td>8001</td>\n",
              "      <td>8001</td>\n",
              "      <td>8001.000000</td>\n",
              "      <td>8001</td>\n",
              "      <td>8001</td>\n",
              "      <td>8001</td>\n",
              "    </tr>\n",
              "    <tr>\n",
              "      <th>unique</th>\n",
              "      <td>NaN</td>\n",
              "      <td>2</td>\n",
              "      <td>4</td>\n",
              "      <td>NaN</td>\n",
              "      <td>NaN</td>\n",
              "      <td>NaN</td>\n",
              "      <td>NaN</td>\n",
              "      <td>2</td>\n",
              "      <td>2</td>\n",
              "      <td>NaN</td>\n",
              "      <td>...</td>\n",
              "      <td>NaN</td>\n",
              "      <td>NaN</td>\n",
              "      <td>NaN</td>\n",
              "      <td>NaN</td>\n",
              "      <td>2</td>\n",
              "      <td>4</td>\n",
              "      <td>NaN</td>\n",
              "      <td>2</td>\n",
              "      <td>3</td>\n",
              "      <td>2</td>\n",
              "    </tr>\n",
              "    <tr>\n",
              "      <th>top</th>\n",
              "      <td>NaN</td>\n",
              "      <td>1</td>\n",
              "      <td>F</td>\n",
              "      <td>NaN</td>\n",
              "      <td>NaN</td>\n",
              "      <td>NaN</td>\n",
              "      <td>NaN</td>\n",
              "      <td>False</td>\n",
              "      <td>False</td>\n",
              "      <td>NaN</td>\n",
              "      <td>...</td>\n",
              "      <td>NaN</td>\n",
              "      <td>NaN</td>\n",
              "      <td>NaN</td>\n",
              "      <td>NaN</td>\n",
              "      <td>False</td>\n",
              "      <td>F</td>\n",
              "      <td>NaN</td>\n",
              "      <td>True</td>\n",
              "      <td>UE</td>\n",
              "      <td>mens</td>\n",
              "    </tr>\n",
              "    <tr>\n",
              "      <th>freq</th>\n",
              "      <td>NaN</td>\n",
              "      <td>4811</td>\n",
              "      <td>4402</td>\n",
              "      <td>NaN</td>\n",
              "      <td>NaN</td>\n",
              "      <td>NaN</td>\n",
              "      <td>NaN</td>\n",
              "      <td>6500</td>\n",
              "      <td>6380</td>\n",
              "      <td>NaN</td>\n",
              "      <td>...</td>\n",
              "      <td>NaN</td>\n",
              "      <td>NaN</td>\n",
              "      <td>NaN</td>\n",
              "      <td>NaN</td>\n",
              "      <td>6036</td>\n",
              "      <td>3684</td>\n",
              "      <td>NaN</td>\n",
              "      <td>4670</td>\n",
              "      <td>3501</td>\n",
              "      <td>4005</td>\n",
              "    </tr>\n",
              "    <tr>\n",
              "      <th>mean</th>\n",
              "      <td>5.966004</td>\n",
              "      <td>NaN</td>\n",
              "      <td>NaN</td>\n",
              "      <td>30.806938</td>\n",
              "      <td>0.629658</td>\n",
              "      <td>1.467630</td>\n",
              "      <td>4.421146</td>\n",
              "      <td>NaN</td>\n",
              "      <td>NaN</td>\n",
              "      <td>2.690463</td>\n",
              "      <td>...</td>\n",
              "      <td>2.193420</td>\n",
              "      <td>4.218717</td>\n",
              "      <td>12.616810</td>\n",
              "      <td>2.367952</td>\n",
              "      <td>NaN</td>\n",
              "      <td>NaN</td>\n",
              "      <td>0.549988</td>\n",
              "      <td>NaN</td>\n",
              "      <td>NaN</td>\n",
              "      <td>NaN</td>\n",
              "    </tr>\n",
              "    <tr>\n",
              "      <th>std</th>\n",
              "      <td>3.548182</td>\n",
              "      <td>NaN</td>\n",
              "      <td>NaN</td>\n",
              "      <td>7.298917</td>\n",
              "      <td>0.982504</td>\n",
              "      <td>1.108697</td>\n",
              "      <td>3.144965</td>\n",
              "      <td>NaN</td>\n",
              "      <td>NaN</td>\n",
              "      <td>1.713136</td>\n",
              "      <td>...</td>\n",
              "      <td>1.038942</td>\n",
              "      <td>2.052946</td>\n",
              "      <td>2.075401</td>\n",
              "      <td>1.313927</td>\n",
              "      <td>NaN</td>\n",
              "      <td>NaN</td>\n",
              "      <td>0.186788</td>\n",
              "      <td>NaN</td>\n",
              "      <td>NaN</td>\n",
              "      <td>NaN</td>\n",
              "    </tr>\n",
              "    <tr>\n",
              "      <th>min</th>\n",
              "      <td>3.000000</td>\n",
              "      <td>NaN</td>\n",
              "      <td>NaN</td>\n",
              "      <td>5.176078</td>\n",
              "      <td>-0.998184</td>\n",
              "      <td>0.000497</td>\n",
              "      <td>0.003135</td>\n",
              "      <td>NaN</td>\n",
              "      <td>NaN</td>\n",
              "      <td>0.000000</td>\n",
              "      <td>...</td>\n",
              "      <td>0.000164</td>\n",
              "      <td>0.000467</td>\n",
              "      <td>2.161200</td>\n",
              "      <td>0.000200</td>\n",
              "      <td>NaN</td>\n",
              "      <td>NaN</td>\n",
              "      <td>0.003201</td>\n",
              "      <td>NaN</td>\n",
              "      <td>NaN</td>\n",
              "      <td>NaN</td>\n",
              "    </tr>\n",
              "    <tr>\n",
              "      <th>25%</th>\n",
              "      <td>3.000000</td>\n",
              "      <td>NaN</td>\n",
              "      <td>NaN</td>\n",
              "      <td>26.770290</td>\n",
              "      <td>-0.027092</td>\n",
              "      <td>0.539500</td>\n",
              "      <td>1.641161</td>\n",
              "      <td>NaN</td>\n",
              "      <td>NaN</td>\n",
              "      <td>1.444233</td>\n",
              "      <td>...</td>\n",
              "      <td>1.354458</td>\n",
              "      <td>2.733674</td>\n",
              "      <td>12.082400</td>\n",
              "      <td>1.352200</td>\n",
              "      <td>NaN</td>\n",
              "      <td>NaN</td>\n",
              "      <td>0.432164</td>\n",
              "      <td>NaN</td>\n",
              "      <td>NaN</td>\n",
              "      <td>NaN</td>\n",
              "    </tr>\n",
              "    <tr>\n",
              "      <th>50%</th>\n",
              "      <td>5.000000</td>\n",
              "      <td>NaN</td>\n",
              "      <td>NaN</td>\n",
              "      <td>32.417690</td>\n",
              "      <td>0.445870</td>\n",
              "      <td>1.210847</td>\n",
              "      <td>3.860266</td>\n",
              "      <td>NaN</td>\n",
              "      <td>NaN</td>\n",
              "      <td>2.360894</td>\n",
              "      <td>...</td>\n",
              "      <td>2.168822</td>\n",
              "      <td>4.126864</td>\n",
              "      <td>12.901600</td>\n",
              "      <td>2.332000</td>\n",
              "      <td>NaN</td>\n",
              "      <td>NaN</td>\n",
              "      <td>0.507559</td>\n",
              "      <td>NaN</td>\n",
              "      <td>NaN</td>\n",
              "      <td>NaN</td>\n",
              "    </tr>\n",
              "    <tr>\n",
              "      <th>75%</th>\n",
              "      <td>7.000000</td>\n",
              "      <td>NaN</td>\n",
              "      <td>NaN</td>\n",
              "      <td>35.681431</td>\n",
              "      <td>0.970844</td>\n",
              "      <td>2.215955</td>\n",
              "      <td>7.029345</td>\n",
              "      <td>NaN</td>\n",
              "      <td>NaN</td>\n",
              "      <td>3.565853</td>\n",
              "      <td>...</td>\n",
              "      <td>3.022677</td>\n",
              "      <td>5.595515</td>\n",
              "      <td>13.712800</td>\n",
              "      <td>3.259000</td>\n",
              "      <td>NaN</td>\n",
              "      <td>NaN</td>\n",
              "      <td>0.624135</td>\n",
              "      <td>NaN</td>\n",
              "      <td>NaN</td>\n",
              "      <td>NaN</td>\n",
              "    </tr>\n",
              "    <tr>\n",
              "      <th>max</th>\n",
              "      <td>38.000000</td>\n",
              "      <td>NaN</td>\n",
              "      <td>NaN</td>\n",
              "      <td>55.052795</td>\n",
              "      <td>12.815893</td>\n",
              "      <td>7.569757</td>\n",
              "      <td>11.886069</td>\n",
              "      <td>NaN</td>\n",
              "      <td>NaN</td>\n",
              "      <td>14.480546</td>\n",
              "      <td>...</td>\n",
              "      <td>4.114361</td>\n",
              "      <td>9.997963</td>\n",
              "      <td>20.211000</td>\n",
              "      <td>6.852600</td>\n",
              "      <td>NaN</td>\n",
              "      <td>NaN</td>\n",
              "      <td>1.635257</td>\n",
              "      <td>NaN</td>\n",
              "      <td>NaN</td>\n",
              "      <td>NaN</td>\n",
              "    </tr>\n",
              "  </tbody>\n",
              "</table>\n",
              "<p>11 rows × 26 columns</p>\n",
              "</div>\n",
              "      <button class=\"colab-df-convert\" onclick=\"convertToInteractive('df-9e902640-ec34-404a-ae6d-2913b38ba475')\"\n",
              "              title=\"Convert this dataframe to an interactive table.\"\n",
              "              style=\"display:none;\">\n",
              "        \n",
              "  <svg xmlns=\"http://www.w3.org/2000/svg\" height=\"24px\"viewBox=\"0 0 24 24\"\n",
              "       width=\"24px\">\n",
              "    <path d=\"M0 0h24v24H0V0z\" fill=\"none\"/>\n",
              "    <path d=\"M18.56 5.44l.94 2.06.94-2.06 2.06-.94-2.06-.94-.94-2.06-.94 2.06-2.06.94zm-11 1L8.5 8.5l.94-2.06 2.06-.94-2.06-.94L8.5 2.5l-.94 2.06-2.06.94zm10 10l.94 2.06.94-2.06 2.06-.94-2.06-.94-.94-2.06-.94 2.06-2.06.94z\"/><path d=\"M17.41 7.96l-1.37-1.37c-.4-.4-.92-.59-1.43-.59-.52 0-1.04.2-1.43.59L10.3 9.45l-7.72 7.72c-.78.78-.78 2.05 0 2.83L4 21.41c.39.39.9.59 1.41.59.51 0 1.02-.2 1.41-.59l7.78-7.78 2.81-2.81c.8-.78.8-2.07 0-2.86zM5.41 20L4 18.59l7.72-7.72 1.47 1.35L5.41 20z\"/>\n",
              "  </svg>\n",
              "      </button>\n",
              "      \n",
              "  <style>\n",
              "    .colab-df-container {\n",
              "      display:flex;\n",
              "      flex-wrap:wrap;\n",
              "      gap: 12px;\n",
              "    }\n",
              "\n",
              "    .colab-df-convert {\n",
              "      background-color: #E8F0FE;\n",
              "      border: none;\n",
              "      border-radius: 50%;\n",
              "      cursor: pointer;\n",
              "      display: none;\n",
              "      fill: #1967D2;\n",
              "      height: 32px;\n",
              "      padding: 0 0 0 0;\n",
              "      width: 32px;\n",
              "    }\n",
              "\n",
              "    .colab-df-convert:hover {\n",
              "      background-color: #E2EBFA;\n",
              "      box-shadow: 0px 1px 2px rgba(60, 64, 67, 0.3), 0px 1px 3px 1px rgba(60, 64, 67, 0.15);\n",
              "      fill: #174EA6;\n",
              "    }\n",
              "\n",
              "    [theme=dark] .colab-df-convert {\n",
              "      background-color: #3B4455;\n",
              "      fill: #D2E3FC;\n",
              "    }\n",
              "\n",
              "    [theme=dark] .colab-df-convert:hover {\n",
              "      background-color: #434B5C;\n",
              "      box-shadow: 0px 1px 3px 1px rgba(0, 0, 0, 0.15);\n",
              "      filter: drop-shadow(0px 1px 2px rgba(0, 0, 0, 0.3));\n",
              "      fill: #FFFFFF;\n",
              "    }\n",
              "  </style>\n",
              "\n",
              "      <script>\n",
              "        const buttonEl =\n",
              "          document.querySelector('#df-9e902640-ec34-404a-ae6d-2913b38ba475 button.colab-df-convert');\n",
              "        buttonEl.style.display =\n",
              "          google.colab.kernel.accessAllowed ? 'block' : 'none';\n",
              "\n",
              "        async function convertToInteractive(key) {\n",
              "          const element = document.querySelector('#df-9e902640-ec34-404a-ae6d-2913b38ba475');\n",
              "          const dataTable =\n",
              "            await google.colab.kernel.invokeFunction('convertToInteractive',\n",
              "                                                     [key], {});\n",
              "          if (!dataTable) return;\n",
              "\n",
              "          const docLinkHtml = 'Like what you see? Visit the ' +\n",
              "            '<a target=\"_blank\" href=https://colab.research.google.com/notebooks/data_table.ipynb>data table notebook</a>'\n",
              "            + ' to learn more about interactive tables.';\n",
              "          element.innerHTML = '';\n",
              "          dataTable['output_type'] = 'display_data';\n",
              "          await google.colab.output.renderOutput(dataTable, element);\n",
              "          const docLink = document.createElement('div');\n",
              "          docLink.innerHTML = docLinkHtml;\n",
              "          element.appendChild(docLink);\n",
              "        }\n",
              "      </script>\n",
              "    </div>\n",
              "  </div>\n",
              "  "
            ]
          },
          "metadata": {},
          "execution_count": 13
        }
      ],
      "source": [
        "data.describe(include='all')"
      ]
    },
    {
      "cell_type": "markdown",
      "metadata": {
        "id": "rPYPeydsr3om"
      },
      "source": [
        "# Convert Categorical to dummies(pd.get_dummies)"
      ]
    },
    {
      "cell_type": "code",
      "execution_count": null,
      "metadata": {
        "id": "3fXBQoEIr3on",
        "outputId": "5160113a-52da-4424-9329-e2206b8a1998",
        "colab": {
          "base_uri": "https://localhost:8080/"
        }
      },
      "outputs": [
        {
          "output_type": "execute_result",
          "data": {
            "text/plain": [
              "rally                                   int64\n",
              "speed                                 float64\n",
              "net.clearance                         float64\n",
              "distance.from.sideline                float64\n",
              "depth                                 float64\n",
              "player.distance.travelled             float64\n",
              "player.impact.depth                   float64\n",
              "player.impact.distance.from.center    float64\n",
              "player.depth                          float64\n",
              "player.distance.from.center           float64\n",
              "previous.speed                        float64\n",
              "previous.net.clearance                float64\n",
              "previous.distance.from.sideline       float64\n",
              "previous.depth                        float64\n",
              "opponent.depth                        float64\n",
              "opponent.distance.from.center         float64\n",
              "previous.time.to.net                  float64\n",
              "serve_1                                 uint8\n",
              "serve_2                                 uint8\n",
              "hitpoint_B                              uint8\n",
              "hitpoint_F                              uint8\n",
              "hitpoint_U                              uint8\n",
              "hitpoint_V                              uint8\n",
              "outside.sideline_False                  uint8\n",
              "outside.sideline_True                   uint8\n",
              "outside.baseline_False                  uint8\n",
              "outside.baseline_True                   uint8\n",
              "same.side_False                         uint8\n",
              "same.side_True                          uint8\n",
              "previous.hitpoint_B                     uint8\n",
              "previous.hitpoint_F                     uint8\n",
              "previous.hitpoint_U                     uint8\n",
              "previous.hitpoint_V                     uint8\n",
              "server.is.impact.player_False           uint8\n",
              "server.is.impact.player_True            uint8\n",
              "gender_mens                             uint8\n",
              "gender_womens                           uint8\n",
              "dtype: object"
            ]
          },
          "metadata": {},
          "execution_count": 14
        }
      ],
      "source": [
        "data_dummy=data.copy()\n",
        "data_dummy.drop('outcome',axis=1,inplace=True)\n",
        "data_dummy=pd.get_dummies(data_dummy)\n",
        "data_dummy.dtypes"
      ]
    },
    {
      "cell_type": "code",
      "execution_count": null,
      "metadata": {
        "id": "zyzbS5Xnr3oo",
        "outputId": "6246e6a2-9a2f-4db4-f504-6e94efdf1fba",
        "colab": {
          "base_uri": "https://localhost:8080/",
          "height": 331
        }
      },
      "outputs": [
        {
          "output_type": "execute_result",
          "data": {
            "text/plain": [
              "      rally      speed  net.clearance  distance.from.sideline     depth  \\\n",
              "ID                                                                        \n",
              "8644      4  35.515042      -0.021725                3.474766  6.797621   \n",
              "1182      4  33.382640       1.114202                2.540801  2.608708   \n",
              "9042     23  22.316690      -0.254046                3.533166  9.435749   \n",
              "1222      9  36.837309       0.766694                0.586885  3.342180   \n",
              "4085      4  35.544208       0.116162                0.918725  5.499119   \n",
              "\n",
              "      player.distance.travelled  player.impact.depth  \\\n",
              "ID                                                     \n",
              "8644                   1.467570              14.1758   \n",
              "1182                   2.311931              12.7396   \n",
              "9042                   3.903728              15.3782   \n",
              "1222                   0.583745              13.7308   \n",
              "4085                   2.333456              15.1992   \n",
              "\n",
              "      player.impact.distance.from.center  player.depth  \\\n",
              "ID                                                       \n",
              "8644                              1.1448       13.6704   \n",
              "1182                              4.6258       12.6358   \n",
              "9042                              1.4336       13.6996   \n",
              "1222                              0.0312       13.1492   \n",
              "4085                              1.7596       14.1310   \n",
              "\n",
              "      player.distance.from.center  ...  same.side_False  same.side_True  \\\n",
              "ID                                 ...                                    \n",
              "8644                       0.2330  ...                0               1   \n",
              "1182                       2.3162  ...                1               0   \n",
              "9042                       2.0908  ...                1               0   \n",
              "1222                       0.0188  ...                0               1   \n",
              "4085                       0.3150  ...                1               0   \n",
              "\n",
              "      previous.hitpoint_B  previous.hitpoint_F  previous.hitpoint_U  \\\n",
              "ID                                                                    \n",
              "8644                    0                    1                    0   \n",
              "1182                    1                    0                    0   \n",
              "9042                    0                    1                    0   \n",
              "1222                    1                    0                    0   \n",
              "4085                    0                    1                    0   \n",
              "\n",
              "      previous.hitpoint_V  server.is.impact.player_False  \\\n",
              "ID                                                         \n",
              "8644                    0                              1   \n",
              "1182                    0                              1   \n",
              "9042                    0                              0   \n",
              "1222                    0                              0   \n",
              "4085                    0                              1   \n",
              "\n",
              "      server.is.impact.player_True  gender_mens  gender_womens  \n",
              "ID                                                              \n",
              "8644                             0            1              0  \n",
              "1182                             0            1              0  \n",
              "9042                             1            1              0  \n",
              "1222                             1            1              0  \n",
              "4085                             0            1              0  \n",
              "\n",
              "[5 rows x 37 columns]"
            ],
            "text/html": [
              "\n",
              "  <div id=\"df-a992e513-1957-4ebb-bc99-75c4bff0f12f\">\n",
              "    <div class=\"colab-df-container\">\n",
              "      <div>\n",
              "<style scoped>\n",
              "    .dataframe tbody tr th:only-of-type {\n",
              "        vertical-align: middle;\n",
              "    }\n",
              "\n",
              "    .dataframe tbody tr th {\n",
              "        vertical-align: top;\n",
              "    }\n",
              "\n",
              "    .dataframe thead th {\n",
              "        text-align: right;\n",
              "    }\n",
              "</style>\n",
              "<table border=\"1\" class=\"dataframe\">\n",
              "  <thead>\n",
              "    <tr style=\"text-align: right;\">\n",
              "      <th></th>\n",
              "      <th>rally</th>\n",
              "      <th>speed</th>\n",
              "      <th>net.clearance</th>\n",
              "      <th>distance.from.sideline</th>\n",
              "      <th>depth</th>\n",
              "      <th>player.distance.travelled</th>\n",
              "      <th>player.impact.depth</th>\n",
              "      <th>player.impact.distance.from.center</th>\n",
              "      <th>player.depth</th>\n",
              "      <th>player.distance.from.center</th>\n",
              "      <th>...</th>\n",
              "      <th>same.side_False</th>\n",
              "      <th>same.side_True</th>\n",
              "      <th>previous.hitpoint_B</th>\n",
              "      <th>previous.hitpoint_F</th>\n",
              "      <th>previous.hitpoint_U</th>\n",
              "      <th>previous.hitpoint_V</th>\n",
              "      <th>server.is.impact.player_False</th>\n",
              "      <th>server.is.impact.player_True</th>\n",
              "      <th>gender_mens</th>\n",
              "      <th>gender_womens</th>\n",
              "    </tr>\n",
              "    <tr>\n",
              "      <th>ID</th>\n",
              "      <th></th>\n",
              "      <th></th>\n",
              "      <th></th>\n",
              "      <th></th>\n",
              "      <th></th>\n",
              "      <th></th>\n",
              "      <th></th>\n",
              "      <th></th>\n",
              "      <th></th>\n",
              "      <th></th>\n",
              "      <th></th>\n",
              "      <th></th>\n",
              "      <th></th>\n",
              "      <th></th>\n",
              "      <th></th>\n",
              "      <th></th>\n",
              "      <th></th>\n",
              "      <th></th>\n",
              "      <th></th>\n",
              "      <th></th>\n",
              "      <th></th>\n",
              "    </tr>\n",
              "  </thead>\n",
              "  <tbody>\n",
              "    <tr>\n",
              "      <th>8644</th>\n",
              "      <td>4</td>\n",
              "      <td>35.515042</td>\n",
              "      <td>-0.021725</td>\n",
              "      <td>3.474766</td>\n",
              "      <td>6.797621</td>\n",
              "      <td>1.467570</td>\n",
              "      <td>14.1758</td>\n",
              "      <td>1.1448</td>\n",
              "      <td>13.6704</td>\n",
              "      <td>0.2330</td>\n",
              "      <td>...</td>\n",
              "      <td>0</td>\n",
              "      <td>1</td>\n",
              "      <td>0</td>\n",
              "      <td>1</td>\n",
              "      <td>0</td>\n",
              "      <td>0</td>\n",
              "      <td>1</td>\n",
              "      <td>0</td>\n",
              "      <td>1</td>\n",
              "      <td>0</td>\n",
              "    </tr>\n",
              "    <tr>\n",
              "      <th>1182</th>\n",
              "      <td>4</td>\n",
              "      <td>33.382640</td>\n",
              "      <td>1.114202</td>\n",
              "      <td>2.540801</td>\n",
              "      <td>2.608708</td>\n",
              "      <td>2.311931</td>\n",
              "      <td>12.7396</td>\n",
              "      <td>4.6258</td>\n",
              "      <td>12.6358</td>\n",
              "      <td>2.3162</td>\n",
              "      <td>...</td>\n",
              "      <td>1</td>\n",
              "      <td>0</td>\n",
              "      <td>1</td>\n",
              "      <td>0</td>\n",
              "      <td>0</td>\n",
              "      <td>0</td>\n",
              "      <td>1</td>\n",
              "      <td>0</td>\n",
              "      <td>1</td>\n",
              "      <td>0</td>\n",
              "    </tr>\n",
              "    <tr>\n",
              "      <th>9042</th>\n",
              "      <td>23</td>\n",
              "      <td>22.316690</td>\n",
              "      <td>-0.254046</td>\n",
              "      <td>3.533166</td>\n",
              "      <td>9.435749</td>\n",
              "      <td>3.903728</td>\n",
              "      <td>15.3782</td>\n",
              "      <td>1.4336</td>\n",
              "      <td>13.6996</td>\n",
              "      <td>2.0908</td>\n",
              "      <td>...</td>\n",
              "      <td>1</td>\n",
              "      <td>0</td>\n",
              "      <td>0</td>\n",
              "      <td>1</td>\n",
              "      <td>0</td>\n",
              "      <td>0</td>\n",
              "      <td>0</td>\n",
              "      <td>1</td>\n",
              "      <td>1</td>\n",
              "      <td>0</td>\n",
              "    </tr>\n",
              "    <tr>\n",
              "      <th>1222</th>\n",
              "      <td>9</td>\n",
              "      <td>36.837309</td>\n",
              "      <td>0.766694</td>\n",
              "      <td>0.586885</td>\n",
              "      <td>3.342180</td>\n",
              "      <td>0.583745</td>\n",
              "      <td>13.7308</td>\n",
              "      <td>0.0312</td>\n",
              "      <td>13.1492</td>\n",
              "      <td>0.0188</td>\n",
              "      <td>...</td>\n",
              "      <td>0</td>\n",
              "      <td>1</td>\n",
              "      <td>1</td>\n",
              "      <td>0</td>\n",
              "      <td>0</td>\n",
              "      <td>0</td>\n",
              "      <td>0</td>\n",
              "      <td>1</td>\n",
              "      <td>1</td>\n",
              "      <td>0</td>\n",
              "    </tr>\n",
              "    <tr>\n",
              "      <th>4085</th>\n",
              "      <td>4</td>\n",
              "      <td>35.544208</td>\n",
              "      <td>0.116162</td>\n",
              "      <td>0.918725</td>\n",
              "      <td>5.499119</td>\n",
              "      <td>2.333456</td>\n",
              "      <td>15.1992</td>\n",
              "      <td>1.7596</td>\n",
              "      <td>14.1310</td>\n",
              "      <td>0.3150</td>\n",
              "      <td>...</td>\n",
              "      <td>1</td>\n",
              "      <td>0</td>\n",
              "      <td>0</td>\n",
              "      <td>1</td>\n",
              "      <td>0</td>\n",
              "      <td>0</td>\n",
              "      <td>1</td>\n",
              "      <td>0</td>\n",
              "      <td>1</td>\n",
              "      <td>0</td>\n",
              "    </tr>\n",
              "  </tbody>\n",
              "</table>\n",
              "<p>5 rows × 37 columns</p>\n",
              "</div>\n",
              "      <button class=\"colab-df-convert\" onclick=\"convertToInteractive('df-a992e513-1957-4ebb-bc99-75c4bff0f12f')\"\n",
              "              title=\"Convert this dataframe to an interactive table.\"\n",
              "              style=\"display:none;\">\n",
              "        \n",
              "  <svg xmlns=\"http://www.w3.org/2000/svg\" height=\"24px\"viewBox=\"0 0 24 24\"\n",
              "       width=\"24px\">\n",
              "    <path d=\"M0 0h24v24H0V0z\" fill=\"none\"/>\n",
              "    <path d=\"M18.56 5.44l.94 2.06.94-2.06 2.06-.94-2.06-.94-.94-2.06-.94 2.06-2.06.94zm-11 1L8.5 8.5l.94-2.06 2.06-.94-2.06-.94L8.5 2.5l-.94 2.06-2.06.94zm10 10l.94 2.06.94-2.06 2.06-.94-2.06-.94-.94-2.06-.94 2.06-2.06.94z\"/><path d=\"M17.41 7.96l-1.37-1.37c-.4-.4-.92-.59-1.43-.59-.52 0-1.04.2-1.43.59L10.3 9.45l-7.72 7.72c-.78.78-.78 2.05 0 2.83L4 21.41c.39.39.9.59 1.41.59.51 0 1.02-.2 1.41-.59l7.78-7.78 2.81-2.81c.8-.78.8-2.07 0-2.86zM5.41 20L4 18.59l7.72-7.72 1.47 1.35L5.41 20z\"/>\n",
              "  </svg>\n",
              "      </button>\n",
              "      \n",
              "  <style>\n",
              "    .colab-df-container {\n",
              "      display:flex;\n",
              "      flex-wrap:wrap;\n",
              "      gap: 12px;\n",
              "    }\n",
              "\n",
              "    .colab-df-convert {\n",
              "      background-color: #E8F0FE;\n",
              "      border: none;\n",
              "      border-radius: 50%;\n",
              "      cursor: pointer;\n",
              "      display: none;\n",
              "      fill: #1967D2;\n",
              "      height: 32px;\n",
              "      padding: 0 0 0 0;\n",
              "      width: 32px;\n",
              "    }\n",
              "\n",
              "    .colab-df-convert:hover {\n",
              "      background-color: #E2EBFA;\n",
              "      box-shadow: 0px 1px 2px rgba(60, 64, 67, 0.3), 0px 1px 3px 1px rgba(60, 64, 67, 0.15);\n",
              "      fill: #174EA6;\n",
              "    }\n",
              "\n",
              "    [theme=dark] .colab-df-convert {\n",
              "      background-color: #3B4455;\n",
              "      fill: #D2E3FC;\n",
              "    }\n",
              "\n",
              "    [theme=dark] .colab-df-convert:hover {\n",
              "      background-color: #434B5C;\n",
              "      box-shadow: 0px 1px 3px 1px rgba(0, 0, 0, 0.15);\n",
              "      filter: drop-shadow(0px 1px 2px rgba(0, 0, 0, 0.3));\n",
              "      fill: #FFFFFF;\n",
              "    }\n",
              "  </style>\n",
              "\n",
              "      <script>\n",
              "        const buttonEl =\n",
              "          document.querySelector('#df-a992e513-1957-4ebb-bc99-75c4bff0f12f button.colab-df-convert');\n",
              "        buttonEl.style.display =\n",
              "          google.colab.kernel.accessAllowed ? 'block' : 'none';\n",
              "\n",
              "        async function convertToInteractive(key) {\n",
              "          const element = document.querySelector('#df-a992e513-1957-4ebb-bc99-75c4bff0f12f');\n",
              "          const dataTable =\n",
              "            await google.colab.kernel.invokeFunction('convertToInteractive',\n",
              "                                                     [key], {});\n",
              "          if (!dataTable) return;\n",
              "\n",
              "          const docLinkHtml = 'Like what you see? Visit the ' +\n",
              "            '<a target=\"_blank\" href=https://colab.research.google.com/notebooks/data_table.ipynb>data table notebook</a>'\n",
              "            + ' to learn more about interactive tables.';\n",
              "          element.innerHTML = '';\n",
              "          dataTable['output_type'] = 'display_data';\n",
              "          await google.colab.output.renderOutput(dataTable, element);\n",
              "          const docLink = document.createElement('div');\n",
              "          docLink.innerHTML = docLinkHtml;\n",
              "          element.appendChild(docLink);\n",
              "        }\n",
              "      </script>\n",
              "    </div>\n",
              "  </div>\n",
              "  "
            ]
          },
          "metadata": {},
          "execution_count": 15
        }
      ],
      "source": [
        "data_dummy.head(5)"
      ]
    },
    {
      "cell_type": "markdown",
      "metadata": {
        "id": "dW39A-Vyr3oo"
      },
      "source": [
        "# SPLIT THE data in to train and test(use sklearn package)"
      ]
    },
    {
      "cell_type": "code",
      "execution_count": null,
      "metadata": {
        "id": "l5xjVEENr3op"
      },
      "outputs": [],
      "source": [
        "from sklearn.model_selection import train_test_split"
      ]
    },
    {
      "cell_type": "code",
      "execution_count": null,
      "metadata": {
        "id": "9OSvLQIdr3op"
      },
      "outputs": [],
      "source": [
        "# Divide in to train and test\n",
        "Y=data[\"outcome\"] \n",
        "X=data_dummy\n",
        "X_train, X_test, y_train, y_test = train_test_split(X, Y, test_size=0.20)  "
      ]
    },
    {
      "cell_type": "code",
      "execution_count": null,
      "metadata": {
        "id": "wj26cjNIr3op",
        "outputId": "126c7a53-1ba3-4fbc-fda7-bb9ed97c2d05",
        "colab": {
          "base_uri": "https://localhost:8080/"
        }
      },
      "outputs": [
        {
          "output_type": "stream",
          "name": "stdout",
          "text": [
            "(6400, 37)\n",
            "(1601, 37)\n",
            "(6400,)\n",
            "(1601,)\n"
          ]
        }
      ],
      "source": [
        "print(X_train.shape)\n",
        "print(X_test.shape)\n",
        "print(y_train.shape)\n",
        "print(y_test.shape)"
      ]
    },
    {
      "cell_type": "markdown",
      "metadata": {
        "collapsed": true,
        "id": "fbBq0BFCr3oq"
      },
      "source": [
        "## Standardize the data (numerical attributes only)( import StandardScaler)"
      ]
    },
    {
      "cell_type": "code",
      "execution_count": null,
      "metadata": {
        "id": "sIKOGtCxr3oq"
      },
      "outputs": [],
      "source": [
        "from sklearn.preprocessing import StandardScaler"
      ]
    },
    {
      "cell_type": "code",
      "execution_count": null,
      "metadata": {
        "id": "U-5jCbPSr3oq"
      },
      "outputs": [],
      "source": [
        "num_atr=X_train.select_dtypes(['int64','float64']).columns"
      ]
    },
    {
      "cell_type": "code",
      "execution_count": null,
      "metadata": {
        "id": "S03CMlK_r3or",
        "outputId": "cfcc8d79-26b1-4ccc-ac31-89e95d2426a4",
        "colab": {
          "base_uri": "https://localhost:8080/"
        }
      },
      "outputs": [
        {
          "output_type": "execute_result",
          "data": {
            "text/plain": [
              "Index(['rally', 'speed', 'net.clearance', 'distance.from.sideline', 'depth',\n",
              "       'player.distance.travelled', 'player.impact.depth',\n",
              "       'player.impact.distance.from.center', 'player.depth',\n",
              "       'player.distance.from.center', 'previous.speed',\n",
              "       'previous.net.clearance', 'previous.distance.from.sideline',\n",
              "       'previous.depth', 'opponent.depth', 'opponent.distance.from.center',\n",
              "       'previous.time.to.net'],\n",
              "      dtype='object')"
            ]
          },
          "metadata": {},
          "execution_count": 21
        }
      ],
      "source": [
        "num_atr"
      ]
    },
    {
      "cell_type": "code",
      "execution_count": null,
      "metadata": {
        "id": "Esl4w_igr3or",
        "outputId": "4c71b8db-bdcb-40c5-8180-4e7df4864a3a",
        "colab": {
          "base_uri": "https://localhost:8080/"
        }
      },
      "outputs": [
        {
          "output_type": "execute_result",
          "data": {
            "text/plain": [
              "StandardScaler()"
            ]
          },
          "metadata": {},
          "execution_count": 22
        }
      ],
      "source": [
        "scaler = StandardScaler()\n",
        "scaler.fit(X_train[num_atr])"
      ]
    },
    {
      "cell_type": "code",
      "execution_count": null,
      "metadata": {
        "id": "XnO-M_sqr3or"
      },
      "outputs": [],
      "source": [
        "X_train[num_atr]=scaler.transform(X_train[num_atr])\n",
        "X_test[num_atr]=scaler.transform(X_test[num_atr])"
      ]
    },
    {
      "cell_type": "code",
      "execution_count": null,
      "metadata": {
        "id": "aOh7hgRpr3os",
        "outputId": "3ee4e6d2-ac9f-4e10-c512-b34ec02e670f",
        "colab": {
          "base_uri": "https://localhost:8080/"
        }
      },
      "outputs": [
        {
          "output_type": "stream",
          "name": "stdout",
          "text": [
            "(6400, 37)\n",
            "(1601, 37)\n"
          ]
        }
      ],
      "source": [
        "print(X_train.shape)\n",
        "print(X_test.shape)"
      ]
    },
    {
      "cell_type": "markdown",
      "metadata": {
        "id": "BF1ffQvhr3os"
      },
      "source": [
        "# Now It is time for Model BUilding "
      ]
    },
    {
      "cell_type": "markdown",
      "metadata": {
        "id": "Ig_wL-Cur3os"
      },
      "source": [
        "## Build AdaBoost Classifier"
      ]
    },
    {
      "cell_type": "code",
      "execution_count": null,
      "metadata": {
        "id": "OR4g8bfVr3ot"
      },
      "outputs": [],
      "source": [
        "X_train.iloc[0]"
      ]
    },
    {
      "cell_type": "code",
      "execution_count": null,
      "metadata": {
        "id": "tfz-iS7er3ot"
      },
      "outputs": [],
      "source": [
        "from sklearn.ensemble import AdaBoostClassifier"
      ]
    },
    {
      "cell_type": "code",
      "source": [
        "AdaBoostClassifier()"
      ],
      "metadata": {
        "id": "RfNDb_aO7pW5"
      },
      "execution_count": null,
      "outputs": []
    },
    {
      "cell_type": "code",
      "execution_count": null,
      "metadata": {
        "id": "4Olw9QfMr3ot",
        "outputId": "7cd631f5-b8a4-454d-f288-920dcbffbb0a",
        "colab": {
          "base_uri": "https://localhost:8080/"
        }
      },
      "outputs": [
        {
          "output_type": "stream",
          "name": "stdout",
          "text": [
            "CPU times: user 5.58 s, sys: 51.1 ms, total: 5.63 s\n",
            "Wall time: 5.61 s\n"
          ]
        },
        {
          "output_type": "execute_result",
          "data": {
            "text/plain": [
              "AdaBoostClassifier(learning_rate=1, n_estimators=200)"
            ]
          },
          "metadata": {},
          "execution_count": 26
        }
      ],
      "source": [
        "Adaboost_model = AdaBoostClassifier(n_estimators=200,\n",
        "                                    learning_rate=1)\n",
        "%time Adaboost_model.fit(X_train, y_train)"
      ]
    },
    {
      "cell_type": "code",
      "execution_count": null,
      "metadata": {
        "id": "cHN_TH0br3ou",
        "outputId": "ff23c9dc-396e-481e-ae3e-ac0128bc0424",
        "colab": {
          "base_uri": "https://localhost:8080/"
        }
      },
      "outputs": [
        {
          "output_type": "stream",
          "name": "stdout",
          "text": [
            "train accuracy: 0.85953125\n",
            "test accuracy: 0.8400999375390381\n"
          ]
        }
      ],
      "source": [
        "from sklearn.metrics import accuracy_score\n",
        "from sklearn.metrics import recall_score\n",
        "\n",
        "train_pred=Adaboost_model.predict(X_train)\n",
        "print(\"train accuracy:\",accuracy_score(y_train,train_pred))\n",
        "\n",
        "y_pred = Adaboost_model.predict(X_test)\n",
        "print(\"test accuracy:\",accuracy_score(y_test,y_pred))\n",
        "#print(confusion_matrix(y_test,y_pred))\n"
      ]
    },
    {
      "cell_type": "code",
      "source": [
        "from sklearn.metrics import confusion_matrix\n",
        "confusion_matrix(y_test,y_pred)"
      ],
      "metadata": {
        "colab": {
          "base_uri": "https://localhost:8080/"
        },
        "id": "k-JHvqU-7yP2",
        "outputId": "e457b667-9468-405f-c66a-b3bbe13da101"
      },
      "execution_count": null,
      "outputs": [
        {
          "output_type": "execute_result",
          "data": {
            "text/plain": [
              "array([[169,  72,  14],\n",
              "       [ 46, 351,  14],\n",
              "       [ 10,  15, 288]])"
            ]
          },
          "metadata": {},
          "execution_count": 44
        }
      ]
    },
    {
      "cell_type": "markdown",
      "metadata": {
        "id": "YaiMwGWir3ou"
      },
      "source": [
        "# GridSearch with Cross validation"
      ]
    },
    {
      "cell_type": "code",
      "execution_count": null,
      "metadata": {
        "id": "oIjxLt2Lr3ov",
        "outputId": "1ff1e552-7af9-40e3-ea12-f2d7edcfa3de",
        "colab": {
          "base_uri": "https://localhost:8080/"
        }
      },
      "outputs": [
        {
          "output_type": "stream",
          "name": "stdout",
          "text": [
            "CPU times: user 3min 2s, sys: 2.43 s, total: 3min 4s\n",
            "Wall time: 3min 4s\n",
            "0.8495311694232918 {'learning_rate': 0.4, 'n_estimators': 200}\n"
          ]
        }
      ],
      "source": [
        "from sklearn.model_selection import GridSearchCV\n",
        "Adaboost_model = AdaBoostClassifier()\n",
        " \n",
        "# Use a grid over parameters of interest\n",
        "param_grid = { 'learning_rate':[0.2,0.4,0.6],\n",
        "                'n_estimators':[100,200,300,400]}\n",
        " \n",
        "CV_ada = GridSearchCV(estimator=Adaboost_model, \n",
        "                      param_grid=param_grid, cv= 3)\n",
        "%time CV_ada.fit(X=X_train, y=y_train)\n",
        "print (CV_ada.best_score_, CV_ada.best_params_) "
      ]
    },
    {
      "cell_type": "code",
      "execution_count": null,
      "metadata": {
        "id": "ZitAFhExr3ov",
        "outputId": "e6070799-6717-4b31-f75f-145796d13840",
        "colab": {
          "base_uri": "https://localhost:8080/"
        }
      },
      "outputs": [
        {
          "output_type": "stream",
          "name": "stdout",
          "text": [
            "train accuracy: 0.86125\n",
            "test accuracy: 0.8519675202998126\n"
          ]
        }
      ],
      "source": [
        "train_pred=CV_ada.predict(X_train)\n",
        "print(\"train accuracy:\",accuracy_score(y_train,train_pred))\n",
        "y_pred = CV_ada.predict(X_test)\n",
        "print(\"test accuracy:\",accuracy_score(y_test,y_pred))"
      ]
    },
    {
      "cell_type": "markdown",
      "metadata": {
        "id": "_OqN0zc3r3ov"
      },
      "source": [
        "# GBM"
      ]
    },
    {
      "cell_type": "code",
      "execution_count": null,
      "metadata": {
        "id": "WbVM9ozWr3ow"
      },
      "outputs": [],
      "source": [
        "from sklearn.ensemble import GradientBoostingClassifier"
      ]
    },
    {
      "cell_type": "code",
      "source": [
        "GradientBoostingClassifier()"
      ],
      "metadata": {
        "id": "Y1HA8xd597MP"
      },
      "execution_count": null,
      "outputs": []
    },
    {
      "cell_type": "code",
      "execution_count": null,
      "metadata": {
        "id": "aah2_nPBr3ow",
        "outputId": "b76ea335-74cf-4546-8dca-e54539b39a3d",
        "colab": {
          "base_uri": "https://localhost:8080/"
        }
      },
      "outputs": [
        {
          "output_type": "stream",
          "name": "stdout",
          "text": [
            "CPU times: user 13.4 s, sys: 23.4 ms, total: 13.5 s\n",
            "Wall time: 13.4 s\n"
          ]
        },
        {
          "output_type": "execute_result",
          "data": {
            "text/plain": [
              "GradientBoostingClassifier(learning_rate=0.3)"
            ]
          },
          "metadata": {},
          "execution_count": 32
        }
      ],
      "source": [
        "gbm = GradientBoostingClassifier(n_estimators=100,\n",
        "                                 learning_rate=0.3)\n",
        "%time gbm.fit(X=X_train, y=y_train)"
      ]
    },
    {
      "cell_type": "code",
      "execution_count": null,
      "metadata": {
        "id": "I1dWJ3gTr3ow",
        "outputId": "f328426b-b5df-4ffb-b092-fba9712c60ef",
        "colab": {
          "base_uri": "https://localhost:8080/"
        }
      },
      "outputs": [
        {
          "output_type": "stream",
          "name": "stdout",
          "text": [
            "train accuracy: 0.96296875\n",
            "test accuracy: 0.8788257339163024\n"
          ]
        }
      ],
      "source": [
        "train_pred=gbm.predict(X_train)\n",
        "print(\"train accuracy:\",accuracy_score(y_train,train_pred))\n",
        "y_pred = gbm.predict(X_test)\n",
        "print(\"test accuracy:\",accuracy_score(y_test,y_pred))"
      ]
    },
    {
      "cell_type": "markdown",
      "metadata": {
        "id": "0xOzXc7Zr3ow"
      },
      "source": [
        "#### observation: differnce between train error and test error is huge; (Can we say This is overfitting; high varaince)\n",
        "#### decrease the variance: play with different max_features,depth,subsample values"
      ]
    },
    {
      "cell_type": "markdown",
      "metadata": {
        "id": "goZ8LRnXr3ox"
      },
      "source": [
        "# Grid Search with cross validation"
      ]
    },
    {
      "cell_type": "code",
      "execution_count": null,
      "metadata": {
        "id": "YfxPAx8Nr3ox",
        "outputId": "853a4f83-6def-46aa-b003-c2b46fc8f8f0",
        "colab": {
          "base_uri": "https://localhost:8080/",
          "height": 432
        }
      },
      "outputs": [
        {
          "output_type": "error",
          "ename": "KeyboardInterrupt",
          "evalue": "ignored",
          "traceback": [
            "\u001b[0;31m---------------------------------------------------------------------------\u001b[0m",
            "\u001b[0;31mKeyboardInterrupt\u001b[0m                         Traceback (most recent call last)",
            "\u001b[0;32m<ipython-input-35-6f7bb2b0c634>\u001b[0m in \u001b[0;36m<module>\u001b[0;34m()\u001b[0m\n\u001b[1;32m      8\u001b[0m CV_GBM = GridSearchCV(estimator=GBM,\n\u001b[1;32m      9\u001b[0m                       param_grid=param_grid, cv= 3)\n\u001b[0;32m---> 10\u001b[0;31m \u001b[0mget_ipython\u001b[0m\u001b[0;34m(\u001b[0m\u001b[0;34m)\u001b[0m\u001b[0;34m.\u001b[0m\u001b[0mmagic\u001b[0m\u001b[0;34m(\u001b[0m\u001b[0;34m'time CV_GBM.fit(X=X_train, y=y_train)'\u001b[0m\u001b[0;34m)\u001b[0m\u001b[0;34m\u001b[0m\u001b[0;34m\u001b[0m\u001b[0m\n\u001b[0m\u001b[1;32m     11\u001b[0m \u001b[0mprint\u001b[0m \u001b[0;34m(\u001b[0m\u001b[0mCV_GBM\u001b[0m\u001b[0;34m.\u001b[0m\u001b[0mbest_score_\u001b[0m\u001b[0;34m,\u001b[0m \u001b[0mCV_GBM\u001b[0m\u001b[0;34m.\u001b[0m\u001b[0mbest_params_\u001b[0m\u001b[0;34m)\u001b[0m\u001b[0;34m\u001b[0m\u001b[0;34m\u001b[0m\u001b[0m\n",
            "\u001b[0;32m/usr/local/lib/python3.7/dist-packages/IPython/core/interactiveshell.py\u001b[0m in \u001b[0;36mmagic\u001b[0;34m(self, arg_s)\u001b[0m\n\u001b[1;32m   2158\u001b[0m         \u001b[0mmagic_name\u001b[0m\u001b[0;34m,\u001b[0m \u001b[0m_\u001b[0m\u001b[0;34m,\u001b[0m \u001b[0mmagic_arg_s\u001b[0m \u001b[0;34m=\u001b[0m \u001b[0marg_s\u001b[0m\u001b[0;34m.\u001b[0m\u001b[0mpartition\u001b[0m\u001b[0;34m(\u001b[0m\u001b[0;34m' '\u001b[0m\u001b[0;34m)\u001b[0m\u001b[0;34m\u001b[0m\u001b[0;34m\u001b[0m\u001b[0m\n\u001b[1;32m   2159\u001b[0m         \u001b[0mmagic_name\u001b[0m \u001b[0;34m=\u001b[0m \u001b[0mmagic_name\u001b[0m\u001b[0;34m.\u001b[0m\u001b[0mlstrip\u001b[0m\u001b[0;34m(\u001b[0m\u001b[0mprefilter\u001b[0m\u001b[0;34m.\u001b[0m\u001b[0mESC_MAGIC\u001b[0m\u001b[0;34m)\u001b[0m\u001b[0;34m\u001b[0m\u001b[0;34m\u001b[0m\u001b[0m\n\u001b[0;32m-> 2160\u001b[0;31m         \u001b[0;32mreturn\u001b[0m \u001b[0mself\u001b[0m\u001b[0;34m.\u001b[0m\u001b[0mrun_line_magic\u001b[0m\u001b[0;34m(\u001b[0m\u001b[0mmagic_name\u001b[0m\u001b[0;34m,\u001b[0m \u001b[0mmagic_arg_s\u001b[0m\u001b[0;34m)\u001b[0m\u001b[0;34m\u001b[0m\u001b[0;34m\u001b[0m\u001b[0m\n\u001b[0m\u001b[1;32m   2161\u001b[0m \u001b[0;34m\u001b[0m\u001b[0m\n\u001b[1;32m   2162\u001b[0m     \u001b[0;31m#-------------------------------------------------------------------------\u001b[0m\u001b[0;34m\u001b[0m\u001b[0;34m\u001b[0m\u001b[0;34m\u001b[0m\u001b[0m\n",
            "\u001b[0;32m/usr/local/lib/python3.7/dist-packages/IPython/core/interactiveshell.py\u001b[0m in \u001b[0;36mrun_line_magic\u001b[0;34m(self, magic_name, line)\u001b[0m\n\u001b[1;32m   2079\u001b[0m                 \u001b[0mkwargs\u001b[0m\u001b[0;34m[\u001b[0m\u001b[0;34m'local_ns'\u001b[0m\u001b[0;34m]\u001b[0m \u001b[0;34m=\u001b[0m \u001b[0msys\u001b[0m\u001b[0;34m.\u001b[0m\u001b[0m_getframe\u001b[0m\u001b[0;34m(\u001b[0m\u001b[0mstack_depth\u001b[0m\u001b[0;34m)\u001b[0m\u001b[0;34m.\u001b[0m\u001b[0mf_locals\u001b[0m\u001b[0;34m\u001b[0m\u001b[0;34m\u001b[0m\u001b[0m\n\u001b[1;32m   2080\u001b[0m             \u001b[0;32mwith\u001b[0m \u001b[0mself\u001b[0m\u001b[0;34m.\u001b[0m\u001b[0mbuiltin_trap\u001b[0m\u001b[0;34m:\u001b[0m\u001b[0;34m\u001b[0m\u001b[0;34m\u001b[0m\u001b[0m\n\u001b[0;32m-> 2081\u001b[0;31m                 \u001b[0mresult\u001b[0m \u001b[0;34m=\u001b[0m \u001b[0mfn\u001b[0m\u001b[0;34m(\u001b[0m\u001b[0;34m*\u001b[0m\u001b[0margs\u001b[0m\u001b[0;34m,\u001b[0m\u001b[0;34m**\u001b[0m\u001b[0mkwargs\u001b[0m\u001b[0;34m)\u001b[0m\u001b[0;34m\u001b[0m\u001b[0;34m\u001b[0m\u001b[0m\n\u001b[0m\u001b[1;32m   2082\u001b[0m             \u001b[0;32mreturn\u001b[0m \u001b[0mresult\u001b[0m\u001b[0;34m\u001b[0m\u001b[0;34m\u001b[0m\u001b[0m\n\u001b[1;32m   2083\u001b[0m \u001b[0;34m\u001b[0m\u001b[0m\n",
            "\u001b[0;32m<decorator-gen-53>\u001b[0m in \u001b[0;36mtime\u001b[0;34m(self, line, cell, local_ns)\u001b[0m\n",
            "\u001b[0;32m/usr/local/lib/python3.7/dist-packages/IPython/core/magic.py\u001b[0m in \u001b[0;36m<lambda>\u001b[0;34m(f, *a, **k)\u001b[0m\n\u001b[1;32m    186\u001b[0m     \u001b[0;31m# but it's overkill for just that one bit of state.\u001b[0m\u001b[0;34m\u001b[0m\u001b[0;34m\u001b[0m\u001b[0;34m\u001b[0m\u001b[0m\n\u001b[1;32m    187\u001b[0m     \u001b[0;32mdef\u001b[0m \u001b[0mmagic_deco\u001b[0m\u001b[0;34m(\u001b[0m\u001b[0marg\u001b[0m\u001b[0;34m)\u001b[0m\u001b[0;34m:\u001b[0m\u001b[0;34m\u001b[0m\u001b[0;34m\u001b[0m\u001b[0m\n\u001b[0;32m--> 188\u001b[0;31m         \u001b[0mcall\u001b[0m \u001b[0;34m=\u001b[0m \u001b[0;32mlambda\u001b[0m \u001b[0mf\u001b[0m\u001b[0;34m,\u001b[0m \u001b[0;34m*\u001b[0m\u001b[0ma\u001b[0m\u001b[0;34m,\u001b[0m \u001b[0;34m**\u001b[0m\u001b[0mk\u001b[0m\u001b[0;34m:\u001b[0m \u001b[0mf\u001b[0m\u001b[0;34m(\u001b[0m\u001b[0;34m*\u001b[0m\u001b[0ma\u001b[0m\u001b[0;34m,\u001b[0m \u001b[0;34m**\u001b[0m\u001b[0mk\u001b[0m\u001b[0;34m)\u001b[0m\u001b[0;34m\u001b[0m\u001b[0;34m\u001b[0m\u001b[0m\n\u001b[0m\u001b[1;32m    189\u001b[0m \u001b[0;34m\u001b[0m\u001b[0m\n\u001b[1;32m    190\u001b[0m         \u001b[0;32mif\u001b[0m \u001b[0mcallable\u001b[0m\u001b[0;34m(\u001b[0m\u001b[0marg\u001b[0m\u001b[0;34m)\u001b[0m\u001b[0;34m:\u001b[0m\u001b[0;34m\u001b[0m\u001b[0;34m\u001b[0m\u001b[0m\n",
            "\u001b[0;32m/usr/local/lib/python3.7/dist-packages/IPython/core/magics/execution.py\u001b[0m in \u001b[0;36mtime\u001b[0;34m(self, line, cell, local_ns)\u001b[0m\n\u001b[1;32m   1187\u001b[0m         \u001b[0;32mif\u001b[0m \u001b[0mmode\u001b[0m\u001b[0;34m==\u001b[0m\u001b[0;34m'eval'\u001b[0m\u001b[0;34m:\u001b[0m\u001b[0;34m\u001b[0m\u001b[0;34m\u001b[0m\u001b[0m\n\u001b[1;32m   1188\u001b[0m             \u001b[0mst\u001b[0m \u001b[0;34m=\u001b[0m \u001b[0mclock2\u001b[0m\u001b[0;34m(\u001b[0m\u001b[0;34m)\u001b[0m\u001b[0;34m\u001b[0m\u001b[0;34m\u001b[0m\u001b[0m\n\u001b[0;32m-> 1189\u001b[0;31m             \u001b[0mout\u001b[0m \u001b[0;34m=\u001b[0m \u001b[0meval\u001b[0m\u001b[0;34m(\u001b[0m\u001b[0mcode\u001b[0m\u001b[0;34m,\u001b[0m \u001b[0mglob\u001b[0m\u001b[0;34m,\u001b[0m \u001b[0mlocal_ns\u001b[0m\u001b[0;34m)\u001b[0m\u001b[0;34m\u001b[0m\u001b[0;34m\u001b[0m\u001b[0m\n\u001b[0m\u001b[1;32m   1190\u001b[0m             \u001b[0mend\u001b[0m \u001b[0;34m=\u001b[0m \u001b[0mclock2\u001b[0m\u001b[0;34m(\u001b[0m\u001b[0;34m)\u001b[0m\u001b[0;34m\u001b[0m\u001b[0;34m\u001b[0m\u001b[0m\n\u001b[1;32m   1191\u001b[0m         \u001b[0;32melse\u001b[0m\u001b[0;34m:\u001b[0m\u001b[0;34m\u001b[0m\u001b[0;34m\u001b[0m\u001b[0m\n",
            "\u001b[0;32m<timed eval>\u001b[0m in \u001b[0;36m<module>\u001b[0;34m()\u001b[0m\n",
            "\u001b[0;32m/usr/local/lib/python3.7/dist-packages/sklearn/model_selection/_search.py\u001b[0m in \u001b[0;36mfit\u001b[0;34m(self, X, y, groups, **fit_params)\u001b[0m\n\u001b[1;32m    889\u001b[0m                 \u001b[0;32mreturn\u001b[0m \u001b[0mresults\u001b[0m\u001b[0;34m\u001b[0m\u001b[0;34m\u001b[0m\u001b[0m\n\u001b[1;32m    890\u001b[0m \u001b[0;34m\u001b[0m\u001b[0m\n\u001b[0;32m--> 891\u001b[0;31m             \u001b[0mself\u001b[0m\u001b[0;34m.\u001b[0m\u001b[0m_run_search\u001b[0m\u001b[0;34m(\u001b[0m\u001b[0mevaluate_candidates\u001b[0m\u001b[0;34m)\u001b[0m\u001b[0;34m\u001b[0m\u001b[0;34m\u001b[0m\u001b[0m\n\u001b[0m\u001b[1;32m    892\u001b[0m \u001b[0;34m\u001b[0m\u001b[0m\n\u001b[1;32m    893\u001b[0m             \u001b[0;31m# multimetric is determined here because in the case of a callable\u001b[0m\u001b[0;34m\u001b[0m\u001b[0;34m\u001b[0m\u001b[0;34m\u001b[0m\u001b[0m\n",
            "\u001b[0;32m/usr/local/lib/python3.7/dist-packages/sklearn/model_selection/_search.py\u001b[0m in \u001b[0;36m_run_search\u001b[0;34m(self, evaluate_candidates)\u001b[0m\n\u001b[1;32m   1390\u001b[0m     \u001b[0;32mdef\u001b[0m \u001b[0m_run_search\u001b[0m\u001b[0;34m(\u001b[0m\u001b[0mself\u001b[0m\u001b[0;34m,\u001b[0m \u001b[0mevaluate_candidates\u001b[0m\u001b[0;34m)\u001b[0m\u001b[0;34m:\u001b[0m\u001b[0;34m\u001b[0m\u001b[0;34m\u001b[0m\u001b[0m\n\u001b[1;32m   1391\u001b[0m         \u001b[0;34m\"\"\"Search all candidates in param_grid\"\"\"\u001b[0m\u001b[0;34m\u001b[0m\u001b[0;34m\u001b[0m\u001b[0m\n\u001b[0;32m-> 1392\u001b[0;31m         \u001b[0mevaluate_candidates\u001b[0m\u001b[0;34m(\u001b[0m\u001b[0mParameterGrid\u001b[0m\u001b[0;34m(\u001b[0m\u001b[0mself\u001b[0m\u001b[0;34m.\u001b[0m\u001b[0mparam_grid\u001b[0m\u001b[0;34m)\u001b[0m\u001b[0;34m)\u001b[0m\u001b[0;34m\u001b[0m\u001b[0;34m\u001b[0m\u001b[0m\n\u001b[0m\u001b[1;32m   1393\u001b[0m \u001b[0;34m\u001b[0m\u001b[0m\n\u001b[1;32m   1394\u001b[0m \u001b[0;34m\u001b[0m\u001b[0m\n",
            "\u001b[0;32m/usr/local/lib/python3.7/dist-packages/sklearn/model_selection/_search.py\u001b[0m in \u001b[0;36mevaluate_candidates\u001b[0;34m(candidate_params, cv, more_results)\u001b[0m\n\u001b[1;32m    849\u001b[0m                     )\n\u001b[1;32m    850\u001b[0m                     for (cand_idx, parameters), (split_idx, (train, test)) in product(\n\u001b[0;32m--> 851\u001b[0;31m                         \u001b[0menumerate\u001b[0m\u001b[0;34m(\u001b[0m\u001b[0mcandidate_params\u001b[0m\u001b[0;34m)\u001b[0m\u001b[0;34m,\u001b[0m \u001b[0menumerate\u001b[0m\u001b[0;34m(\u001b[0m\u001b[0mcv\u001b[0m\u001b[0;34m.\u001b[0m\u001b[0msplit\u001b[0m\u001b[0;34m(\u001b[0m\u001b[0mX\u001b[0m\u001b[0;34m,\u001b[0m \u001b[0my\u001b[0m\u001b[0;34m,\u001b[0m \u001b[0mgroups\u001b[0m\u001b[0;34m)\u001b[0m\u001b[0;34m)\u001b[0m\u001b[0;34m\u001b[0m\u001b[0;34m\u001b[0m\u001b[0m\n\u001b[0m\u001b[1;32m    852\u001b[0m                     )\n\u001b[1;32m    853\u001b[0m                 )\n",
            "\u001b[0;32m/usr/local/lib/python3.7/dist-packages/joblib/parallel.py\u001b[0m in \u001b[0;36m__call__\u001b[0;34m(self, iterable)\u001b[0m\n\u001b[1;32m   1044\u001b[0m                 \u001b[0mself\u001b[0m\u001b[0;34m.\u001b[0m\u001b[0m_iterating\u001b[0m \u001b[0;34m=\u001b[0m \u001b[0mself\u001b[0m\u001b[0;34m.\u001b[0m\u001b[0m_original_iterator\u001b[0m \u001b[0;32mis\u001b[0m \u001b[0;32mnot\u001b[0m \u001b[0;32mNone\u001b[0m\u001b[0;34m\u001b[0m\u001b[0;34m\u001b[0m\u001b[0m\n\u001b[1;32m   1045\u001b[0m \u001b[0;34m\u001b[0m\u001b[0m\n\u001b[0;32m-> 1046\u001b[0;31m             \u001b[0;32mwhile\u001b[0m \u001b[0mself\u001b[0m\u001b[0;34m.\u001b[0m\u001b[0mdispatch_one_batch\u001b[0m\u001b[0;34m(\u001b[0m\u001b[0miterator\u001b[0m\u001b[0;34m)\u001b[0m\u001b[0;34m:\u001b[0m\u001b[0;34m\u001b[0m\u001b[0;34m\u001b[0m\u001b[0m\n\u001b[0m\u001b[1;32m   1047\u001b[0m                 \u001b[0;32mpass\u001b[0m\u001b[0;34m\u001b[0m\u001b[0;34m\u001b[0m\u001b[0m\n\u001b[1;32m   1048\u001b[0m \u001b[0;34m\u001b[0m\u001b[0m\n",
            "\u001b[0;32m/usr/local/lib/python3.7/dist-packages/joblib/parallel.py\u001b[0m in \u001b[0;36mdispatch_one_batch\u001b[0;34m(self, iterator)\u001b[0m\n\u001b[1;32m    859\u001b[0m                 \u001b[0;32mreturn\u001b[0m \u001b[0;32mFalse\u001b[0m\u001b[0;34m\u001b[0m\u001b[0;34m\u001b[0m\u001b[0m\n\u001b[1;32m    860\u001b[0m             \u001b[0;32melse\u001b[0m\u001b[0;34m:\u001b[0m\u001b[0;34m\u001b[0m\u001b[0;34m\u001b[0m\u001b[0m\n\u001b[0;32m--> 861\u001b[0;31m                 \u001b[0mself\u001b[0m\u001b[0;34m.\u001b[0m\u001b[0m_dispatch\u001b[0m\u001b[0;34m(\u001b[0m\u001b[0mtasks\u001b[0m\u001b[0;34m)\u001b[0m\u001b[0;34m\u001b[0m\u001b[0;34m\u001b[0m\u001b[0m\n\u001b[0m\u001b[1;32m    862\u001b[0m                 \u001b[0;32mreturn\u001b[0m \u001b[0;32mTrue\u001b[0m\u001b[0;34m\u001b[0m\u001b[0;34m\u001b[0m\u001b[0m\n\u001b[1;32m    863\u001b[0m \u001b[0;34m\u001b[0m\u001b[0m\n",
            "\u001b[0;32m/usr/local/lib/python3.7/dist-packages/joblib/parallel.py\u001b[0m in \u001b[0;36m_dispatch\u001b[0;34m(self, batch)\u001b[0m\n\u001b[1;32m    777\u001b[0m         \u001b[0;32mwith\u001b[0m \u001b[0mself\u001b[0m\u001b[0;34m.\u001b[0m\u001b[0m_lock\u001b[0m\u001b[0;34m:\u001b[0m\u001b[0;34m\u001b[0m\u001b[0;34m\u001b[0m\u001b[0m\n\u001b[1;32m    778\u001b[0m             \u001b[0mjob_idx\u001b[0m \u001b[0;34m=\u001b[0m \u001b[0mlen\u001b[0m\u001b[0;34m(\u001b[0m\u001b[0mself\u001b[0m\u001b[0;34m.\u001b[0m\u001b[0m_jobs\u001b[0m\u001b[0;34m)\u001b[0m\u001b[0;34m\u001b[0m\u001b[0;34m\u001b[0m\u001b[0m\n\u001b[0;32m--> 779\u001b[0;31m             \u001b[0mjob\u001b[0m \u001b[0;34m=\u001b[0m \u001b[0mself\u001b[0m\u001b[0;34m.\u001b[0m\u001b[0m_backend\u001b[0m\u001b[0;34m.\u001b[0m\u001b[0mapply_async\u001b[0m\u001b[0;34m(\u001b[0m\u001b[0mbatch\u001b[0m\u001b[0;34m,\u001b[0m \u001b[0mcallback\u001b[0m\u001b[0;34m=\u001b[0m\u001b[0mcb\u001b[0m\u001b[0;34m)\u001b[0m\u001b[0;34m\u001b[0m\u001b[0;34m\u001b[0m\u001b[0m\n\u001b[0m\u001b[1;32m    780\u001b[0m             \u001b[0;31m# A job can complete so quickly than its callback is\u001b[0m\u001b[0;34m\u001b[0m\u001b[0;34m\u001b[0m\u001b[0;34m\u001b[0m\u001b[0m\n\u001b[1;32m    781\u001b[0m             \u001b[0;31m# called before we get here, causing self._jobs to\u001b[0m\u001b[0;34m\u001b[0m\u001b[0;34m\u001b[0m\u001b[0;34m\u001b[0m\u001b[0m\n",
            "\u001b[0;32m/usr/local/lib/python3.7/dist-packages/joblib/_parallel_backends.py\u001b[0m in \u001b[0;36mapply_async\u001b[0;34m(self, func, callback)\u001b[0m\n\u001b[1;32m    206\u001b[0m     \u001b[0;32mdef\u001b[0m \u001b[0mapply_async\u001b[0m\u001b[0;34m(\u001b[0m\u001b[0mself\u001b[0m\u001b[0;34m,\u001b[0m \u001b[0mfunc\u001b[0m\u001b[0;34m,\u001b[0m \u001b[0mcallback\u001b[0m\u001b[0;34m=\u001b[0m\u001b[0;32mNone\u001b[0m\u001b[0;34m)\u001b[0m\u001b[0;34m:\u001b[0m\u001b[0;34m\u001b[0m\u001b[0;34m\u001b[0m\u001b[0m\n\u001b[1;32m    207\u001b[0m         \u001b[0;34m\"\"\"Schedule a func to be run\"\"\"\u001b[0m\u001b[0;34m\u001b[0m\u001b[0;34m\u001b[0m\u001b[0m\n\u001b[0;32m--> 208\u001b[0;31m         \u001b[0mresult\u001b[0m \u001b[0;34m=\u001b[0m \u001b[0mImmediateResult\u001b[0m\u001b[0;34m(\u001b[0m\u001b[0mfunc\u001b[0m\u001b[0;34m)\u001b[0m\u001b[0;34m\u001b[0m\u001b[0;34m\u001b[0m\u001b[0m\n\u001b[0m\u001b[1;32m    209\u001b[0m         \u001b[0;32mif\u001b[0m \u001b[0mcallback\u001b[0m\u001b[0;34m:\u001b[0m\u001b[0;34m\u001b[0m\u001b[0;34m\u001b[0m\u001b[0m\n\u001b[1;32m    210\u001b[0m             \u001b[0mcallback\u001b[0m\u001b[0;34m(\u001b[0m\u001b[0mresult\u001b[0m\u001b[0;34m)\u001b[0m\u001b[0;34m\u001b[0m\u001b[0;34m\u001b[0m\u001b[0m\n",
            "\u001b[0;32m/usr/local/lib/python3.7/dist-packages/joblib/_parallel_backends.py\u001b[0m in \u001b[0;36m__init__\u001b[0;34m(self, batch)\u001b[0m\n\u001b[1;32m    570\u001b[0m         \u001b[0;31m# Don't delay the application, to avoid keeping the input\u001b[0m\u001b[0;34m\u001b[0m\u001b[0;34m\u001b[0m\u001b[0;34m\u001b[0m\u001b[0m\n\u001b[1;32m    571\u001b[0m         \u001b[0;31m# arguments in memory\u001b[0m\u001b[0;34m\u001b[0m\u001b[0;34m\u001b[0m\u001b[0;34m\u001b[0m\u001b[0m\n\u001b[0;32m--> 572\u001b[0;31m         \u001b[0mself\u001b[0m\u001b[0;34m.\u001b[0m\u001b[0mresults\u001b[0m \u001b[0;34m=\u001b[0m \u001b[0mbatch\u001b[0m\u001b[0;34m(\u001b[0m\u001b[0;34m)\u001b[0m\u001b[0;34m\u001b[0m\u001b[0;34m\u001b[0m\u001b[0m\n\u001b[0m\u001b[1;32m    573\u001b[0m \u001b[0;34m\u001b[0m\u001b[0m\n\u001b[1;32m    574\u001b[0m     \u001b[0;32mdef\u001b[0m \u001b[0mget\u001b[0m\u001b[0;34m(\u001b[0m\u001b[0mself\u001b[0m\u001b[0;34m)\u001b[0m\u001b[0;34m:\u001b[0m\u001b[0;34m\u001b[0m\u001b[0;34m\u001b[0m\u001b[0m\n",
            "\u001b[0;32m/usr/local/lib/python3.7/dist-packages/joblib/parallel.py\u001b[0m in \u001b[0;36m__call__\u001b[0;34m(self)\u001b[0m\n\u001b[1;32m    261\u001b[0m         \u001b[0;32mwith\u001b[0m \u001b[0mparallel_backend\u001b[0m\u001b[0;34m(\u001b[0m\u001b[0mself\u001b[0m\u001b[0;34m.\u001b[0m\u001b[0m_backend\u001b[0m\u001b[0;34m,\u001b[0m \u001b[0mn_jobs\u001b[0m\u001b[0;34m=\u001b[0m\u001b[0mself\u001b[0m\u001b[0;34m.\u001b[0m\u001b[0m_n_jobs\u001b[0m\u001b[0;34m)\u001b[0m\u001b[0;34m:\u001b[0m\u001b[0;34m\u001b[0m\u001b[0;34m\u001b[0m\u001b[0m\n\u001b[1;32m    262\u001b[0m             return [func(*args, **kwargs)\n\u001b[0;32m--> 263\u001b[0;31m                     for func, args, kwargs in self.items]\n\u001b[0m\u001b[1;32m    264\u001b[0m \u001b[0;34m\u001b[0m\u001b[0m\n\u001b[1;32m    265\u001b[0m     \u001b[0;32mdef\u001b[0m \u001b[0m__reduce__\u001b[0m\u001b[0;34m(\u001b[0m\u001b[0mself\u001b[0m\u001b[0;34m)\u001b[0m\u001b[0;34m:\u001b[0m\u001b[0;34m\u001b[0m\u001b[0;34m\u001b[0m\u001b[0m\n",
            "\u001b[0;32m/usr/local/lib/python3.7/dist-packages/joblib/parallel.py\u001b[0m in \u001b[0;36m<listcomp>\u001b[0;34m(.0)\u001b[0m\n\u001b[1;32m    261\u001b[0m         \u001b[0;32mwith\u001b[0m \u001b[0mparallel_backend\u001b[0m\u001b[0;34m(\u001b[0m\u001b[0mself\u001b[0m\u001b[0;34m.\u001b[0m\u001b[0m_backend\u001b[0m\u001b[0;34m,\u001b[0m \u001b[0mn_jobs\u001b[0m\u001b[0;34m=\u001b[0m\u001b[0mself\u001b[0m\u001b[0;34m.\u001b[0m\u001b[0m_n_jobs\u001b[0m\u001b[0;34m)\u001b[0m\u001b[0;34m:\u001b[0m\u001b[0;34m\u001b[0m\u001b[0;34m\u001b[0m\u001b[0m\n\u001b[1;32m    262\u001b[0m             return [func(*args, **kwargs)\n\u001b[0;32m--> 263\u001b[0;31m                     for func, args, kwargs in self.items]\n\u001b[0m\u001b[1;32m    264\u001b[0m \u001b[0;34m\u001b[0m\u001b[0m\n\u001b[1;32m    265\u001b[0m     \u001b[0;32mdef\u001b[0m \u001b[0m__reduce__\u001b[0m\u001b[0;34m(\u001b[0m\u001b[0mself\u001b[0m\u001b[0;34m)\u001b[0m\u001b[0;34m:\u001b[0m\u001b[0;34m\u001b[0m\u001b[0;34m\u001b[0m\u001b[0m\n",
            "\u001b[0;32m/usr/local/lib/python3.7/dist-packages/sklearn/utils/fixes.py\u001b[0m in \u001b[0;36m__call__\u001b[0;34m(self, *args, **kwargs)\u001b[0m\n\u001b[1;32m    214\u001b[0m     \u001b[0;32mdef\u001b[0m \u001b[0m__call__\u001b[0m\u001b[0;34m(\u001b[0m\u001b[0mself\u001b[0m\u001b[0;34m,\u001b[0m \u001b[0;34m*\u001b[0m\u001b[0margs\u001b[0m\u001b[0;34m,\u001b[0m \u001b[0;34m**\u001b[0m\u001b[0mkwargs\u001b[0m\u001b[0;34m)\u001b[0m\u001b[0;34m:\u001b[0m\u001b[0;34m\u001b[0m\u001b[0;34m\u001b[0m\u001b[0m\n\u001b[1;32m    215\u001b[0m         \u001b[0;32mwith\u001b[0m \u001b[0mconfig_context\u001b[0m\u001b[0;34m(\u001b[0m\u001b[0;34m**\u001b[0m\u001b[0mself\u001b[0m\u001b[0;34m.\u001b[0m\u001b[0mconfig\u001b[0m\u001b[0;34m)\u001b[0m\u001b[0;34m:\u001b[0m\u001b[0;34m\u001b[0m\u001b[0;34m\u001b[0m\u001b[0m\n\u001b[0;32m--> 216\u001b[0;31m             \u001b[0;32mreturn\u001b[0m \u001b[0mself\u001b[0m\u001b[0;34m.\u001b[0m\u001b[0mfunction\u001b[0m\u001b[0;34m(\u001b[0m\u001b[0;34m*\u001b[0m\u001b[0margs\u001b[0m\u001b[0;34m,\u001b[0m \u001b[0;34m**\u001b[0m\u001b[0mkwargs\u001b[0m\u001b[0;34m)\u001b[0m\u001b[0;34m\u001b[0m\u001b[0;34m\u001b[0m\u001b[0m\n\u001b[0m\u001b[1;32m    217\u001b[0m \u001b[0;34m\u001b[0m\u001b[0m\n\u001b[1;32m    218\u001b[0m \u001b[0;34m\u001b[0m\u001b[0m\n",
            "\u001b[0;32m/usr/local/lib/python3.7/dist-packages/sklearn/model_selection/_validation.py\u001b[0m in \u001b[0;36m_fit_and_score\u001b[0;34m(estimator, X, y, scorer, train, test, verbose, parameters, fit_params, return_train_score, return_parameters, return_n_test_samples, return_times, return_estimator, split_progress, candidate_progress, error_score)\u001b[0m\n\u001b[1;32m    678\u001b[0m             \u001b[0mestimator\u001b[0m\u001b[0;34m.\u001b[0m\u001b[0mfit\u001b[0m\u001b[0;34m(\u001b[0m\u001b[0mX_train\u001b[0m\u001b[0;34m,\u001b[0m \u001b[0;34m**\u001b[0m\u001b[0mfit_params\u001b[0m\u001b[0;34m)\u001b[0m\u001b[0;34m\u001b[0m\u001b[0;34m\u001b[0m\u001b[0m\n\u001b[1;32m    679\u001b[0m         \u001b[0;32melse\u001b[0m\u001b[0;34m:\u001b[0m\u001b[0;34m\u001b[0m\u001b[0;34m\u001b[0m\u001b[0m\n\u001b[0;32m--> 680\u001b[0;31m             \u001b[0mestimator\u001b[0m\u001b[0;34m.\u001b[0m\u001b[0mfit\u001b[0m\u001b[0;34m(\u001b[0m\u001b[0mX_train\u001b[0m\u001b[0;34m,\u001b[0m \u001b[0my_train\u001b[0m\u001b[0;34m,\u001b[0m \u001b[0;34m**\u001b[0m\u001b[0mfit_params\u001b[0m\u001b[0;34m)\u001b[0m\u001b[0;34m\u001b[0m\u001b[0;34m\u001b[0m\u001b[0m\n\u001b[0m\u001b[1;32m    681\u001b[0m \u001b[0;34m\u001b[0m\u001b[0m\n\u001b[1;32m    682\u001b[0m     \u001b[0;32mexcept\u001b[0m \u001b[0mException\u001b[0m\u001b[0;34m:\u001b[0m\u001b[0;34m\u001b[0m\u001b[0;34m\u001b[0m\u001b[0m\n",
            "\u001b[0;32m/usr/local/lib/python3.7/dist-packages/sklearn/ensemble/_gb.py\u001b[0m in \u001b[0;36mfit\u001b[0;34m(self, X, y, sample_weight, monitor)\u001b[0m\n\u001b[1;32m    594\u001b[0m             \u001b[0msample_weight_val\u001b[0m\u001b[0;34m,\u001b[0m\u001b[0;34m\u001b[0m\u001b[0;34m\u001b[0m\u001b[0m\n\u001b[1;32m    595\u001b[0m             \u001b[0mbegin_at_stage\u001b[0m\u001b[0;34m,\u001b[0m\u001b[0;34m\u001b[0m\u001b[0;34m\u001b[0m\u001b[0m\n\u001b[0;32m--> 596\u001b[0;31m             \u001b[0mmonitor\u001b[0m\u001b[0;34m,\u001b[0m\u001b[0;34m\u001b[0m\u001b[0;34m\u001b[0m\u001b[0m\n\u001b[0m\u001b[1;32m    597\u001b[0m         )\n\u001b[1;32m    598\u001b[0m \u001b[0;34m\u001b[0m\u001b[0m\n",
            "\u001b[0;32m/usr/local/lib/python3.7/dist-packages/sklearn/ensemble/_gb.py\u001b[0m in \u001b[0;36m_fit_stages\u001b[0;34m(self, X, y, raw_predictions, sample_weight, random_state, X_val, y_val, sample_weight_val, begin_at_stage, monitor)\u001b[0m\n\u001b[1;32m    670\u001b[0m                 \u001b[0mrandom_state\u001b[0m\u001b[0;34m,\u001b[0m\u001b[0;34m\u001b[0m\u001b[0;34m\u001b[0m\u001b[0m\n\u001b[1;32m    671\u001b[0m                 \u001b[0mX_csc\u001b[0m\u001b[0;34m,\u001b[0m\u001b[0;34m\u001b[0m\u001b[0;34m\u001b[0m\u001b[0m\n\u001b[0;32m--> 672\u001b[0;31m                 \u001b[0mX_csr\u001b[0m\u001b[0;34m,\u001b[0m\u001b[0;34m\u001b[0m\u001b[0;34m\u001b[0m\u001b[0m\n\u001b[0m\u001b[1;32m    673\u001b[0m             )\n\u001b[1;32m    674\u001b[0m \u001b[0;34m\u001b[0m\u001b[0m\n",
            "\u001b[0;32m/usr/local/lib/python3.7/dist-packages/sklearn/ensemble/_gb.py\u001b[0m in \u001b[0;36m_fit_stage\u001b[0;34m(self, i, X, y, raw_predictions, sample_weight, sample_mask, random_state, X_csc, X_csr)\u001b[0m\n\u001b[1;32m    244\u001b[0m \u001b[0;34m\u001b[0m\u001b[0m\n\u001b[1;32m    245\u001b[0m             \u001b[0mX\u001b[0m \u001b[0;34m=\u001b[0m \u001b[0mX_csr\u001b[0m \u001b[0;32mif\u001b[0m \u001b[0mX_csr\u001b[0m \u001b[0;32mis\u001b[0m \u001b[0;32mnot\u001b[0m \u001b[0;32mNone\u001b[0m \u001b[0;32melse\u001b[0m \u001b[0mX\u001b[0m\u001b[0;34m\u001b[0m\u001b[0;34m\u001b[0m\u001b[0m\n\u001b[0;32m--> 246\u001b[0;31m             \u001b[0mtree\u001b[0m\u001b[0;34m.\u001b[0m\u001b[0mfit\u001b[0m\u001b[0;34m(\u001b[0m\u001b[0mX\u001b[0m\u001b[0;34m,\u001b[0m \u001b[0mresidual\u001b[0m\u001b[0;34m,\u001b[0m \u001b[0msample_weight\u001b[0m\u001b[0;34m=\u001b[0m\u001b[0msample_weight\u001b[0m\u001b[0;34m,\u001b[0m \u001b[0mcheck_input\u001b[0m\u001b[0;34m=\u001b[0m\u001b[0;32mFalse\u001b[0m\u001b[0;34m)\u001b[0m\u001b[0;34m\u001b[0m\u001b[0;34m\u001b[0m\u001b[0m\n\u001b[0m\u001b[1;32m    247\u001b[0m \u001b[0;34m\u001b[0m\u001b[0m\n\u001b[1;32m    248\u001b[0m             \u001b[0;31m# update tree leaves\u001b[0m\u001b[0;34m\u001b[0m\u001b[0;34m\u001b[0m\u001b[0;34m\u001b[0m\u001b[0m\n",
            "\u001b[0;32m/usr/local/lib/python3.7/dist-packages/sklearn/tree/_classes.py\u001b[0m in \u001b[0;36mfit\u001b[0;34m(self, X, y, sample_weight, check_input, X_idx_sorted)\u001b[0m\n\u001b[1;32m   1318\u001b[0m             \u001b[0msample_weight\u001b[0m\u001b[0;34m=\u001b[0m\u001b[0msample_weight\u001b[0m\u001b[0;34m,\u001b[0m\u001b[0;34m\u001b[0m\u001b[0;34m\u001b[0m\u001b[0m\n\u001b[1;32m   1319\u001b[0m             \u001b[0mcheck_input\u001b[0m\u001b[0;34m=\u001b[0m\u001b[0mcheck_input\u001b[0m\u001b[0;34m,\u001b[0m\u001b[0;34m\u001b[0m\u001b[0;34m\u001b[0m\u001b[0m\n\u001b[0;32m-> 1320\u001b[0;31m             \u001b[0mX_idx_sorted\u001b[0m\u001b[0;34m=\u001b[0m\u001b[0mX_idx_sorted\u001b[0m\u001b[0;34m,\u001b[0m\u001b[0;34m\u001b[0m\u001b[0;34m\u001b[0m\u001b[0m\n\u001b[0m\u001b[1;32m   1321\u001b[0m         )\n\u001b[1;32m   1322\u001b[0m         \u001b[0;32mreturn\u001b[0m \u001b[0mself\u001b[0m\u001b[0;34m\u001b[0m\u001b[0;34m\u001b[0m\u001b[0m\n",
            "\u001b[0;32m/usr/local/lib/python3.7/dist-packages/sklearn/tree/_classes.py\u001b[0m in \u001b[0;36mfit\u001b[0;34m(self, X, y, sample_weight, check_input, X_idx_sorted)\u001b[0m\n\u001b[1;32m    418\u001b[0m             )\n\u001b[1;32m    419\u001b[0m \u001b[0;34m\u001b[0m\u001b[0m\n\u001b[0;32m--> 420\u001b[0;31m         \u001b[0mbuilder\u001b[0m\u001b[0;34m.\u001b[0m\u001b[0mbuild\u001b[0m\u001b[0;34m(\u001b[0m\u001b[0mself\u001b[0m\u001b[0;34m.\u001b[0m\u001b[0mtree_\u001b[0m\u001b[0;34m,\u001b[0m \u001b[0mX\u001b[0m\u001b[0;34m,\u001b[0m \u001b[0my\u001b[0m\u001b[0;34m,\u001b[0m \u001b[0msample_weight\u001b[0m\u001b[0;34m)\u001b[0m\u001b[0;34m\u001b[0m\u001b[0;34m\u001b[0m\u001b[0m\n\u001b[0m\u001b[1;32m    421\u001b[0m \u001b[0;34m\u001b[0m\u001b[0m\n\u001b[1;32m    422\u001b[0m         \u001b[0;32mif\u001b[0m \u001b[0mself\u001b[0m\u001b[0;34m.\u001b[0m\u001b[0mn_outputs_\u001b[0m \u001b[0;34m==\u001b[0m \u001b[0;36m1\u001b[0m \u001b[0;32mand\u001b[0m \u001b[0mis_classifier\u001b[0m\u001b[0;34m(\u001b[0m\u001b[0mself\u001b[0m\u001b[0;34m)\u001b[0m\u001b[0;34m:\u001b[0m\u001b[0;34m\u001b[0m\u001b[0;34m\u001b[0m\u001b[0m\n",
            "\u001b[0;31mKeyboardInterrupt\u001b[0m: "
          ]
        }
      ],
      "source": [
        "GBM = GradientBoostingClassifier() \n",
        "# Use a grid over parameters of interest\n",
        "param_grid = { \n",
        "           \"n_estimators\" : [100,150,200],\n",
        "           \"max_depth\" : [2,3,5,7],\n",
        "           \"learning_rate\" : [0.3,0.5],\n",
        "}\n",
        "CV_GBM = GridSearchCV(estimator=GBM,\n",
        "                      param_grid=param_grid, cv= 3)\n",
        "%time CV_GBM.fit(X=X_train, y=y_train)\n",
        "print (CV_GBM.best_score_, CV_GBM.best_params_) "
      ]
    },
    {
      "cell_type": "code",
      "execution_count": null,
      "metadata": {
        "id": "w8eEkHQ0r3ox",
        "outputId": "0a501b8f-eb7a-4117-b12b-7917afddc9a4",
        "colab": {
          "base_uri": "https://localhost:8080/"
        }
      },
      "outputs": [
        {
          "output_type": "stream",
          "name": "stdout",
          "text": [
            "train accuracy: 0.9665218502427805\n",
            "test accuracy: 0.8733401430030644\n"
          ]
        }
      ],
      "source": [
        "train_pred=CV_GBM.predict(X_train)\n",
        "print(\"train accuracy:\",accuracy_score(y_train,train_pred))\n",
        "y_pred = CV_GBM.predict(X_test)\n",
        "print(\"test accuracy:\",accuracy_score(y_test,y_pred))"
      ]
    },
    {
      "cell_type": "markdown",
      "metadata": {
        "id": "Itu8Nkper3oy"
      },
      "source": [
        "# xgboost\n",
        "\n",
        "#### for more info: \n",
        "    refer:\n",
        "    https://xgboost.readthedocs.io/en/latest/parameter.html#general-parameters\n",
        "    http://zhanpengfang.github.io/418home.html"
      ]
    },
    {
      "cell_type": "code",
      "execution_count": null,
      "metadata": {
        "id": "ylsOZR2Xr3oy"
      },
      "outputs": [],
      "source": [
        "import xgboost as xgb\n",
        "from xgboost.sklearn import XGBClassifier"
      ]
    },
    {
      "cell_type": "code",
      "execution_count": null,
      "metadata": {
        "scrolled": true,
        "id": "KGCNPHobr3oy",
        "outputId": "65875947-7126-490c-932c-69d9c0ffb624",
        "colab": {
          "base_uri": "https://localhost:8080/"
        }
      },
      "outputs": [
        {
          "output_type": "execute_result",
          "data": {
            "text/plain": [
              "XGBClassifier(n_estimators=200, objective='multi:softprob')"
            ]
          },
          "metadata": {},
          "execution_count": 37
        }
      ],
      "source": [
        "xgb_model=XGBClassifier(n_estimators=200)\n",
        "xgb_model.fit(X_train,y_train)"
      ]
    },
    {
      "cell_type": "code",
      "execution_count": null,
      "metadata": {
        "id": "3SyIabnlr3oz",
        "outputId": "f0cd0c15-c4f1-44a4-b1f5-49939a459714",
        "colab": {
          "base_uri": "https://localhost:8080/"
        }
      },
      "outputs": [
        {
          "output_type": "stream",
          "name": "stdout",
          "text": [
            "0.9253125\n",
            "0.8788257339163024\n"
          ]
        }
      ],
      "source": [
        "trainpreds=xgb_model.predict(X_train)\n",
        "print(accuracy_score(y_train,trainpreds))# accuracy\n",
        "testpreds=xgb_model.predict(X_test)\n",
        "print(accuracy_score(y_test,testpreds))# accuracy"
      ]
    },
    {
      "cell_type": "code",
      "execution_count": null,
      "metadata": {
        "id": "IReuRuf3r3o2",
        "outputId": "73eb5db3-5aff-4d45-c7e3-5670d64422d9",
        "colab": {
          "base_uri": "https://localhost:8080/",
          "height": 330
        }
      },
      "outputs": [
        {
          "output_type": "execute_result",
          "data": {
            "text/plain": [
              "<matplotlib.axes._subplots.AxesSubplot at 0x7fd26de15950>"
            ]
          },
          "metadata": {},
          "execution_count": 39
        },
        {
          "output_type": "display_data",
          "data": {
            "text/plain": [
              "<Figure size 720x576 with 0 Axes>"
            ]
          },
          "metadata": {}
        },
        {
          "output_type": "display_data",
          "data": {
            "text/plain": [
              "<Figure size 432x288 with 1 Axes>"
            ],
            "image/png": "[encoded data removed]"
          },
          "metadata": {
            "needs_background": "light"
          }
        }
      ],
      "source": [
        "from xgboost import plot_importance \n",
        "from matplotlib import pyplot as plt\n",
        "plt.figure(figsize=(10,8))\n",
        "plot_importance(xgb_model,height=0.3)"
      ]
    },
    {
      "cell_type": "code",
      "source": [
        ""
      ],
      "metadata": {
        "id": "fnDzxSoLF2rE"
      },
      "execution_count": null,
      "outputs": []
    },
    {
      "cell_type": "code",
      "execution_count": null,
      "metadata": {
        "id": "ifA_jFher3o2",
        "outputId": "9e1e4f03-dbb0-4c77-bce7-3b74a816f72d",
        "colab": {
          "base_uri": "https://localhost:8080/"
        }
      },
      "outputs": [
        {
          "output_type": "stream",
          "name": "stdout",
          "text": [
            "CPU times: user 5min 42s, sys: 2.37 s, total: 5min 45s\n",
            "Wall time: 5min 43s\n"
          ]
        },
        {
          "output_type": "execute_result",
          "data": {
            "text/plain": [
              "GridSearchCV(cv=2, estimator=XGBClassifier(verbosity=0),\n",
              "             param_grid={'colsample_bytree': [0.5, 0.6, 0.7],\n",
              "                         'learning_rate': [0.1, 0.5, 0.9], 'max_depth': [5, 10],\n",
              "                         'n_estimators': [100, 150, 200],\n",
              "                         'subsample': [0.5, 0.7]})"
            ]
          },
          "metadata": {},
          "execution_count": 61
        }
      ],
      "source": [
        "xgb_model=XGBClassifier(verbosity=0)\n",
        "param_grid = { \n",
        "           \"n_estimators\" : [100,150,200],\n",
        "            \"subsample\" :   [0.5,0.7],\n",
        "            \"colsample_bytree\" : [0.5,0.6,0.7],\n",
        "            \"max_depth\" : [5,10],\n",
        "           \"learning_rate\" : [0.1,0.5,0.9],\n",
        "            \n",
        "}\n",
        "CV_XGBM = GridSearchCV(estimator=xgb_model, param_grid=param_grid, cv= 2)\n",
        "%time CV_XGBM.fit(X=X_train, y=y_train)\n",
        "#print (CV_XGBM.best_score_, CV_XGBM.best_params_) "
      ]
    },
    {
      "cell_type": "code",
      "execution_count": null,
      "metadata": {
        "id": "Rx-qzbW3r3o3",
        "outputId": "76655f68-091b-4de9-a7ef-05bf5e46339d",
        "colab": {
          "base_uri": "https://localhost:8080/"
        }
      },
      "outputs": [
        {
          "output_type": "stream",
          "name": "stdout",
          "text": [
            "1.0\n",
            "0.8804902962206334\n"
          ]
        }
      ],
      "source": [
        "trainpreds=CV_XGBM.predict(X_train)\n",
        "print(accuracy_score(y_train,trainpreds))# accuracy\n",
        "\n",
        "testpreds=CV_XGBM.predict(X_test)\n",
        "print(accuracy_score(y_test,testpreds))# accuracy"
      ]
    },
    {
      "cell_type": "code",
      "execution_count": null,
      "metadata": {
        "id": "mRnF1FP6r3o3",
        "outputId": "9560f06b-d491-4752-f612-31fd034c040a",
        "colab": {
          "base_uri": "https://localhost:8080/"
        }
      },
      "outputs": [
        {
          "output_type": "execute_result",
          "data": {
            "text/plain": [
              "XGBClassifier(colsample_bytree=0.6, max_depth=10, n_estimators=200,\n",
              "              objective='multi:softprob', subsample=0.7, verbosity=0)"
            ]
          },
          "metadata": {},
          "execution_count": 63
        }
      ],
      "source": [
        "CV_XGBM.best_estimator_"
      ]
    },
    {
      "cell_type": "code",
      "execution_count": null,
      "metadata": {
        "id": "mBXSnjLUr3o4",
        "outputId": "3e46567d-6f0e-4dd9-8af6-cf3b6bd63c79",
        "colab": {
          "base_uri": "https://localhost:8080/"
        }
      },
      "outputs": [
        {
          "output_type": "stream",
          "name": "stdout",
          "text": [
            "0.924865831842576\n",
            "0.8825331971399387\n"
          ]
        }
      ],
      "source": [
        "# change minimum loss reduction  \n",
        "CV_XGBM.best_estimator_\n",
        "m1=XGBClassifier(base_score=0.5, \n",
        "                 booster='gbtree', colsample_bylevel=1,\n",
        "              colsample_bynode=1, colsample_bytree=0.6, \n",
        "              gamma=3,\n",
        "              learning_rate=0.1, max_delta_step=0, \n",
        "              max_depth=5,\n",
        "              min_child_weight=1, missing=None, \n",
        "              n_estimators=200, n_jobs=1,\n",
        "              nthread=None, objective='multi:softprob', \n",
        "              random_state=0,\n",
        "              reg_alpha=0, reg_lambda=1, \n",
        "              scale_pos_weight=1, seed=None,\n",
        "              silent=None, subsample=0.5, \n",
        "              verbosity=0)\n",
        "\n",
        "\n",
        "m1.fit(X_train,y_train)\n",
        "trainpreds=m1.predict(X_train)\n",
        "print(accuracy_score(y_train,trainpreds))# accuracy\n",
        "\n",
        "testpreds=m1.predict(X_test)\n",
        "print(accuracy_score(y_test,testpreds))# accuracy"
      ]
    },
    {
      "cell_type": "code",
      "source": [
        ""
      ],
      "metadata": {
        "id": "lyTOih-yF5JL"
      },
      "execution_count": null,
      "outputs": []
    },
    {
      "cell_type": "code",
      "execution_count": 40,
      "metadata": {
        "id": "JFTgS6fErggN"
      },
      "outputs": [],
      "source": [
        "from sklearn.neighbors import KNeighborsClassifier\n",
        "from sklearn.linear_model import LogisticRegression\n",
        "from sklearn.tree import DecisionTreeClassifier"
      ]
    },
    {
      "cell_type": "code",
      "execution_count": 41,
      "metadata": {
        "id": "RkJXHZ-UrggN",
        "outputId": "3efd988c-db7d-48ce-bfad-03bb6463084f",
        "colab": {
          "base_uri": "https://localhost:8080/"
        }
      },
      "outputs": [
        {
          "output_type": "stream",
          "name": "stderr",
          "text": [
            "/usr/local/lib/python3.7/dist-packages/sklearn/linear_model/_logistic.py:818: ConvergenceWarning: lbfgs failed to converge (status=1):\n",
            "STOP: TOTAL NO. of ITERATIONS REACHED LIMIT.\n",
            "\n",
            "Increase the number of iterations (max_iter) or scale the data as shown in:\n",
            "    https://scikit-learn.org/stable/modules/preprocessing.html\n",
            "Please also refer to the documentation for alternative solver options:\n",
            "    https://scikit-learn.org/stable/modules/linear_model.html#logistic-regression\n",
            "  extra_warning_msg=_LOGISTIC_SOLVER_CONVERGENCE_MSG,\n"
          ]
        }
      ],
      "source": [
        "import numpy as np\n",
        "import statistics as stat\n",
        "\n",
        "model1 = DecisionTreeClassifier()\n",
        "model2 = KNeighborsClassifier()\n",
        "model3= LogisticRegression()\n",
        "\n",
        "\n",
        "model1.fit(X_train,y_train)\n",
        "model2.fit(X_train,y_train)\n",
        "model3.fit(X_train,y_train)\n",
        "\n",
        "pred1=model1.predict(X_train)\n",
        "pred2=model2.predict(X_train)\n",
        "pred3=model3.predict(X_train)\n",
        "\n",
        "\n",
        "\n",
        "testpred1=model1.predict(X_test)\n",
        "testpred2=model2.predict(X_test)\n",
        "testpred3=model3.predict(X_test)\n",
        "\n"
      ]
    },
    {
      "cell_type": "code",
      "execution_count": 42,
      "metadata": {
        "id": "aluiE_NgrggN"
      },
      "outputs": [],
      "source": [
        "stack_model_pred=pd.DataFrame({'DC':pred1,'KNN':pred2,'Logistic':pred3})\n",
        "stack_model_testpred=pd.DataFrame({'DC':testpred1,'KNN':testpred2,'Logistic':testpred3})"
      ]
    },
    {
      "cell_type": "code",
      "execution_count": 43,
      "metadata": {
        "id": "mA4K7GXJrggN"
      },
      "outputs": [],
      "source": [
        "for i in stack_model_pred.columns:\n",
        "    stack_model_pred[i]=stack_model_pred[i].astype('str').astype('category')\n",
        "    stack_model_testpred[i]=stack_model_testpred[i].astype('str').astype('category')\n",
        "stack_model_pred_dummy=pd.get_dummies(stack_model_pred)\n",
        "stack_model_pred_testdummy=pd.get_dummies(stack_model_testpred)"
      ]
    },
    {
      "cell_type": "code",
      "execution_count": 44,
      "metadata": {
        "id": "bTaK1U3HrggN",
        "outputId": "cfde86c1-348d-403d-d2ee-64165e1e9998",
        "colab": {
          "base_uri": "https://localhost:8080/"
        }
      },
      "outputs": [
        {
          "output_type": "execute_result",
          "data": {
            "text/plain": [
              "DC          category\n",
              "KNN         category\n",
              "Logistic    category\n",
              "dtype: object"
            ]
          },
          "metadata": {},
          "execution_count": 44
        }
      ],
      "source": [
        "stack_model_pred.dtypes"
      ]
    },
    {
      "cell_type": "code",
      "execution_count": 45,
      "metadata": {
        "id": "nxzGGxzXrggO",
        "outputId": "9a7d5b2d-a471-4ae9-fb04-9161bde765fd",
        "colab": {
          "base_uri": "https://localhost:8080/",
          "height": 81
        }
      },
      "outputs": [
        {
          "output_type": "execute_result",
          "data": {
            "text/plain": [
              "   DC_FE  DC_UE  DC_W  KNN_FE  KNN_UE  KNN_W  Logistic_FE  Logistic_UE  \\\n",
              "0      0      1     0       0       1      0            0            1   \n",
              "\n",
              "   Logistic_W  \n",
              "0           0  "
            ],
            "text/html": [
              "\n",
              "  <div id=\"df-72795043-1b03-4d25-8194-604fd11f6887\">\n",
              "    <div class=\"colab-df-container\">\n",
              "      <div>\n",
              "<style scoped>\n",
              "    .dataframe tbody tr th:only-of-type {\n",
              "        vertical-align: middle;\n",
              "    }\n",
              "\n",
              "    .dataframe tbody tr th {\n",
              "        vertical-align: top;\n",
              "    }\n",
              "\n",
              "    .dataframe thead th {\n",
              "        text-align: right;\n",
              "    }\n",
              "</style>\n",
              "<table border=\"1\" class=\"dataframe\">\n",
              "  <thead>\n",
              "    <tr style=\"text-align: right;\">\n",
              "      <th></th>\n",
              "      <th>DC_FE</th>\n",
              "      <th>DC_UE</th>\n",
              "      <th>DC_W</th>\n",
              "      <th>KNN_FE</th>\n",
              "      <th>KNN_UE</th>\n",
              "      <th>KNN_W</th>\n",
              "      <th>Logistic_FE</th>\n",
              "      <th>Logistic_UE</th>\n",
              "      <th>Logistic_W</th>\n",
              "    </tr>\n",
              "  </thead>\n",
              "  <tbody>\n",
              "    <tr>\n",
              "      <th>0</th>\n",
              "      <td>0</td>\n",
              "      <td>1</td>\n",
              "      <td>0</td>\n",
              "      <td>0</td>\n",
              "      <td>1</td>\n",
              "      <td>0</td>\n",
              "      <td>0</td>\n",
              "      <td>1</td>\n",
              "      <td>0</td>\n",
              "    </tr>\n",
              "  </tbody>\n",
              "</table>\n",
              "</div>\n",
              "      <button class=\"colab-df-convert\" onclick=\"convertToInteractive('df-72795043-1b03-4d25-8194-604fd11f6887')\"\n",
              "              title=\"Convert this dataframe to an interactive table.\"\n",
              "              style=\"display:none;\">\n",
              "        \n",
              "  <svg xmlns=\"http://www.w3.org/2000/svg\" height=\"24px\"viewBox=\"0 0 24 24\"\n",
              "       width=\"24px\">\n",
              "    <path d=\"M0 0h24v24H0V0z\" fill=\"none\"/>\n",
              "    <path d=\"M18.56 5.44l.94 2.06.94-2.06 2.06-.94-2.06-.94-.94-2.06-.94 2.06-2.06.94zm-11 1L8.5 8.5l.94-2.06 2.06-.94-2.06-.94L8.5 2.5l-.94 2.06-2.06.94zm10 10l.94 2.06.94-2.06 2.06-.94-2.06-.94-.94-2.06-.94 2.06-2.06.94z\"/><path d=\"M17.41 7.96l-1.37-1.37c-.4-.4-.92-.59-1.43-.59-.52 0-1.04.2-1.43.59L10.3 9.45l-7.72 7.72c-.78.78-.78 2.05 0 2.83L4 21.41c.39.39.9.59 1.41.59.51 0 1.02-.2 1.41-.59l7.78-7.78 2.81-2.81c.8-.78.8-2.07 0-2.86zM5.41 20L4 18.59l7.72-7.72 1.47 1.35L5.41 20z\"/>\n",
              "  </svg>\n",
              "      </button>\n",
              "      \n",
              "  <style>\n",
              "    .colab-df-container {\n",
              "      display:flex;\n",
              "      flex-wrap:wrap;\n",
              "      gap: 12px;\n",
              "    }\n",
              "\n",
              "    .colab-df-convert {\n",
              "      background-color: #E8F0FE;\n",
              "      border: none;\n",
              "      border-radius: 50%;\n",
              "      cursor: pointer;\n",
              "      display: none;\n",
              "      fill: #1967D2;\n",
              "      height: 32px;\n",
              "      padding: 0 0 0 0;\n",
              "      width: 32px;\n",
              "    }\n",
              "\n",
              "    .colab-df-convert:hover {\n",
              "      background-color: #E2EBFA;\n",
              "      box-shadow: 0px 1px 2px rgba(60, 64, 67, 0.3), 0px 1px 3px 1px rgba(60, 64, 67, 0.15);\n",
              "      fill: #174EA6;\n",
              "    }\n",
              "\n",
              "    [theme=dark] .colab-df-convert {\n",
              "      background-color: #3B4455;\n",
              "      fill: #D2E3FC;\n",
              "    }\n",
              "\n",
              "    [theme=dark] .colab-df-convert:hover {\n",
              "      background-color: #434B5C;\n",
              "      box-shadow: 0px 1px 3px 1px rgba(0, 0, 0, 0.15);\n",
              "      filter: drop-shadow(0px 1px 2px rgba(0, 0, 0, 0.3));\n",
              "      fill: #FFFFFF;\n",
              "    }\n",
              "  </style>\n",
              "\n",
              "      <script>\n",
              "        const buttonEl =\n",
              "          document.querySelector('#df-72795043-1b03-4d25-8194-604fd11f6887 button.colab-df-convert');\n",
              "        buttonEl.style.display =\n",
              "          google.colab.kernel.accessAllowed ? 'block' : 'none';\n",
              "\n",
              "        async function convertToInteractive(key) {\n",
              "          const element = document.querySelector('#df-72795043-1b03-4d25-8194-604fd11f6887');\n",
              "          const dataTable =\n",
              "            await google.colab.kernel.invokeFunction('convertToInteractive',\n",
              "                                                     [key], {});\n",
              "          if (!dataTable) return;\n",
              "\n",
              "          const docLinkHtml = 'Like what you see? Visit the ' +\n",
              "            '<a target=\"_blank\" href=https://colab.research.google.com/notebooks/data_table.ipynb>data table notebook</a>'\n",
              "            + ' to learn more about interactive tables.';\n",
              "          element.innerHTML = '';\n",
              "          dataTable['output_type'] = 'display_data';\n",
              "          await google.colab.output.renderOutput(dataTable, element);\n",
              "          const docLink = document.createElement('div');\n",
              "          docLink.innerHTML = docLinkHtml;\n",
              "          element.appendChild(docLink);\n",
              "        }\n",
              "      </script>\n",
              "    </div>\n",
              "  </div>\n",
              "  "
            ]
          },
          "metadata": {},
          "execution_count": 45
        }
      ],
      "source": [
        "stack_model_pred_dummy.head(1)"
      ]
    },
    {
      "cell_type": "markdown",
      "metadata": {
        "id": "5hgkwj0brggO"
      },
      "source": [
        "## Buidling a meta classifier"
      ]
    },
    {
      "cell_type": "code",
      "execution_count": 46,
      "metadata": {
        "id": "ieluGJetrggO",
        "outputId": "dbd7e59b-b27b-42a7-becb-0c9b4bb254ae",
        "colab": {
          "base_uri": "https://localhost:8080/"
        }
      },
      "outputs": [
        {
          "output_type": "execute_result",
          "data": {
            "text/plain": [
              "LogisticRegression()"
            ]
          },
          "metadata": {},
          "execution_count": 46
        }
      ],
      "source": [
        "metaclassifier=LogisticRegression()\n",
        "metaclassifier.fit(stack_model_pred_dummy,y_train)"
      ]
    },
    {
      "cell_type": "code",
      "execution_count": 47,
      "metadata": {
        "id": "q31yObsIrggO",
        "outputId": "af63e312-88f5-4e99-de54-522f339f361a",
        "colab": {
          "base_uri": "https://localhost:8080/"
        }
      },
      "outputs": [
        {
          "output_type": "stream",
          "name": "stdout",
          "text": [
            "train accuracy: 1.0\n",
            "test accuracy: 0.8188632104934416\n"
          ]
        }
      ],
      "source": [
        "train_pred = metaclassifier.predict(stack_model_pred_dummy)\n",
        "print(\"train accuracy:\",accuracy_score(y_train,train_pred))\n",
        "\n",
        "#y_pred = metaclassifier.predict()\n",
        "y_testpred = metaclassifier.predict(stack_model_pred_testdummy)\n",
        "print(\"test accuracy:\",accuracy_score(y_test,y_testpred))"
      ]
    },
    {
      "cell_type": "code",
      "source": [
        ""
      ],
      "metadata": {
        "id": "LGFCPNfbEHSJ"
      },
      "execution_count": null,
      "outputs": []
    },
    {
      "cell_type": "code",
      "source": [
        ""
      ],
      "metadata": {
        "id": "U_ebwuH6F5GK"
      },
      "execution_count": null,
      "outputs": []
    },
    {
      "cell_type": "code",
      "source": [
        ""
      ],
      "metadata": {
        "id": "uNtYPgMKF5DS"
      },
      "execution_count": null,
      "outputs": []
    },
    {
      "cell_type": "code",
      "source": [
        ""
      ],
      "metadata": {
        "id": "apjIo1aoF5AD"
      },
      "execution_count": null,
      "outputs": []
    },
    {
      "cell_type": "code",
      "source": [
        ""
      ],
      "metadata": {
        "id": "JxECnVjjF1mr"
      },
      "execution_count": null,
      "outputs": []
    },
    {
      "cell_type": "markdown",
      "metadata": {
        "id": "r5ZLSzqWr3oz"
      },
      "source": [
        "### ***Check the error for training and validation over the iterations"
      ]
    },
    {
      "cell_type": "code",
      "execution_count": null,
      "metadata": {
        "scrolled": true,
        "id": "yL33O93or3oz"
      },
      "outputs": [],
      "source": [
        "eval_set = [(X_train, y_train), (X_test, y_test)]\n",
        "xgb_model.fit(X_train,y_train,eval_set=eval_set,verbose=True)"
      ]
    },
    {
      "cell_type": "code",
      "execution_count": null,
      "metadata": {
        "id": "QZjbQP2Wr3o0",
        "outputId": "27cad352-9b7a-4e42-8689-2b83025eeef7",
        "colab": {
          "base_uri": "https://localhost:8080/"
        }
      },
      "outputs": [
        {
          "output_type": "execute_result",
          "data": {
            "text/plain": [
              "200"
            ]
          },
          "metadata": {},
          "execution_count": 56
        }
      ],
      "source": [
        "# get the evaluation results of both training and testing sets\n",
        "results = xgb_model.evals_result()\n",
        "epochs = len(results['validation_0']['merror'])\n",
        "epochs"
      ]
    },
    {
      "cell_type": "markdown",
      "metadata": {
        "id": "dpdb0O1Or3o0"
      },
      "source": [
        "#### ***plot the error of train and test(validation) over the iterations"
      ]
    },
    {
      "cell_type": "code",
      "execution_count": null,
      "metadata": {
        "id": "Ajegk0qwr3o1",
        "outputId": "f027e61b-1caf-429d-e185-374420f9d885",
        "colab": {
          "base_uri": "https://localhost:8080/",
          "height": 281
        }
      },
      "outputs": [
        {
          "output_type": "display_data",
          "data": {
            "text/plain": [
              "<Figure size 432x288 with 1 Axes>"
            ],
            "image/png": "[encoded data removed]"
          },
          "metadata": {
            "needs_background": "light"
          }
        }
      ],
      "source": [
        "from matplotlib  import pyplot\n",
        "x_axis = range(0, epochs)\n",
        "# plot classification error\n",
        "fig, ax = pyplot.subplots()\n",
        "ax.plot(x_axis, results['validation_0']['merror'], label='Train')\n",
        "ax.plot(x_axis, results['validation_1']['merror'], label='Test')\n",
        "ax.legend()\n",
        "pyplot.ylabel('Classification Error')\n",
        "pyplot.title('XGBoost Classification Error')\n",
        "pyplot.show()"
      ]
    },
    {
      "cell_type": "markdown",
      "metadata": {
        "id": "prxpCX6Br3o1"
      },
      "source": [
        "***observation: aftert 70 iterations there is not much decrease in test error and train is getting overfitted.\n",
        "Is it really required to iterate for 200 iterations\n",
        "    "
      ]
    },
    {
      "cell_type": "markdown",
      "metadata": {
        "id": "rWNSVngvr3o1"
      },
      "source": [
        "### ***reduce the training time of xgboost-  early_stopping_rounds parameter "
      ]
    },
    {
      "cell_type": "code",
      "execution_count": null,
      "metadata": {
        "id": "DX14Drblr3o1"
      },
      "outputs": [],
      "source": [
        "xgb_model.fit(X_train,y_train,eval_set=eval_set,early_stopping_rounds=10,verbose=True)"
      ]
    },
    {
      "cell_type": "code",
      "execution_count": null,
      "metadata": {
        "id": "75PeARuOr3o2",
        "outputId": "432b6bb3-7ce8-4484-91d2-996e4aa652a3",
        "colab": {
          "base_uri": "https://localhost:8080/"
        }
      },
      "outputs": [
        {
          "output_type": "stream",
          "name": "stdout",
          "text": [
            "0.9028878098645541\n",
            "0.8712972420837589\n"
          ]
        }
      ],
      "source": [
        "trainpreds=xgb_model.predict(X_train)\n",
        "print(accuracy_score(y_train,trainpreds))# accuracy\n",
        "testpreds=xgb_model.predict(X_test)\n",
        "print(accuracy_score(y_test,testpreds))# accuracy"
      ]
    },
    {
      "cell_type": "code",
      "source": [
        "XGBClassifier()"
      ],
      "metadata": {
        "id": "yPeGdZovD37Y"
      },
      "execution_count": null,
      "outputs": []
    },
    {
      "cell_type": "code",
      "source": [
        ""
      ],
      "metadata": {
        "id": "qXzRkhEQAwXB"
      },
      "execution_count": null,
      "outputs": []
    }
  ],
  "metadata": {
    "anaconda-cloud": {},
    "kernelspec": {
      "display_name": "Python 3",
      "language": "python",
      "name": "python3"
    },
    "language_info": {
      "codemirror_mode": {
        "name": "ipython",
        "version": 3
      },
      "file_extension": ".py",
      "mimetype": "text/x-python",
      "name": "python",
      "nbconvert_exporter": "python",
      "pygments_lexer": "ipython3",
      "version": "3.6.8"
    },
    "colab": {
      "name": "117_Boosting.ipynb",
      "provenance": []
    }
  },
  "nbformat": 4,
  "nbformat_minor": 0
}